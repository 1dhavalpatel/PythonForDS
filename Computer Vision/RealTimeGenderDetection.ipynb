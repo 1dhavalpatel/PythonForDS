{
  "cells": [
    {
      "cell_type": "markdown",
      "metadata": {
        "id": "MbcJ9Xr7eZ3G"
      },
      "source": [
        "## Install required libraries"
      ]
    },
    {
      "cell_type": "code",
      "execution_count": null,
      "metadata": {
        "colab": {
          "base_uri": "https://localhost:8080/"
        },
        "id": "zwp6TD7qeZ3K",
        "outputId": "af325c6b-6d7c-4879-8393-2c8348f06f23"
      },
      "outputs": [
        {
          "name": "stdout",
          "output_type": "stream",
          "text": [
            "Requirement already satisfied: opencv-python in /usr/local/lib/python3.7/dist-packages (4.1.2.30)\n",
            "Requirement already satisfied: numpy>=1.14.5 in /usr/local/lib/python3.7/dist-packages (from opencv-python) (1.21.6)\n"
          ]
        }
      ],
      "source": [
        "#!pip install opencv-python"
      ]
    },
    {
      "cell_type": "code",
      "execution_count": 4,
      "metadata": {
        "colab": {
          "base_uri": "https://localhost:8080/"
        },
        "id": "rIvPCSqafv_n",
        "outputId": "3517605a-f079-40ac-b72d-ad39c30b769e"
      },
      "outputs": [
        {
          "output_type": "stream",
          "name": "stdout",
          "text": [
            "Collecting cvlib\n",
            "  Downloading cvlib-0.2.7.tar.gz (13.1 MB)\n",
            "\u001b[K     |████████████████████████████████| 13.1 MB 6.8 MB/s \n",
            "\u001b[?25hRequirement already satisfied: numpy in /usr/local/lib/python3.7/dist-packages (from cvlib) (1.21.6)\n",
            "Collecting progressbar\n",
            "  Downloading progressbar-2.5.tar.gz (10 kB)\n",
            "Requirement already satisfied: requests in /usr/local/lib/python3.7/dist-packages (from cvlib) (2.23.0)\n",
            "Requirement already satisfied: pillow in /usr/local/lib/python3.7/dist-packages (from cvlib) (7.1.2)\n",
            "Requirement already satisfied: imageio in /usr/local/lib/python3.7/dist-packages (from cvlib) (2.4.1)\n",
            "Requirement already satisfied: imutils in /usr/local/lib/python3.7/dist-packages (from cvlib) (0.5.4)\n",
            "Requirement already satisfied: certifi>=2017.4.17 in /usr/local/lib/python3.7/dist-packages (from requests->cvlib) (2021.10.8)\n",
            "Requirement already satisfied: idna<3,>=2.5 in /usr/local/lib/python3.7/dist-packages (from requests->cvlib) (2.10)\n",
            "Requirement already satisfied: urllib3!=1.25.0,!=1.25.1,<1.26,>=1.21.1 in /usr/local/lib/python3.7/dist-packages (from requests->cvlib) (1.24.3)\n",
            "Requirement already satisfied: chardet<4,>=3.0.2 in /usr/local/lib/python3.7/dist-packages (from requests->cvlib) (3.0.4)\n",
            "Building wheels for collected packages: cvlib, progressbar\n",
            "  Building wheel for cvlib (setup.py) ... \u001b[?25l\u001b[?25hdone\n",
            "  Created wheel for cvlib: filename=cvlib-0.2.7-py3-none-any.whl size=10046385 sha256=a087906ab3e5dafdd961ff1917f46aafd507169dd982765c12e156ab7a29a36b\n",
            "  Stored in directory: /root/.cache/pip/wheels/8e/d7/31/bc643bd3a8b11a7368b1ab1d8a6299b33b462ed0b0683ddc5a\n",
            "  Building wheel for progressbar (setup.py) ... \u001b[?25l\u001b[?25hdone\n",
            "  Created wheel for progressbar: filename=progressbar-2.5-py3-none-any.whl size=12082 sha256=7205818c1d13c406a028aced52540948f7fd9eca2ef10d1678864e5d35785ef3\n",
            "  Stored in directory: /root/.cache/pip/wheels/f0/fd/1f/3e35ed57e94cd8ced38dd46771f1f0f94f65fec548659ed855\n",
            "Successfully built cvlib progressbar\n",
            "Installing collected packages: progressbar, cvlib\n",
            "Successfully installed cvlib-0.2.7 progressbar-2.5\n"
          ]
        }
      ],
      "source": [
        "#!pip install cvlib"
      ]
    },
    {
      "cell_type": "markdown",
      "metadata": {
        "id": "3UdagwpxeZ3M"
      },
      "source": [
        "## Import required libraries"
      ]
    },
    {
      "cell_type": "code",
      "execution_count": 5,
      "metadata": {
        "id": "kzWgXsxceZ3N"
      },
      "outputs": [],
      "source": [
        "import cv2\n",
        "import cvlib as cv\n",
        "import sys\n",
        "import numpy as np\n",
        "\n",
        "from google.colab.patches import cv2_imshow"
      ]
    },
    {
      "cell_type": "markdown",
      "metadata": {
        "id": "MPa8jU1YmA25"
      },
      "source": [
        "## Open webcam and capture video"
      ]
    },
    {
      "cell_type": "code",
      "execution_count": 6,
      "metadata": {
        "id": "FX-RE-mBeZ3N"
      },
      "outputs": [],
      "source": [
        "webcam = cv2.VideoCapture(0)"
      ]
    },
    {
      "cell_type": "markdown",
      "metadata": {
        "id": "CXqLA5zNl6oy"
      },
      "source": [
        "## Detect face from webcam frame"
      ]
    },
    {
      "cell_type": "code",
      "execution_count": 7,
      "metadata": {
        "id": "0Tfl51VNeZ3P"
      },
      "outputs": [],
      "source": [
        "padding = 20\n",
        "\n",
        "while webcam.isOpened():\n",
        "    status, frame = webcam.read()\n",
        "    face, confidence = cv.detect_face(frame)\n",
        "    for idx, f in enumerate(face):        \n",
        "        (startX,startY) = max(0, f[0]-padding), max(0, f[1]-padding)\n",
        "        (endX,endY) = min(frame.shape[1]-1, f[2]+padding), min(frame.shape[0]-1, f[3]+padding)\n",
        "        cv2.rectangle(frame, (startX,startY), (endX,endY), (0,255,0), 2)\n",
        "        face_crop = np.copy(frame[startY:endY, startX:endX]) \n",
        "        (label, confidence) = cv.detect_gender(face_crop)\n",
        "        idx = np.argmax(confidence)\n",
        "        label = label[idx]\n",
        "        label = \"{}: {:.2f}%\".format(label, confidence[idx] * 100)\n",
        "        Y = startY - 10 if startY - 10 > 10 else startY + 10\n",
        "        cv2.putText(frame, label, (startX,Y), cv2.FONT_HERSHEY_SIMPLEX, 0.7,(0,255,0), 2)\n",
        "    #cv2.imshow(\"Real-time gender detection\", frame)\n",
        "    \n",
        "    #cv2.imshow is not supported in Google Colab, so using its replacement function here\n",
        "    cv2_imshow(frame)\n",
        "    # press \"s\" to stop\n",
        "    if cv2.waitKey(1) & 0xFF == ord('s'):\n",
        "        break"
      ]
    },
    {
      "cell_type": "markdown",
      "metadata": {
        "id": "O8p195eRmlFD"
      },
      "source": [
        "## Relese webcam & Clear all windows"
      ]
    },
    {
      "cell_type": "code",
      "execution_count": null,
      "metadata": {
        "id": "f_MC-gmsgNTF"
      },
      "outputs": [],
      "source": [
        "webcam.release()\n",
        "cv2.destroyAllWindows()"
      ]
    }
  ],
  "metadata": {
    "colab": {
      "name": "RealTimeGenderDetection.ipynb",
      "provenance": [],
      "toc_visible": true
    },
    "kernelspec": {
      "display_name": "Python [conda env:root] *",
      "language": "python",
      "name": "conda-root-py"
    },
    "language_info": {
      "codemirror_mode": {
        "name": "ipython",
        "version": 3
      },
      "file_extension": ".py",
      "mimetype": "text/x-python",
      "name": "python",
      "nbconvert_exporter": "python",
      "pygments_lexer": "ipython3",
      "version": "3.8.5"
    }
  },
  "nbformat": 4,
  "nbformat_minor": 0
}