{
 "cells": [
  {
   "cell_type": "code",
   "execution_count": 1,
   "metadata": {
    "scrolled": true
   },
   "outputs": [],
   "source": [
    "#!pip3 install --ignore-installed PyYAML langchain"
   ]
  },
  {
   "cell_type": "code",
   "execution_count": 2,
   "metadata": {},
   "outputs": [],
   "source": [
    "from langchain import OpenAI, PromptTemplate, LLMChain\n",
    "from langchain.text_splitter import CharacterTextSplitter\n",
    "from langchain.chains.mapreduce import MapReduceChain\n",
    "from langchain.prompts import PromptTemplate\n",
    "from langchain.llms import AzureOpenAI"
   ]
  },
  {
   "cell_type": "markdown",
   "metadata": {},
   "source": [
    "### LLM"
   ]
  },
  {
   "cell_type": "code",
   "execution_count": 3,
   "metadata": {},
   "outputs": [],
   "source": [
    "# configure the openai package to use Azure OpenAI\n",
    "# Ideally set these variables using environment variables\n",
    "# replace the XX with your API \n",
    "\n",
    "import os\n",
    "os.environ[\"OPENAI_API_TYPE\"] = \"azure\"\n",
    "os.environ[\"OPENAI_API_VERSION\"]  = '2022-12-01'\n",
    "os.environ[\"OPENAI_API_BASE\"]  =  \"https://XXXXXXXXXXX.openai.azure.com/\"\n",
    "os.environ[\"OPENAI_API_KEY\"]  = \"XXXXXXXXXXXXXXXXXXX\""
   ]
  },
  {
   "cell_type": "code",
   "execution_count": 4,
   "metadata": {},
   "outputs": [
    {
     "name": "stderr",
     "output_type": "stream",
     "text": [
      "WARNING! engine is not default parameter.\n",
      "                    engine was transferred to model_kwargs.\n",
      "                    Please confirm that engine is what you intended.\n"
     ]
    }
   ],
   "source": [
    "from langchain.llms import AzureOpenAI\n",
    "\n",
    "deployment_name='text-davinci-003'\n",
    "\n",
    "llm = AzureOpenAI(engine=deployment_name, temperature=0)"
   ]
  },
  {
   "cell_type": "markdown",
   "metadata": {},
   "source": [
    "### Read doc and split the text"
   ]
  },
  {
   "cell_type": "code",
   "execution_count": 29,
   "metadata": {},
   "outputs": [
    {
     "data": {
      "text/plain": [
       "<langchain.text_splitter.CharacterTextSplitter at 0x299d87ccbb0>"
      ]
     },
     "execution_count": 29,
     "metadata": {},
     "output_type": "execute_result"
    }
   ],
   "source": [
    "text_splitter = CharacterTextSplitter()\n",
    "text_splitter"
   ]
  },
  {
   "cell_type": "code",
   "execution_count": 30,
   "metadata": {},
   "outputs": [],
   "source": [
    "# Input file is created from --> https://en.wikipedia.org/wiki/Prime_Minister_of_India#Origins_and_history\n",
    "\n",
    "with open(\"IndiaPMs.txt\", encoding=\"utf8\") as f:\n",
    "    state_of_the_union = f.read()\n",
    "texts = text_splitter.split_text(state_of_the_union)"
   ]
  },
  {
   "cell_type": "code",
   "execution_count": 31,
   "metadata": {},
   "outputs": [
    {
     "data": {
      "text/plain": [
       "[\"Since 1947, there have been 14 different prime ministers.[a] The first few decades after 1947 saw the Indian National Congress' (INC) near complete domination over the political map of India. India's first prime minister—Jawaharlal Nehru—took oath on 15 August 1947. Nehru went on to serve as prime minister for 17 consecutive years, winning four general elections in the process. His tenure ended in May 1964, on his death.[16][17] After the death of Nehru, Lal Bahadur Shastri—a former home minister and a leader of the Congress party—ascended to the position of prime minister. Shastri's tenure saw the Indo-Pakistani War of 1965. Shashtri subsequently died of a reported heart attack in Tashkent, after signing the Tashkent Declaration.[18]\\n\\nAfter Shastri, Indira Gandhi—Nehru's daughter—was elected as the country's first woman prime minister. Indira's first term in office lasted 11 years, in which she took steps such as nationalisation of banks;[19] end of allowances and political posts, which were received by members of the royal families of the erstwhile princely states of India.[20][21] In addition, events such as the Indo-Pakistani War of 1971;[22] the establishment of a sovereign Bangladesh;[23] accession of Sikkim to India, through a referendum in 1975;[24] and India's first nuclear test in Pokhran occurred during Indira's first term. In 1975, President Fakhruddin Ali Ahmed—on Indira's advice—imposed a state of emergency, therefore, bestowing the government with the power to rule by decree, the period is known for human right violations.[25][26]\\n\\nAfter widespread protests, the emergency was lifted in 1977, and a general election was to be held. All of the political parties of the opposition—after the conclusion of the emergency—fought together against the Congress, under the umbrella of the Janata Party, in the general election of 1977, and were successful in defeating the Congress. Subsequently, Morarji Desai—a former deputy prime minister—became the first non-Congress prime minister of India. The government of prime minister Desai was composed of groups with opposite ideologies, in which unity and co-ordination were difficult to maintain. Ultimately, after two and a half years as PM; on 28 July 1979, Morarji tendered his resignation to the president; and his government fell. Thereafter, Charan Singh—a deputy prime minister in Desai's cabinet—with outside, conditional support from Congress, proved a majority in Lok Sabha and took oath as prime minister.[27][28] However, Congress pulled its support shortly after, and Singh had to resign; he had a tenure of 5 months, the shortest in the history of the office.\\n\\n\\nShah Mohammad Reza Pahlavi and Shahbanu Farah Pahlavi of Iran being received by prime minister Indira Gandhi at New Delhi airport, 1970\\n\\nUS President Jimmy Carter (right) with Prime minister Morarji Desai, 1978\\nIn 1980, after a three-year absence, the Congress returned to power with an absolute majority. Indira Gandhi was elected prime minister a second time.[29] During her second tenure, Operation Blue Star—an Indian Army operation inside the Golden Temple, the most sacred site in Sikhism—was conducted, resulting in reportedly thousands of deaths.[30] Subsequently, on 31 October 1984, Gandhi was shot dead by Satwant Singh and Beant Singh—two of her bodyguards—in the garden of her residence at 1, Safdarjung Road, New Delhi.[31]\",\n",
       " \"After Indira, Rajiv—her eldest son and 40 years old at the time—was sworn in on the evening of 31 October 1984, becoming the youngest person ever to hold the office of prime minister. Rajiv immediately called for a general election. In the subsequent general election, the Congress secured an absolute majority, winning 401 of 552 seats in the Lok Sabha, the maximum number received by any party in the history of India.[32][33] Vishwanath Pratap Singh—first finance minister and then later defence minister in Gandhi's cabinet—uncovered irregularities, in what became known as the Bofors scandal, during his stint at the Ministry of Defence; Singh was subsequently expelled from Congress and formed the Janata Dal and—with the help of several anti-Congress parties—also formed the National Front, a coalition of many political parties.[34]\\n\\nIn the general election of 1989, the National Front—with outside support from the Bharatiya Janata Party (BJP) and the Left Front—came to power.[35] V. P. Singh was elected prime minister.[35] During a tenure of less than a year, Singh and his government accepted the Mandal Commission's recommendations.[36] Singh's tenure came to an end after he ordered the arrest of BJP member Lal Krishna Advani,[37] as a result, BJP withdrew its outside support to the government, V. P. Singh lost the subsequent vote-of-no-confidence 146–320 and had to resign.[38] After V. P. Singh's resignation, Chandra Shekhar along with 64 members of parliament (MPs) floated the Samajwadi Janata Party (Rashtriya),[39] and proved a majority in the Lok Sabha with support from Congress.[40] But Shekhar's premiership did not last long, Congress proceeded to withdraw its support; Shekhar's government fell as a result, and new elections were announced.[41]\\n\\nIn the general election of 1991, Congress—under the leadership of P. V. Narasimha Rao—formed a minority government; Rao became the first PM of South Indian origin.[42] After the dissolution of the Soviet Union, India was on the brink of bankruptcy, so, Rao took steps to liberalise the economy, and appointed Manmohan Singh—an economist and a former governor of the Reserve Bank of India—as finance minister.[42] Rao and Singh then took various steps to liberalise the economy,[42] these resulted in an unprecedented economic growth in India.[43] His premiership, however, was also a witness to the demolition of the Babri Masjid, which resulted in the death of about 2,000 people.[44] Rao, however, did complete five continuous years in office, becoming the first prime minister outside of the Nehru—Gandhi family to do so.[42]\\n\\n\\nQueen Beatrix of the Netherlands, left with PM Rajiv Gandhi, Prince Claus, and Sonia Gandhi, The Hague, 1985\",\n",
       " \"Queen Beatrix of the Netherlands, left with PM Rajiv Gandhi, Prince Claus, and Sonia Gandhi, The Hague, 1985\\n\\nPrime Minister P. V. Narasimha Rao, left, inaugurating the National Science Centre, New Delhi, 1 September 1992\\nAfter the end of Rao's tenure in May 1996, the nation saw four prime ministers in a span of three years, viz., two tenures of Atal Bihari Vajpayee; one tenure of H. D. Deve Gowda from 1 June 1996 to 21 April 1997; and one tenure of I. K. Gujral from 21 April 1997 to 19 March 1998. The government of Prime Minister Vajpayee—elected in 1998—took some concrete steps. In May 1998—after a month in power—the government announced the conduct of five underground nuclear explosions in Pokhran.[45] In response to these tests, many western countries, including the United States, imposed economic sanctions on India,[46] but, due to the support received from Russia, France, the Gulf countries and some other nations, the sanctions—were largely—not considered successful.[47][48] A few months later in response to the Indian nuclear tests, Pakistan also conducted nuclear tests.[49] Given the deteriorating situation between the two countries, the governments tried to improve bilateral relations. In February 1999, the India and Pakistan signed the Lahore Declaration, in which the two countries announced their intention to annul mutual enmity, increase trade and use their nuclear capabilities for peaceful purposes.[50] In May 1999, All India Anna Dravida Munnetra Kazhagam withdrew from the ruling National Democratic Alliance (NDA) coalition;[51] Vajpayee's government, hence, became a caretaker one after losing a motion-of-no-confidence 269–270, this coincided with the Kargil War with Pakistan.[52] In the subsequent October 1999 general election, the BJP-led NDA and its affiliated parties secured a comfortable majority in the Lok Sabha, winning 299 of 543 seats in the lower house.[53]\\n\\nFormer Prime Minister Dr. Manmohan Singh with the former Prime Minister Shri Atal Bihari Vajpayee in New Delhi on May 24, 2004\\n\\nPrime minister Narendra Modi addressing the 69th United Nations General Assembly, c. 2014\\nVajpayee continued the process of economic liberalisation during his reign, resulting in economic growth.[54] In addition to the development of infrastructure and basic facilities, the government took several steps to improve the infrastructure of the country, such as, the National Highways Development Project (NHDP) and the Pradhan Mantri Gram Sadak Yojana (PMGSY; IAST: Pradhānamaṃtrī Grāma Saḍaka Yojanā; lit. Prime Minister Rural Road Scheme),[55] for the development of roads. But during his reign, the 2002 Gujarat communal riots in the state of Gujarat took place; resulting in about 2,000 deaths.[56] Vajpayee's tenure as prime minister came to an end in May 2004, making him the first non-Congress PM to complete a full five-year tenure.[54]\",\n",
       " \"In the 2004 election, the Congress emerged as the largest party in a hung parliament; Congress-led United Progressive Alliance (UPA)—with outside support from the Left Front, the Samajwadi Party (SP) and Bahujan Samaj Party (BSP) among others—proved a majority in the Lok Sabha,[57] and Manmohan Singh was elected prime minister; becoming the first Sikh prime minister of the nation.[57] During his tenure, the country retained the economic momentum gained during Prime Minister Vajpayee's tenure.[58] Apart from this, the government succeeded in getting the National Rural Employment Guarantee Act, 2005, and the Right to Information Act, 2005 passed in the parliament.[59][60] Further, the government strengthened India's relations with nations like Afghanistan;[61][62] Russia;[63] the Gulf states; and the United States, culminating with the ratification of India–United States Civil Nuclear Agreement near the end of Singh's first term.[64][65][66] At the same time, the November 2008 Mumbai terrorist attacks also happened during Singh's first term in office.[67][68] In the general election of 2009, the mandate of UPA increased.[69][70] Prime Minister Singh's second term, however, was surrounded by accusations of high-level scandals and corruption.[71][72] Singh resigned as prime minister on 17 May 2014, after Congress' defeat in the 2014 general election.[73][74][75]\\n\\nIn the general election of 2014, the BJP-led NDA got an absolute majority, winning 336 out of 543 Lok Sabha seats; the BJP itself became the first party since 1984 to get a majority in the Lok Sabha. Narendra Modi—the Chief Minister of Gujarat—was elected prime minister, becoming the first prime minister to have been born in an independent India.[76]\\n\\nNarendra Modi was re-elected as prime minister in 2019 with a bigger mandate than that of 2014. The BJP-led NDA winning 354 seats out of which BJP secured 303 seats.[77]\"]"
      ]
     },
     "execution_count": 31,
     "metadata": {},
     "output_type": "execute_result"
    }
   ],
   "source": [
    "texts"
   ]
  },
  {
   "cell_type": "code",
   "execution_count": 32,
   "metadata": {},
   "outputs": [],
   "source": [
    "from langchain.docstore.document import Document\n",
    "\n",
    "docs = [Document(page_content=t) for t in texts[:3]]"
   ]
  },
  {
   "cell_type": "code",
   "execution_count": 33,
   "metadata": {},
   "outputs": [
    {
     "data": {
      "text/plain": [
       "[Document(page_content=\"Since 1947, there have been 14 different prime ministers.[a] The first few decades after 1947 saw the Indian National Congress' (INC) near complete domination over the political map of India. India's first prime minister—Jawaharlal Nehru—took oath on 15 August 1947. Nehru went on to serve as prime minister for 17 consecutive years, winning four general elections in the process. His tenure ended in May 1964, on his death.[16][17] After the death of Nehru, Lal Bahadur Shastri—a former home minister and a leader of the Congress party—ascended to the position of prime minister. Shastri's tenure saw the Indo-Pakistani War of 1965. Shashtri subsequently died of a reported heart attack in Tashkent, after signing the Tashkent Declaration.[18]\\n\\nAfter Shastri, Indira Gandhi—Nehru's daughter—was elected as the country's first woman prime minister. Indira's first term in office lasted 11 years, in which she took steps such as nationalisation of banks;[19] end of allowances and political posts, which were received by members of the royal families of the erstwhile princely states of India.[20][21] In addition, events such as the Indo-Pakistani War of 1971;[22] the establishment of a sovereign Bangladesh;[23] accession of Sikkim to India, through a referendum in 1975;[24] and India's first nuclear test in Pokhran occurred during Indira's first term. In 1975, President Fakhruddin Ali Ahmed—on Indira's advice—imposed a state of emergency, therefore, bestowing the government with the power to rule by decree, the period is known for human right violations.[25][26]\\n\\nAfter widespread protests, the emergency was lifted in 1977, and a general election was to be held. All of the political parties of the opposition—after the conclusion of the emergency—fought together against the Congress, under the umbrella of the Janata Party, in the general election of 1977, and were successful in defeating the Congress. Subsequently, Morarji Desai—a former deputy prime minister—became the first non-Congress prime minister of India. The government of prime minister Desai was composed of groups with opposite ideologies, in which unity and co-ordination were difficult to maintain. Ultimately, after two and a half years as PM; on 28 July 1979, Morarji tendered his resignation to the president; and his government fell. Thereafter, Charan Singh—a deputy prime minister in Desai's cabinet—with outside, conditional support from Congress, proved a majority in Lok Sabha and took oath as prime minister.[27][28] However, Congress pulled its support shortly after, and Singh had to resign; he had a tenure of 5 months, the shortest in the history of the office.\\n\\n\\nShah Mohammad Reza Pahlavi and Shahbanu Farah Pahlavi of Iran being received by prime minister Indira Gandhi at New Delhi airport, 1970\\n\\nUS President Jimmy Carter (right) with Prime minister Morarji Desai, 1978\\nIn 1980, after a three-year absence, the Congress returned to power with an absolute majority. Indira Gandhi was elected prime minister a second time.[29] During her second tenure, Operation Blue Star—an Indian Army operation inside the Golden Temple, the most sacred site in Sikhism—was conducted, resulting in reportedly thousands of deaths.[30] Subsequently, on 31 October 1984, Gandhi was shot dead by Satwant Singh and Beant Singh—two of her bodyguards—in the garden of her residence at 1, Safdarjung Road, New Delhi.[31]\", metadata={}),\n",
       " Document(page_content=\"After Indira, Rajiv—her eldest son and 40 years old at the time—was sworn in on the evening of 31 October 1984, becoming the youngest person ever to hold the office of prime minister. Rajiv immediately called for a general election. In the subsequent general election, the Congress secured an absolute majority, winning 401 of 552 seats in the Lok Sabha, the maximum number received by any party in the history of India.[32][33] Vishwanath Pratap Singh—first finance minister and then later defence minister in Gandhi's cabinet—uncovered irregularities, in what became known as the Bofors scandal, during his stint at the Ministry of Defence; Singh was subsequently expelled from Congress and formed the Janata Dal and—with the help of several anti-Congress parties—also formed the National Front, a coalition of many political parties.[34]\\n\\nIn the general election of 1989, the National Front—with outside support from the Bharatiya Janata Party (BJP) and the Left Front—came to power.[35] V. P. Singh was elected prime minister.[35] During a tenure of less than a year, Singh and his government accepted the Mandal Commission's recommendations.[36] Singh's tenure came to an end after he ordered the arrest of BJP member Lal Krishna Advani,[37] as a result, BJP withdrew its outside support to the government, V. P. Singh lost the subsequent vote-of-no-confidence 146–320 and had to resign.[38] After V. P. Singh's resignation, Chandra Shekhar along with 64 members of parliament (MPs) floated the Samajwadi Janata Party (Rashtriya),[39] and proved a majority in the Lok Sabha with support from Congress.[40] But Shekhar's premiership did not last long, Congress proceeded to withdraw its support; Shekhar's government fell as a result, and new elections were announced.[41]\\n\\nIn the general election of 1991, Congress—under the leadership of P. V. Narasimha Rao—formed a minority government; Rao became the first PM of South Indian origin.[42] After the dissolution of the Soviet Union, India was on the brink of bankruptcy, so, Rao took steps to liberalise the economy, and appointed Manmohan Singh—an economist and a former governor of the Reserve Bank of India—as finance minister.[42] Rao and Singh then took various steps to liberalise the economy,[42] these resulted in an unprecedented economic growth in India.[43] His premiership, however, was also a witness to the demolition of the Babri Masjid, which resulted in the death of about 2,000 people.[44] Rao, however, did complete five continuous years in office, becoming the first prime minister outside of the Nehru—Gandhi family to do so.[42]\\n\\n\\nQueen Beatrix of the Netherlands, left with PM Rajiv Gandhi, Prince Claus, and Sonia Gandhi, The Hague, 1985\", metadata={}),\n",
       " Document(page_content=\"Queen Beatrix of the Netherlands, left with PM Rajiv Gandhi, Prince Claus, and Sonia Gandhi, The Hague, 1985\\n\\nPrime Minister P. V. Narasimha Rao, left, inaugurating the National Science Centre, New Delhi, 1 September 1992\\nAfter the end of Rao's tenure in May 1996, the nation saw four prime ministers in a span of three years, viz., two tenures of Atal Bihari Vajpayee; one tenure of H. D. Deve Gowda from 1 June 1996 to 21 April 1997; and one tenure of I. K. Gujral from 21 April 1997 to 19 March 1998. The government of Prime Minister Vajpayee—elected in 1998—took some concrete steps. In May 1998—after a month in power—the government announced the conduct of five underground nuclear explosions in Pokhran.[45] In response to these tests, many western countries, including the United States, imposed economic sanctions on India,[46] but, due to the support received from Russia, France, the Gulf countries and some other nations, the sanctions—were largely—not considered successful.[47][48] A few months later in response to the Indian nuclear tests, Pakistan also conducted nuclear tests.[49] Given the deteriorating situation between the two countries, the governments tried to improve bilateral relations. In February 1999, the India and Pakistan signed the Lahore Declaration, in which the two countries announced their intention to annul mutual enmity, increase trade and use their nuclear capabilities for peaceful purposes.[50] In May 1999, All India Anna Dravida Munnetra Kazhagam withdrew from the ruling National Democratic Alliance (NDA) coalition;[51] Vajpayee's government, hence, became a caretaker one after losing a motion-of-no-confidence 269–270, this coincided with the Kargil War with Pakistan.[52] In the subsequent October 1999 general election, the BJP-led NDA and its affiliated parties secured a comfortable majority in the Lok Sabha, winning 299 of 543 seats in the lower house.[53]\\n\\nFormer Prime Minister Dr. Manmohan Singh with the former Prime Minister Shri Atal Bihari Vajpayee in New Delhi on May 24, 2004\\n\\nPrime minister Narendra Modi addressing the 69th United Nations General Assembly, c. 2014\\nVajpayee continued the process of economic liberalisation during his reign, resulting in economic growth.[54] In addition to the development of infrastructure and basic facilities, the government took several steps to improve the infrastructure of the country, such as, the National Highways Development Project (NHDP) and the Pradhan Mantri Gram Sadak Yojana (PMGSY; IAST: Pradhānamaṃtrī Grāma Saḍaka Yojanā; lit. Prime Minister Rural Road Scheme),[55] for the development of roads. But during his reign, the 2002 Gujarat communal riots in the state of Gujarat took place; resulting in about 2,000 deaths.[56] Vajpayee's tenure as prime minister came to an end in May 2004, making him the first non-Congress PM to complete a full five-year tenure.[54]\", metadata={})]"
      ]
     },
     "execution_count": 33,
     "metadata": {},
     "output_type": "execute_result"
    }
   ],
   "source": [
    "docs"
   ]
  },
  {
   "cell_type": "markdown",
   "metadata": {},
   "source": [
    "### Quick start - Summarize"
   ]
  },
  {
   "cell_type": "code",
   "execution_count": 34,
   "metadata": {
    "scrolled": true
   },
   "outputs": [],
   "source": [
    "#!pip install tiktoken"
   ]
  },
  {
   "cell_type": "code",
   "execution_count": 35,
   "metadata": {},
   "outputs": [
    {
     "data": {
      "text/plain": [
       "\" India has had 14 different prime ministers since 1947, with Jawaharlal Nehru being the first. Indira Gandhi was the first female prime minister and served two terms. After her death in 1984, her son Rajiv was sworn in as Prime Minister. In 1989, the National Front, with outside support from the BJP and the Left Front, came to power with V.P. Singh as Prime Minister. P.V. Narasimha Rao formed a minority government in 1991 and took steps to liberalise the economy. Atal Bihari Vajpayee took office in 1998 and announced the conduct of five underground nuclear explosions in Pokhran. Vajpayee's tenure as prime minister ended in 2004.\""
      ]
     },
     "execution_count": 35,
     "metadata": {},
     "output_type": "execute_result"
    }
   ],
   "source": [
    "from langchain.chains.summarize import load_summarize_chain\n",
    "chain = load_summarize_chain(llm, chain_type=\"map_reduce\")\n",
    "chain.run(docs)"
   ]
  },
  {
   "cell_type": "markdown",
   "metadata": {},
   "source": [
    "### Using the stuff Chain to do summarization"
   ]
  },
  {
   "cell_type": "code",
   "execution_count": 36,
   "metadata": {},
   "outputs": [
    {
     "data": {
      "text/plain": [
       "\" Since 1947, India has had 14 different prime ministers, the first being Jawaharlal Nehru who served for 17 years. After Nehru, Indira Gandhi was elected as the country's first female prime minister and served two terms. Rajiv Gandhi, Indira's son, was sworn in after her assassination in 1984. In 1989, the National Front, with outside support from the Bharatiya Janata Party (BJP) and the Left Front, came to power and Vishwanath Pratap Singh was elected prime minister. After Singh, Chandra Shekhar, P. V. Narasimha Rao, Atal Bihari Vajpayee, H. D. Deve Gowda, and I. K. Gujral all served as prime minister. In 2014, Narendra Modi was elected prime minister.\""
      ]
     },
     "execution_count": 36,
     "metadata": {},
     "output_type": "execute_result"
    }
   ],
   "source": [
    "chain = load_summarize_chain(llm, chain_type=\"stuff\")\n",
    "chain.run(docs)"
   ]
  },
  {
   "cell_type": "markdown",
   "metadata": {},
   "source": [
    "#### Custom Prompts"
   ]
  },
  {
   "cell_type": "code",
   "execution_count": 37,
   "metadata": {},
   "outputs": [],
   "source": [
    "prompt_template = \"\"\"Write a concise summary of the following:\n",
    "\n",
    "{text}\n",
    "\n",
    "CONCISE SUMMARY IN ENGLISH:\"\"\"\n",
    "PROMPT = PromptTemplate(template=prompt_template, input_variables=[\"text\"])"
   ]
  },
  {
   "cell_type": "code",
   "execution_count": 38,
   "metadata": {},
   "outputs": [
    {
     "data": {
      "text/plain": [
       "'\\n\\nSince 1947, India has had 14 different prime ministers. The first was Jawaharlal Nehru, who served for 17 years and was followed by Lal Bahadur Shastri, Indira Gandhi, Morarji Desai, Charan Singh, Rajiv Gandhi, Vishwanath Pratap Singh, Chandra Shekhar, P.V. Narasimha Rao, Atal Bihari Vajpayee, and Narendra Modi. Each of these prime ministers had their own accomplishments and challenges, such as the Indo-Pakistani War of 1965, the establishment of Bangladesh, the nuclear test in Pokhran, the Operation Blue Star, the Bofors scandal, the Mandal Commission, the Babri Masjid demolition, and the Kargil War.'"
      ]
     },
     "execution_count": 38,
     "metadata": {},
     "output_type": "execute_result"
    }
   ],
   "source": [
    "chain = load_summarize_chain(llm, chain_type=\"stuff\", prompt=PROMPT)\n",
    "chain.run(docs)"
   ]
  },
  {
   "cell_type": "code",
   "execution_count": 39,
   "metadata": {},
   "outputs": [
    {
     "data": {
      "text/plain": [
       "StuffDocumentsChain(memory=None, callbacks=None, callback_manager=None, verbose=False, input_key='input_documents', output_key='output_text', llm_chain=LLMChain(memory=None, callbacks=None, callback_manager=None, verbose=False, prompt=PromptTemplate(input_variables=['text'], output_parser=None, partial_variables={}, template='Write a concise summary of the following:\\n\\n{text}\\n\\nCONCISE SUMMARY IN ENGLISH:', template_format='f-string', validate_template=True), llm=AzureOpenAI(cache=None, verbose=False, callbacks=None, callback_manager=None, client=<class 'openai.api_resources.completion.Completion'>, model_name='text-davinci-003', temperature=0.0, max_tokens=256, top_p=1, frequency_penalty=0, presence_penalty=0, n=1, best_of=1, model_kwargs={'engine': 'text-davinci-003'}, openai_api_key=None, openai_api_base=None, openai_organization=None, batch_size=20, request_timeout=None, logit_bias={}, max_retries=6, streaming=False, allowed_special=set(), disallowed_special='all', deployment_name=''), output_key='text'), document_prompt=PromptTemplate(input_variables=['page_content'], output_parser=None, partial_variables={}, template='{page_content}', template_format='f-string', validate_template=True), document_variable_name='text', document_separator='\\n\\n')"
      ]
     },
     "execution_count": 39,
     "metadata": {},
     "output_type": "execute_result"
    }
   ],
   "source": [
    "chain"
   ]
  },
  {
   "cell_type": "markdown",
   "metadata": {},
   "source": [
    "### Using the refine Chain to do summarization"
   ]
  },
  {
   "cell_type": "code",
   "execution_count": 40,
   "metadata": {},
   "outputs": [
    {
     "data": {
      "text/plain": [
       "\"\\n\\nSince 1947, India has had 14 different prime ministers, with Jawaharlal Nehru being the first. His tenure ended in 1964, followed by Lal Bahadur Shastri, who was in office during the Indo-Pakistani War of 1965. Indira Gandhi, Nehru's daughter, was the first female prime minister and served two terms, during which she took steps such as nationalisation of banks and the accession of Sikkim to India. After Indira, Morarji Desai became the first non-Congress prime minister, followed by Charan Singh, who had the shortest tenure in the history of the office. Indira Gandhi was elected prime minister a second time in 1980, during which Operation Blue Star was conducted, resulting in thousands of deaths. On 31 October 1984, Gandhi was assassinated by two of her bodyguards, and her eldest son Rajiv was sworn in, becoming the youngest person ever to hold the office of prime minister. Rajiv called for a general election, which the Congress won with an absolute majority. Vishwanath Pratap Singh uncovered the Bofors scandal and formed the Janata Dal, and the National Front, a coalition of many political parties, came to power. V. P. Singh was\""
      ]
     },
     "execution_count": 40,
     "metadata": {},
     "output_type": "execute_result"
    }
   ],
   "source": [
    "chain = load_summarize_chain(llm, chain_type=\"refine\")\n",
    "chain.run(docs)"
   ]
  },
  {
   "cell_type": "code",
   "execution_count": 41,
   "metadata": {},
   "outputs": [
    {
     "data": {
      "text/plain": [
       "{'intermediate_steps': [\" Since 1947, India has had 14 different prime ministers, with Jawaharlal Nehru being the first. His tenure ended in 1964, followed by Lal Bahadur Shastri, who was in office during the Indo-Pakistani War of 1965. Indira Gandhi, Nehru's daughter, was the first female prime minister and served two terms, during which she took steps such as nationalisation of banks and the accession of Sikkim to India. After Indira, Morarji Desai became the first non-Congress prime minister, followed by Charan Singh, who had the shortest tenure in the history of the office. Indira Gandhi was elected prime minister a second time in 1980, during which Operation Blue Star was conducted, resulting in thousands of deaths. She was assassinated in 1984.\",\n",
       "  \"\\n\\nSince 1947, India has had 14 different prime ministers, with Jawaharlal Nehru being the first. His tenure ended in 1964, followed by Lal Bahadur Shastri, who was in office during the Indo-Pakistani War of 1965. Indira Gandhi, Nehru's daughter, was the first female prime minister and served two terms, during which she took steps such as nationalisation of banks and the accession of Sikkim to India. After Indira, Morarji Desai became the first non-Congress prime minister, followed by Charan Singh, who had the shortest tenure in the history of the office. Indira Gandhi was elected prime minister a second time in 1980, during which Operation Blue Star was conducted, resulting in thousands of deaths. She was assassinated in 1984, after which her eldest son Rajiv Gandhi was sworn in, becoming the youngest person ever to hold the office of prime minister. Rajiv called for a general election, which the Congress won with an absolute majority. Vishwanath Pratap Singh, who was expelled from Congress, formed the Janata Dal and the National Front, a coalition of many political parties. In 1989, the National Front came to power with V. P. Singh as prime minister\",\n",
       "  \"\\n\\nSince 1947, India has had 14 different prime ministers, with Jawaharlal Nehru being the first. His tenure ended in 1964, followed by Lal Bahadur Shastri, who was in office during the Indo-Pakistani War of 1965. Indira Gandhi, Nehru's daughter, was the first female prime minister and served two terms, during which she took steps such as nationalisation of banks and the accession of Sikkim to India. After Indira, Morarji Desai became the first non-Congress prime minister, followed by Charan Singh, who had the shortest tenure in the history of the office. Indira Gandhi was elected prime minister a second time in 1980, during which Operation Blue Star was conducted, resulting in thousands of deaths. She was assassinated in 1984, after which her eldest son Rajiv Gandhi was sworn in, becoming the youngest person ever to hold the office of prime minister. Rajiv called for a general election, which the Congress won with an absolute majority. Vishwanath Pratap Singh, who was expelled from Congress, formed the Janata Dal and the National Front, a coalition of many political parties. In 1989, the National Front came to power with V. P. Singh as prime minister\"],\n",
       " 'output_text': \"\\n\\nSince 1947, India has had 14 different prime ministers, with Jawaharlal Nehru being the first. His tenure ended in 1964, followed by Lal Bahadur Shastri, who was in office during the Indo-Pakistani War of 1965. Indira Gandhi, Nehru's daughter, was the first female prime minister and served two terms, during which she took steps such as nationalisation of banks and the accession of Sikkim to India. After Indira, Morarji Desai became the first non-Congress prime minister, followed by Charan Singh, who had the shortest tenure in the history of the office. Indira Gandhi was elected prime minister a second time in 1980, during which Operation Blue Star was conducted, resulting in thousands of deaths. She was assassinated in 1984, after which her eldest son Rajiv Gandhi was sworn in, becoming the youngest person ever to hold the office of prime minister. Rajiv called for a general election, which the Congress won with an absolute majority. Vishwanath Pratap Singh, who was expelled from Congress, formed the Janata Dal and the National Front, a coalition of many political parties. In 1989, the National Front came to power with V. P. Singh as prime minister\"}"
      ]
     },
     "execution_count": 41,
     "metadata": {},
     "output_type": "execute_result"
    }
   ],
   "source": [
    "# We can also return the intermediate steps for refine chains, should we want to inspect them. \n",
    "# This is done with the return_refine_steps variable.\n",
    "\n",
    "chain = load_summarize_chain(llm, chain_type=\"refine\", return_intermediate_steps=True)\n",
    "chain({\"input_documents\": docs}, return_only_outputs=True)"
   ]
  },
  {
   "cell_type": "markdown",
   "metadata": {},
   "source": [
    "#### Custom Prompts"
   ]
  },
  {
   "cell_type": "code",
   "execution_count": 42,
   "metadata": {},
   "outputs": [],
   "source": [
    "prompt_template = \"\"\"Write a concise summary of the following:\n",
    "\n",
    "\n",
    "{text}\n",
    "\n",
    "\n",
    "CONCISE SUMMARY IN ENGLISH:\"\"\"\n",
    "\n",
    "PROMPT = PromptTemplate(template=prompt_template, input_variables=[\"text\"])\n",
    "refine_template = (\n",
    "    \"Your job is to produce a final summary\\n\"\n",
    "    \"We have provided an existing summary up to a certain point: {existing_answer}\\n\"\n",
    "    \"We have the opportunity to refine the existing summary\"\n",
    "    \"(only if needed) with some more context below.\\n\"\n",
    "    \"------------\\n\"\n",
    "    \"{text}\\n\"\n",
    "    \"------------\\n\"\n",
    "    \"Given the new context, refine the original summary\"\n",
    "    \"If the context isn't useful, return the original summary.\"\n",
    ")\n",
    "\n",
    "refine_prompt = PromptTemplate(\n",
    "    input_variables=[\"existing_answer\", \"text\"],\n",
    "    template=refine_template,\n",
    ")"
   ]
  },
  {
   "cell_type": "code",
   "execution_count": 43,
   "metadata": {},
   "outputs": [
    {
     "data": {
      "text/plain": [
       "{'intermediate_steps': [\"\\n\\nSince 1947, India has had 14 different prime ministers, with Jawaharlal Nehru being the first. His tenure lasted 17 years, followed by Lal Bahadur Shastri, who was in office during the Indo-Pakistani War of 1965. Indira Gandhi, Nehru's daughter, was the first female prime minister and served two terms, during which she took steps such as nationalisation of banks and the accession of Sikkim to India. After Indira, Morarji Desai became the first non-Congress prime minister, followed by Charan Singh, who had the shortest tenure in the history of the office. Indira Gandhi was elected prime minister a second time in 1980, and was assassinated in 1984.\",\n",
       "  \"\\n\\nSince 1947, India has had 14 different prime ministers, with Jawaharlal Nehru being the first. His tenure lasted 17 years, followed by Lal Bahadur Shastri, who was in office during the Indo-Pakistani War of 1965. Indira Gandhi, Nehru's daughter, was the first female prime minister and served two terms, during which she took steps such as nationalisation of banks and the accession of Sikkim to India. After Indira, Morarji Desai became the first non-Congress prime minister, followed by Charan Singh, who had the shortest tenure in the history of the office. Rajiv Gandhi, Indira's eldest son, was sworn in after her assassination in 1984 and called for a general election. In 1989, the National Front, with outside support from the Bharatiya Janata Party (BJP) and the Left Front, came to power with Vishwanath Pratap Singh as prime minister. After Singh's resignation, Chandra Shekhar formed the Samajwadi Janata Party (Rashtriya) and proved a majority in the Lok Sabha with support from Congress. In 1991, P. V. Narasimha Rao of the Congress formed a minority government and\",\n",
       "  \"\\nSince 1947, India has had 14 different prime ministers, with Jawaharlal Nehru being the first. His tenure lasted 17 years, followed by Lal Bahadur Shastri, who was in office during the Indo-Pakistani War of 1965. Indira Gandhi, Nehru's daughter, was the first female prime minister and served two terms, during which she took steps such as nationalisation of banks and the accession of Sikkim to India. After Indira, Morarji Desai became the first non-Congress prime minister, followed by Charan Singh, who had the shortest tenure in the history of the office. Rajiv Gandhi, Indira's eldest son, was sworn in after her assassination in 1984 and called for a general election. In 1989, the National Front, with outside support from the Bharatiya Janata Party (BJP) and the Left Front, came to power with Vishwanath Pratap Singh as prime minister. After Singh's resignation, Chandra Shekhar formed the Samajwadi Janata Party (Rashtriya) and proved a majority in the Lok Sabha with support from Congress. In 1991, P. V. Narasimha Rao of the Congress formed a minority government and after\"],\n",
       " 'output_text': \"\\nSince 1947, India has had 14 different prime ministers, with Jawaharlal Nehru being the first. His tenure lasted 17 years, followed by Lal Bahadur Shastri, who was in office during the Indo-Pakistani War of 1965. Indira Gandhi, Nehru's daughter, was the first female prime minister and served two terms, during which she took steps such as nationalisation of banks and the accession of Sikkim to India. After Indira, Morarji Desai became the first non-Congress prime minister, followed by Charan Singh, who had the shortest tenure in the history of the office. Rajiv Gandhi, Indira's eldest son, was sworn in after her assassination in 1984 and called for a general election. In 1989, the National Front, with outside support from the Bharatiya Janata Party (BJP) and the Left Front, came to power with Vishwanath Pratap Singh as prime minister. After Singh's resignation, Chandra Shekhar formed the Samajwadi Janata Party (Rashtriya) and proved a majority in the Lok Sabha with support from Congress. In 1991, P. V. Narasimha Rao of the Congress formed a minority government and after\"}"
      ]
     },
     "execution_count": 43,
     "metadata": {},
     "output_type": "execute_result"
    }
   ],
   "source": [
    "chain = load_summarize_chain(llm, chain_type=\"refine\", return_intermediate_steps=True, question_prompt=PROMPT, refine_prompt=refine_prompt)\n",
    "chain({\"input_documents\": docs}, return_only_outputs=True)"
   ]
  },
  {
   "cell_type": "code",
   "execution_count": null,
   "metadata": {},
   "outputs": [],
   "source": []
  },
  {
   "cell_type": "code",
   "execution_count": 74,
   "metadata": {},
   "outputs": [],
   "source": [
    "# ToDo: Answer is getting truncated for many of the experiments, which needs to be fixed"
   ]
  },
  {
   "cell_type": "markdown",
   "metadata": {},
   "source": [
    "#### Experiment - 1"
   ]
  },
  {
   "cell_type": "code",
   "execution_count": 56,
   "metadata": {},
   "outputs": [],
   "source": [
    "prompt_template = \"\"\"Write a concise summary of the following:\n",
    "\n",
    "{text}\n",
    "\n",
    "CONCISE SUMMARY IN ENGLISH in the following format:\\\n",
    "PM 1: ...\n",
    "PM 2: ...\n",
    "...\n",
    "PM N: ...\"\"\"\n",
    "PROMPT = PromptTemplate(template=prompt_template, input_variables=[\"text\"])"
   ]
  },
  {
   "cell_type": "code",
   "execution_count": 57,
   "metadata": {
    "scrolled": false
   },
   "outputs": [
    {
     "data": {
      "text/plain": [
       "'\\n\\nPM 1: Jawaharlal Nehru (1947-1964)\\nPM 2: Lal Bahadur Shastri (1964-1966)\\nPM 3: Indira Gandhi (1966-1977, 1980-1984)\\nPM 4: Morarji Desai (1977-1979)\\nPM 5: Charan Singh (1979-1980)\\nPM 6: Rajiv Gandhi (1984-1989)\\nPM 7: Vishwanath Pratap Singh (1989-1990)\\nPM 8: Chandra Shekhar (1990-1991)\\nPM 9: P. V. Narasimha Rao (1991-1996)\\nPM 10: Atal Bihari Vajpayee (1996-1997, 1998-2004)\\nPM 11: H. D. Deve Gowda (1996-1997)\\nPM 12: I. K. Gujral (1997-1998)\\nPM 13: Manmohan Singh (2004-2014)\\nPM 14: Narendra Modi (2014-present)\\n\\nSince 1947, India has had 14 different Prime Ministers, beginning with Jawaharlal Nehru who served for 17 years. Subsequent Prime Ministers include Lal Bahadur Shastri, Indira Gandhi ('"
      ]
     },
     "execution_count": 57,
     "metadata": {},
     "output_type": "execute_result"
    }
   ],
   "source": [
    "chain = load_summarize_chain(llm, chain_type=\"stuff\", prompt=PROMPT)\n",
    "chain.run(docs)"
   ]
  },
  {
   "cell_type": "markdown",
   "metadata": {},
   "source": [
    "#### Experiment - 2"
   ]
  },
  {
   "cell_type": "code",
   "execution_count": 46,
   "metadata": {},
   "outputs": [],
   "source": [
    "prompt_template = \"\"\"Write a concise summary of the following:\n",
    "\n",
    "{text}\n",
    "\n",
    "CONCISE SUMMARY IN ENGLISH in the following format:\\\n",
    "PM 1: ...\n",
    "PM 2: ...\n",
    "...\n",
    "PM N: ...\n",
    "\n",
    "Do not give additional summary than the above format\"\"\"\n",
    "PROMPT = PromptTemplate(template=prompt_template, input_variables=[\"text\"])"
   ]
  },
  {
   "cell_type": "code",
   "execution_count": 47,
   "metadata": {
    "scrolled": false
   },
   "outputs": [
    {
     "data": {
      "text/plain": [
       "'\\n\\nPM 1: Jawaharlal Nehru (1947-1964)\\nPM 2: Lal Bahadur Shastri (1964-1966)\\nPM 3: Indira Gandhi (1966-1977, 1980-1984)\\nPM 4: Morarji Desai (1977-1979)\\nPM 5: Charan Singh (1979-1980)\\nPM 6: Rajiv Gandhi (1984-1989)\\nPM 7: Vishwanath Pratap Singh (1989-1990)\\nPM 8: Chandra Shekhar (1990-1991)\\nPM 9: P. V. Narasimha Rao (1991-1996)\\nPM 10: Atal Bihari Vajpayee (1996-1997, 1998-2004)\\nPM 11: H. D. Deve Gowda (1996-1997)\\nPM 12: I. K. Gujral (1997-1998)\\nPM 13: Manmohan Singh (2004-2014)\\nPM 14: Narendra Modi (2014-present)'"
      ]
     },
     "execution_count": 47,
     "metadata": {},
     "output_type": "execute_result"
    }
   ],
   "source": [
    "chain = load_summarize_chain(llm, chain_type=\"stuff\", prompt=PROMPT)\n",
    "chain.run(docs)"
   ]
  },
  {
   "cell_type": "code",
   "execution_count": 48,
   "metadata": {},
   "outputs": [],
   "source": []
  },
  {
   "cell_type": "markdown",
   "metadata": {},
   "source": [
    "#### Experiment - 3"
   ]
  },
  {
   "cell_type": "code",
   "execution_count": 49,
   "metadata": {},
   "outputs": [],
   "source": [
    "prompt_template = \"\"\"Write a concise summary of the following:\n",
    "\n",
    "{text}\n",
    "\n",
    "CONCISE SUMMARY IN ENGLISH in the following format:\\\n",
    "PM 1: ...\n",
    "PM 2: ...\n",
    "...\n",
    "PM N: ...\n",
    "\n",
    "Write the key event for each step in a concise manner\"\"\"\n",
    "PROMPT = PromptTemplate(template=prompt_template, input_variables=[\"text\"])"
   ]
  },
  {
   "cell_type": "code",
   "execution_count": 50,
   "metadata": {
    "scrolled": true
   },
   "outputs": [
    {
     "data": {
      "text/plain": [
       "\"\\n\\nPM 1: Jawaharlal Nehru sworn in as first Prime Minister of India (15 August 1947)\\nPM 2: Lal Bahadur Shastri ascends to Prime Minister (1964); Indo-Pakistani War of 1965\\nPM 3: Indira Gandhi elected as first female Prime Minister (1966); Nationalisation of banks; Indo-Pakistani War of 1971; Establishment of Bangladesh; Accession of Sikkim to India; India's first nuclear test in Pokhran\\nPM 4: Morarji Desai elected as first non-Congress Prime Minister (1977); Janata Party defeats Congress in general election\\nPM 5: Charan Singh sworn in as Prime Minister (1979); Congress withdraws support; shortest tenure in history\\nPM 6: Indira Gandhi elected as Prime Minister for second time (1980); Operation Blue Star; Indira Gandhi assassinated (1984)\\nPM 7: Rajiv Gandhi sworn in as youngest Prime Minister (1984); Congress secures absolute majority in general election (1984)\\nPM 8: V. P. Singh elected Prime Minister (1989); Mandal Commission's recommendations accepted\\nPM 9: Chandra Shekhar sworn in as Prime Minister (1990); Congress withdraws support; new elections announced\\nPM 10: P\""
      ]
     },
     "execution_count": 50,
     "metadata": {},
     "output_type": "execute_result"
    }
   ],
   "source": [
    "chain = load_summarize_chain(llm, chain_type=\"stuff\", prompt=PROMPT)\n",
    "chain.run(docs)"
   ]
  },
  {
   "cell_type": "code",
   "execution_count": 51,
   "metadata": {},
   "outputs": [],
   "source": []
  },
  {
   "cell_type": "markdown",
   "metadata": {},
   "source": [
    "#### Experiment - 4"
   ]
  },
  {
   "cell_type": "code",
   "execution_count": 52,
   "metadata": {},
   "outputs": [],
   "source": [
    "prompt_template = \"\"\"Write a concise summary of the following:\n",
    "\n",
    "{text}\n",
    "\n",
    "CONCISE SUMMARY IN ENGLISH in the following format:\\\n",
    "PM 1: ...\n",
    "PM 2: ...\n",
    "...\n",
    "PM N: ...\n",
    "\n",
    "Do not Write the key event for each step.\\\n",
    "Do not give additional summary than the above format.\\\n",
    "Write the answer in reverse cronological order.\"\"\"\n",
    "\n",
    "PROMPT = PromptTemplate(template=prompt_template, input_variables=[\"text\"])"
   ]
  },
  {
   "cell_type": "code",
   "execution_count": 53,
   "metadata": {
    "scrolled": true
   },
   "outputs": [
    {
     "data": {
      "text/plain": [
       "'\\n\\nPM 14: Narendra Modi took office in 2014 and implemented economic liberalisation, infrastructure development, and the National Highways Development Project and Pradhan Mantri Gram Sadak Yojana.\\nPM 13: Atal Bihari Vajpayee took office in 1999 and implemented economic liberalisation, infrastructure development, and the National Highways Development Project and Pradhan Mantri Gram Sadak Yojana.\\nPM 12: I. K. Gujral took office in 1997 and resigned in 1998.\\nPM 11: H. D. Deve Gowda took office in 1996 and resigned in 1997.\\nPM 10: Atal Bihari Vajpayee took office in 1996 and resigned in 1996.\\nPM 9: P. V. Narasimha Rao took office in 1991 and implemented economic liberalisation and the liberalisation of the economy.\\nPM 8: Chandra Shekhar took office in 1990 and resigned in 1991.\\nPM 7: V. P. Singh took office in 1989 and resigned in 1990.\\nPM 6: Rajiv Gandhi took office in 1984 and resigned in 1989.\\nPM 5: Indira Gandhi took office in 1980 and resigned in 1984.\\nPM 4: Charan Singh took office in 1979 and'"
      ]
     },
     "execution_count": 53,
     "metadata": {},
     "output_type": "execute_result"
    }
   ],
   "source": [
    "chain = load_summarize_chain(llm, chain_type=\"stuff\", prompt=PROMPT)\n",
    "chain.run(docs)"
   ]
  },
  {
   "cell_type": "markdown",
   "metadata": {},
   "source": [
    "#### Experiment - 5"
   ]
  },
  {
   "cell_type": "code",
   "execution_count": 60,
   "metadata": {},
   "outputs": [],
   "source": [
    "prompt_template = \"\"\"Write a concise summary of the following:\n",
    "\n",
    "{text}\n",
    "\n",
    "Generate a list in following format:\\\n",
    "PM 1: ...\n",
    "PM 2: ...\n",
    "...\n",
    "PM N: ...\n",
    "\n",
    "Just write the PM name and the duration.\\\n",
    "Do not Write the key event for each step.\\\n",
    "Do not give additional summary than the above format.\\\n",
    "Write the answer in reverse cronological order.\"\"\"\n",
    "\n",
    "PROMPT = PromptTemplate(template=prompt_template, input_variables=[\"text\"])"
   ]
  },
  {
   "cell_type": "code",
   "execution_count": 59,
   "metadata": {
    "scrolled": true
   },
   "outputs": [
    {
     "data": {
      "text/plain": [
       "'\\n\\nPM 14: Narendra Modi (2014-present)\\nPM 13: Manmohan Singh (2004-2014)\\nPM 12: Atal Bihari Vajpayee (1998-2004)\\nPM 11: I. K. Gujral (1997-1998)\\nPM 10: H. D. Deve Gowda (1996-1997)\\nPM 9: Atal Bihari Vajpayee (1996)\\nPM 8: P. V. Narasimha Rao (1991-1996)\\nPM 7: Chandra Shekhar (1990-1991)\\nPM 6: V. P. Singh (1989-1990)\\nPM 5: Rajiv Gandhi (1984-1989)\\nPM 4: Indira Gandhi (1980-1984)\\nPM 3: Charan Singh (1979-1980)\\nPM 2: Morarji Desai (1977-1979)\\nPM 1: Jawaharlal Nehru (1947-1964)'"
      ]
     },
     "execution_count": 59,
     "metadata": {},
     "output_type": "execute_result"
    }
   ],
   "source": [
    "chain = load_summarize_chain(llm, chain_type=\"stuff\", prompt=PROMPT)\n",
    "chain.run(docs)"
   ]
  },
  {
   "cell_type": "markdown",
   "metadata": {},
   "source": [
    "#### Experiment - 6"
   ]
  },
  {
   "cell_type": "code",
   "execution_count": 72,
   "metadata": {},
   "outputs": [],
   "source": [
    "prompt_template = \"\"\"Write a concise summary of the following:\n",
    "\n",
    "{text}\n",
    "\n",
    "Generate a list of name and duration.\\\n",
    "Do not Write the key event for each person.\\\n",
    "Do not give any additional information.\\\n",
    "Write the answer in reverse cronological order.\n",
    "Provide them in JSON format with following keys:\n",
    "name, duration\n",
    "\"\"\"\n",
    "\n",
    "PROMPT = PromptTemplate(template=prompt_template, input_variables=[\"text\"])"
   ]
  },
  {
   "cell_type": "code",
   "execution_count": 79,
   "metadata": {
    "scrolled": true
   },
   "outputs": [
    {
     "data": {
      "text/plain": [
       "'\\n[\\n  {\\n    \"name\": \"Narendra Modi\",\\n    \"duration\": \"2014-present\"\\n  },\\n  {\\n    \"name\": \"Manmohan Singh\",\\n    \"duration\": \"2004-2014\"\\n  },\\n  {\\n    \"name\": \"Atal Bihari Vajpayee\",\\n    \"duration\": \"1998-2004\"\\n  },\\n  {\\n    \"name\": \"I. K. Gujral\",\\n    \"duration\": \"1997-1998\"\\n  },\\n  {\\n    \"name\": \"H. D. Deve Gowda\",\\n    \"duration\": \"1996-1997\"\\n  },\\n  {\\n    \"name\": \"Atal Bihari Vajpayee\",\\n    \"duration\": \"1996\"\\n  },\\n  {\\n    \"name\": \"P. V. Narasimha Rao\",\\n    \"duration\": \"1991-1996\"\\n  },\\n  {\\n    \"name\": \"Chandra Shekhar\",\\n    \"duration\": \"1990-1991\"\\n  },\\n  {\\n    \"name\": \"Vishwanath Pratap Singh\",\\n'"
      ]
     },
     "execution_count": 79,
     "metadata": {},
     "output_type": "execute_result"
    }
   ],
   "source": [
    "chain = load_summarize_chain(llm, chain_type=\"stuff\", prompt=PROMPT)\n",
    "chain.run(docs)"
   ]
  },
  {
   "cell_type": "code",
   "execution_count": null,
   "metadata": {},
   "outputs": [],
   "source": []
  }
 ],
 "metadata": {
  "kernelspec": {
   "display_name": "Python [conda env:root] *",
   "language": "python",
   "name": "conda-root-py"
  },
  "language_info": {
   "codemirror_mode": {
    "name": "ipython",
    "version": 3
   },
   "file_extension": ".py",
   "mimetype": "text/x-python",
   "name": "python",
   "nbconvert_exporter": "python",
   "pygments_lexer": "ipython3",
   "version": "3.8.5"
  }
 },
 "nbformat": 4,
 "nbformat_minor": 4
}
