{
 "cells": [
  {
   "cell_type": "markdown",
   "metadata": {},
   "source": [
    "# Lists"
   ]
  },
  {
   "cell_type": "code",
   "execution_count": 1,
   "metadata": {},
   "outputs": [
    {
     "data": {
      "text/plain": [
       "[3, 45, 8.5, 20, 'John', True]"
      ]
     },
     "execution_count": 1,
     "metadata": {},
     "output_type": "execute_result"
    }
   ],
   "source": [
    "#--- Allows multitype data items\n",
    "MyFirstList = [3, 45, 8.5, 20, 'John', True]\n",
    "MyFirstList"
   ]
  },
  {
   "cell_type": "code",
   "execution_count": 2,
   "metadata": {},
   "outputs": [
    {
     "data": {
      "text/plain": [
       "list"
      ]
     },
     "execution_count": 2,
     "metadata": {},
     "output_type": "execute_result"
    }
   ],
   "source": [
    "type(MyFirstList)"
   ]
  },
  {
   "cell_type": "markdown",
   "metadata": {},
   "source": [
    "### Create list using range()"
   ]
  },
  {
   "cell_type": "code",
   "execution_count": 3,
   "metadata": {},
   "outputs": [],
   "source": [
    "x = list(range(10))\n",
    "y = list(range(10, 25, 2))"
   ]
  },
  {
   "cell_type": "code",
   "execution_count": 4,
   "metadata": {},
   "outputs": [
    {
     "data": {
      "text/plain": [
       "[10, 12, 14, 16, 18, 20, 22, 24]"
      ]
     },
     "execution_count": 4,
     "metadata": {},
     "output_type": "execute_result"
    }
   ],
   "source": [
    "# This will show the result of the last line only\n",
    "x\n",
    "y"
   ]
  },
  {
   "cell_type": "code",
   "execution_count": 5,
   "metadata": {},
   "outputs": [
    {
     "name": "stdout",
     "output_type": "stream",
     "text": [
      "[0, 1, 2, 3, 4, 5, 6, 7, 8, 9]\n",
      "[10, 12, 14, 16, 18, 20, 22, 24]\n",
      "0\n"
     ]
    }
   ],
   "source": [
    "# use print() to print multiple outputs from a single cell\n",
    "print(x)\n",
    "print(y)\n",
    "print(min(x))"
   ]
  },
  {
   "cell_type": "markdown",
   "metadata": {},
   "source": [
    "### Getting a value by index"
   ]
  },
  {
   "cell_type": "code",
   "execution_count": 6,
   "metadata": {},
   "outputs": [
    {
     "name": "stdout",
     "output_type": "stream",
     "text": [
      "10\n",
      "22\n",
      "8\n"
     ]
    }
   ],
   "source": [
    "print(y[0])\n",
    "print(y[len(y)-2])\n",
    "print(x[-2])"
   ]
  },
  {
   "cell_type": "markdown",
   "metadata": {},
   "source": [
    "### List Slicing"
   ]
  },
  {
   "cell_type": "code",
   "execution_count": 7,
   "metadata": {},
   "outputs": [
    {
     "name": "stdout",
     "output_type": "stream",
     "text": [
      "[10, 12, 14, 16, 18, 20, 22, 24]\n",
      "[10, 12]\n",
      "[16, 18]\n",
      "[18, 20, 22, 24]\n",
      "[10, 12, 14, 16, 18]\n",
      "[2, 5]\n",
      "[0, 3, 6, 9]\n",
      "[9, 7, 5, 3, 1]\n",
      "[7, 5, 3]\n"
     ]
    }
   ],
   "source": [
    "print (y[:])\n",
    "print (y[:2])\n",
    "print (y[3:5])\n",
    "print (y[4:])\n",
    "print (y[-8:5])\n",
    "print (x[2:8:3]) #--- [Start, End, Step]\n",
    "print (x[::3])\n",
    "print (x[::-2])\n",
    "print (x[7:2:-2])"
   ]
  },
  {
   "cell_type": "markdown",
   "metadata": {},
   "source": [
    "### Get unique values"
   ]
  },
  {
   "cell_type": "code",
   "execution_count": 8,
   "metadata": {},
   "outputs": [
    {
     "data": {
      "text/plain": [
       "[1, 1, 1, 2, 2, 2, 4, 4, 4, 3, 3, 3]"
      ]
     },
     "execution_count": 8,
     "metadata": {},
     "output_type": "execute_result"
    }
   ],
   "source": [
    "z = [1,1,1,2,2,2,4,4,4,3,3,3]\n",
    "z"
   ]
  },
  {
   "cell_type": "code",
   "execution_count": 9,
   "metadata": {},
   "outputs": [
    {
     "data": {
      "text/plain": [
       "{1, 2, 3, 4}"
      ]
     },
     "execution_count": 9,
     "metadata": {},
     "output_type": "execute_result"
    }
   ],
   "source": [
    "set(z)"
   ]
  },
  {
   "cell_type": "markdown",
   "metadata": {},
   "source": [
    "# Tuple"
   ]
  },
  {
   "cell_type": "markdown",
   "metadata": {},
   "source": [
    "### Tuple = Immutable List --> Can't change the values once defined"
   ]
  },
  {
   "cell_type": "code",
   "execution_count": 10,
   "metadata": {},
   "outputs": [
    {
     "name": "stdout",
     "output_type": "stream",
     "text": [
      "(1, 3, 6, 9)\n",
      "6\n"
     ]
    }
   ],
   "source": [
    "t1 = (1, 3, 6, 9)\n",
    "print(t1)\n",
    "print (t1[2])"
   ]
  },
  {
   "cell_type": "code",
   "execution_count": 11,
   "metadata": {},
   "outputs": [
    {
     "name": "stdout",
     "output_type": "stream",
     "text": [
      "<class 'tuple'>\n",
      "Minimum value is 1, Maximum value is 9\n"
     ]
    }
   ],
   "source": [
    "print (type(t1))\n",
    "print (\"Minimum value is {}, Maximum value is {}\".format(min(t1),max(t1)))"
   ]
  },
  {
   "cell_type": "markdown",
   "metadata": {},
   "source": [
    "# Array"
   ]
  },
  {
   "cell_type": "code",
   "execution_count": 12,
   "metadata": {},
   "outputs": [],
   "source": [
    "import numpy as np"
   ]
  },
  {
   "cell_type": "markdown",
   "metadata": {},
   "source": [
    "### List to Array"
   ]
  },
  {
   "cell_type": "code",
   "execution_count": 13,
   "metadata": {},
   "outputs": [
    {
     "name": "stdout",
     "output_type": "stream",
     "text": [
      "[0 1 2 3 4 5 6 7 8 9]\n",
      "<class 'numpy.ndarray'>\n"
     ]
    },
    {
     "data": {
      "text/plain": [
       "array([0, 1, 2, 3, 4, 5, 6, 7, 8, 9])"
      ]
     },
     "execution_count": 13,
     "metadata": {},
     "output_type": "execute_result"
    }
   ],
   "source": [
    "a = np.array(x)                #--- Array --> Items with same data types\n",
    "print(a)\n",
    "print(type(a))\n",
    "a"
   ]
  },
  {
   "cell_type": "code",
   "execution_count": 14,
   "metadata": {},
   "outputs": [
    {
     "data": {
      "text/plain": [
       "4.5"
      ]
     },
     "execution_count": 14,
     "metadata": {},
     "output_type": "execute_result"
    }
   ],
   "source": [
    "a.mean()"
   ]
  },
  {
   "cell_type": "markdown",
   "metadata": {},
   "source": [
    "### Creating Array view and Array copy"
   ]
  },
  {
   "cell_type": "code",
   "execution_count": 15,
   "metadata": {},
   "outputs": [],
   "source": [
    "b = a[2:4]    #--- Creates just a view of the original array, not a copy/new - unlike list"
   ]
  },
  {
   "cell_type": "code",
   "execution_count": 16,
   "metadata": {},
   "outputs": [
    {
     "name": "stdout",
     "output_type": "stream",
     "text": [
      "[2 3]\n"
     ]
    },
    {
     "data": {
      "text/plain": [
       "2"
      ]
     },
     "execution_count": 16,
     "metadata": {},
     "output_type": "execute_result"
    }
   ],
   "source": [
    "print(b)\n",
    "b[0]"
   ]
  },
  {
   "cell_type": "code",
   "execution_count": 17,
   "metadata": {},
   "outputs": [],
   "source": [
    "b[:] = 111"
   ]
  },
  {
   "cell_type": "code",
   "execution_count": 18,
   "metadata": {},
   "outputs": [
    {
     "data": {
      "text/plain": [
       "array([111, 111])"
      ]
     },
     "execution_count": 18,
     "metadata": {},
     "output_type": "execute_result"
    }
   ],
   "source": [
    "b"
   ]
  },
  {
   "cell_type": "code",
   "execution_count": 19,
   "metadata": {},
   "outputs": [
    {
     "data": {
      "text/plain": [
       "array([  0,   1, 111, 111,   4,   5,   6,   7,   8,   9])"
      ]
     },
     "execution_count": 19,
     "metadata": {},
     "output_type": "execute_result"
    }
   ],
   "source": [
    "a"
   ]
  },
  {
   "cell_type": "code",
   "execution_count": 20,
   "metadata": {},
   "outputs": [
    {
     "data": {
      "text/plain": [
       "array([  0,   1, 111, 111,   4,   5,   6,   7,   8,   9])"
      ]
     },
     "execution_count": 20,
     "metadata": {},
     "output_type": "execute_result"
    }
   ],
   "source": [
    "c = a.copy()\n",
    "c"
   ]
  },
  {
   "cell_type": "code",
   "execution_count": 21,
   "metadata": {},
   "outputs": [
    {
     "name": "stdout",
     "output_type": "stream",
     "text": [
      "[ 50   1 111 111   4   5   6   7   8   9]\n",
      "[111 111]\n",
      "[  0   1 111 111   4   5   6   7   8   9]\n"
     ]
    }
   ],
   "source": [
    "c[0] = 50\n",
    "print(c)\n",
    "print(b)\n",
    "print(a)"
   ]
  },
  {
   "cell_type": "markdown",
   "metadata": {},
   "source": [
    "### Element wise operations"
   ]
  },
  {
   "cell_type": "code",
   "execution_count": 22,
   "metadata": {},
   "outputs": [],
   "source": [
    "# --- Analyze financial statement\n",
    "\n",
    "#Data \n",
    "revenue = [14574.49, 7606.46, 8611.41, 9175.41, 8058.65, 8105.44, 11496.28, 9766.09, 10305.32, 14379.96, 10713.97, 15433.50]\n",
    "expenses = [12051.82, 5695.07, 12319.20, 12089.72, 8658.57, 840.20, 3285.73, 5821.12, 6976.93, 16618.61, 10054.37, 3803.96]"
   ]
  },
  {
   "cell_type": "code",
   "execution_count": 23,
   "metadata": {},
   "outputs": [],
   "source": [
    "re = np.array(revenue)"
   ]
  },
  {
   "cell_type": "code",
   "execution_count": 24,
   "metadata": {},
   "outputs": [],
   "source": [
    "ex = np.array(expenses)"
   ]
  },
  {
   "cell_type": "code",
   "execution_count": 25,
   "metadata": {},
   "outputs": [],
   "source": [
    "profit = re - ex\n",
    "pat = np.round((re*.3) - ex, 0)\n",
    "pmargin = np.round(pat*100 / re, 2)"
   ]
  },
  {
   "cell_type": "code",
   "execution_count": 26,
   "metadata": {},
   "outputs": [
    {
     "name": "stdout",
     "output_type": "stream",
     "text": [
      "[ 2522.67  1911.39 -3707.79 -2914.31  -599.92  7265.24  8210.55  3944.97\n",
      "  3328.39 -2238.65   659.6  11629.54]\n",
      "[ -7679.  -3413.  -9736.  -9337.  -6241.   1591.    163.  -2891.  -3885.\n",
      " -12305.  -6840.    826.]\n",
      "[ -52.69  -44.87 -113.06 -101.76  -77.44   19.63    1.42  -29.6   -37.7\n",
      "  -85.57  -63.84    5.35]\n"
     ]
    }
   ],
   "source": [
    "print(profit)\n",
    "print(pat)\n",
    "print(pmargin)"
   ]
  },
  {
   "cell_type": "code",
   "execution_count": 27,
   "metadata": {},
   "outputs": [
    {
     "name": "stdout",
     "output_type": "stream",
     "text": [
      "-12305.0 1591.0\n"
     ]
    }
   ],
   "source": [
    "print (min(pat), max(pat))"
   ]
  },
  {
   "cell_type": "markdown",
   "metadata": {},
   "source": [
    "### Matrix"
   ]
  },
  {
   "cell_type": "code",
   "execution_count": 28,
   "metadata": {},
   "outputs": [],
   "source": [
    "matrix1 = np.array([range(0,10),range(10,20),range(20,30)])"
   ]
  },
  {
   "cell_type": "code",
   "execution_count": 29,
   "metadata": {},
   "outputs": [
    {
     "data": {
      "text/plain": [
       "(3, 10)"
      ]
     },
     "execution_count": 29,
     "metadata": {},
     "output_type": "execute_result"
    }
   ],
   "source": [
    "matrix1.shape"
   ]
  },
  {
   "cell_type": "code",
   "execution_count": 30,
   "metadata": {},
   "outputs": [
    {
     "data": {
      "text/plain": [
       "numpy.ndarray"
      ]
     },
     "execution_count": 30,
     "metadata": {},
     "output_type": "execute_result"
    }
   ],
   "source": [
    "type(matrix1)"
   ]
  },
  {
   "cell_type": "markdown",
   "metadata": {},
   "source": [
    "### Reshape"
   ]
  },
  {
   "cell_type": "code",
   "execution_count": 31,
   "metadata": {},
   "outputs": [],
   "source": [
    "matrix2 = np.array([range(0,50)])"
   ]
  },
  {
   "cell_type": "code",
   "execution_count": 32,
   "metadata": {},
   "outputs": [
    {
     "data": {
      "text/plain": [
       "array([[ 0,  1,  2,  3,  4,  5,  6,  7,  8,  9, 10, 11, 12, 13, 14, 15,\n",
       "        16, 17, 18, 19, 20, 21, 22, 23, 24, 25, 26, 27, 28, 29, 30, 31,\n",
       "        32, 33, 34, 35, 36, 37, 38, 39, 40, 41, 42, 43, 44, 45, 46, 47,\n",
       "        48, 49]])"
      ]
     },
     "execution_count": 32,
     "metadata": {},
     "output_type": "execute_result"
    }
   ],
   "source": [
    "matrix2"
   ]
  },
  {
   "cell_type": "code",
   "execution_count": 33,
   "metadata": {},
   "outputs": [
    {
     "data": {
      "text/plain": [
       "array([[ 0,  1,  2,  3,  4,  5,  6,  7,  8,  9],\n",
       "       [10, 11, 12, 13, 14, 15, 16, 17, 18, 19],\n",
       "       [20, 21, 22, 23, 24, 25, 26, 27, 28, 29],\n",
       "       [30, 31, 32, 33, 34, 35, 36, 37, 38, 39],\n",
       "       [40, 41, 42, 43, 44, 45, 46, 47, 48, 49]])"
      ]
     },
     "execution_count": 33,
     "metadata": {},
     "output_type": "execute_result"
    }
   ],
   "source": [
    "matrix2.reshape((5,10))"
   ]
  },
  {
   "cell_type": "markdown",
   "metadata": {},
   "source": [
    "### Dictionary"
   ]
  },
  {
   "cell_type": "code",
   "execution_count": 34,
   "metadata": {},
   "outputs": [
    {
     "name": "stdout",
     "output_type": "stream",
     "text": [
      "{'key1': 'val1', 'key2': 'val2', 'key3': 'val3'}\n"
     ]
    },
    {
     "data": {
      "text/plain": [
       "'val3'"
      ]
     },
     "execution_count": 34,
     "metadata": {},
     "output_type": "execute_result"
    }
   ],
   "source": [
    "# Dictionaries can't be accessed by order / index, need to access by key only\n",
    "dict1 = {'key1':'val1', 'key2':'val2', 'key3':'val3'}\n",
    "print (dict1)\n",
    "dict1['key3']"
   ]
  },
  {
   "cell_type": "markdown",
   "metadata": {},
   "source": [
    "# DataFrame"
   ]
  },
  {
   "cell_type": "code",
   "execution_count": 35,
   "metadata": {},
   "outputs": [],
   "source": [
    "import pandas as pd"
   ]
  },
  {
   "cell_type": "markdown",
   "metadata": {},
   "source": [
    "### Read csv - create a DF from a csv file"
   ]
  },
  {
   "cell_type": "code",
   "execution_count": 36,
   "metadata": {},
   "outputs": [],
   "source": [
    "vixData = pd.read_csv('hist_india_vix_2018.csv')"
   ]
  },
  {
   "cell_type": "code",
   "execution_count": 37,
   "metadata": {},
   "outputs": [
    {
     "data": {
      "text/html": [
       "<div>\n",
       "<style scoped>\n",
       "    .dataframe tbody tr th:only-of-type {\n",
       "        vertical-align: middle;\n",
       "    }\n",
       "\n",
       "    .dataframe tbody tr th {\n",
       "        vertical-align: top;\n",
       "    }\n",
       "\n",
       "    .dataframe thead th {\n",
       "        text-align: right;\n",
       "    }\n",
       "</style>\n",
       "<table border=\"1\" class=\"dataframe\">\n",
       "  <thead>\n",
       "    <tr style=\"text-align: right;\">\n",
       "      <th></th>\n",
       "      <th>Date</th>\n",
       "      <th>Open</th>\n",
       "      <th>High</th>\n",
       "      <th>Low</th>\n",
       "      <th>Close</th>\n",
       "      <th>Prev. Close</th>\n",
       "      <th>Change</th>\n",
       "      <th>% Change</th>\n",
       "    </tr>\n",
       "  </thead>\n",
       "  <tbody>\n",
       "    <tr>\n",
       "      <th>0</th>\n",
       "      <td>01-Jan-2018</td>\n",
       "      <td>12.6700</td>\n",
       "      <td>13.6125</td>\n",
       "      <td>12.5450</td>\n",
       "      <td>13.3525</td>\n",
       "      <td>12.6700</td>\n",
       "      <td>0.68</td>\n",
       "      <td>5.39</td>\n",
       "    </tr>\n",
       "    <tr>\n",
       "      <th>1</th>\n",
       "      <td>02-Jan-2018</td>\n",
       "      <td>13.3525</td>\n",
       "      <td>13.8425</td>\n",
       "      <td>12.6050</td>\n",
       "      <td>13.6850</td>\n",
       "      <td>13.3525</td>\n",
       "      <td>0.33</td>\n",
       "      <td>2.49</td>\n",
       "    </tr>\n",
       "    <tr>\n",
       "      <th>2</th>\n",
       "      <td>03-Jan-2018</td>\n",
       "      <td>13.6850</td>\n",
       "      <td>13.7150</td>\n",
       "      <td>12.7650</td>\n",
       "      <td>13.6225</td>\n",
       "      <td>13.6850</td>\n",
       "      <td>-0.06</td>\n",
       "      <td>-0.46</td>\n",
       "    </tr>\n",
       "    <tr>\n",
       "      <th>3</th>\n",
       "      <td>04-Jan-2018</td>\n",
       "      <td>13.6225</td>\n",
       "      <td>13.7925</td>\n",
       "      <td>12.1825</td>\n",
       "      <td>13.4150</td>\n",
       "      <td>13.6225</td>\n",
       "      <td>-0.21</td>\n",
       "      <td>-1.52</td>\n",
       "    </tr>\n",
       "    <tr>\n",
       "      <th>4</th>\n",
       "      <td>05-Jan-2018</td>\n",
       "      <td>13.4150</td>\n",
       "      <td>13.4150</td>\n",
       "      <td>12.4200</td>\n",
       "      <td>13.1125</td>\n",
       "      <td>13.4150</td>\n",
       "      <td>-0.30</td>\n",
       "      <td>-2.25</td>\n",
       "    </tr>\n",
       "    <tr>\n",
       "      <th>...</th>\n",
       "      <td>...</td>\n",
       "      <td>...</td>\n",
       "      <td>...</td>\n",
       "      <td>...</td>\n",
       "      <td>...</td>\n",
       "      <td>...</td>\n",
       "      <td>...</td>\n",
       "      <td>...</td>\n",
       "    </tr>\n",
       "    <tr>\n",
       "      <th>241</th>\n",
       "      <td>24-Dec-2018</td>\n",
       "      <td>15.9925</td>\n",
       "      <td>17.1325</td>\n",
       "      <td>14.8975</td>\n",
       "      <td>15.7500</td>\n",
       "      <td>15.9925</td>\n",
       "      <td>-0.24</td>\n",
       "      <td>-1.52</td>\n",
       "    </tr>\n",
       "    <tr>\n",
       "      <th>242</th>\n",
       "      <td>26-Dec-2018</td>\n",
       "      <td>15.7500</td>\n",
       "      <td>17.4775</td>\n",
       "      <td>14.8075</td>\n",
       "      <td>15.9200</td>\n",
       "      <td>15.7500</td>\n",
       "      <td>0.17</td>\n",
       "      <td>1.08</td>\n",
       "    </tr>\n",
       "    <tr>\n",
       "      <th>243</th>\n",
       "      <td>27-Dec-2018</td>\n",
       "      <td>15.9200</td>\n",
       "      <td>16.3750</td>\n",
       "      <td>12.5625</td>\n",
       "      <td>16.0725</td>\n",
       "      <td>15.9200</td>\n",
       "      <td>0.15</td>\n",
       "      <td>0.96</td>\n",
       "    </tr>\n",
       "    <tr>\n",
       "      <th>244</th>\n",
       "      <td>28-Dec-2018</td>\n",
       "      <td>16.0725</td>\n",
       "      <td>16.0725</td>\n",
       "      <td>15.0150</td>\n",
       "      <td>15.2700</td>\n",
       "      <td>16.0725</td>\n",
       "      <td>-0.80</td>\n",
       "      <td>-4.99</td>\n",
       "    </tr>\n",
       "    <tr>\n",
       "      <th>245</th>\n",
       "      <td>31-Dec-2018</td>\n",
       "      <td>15.2700</td>\n",
       "      <td>16.1525</td>\n",
       "      <td>14.6500</td>\n",
       "      <td>16.0000</td>\n",
       "      <td>15.2700</td>\n",
       "      <td>0.73</td>\n",
       "      <td>4.78</td>\n",
       "    </tr>\n",
       "  </tbody>\n",
       "</table>\n",
       "<p>246 rows × 8 columns</p>\n",
       "</div>"
      ],
      "text/plain": [
       "           Date     Open     High      Low    Close   Prev. Close   Change   \\\n",
       "0    01-Jan-2018  12.6700  13.6125  12.5450  13.3525       12.6700     0.68   \n",
       "1    02-Jan-2018  13.3525  13.8425  12.6050  13.6850       13.3525     0.33   \n",
       "2    03-Jan-2018  13.6850  13.7150  12.7650  13.6225       13.6850    -0.06   \n",
       "3    04-Jan-2018  13.6225  13.7925  12.1825  13.4150       13.6225    -0.21   \n",
       "4    05-Jan-2018  13.4150  13.4150  12.4200  13.1125       13.4150    -0.30   \n",
       "..           ...      ...      ...      ...      ...           ...      ...   \n",
       "241  24-Dec-2018  15.9925  17.1325  14.8975  15.7500       15.9925    -0.24   \n",
       "242  26-Dec-2018  15.7500  17.4775  14.8075  15.9200       15.7500     0.17   \n",
       "243  27-Dec-2018  15.9200  16.3750  12.5625  16.0725       15.9200     0.15   \n",
       "244  28-Dec-2018  16.0725  16.0725  15.0150  15.2700       16.0725    -0.80   \n",
       "245  31-Dec-2018  15.2700  16.1525  14.6500  16.0000       15.2700     0.73   \n",
       "\n",
       "     % Change  \n",
       "0        5.39  \n",
       "1        2.49  \n",
       "2       -0.46  \n",
       "3       -1.52  \n",
       "4       -2.25  \n",
       "..        ...  \n",
       "241     -1.52  \n",
       "242      1.08  \n",
       "243      0.96  \n",
       "244     -4.99  \n",
       "245      4.78  \n",
       "\n",
       "[246 rows x 8 columns]"
      ]
     },
     "execution_count": 37,
     "metadata": {},
     "output_type": "execute_result"
    }
   ],
   "source": [
    "vixData"
   ]
  },
  {
   "cell_type": "markdown",
   "metadata": {},
   "source": [
    "### Explore the data"
   ]
  },
  {
   "cell_type": "code",
   "execution_count": 38,
   "metadata": {},
   "outputs": [
    {
     "name": "stdout",
     "output_type": "stream",
     "text": [
      "246\n",
      "8\n"
     ]
    }
   ],
   "source": [
    "# No of Rows and Columns\n",
    "\n",
    "print(len(vixData))    #-- Rows\n",
    "print(len(vixData.columns))"
   ]
  },
  {
   "cell_type": "code",
   "execution_count": 39,
   "metadata": {},
   "outputs": [
    {
     "data": {
      "text/plain": [
       "Index(['Date ', 'Open ', 'High ', 'Low ', 'Close ', 'Prev. Close ', 'Change ',\n",
       "       '% Change'],\n",
       "      dtype='object')"
      ]
     },
     "execution_count": 39,
     "metadata": {},
     "output_type": "execute_result"
    }
   ],
   "source": [
    "vixData.columns"
   ]
  },
  {
   "cell_type": "code",
   "execution_count": 40,
   "metadata": {},
   "outputs": [
    {
     "data": {
      "text/html": [
       "<div>\n",
       "<style scoped>\n",
       "    .dataframe tbody tr th:only-of-type {\n",
       "        vertical-align: middle;\n",
       "    }\n",
       "\n",
       "    .dataframe tbody tr th {\n",
       "        vertical-align: top;\n",
       "    }\n",
       "\n",
       "    .dataframe thead th {\n",
       "        text-align: right;\n",
       "    }\n",
       "</style>\n",
       "<table border=\"1\" class=\"dataframe\">\n",
       "  <thead>\n",
       "    <tr style=\"text-align: right;\">\n",
       "      <th></th>\n",
       "      <th>Date</th>\n",
       "      <th>Open</th>\n",
       "      <th>High</th>\n",
       "      <th>Low</th>\n",
       "      <th>Close</th>\n",
       "      <th>Prev. Close</th>\n",
       "      <th>Change</th>\n",
       "      <th>% Change</th>\n",
       "    </tr>\n",
       "  </thead>\n",
       "  <tbody>\n",
       "    <tr>\n",
       "      <th>0</th>\n",
       "      <td>01-Jan-2018</td>\n",
       "      <td>12.6700</td>\n",
       "      <td>13.6125</td>\n",
       "      <td>12.5450</td>\n",
       "      <td>13.3525</td>\n",
       "      <td>12.6700</td>\n",
       "      <td>0.68</td>\n",
       "      <td>5.39</td>\n",
       "    </tr>\n",
       "    <tr>\n",
       "      <th>1</th>\n",
       "      <td>02-Jan-2018</td>\n",
       "      <td>13.3525</td>\n",
       "      <td>13.8425</td>\n",
       "      <td>12.6050</td>\n",
       "      <td>13.6850</td>\n",
       "      <td>13.3525</td>\n",
       "      <td>0.33</td>\n",
       "      <td>2.49</td>\n",
       "    </tr>\n",
       "    <tr>\n",
       "      <th>2</th>\n",
       "      <td>03-Jan-2018</td>\n",
       "      <td>13.6850</td>\n",
       "      <td>13.7150</td>\n",
       "      <td>12.7650</td>\n",
       "      <td>13.6225</td>\n",
       "      <td>13.6850</td>\n",
       "      <td>-0.06</td>\n",
       "      <td>-0.46</td>\n",
       "    </tr>\n",
       "    <tr>\n",
       "      <th>3</th>\n",
       "      <td>04-Jan-2018</td>\n",
       "      <td>13.6225</td>\n",
       "      <td>13.7925</td>\n",
       "      <td>12.1825</td>\n",
       "      <td>13.4150</td>\n",
       "      <td>13.6225</td>\n",
       "      <td>-0.21</td>\n",
       "      <td>-1.52</td>\n",
       "    </tr>\n",
       "    <tr>\n",
       "      <th>4</th>\n",
       "      <td>05-Jan-2018</td>\n",
       "      <td>13.4150</td>\n",
       "      <td>13.4150</td>\n",
       "      <td>12.4200</td>\n",
       "      <td>13.1125</td>\n",
       "      <td>13.4150</td>\n",
       "      <td>-0.30</td>\n",
       "      <td>-2.25</td>\n",
       "    </tr>\n",
       "    <tr>\n",
       "      <th>5</th>\n",
       "      <td>08-Jan-2018</td>\n",
       "      <td>13.1125</td>\n",
       "      <td>13.8550</td>\n",
       "      <td>11.8125</td>\n",
       "      <td>13.7350</td>\n",
       "      <td>13.1125</td>\n",
       "      <td>0.62</td>\n",
       "      <td>4.75</td>\n",
       "    </tr>\n",
       "    <tr>\n",
       "      <th>6</th>\n",
       "      <td>09-Jan-2018</td>\n",
       "      <td>13.7350</td>\n",
       "      <td>14.1300</td>\n",
       "      <td>12.2500</td>\n",
       "      <td>13.8475</td>\n",
       "      <td>13.7350</td>\n",
       "      <td>0.11</td>\n",
       "      <td>0.82</td>\n",
       "    </tr>\n",
       "    <tr>\n",
       "      <th>7</th>\n",
       "      <td>10-Jan-2018</td>\n",
       "      <td>13.8475</td>\n",
       "      <td>14.2275</td>\n",
       "      <td>12.5175</td>\n",
       "      <td>14.0350</td>\n",
       "      <td>13.8475</td>\n",
       "      <td>0.19</td>\n",
       "      <td>1.35</td>\n",
       "    </tr>\n",
       "    <tr>\n",
       "      <th>8</th>\n",
       "      <td>11-Jan-2018</td>\n",
       "      <td>14.0350</td>\n",
       "      <td>14.2775</td>\n",
       "      <td>12.9850</td>\n",
       "      <td>14.0125</td>\n",
       "      <td>14.0350</td>\n",
       "      <td>-0.02</td>\n",
       "      <td>-0.16</td>\n",
       "    </tr>\n",
       "    <tr>\n",
       "      <th>9</th>\n",
       "      <td>12-Jan-2018</td>\n",
       "      <td>14.0125</td>\n",
       "      <td>14.5525</td>\n",
       "      <td>11.9200</td>\n",
       "      <td>13.7325</td>\n",
       "      <td>14.0125</td>\n",
       "      <td>-0.28</td>\n",
       "      <td>-2.00</td>\n",
       "    </tr>\n",
       "  </tbody>\n",
       "</table>\n",
       "</div>"
      ],
      "text/plain": [
       "         Date     Open     High      Low    Close   Prev. Close   Change   \\\n",
       "0  01-Jan-2018  12.6700  13.6125  12.5450  13.3525       12.6700     0.68   \n",
       "1  02-Jan-2018  13.3525  13.8425  12.6050  13.6850       13.3525     0.33   \n",
       "2  03-Jan-2018  13.6850  13.7150  12.7650  13.6225       13.6850    -0.06   \n",
       "3  04-Jan-2018  13.6225  13.7925  12.1825  13.4150       13.6225    -0.21   \n",
       "4  05-Jan-2018  13.4150  13.4150  12.4200  13.1125       13.4150    -0.30   \n",
       "5  08-Jan-2018  13.1125  13.8550  11.8125  13.7350       13.1125     0.62   \n",
       "6  09-Jan-2018  13.7350  14.1300  12.2500  13.8475       13.7350     0.11   \n",
       "7  10-Jan-2018  13.8475  14.2275  12.5175  14.0350       13.8475     0.19   \n",
       "8  11-Jan-2018  14.0350  14.2775  12.9850  14.0125       14.0350    -0.02   \n",
       "9  12-Jan-2018  14.0125  14.5525  11.9200  13.7325       14.0125    -0.28   \n",
       "\n",
       "   % Change  \n",
       "0      5.39  \n",
       "1      2.49  \n",
       "2     -0.46  \n",
       "3     -1.52  \n",
       "4     -2.25  \n",
       "5      4.75  \n",
       "6      0.82  \n",
       "7      1.35  \n",
       "8     -0.16  \n",
       "9     -2.00  "
      ]
     },
     "execution_count": 40,
     "metadata": {},
     "output_type": "execute_result"
    }
   ],
   "source": [
    "# Top 10 rows\n",
    "vixData.head(10)"
   ]
  },
  {
   "cell_type": "code",
   "execution_count": 41,
   "metadata": {},
   "outputs": [
    {
     "data": {
      "text/html": [
       "<div>\n",
       "<style scoped>\n",
       "    .dataframe tbody tr th:only-of-type {\n",
       "        vertical-align: middle;\n",
       "    }\n",
       "\n",
       "    .dataframe tbody tr th {\n",
       "        vertical-align: top;\n",
       "    }\n",
       "\n",
       "    .dataframe thead th {\n",
       "        text-align: right;\n",
       "    }\n",
       "</style>\n",
       "<table border=\"1\" class=\"dataframe\">\n",
       "  <thead>\n",
       "    <tr style=\"text-align: right;\">\n",
       "      <th></th>\n",
       "      <th>Date</th>\n",
       "      <th>Open</th>\n",
       "      <th>High</th>\n",
       "      <th>Low</th>\n",
       "      <th>Close</th>\n",
       "      <th>Prev. Close</th>\n",
       "      <th>Change</th>\n",
       "      <th>% Change</th>\n",
       "    </tr>\n",
       "  </thead>\n",
       "  <tbody>\n",
       "    <tr>\n",
       "      <th>236</th>\n",
       "      <td>17-Dec-2018</td>\n",
       "      <td>15.1575</td>\n",
       "      <td>15.9125</td>\n",
       "      <td>13.8675</td>\n",
       "      <td>14.5400</td>\n",
       "      <td>15.1575</td>\n",
       "      <td>-0.62</td>\n",
       "      <td>-4.07</td>\n",
       "    </tr>\n",
       "    <tr>\n",
       "      <th>237</th>\n",
       "      <td>18-Dec-2018</td>\n",
       "      <td>14.5400</td>\n",
       "      <td>15.3125</td>\n",
       "      <td>11.9825</td>\n",
       "      <td>14.5775</td>\n",
       "      <td>14.5400</td>\n",
       "      <td>0.04</td>\n",
       "      <td>0.26</td>\n",
       "    </tr>\n",
       "    <tr>\n",
       "      <th>238</th>\n",
       "      <td>19-Dec-2018</td>\n",
       "      <td>14.5775</td>\n",
       "      <td>14.8650</td>\n",
       "      <td>11.8700</td>\n",
       "      <td>14.6600</td>\n",
       "      <td>14.5775</td>\n",
       "      <td>0.08</td>\n",
       "      <td>0.57</td>\n",
       "    </tr>\n",
       "    <tr>\n",
       "      <th>239</th>\n",
       "      <td>20-Dec-2018</td>\n",
       "      <td>14.6600</td>\n",
       "      <td>14.9175</td>\n",
       "      <td>13.7200</td>\n",
       "      <td>14.3325</td>\n",
       "      <td>14.6600</td>\n",
       "      <td>-0.33</td>\n",
       "      <td>-2.23</td>\n",
       "    </tr>\n",
       "    <tr>\n",
       "      <th>240</th>\n",
       "      <td>21-Dec-2018</td>\n",
       "      <td>14.3325</td>\n",
       "      <td>16.2300</td>\n",
       "      <td>12.9400</td>\n",
       "      <td>15.9925</td>\n",
       "      <td>14.3325</td>\n",
       "      <td>1.66</td>\n",
       "      <td>11.58</td>\n",
       "    </tr>\n",
       "    <tr>\n",
       "      <th>241</th>\n",
       "      <td>24-Dec-2018</td>\n",
       "      <td>15.9925</td>\n",
       "      <td>17.1325</td>\n",
       "      <td>14.8975</td>\n",
       "      <td>15.7500</td>\n",
       "      <td>15.9925</td>\n",
       "      <td>-0.24</td>\n",
       "      <td>-1.52</td>\n",
       "    </tr>\n",
       "    <tr>\n",
       "      <th>242</th>\n",
       "      <td>26-Dec-2018</td>\n",
       "      <td>15.7500</td>\n",
       "      <td>17.4775</td>\n",
       "      <td>14.8075</td>\n",
       "      <td>15.9200</td>\n",
       "      <td>15.7500</td>\n",
       "      <td>0.17</td>\n",
       "      <td>1.08</td>\n",
       "    </tr>\n",
       "    <tr>\n",
       "      <th>243</th>\n",
       "      <td>27-Dec-2018</td>\n",
       "      <td>15.9200</td>\n",
       "      <td>16.3750</td>\n",
       "      <td>12.5625</td>\n",
       "      <td>16.0725</td>\n",
       "      <td>15.9200</td>\n",
       "      <td>0.15</td>\n",
       "      <td>0.96</td>\n",
       "    </tr>\n",
       "    <tr>\n",
       "      <th>244</th>\n",
       "      <td>28-Dec-2018</td>\n",
       "      <td>16.0725</td>\n",
       "      <td>16.0725</td>\n",
       "      <td>15.0150</td>\n",
       "      <td>15.2700</td>\n",
       "      <td>16.0725</td>\n",
       "      <td>-0.80</td>\n",
       "      <td>-4.99</td>\n",
       "    </tr>\n",
       "    <tr>\n",
       "      <th>245</th>\n",
       "      <td>31-Dec-2018</td>\n",
       "      <td>15.2700</td>\n",
       "      <td>16.1525</td>\n",
       "      <td>14.6500</td>\n",
       "      <td>16.0000</td>\n",
       "      <td>15.2700</td>\n",
       "      <td>0.73</td>\n",
       "      <td>4.78</td>\n",
       "    </tr>\n",
       "  </tbody>\n",
       "</table>\n",
       "</div>"
      ],
      "text/plain": [
       "           Date     Open     High      Low    Close   Prev. Close   Change   \\\n",
       "236  17-Dec-2018  15.1575  15.9125  13.8675  14.5400       15.1575    -0.62   \n",
       "237  18-Dec-2018  14.5400  15.3125  11.9825  14.5775       14.5400     0.04   \n",
       "238  19-Dec-2018  14.5775  14.8650  11.8700  14.6600       14.5775     0.08   \n",
       "239  20-Dec-2018  14.6600  14.9175  13.7200  14.3325       14.6600    -0.33   \n",
       "240  21-Dec-2018  14.3325  16.2300  12.9400  15.9925       14.3325     1.66   \n",
       "241  24-Dec-2018  15.9925  17.1325  14.8975  15.7500       15.9925    -0.24   \n",
       "242  26-Dec-2018  15.7500  17.4775  14.8075  15.9200       15.7500     0.17   \n",
       "243  27-Dec-2018  15.9200  16.3750  12.5625  16.0725       15.9200     0.15   \n",
       "244  28-Dec-2018  16.0725  16.0725  15.0150  15.2700       16.0725    -0.80   \n",
       "245  31-Dec-2018  15.2700  16.1525  14.6500  16.0000       15.2700     0.73   \n",
       "\n",
       "     % Change  \n",
       "236     -4.07  \n",
       "237      0.26  \n",
       "238      0.57  \n",
       "239     -2.23  \n",
       "240     11.58  \n",
       "241     -1.52  \n",
       "242      1.08  \n",
       "243      0.96  \n",
       "244     -4.99  \n",
       "245      4.78  "
      ]
     },
     "execution_count": 41,
     "metadata": {},
     "output_type": "execute_result"
    }
   ],
   "source": [
    "# Bottom 10 rows\n",
    "vixData.tail(10)"
   ]
  },
  {
   "cell_type": "code",
   "execution_count": 42,
   "metadata": {},
   "outputs": [
    {
     "name": "stdout",
     "output_type": "stream",
     "text": [
      "<class 'pandas.core.frame.DataFrame'>\n",
      "RangeIndex: 246 entries, 0 to 245\n",
      "Data columns (total 8 columns):\n",
      " #   Column        Non-Null Count  Dtype  \n",
      "---  ------        --------------  -----  \n",
      " 0   Date          246 non-null    object \n",
      " 1   Open          246 non-null    float64\n",
      " 2   High          246 non-null    float64\n",
      " 3   Low           246 non-null    float64\n",
      " 4   Close         246 non-null    float64\n",
      " 5   Prev. Close   246 non-null    float64\n",
      " 6   Change        246 non-null    float64\n",
      " 7   % Change      246 non-null    float64\n",
      "dtypes: float64(7), object(1)\n",
      "memory usage: 15.5+ KB\n"
     ]
    }
   ],
   "source": [
    "# Check the datatype of columns\n",
    "vixData.info()"
   ]
  },
  {
   "cell_type": "code",
   "execution_count": 43,
   "metadata": {},
   "outputs": [
    {
     "data": {
      "text/html": [
       "<div>\n",
       "<style scoped>\n",
       "    .dataframe tbody tr th:only-of-type {\n",
       "        vertical-align: middle;\n",
       "    }\n",
       "\n",
       "    .dataframe tbody tr th {\n",
       "        vertical-align: top;\n",
       "    }\n",
       "\n",
       "    .dataframe thead th {\n",
       "        text-align: right;\n",
       "    }\n",
       "</style>\n",
       "<table border=\"1\" class=\"dataframe\">\n",
       "  <thead>\n",
       "    <tr style=\"text-align: right;\">\n",
       "      <th></th>\n",
       "      <th>Open</th>\n",
       "      <th>High</th>\n",
       "      <th>Low</th>\n",
       "      <th>Close</th>\n",
       "      <th>Prev. Close</th>\n",
       "      <th>Change</th>\n",
       "      <th>% Change</th>\n",
       "    </tr>\n",
       "  </thead>\n",
       "  <tbody>\n",
       "    <tr>\n",
       "      <th>count</th>\n",
       "      <td>246.000000</td>\n",
       "      <td>246.000000</td>\n",
       "      <td>246.000000</td>\n",
       "      <td>246.000000</td>\n",
       "      <td>246.000000</td>\n",
       "      <td>246.000000</td>\n",
       "      <td>246.000000</td>\n",
       "    </tr>\n",
       "    <tr>\n",
       "      <th>mean</th>\n",
       "      <td>15.060315</td>\n",
       "      <td>15.731352</td>\n",
       "      <td>13.309807</td>\n",
       "      <td>15.073852</td>\n",
       "      <td>15.060315</td>\n",
       "      <td>0.023862</td>\n",
       "      <td>0.259756</td>\n",
       "    </tr>\n",
       "    <tr>\n",
       "      <th>std</th>\n",
       "      <td>2.422166</td>\n",
       "      <td>2.709494</td>\n",
       "      <td>2.382397</td>\n",
       "      <td>2.418055</td>\n",
       "      <td>2.422166</td>\n",
       "      <td>0.762931</td>\n",
       "      <td>4.638415</td>\n",
       "    </tr>\n",
       "    <tr>\n",
       "      <th>min</th>\n",
       "      <td>11.895000</td>\n",
       "      <td>12.500000</td>\n",
       "      <td>9.430000</td>\n",
       "      <td>11.895000</td>\n",
       "      <td>11.895000</td>\n",
       "      <td>-2.490000</td>\n",
       "      <td>-12.200000</td>\n",
       "    </tr>\n",
       "    <tr>\n",
       "      <th>25%</th>\n",
       "      <td>13.080625</td>\n",
       "      <td>13.645000</td>\n",
       "      <td>11.547500</td>\n",
       "      <td>13.120625</td>\n",
       "      <td>13.080625</td>\n",
       "      <td>-0.357500</td>\n",
       "      <td>-2.200000</td>\n",
       "    </tr>\n",
       "    <tr>\n",
       "      <th>50%</th>\n",
       "      <td>14.255000</td>\n",
       "      <td>14.652500</td>\n",
       "      <td>12.493750</td>\n",
       "      <td>14.266250</td>\n",
       "      <td>14.255000</td>\n",
       "      <td>0.000000</td>\n",
       "      <td>0.000000</td>\n",
       "    </tr>\n",
       "    <tr>\n",
       "      <th>75%</th>\n",
       "      <td>16.796875</td>\n",
       "      <td>17.875625</td>\n",
       "      <td>15.064375</td>\n",
       "      <td>16.796875</td>\n",
       "      <td>16.796875</td>\n",
       "      <td>0.337500</td>\n",
       "      <td>2.410000</td>\n",
       "    </tr>\n",
       "    <tr>\n",
       "      <th>max</th>\n",
       "      <td>21.357500</td>\n",
       "      <td>24.035000</td>\n",
       "      <td>19.575000</td>\n",
       "      <td>21.357500</td>\n",
       "      <td>21.357500</td>\n",
       "      <td>3.960000</td>\n",
       "      <td>24.680000</td>\n",
       "    </tr>\n",
       "  </tbody>\n",
       "</table>\n",
       "</div>"
      ],
      "text/plain": [
       "            Open        High         Low       Close   Prev. Close   \\\n",
       "count  246.000000  246.000000  246.000000  246.000000    246.000000   \n",
       "mean    15.060315   15.731352   13.309807   15.073852     15.060315   \n",
       "std      2.422166    2.709494    2.382397    2.418055      2.422166   \n",
       "min     11.895000   12.500000    9.430000   11.895000     11.895000   \n",
       "25%     13.080625   13.645000   11.547500   13.120625     13.080625   \n",
       "50%     14.255000   14.652500   12.493750   14.266250     14.255000   \n",
       "75%     16.796875   17.875625   15.064375   16.796875     16.796875   \n",
       "max     21.357500   24.035000   19.575000   21.357500     21.357500   \n",
       "\n",
       "          Change     % Change  \n",
       "count  246.000000  246.000000  \n",
       "mean     0.023862    0.259756  \n",
       "std      0.762931    4.638415  \n",
       "min     -2.490000  -12.200000  \n",
       "25%     -0.357500   -2.200000  \n",
       "50%      0.000000    0.000000  \n",
       "75%      0.337500    2.410000  \n",
       "max      3.960000   24.680000  "
      ]
     },
     "execution_count": 43,
     "metadata": {},
     "output_type": "execute_result"
    }
   ],
   "source": [
    "# Get descriptive statistics\n",
    "vixData.describe()"
   ]
  },
  {
   "cell_type": "code",
   "execution_count": 44,
   "metadata": {},
   "outputs": [
    {
     "data": {
      "text/html": [
       "<div>\n",
       "<style scoped>\n",
       "    .dataframe tbody tr th:only-of-type {\n",
       "        vertical-align: middle;\n",
       "    }\n",
       "\n",
       "    .dataframe tbody tr th {\n",
       "        vertical-align: top;\n",
       "    }\n",
       "\n",
       "    .dataframe thead th {\n",
       "        text-align: right;\n",
       "    }\n",
       "</style>\n",
       "<table border=\"1\" class=\"dataframe\">\n",
       "  <thead>\n",
       "    <tr style=\"text-align: right;\">\n",
       "      <th></th>\n",
       "      <th>count</th>\n",
       "      <th>mean</th>\n",
       "      <th>std</th>\n",
       "      <th>min</th>\n",
       "      <th>25%</th>\n",
       "      <th>50%</th>\n",
       "      <th>75%</th>\n",
       "      <th>max</th>\n",
       "    </tr>\n",
       "  </thead>\n",
       "  <tbody>\n",
       "    <tr>\n",
       "      <th>Open</th>\n",
       "      <td>246.0</td>\n",
       "      <td>15.060315</td>\n",
       "      <td>2.422166</td>\n",
       "      <td>11.895</td>\n",
       "      <td>13.080625</td>\n",
       "      <td>14.25500</td>\n",
       "      <td>16.796875</td>\n",
       "      <td>21.3575</td>\n",
       "    </tr>\n",
       "    <tr>\n",
       "      <th>High</th>\n",
       "      <td>246.0</td>\n",
       "      <td>15.731352</td>\n",
       "      <td>2.709494</td>\n",
       "      <td>12.500</td>\n",
       "      <td>13.645000</td>\n",
       "      <td>14.65250</td>\n",
       "      <td>17.875625</td>\n",
       "      <td>24.0350</td>\n",
       "    </tr>\n",
       "    <tr>\n",
       "      <th>Low</th>\n",
       "      <td>246.0</td>\n",
       "      <td>13.309807</td>\n",
       "      <td>2.382397</td>\n",
       "      <td>9.430</td>\n",
       "      <td>11.547500</td>\n",
       "      <td>12.49375</td>\n",
       "      <td>15.064375</td>\n",
       "      <td>19.5750</td>\n",
       "    </tr>\n",
       "    <tr>\n",
       "      <th>Close</th>\n",
       "      <td>246.0</td>\n",
       "      <td>15.073852</td>\n",
       "      <td>2.418055</td>\n",
       "      <td>11.895</td>\n",
       "      <td>13.120625</td>\n",
       "      <td>14.26625</td>\n",
       "      <td>16.796875</td>\n",
       "      <td>21.3575</td>\n",
       "    </tr>\n",
       "    <tr>\n",
       "      <th>Prev. Close</th>\n",
       "      <td>246.0</td>\n",
       "      <td>15.060315</td>\n",
       "      <td>2.422166</td>\n",
       "      <td>11.895</td>\n",
       "      <td>13.080625</td>\n",
       "      <td>14.25500</td>\n",
       "      <td>16.796875</td>\n",
       "      <td>21.3575</td>\n",
       "    </tr>\n",
       "    <tr>\n",
       "      <th>Change</th>\n",
       "      <td>246.0</td>\n",
       "      <td>0.023862</td>\n",
       "      <td>0.762931</td>\n",
       "      <td>-2.490</td>\n",
       "      <td>-0.357500</td>\n",
       "      <td>0.00000</td>\n",
       "      <td>0.337500</td>\n",
       "      <td>3.9600</td>\n",
       "    </tr>\n",
       "    <tr>\n",
       "      <th>% Change</th>\n",
       "      <td>246.0</td>\n",
       "      <td>0.259756</td>\n",
       "      <td>4.638415</td>\n",
       "      <td>-12.200</td>\n",
       "      <td>-2.200000</td>\n",
       "      <td>0.00000</td>\n",
       "      <td>2.410000</td>\n",
       "      <td>24.6800</td>\n",
       "    </tr>\n",
       "  </tbody>\n",
       "</table>\n",
       "</div>"
      ],
      "text/plain": [
       "              count       mean       std     min        25%       50%  \\\n",
       "Open          246.0  15.060315  2.422166  11.895  13.080625  14.25500   \n",
       "High          246.0  15.731352  2.709494  12.500  13.645000  14.65250   \n",
       "Low           246.0  13.309807  2.382397   9.430  11.547500  12.49375   \n",
       "Close         246.0  15.073852  2.418055  11.895  13.120625  14.26625   \n",
       "Prev. Close   246.0  15.060315  2.422166  11.895  13.080625  14.25500   \n",
       "Change        246.0   0.023862  0.762931  -2.490  -0.357500   0.00000   \n",
       "% Change      246.0   0.259756  4.638415 -12.200  -2.200000   0.00000   \n",
       "\n",
       "                    75%      max  \n",
       "Open          16.796875  21.3575  \n",
       "High          17.875625  24.0350  \n",
       "Low           15.064375  19.5750  \n",
       "Close         16.796875  21.3575  \n",
       "Prev. Close   16.796875  21.3575  \n",
       "Change         0.337500   3.9600  \n",
       "% Change       2.410000  24.6800  "
      ]
     },
     "execution_count": 44,
     "metadata": {},
     "output_type": "execute_result"
    }
   ],
   "source": [
    "vixData.describe().transpose()"
   ]
  },
  {
   "cell_type": "code",
   "execution_count": 45,
   "metadata": {},
   "outputs": [],
   "source": [
    "# Renaming columns\n",
    "vixData.columns = ['c_Date', 'c_Open', 'c_High', 'c_Low', 'c_Close', 'c_PrevClose', 'c_Change','c_ChangePer']"
   ]
  },
  {
   "cell_type": "code",
   "execution_count": 46,
   "metadata": {},
   "outputs": [
    {
     "name": "stdout",
     "output_type": "stream",
     "text": [
      "<class 'pandas.core.frame.DataFrame'>\n",
      "RangeIndex: 246 entries, 0 to 245\n",
      "Data columns (total 8 columns):\n",
      " #   Column       Non-Null Count  Dtype  \n",
      "---  ------       --------------  -----  \n",
      " 0   c_Date       246 non-null    object \n",
      " 1   c_Open       246 non-null    float64\n",
      " 2   c_High       246 non-null    float64\n",
      " 3   c_Low        246 non-null    float64\n",
      " 4   c_Close      246 non-null    float64\n",
      " 5   c_PrevClose  246 non-null    float64\n",
      " 6   c_Change     246 non-null    float64\n",
      " 7   c_ChangePer  246 non-null    float64\n",
      "dtypes: float64(7), object(1)\n",
      "memory usage: 15.5+ KB\n"
     ]
    }
   ],
   "source": [
    "vixData.info()"
   ]
  },
  {
   "cell_type": "markdown",
   "metadata": {},
   "source": [
    "#### Index to column"
   ]
  },
  {
   "cell_type": "code",
   "execution_count": 48,
   "metadata": {},
   "outputs": [
    {
     "data": {
      "text/html": [
       "<div>\n",
       "<style scoped>\n",
       "    .dataframe tbody tr th:only-of-type {\n",
       "        vertical-align: middle;\n",
       "    }\n",
       "\n",
       "    .dataframe tbody tr th {\n",
       "        vertical-align: top;\n",
       "    }\n",
       "\n",
       "    .dataframe thead th {\n",
       "        text-align: right;\n",
       "    }\n",
       "</style>\n",
       "<table border=\"1\" class=\"dataframe\">\n",
       "  <thead>\n",
       "    <tr style=\"text-align: right;\">\n",
       "      <th></th>\n",
       "      <th>c_Date</th>\n",
       "      <th>c_Open</th>\n",
       "      <th>c_High</th>\n",
       "      <th>c_Low</th>\n",
       "      <th>c_Close</th>\n",
       "      <th>c_PrevClose</th>\n",
       "      <th>c_Change</th>\n",
       "      <th>c_ChangePer</th>\n",
       "      <th>Index_as_column</th>\n",
       "    </tr>\n",
       "  </thead>\n",
       "  <tbody>\n",
       "    <tr>\n",
       "      <th>0</th>\n",
       "      <td>01-Jan-2018</td>\n",
       "      <td>12.6700</td>\n",
       "      <td>13.6125</td>\n",
       "      <td>12.5450</td>\n",
       "      <td>13.3525</td>\n",
       "      <td>12.6700</td>\n",
       "      <td>0.68</td>\n",
       "      <td>5.39</td>\n",
       "      <td>0</td>\n",
       "    </tr>\n",
       "    <tr>\n",
       "      <th>1</th>\n",
       "      <td>02-Jan-2018</td>\n",
       "      <td>13.3525</td>\n",
       "      <td>13.8425</td>\n",
       "      <td>12.6050</td>\n",
       "      <td>13.6850</td>\n",
       "      <td>13.3525</td>\n",
       "      <td>0.33</td>\n",
       "      <td>2.49</td>\n",
       "      <td>1</td>\n",
       "    </tr>\n",
       "    <tr>\n",
       "      <th>2</th>\n",
       "      <td>03-Jan-2018</td>\n",
       "      <td>13.6850</td>\n",
       "      <td>13.7150</td>\n",
       "      <td>12.7650</td>\n",
       "      <td>13.6225</td>\n",
       "      <td>13.6850</td>\n",
       "      <td>-0.06</td>\n",
       "      <td>-0.46</td>\n",
       "      <td>2</td>\n",
       "    </tr>\n",
       "    <tr>\n",
       "      <th>3</th>\n",
       "      <td>04-Jan-2018</td>\n",
       "      <td>13.6225</td>\n",
       "      <td>13.7925</td>\n",
       "      <td>12.1825</td>\n",
       "      <td>13.4150</td>\n",
       "      <td>13.6225</td>\n",
       "      <td>-0.21</td>\n",
       "      <td>-1.52</td>\n",
       "      <td>3</td>\n",
       "    </tr>\n",
       "    <tr>\n",
       "      <th>4</th>\n",
       "      <td>05-Jan-2018</td>\n",
       "      <td>13.4150</td>\n",
       "      <td>13.4150</td>\n",
       "      <td>12.4200</td>\n",
       "      <td>13.1125</td>\n",
       "      <td>13.4150</td>\n",
       "      <td>-0.30</td>\n",
       "      <td>-2.25</td>\n",
       "      <td>4</td>\n",
       "    </tr>\n",
       "    <tr>\n",
       "      <th>...</th>\n",
       "      <td>...</td>\n",
       "      <td>...</td>\n",
       "      <td>...</td>\n",
       "      <td>...</td>\n",
       "      <td>...</td>\n",
       "      <td>...</td>\n",
       "      <td>...</td>\n",
       "      <td>...</td>\n",
       "      <td>...</td>\n",
       "    </tr>\n",
       "    <tr>\n",
       "      <th>241</th>\n",
       "      <td>24-Dec-2018</td>\n",
       "      <td>15.9925</td>\n",
       "      <td>17.1325</td>\n",
       "      <td>14.8975</td>\n",
       "      <td>15.7500</td>\n",
       "      <td>15.9925</td>\n",
       "      <td>-0.24</td>\n",
       "      <td>-1.52</td>\n",
       "      <td>241</td>\n",
       "    </tr>\n",
       "    <tr>\n",
       "      <th>242</th>\n",
       "      <td>26-Dec-2018</td>\n",
       "      <td>15.7500</td>\n",
       "      <td>17.4775</td>\n",
       "      <td>14.8075</td>\n",
       "      <td>15.9200</td>\n",
       "      <td>15.7500</td>\n",
       "      <td>0.17</td>\n",
       "      <td>1.08</td>\n",
       "      <td>242</td>\n",
       "    </tr>\n",
       "    <tr>\n",
       "      <th>243</th>\n",
       "      <td>27-Dec-2018</td>\n",
       "      <td>15.9200</td>\n",
       "      <td>16.3750</td>\n",
       "      <td>12.5625</td>\n",
       "      <td>16.0725</td>\n",
       "      <td>15.9200</td>\n",
       "      <td>0.15</td>\n",
       "      <td>0.96</td>\n",
       "      <td>243</td>\n",
       "    </tr>\n",
       "    <tr>\n",
       "      <th>244</th>\n",
       "      <td>28-Dec-2018</td>\n",
       "      <td>16.0725</td>\n",
       "      <td>16.0725</td>\n",
       "      <td>15.0150</td>\n",
       "      <td>15.2700</td>\n",
       "      <td>16.0725</td>\n",
       "      <td>-0.80</td>\n",
       "      <td>-4.99</td>\n",
       "      <td>244</td>\n",
       "    </tr>\n",
       "    <tr>\n",
       "      <th>245</th>\n",
       "      <td>31-Dec-2018</td>\n",
       "      <td>15.2700</td>\n",
       "      <td>16.1525</td>\n",
       "      <td>14.6500</td>\n",
       "      <td>16.0000</td>\n",
       "      <td>15.2700</td>\n",
       "      <td>0.73</td>\n",
       "      <td>4.78</td>\n",
       "      <td>245</td>\n",
       "    </tr>\n",
       "  </tbody>\n",
       "</table>\n",
       "<p>246 rows × 9 columns</p>\n",
       "</div>"
      ],
      "text/plain": [
       "          c_Date   c_Open   c_High    c_Low  c_Close  c_PrevClose  c_Change  \\\n",
       "0    01-Jan-2018  12.6700  13.6125  12.5450  13.3525      12.6700      0.68   \n",
       "1    02-Jan-2018  13.3525  13.8425  12.6050  13.6850      13.3525      0.33   \n",
       "2    03-Jan-2018  13.6850  13.7150  12.7650  13.6225      13.6850     -0.06   \n",
       "3    04-Jan-2018  13.6225  13.7925  12.1825  13.4150      13.6225     -0.21   \n",
       "4    05-Jan-2018  13.4150  13.4150  12.4200  13.1125      13.4150     -0.30   \n",
       "..           ...      ...      ...      ...      ...          ...       ...   \n",
       "241  24-Dec-2018  15.9925  17.1325  14.8975  15.7500      15.9925     -0.24   \n",
       "242  26-Dec-2018  15.7500  17.4775  14.8075  15.9200      15.7500      0.17   \n",
       "243  27-Dec-2018  15.9200  16.3750  12.5625  16.0725      15.9200      0.15   \n",
       "244  28-Dec-2018  16.0725  16.0725  15.0150  15.2700      16.0725     -0.80   \n",
       "245  31-Dec-2018  15.2700  16.1525  14.6500  16.0000      15.2700      0.73   \n",
       "\n",
       "     c_ChangePer  Index_as_column  \n",
       "0           5.39                0  \n",
       "1           2.49                1  \n",
       "2          -0.46                2  \n",
       "3          -1.52                3  \n",
       "4          -2.25                4  \n",
       "..           ...              ...  \n",
       "241        -1.52              241  \n",
       "242         1.08              242  \n",
       "243         0.96              243  \n",
       "244        -4.99              244  \n",
       "245         4.78              245  \n",
       "\n",
       "[246 rows x 9 columns]"
      ]
     },
     "execution_count": 48,
     "metadata": {},
     "output_type": "execute_result"
    }
   ],
   "source": [
    "vixData['Index_as_column'] = vixData.index\n",
    "vixData"
   ]
  },
  {
   "cell_type": "markdown",
   "metadata": {},
   "source": [
    "### Slice Rows"
   ]
  },
  {
   "cell_type": "code",
   "execution_count": 49,
   "metadata": {},
   "outputs": [
    {
     "data": {
      "text/html": [
       "<div>\n",
       "<style scoped>\n",
       "    .dataframe tbody tr th:only-of-type {\n",
       "        vertical-align: middle;\n",
       "    }\n",
       "\n",
       "    .dataframe tbody tr th {\n",
       "        vertical-align: top;\n",
       "    }\n",
       "\n",
       "    .dataframe thead th {\n",
       "        text-align: right;\n",
       "    }\n",
       "</style>\n",
       "<table border=\"1\" class=\"dataframe\">\n",
       "  <thead>\n",
       "    <tr style=\"text-align: right;\">\n",
       "      <th></th>\n",
       "      <th>c_Date</th>\n",
       "      <th>c_Open</th>\n",
       "      <th>c_High</th>\n",
       "      <th>c_Low</th>\n",
       "      <th>c_Close</th>\n",
       "      <th>c_PrevClose</th>\n",
       "      <th>c_Change</th>\n",
       "      <th>c_ChangePer</th>\n",
       "      <th>Index_as_column</th>\n",
       "    </tr>\n",
       "  </thead>\n",
       "  <tbody>\n",
       "    <tr>\n",
       "      <th>2</th>\n",
       "      <td>03-Jan-2018</td>\n",
       "      <td>13.6850</td>\n",
       "      <td>13.7150</td>\n",
       "      <td>12.7650</td>\n",
       "      <td>13.6225</td>\n",
       "      <td>13.6850</td>\n",
       "      <td>-0.06</td>\n",
       "      <td>-0.46</td>\n",
       "      <td>2</td>\n",
       "    </tr>\n",
       "    <tr>\n",
       "      <th>3</th>\n",
       "      <td>04-Jan-2018</td>\n",
       "      <td>13.6225</td>\n",
       "      <td>13.7925</td>\n",
       "      <td>12.1825</td>\n",
       "      <td>13.4150</td>\n",
       "      <td>13.6225</td>\n",
       "      <td>-0.21</td>\n",
       "      <td>-1.52</td>\n",
       "      <td>3</td>\n",
       "    </tr>\n",
       "    <tr>\n",
       "      <th>4</th>\n",
       "      <td>05-Jan-2018</td>\n",
       "      <td>13.4150</td>\n",
       "      <td>13.4150</td>\n",
       "      <td>12.4200</td>\n",
       "      <td>13.1125</td>\n",
       "      <td>13.4150</td>\n",
       "      <td>-0.30</td>\n",
       "      <td>-2.25</td>\n",
       "      <td>4</td>\n",
       "    </tr>\n",
       "  </tbody>\n",
       "</table>\n",
       "</div>"
      ],
      "text/plain": [
       "        c_Date   c_Open   c_High    c_Low  c_Close  c_PrevClose  c_Change  \\\n",
       "2  03-Jan-2018  13.6850  13.7150  12.7650  13.6225      13.6850     -0.06   \n",
       "3  04-Jan-2018  13.6225  13.7925  12.1825  13.4150      13.6225     -0.21   \n",
       "4  05-Jan-2018  13.4150  13.4150  12.4200  13.1125      13.4150     -0.30   \n",
       "\n",
       "   c_ChangePer  Index_as_column  \n",
       "2        -0.46                2  \n",
       "3        -1.52                3  \n",
       "4        -2.25                4  "
      ]
     },
     "execution_count": 49,
     "metadata": {},
     "output_type": "execute_result"
    }
   ],
   "source": [
    "vixData[2:5] # Rows 2 to 5"
   ]
  },
  {
   "cell_type": "code",
   "execution_count": 50,
   "metadata": {},
   "outputs": [
    {
     "data": {
      "text/html": [
       "<div>\n",
       "<style scoped>\n",
       "    .dataframe tbody tr th:only-of-type {\n",
       "        vertical-align: middle;\n",
       "    }\n",
       "\n",
       "    .dataframe tbody tr th {\n",
       "        vertical-align: top;\n",
       "    }\n",
       "\n",
       "    .dataframe thead th {\n",
       "        text-align: right;\n",
       "    }\n",
       "</style>\n",
       "<table border=\"1\" class=\"dataframe\">\n",
       "  <thead>\n",
       "    <tr style=\"text-align: right;\">\n",
       "      <th></th>\n",
       "      <th>c_Date</th>\n",
       "      <th>c_Open</th>\n",
       "      <th>c_High</th>\n",
       "      <th>c_Low</th>\n",
       "      <th>c_Close</th>\n",
       "      <th>c_PrevClose</th>\n",
       "      <th>c_Change</th>\n",
       "      <th>c_ChangePer</th>\n",
       "      <th>Index_as_column</th>\n",
       "    </tr>\n",
       "  </thead>\n",
       "  <tbody>\n",
       "    <tr>\n",
       "      <th>242</th>\n",
       "      <td>26-Dec-2018</td>\n",
       "      <td>15.7500</td>\n",
       "      <td>17.4775</td>\n",
       "      <td>14.8075</td>\n",
       "      <td>15.9200</td>\n",
       "      <td>15.7500</td>\n",
       "      <td>0.17</td>\n",
       "      <td>1.08</td>\n",
       "      <td>242</td>\n",
       "    </tr>\n",
       "    <tr>\n",
       "      <th>243</th>\n",
       "      <td>27-Dec-2018</td>\n",
       "      <td>15.9200</td>\n",
       "      <td>16.3750</td>\n",
       "      <td>12.5625</td>\n",
       "      <td>16.0725</td>\n",
       "      <td>15.9200</td>\n",
       "      <td>0.15</td>\n",
       "      <td>0.96</td>\n",
       "      <td>243</td>\n",
       "    </tr>\n",
       "    <tr>\n",
       "      <th>244</th>\n",
       "      <td>28-Dec-2018</td>\n",
       "      <td>16.0725</td>\n",
       "      <td>16.0725</td>\n",
       "      <td>15.0150</td>\n",
       "      <td>15.2700</td>\n",
       "      <td>16.0725</td>\n",
       "      <td>-0.80</td>\n",
       "      <td>-4.99</td>\n",
       "      <td>244</td>\n",
       "    </tr>\n",
       "    <tr>\n",
       "      <th>245</th>\n",
       "      <td>31-Dec-2018</td>\n",
       "      <td>15.2700</td>\n",
       "      <td>16.1525</td>\n",
       "      <td>14.6500</td>\n",
       "      <td>16.0000</td>\n",
       "      <td>15.2700</td>\n",
       "      <td>0.73</td>\n",
       "      <td>4.78</td>\n",
       "      <td>245</td>\n",
       "    </tr>\n",
       "  </tbody>\n",
       "</table>\n",
       "</div>"
      ],
      "text/plain": [
       "          c_Date   c_Open   c_High    c_Low  c_Close  c_PrevClose  c_Change  \\\n",
       "242  26-Dec-2018  15.7500  17.4775  14.8075  15.9200      15.7500      0.17   \n",
       "243  27-Dec-2018  15.9200  16.3750  12.5625  16.0725      15.9200      0.15   \n",
       "244  28-Dec-2018  16.0725  16.0725  15.0150  15.2700      16.0725     -0.80   \n",
       "245  31-Dec-2018  15.2700  16.1525  14.6500  16.0000      15.2700      0.73   \n",
       "\n",
       "     c_ChangePer  Index_as_column  \n",
       "242         1.08              242  \n",
       "243         0.96              243  \n",
       "244        -4.99              244  \n",
       "245         4.78              245  "
      ]
     },
     "execution_count": 50,
     "metadata": {},
     "output_type": "execute_result"
    }
   ],
   "source": [
    "vixData[242:]   # Rows 242 onwards"
   ]
  },
  {
   "cell_type": "code",
   "execution_count": 51,
   "metadata": {},
   "outputs": [
    {
     "data": {
      "text/html": [
       "<div>\n",
       "<style scoped>\n",
       "    .dataframe tbody tr th:only-of-type {\n",
       "        vertical-align: middle;\n",
       "    }\n",
       "\n",
       "    .dataframe tbody tr th {\n",
       "        vertical-align: top;\n",
       "    }\n",
       "\n",
       "    .dataframe thead th {\n",
       "        text-align: right;\n",
       "    }\n",
       "</style>\n",
       "<table border=\"1\" class=\"dataframe\">\n",
       "  <thead>\n",
       "    <tr style=\"text-align: right;\">\n",
       "      <th></th>\n",
       "      <th>c_Date</th>\n",
       "      <th>c_Open</th>\n",
       "      <th>c_High</th>\n",
       "      <th>c_Low</th>\n",
       "      <th>c_Close</th>\n",
       "      <th>c_PrevClose</th>\n",
       "      <th>c_Change</th>\n",
       "      <th>c_ChangePer</th>\n",
       "      <th>Index_as_column</th>\n",
       "    </tr>\n",
       "  </thead>\n",
       "  <tbody>\n",
       "    <tr>\n",
       "      <th>245</th>\n",
       "      <td>31-Dec-2018</td>\n",
       "      <td>15.2700</td>\n",
       "      <td>16.1525</td>\n",
       "      <td>14.6500</td>\n",
       "      <td>16.0000</td>\n",
       "      <td>15.2700</td>\n",
       "      <td>0.73</td>\n",
       "      <td>4.78</td>\n",
       "      <td>245</td>\n",
       "    </tr>\n",
       "    <tr>\n",
       "      <th>244</th>\n",
       "      <td>28-Dec-2018</td>\n",
       "      <td>16.0725</td>\n",
       "      <td>16.0725</td>\n",
       "      <td>15.0150</td>\n",
       "      <td>15.2700</td>\n",
       "      <td>16.0725</td>\n",
       "      <td>-0.80</td>\n",
       "      <td>-4.99</td>\n",
       "      <td>244</td>\n",
       "    </tr>\n",
       "    <tr>\n",
       "      <th>243</th>\n",
       "      <td>27-Dec-2018</td>\n",
       "      <td>15.9200</td>\n",
       "      <td>16.3750</td>\n",
       "      <td>12.5625</td>\n",
       "      <td>16.0725</td>\n",
       "      <td>15.9200</td>\n",
       "      <td>0.15</td>\n",
       "      <td>0.96</td>\n",
       "      <td>243</td>\n",
       "    </tr>\n",
       "    <tr>\n",
       "      <th>242</th>\n",
       "      <td>26-Dec-2018</td>\n",
       "      <td>15.7500</td>\n",
       "      <td>17.4775</td>\n",
       "      <td>14.8075</td>\n",
       "      <td>15.9200</td>\n",
       "      <td>15.7500</td>\n",
       "      <td>0.17</td>\n",
       "      <td>1.08</td>\n",
       "      <td>242</td>\n",
       "    </tr>\n",
       "    <tr>\n",
       "      <th>241</th>\n",
       "      <td>24-Dec-2018</td>\n",
       "      <td>15.9925</td>\n",
       "      <td>17.1325</td>\n",
       "      <td>14.8975</td>\n",
       "      <td>15.7500</td>\n",
       "      <td>15.9925</td>\n",
       "      <td>-0.24</td>\n",
       "      <td>-1.52</td>\n",
       "      <td>241</td>\n",
       "    </tr>\n",
       "    <tr>\n",
       "      <th>...</th>\n",
       "      <td>...</td>\n",
       "      <td>...</td>\n",
       "      <td>...</td>\n",
       "      <td>...</td>\n",
       "      <td>...</td>\n",
       "      <td>...</td>\n",
       "      <td>...</td>\n",
       "      <td>...</td>\n",
       "      <td>...</td>\n",
       "    </tr>\n",
       "    <tr>\n",
       "      <th>4</th>\n",
       "      <td>05-Jan-2018</td>\n",
       "      <td>13.4150</td>\n",
       "      <td>13.4150</td>\n",
       "      <td>12.4200</td>\n",
       "      <td>13.1125</td>\n",
       "      <td>13.4150</td>\n",
       "      <td>-0.30</td>\n",
       "      <td>-2.25</td>\n",
       "      <td>4</td>\n",
       "    </tr>\n",
       "    <tr>\n",
       "      <th>3</th>\n",
       "      <td>04-Jan-2018</td>\n",
       "      <td>13.6225</td>\n",
       "      <td>13.7925</td>\n",
       "      <td>12.1825</td>\n",
       "      <td>13.4150</td>\n",
       "      <td>13.6225</td>\n",
       "      <td>-0.21</td>\n",
       "      <td>-1.52</td>\n",
       "      <td>3</td>\n",
       "    </tr>\n",
       "    <tr>\n",
       "      <th>2</th>\n",
       "      <td>03-Jan-2018</td>\n",
       "      <td>13.6850</td>\n",
       "      <td>13.7150</td>\n",
       "      <td>12.7650</td>\n",
       "      <td>13.6225</td>\n",
       "      <td>13.6850</td>\n",
       "      <td>-0.06</td>\n",
       "      <td>-0.46</td>\n",
       "      <td>2</td>\n",
       "    </tr>\n",
       "    <tr>\n",
       "      <th>1</th>\n",
       "      <td>02-Jan-2018</td>\n",
       "      <td>13.3525</td>\n",
       "      <td>13.8425</td>\n",
       "      <td>12.6050</td>\n",
       "      <td>13.6850</td>\n",
       "      <td>13.3525</td>\n",
       "      <td>0.33</td>\n",
       "      <td>2.49</td>\n",
       "      <td>1</td>\n",
       "    </tr>\n",
       "    <tr>\n",
       "      <th>0</th>\n",
       "      <td>01-Jan-2018</td>\n",
       "      <td>12.6700</td>\n",
       "      <td>13.6125</td>\n",
       "      <td>12.5450</td>\n",
       "      <td>13.3525</td>\n",
       "      <td>12.6700</td>\n",
       "      <td>0.68</td>\n",
       "      <td>5.39</td>\n",
       "      <td>0</td>\n",
       "    </tr>\n",
       "  </tbody>\n",
       "</table>\n",
       "<p>246 rows × 9 columns</p>\n",
       "</div>"
      ],
      "text/plain": [
       "          c_Date   c_Open   c_High    c_Low  c_Close  c_PrevClose  c_Change  \\\n",
       "245  31-Dec-2018  15.2700  16.1525  14.6500  16.0000      15.2700      0.73   \n",
       "244  28-Dec-2018  16.0725  16.0725  15.0150  15.2700      16.0725     -0.80   \n",
       "243  27-Dec-2018  15.9200  16.3750  12.5625  16.0725      15.9200      0.15   \n",
       "242  26-Dec-2018  15.7500  17.4775  14.8075  15.9200      15.7500      0.17   \n",
       "241  24-Dec-2018  15.9925  17.1325  14.8975  15.7500      15.9925     -0.24   \n",
       "..           ...      ...      ...      ...      ...          ...       ...   \n",
       "4    05-Jan-2018  13.4150  13.4150  12.4200  13.1125      13.4150     -0.30   \n",
       "3    04-Jan-2018  13.6225  13.7925  12.1825  13.4150      13.6225     -0.21   \n",
       "2    03-Jan-2018  13.6850  13.7150  12.7650  13.6225      13.6850     -0.06   \n",
       "1    02-Jan-2018  13.3525  13.8425  12.6050  13.6850      13.3525      0.33   \n",
       "0    01-Jan-2018  12.6700  13.6125  12.5450  13.3525      12.6700      0.68   \n",
       "\n",
       "     c_ChangePer  Index_as_column  \n",
       "245         4.78              245  \n",
       "244        -4.99              244  \n",
       "243         0.96              243  \n",
       "242         1.08              242  \n",
       "241        -1.52              241  \n",
       "..           ...              ...  \n",
       "4          -2.25                4  \n",
       "3          -1.52                3  \n",
       "2          -0.46                2  \n",
       "1           2.49                1  \n",
       "0           5.39                0  \n",
       "\n",
       "[246 rows x 9 columns]"
      ]
     },
     "execution_count": 51,
     "metadata": {},
     "output_type": "execute_result"
    }
   ],
   "source": [
    "vixData[ : :-1]   #------- In reverse order"
   ]
  },
  {
   "cell_type": "code",
   "execution_count": 52,
   "metadata": {},
   "outputs": [
    {
     "data": {
      "text/html": [
       "<div>\n",
       "<style scoped>\n",
       "    .dataframe tbody tr th:only-of-type {\n",
       "        vertical-align: middle;\n",
       "    }\n",
       "\n",
       "    .dataframe tbody tr th {\n",
       "        vertical-align: top;\n",
       "    }\n",
       "\n",
       "    .dataframe thead th {\n",
       "        text-align: right;\n",
       "    }\n",
       "</style>\n",
       "<table border=\"1\" class=\"dataframe\">\n",
       "  <thead>\n",
       "    <tr style=\"text-align: right;\">\n",
       "      <th></th>\n",
       "      <th>c_Date</th>\n",
       "      <th>c_Open</th>\n",
       "      <th>c_High</th>\n",
       "      <th>c_Low</th>\n",
       "      <th>c_Close</th>\n",
       "      <th>c_PrevClose</th>\n",
       "      <th>c_Change</th>\n",
       "      <th>c_ChangePer</th>\n",
       "      <th>Index_as_column</th>\n",
       "    </tr>\n",
       "  </thead>\n",
       "  <tbody>\n",
       "    <tr>\n",
       "      <th>0</th>\n",
       "      <td>01-Jan-2018</td>\n",
       "      <td>12.6700</td>\n",
       "      <td>13.6125</td>\n",
       "      <td>12.5450</td>\n",
       "      <td>13.3525</td>\n",
       "      <td>12.6700</td>\n",
       "      <td>0.68</td>\n",
       "      <td>5.39</td>\n",
       "      <td>0</td>\n",
       "    </tr>\n",
       "    <tr>\n",
       "      <th>20</th>\n",
       "      <td>30-Jan-2018</td>\n",
       "      <td>17.8875</td>\n",
       "      <td>18.0050</td>\n",
       "      <td>16.1500</td>\n",
       "      <td>16.4150</td>\n",
       "      <td>17.8875</td>\n",
       "      <td>-1.47</td>\n",
       "      <td>-8.23</td>\n",
       "      <td>20</td>\n",
       "    </tr>\n",
       "    <tr>\n",
       "      <th>40</th>\n",
       "      <td>28-Feb-2018</td>\n",
       "      <td>13.9225</td>\n",
       "      <td>14.4000</td>\n",
       "      <td>12.5250</td>\n",
       "      <td>13.8050</td>\n",
       "      <td>13.9225</td>\n",
       "      <td>0.00</td>\n",
       "      <td>0.00</td>\n",
       "      <td>40</td>\n",
       "    </tr>\n",
       "    <tr>\n",
       "      <th>60</th>\n",
       "      <td>02-Apr-2018</td>\n",
       "      <td>15.7575</td>\n",
       "      <td>16.4500</td>\n",
       "      <td>15.1975</td>\n",
       "      <td>15.3475</td>\n",
       "      <td>15.7575</td>\n",
       "      <td>-0.41</td>\n",
       "      <td>-2.60</td>\n",
       "      <td>60</td>\n",
       "    </tr>\n",
       "    <tr>\n",
       "      <th>80</th>\n",
       "      <td>30-Apr-2018</td>\n",
       "      <td>12.0175</td>\n",
       "      <td>12.5525</td>\n",
       "      <td>12.0175</td>\n",
       "      <td>12.3625</td>\n",
       "      <td>12.0175</td>\n",
       "      <td>0.35</td>\n",
       "      <td>2.87</td>\n",
       "      <td>80</td>\n",
       "    </tr>\n",
       "    <tr>\n",
       "      <th>100</th>\n",
       "      <td>29-May-2018</td>\n",
       "      <td>13.0550</td>\n",
       "      <td>13.8675</td>\n",
       "      <td>11.9750</td>\n",
       "      <td>13.0700</td>\n",
       "      <td>13.0550</td>\n",
       "      <td>0.02</td>\n",
       "      <td>0.11</td>\n",
       "      <td>100</td>\n",
       "    </tr>\n",
       "    <tr>\n",
       "      <th>120</th>\n",
       "      <td>26-Jun-2018</td>\n",
       "      <td>12.5825</td>\n",
       "      <td>12.9700</td>\n",
       "      <td>12.3325</td>\n",
       "      <td>12.7975</td>\n",
       "      <td>12.5825</td>\n",
       "      <td>0.22</td>\n",
       "      <td>1.71</td>\n",
       "      <td>120</td>\n",
       "    </tr>\n",
       "    <tr>\n",
       "      <th>140</th>\n",
       "      <td>24-Jul-2018</td>\n",
       "      <td>13.0050</td>\n",
       "      <td>13.0800</td>\n",
       "      <td>12.1475</td>\n",
       "      <td>12.4675</td>\n",
       "      <td>13.0050</td>\n",
       "      <td>-0.54</td>\n",
       "      <td>-4.13</td>\n",
       "      <td>140</td>\n",
       "    </tr>\n",
       "    <tr>\n",
       "      <th>160</th>\n",
       "      <td>23-Aug-2018</td>\n",
       "      <td>12.9025</td>\n",
       "      <td>13.1175</td>\n",
       "      <td>9.5300</td>\n",
       "      <td>12.7575</td>\n",
       "      <td>12.9025</td>\n",
       "      <td>-0.15</td>\n",
       "      <td>-1.12</td>\n",
       "      <td>160</td>\n",
       "    </tr>\n",
       "    <tr>\n",
       "      <th>180</th>\n",
       "      <td>24-Sep-2018</td>\n",
       "      <td>15.5350</td>\n",
       "      <td>17.8550</td>\n",
       "      <td>13.8025</td>\n",
       "      <td>17.4275</td>\n",
       "      <td>15.5350</td>\n",
       "      <td>1.89</td>\n",
       "      <td>12.18</td>\n",
       "      <td>180</td>\n",
       "    </tr>\n",
       "    <tr>\n",
       "      <th>200</th>\n",
       "      <td>24-Oct-2018</td>\n",
       "      <td>19.0375</td>\n",
       "      <td>19.8100</td>\n",
       "      <td>17.7125</td>\n",
       "      <td>18.8800</td>\n",
       "      <td>19.0375</td>\n",
       "      <td>-0.16</td>\n",
       "      <td>-0.83</td>\n",
       "      <td>200</td>\n",
       "    </tr>\n",
       "    <tr>\n",
       "      <th>220</th>\n",
       "      <td>22-Nov-2018</td>\n",
       "      <td>19.5550</td>\n",
       "      <td>20.0025</td>\n",
       "      <td>17.0875</td>\n",
       "      <td>19.1600</td>\n",
       "      <td>19.5550</td>\n",
       "      <td>-0.40</td>\n",
       "      <td>-2.02</td>\n",
       "      <td>220</td>\n",
       "    </tr>\n",
       "    <tr>\n",
       "      <th>240</th>\n",
       "      <td>21-Dec-2018</td>\n",
       "      <td>14.3325</td>\n",
       "      <td>16.2300</td>\n",
       "      <td>12.9400</td>\n",
       "      <td>15.9925</td>\n",
       "      <td>14.3325</td>\n",
       "      <td>1.66</td>\n",
       "      <td>11.58</td>\n",
       "      <td>240</td>\n",
       "    </tr>\n",
       "  </tbody>\n",
       "</table>\n",
       "</div>"
      ],
      "text/plain": [
       "          c_Date   c_Open   c_High    c_Low  c_Close  c_PrevClose  c_Change  \\\n",
       "0    01-Jan-2018  12.6700  13.6125  12.5450  13.3525      12.6700      0.68   \n",
       "20   30-Jan-2018  17.8875  18.0050  16.1500  16.4150      17.8875     -1.47   \n",
       "40   28-Feb-2018  13.9225  14.4000  12.5250  13.8050      13.9225      0.00   \n",
       "60   02-Apr-2018  15.7575  16.4500  15.1975  15.3475      15.7575     -0.41   \n",
       "80   30-Apr-2018  12.0175  12.5525  12.0175  12.3625      12.0175      0.35   \n",
       "100  29-May-2018  13.0550  13.8675  11.9750  13.0700      13.0550      0.02   \n",
       "120  26-Jun-2018  12.5825  12.9700  12.3325  12.7975      12.5825      0.22   \n",
       "140  24-Jul-2018  13.0050  13.0800  12.1475  12.4675      13.0050     -0.54   \n",
       "160  23-Aug-2018  12.9025  13.1175   9.5300  12.7575      12.9025     -0.15   \n",
       "180  24-Sep-2018  15.5350  17.8550  13.8025  17.4275      15.5350      1.89   \n",
       "200  24-Oct-2018  19.0375  19.8100  17.7125  18.8800      19.0375     -0.16   \n",
       "220  22-Nov-2018  19.5550  20.0025  17.0875  19.1600      19.5550     -0.40   \n",
       "240  21-Dec-2018  14.3325  16.2300  12.9400  15.9925      14.3325      1.66   \n",
       "\n",
       "     c_ChangePer  Index_as_column  \n",
       "0           5.39                0  \n",
       "20         -8.23               20  \n",
       "40          0.00               40  \n",
       "60         -2.60               60  \n",
       "80          2.87               80  \n",
       "100         0.11              100  \n",
       "120         1.71              120  \n",
       "140        -4.13              140  \n",
       "160        -1.12              160  \n",
       "180        12.18              180  \n",
       "200        -0.83              200  \n",
       "220        -2.02              220  \n",
       "240        11.58              240  "
      ]
     },
     "execution_count": 52,
     "metadata": {},
     "output_type": "execute_result"
    }
   ],
   "source": [
    "vixData[ : :20]   #------- Get every  20th row"
   ]
  },
  {
   "cell_type": "code",
   "execution_count": 53,
   "metadata": {},
   "outputs": [
    {
     "data": {
      "text/html": [
       "<div>\n",
       "<style scoped>\n",
       "    .dataframe tbody tr th:only-of-type {\n",
       "        vertical-align: middle;\n",
       "    }\n",
       "\n",
       "    .dataframe tbody tr th {\n",
       "        vertical-align: top;\n",
       "    }\n",
       "\n",
       "    .dataframe thead th {\n",
       "        text-align: right;\n",
       "    }\n",
       "</style>\n",
       "<table border=\"1\" class=\"dataframe\">\n",
       "  <thead>\n",
       "    <tr style=\"text-align: right;\">\n",
       "      <th></th>\n",
       "      <th>c_Date</th>\n",
       "      <th>c_Open</th>\n",
       "      <th>c_High</th>\n",
       "      <th>c_Low</th>\n",
       "      <th>c_Close</th>\n",
       "      <th>c_PrevClose</th>\n",
       "      <th>c_Change</th>\n",
       "      <th>c_ChangePer</th>\n",
       "      <th>Index_as_column</th>\n",
       "    </tr>\n",
       "  </thead>\n",
       "  <tbody>\n",
       "    <tr>\n",
       "      <th>10</th>\n",
       "      <td>15-Jan-2018</td>\n",
       "      <td>13.7325</td>\n",
       "      <td>14.4750</td>\n",
       "      <td>11.8125</td>\n",
       "      <td>14.3050</td>\n",
       "      <td>13.7325</td>\n",
       "      <td>0.57</td>\n",
       "      <td>4.17</td>\n",
       "      <td>10</td>\n",
       "    </tr>\n",
       "    <tr>\n",
       "      <th>12</th>\n",
       "      <td>17-Jan-2018</td>\n",
       "      <td>14.0850</td>\n",
       "      <td>14.4450</td>\n",
       "      <td>10.3450</td>\n",
       "      <td>13.8600</td>\n",
       "      <td>14.0850</td>\n",
       "      <td>-0.23</td>\n",
       "      <td>-1.60</td>\n",
       "      <td>12</td>\n",
       "    </tr>\n",
       "    <tr>\n",
       "      <th>14</th>\n",
       "      <td>19-Jan-2018</td>\n",
       "      <td>13.9600</td>\n",
       "      <td>14.1950</td>\n",
       "      <td>10.7500</td>\n",
       "      <td>13.9825</td>\n",
       "      <td>13.9600</td>\n",
       "      <td>0.02</td>\n",
       "      <td>0.16</td>\n",
       "      <td>14</td>\n",
       "    </tr>\n",
       "    <tr>\n",
       "      <th>16</th>\n",
       "      <td>23-Jan-2018</td>\n",
       "      <td>15.3925</td>\n",
       "      <td>16.2975</td>\n",
       "      <td>14.1100</td>\n",
       "      <td>16.2250</td>\n",
       "      <td>15.3925</td>\n",
       "      <td>0.83</td>\n",
       "      <td>5.41</td>\n",
       "      <td>16</td>\n",
       "    </tr>\n",
       "    <tr>\n",
       "      <th>18</th>\n",
       "      <td>25-Jan-2018</td>\n",
       "      <td>18.0400</td>\n",
       "      <td>18.2350</td>\n",
       "      <td>17.0350</td>\n",
       "      <td>17.5075</td>\n",
       "      <td>18.0400</td>\n",
       "      <td>-0.53</td>\n",
       "      <td>-2.95</td>\n",
       "      <td>18</td>\n",
       "    </tr>\n",
       "  </tbody>\n",
       "</table>\n",
       "</div>"
      ],
      "text/plain": [
       "         c_Date   c_Open   c_High    c_Low  c_Close  c_PrevClose  c_Change  \\\n",
       "10  15-Jan-2018  13.7325  14.4750  11.8125  14.3050      13.7325      0.57   \n",
       "12  17-Jan-2018  14.0850  14.4450  10.3450  13.8600      14.0850     -0.23   \n",
       "14  19-Jan-2018  13.9600  14.1950  10.7500  13.9825      13.9600      0.02   \n",
       "16  23-Jan-2018  15.3925  16.2975  14.1100  16.2250      15.3925      0.83   \n",
       "18  25-Jan-2018  18.0400  18.2350  17.0350  17.5075      18.0400     -0.53   \n",
       "\n",
       "    c_ChangePer  Index_as_column  \n",
       "10         4.17               10  \n",
       "12        -1.60               12  \n",
       "14         0.16               14  \n",
       "16         5.41               16  \n",
       "18        -2.95               18  "
      ]
     },
     "execution_count": 53,
     "metadata": {},
     "output_type": "execute_result"
    }
   ],
   "source": [
    "vixData[10:20:2]   #------- Alternative row between 10 and 20"
   ]
  },
  {
   "cell_type": "markdown",
   "metadata": {},
   "source": [
    "### Slice Columns"
   ]
  },
  {
   "cell_type": "code",
   "execution_count": 54,
   "metadata": {},
   "outputs": [
    {
     "data": {
      "text/plain": [
       "0      13.3525\n",
       "1      13.6850\n",
       "2      13.6225\n",
       "3      13.4150\n",
       "4      13.1125\n",
       "        ...   \n",
       "241    15.7500\n",
       "242    15.9200\n",
       "243    16.0725\n",
       "244    15.2700\n",
       "245    16.0000\n",
       "Name: c_Close, Length: 246, dtype: float64"
      ]
     },
     "execution_count": 54,
     "metadata": {},
     "output_type": "execute_result"
    }
   ],
   "source": [
    "vixData['c_Close']   # Get column by name"
   ]
  },
  {
   "cell_type": "code",
   "execution_count": 55,
   "metadata": {},
   "outputs": [
    {
     "data": {
      "text/plain": [
       "0    13.3525\n",
       "1    13.6850\n",
       "2    13.6225\n",
       "3    13.4150\n",
       "4    13.1125\n",
       "Name: c_Close, dtype: float64"
      ]
     },
     "execution_count": 55,
     "metadata": {},
     "output_type": "execute_result"
    }
   ],
   "source": [
    "vixData.c_Close.head()   # Get column by . operator and get just the top 5 values"
   ]
  },
  {
   "cell_type": "markdown",
   "metadata": {},
   "source": [
    "### Slice by Rows and Columns"
   ]
  },
  {
   "cell_type": "code",
   "execution_count": 56,
   "metadata": {},
   "outputs": [
    {
     "data": {
      "text/html": [
       "<div>\n",
       "<style scoped>\n",
       "    .dataframe tbody tr th:only-of-type {\n",
       "        vertical-align: middle;\n",
       "    }\n",
       "\n",
       "    .dataframe tbody tr th {\n",
       "        vertical-align: top;\n",
       "    }\n",
       "\n",
       "    .dataframe thead th {\n",
       "        text-align: right;\n",
       "    }\n",
       "</style>\n",
       "<table border=\"1\" class=\"dataframe\">\n",
       "  <thead>\n",
       "    <tr style=\"text-align: right;\">\n",
       "      <th></th>\n",
       "      <th>c_Close</th>\n",
       "      <th>c_ChangePer</th>\n",
       "    </tr>\n",
       "  </thead>\n",
       "  <tbody>\n",
       "    <tr>\n",
       "      <th>2</th>\n",
       "      <td>13.6225</td>\n",
       "      <td>-0.46</td>\n",
       "    </tr>\n",
       "    <tr>\n",
       "      <th>3</th>\n",
       "      <td>13.4150</td>\n",
       "      <td>-1.52</td>\n",
       "    </tr>\n",
       "    <tr>\n",
       "      <th>4</th>\n",
       "      <td>13.1125</td>\n",
       "      <td>-2.25</td>\n",
       "    </tr>\n",
       "  </tbody>\n",
       "</table>\n",
       "</div>"
      ],
      "text/plain": [
       "   c_Close  c_ChangePer\n",
       "2  13.6225        -0.46\n",
       "3  13.4150        -1.52\n",
       "4  13.1125        -2.25"
      ]
     },
     "execution_count": 56,
     "metadata": {},
     "output_type": "execute_result"
    }
   ],
   "source": [
    "vixData[2:5][['c_Close', 'c_ChangePer']]  # Rows 2 to 5 and selected column"
   ]
  },
  {
   "cell_type": "code",
   "execution_count": 57,
   "metadata": {},
   "outputs": [
    {
     "data": {
      "text/html": [
       "<div>\n",
       "<style scoped>\n",
       "    .dataframe tbody tr th:only-of-type {\n",
       "        vertical-align: middle;\n",
       "    }\n",
       "\n",
       "    .dataframe tbody tr th {\n",
       "        vertical-align: top;\n",
       "    }\n",
       "\n",
       "    .dataframe thead th {\n",
       "        text-align: right;\n",
       "    }\n",
       "</style>\n",
       "<table border=\"1\" class=\"dataframe\">\n",
       "  <thead>\n",
       "    <tr style=\"text-align: right;\">\n",
       "      <th></th>\n",
       "      <th>c_Close</th>\n",
       "      <th>c_ChangePer</th>\n",
       "    </tr>\n",
       "  </thead>\n",
       "  <tbody>\n",
       "    <tr>\n",
       "      <th>2</th>\n",
       "      <td>13.6225</td>\n",
       "      <td>-0.46</td>\n",
       "    </tr>\n",
       "    <tr>\n",
       "      <th>3</th>\n",
       "      <td>13.4150</td>\n",
       "      <td>-1.52</td>\n",
       "    </tr>\n",
       "    <tr>\n",
       "      <th>4</th>\n",
       "      <td>13.1125</td>\n",
       "      <td>-2.25</td>\n",
       "    </tr>\n",
       "  </tbody>\n",
       "</table>\n",
       "</div>"
      ],
      "text/plain": [
       "   c_Close  c_ChangePer\n",
       "2  13.6225        -0.46\n",
       "3  13.4150        -1.52\n",
       "4  13.1125        -2.25"
      ]
     },
     "execution_count": 57,
     "metadata": {},
     "output_type": "execute_result"
    }
   ],
   "source": [
    "vixData[['c_Close', 'c_ChangePer']][2:5]   # Selected column and rows 2 to 5 - returns same value"
   ]
  },
  {
   "cell_type": "markdown",
   "metadata": {},
   "source": [
    "### Basic Operations with Datasets"
   ]
  },
  {
   "cell_type": "code",
   "execution_count": 58,
   "metadata": {},
   "outputs": [
    {
     "data": {
      "text/plain": [
       "0      539.0\n",
       "1      249.0\n",
       "2      -46.0\n",
       "3     -152.0\n",
       "4     -225.0\n",
       "       ...  \n",
       "241   -152.0\n",
       "242    108.0\n",
       "243     96.0\n",
       "244   -499.0\n",
       "245    478.0\n",
       "Name: c_ChangePer, Length: 246, dtype: float64"
      ]
     },
     "execution_count": 58,
     "metadata": {},
     "output_type": "execute_result"
    }
   ],
   "source": [
    "results = vixData['c_ChangePer'] * 100\n",
    "results"
   ]
  },
  {
   "cell_type": "markdown",
   "metadata": {},
   "source": [
    "### Adding a column"
   ]
  },
  {
   "cell_type": "code",
   "execution_count": 59,
   "metadata": {},
   "outputs": [],
   "source": [
    "vixData['CalculatedChange'] = vixData['c_Close'] - vixData['c_PrevClose']"
   ]
  },
  {
   "cell_type": "code",
   "execution_count": 60,
   "metadata": {},
   "outputs": [
    {
     "data": {
      "text/html": [
       "<div>\n",
       "<style scoped>\n",
       "    .dataframe tbody tr th:only-of-type {\n",
       "        vertical-align: middle;\n",
       "    }\n",
       "\n",
       "    .dataframe tbody tr th {\n",
       "        vertical-align: top;\n",
       "    }\n",
       "\n",
       "    .dataframe thead th {\n",
       "        text-align: right;\n",
       "    }\n",
       "</style>\n",
       "<table border=\"1\" class=\"dataframe\">\n",
       "  <thead>\n",
       "    <tr style=\"text-align: right;\">\n",
       "      <th></th>\n",
       "      <th>c_Date</th>\n",
       "      <th>c_Open</th>\n",
       "      <th>c_High</th>\n",
       "      <th>c_Low</th>\n",
       "      <th>c_Close</th>\n",
       "      <th>c_PrevClose</th>\n",
       "      <th>c_Change</th>\n",
       "      <th>c_ChangePer</th>\n",
       "      <th>Index_as_column</th>\n",
       "      <th>CalculatedChange</th>\n",
       "    </tr>\n",
       "  </thead>\n",
       "  <tbody>\n",
       "    <tr>\n",
       "      <th>0</th>\n",
       "      <td>01-Jan-2018</td>\n",
       "      <td>12.6700</td>\n",
       "      <td>13.6125</td>\n",
       "      <td>12.545</td>\n",
       "      <td>13.3525</td>\n",
       "      <td>12.6700</td>\n",
       "      <td>0.68</td>\n",
       "      <td>5.39</td>\n",
       "      <td>0</td>\n",
       "      <td>0.6825</td>\n",
       "    </tr>\n",
       "    <tr>\n",
       "      <th>1</th>\n",
       "      <td>02-Jan-2018</td>\n",
       "      <td>13.3525</td>\n",
       "      <td>13.8425</td>\n",
       "      <td>12.605</td>\n",
       "      <td>13.6850</td>\n",
       "      <td>13.3525</td>\n",
       "      <td>0.33</td>\n",
       "      <td>2.49</td>\n",
       "      <td>1</td>\n",
       "      <td>0.3325</td>\n",
       "    </tr>\n",
       "    <tr>\n",
       "      <th>2</th>\n",
       "      <td>03-Jan-2018</td>\n",
       "      <td>13.6850</td>\n",
       "      <td>13.7150</td>\n",
       "      <td>12.765</td>\n",
       "      <td>13.6225</td>\n",
       "      <td>13.6850</td>\n",
       "      <td>-0.06</td>\n",
       "      <td>-0.46</td>\n",
       "      <td>2</td>\n",
       "      <td>-0.0625</td>\n",
       "    </tr>\n",
       "  </tbody>\n",
       "</table>\n",
       "</div>"
      ],
      "text/plain": [
       "        c_Date   c_Open   c_High   c_Low  c_Close  c_PrevClose  c_Change  \\\n",
       "0  01-Jan-2018  12.6700  13.6125  12.545  13.3525      12.6700      0.68   \n",
       "1  02-Jan-2018  13.3525  13.8425  12.605  13.6850      13.3525      0.33   \n",
       "2  03-Jan-2018  13.6850  13.7150  12.765  13.6225      13.6850     -0.06   \n",
       "\n",
       "   c_ChangePer  Index_as_column  CalculatedChange  \n",
       "0         5.39                0            0.6825  \n",
       "1         2.49                1            0.3325  \n",
       "2        -0.46                2           -0.0625  "
      ]
     },
     "execution_count": 60,
     "metadata": {},
     "output_type": "execute_result"
    }
   ],
   "source": [
    "vixData.head(3)"
   ]
  },
  {
   "cell_type": "markdown",
   "metadata": {},
   "source": [
    "### Removing a column"
   ]
  },
  {
   "cell_type": "code",
   "execution_count": 61,
   "metadata": {},
   "outputs": [],
   "source": [
    "vixData = vixData.drop('CalculatedChange', 1)\n",
    "#--- 2nd parameter: axis 1 = column\n",
    "#--- drop returns a new object, so need to overwrite"
   ]
  },
  {
   "cell_type": "code",
   "execution_count": 62,
   "metadata": {},
   "outputs": [
    {
     "data": {
      "text/html": [
       "<div>\n",
       "<style scoped>\n",
       "    .dataframe tbody tr th:only-of-type {\n",
       "        vertical-align: middle;\n",
       "    }\n",
       "\n",
       "    .dataframe tbody tr th {\n",
       "        vertical-align: top;\n",
       "    }\n",
       "\n",
       "    .dataframe thead th {\n",
       "        text-align: right;\n",
       "    }\n",
       "</style>\n",
       "<table border=\"1\" class=\"dataframe\">\n",
       "  <thead>\n",
       "    <tr style=\"text-align: right;\">\n",
       "      <th></th>\n",
       "      <th>c_Date</th>\n",
       "      <th>c_Open</th>\n",
       "      <th>c_High</th>\n",
       "      <th>c_Low</th>\n",
       "      <th>c_Close</th>\n",
       "      <th>c_PrevClose</th>\n",
       "      <th>c_Change</th>\n",
       "      <th>c_ChangePer</th>\n",
       "      <th>Index_as_column</th>\n",
       "    </tr>\n",
       "  </thead>\n",
       "  <tbody>\n",
       "    <tr>\n",
       "      <th>0</th>\n",
       "      <td>01-Jan-2018</td>\n",
       "      <td>12.6700</td>\n",
       "      <td>13.6125</td>\n",
       "      <td>12.545</td>\n",
       "      <td>13.3525</td>\n",
       "      <td>12.6700</td>\n",
       "      <td>0.68</td>\n",
       "      <td>5.39</td>\n",
       "      <td>0</td>\n",
       "    </tr>\n",
       "    <tr>\n",
       "      <th>1</th>\n",
       "      <td>02-Jan-2018</td>\n",
       "      <td>13.3525</td>\n",
       "      <td>13.8425</td>\n",
       "      <td>12.605</td>\n",
       "      <td>13.6850</td>\n",
       "      <td>13.3525</td>\n",
       "      <td>0.33</td>\n",
       "      <td>2.49</td>\n",
       "      <td>1</td>\n",
       "    </tr>\n",
       "    <tr>\n",
       "      <th>2</th>\n",
       "      <td>03-Jan-2018</td>\n",
       "      <td>13.6850</td>\n",
       "      <td>13.7150</td>\n",
       "      <td>12.765</td>\n",
       "      <td>13.6225</td>\n",
       "      <td>13.6850</td>\n",
       "      <td>-0.06</td>\n",
       "      <td>-0.46</td>\n",
       "      <td>2</td>\n",
       "    </tr>\n",
       "  </tbody>\n",
       "</table>\n",
       "</div>"
      ],
      "text/plain": [
       "        c_Date   c_Open   c_High   c_Low  c_Close  c_PrevClose  c_Change  \\\n",
       "0  01-Jan-2018  12.6700  13.6125  12.545  13.3525      12.6700      0.68   \n",
       "1  02-Jan-2018  13.3525  13.8425  12.605  13.6850      13.3525      0.33   \n",
       "2  03-Jan-2018  13.6850  13.7150  12.765  13.6225      13.6850     -0.06   \n",
       "\n",
       "   c_ChangePer  Index_as_column  \n",
       "0         5.39                0  \n",
       "1         2.49                1  \n",
       "2        -0.46                2  "
      ]
     },
     "execution_count": 62,
     "metadata": {},
     "output_type": "execute_result"
    }
   ],
   "source": [
    "vixData.head(3)"
   ]
  },
  {
   "cell_type": "markdown",
   "metadata": {},
   "source": [
    "### Filtering rows - Based on a single or multiple conditions"
   ]
  },
  {
   "cell_type": "code",
   "execution_count": 63,
   "metadata": {},
   "outputs": [
    {
     "data": {
      "text/plain": [
       "0       True\n",
       "1      False\n",
       "2      False\n",
       "3      False\n",
       "4      False\n",
       "       ...  \n",
       "241    False\n",
       "242    False\n",
       "243    False\n",
       "244    False\n",
       "245    False\n",
       "Name: c_ChangePer, Length: 246, dtype: bool"
      ]
     },
     "execution_count": 63,
     "metadata": {},
     "output_type": "execute_result"
    }
   ],
   "source": [
    "vixData['c_ChangePer'] > 5"
   ]
  },
  {
   "cell_type": "code",
   "execution_count": 64,
   "metadata": {},
   "outputs": [],
   "source": [
    "changeFilter = vixData['c_ChangePer'] > 10"
   ]
  },
  {
   "cell_type": "code",
   "execution_count": 65,
   "metadata": {},
   "outputs": [
    {
     "data": {
      "text/html": [
       "<div>\n",
       "<style scoped>\n",
       "    .dataframe tbody tr th:only-of-type {\n",
       "        vertical-align: middle;\n",
       "    }\n",
       "\n",
       "    .dataframe tbody tr th {\n",
       "        vertical-align: top;\n",
       "    }\n",
       "\n",
       "    .dataframe thead th {\n",
       "        text-align: right;\n",
       "    }\n",
       "</style>\n",
       "<table border=\"1\" class=\"dataframe\">\n",
       "  <thead>\n",
       "    <tr style=\"text-align: right;\">\n",
       "      <th></th>\n",
       "      <th>c_Date</th>\n",
       "      <th>c_Open</th>\n",
       "      <th>c_High</th>\n",
       "      <th>c_Low</th>\n",
       "      <th>c_Close</th>\n",
       "      <th>c_PrevClose</th>\n",
       "      <th>c_Change</th>\n",
       "      <th>c_ChangePer</th>\n",
       "      <th>Index_as_column</th>\n",
       "    </tr>\n",
       "  </thead>\n",
       "  <tbody>\n",
       "    <tr>\n",
       "      <th>15</th>\n",
       "      <td>22-Jan-2018</td>\n",
       "      <td>13.9825</td>\n",
       "      <td>15.5900</td>\n",
       "      <td>12.0675</td>\n",
       "      <td>15.3925</td>\n",
       "      <td>13.9825</td>\n",
       "      <td>1.41</td>\n",
       "      <td>10.08</td>\n",
       "      <td>15</td>\n",
       "    </tr>\n",
       "    <tr>\n",
       "      <th>17</th>\n",
       "      <td>24-Jan-2018</td>\n",
       "      <td>16.2250</td>\n",
       "      <td>18.4950</td>\n",
       "      <td>14.6400</td>\n",
       "      <td>18.0400</td>\n",
       "      <td>16.2250</td>\n",
       "      <td>1.82</td>\n",
       "      <td>11.19</td>\n",
       "      <td>17</td>\n",
       "    </tr>\n",
       "    <tr>\n",
       "      <th>25</th>\n",
       "      <td>06-Feb-2018</td>\n",
       "      <td>16.0525</td>\n",
       "      <td>23.1575</td>\n",
       "      <td>16.0525</td>\n",
       "      <td>20.0150</td>\n",
       "      <td>16.0525</td>\n",
       "      <td>3.96</td>\n",
       "      <td>24.68</td>\n",
       "      <td>25</td>\n",
       "    </tr>\n",
       "    <tr>\n",
       "      <th>179</th>\n",
       "      <td>21-Sep-2018</td>\n",
       "      <td>14.0050</td>\n",
       "      <td>16.9200</td>\n",
       "      <td>10.9825</td>\n",
       "      <td>15.5350</td>\n",
       "      <td>14.0050</td>\n",
       "      <td>1.53</td>\n",
       "      <td>10.92</td>\n",
       "      <td>179</td>\n",
       "    </tr>\n",
       "    <tr>\n",
       "      <th>180</th>\n",
       "      <td>24-Sep-2018</td>\n",
       "      <td>15.5350</td>\n",
       "      <td>17.8550</td>\n",
       "      <td>13.8025</td>\n",
       "      <td>17.4275</td>\n",
       "      <td>15.5350</td>\n",
       "      <td>1.89</td>\n",
       "      <td>12.18</td>\n",
       "      <td>180</td>\n",
       "    </tr>\n",
       "    <tr>\n",
       "      <th>192</th>\n",
       "      <td>11-Oct-2018</td>\n",
       "      <td>17.9075</td>\n",
       "      <td>20.8450</td>\n",
       "      <td>17.6275</td>\n",
       "      <td>20.5475</td>\n",
       "      <td>17.9075</td>\n",
       "      <td>2.64</td>\n",
       "      <td>14.74</td>\n",
       "      <td>192</td>\n",
       "    </tr>\n",
       "    <tr>\n",
       "      <th>197</th>\n",
       "      <td>19-Oct-2018</td>\n",
       "      <td>17.9800</td>\n",
       "      <td>20.0525</td>\n",
       "      <td>17.4475</td>\n",
       "      <td>19.7875</td>\n",
       "      <td>17.9800</td>\n",
       "      <td>1.81</td>\n",
       "      <td>10.05</td>\n",
       "      <td>197</td>\n",
       "    </tr>\n",
       "    <tr>\n",
       "      <th>240</th>\n",
       "      <td>21-Dec-2018</td>\n",
       "      <td>14.3325</td>\n",
       "      <td>16.2300</td>\n",
       "      <td>12.9400</td>\n",
       "      <td>15.9925</td>\n",
       "      <td>14.3325</td>\n",
       "      <td>1.66</td>\n",
       "      <td>11.58</td>\n",
       "      <td>240</td>\n",
       "    </tr>\n",
       "  </tbody>\n",
       "</table>\n",
       "</div>"
      ],
      "text/plain": [
       "          c_Date   c_Open   c_High    c_Low  c_Close  c_PrevClose  c_Change  \\\n",
       "15   22-Jan-2018  13.9825  15.5900  12.0675  15.3925      13.9825      1.41   \n",
       "17   24-Jan-2018  16.2250  18.4950  14.6400  18.0400      16.2250      1.82   \n",
       "25   06-Feb-2018  16.0525  23.1575  16.0525  20.0150      16.0525      3.96   \n",
       "179  21-Sep-2018  14.0050  16.9200  10.9825  15.5350      14.0050      1.53   \n",
       "180  24-Sep-2018  15.5350  17.8550  13.8025  17.4275      15.5350      1.89   \n",
       "192  11-Oct-2018  17.9075  20.8450  17.6275  20.5475      17.9075      2.64   \n",
       "197  19-Oct-2018  17.9800  20.0525  17.4475  19.7875      17.9800      1.81   \n",
       "240  21-Dec-2018  14.3325  16.2300  12.9400  15.9925      14.3325      1.66   \n",
       "\n",
       "     c_ChangePer  Index_as_column  \n",
       "15         10.08               15  \n",
       "17         11.19               17  \n",
       "25         24.68               25  \n",
       "179        10.92              179  \n",
       "180        12.18              180  \n",
       "192        14.74              192  \n",
       "197        10.05              197  \n",
       "240        11.58              240  "
      ]
     },
     "execution_count": 65,
     "metadata": {},
     "output_type": "execute_result"
    }
   ],
   "source": [
    "vixData[changeFilter]         #--- Can put the actual filter value here as well"
   ]
  },
  {
   "cell_type": "code",
   "execution_count": 66,
   "metadata": {},
   "outputs": [
    {
     "data": {
      "text/html": [
       "<div>\n",
       "<style scoped>\n",
       "    .dataframe tbody tr th:only-of-type {\n",
       "        vertical-align: middle;\n",
       "    }\n",
       "\n",
       "    .dataframe tbody tr th {\n",
       "        vertical-align: top;\n",
       "    }\n",
       "\n",
       "    .dataframe thead th {\n",
       "        text-align: right;\n",
       "    }\n",
       "</style>\n",
       "<table border=\"1\" class=\"dataframe\">\n",
       "  <thead>\n",
       "    <tr style=\"text-align: right;\">\n",
       "      <th></th>\n",
       "      <th>c_Date</th>\n",
       "      <th>c_Open</th>\n",
       "      <th>c_High</th>\n",
       "      <th>c_Low</th>\n",
       "      <th>c_Close</th>\n",
       "      <th>c_PrevClose</th>\n",
       "      <th>c_Change</th>\n",
       "      <th>c_ChangePer</th>\n",
       "      <th>Index_as_column</th>\n",
       "    </tr>\n",
       "  </thead>\n",
       "  <tbody>\n",
       "    <tr>\n",
       "      <th>15</th>\n",
       "      <td>22-Jan-2018</td>\n",
       "      <td>13.9825</td>\n",
       "      <td>15.590</td>\n",
       "      <td>12.0675</td>\n",
       "      <td>15.3925</td>\n",
       "      <td>13.9825</td>\n",
       "      <td>1.41</td>\n",
       "      <td>10.08</td>\n",
       "      <td>15</td>\n",
       "    </tr>\n",
       "    <tr>\n",
       "      <th>17</th>\n",
       "      <td>24-Jan-2018</td>\n",
       "      <td>16.2250</td>\n",
       "      <td>18.495</td>\n",
       "      <td>14.6400</td>\n",
       "      <td>18.0400</td>\n",
       "      <td>16.2250</td>\n",
       "      <td>1.82</td>\n",
       "      <td>11.19</td>\n",
       "      <td>17</td>\n",
       "    </tr>\n",
       "    <tr>\n",
       "      <th>179</th>\n",
       "      <td>21-Sep-2018</td>\n",
       "      <td>14.0050</td>\n",
       "      <td>16.920</td>\n",
       "      <td>10.9825</td>\n",
       "      <td>15.5350</td>\n",
       "      <td>14.0050</td>\n",
       "      <td>1.53</td>\n",
       "      <td>10.92</td>\n",
       "      <td>179</td>\n",
       "    </tr>\n",
       "    <tr>\n",
       "      <th>180</th>\n",
       "      <td>24-Sep-2018</td>\n",
       "      <td>15.5350</td>\n",
       "      <td>17.855</td>\n",
       "      <td>13.8025</td>\n",
       "      <td>17.4275</td>\n",
       "      <td>15.5350</td>\n",
       "      <td>1.89</td>\n",
       "      <td>12.18</td>\n",
       "      <td>180</td>\n",
       "    </tr>\n",
       "    <tr>\n",
       "      <th>240</th>\n",
       "      <td>21-Dec-2018</td>\n",
       "      <td>14.3325</td>\n",
       "      <td>16.230</td>\n",
       "      <td>12.9400</td>\n",
       "      <td>15.9925</td>\n",
       "      <td>14.3325</td>\n",
       "      <td>1.66</td>\n",
       "      <td>11.58</td>\n",
       "      <td>240</td>\n",
       "    </tr>\n",
       "  </tbody>\n",
       "</table>\n",
       "</div>"
      ],
      "text/plain": [
       "          c_Date   c_Open  c_High    c_Low  c_Close  c_PrevClose  c_Change  \\\n",
       "15   22-Jan-2018  13.9825  15.590  12.0675  15.3925      13.9825      1.41   \n",
       "17   24-Jan-2018  16.2250  18.495  14.6400  18.0400      16.2250      1.82   \n",
       "179  21-Sep-2018  14.0050  16.920  10.9825  15.5350      14.0050      1.53   \n",
       "180  24-Sep-2018  15.5350  17.855  13.8025  17.4275      15.5350      1.89   \n",
       "240  21-Dec-2018  14.3325  16.230  12.9400  15.9925      14.3325      1.66   \n",
       "\n",
       "     c_ChangePer  Index_as_column  \n",
       "15         10.08               15  \n",
       "17         11.19               17  \n",
       "179        10.92              179  \n",
       "180        12.18              180  \n",
       "240        11.58              240  "
      ]
     },
     "execution_count": 66,
     "metadata": {},
     "output_type": "execute_result"
    }
   ],
   "source": [
    "# Using multiple conditions    ---> DF[(filterCondition1) operator (filterCondition2)]\n",
    "vixData[(vixData['c_ChangePer']>10) & (vixData['c_High']<20)]"
   ]
  },
  {
   "cell_type": "code",
   "execution_count": 67,
   "metadata": {},
   "outputs": [
    {
     "data": {
      "text/plain": [
       "array([13., 14., 15., 16., 18., 20., 19., 17., 12., 21.])"
      ]
     },
     "execution_count": 67,
     "metadata": {},
     "output_type": "execute_result"
    }
   ],
   "source": [
    "round(vixData.c_Close).unique()"
   ]
  },
  {
   "cell_type": "code",
   "execution_count": 68,
   "metadata": {},
   "outputs": [
    {
     "data": {
      "text/plain": [
       "{12.0, 13.0, 14.0, 15.0, 16.0, 17.0, 18.0, 19.0, 20.0, 21.0}"
      ]
     },
     "execution_count": 68,
     "metadata": {},
     "output_type": "execute_result"
    }
   ],
   "source": [
    "set(round(vixData.c_Close))"
   ]
  },
  {
   "cell_type": "markdown",
   "metadata": {},
   "source": [
    "### Getting a value from DF - .at, .iat, .loc, .iloc"
   ]
  },
  {
   "cell_type": "code",
   "execution_count": 69,
   "metadata": {},
   "outputs": [],
   "source": [
    "#.at   --->   for labels. Important: even integers are treated as labels\n",
    "#.iat  --->   for integer location"
   ]
  },
  {
   "cell_type": "code",
   "execution_count": 70,
   "metadata": {},
   "outputs": [
    {
     "data": {
      "text/plain": [
       "13.7925"
      ]
     },
     "execution_count": 70,
     "metadata": {},
     "output_type": "execute_result"
    }
   ],
   "source": [
    "vixData.iat[3,2] "
   ]
  },
  {
   "cell_type": "code",
   "execution_count": 71,
   "metadata": {},
   "outputs": [
    {
     "data": {
      "text/plain": [
       "13.7925"
      ]
     },
     "execution_count": 71,
     "metadata": {},
     "output_type": "execute_result"
    }
   ],
   "source": [
    "vixData.at[3,'c_High'] "
   ]
  },
  {
   "cell_type": "markdown",
   "metadata": {},
   "source": [
    "### .loc and .iloc\n",
    "#### loc is label-based, which means that you have to specify rows and columns based on their row and column labels. <br>iloc is integer position-based, so you have to specify rows and columns by their integer position values (0-based integer position).<br> <br>loc() method includes the last element of the range passed in it, unlike iloc(). <br>loc() can accept the boolean data unlike iloc() <br><br>loc[row_label, column_label]<br>iloc[row_position, column_position]\n",
    "\n",
    "#### Differences\n",
    "\n",
    "|  | loc | iloc |\n",
    "| --- | --- | --- |\n",
    "| **A value** | A single lable or integer  <br> eg. loc[A] or loc[1]| A single integer <br> eg. iloc[1] |\n",
    "| **A list** | A list of labels <br> eg. loc[[A,B]] | A list of integers<br> eg. iloc[[1,2,3]] |\n",
    "| **Slicing** | eg. loc[A:B] <br> both A and B are included  | eg. iloc[1:5] <br> 1 is included, 5 is excluded |\n",
    "| **Conditions** | A bool series or list | A bool list |\n",
    "| **Callable Function** | loc[lambda x: x[2]] | iloc[lambda x: x[2] |"
   ]
  },
  {
   "cell_type": "markdown",
   "metadata": {},
   "source": [
    "### .loc() examples"
   ]
  },
  {
   "cell_type": "code",
   "execution_count": 72,
   "metadata": {},
   "outputs": [
    {
     "data": {
      "text/plain": [
       "18.495"
      ]
     },
     "execution_count": 72,
     "metadata": {},
     "output_type": "execute_result"
    }
   ],
   "source": [
    "vixData.loc[17, 'c_High']    # row with 17 index value"
   ]
  },
  {
   "cell_type": "code",
   "execution_count": 73,
   "metadata": {},
   "outputs": [
    {
     "data": {
      "text/html": [
       "<div>\n",
       "<style scoped>\n",
       "    .dataframe tbody tr th:only-of-type {\n",
       "        vertical-align: middle;\n",
       "    }\n",
       "\n",
       "    .dataframe tbody tr th {\n",
       "        vertical-align: top;\n",
       "    }\n",
       "\n",
       "    .dataframe thead th {\n",
       "        text-align: right;\n",
       "    }\n",
       "</style>\n",
       "<table border=\"1\" class=\"dataframe\">\n",
       "  <thead>\n",
       "    <tr style=\"text-align: right;\">\n",
       "      <th></th>\n",
       "      <th>c_Date</th>\n",
       "      <th>c_Open</th>\n",
       "      <th>c_High</th>\n",
       "      <th>c_Low</th>\n",
       "      <th>c_Close</th>\n",
       "      <th>c_PrevClose</th>\n",
       "      <th>c_Change</th>\n",
       "      <th>c_ChangePer</th>\n",
       "      <th>Index_as_column</th>\n",
       "    </tr>\n",
       "  </thead>\n",
       "  <tbody>\n",
       "    <tr>\n",
       "      <th>2</th>\n",
       "      <td>03-Jan-2018</td>\n",
       "      <td>13.6850</td>\n",
       "      <td>13.7150</td>\n",
       "      <td>12.7650</td>\n",
       "      <td>13.6225</td>\n",
       "      <td>13.6850</td>\n",
       "      <td>-0.06</td>\n",
       "      <td>-0.46</td>\n",
       "      <td>2</td>\n",
       "    </tr>\n",
       "    <tr>\n",
       "      <th>3</th>\n",
       "      <td>04-Jan-2018</td>\n",
       "      <td>13.6225</td>\n",
       "      <td>13.7925</td>\n",
       "      <td>12.1825</td>\n",
       "      <td>13.4150</td>\n",
       "      <td>13.6225</td>\n",
       "      <td>-0.21</td>\n",
       "      <td>-1.52</td>\n",
       "      <td>3</td>\n",
       "    </tr>\n",
       "    <tr>\n",
       "      <th>4</th>\n",
       "      <td>05-Jan-2018</td>\n",
       "      <td>13.4150</td>\n",
       "      <td>13.4150</td>\n",
       "      <td>12.4200</td>\n",
       "      <td>13.1125</td>\n",
       "      <td>13.4150</td>\n",
       "      <td>-0.30</td>\n",
       "      <td>-2.25</td>\n",
       "      <td>4</td>\n",
       "    </tr>\n",
       "    <tr>\n",
       "      <th>5</th>\n",
       "      <td>08-Jan-2018</td>\n",
       "      <td>13.1125</td>\n",
       "      <td>13.8550</td>\n",
       "      <td>11.8125</td>\n",
       "      <td>13.7350</td>\n",
       "      <td>13.1125</td>\n",
       "      <td>0.62</td>\n",
       "      <td>4.75</td>\n",
       "      <td>5</td>\n",
       "    </tr>\n",
       "  </tbody>\n",
       "</table>\n",
       "</div>"
      ],
      "text/plain": [
       "        c_Date   c_Open   c_High    c_Low  c_Close  c_PrevClose  c_Change  \\\n",
       "2  03-Jan-2018  13.6850  13.7150  12.7650  13.6225      13.6850     -0.06   \n",
       "3  04-Jan-2018  13.6225  13.7925  12.1825  13.4150      13.6225     -0.21   \n",
       "4  05-Jan-2018  13.4150  13.4150  12.4200  13.1125      13.4150     -0.30   \n",
       "5  08-Jan-2018  13.1125  13.8550  11.8125  13.7350      13.1125      0.62   \n",
       "\n",
       "   c_ChangePer  Index_as_column  \n",
       "2        -0.46                2  \n",
       "3        -1.52                3  \n",
       "4        -2.25                4  \n",
       "5         4.75                5  "
      ]
     },
     "metadata": {},
     "output_type": "display_data"
    }
   ],
   "source": [
    " # selecting range of rows from 2 to 5\n",
    "display(vixData.loc[2 : 5])"
   ]
  },
  {
   "cell_type": "code",
   "execution_count": 74,
   "metadata": {},
   "outputs": [
    {
     "data": {
      "text/plain": [
       "0      13.3525\n",
       "1      13.6850\n",
       "2      13.6225\n",
       "3      13.4150\n",
       "4      13.1125\n",
       "        ...   \n",
       "241    15.7500\n",
       "242    15.9200\n",
       "243    16.0725\n",
       "244    15.2700\n",
       "245    16.0000\n",
       "Name: c_Close, Length: 246, dtype: float64"
      ]
     },
     "execution_count": 74,
     "metadata": {},
     "output_type": "execute_result"
    }
   ],
   "source": [
    "vixData.loc[:, 'c_Close']   # All rows"
   ]
  },
  {
   "cell_type": "code",
   "execution_count": 75,
   "metadata": {},
   "outputs": [
    {
     "data": {
      "text/html": [
       "<div>\n",
       "<style scoped>\n",
       "    .dataframe tbody tr th:only-of-type {\n",
       "        vertical-align: middle;\n",
       "    }\n",
       "\n",
       "    .dataframe tbody tr th {\n",
       "        vertical-align: top;\n",
       "    }\n",
       "\n",
       "    .dataframe thead th {\n",
       "        text-align: right;\n",
       "    }\n",
       "</style>\n",
       "<table border=\"1\" class=\"dataframe\">\n",
       "  <thead>\n",
       "    <tr style=\"text-align: right;\">\n",
       "      <th></th>\n",
       "      <th>c_High</th>\n",
       "      <th>c_Low</th>\n",
       "      <th>c_Close</th>\n",
       "    </tr>\n",
       "  </thead>\n",
       "  <tbody>\n",
       "    <tr>\n",
       "      <th>0</th>\n",
       "      <td>13.6125</td>\n",
       "      <td>12.5450</td>\n",
       "      <td>13.3525</td>\n",
       "    </tr>\n",
       "    <tr>\n",
       "      <th>1</th>\n",
       "      <td>13.8425</td>\n",
       "      <td>12.6050</td>\n",
       "      <td>13.6850</td>\n",
       "    </tr>\n",
       "    <tr>\n",
       "      <th>2</th>\n",
       "      <td>13.7150</td>\n",
       "      <td>12.7650</td>\n",
       "      <td>13.6225</td>\n",
       "    </tr>\n",
       "    <tr>\n",
       "      <th>3</th>\n",
       "      <td>13.7925</td>\n",
       "      <td>12.1825</td>\n",
       "      <td>13.4150</td>\n",
       "    </tr>\n",
       "    <tr>\n",
       "      <th>4</th>\n",
       "      <td>13.4150</td>\n",
       "      <td>12.4200</td>\n",
       "      <td>13.1125</td>\n",
       "    </tr>\n",
       "    <tr>\n",
       "      <th>...</th>\n",
       "      <td>...</td>\n",
       "      <td>...</td>\n",
       "      <td>...</td>\n",
       "    </tr>\n",
       "    <tr>\n",
       "      <th>241</th>\n",
       "      <td>17.1325</td>\n",
       "      <td>14.8975</td>\n",
       "      <td>15.7500</td>\n",
       "    </tr>\n",
       "    <tr>\n",
       "      <th>242</th>\n",
       "      <td>17.4775</td>\n",
       "      <td>14.8075</td>\n",
       "      <td>15.9200</td>\n",
       "    </tr>\n",
       "    <tr>\n",
       "      <th>243</th>\n",
       "      <td>16.3750</td>\n",
       "      <td>12.5625</td>\n",
       "      <td>16.0725</td>\n",
       "    </tr>\n",
       "    <tr>\n",
       "      <th>244</th>\n",
       "      <td>16.0725</td>\n",
       "      <td>15.0150</td>\n",
       "      <td>15.2700</td>\n",
       "    </tr>\n",
       "    <tr>\n",
       "      <th>245</th>\n",
       "      <td>16.1525</td>\n",
       "      <td>14.6500</td>\n",
       "      <td>16.0000</td>\n",
       "    </tr>\n",
       "  </tbody>\n",
       "</table>\n",
       "<p>246 rows × 3 columns</p>\n",
       "</div>"
      ],
      "text/plain": [
       "      c_High    c_Low  c_Close\n",
       "0    13.6125  12.5450  13.3525\n",
       "1    13.8425  12.6050  13.6850\n",
       "2    13.7150  12.7650  13.6225\n",
       "3    13.7925  12.1825  13.4150\n",
       "4    13.4150  12.4200  13.1125\n",
       "..       ...      ...      ...\n",
       "241  17.1325  14.8975  15.7500\n",
       "242  17.4775  14.8075  15.9200\n",
       "243  16.3750  12.5625  16.0725\n",
       "244  16.0725  15.0150  15.2700\n",
       "245  16.1525  14.6500  16.0000\n",
       "\n",
       "[246 rows x 3 columns]"
      ]
     },
     "execution_count": 75,
     "metadata": {},
     "output_type": "execute_result"
    }
   ],
   "source": [
    "vixData.loc[:, 'c_High':'c_Close' ]"
   ]
  },
  {
   "cell_type": "code",
   "execution_count": 76,
   "metadata": {},
   "outputs": [
    {
     "data": {
      "text/html": [
       "<div>\n",
       "<style scoped>\n",
       "    .dataframe tbody tr th:only-of-type {\n",
       "        vertical-align: middle;\n",
       "    }\n",
       "\n",
       "    .dataframe tbody tr th {\n",
       "        vertical-align: top;\n",
       "    }\n",
       "\n",
       "    .dataframe thead th {\n",
       "        text-align: right;\n",
       "    }\n",
       "</style>\n",
       "<table border=\"1\" class=\"dataframe\">\n",
       "  <thead>\n",
       "    <tr style=\"text-align: right;\">\n",
       "      <th></th>\n",
       "      <th>c_Date</th>\n",
       "      <th>c_Open</th>\n",
       "      <th>c_High</th>\n",
       "      <th>c_Low</th>\n",
       "      <th>c_Close</th>\n",
       "      <th>c_PrevClose</th>\n",
       "      <th>c_Change</th>\n",
       "      <th>c_ChangePer</th>\n",
       "      <th>Index_as_column</th>\n",
       "    </tr>\n",
       "  </thead>\n",
       "  <tbody>\n",
       "    <tr>\n",
       "      <th>17</th>\n",
       "      <td>24-Jan-2018</td>\n",
       "      <td>16.225</td>\n",
       "      <td>18.495</td>\n",
       "      <td>14.64</td>\n",
       "      <td>18.04</td>\n",
       "      <td>16.225</td>\n",
       "      <td>1.82</td>\n",
       "      <td>11.19</td>\n",
       "      <td>17</td>\n",
       "    </tr>\n",
       "  </tbody>\n",
       "</table>\n",
       "</div>"
      ],
      "text/plain": [
       "         c_Date  c_Open  c_High  c_Low  c_Close  c_PrevClose  c_Change  \\\n",
       "17  24-Jan-2018  16.225  18.495  14.64    18.04       16.225      1.82   \n",
       "\n",
       "    c_ChangePer  Index_as_column  \n",
       "17        11.19               17  "
      ]
     },
     "execution_count": 76,
     "metadata": {},
     "output_type": "execute_result"
    }
   ],
   "source": [
    "vixData.loc[vixData.c_Date=='24-Jan-2018']"
   ]
  },
  {
   "cell_type": "code",
   "execution_count": 77,
   "metadata": {},
   "outputs": [
    {
     "data": {
      "text/plain": [
       "17    18.495\n",
       "Name: c_High, dtype: float64"
      ]
     },
     "execution_count": 77,
     "metadata": {},
     "output_type": "execute_result"
    }
   ],
   "source": [
    "vixData.loc[vixData.c_Date=='24-Jan-2018', 'c_High']"
   ]
  },
  {
   "cell_type": "code",
   "execution_count": 78,
   "metadata": {},
   "outputs": [
    {
     "data": {
      "text/html": [
       "<div>\n",
       "<style scoped>\n",
       "    .dataframe tbody tr th:only-of-type {\n",
       "        vertical-align: middle;\n",
       "    }\n",
       "\n",
       "    .dataframe tbody tr th {\n",
       "        vertical-align: top;\n",
       "    }\n",
       "\n",
       "    .dataframe thead th {\n",
       "        text-align: right;\n",
       "    }\n",
       "</style>\n",
       "<table border=\"1\" class=\"dataframe\">\n",
       "  <thead>\n",
       "    <tr style=\"text-align: right;\">\n",
       "      <th></th>\n",
       "      <th>c_Date</th>\n",
       "      <th>c_Open</th>\n",
       "      <th>c_High</th>\n",
       "      <th>c_Low</th>\n",
       "      <th>c_Close</th>\n",
       "      <th>c_PrevClose</th>\n",
       "      <th>c_Change</th>\n",
       "      <th>c_ChangePer</th>\n",
       "      <th>Index_as_column</th>\n",
       "    </tr>\n",
       "  </thead>\n",
       "  <tbody>\n",
       "    <tr>\n",
       "      <th>25</th>\n",
       "      <td>06-Feb-2018</td>\n",
       "      <td>16.0525</td>\n",
       "      <td>23.1575</td>\n",
       "      <td>16.0525</td>\n",
       "      <td>20.0150</td>\n",
       "      <td>16.0525</td>\n",
       "      <td>3.96</td>\n",
       "      <td>24.68</td>\n",
       "      <td>25</td>\n",
       "    </tr>\n",
       "    <tr>\n",
       "      <th>189</th>\n",
       "      <td>08-Oct-2018</td>\n",
       "      <td>19.7325</td>\n",
       "      <td>21.7650</td>\n",
       "      <td>18.4775</td>\n",
       "      <td>20.1475</td>\n",
       "      <td>19.7325</td>\n",
       "      <td>0.42</td>\n",
       "      <td>2.10</td>\n",
       "      <td>189</td>\n",
       "    </tr>\n",
       "    <tr>\n",
       "      <th>192</th>\n",
       "      <td>11-Oct-2018</td>\n",
       "      <td>17.9075</td>\n",
       "      <td>20.8450</td>\n",
       "      <td>17.6275</td>\n",
       "      <td>20.5475</td>\n",
       "      <td>17.9075</td>\n",
       "      <td>2.64</td>\n",
       "      <td>14.74</td>\n",
       "      <td>192</td>\n",
       "    </tr>\n",
       "    <tr>\n",
       "      <th>198</th>\n",
       "      <td>22-Oct-2018</td>\n",
       "      <td>19.7875</td>\n",
       "      <td>21.6725</td>\n",
       "      <td>17.0800</td>\n",
       "      <td>21.3575</td>\n",
       "      <td>19.7875</td>\n",
       "      <td>1.57</td>\n",
       "      <td>7.93</td>\n",
       "      <td>198</td>\n",
       "    </tr>\n",
       "    <tr>\n",
       "      <th>204</th>\n",
       "      <td>30-Oct-2018</td>\n",
       "      <td>19.8250</td>\n",
       "      <td>20.7725</td>\n",
       "      <td>19.5500</td>\n",
       "      <td>20.5025</td>\n",
       "      <td>19.8250</td>\n",
       "      <td>0.68</td>\n",
       "      <td>3.42</td>\n",
       "      <td>204</td>\n",
       "    </tr>\n",
       "    <tr>\n",
       "      <th>221</th>\n",
       "      <td>26-Nov-2018</td>\n",
       "      <td>19.1600</td>\n",
       "      <td>20.5275</td>\n",
       "      <td>15.0175</td>\n",
       "      <td>20.4025</td>\n",
       "      <td>19.1600</td>\n",
       "      <td>1.24</td>\n",
       "      <td>6.48</td>\n",
       "      <td>221</td>\n",
       "    </tr>\n",
       "    <tr>\n",
       "      <th>231</th>\n",
       "      <td>10-Dec-2018</td>\n",
       "      <td>18.5900</td>\n",
       "      <td>20.6450</td>\n",
       "      <td>16.8900</td>\n",
       "      <td>20.4375</td>\n",
       "      <td>18.5900</td>\n",
       "      <td>1.85</td>\n",
       "      <td>9.94</td>\n",
       "      <td>231</td>\n",
       "    </tr>\n",
       "  </tbody>\n",
       "</table>\n",
       "</div>"
      ],
      "text/plain": [
       "          c_Date   c_Open   c_High    c_Low  c_Close  c_PrevClose  c_Change  \\\n",
       "25   06-Feb-2018  16.0525  23.1575  16.0525  20.0150      16.0525      3.96   \n",
       "189  08-Oct-2018  19.7325  21.7650  18.4775  20.1475      19.7325      0.42   \n",
       "192  11-Oct-2018  17.9075  20.8450  17.6275  20.5475      17.9075      2.64   \n",
       "198  22-Oct-2018  19.7875  21.6725  17.0800  21.3575      19.7875      1.57   \n",
       "204  30-Oct-2018  19.8250  20.7725  19.5500  20.5025      19.8250      0.68   \n",
       "221  26-Nov-2018  19.1600  20.5275  15.0175  20.4025      19.1600      1.24   \n",
       "231  10-Dec-2018  18.5900  20.6450  16.8900  20.4375      18.5900      1.85   \n",
       "\n",
       "     c_ChangePer  Index_as_column  \n",
       "25         24.68               25  \n",
       "189         2.10              189  \n",
       "192        14.74              192  \n",
       "198         7.93              198  \n",
       "204         3.42              204  \n",
       "221         6.48              221  \n",
       "231         9.94              231  "
      ]
     },
     "execution_count": 78,
     "metadata": {},
     "output_type": "execute_result"
    }
   ],
   "source": [
    "vixData.loc[lambda df: df.c_Close > 20, :]"
   ]
  },
  {
   "cell_type": "markdown",
   "metadata": {},
   "source": [
    "### .iloc() examples"
   ]
  },
  {
   "cell_type": "code",
   "execution_count": 79,
   "metadata": {},
   "outputs": [
    {
     "data": {
      "text/plain": [
       "18.495"
      ]
     },
     "execution_count": 79,
     "metadata": {},
     "output_type": "execute_result"
    }
   ],
   "source": [
    "vixData.iloc[17, 2]"
   ]
  },
  {
   "cell_type": "code",
   "execution_count": 80,
   "metadata": {},
   "outputs": [
    {
     "data": {
      "text/html": [
       "<div>\n",
       "<style scoped>\n",
       "    .dataframe tbody tr th:only-of-type {\n",
       "        vertical-align: middle;\n",
       "    }\n",
       "\n",
       "    .dataframe tbody tr th {\n",
       "        vertical-align: top;\n",
       "    }\n",
       "\n",
       "    .dataframe thead th {\n",
       "        text-align: right;\n",
       "    }\n",
       "</style>\n",
       "<table border=\"1\" class=\"dataframe\">\n",
       "  <thead>\n",
       "    <tr style=\"text-align: right;\">\n",
       "      <th></th>\n",
       "      <th>c_Date</th>\n",
       "      <th>c_Open</th>\n",
       "      <th>c_High</th>\n",
       "      <th>c_Low</th>\n",
       "      <th>c_Close</th>\n",
       "      <th>c_PrevClose</th>\n",
       "      <th>c_Change</th>\n",
       "      <th>c_ChangePer</th>\n",
       "      <th>Index_as_column</th>\n",
       "    </tr>\n",
       "  </thead>\n",
       "  <tbody>\n",
       "    <tr>\n",
       "      <th>0</th>\n",
       "      <td>01-Jan-2018</td>\n",
       "      <td>12.6700</td>\n",
       "      <td>13.6125</td>\n",
       "      <td>12.5450</td>\n",
       "      <td>13.3525</td>\n",
       "      <td>12.6700</td>\n",
       "      <td>0.68</td>\n",
       "      <td>5.39</td>\n",
       "      <td>0</td>\n",
       "    </tr>\n",
       "    <tr>\n",
       "      <th>2</th>\n",
       "      <td>03-Jan-2018</td>\n",
       "      <td>13.6850</td>\n",
       "      <td>13.7150</td>\n",
       "      <td>12.7650</td>\n",
       "      <td>13.6225</td>\n",
       "      <td>13.6850</td>\n",
       "      <td>-0.06</td>\n",
       "      <td>-0.46</td>\n",
       "      <td>2</td>\n",
       "    </tr>\n",
       "    <tr>\n",
       "      <th>4</th>\n",
       "      <td>05-Jan-2018</td>\n",
       "      <td>13.4150</td>\n",
       "      <td>13.4150</td>\n",
       "      <td>12.4200</td>\n",
       "      <td>13.1125</td>\n",
       "      <td>13.4150</td>\n",
       "      <td>-0.30</td>\n",
       "      <td>-2.25</td>\n",
       "      <td>4</td>\n",
       "    </tr>\n",
       "    <tr>\n",
       "      <th>7</th>\n",
       "      <td>10-Jan-2018</td>\n",
       "      <td>13.8475</td>\n",
       "      <td>14.2275</td>\n",
       "      <td>12.5175</td>\n",
       "      <td>14.0350</td>\n",
       "      <td>13.8475</td>\n",
       "      <td>0.19</td>\n",
       "      <td>1.35</td>\n",
       "      <td>7</td>\n",
       "    </tr>\n",
       "  </tbody>\n",
       "</table>\n",
       "</div>"
      ],
      "text/plain": [
       "        c_Date   c_Open   c_High    c_Low  c_Close  c_PrevClose  c_Change  \\\n",
       "0  01-Jan-2018  12.6700  13.6125  12.5450  13.3525      12.6700      0.68   \n",
       "2  03-Jan-2018  13.6850  13.7150  12.7650  13.6225      13.6850     -0.06   \n",
       "4  05-Jan-2018  13.4150  13.4150  12.4200  13.1125      13.4150     -0.30   \n",
       "7  10-Jan-2018  13.8475  14.2275  12.5175  14.0350      13.8475      0.19   \n",
       "\n",
       "   c_ChangePer  Index_as_column  \n",
       "0         5.39                0  \n",
       "2        -0.46                2  \n",
       "4        -2.25                4  \n",
       "7         1.35                7  "
      ]
     },
     "execution_count": 80,
     "metadata": {},
     "output_type": "execute_result"
    }
   ],
   "source": [
    "vixData.iloc[[0, 2, 4, 7]]"
   ]
  },
  {
   "cell_type": "code",
   "execution_count": 81,
   "metadata": {},
   "outputs": [
    {
     "data": {
      "text/html": [
       "<div>\n",
       "<style scoped>\n",
       "    .dataframe tbody tr th:only-of-type {\n",
       "        vertical-align: middle;\n",
       "    }\n",
       "\n",
       "    .dataframe tbody tr th {\n",
       "        vertical-align: top;\n",
       "    }\n",
       "\n",
       "    .dataframe thead th {\n",
       "        text-align: right;\n",
       "    }\n",
       "</style>\n",
       "<table border=\"1\" class=\"dataframe\">\n",
       "  <thead>\n",
       "    <tr style=\"text-align: right;\">\n",
       "      <th></th>\n",
       "      <th>c_High</th>\n",
       "      <th>c_Low</th>\n",
       "      <th>c_Close</th>\n",
       "    </tr>\n",
       "  </thead>\n",
       "  <tbody>\n",
       "    <tr>\n",
       "      <th>1</th>\n",
       "      <td>13.8425</td>\n",
       "      <td>12.6050</td>\n",
       "      <td>13.6850</td>\n",
       "    </tr>\n",
       "    <tr>\n",
       "      <th>2</th>\n",
       "      <td>13.7150</td>\n",
       "      <td>12.7650</td>\n",
       "      <td>13.6225</td>\n",
       "    </tr>\n",
       "    <tr>\n",
       "      <th>3</th>\n",
       "      <td>13.7925</td>\n",
       "      <td>12.1825</td>\n",
       "      <td>13.4150</td>\n",
       "    </tr>\n",
       "    <tr>\n",
       "      <th>4</th>\n",
       "      <td>13.4150</td>\n",
       "      <td>12.4200</td>\n",
       "      <td>13.1125</td>\n",
       "    </tr>\n",
       "  </tbody>\n",
       "</table>\n",
       "</div>"
      ],
      "text/plain": [
       "    c_High    c_Low  c_Close\n",
       "1  13.8425  12.6050  13.6850\n",
       "2  13.7150  12.7650  13.6225\n",
       "3  13.7925  12.1825  13.4150\n",
       "4  13.4150  12.4200  13.1125"
      ]
     },
     "metadata": {},
     "output_type": "display_data"
    }
   ],
   "source": [
    "display(vixData.iloc[1 : 5, 2 : 5])"
   ]
  },
  {
   "cell_type": "code",
   "execution_count": 82,
   "metadata": {},
   "outputs": [
    {
     "data": {
      "text/plain": [
       "0      13.3525\n",
       "1      13.6850\n",
       "2      13.6225\n",
       "3      13.4150\n",
       "4      13.1125\n",
       "        ...   \n",
       "241    15.7500\n",
       "242    15.9200\n",
       "243    16.0725\n",
       "244    15.2700\n",
       "245    16.0000\n",
       "Name: c_Close, Length: 246, dtype: float64"
      ]
     },
     "execution_count": 82,
     "metadata": {},
     "output_type": "execute_result"
    }
   ],
   "source": [
    "vixData.iloc[:, 4]   # All rows"
   ]
  },
  {
   "cell_type": "code",
   "execution_count": 83,
   "metadata": {},
   "outputs": [
    {
     "ename": "NotImplementedError",
     "evalue": "iLocation based boolean indexing on an integer type is not available",
     "output_type": "error",
     "traceback": [
      "\u001b[1;31m---------------------------------------------------------------------------\u001b[0m",
      "\u001b[1;31mNotImplementedError\u001b[0m                       Traceback (most recent call last)",
      "\u001b[1;32m<ipython-input-83-62d0ef375bc1>\u001b[0m in \u001b[0;36m<module>\u001b[1;34m\u001b[0m\n\u001b[0;32m      2\u001b[0m \u001b[1;31m# It only accepts a boolean list. We can use the list() function to convert a Series into a boolean list.\u001b[0m\u001b[1;33m\u001b[0m\u001b[1;33m\u001b[0m\u001b[1;33m\u001b[0m\u001b[0m\n\u001b[0;32m      3\u001b[0m \u001b[1;33m\u001b[0m\u001b[0m\n\u001b[1;32m----> 4\u001b[1;33m \u001b[0mvixData\u001b[0m\u001b[1;33m.\u001b[0m\u001b[0miloc\u001b[0m\u001b[1;33m[\u001b[0m\u001b[0mvixData\u001b[0m\u001b[1;33m.\u001b[0m\u001b[0mc_Close\u001b[0m \u001b[1;33m>\u001b[0m \u001b[1;36m20\u001b[0m\u001b[1;33m]\u001b[0m\u001b[1;33m\u001b[0m\u001b[1;33m\u001b[0m\u001b[0m\n\u001b[0m",
      "\u001b[1;32m~\\Anaconda3\\lib\\site-packages\\pandas\\core\\indexing.py\u001b[0m in \u001b[0;36m__getitem__\u001b[1;34m(self, key)\u001b[0m\n\u001b[0;32m    877\u001b[0m \u001b[1;33m\u001b[0m\u001b[0m\n\u001b[0;32m    878\u001b[0m             \u001b[0mmaybe_callable\u001b[0m \u001b[1;33m=\u001b[0m \u001b[0mcom\u001b[0m\u001b[1;33m.\u001b[0m\u001b[0mapply_if_callable\u001b[0m\u001b[1;33m(\u001b[0m\u001b[0mkey\u001b[0m\u001b[1;33m,\u001b[0m \u001b[0mself\u001b[0m\u001b[1;33m.\u001b[0m\u001b[0mobj\u001b[0m\u001b[1;33m)\u001b[0m\u001b[1;33m\u001b[0m\u001b[1;33m\u001b[0m\u001b[0m\n\u001b[1;32m--> 879\u001b[1;33m             \u001b[1;32mreturn\u001b[0m \u001b[0mself\u001b[0m\u001b[1;33m.\u001b[0m\u001b[0m_getitem_axis\u001b[0m\u001b[1;33m(\u001b[0m\u001b[0mmaybe_callable\u001b[0m\u001b[1;33m,\u001b[0m \u001b[0maxis\u001b[0m\u001b[1;33m=\u001b[0m\u001b[0maxis\u001b[0m\u001b[1;33m)\u001b[0m\u001b[1;33m\u001b[0m\u001b[1;33m\u001b[0m\u001b[0m\n\u001b[0m\u001b[0;32m    880\u001b[0m \u001b[1;33m\u001b[0m\u001b[0m\n\u001b[0;32m    881\u001b[0m     \u001b[1;32mdef\u001b[0m \u001b[0m_is_scalar_access\u001b[0m\u001b[1;33m(\u001b[0m\u001b[0mself\u001b[0m\u001b[1;33m,\u001b[0m \u001b[0mkey\u001b[0m\u001b[1;33m:\u001b[0m \u001b[0mTuple\u001b[0m\u001b[1;33m)\u001b[0m\u001b[1;33m:\u001b[0m\u001b[1;33m\u001b[0m\u001b[1;33m\u001b[0m\u001b[0m\n",
      "\u001b[1;32m~\\Anaconda3\\lib\\site-packages\\pandas\\core\\indexing.py\u001b[0m in \u001b[0;36m_getitem_axis\u001b[1;34m(self, key, axis)\u001b[0m\n\u001b[0;32m   1480\u001b[0m \u001b[1;33m\u001b[0m\u001b[0m\n\u001b[0;32m   1481\u001b[0m         \u001b[1;32mif\u001b[0m \u001b[0mcom\u001b[0m\u001b[1;33m.\u001b[0m\u001b[0mis_bool_indexer\u001b[0m\u001b[1;33m(\u001b[0m\u001b[0mkey\u001b[0m\u001b[1;33m)\u001b[0m\u001b[1;33m:\u001b[0m\u001b[1;33m\u001b[0m\u001b[1;33m\u001b[0m\u001b[0m\n\u001b[1;32m-> 1482\u001b[1;33m             \u001b[0mself\u001b[0m\u001b[1;33m.\u001b[0m\u001b[0m_validate_key\u001b[0m\u001b[1;33m(\u001b[0m\u001b[0mkey\u001b[0m\u001b[1;33m,\u001b[0m \u001b[0maxis\u001b[0m\u001b[1;33m)\u001b[0m\u001b[1;33m\u001b[0m\u001b[1;33m\u001b[0m\u001b[0m\n\u001b[0m\u001b[0;32m   1483\u001b[0m             \u001b[1;32mreturn\u001b[0m \u001b[0mself\u001b[0m\u001b[1;33m.\u001b[0m\u001b[0m_getbool_axis\u001b[0m\u001b[1;33m(\u001b[0m\u001b[0mkey\u001b[0m\u001b[1;33m,\u001b[0m \u001b[0maxis\u001b[0m\u001b[1;33m=\u001b[0m\u001b[0maxis\u001b[0m\u001b[1;33m)\u001b[0m\u001b[1;33m\u001b[0m\u001b[1;33m\u001b[0m\u001b[0m\n\u001b[0;32m   1484\u001b[0m \u001b[1;33m\u001b[0m\u001b[0m\n",
      "\u001b[1;32m~\\Anaconda3\\lib\\site-packages\\pandas\\core\\indexing.py\u001b[0m in \u001b[0;36m_validate_key\u001b[1;34m(self, key, axis)\u001b[0m\n\u001b[0;32m   1336\u001b[0m             \u001b[1;32mif\u001b[0m \u001b[0mhasattr\u001b[0m\u001b[1;33m(\u001b[0m\u001b[0mkey\u001b[0m\u001b[1;33m,\u001b[0m \u001b[1;34m\"index\"\u001b[0m\u001b[1;33m)\u001b[0m \u001b[1;32mand\u001b[0m \u001b[0misinstance\u001b[0m\u001b[1;33m(\u001b[0m\u001b[0mkey\u001b[0m\u001b[1;33m.\u001b[0m\u001b[0mindex\u001b[0m\u001b[1;33m,\u001b[0m \u001b[0mIndex\u001b[0m\u001b[1;33m)\u001b[0m\u001b[1;33m:\u001b[0m\u001b[1;33m\u001b[0m\u001b[1;33m\u001b[0m\u001b[0m\n\u001b[0;32m   1337\u001b[0m                 \u001b[1;32mif\u001b[0m \u001b[0mkey\u001b[0m\u001b[1;33m.\u001b[0m\u001b[0mindex\u001b[0m\u001b[1;33m.\u001b[0m\u001b[0minferred_type\u001b[0m \u001b[1;33m==\u001b[0m \u001b[1;34m\"integer\"\u001b[0m\u001b[1;33m:\u001b[0m\u001b[1;33m\u001b[0m\u001b[1;33m\u001b[0m\u001b[0m\n\u001b[1;32m-> 1338\u001b[1;33m                     raise NotImplementedError(\n\u001b[0m\u001b[0;32m   1339\u001b[0m                         \u001b[1;34m\"iLocation based boolean \"\u001b[0m\u001b[1;33m\u001b[0m\u001b[1;33m\u001b[0m\u001b[0m\n\u001b[0;32m   1340\u001b[0m                         \u001b[1;34m\"indexing on an integer type \"\u001b[0m\u001b[1;33m\u001b[0m\u001b[1;33m\u001b[0m\u001b[0m\n",
      "\u001b[1;31mNotImplementedError\u001b[0m: iLocation based boolean indexing on an integer type is not available"
     ]
    }
   ],
   "source": [
    "# We get the error because iloc cannot accept a boolean Series. \n",
    "# It only accepts a boolean list. We can use the list() function to convert a Series into a boolean list.\n",
    "\n",
    "vixData.iloc[vixData.c_Close > 20]"
   ]
  },
  {
   "cell_type": "code",
   "execution_count": 84,
   "metadata": {},
   "outputs": [
    {
     "data": {
      "text/html": [
       "<div>\n",
       "<style scoped>\n",
       "    .dataframe tbody tr th:only-of-type {\n",
       "        vertical-align: middle;\n",
       "    }\n",
       "\n",
       "    .dataframe tbody tr th {\n",
       "        vertical-align: top;\n",
       "    }\n",
       "\n",
       "    .dataframe thead th {\n",
       "        text-align: right;\n",
       "    }\n",
       "</style>\n",
       "<table border=\"1\" class=\"dataframe\">\n",
       "  <thead>\n",
       "    <tr style=\"text-align: right;\">\n",
       "      <th></th>\n",
       "      <th>c_Date</th>\n",
       "      <th>c_Open</th>\n",
       "      <th>c_High</th>\n",
       "      <th>c_Low</th>\n",
       "      <th>c_Close</th>\n",
       "      <th>c_PrevClose</th>\n",
       "      <th>c_Change</th>\n",
       "      <th>c_ChangePer</th>\n",
       "      <th>Index_as_column</th>\n",
       "    </tr>\n",
       "  </thead>\n",
       "  <tbody>\n",
       "    <tr>\n",
       "      <th>25</th>\n",
       "      <td>06-Feb-2018</td>\n",
       "      <td>16.0525</td>\n",
       "      <td>23.1575</td>\n",
       "      <td>16.0525</td>\n",
       "      <td>20.0150</td>\n",
       "      <td>16.0525</td>\n",
       "      <td>3.96</td>\n",
       "      <td>24.68</td>\n",
       "      <td>25</td>\n",
       "    </tr>\n",
       "    <tr>\n",
       "      <th>189</th>\n",
       "      <td>08-Oct-2018</td>\n",
       "      <td>19.7325</td>\n",
       "      <td>21.7650</td>\n",
       "      <td>18.4775</td>\n",
       "      <td>20.1475</td>\n",
       "      <td>19.7325</td>\n",
       "      <td>0.42</td>\n",
       "      <td>2.10</td>\n",
       "      <td>189</td>\n",
       "    </tr>\n",
       "    <tr>\n",
       "      <th>192</th>\n",
       "      <td>11-Oct-2018</td>\n",
       "      <td>17.9075</td>\n",
       "      <td>20.8450</td>\n",
       "      <td>17.6275</td>\n",
       "      <td>20.5475</td>\n",
       "      <td>17.9075</td>\n",
       "      <td>2.64</td>\n",
       "      <td>14.74</td>\n",
       "      <td>192</td>\n",
       "    </tr>\n",
       "    <tr>\n",
       "      <th>198</th>\n",
       "      <td>22-Oct-2018</td>\n",
       "      <td>19.7875</td>\n",
       "      <td>21.6725</td>\n",
       "      <td>17.0800</td>\n",
       "      <td>21.3575</td>\n",
       "      <td>19.7875</td>\n",
       "      <td>1.57</td>\n",
       "      <td>7.93</td>\n",
       "      <td>198</td>\n",
       "    </tr>\n",
       "    <tr>\n",
       "      <th>204</th>\n",
       "      <td>30-Oct-2018</td>\n",
       "      <td>19.8250</td>\n",
       "      <td>20.7725</td>\n",
       "      <td>19.5500</td>\n",
       "      <td>20.5025</td>\n",
       "      <td>19.8250</td>\n",
       "      <td>0.68</td>\n",
       "      <td>3.42</td>\n",
       "      <td>204</td>\n",
       "    </tr>\n",
       "    <tr>\n",
       "      <th>221</th>\n",
       "      <td>26-Nov-2018</td>\n",
       "      <td>19.1600</td>\n",
       "      <td>20.5275</td>\n",
       "      <td>15.0175</td>\n",
       "      <td>20.4025</td>\n",
       "      <td>19.1600</td>\n",
       "      <td>1.24</td>\n",
       "      <td>6.48</td>\n",
       "      <td>221</td>\n",
       "    </tr>\n",
       "    <tr>\n",
       "      <th>231</th>\n",
       "      <td>10-Dec-2018</td>\n",
       "      <td>18.5900</td>\n",
       "      <td>20.6450</td>\n",
       "      <td>16.8900</td>\n",
       "      <td>20.4375</td>\n",
       "      <td>18.5900</td>\n",
       "      <td>1.85</td>\n",
       "      <td>9.94</td>\n",
       "      <td>231</td>\n",
       "    </tr>\n",
       "  </tbody>\n",
       "</table>\n",
       "</div>"
      ],
      "text/plain": [
       "          c_Date   c_Open   c_High    c_Low  c_Close  c_PrevClose  c_Change  \\\n",
       "25   06-Feb-2018  16.0525  23.1575  16.0525  20.0150      16.0525      3.96   \n",
       "189  08-Oct-2018  19.7325  21.7650  18.4775  20.1475      19.7325      0.42   \n",
       "192  11-Oct-2018  17.9075  20.8450  17.6275  20.5475      17.9075      2.64   \n",
       "198  22-Oct-2018  19.7875  21.6725  17.0800  21.3575      19.7875      1.57   \n",
       "204  30-Oct-2018  19.8250  20.7725  19.5500  20.5025      19.8250      0.68   \n",
       "221  26-Nov-2018  19.1600  20.5275  15.0175  20.4025      19.1600      1.24   \n",
       "231  10-Dec-2018  18.5900  20.6450  16.8900  20.4375      18.5900      1.85   \n",
       "\n",
       "     c_ChangePer  Index_as_column  \n",
       "25         24.68               25  \n",
       "189         2.10              189  \n",
       "192        14.74              192  \n",
       "198         7.93              198  \n",
       "204         3.42              204  \n",
       "221         6.48              221  \n",
       "231         9.94              231  "
      ]
     },
     "execution_count": 84,
     "metadata": {},
     "output_type": "execute_result"
    }
   ],
   "source": [
    "vixData.iloc[list(vixData.c_Close > 20)]"
   ]
  },
  {
   "cell_type": "code",
   "execution_count": 85,
   "metadata": {},
   "outputs": [
    {
     "data": {
      "text/html": [
       "<div>\n",
       "<style scoped>\n",
       "    .dataframe tbody tr th:only-of-type {\n",
       "        vertical-align: middle;\n",
       "    }\n",
       "\n",
       "    .dataframe tbody tr th {\n",
       "        vertical-align: top;\n",
       "    }\n",
       "\n",
       "    .dataframe thead th {\n",
       "        text-align: right;\n",
       "    }\n",
       "</style>\n",
       "<table border=\"1\" class=\"dataframe\">\n",
       "  <thead>\n",
       "    <tr style=\"text-align: right;\">\n",
       "      <th></th>\n",
       "      <th>c_Date</th>\n",
       "      <th>c_Open</th>\n",
       "      <th>c_High</th>\n",
       "      <th>c_Low</th>\n",
       "      <th>c_Close</th>\n",
       "      <th>c_PrevClose</th>\n",
       "      <th>c_Change</th>\n",
       "      <th>c_ChangePer</th>\n",
       "      <th>Index_as_column</th>\n",
       "    </tr>\n",
       "  </thead>\n",
       "  <tbody>\n",
       "    <tr>\n",
       "      <th>0</th>\n",
       "      <td>01-Jan-2018</td>\n",
       "      <td>12.6700</td>\n",
       "      <td>13.6125</td>\n",
       "      <td>12.545</td>\n",
       "      <td>13.3525</td>\n",
       "      <td>12.6700</td>\n",
       "      <td>0.68</td>\n",
       "      <td>5.39</td>\n",
       "      <td>0</td>\n",
       "    </tr>\n",
       "    <tr>\n",
       "      <th>1</th>\n",
       "      <td>02-Jan-2018</td>\n",
       "      <td>13.3525</td>\n",
       "      <td>13.8425</td>\n",
       "      <td>12.605</td>\n",
       "      <td>13.6850</td>\n",
       "      <td>13.3525</td>\n",
       "      <td>0.33</td>\n",
       "      <td>2.49</td>\n",
       "      <td>1</td>\n",
       "    </tr>\n",
       "  </tbody>\n",
       "</table>\n",
       "</div>"
      ],
      "text/plain": [
       "        c_Date   c_Open   c_High   c_Low  c_Close  c_PrevClose  c_Change  \\\n",
       "0  01-Jan-2018  12.6700  13.6125  12.545  13.3525      12.6700      0.68   \n",
       "1  02-Jan-2018  13.3525  13.8425  12.605  13.6850      13.3525      0.33   \n",
       "\n",
       "   c_ChangePer  Index_as_column  \n",
       "0         5.39                0  \n",
       "1         2.49                1  "
      ]
     },
     "execution_count": 85,
     "metadata": {},
     "output_type": "execute_result"
    }
   ],
   "source": [
    "vixData.loc[lambda df: [0,1], :]"
   ]
  },
  {
   "cell_type": "markdown",
   "metadata": {},
   "source": [
    "### create csv file"
   ]
  },
  {
   "cell_type": "code",
   "execution_count": 86,
   "metadata": {},
   "outputs": [],
   "source": [
    "vixData.to_csv('updated_file.csv')"
   ]
  },
  {
   "cell_type": "markdown",
   "metadata": {},
   "source": [
    "## Advanced Tips for Pandas"
   ]
  },
  {
   "cell_type": "code",
   "execution_count": null,
   "metadata": {},
   "outputs": [],
   "source": [
    "import numpy as np\n",
    "import pandas as pd"
   ]
  },
  {
   "cell_type": "code",
   "execution_count": 11,
   "metadata": {},
   "outputs": [
    {
     "data": {
      "text/html": [
       "<div>\n",
       "<style scoped>\n",
       "    .dataframe tbody tr th:only-of-type {\n",
       "        vertical-align: middle;\n",
       "    }\n",
       "\n",
       "    .dataframe tbody tr th {\n",
       "        vertical-align: top;\n",
       "    }\n",
       "\n",
       "    .dataframe thead th {\n",
       "        text-align: right;\n",
       "    }\n",
       "</style>\n",
       "<table border=\"1\" class=\"dataframe\">\n",
       "  <thead>\n",
       "    <tr style=\"text-align: right;\">\n",
       "      <th></th>\n",
       "      <th>Team</th>\n",
       "      <th>Player</th>\n",
       "      <th>Score</th>\n",
       "    </tr>\n",
       "  </thead>\n",
       "  <tbody>\n",
       "    <tr>\n",
       "      <th>0</th>\n",
       "      <td>RCB</td>\n",
       "      <td>Kohli</td>\n",
       "      <td>91.0</td>\n",
       "    </tr>\n",
       "    <tr>\n",
       "      <th>1</th>\n",
       "      <td>CSK</td>\n",
       "      <td>Dhoni</td>\n",
       "      <td>92.0</td>\n",
       "    </tr>\n",
       "    <tr>\n",
       "      <th>2</th>\n",
       "      <td>MI</td>\n",
       "      <td>Sharma</td>\n",
       "      <td>NaN</td>\n",
       "    </tr>\n",
       "    <tr>\n",
       "      <th>3</th>\n",
       "      <td>MI</td>\n",
       "      <td>Bhumrah</td>\n",
       "      <td>84.0</td>\n",
       "    </tr>\n",
       "    <tr>\n",
       "      <th>4</th>\n",
       "      <td>CSK</td>\n",
       "      <td>Jadeja</td>\n",
       "      <td>NaN</td>\n",
       "    </tr>\n",
       "    <tr>\n",
       "      <th>5</th>\n",
       "      <td>NaN</td>\n",
       "      <td>Uthappa</td>\n",
       "      <td>70.0</td>\n",
       "    </tr>\n",
       "    <tr>\n",
       "      <th>6</th>\n",
       "      <td>NaN</td>\n",
       "      <td>Maxwell</td>\n",
       "      <td>56.0</td>\n",
       "    </tr>\n",
       "    <tr>\n",
       "      <th>7</th>\n",
       "      <td>RCB</td>\n",
       "      <td>Karthik</td>\n",
       "      <td>89.0</td>\n",
       "    </tr>\n",
       "  </tbody>\n",
       "</table>\n",
       "</div>"
      ],
      "text/plain": [
       "  Team   Player  Score\n",
       "0  RCB    Kohli   91.0\n",
       "1  CSK    Dhoni   92.0\n",
       "2   MI   Sharma    NaN\n",
       "3   MI  Bhumrah   84.0\n",
       "4  CSK   Jadeja    NaN\n",
       "5  NaN  Uthappa   70.0\n",
       "6  NaN  Maxwell   56.0\n",
       "7  RCB  Karthik   89.0"
      ]
     },
     "execution_count": 11,
     "metadata": {},
     "output_type": "execute_result"
    }
   ],
   "source": [
    "df = pd.DataFrame({\n",
    "    \"Team\": [\"RCB\",\"CSK\",\"MI\",\"MI\",\"CSK\",np.nan,np.nan,\"RCB\"],\n",
    "    \"Player\": [\n",
    "       \"Kohli\",\"Dhoni\",\"Sharma\",\"Bhumrah\",\"Jadeja\",\"Uthappa\",\"Maxwell\",\"Karthik\"\n",
    "    ],\n",
    "    \"Score\": [91, 92, np.nan, 84, np.nan, 70, 56, 89]\n",
    "})\n",
    "df"
   ]
  },
  {
   "cell_type": "markdown",
   "metadata": {},
   "source": [
    "#### Get the count for each value"
   ]
  },
  {
   "cell_type": "code",
   "execution_count": 2,
   "metadata": {},
   "outputs": [
    {
     "data": {
      "text/plain": [
       "RCB    2\n",
       "MI     2\n",
       "CSK    2\n",
       "Name: Team, dtype: int64"
      ]
     },
     "execution_count": 2,
     "metadata": {},
     "output_type": "execute_result"
    }
   ],
   "source": [
    "df[\"Team\"].value_counts()"
   ]
  },
  {
   "cell_type": "markdown",
   "metadata": {},
   "source": [
    "#### Include the NaN as well in the count"
   ]
  },
  {
   "cell_type": "code",
   "execution_count": 3,
   "metadata": {},
   "outputs": [
    {
     "data": {
      "text/plain": [
       "RCB    2\n",
       "MI     2\n",
       "CSK    2\n",
       "NaN    2\n",
       "Name: Team, dtype: int64"
      ]
     },
     "execution_count": 3,
     "metadata": {},
     "output_type": "execute_result"
    }
   ],
   "source": [
    "df[\"Team\"].value_counts(dropna=False)"
   ]
  },
  {
   "cell_type": "markdown",
   "metadata": {},
   "source": [
    "#### Filling missing values by using other columns"
   ]
  },
  {
   "cell_type": "code",
   "execution_count": 5,
   "metadata": {},
   "outputs": [],
   "source": [
    "df.loc[df[\"Team\"].isna()==True, \"Team\"] = df[\"Player\"]"
   ]
  },
  {
   "cell_type": "code",
   "execution_count": 6,
   "metadata": {},
   "outputs": [
    {
     "data": {
      "text/html": [
       "<div>\n",
       "<style scoped>\n",
       "    .dataframe tbody tr th:only-of-type {\n",
       "        vertical-align: middle;\n",
       "    }\n",
       "\n",
       "    .dataframe tbody tr th {\n",
       "        vertical-align: top;\n",
       "    }\n",
       "\n",
       "    .dataframe thead th {\n",
       "        text-align: right;\n",
       "    }\n",
       "</style>\n",
       "<table border=\"1\" class=\"dataframe\">\n",
       "  <thead>\n",
       "    <tr style=\"text-align: right;\">\n",
       "      <th></th>\n",
       "      <th>Team</th>\n",
       "      <th>Player</th>\n",
       "      <th>Score</th>\n",
       "    </tr>\n",
       "  </thead>\n",
       "  <tbody>\n",
       "    <tr>\n",
       "      <th>0</th>\n",
       "      <td>RCB</td>\n",
       "      <td>Kohli</td>\n",
       "      <td>91.0</td>\n",
       "    </tr>\n",
       "    <tr>\n",
       "      <th>1</th>\n",
       "      <td>CSK</td>\n",
       "      <td>Dhoni</td>\n",
       "      <td>92.0</td>\n",
       "    </tr>\n",
       "    <tr>\n",
       "      <th>2</th>\n",
       "      <td>MI</td>\n",
       "      <td>Sharma</td>\n",
       "      <td>NaN</td>\n",
       "    </tr>\n",
       "    <tr>\n",
       "      <th>3</th>\n",
       "      <td>MI</td>\n",
       "      <td>Bhumrah</td>\n",
       "      <td>84.0</td>\n",
       "    </tr>\n",
       "    <tr>\n",
       "      <th>4</th>\n",
       "      <td>CSK</td>\n",
       "      <td>Jadeja</td>\n",
       "      <td>NaN</td>\n",
       "    </tr>\n",
       "    <tr>\n",
       "      <th>5</th>\n",
       "      <td>Uthappa</td>\n",
       "      <td>Uthappa</td>\n",
       "      <td>70.0</td>\n",
       "    </tr>\n",
       "    <tr>\n",
       "      <th>6</th>\n",
       "      <td>Maxwell</td>\n",
       "      <td>Maxwell</td>\n",
       "      <td>56.0</td>\n",
       "    </tr>\n",
       "    <tr>\n",
       "      <th>7</th>\n",
       "      <td>RCB</td>\n",
       "      <td>Karthik</td>\n",
       "      <td>89.0</td>\n",
       "    </tr>\n",
       "  </tbody>\n",
       "</table>\n",
       "</div>"
      ],
      "text/plain": [
       "      Team   Player  Score\n",
       "0      RCB    Kohli   91.0\n",
       "1      CSK    Dhoni   92.0\n",
       "2       MI   Sharma    NaN\n",
       "3       MI  Bhumrah   84.0\n",
       "4      CSK   Jadeja    NaN\n",
       "5  Uthappa  Uthappa   70.0\n",
       "6  Maxwell  Maxwell   56.0\n",
       "7      RCB  Karthik   89.0"
      ]
     },
     "execution_count": 6,
     "metadata": {},
     "output_type": "execute_result"
    }
   ],
   "source": [
    "df"
   ]
  },
  {
   "cell_type": "code",
   "execution_count": 10,
   "metadata": {},
   "outputs": [
    {
     "data": {
      "text/html": [
       "<div>\n",
       "<style scoped>\n",
       "    .dataframe tbody tr th:only-of-type {\n",
       "        vertical-align: middle;\n",
       "    }\n",
       "\n",
       "    .dataframe tbody tr th {\n",
       "        vertical-align: top;\n",
       "    }\n",
       "\n",
       "    .dataframe thead th {\n",
       "        text-align: right;\n",
       "    }\n",
       "</style>\n",
       "<table border=\"1\" class=\"dataframe\">\n",
       "  <thead>\n",
       "    <tr style=\"text-align: right;\">\n",
       "      <th></th>\n",
       "      <th>Team</th>\n",
       "      <th>Player</th>\n",
       "      <th>Score</th>\n",
       "    </tr>\n",
       "  </thead>\n",
       "  <tbody>\n",
       "    <tr>\n",
       "      <th>0</th>\n",
       "      <td>RCB</td>\n",
       "      <td>Kohli</td>\n",
       "      <td>91.0</td>\n",
       "    </tr>\n",
       "    <tr>\n",
       "      <th>1</th>\n",
       "      <td>CSK</td>\n",
       "      <td>Dhoni</td>\n",
       "      <td>92.0</td>\n",
       "    </tr>\n",
       "    <tr>\n",
       "      <th>2</th>\n",
       "      <td>MI</td>\n",
       "      <td>Sharma</td>\n",
       "      <td>NaN</td>\n",
       "    </tr>\n",
       "    <tr>\n",
       "      <th>3</th>\n",
       "      <td>MI</td>\n",
       "      <td>Bhumrah</td>\n",
       "      <td>84.0</td>\n",
       "    </tr>\n",
       "    <tr>\n",
       "      <th>4</th>\n",
       "      <td>CSK</td>\n",
       "      <td>Jadeja</td>\n",
       "      <td>NaN</td>\n",
       "    </tr>\n",
       "    <tr>\n",
       "      <th>5</th>\n",
       "      <td>Uthappa</td>\n",
       "      <td>Uthappa</td>\n",
       "      <td>70.0</td>\n",
       "    </tr>\n",
       "    <tr>\n",
       "      <th>6</th>\n",
       "      <td>Maxwell</td>\n",
       "      <td>Maxwell</td>\n",
       "      <td>56.0</td>\n",
       "    </tr>\n",
       "    <tr>\n",
       "      <th>7</th>\n",
       "      <td>RCB</td>\n",
       "      <td>Karthik</td>\n",
       "      <td>89.0</td>\n",
       "    </tr>\n",
       "  </tbody>\n",
       "</table>\n",
       "</div>"
      ],
      "text/plain": [
       "      Team   Player  Score\n",
       "0      RCB    Kohli   91.0\n",
       "1      CSK    Dhoni   92.0\n",
       "2       MI   Sharma    NaN\n",
       "3       MI  Bhumrah   84.0\n",
       "4      CSK   Jadeja    NaN\n",
       "5  Uthappa  Uthappa   70.0\n",
       "6  Maxwell  Maxwell   56.0\n",
       "7      RCB  Karthik   89.0"
      ]
     },
     "execution_count": 10,
     "metadata": {},
     "output_type": "execute_result"
    }
   ],
   "source": [
    "# use the fillna function directly\n",
    "df[\"Team\"].fillna(df[\"Player\"], inplace=True)\n",
    "df"
   ]
  },
  {
   "cell_type": "markdown",
   "metadata": {},
   "source": [
    "The values in the score column are integers but they are shown as floating point numbers. The reason is the missing values in this column."
   ]
  },
  {
   "cell_type": "code",
   "execution_count": 12,
   "metadata": {},
   "outputs": [
    {
     "data": {
      "text/html": [
       "<div>\n",
       "<style scoped>\n",
       "    .dataframe tbody tr th:only-of-type {\n",
       "        vertical-align: middle;\n",
       "    }\n",
       "\n",
       "    .dataframe tbody tr th {\n",
       "        vertical-align: top;\n",
       "    }\n",
       "\n",
       "    .dataframe thead th {\n",
       "        text-align: right;\n",
       "    }\n",
       "</style>\n",
       "<table border=\"1\" class=\"dataframe\">\n",
       "  <thead>\n",
       "    <tr style=\"text-align: right;\">\n",
       "      <th></th>\n",
       "      <th>Team</th>\n",
       "      <th>Player</th>\n",
       "      <th>Score</th>\n",
       "    </tr>\n",
       "  </thead>\n",
       "  <tbody>\n",
       "    <tr>\n",
       "      <th>0</th>\n",
       "      <td>RCB</td>\n",
       "      <td>Kohli</td>\n",
       "      <td>91</td>\n",
       "    </tr>\n",
       "    <tr>\n",
       "      <th>1</th>\n",
       "      <td>CSK</td>\n",
       "      <td>Dhoni</td>\n",
       "      <td>92</td>\n",
       "    </tr>\n",
       "    <tr>\n",
       "      <th>2</th>\n",
       "      <td>MI</td>\n",
       "      <td>Sharma</td>\n",
       "      <td>&lt;NA&gt;</td>\n",
       "    </tr>\n",
       "    <tr>\n",
       "      <th>3</th>\n",
       "      <td>MI</td>\n",
       "      <td>Bhumrah</td>\n",
       "      <td>84</td>\n",
       "    </tr>\n",
       "    <tr>\n",
       "      <th>4</th>\n",
       "      <td>CSK</td>\n",
       "      <td>Jadeja</td>\n",
       "      <td>&lt;NA&gt;</td>\n",
       "    </tr>\n",
       "    <tr>\n",
       "      <th>5</th>\n",
       "      <td>NaN</td>\n",
       "      <td>Uthappa</td>\n",
       "      <td>70</td>\n",
       "    </tr>\n",
       "    <tr>\n",
       "      <th>6</th>\n",
       "      <td>NaN</td>\n",
       "      <td>Maxwell</td>\n",
       "      <td>56</td>\n",
       "    </tr>\n",
       "    <tr>\n",
       "      <th>7</th>\n",
       "      <td>RCB</td>\n",
       "      <td>Karthik</td>\n",
       "      <td>89</td>\n",
       "    </tr>\n",
       "  </tbody>\n",
       "</table>\n",
       "</div>"
      ],
      "text/plain": [
       "  Team   Player  Score\n",
       "0  RCB    Kohli     91\n",
       "1  CSK    Dhoni     92\n",
       "2   MI   Sharma   <NA>\n",
       "3   MI  Bhumrah     84\n",
       "4  CSK   Jadeja   <NA>\n",
       "5  NaN  Uthappa     70\n",
       "6  NaN  Maxwell     56\n",
       "7  RCB  Karthik     89"
      ]
     },
     "execution_count": 12,
     "metadata": {},
     "output_type": "execute_result"
    }
   ],
   "source": [
    "df[\"Score\"] = df[\"Score\"].astype(pd.Int64Dtype())\n",
    "df"
   ]
  },
  {
   "cell_type": "markdown",
   "metadata": {},
   "source": [
    "## Merge Dataframes"
   ]
  },
  {
   "cell_type": "code",
   "execution_count": 1,
   "metadata": {},
   "outputs": [],
   "source": [
    "import pandas as pd"
   ]
  },
  {
   "cell_type": "code",
   "execution_count": 4,
   "metadata": {},
   "outputs": [
    {
     "name": "stdout",
     "output_type": "stream",
     "text": [
      "   col1 col2\n",
      "0     1    A\n",
      "1     2    B\n",
      "  col2  col3\n",
      "0    A    40\n",
      "1    B    30\n"
     ]
    }
   ],
   "source": [
    "df1 = pd.DataFrame([\n",
    "                    [1, \"A\"], [2,\"B\"]\n",
    "                    ], columns = [\"col1\", \"col2\"])\n",
    "print(df1)\n",
    "\n",
    "\n",
    "df2 = pd.DataFrame([\n",
    "                    [\"A\", 40], [\"B\", 30]\n",
    "                    ], columns = [\"col2\", \"col3\"])\n",
    "print(df2)"
   ]
  },
  {
   "cell_type": "code",
   "execution_count": 5,
   "metadata": {},
   "outputs": [
    {
     "name": "stdout",
     "output_type": "stream",
     "text": [
      "   col1 col2  col3\n",
      "0     1    A    40\n",
      "1     2    B    30\n"
     ]
    }
   ],
   "source": [
    "df_m = pd.merge(df1, df2, on=\"col2\", how=\"inner\")\n",
    "print (df_m)"
   ]
  },
  {
   "cell_type": "markdown",
   "metadata": {},
   "source": [
    "### Sort DataFrame"
   ]
  },
  {
   "cell_type": "code",
   "execution_count": 6,
   "metadata": {},
   "outputs": [
    {
     "data": {
      "text/html": [
       "<div>\n",
       "<style scoped>\n",
       "    .dataframe tbody tr th:only-of-type {\n",
       "        vertical-align: middle;\n",
       "    }\n",
       "\n",
       "    .dataframe tbody tr th {\n",
       "        vertical-align: top;\n",
       "    }\n",
       "\n",
       "    .dataframe thead th {\n",
       "        text-align: right;\n",
       "    }\n",
       "</style>\n",
       "<table border=\"1\" class=\"dataframe\">\n",
       "  <thead>\n",
       "    <tr style=\"text-align: right;\">\n",
       "      <th></th>\n",
       "      <th>col1</th>\n",
       "      <th>col2</th>\n",
       "      <th>col3</th>\n",
       "    </tr>\n",
       "  </thead>\n",
       "  <tbody>\n",
       "    <tr>\n",
       "      <th>1</th>\n",
       "      <td>2</td>\n",
       "      <td>B</td>\n",
       "      <td>30</td>\n",
       "    </tr>\n",
       "    <tr>\n",
       "      <th>0</th>\n",
       "      <td>1</td>\n",
       "      <td>A</td>\n",
       "      <td>40</td>\n",
       "    </tr>\n",
       "  </tbody>\n",
       "</table>\n",
       "</div>"
      ],
      "text/plain": [
       "   col1 col2  col3\n",
       "1     2    B    30\n",
       "0     1    A    40"
      ]
     },
     "execution_count": 6,
     "metadata": {},
     "output_type": "execute_result"
    }
   ],
   "source": [
    "df_m.sort_values(by=\"col3\")"
   ]
  },
  {
   "cell_type": "markdown",
   "metadata": {},
   "source": [
    "## Concatenating DataFrames"
   ]
  },
  {
   "cell_type": "code",
   "execution_count": 7,
   "metadata": {},
   "outputs": [
    {
     "name": "stdout",
     "output_type": "stream",
     "text": [
      "   col1 col2\n",
      "0     1    A\n",
      "1     2    B\n",
      "  col3  col4\n",
      "0    A    40\n",
      "1    B    30\n"
     ]
    }
   ],
   "source": [
    "df1 = pd.DataFrame([[1, \"A\"], \n",
    "                    [2,\"B\"]\n",
    "                    ], columns = [\"col1\", \"col2\"])\n",
    "print(df1)\n",
    "\n",
    "\n",
    "df2 = pd.DataFrame([[\"A\", 40], \n",
    "                    [\"B\", 30]\n",
    "                    ], columns = [\"col3\", \"col4\"])\n",
    "print(df2)"
   ]
  },
  {
   "cell_type": "code",
   "execution_count": 9,
   "metadata": {},
   "outputs": [
    {
     "name": "stdout",
     "output_type": "stream",
     "text": [
      "   col1 col2 col3  col4\n",
      "0     1    A    A    40\n",
      "1     2    B    B    30\n"
     ]
    }
   ],
   "source": [
    "df_c = pd.concat((df1, df2), axis=1)\n",
    "print (df_c)\n",
    "\n",
    "#axis = 1 stacks columns together.\n",
    "#axis = 0 stacks rows together, provided column header match."
   ]
  },
  {
   "cell_type": "markdown",
   "metadata": {},
   "source": [
    "### Rename columns"
   ]
  },
  {
   "cell_type": "code",
   "execution_count": 13,
   "metadata": {},
   "outputs": [
    {
     "data": {
      "text/html": [
       "<div>\n",
       "<style scoped>\n",
       "    .dataframe tbody tr th:only-of-type {\n",
       "        vertical-align: middle;\n",
       "    }\n",
       "\n",
       "    .dataframe tbody tr th {\n",
       "        vertical-align: top;\n",
       "    }\n",
       "\n",
       "    .dataframe thead th {\n",
       "        text-align: right;\n",
       "    }\n",
       "</style>\n",
       "<table border=\"1\" class=\"dataframe\">\n",
       "  <thead>\n",
       "    <tr style=\"text-align: right;\">\n",
       "      <th></th>\n",
       "      <th>c_1</th>\n",
       "      <th>c_2</th>\n",
       "      <th>c_3</th>\n",
       "      <th>c_4</th>\n",
       "    </tr>\n",
       "  </thead>\n",
       "  <tbody>\n",
       "    <tr>\n",
       "      <th>0</th>\n",
       "      <td>1</td>\n",
       "      <td>A</td>\n",
       "      <td>A</td>\n",
       "      <td>40</td>\n",
       "    </tr>\n",
       "    <tr>\n",
       "      <th>1</th>\n",
       "      <td>2</td>\n",
       "      <td>B</td>\n",
       "      <td>B</td>\n",
       "      <td>30</td>\n",
       "    </tr>\n",
       "  </tbody>\n",
       "</table>\n",
       "</div>"
      ],
      "text/plain": [
       "   c_1 c_2 c_3  c_4\n",
       "0    1   A   A   40\n",
       "1    2   B   B   30"
      ]
     },
     "execution_count": 13,
     "metadata": {},
     "output_type": "execute_result"
    }
   ],
   "source": [
    "df_c = df_c.rename(columns={\n",
    "                \"col1\":\"c_1\",\n",
    "                \"col2\":\"c_2\",\n",
    "                \"col3\":\"c_3\",\n",
    "                \"col4\":\"c_4\"\n",
    "            })\n",
    "df_c"
   ]
  },
  {
   "cell_type": "markdown",
   "metadata": {},
   "source": [
    "### Add a new column"
   ]
  },
  {
   "cell_type": "code",
   "execution_count": 14,
   "metadata": {},
   "outputs": [
    {
     "data": {
      "text/html": [
       "<div>\n",
       "<style scoped>\n",
       "    .dataframe tbody tr th:only-of-type {\n",
       "        vertical-align: middle;\n",
       "    }\n",
       "\n",
       "    .dataframe tbody tr th {\n",
       "        vertical-align: top;\n",
       "    }\n",
       "\n",
       "    .dataframe thead th {\n",
       "        text-align: right;\n",
       "    }\n",
       "</style>\n",
       "<table border=\"1\" class=\"dataframe\">\n",
       "  <thead>\n",
       "    <tr style=\"text-align: right;\">\n",
       "      <th></th>\n",
       "      <th>c_1</th>\n",
       "      <th>c_2</th>\n",
       "      <th>c_3</th>\n",
       "      <th>c_4</th>\n",
       "      <th>c_new</th>\n",
       "    </tr>\n",
       "  </thead>\n",
       "  <tbody>\n",
       "    <tr>\n",
       "      <th>0</th>\n",
       "      <td>1</td>\n",
       "      <td>A</td>\n",
       "      <td>A</td>\n",
       "      <td>40</td>\n",
       "      <td>50</td>\n",
       "    </tr>\n",
       "    <tr>\n",
       "      <th>1</th>\n",
       "      <td>2</td>\n",
       "      <td>B</td>\n",
       "      <td>B</td>\n",
       "      <td>30</td>\n",
       "      <td>40</td>\n",
       "    </tr>\n",
       "  </tbody>\n",
       "</table>\n",
       "</div>"
      ],
      "text/plain": [
       "   c_1 c_2 c_3  c_4  c_new\n",
       "0    1   A   A   40     50\n",
       "1    2   B   B   30     40"
      ]
     },
     "execution_count": 14,
     "metadata": {},
     "output_type": "execute_result"
    }
   ],
   "source": [
    "df_c[\"c_new\"] = df_c[\"c_4\"] + 10\n",
    "df_c"
   ]
  },
  {
   "cell_type": "markdown",
   "metadata": {},
   "source": [
    "### Group By"
   ]
  },
  {
   "cell_type": "code",
   "execution_count": 15,
   "metadata": {},
   "outputs": [
    {
     "data": {
      "text/plain": [
       "col2\n",
       "A    8\n",
       "B    7\n",
       "Name: col1, dtype: int64"
      ]
     },
     "execution_count": 15,
     "metadata": {},
     "output_type": "execute_result"
    }
   ],
   "source": [
    "df_1 = pd.DataFrame([[1, \"A\"],\n",
    "                     [2, \"A\"],\n",
    "                     [3, \"B\"],\n",
    "                     [4, \"B\"],\n",
    "                     [5, \"A\"]], columns = [\"col1\", \"col2\"])\n",
    "\n",
    "df_1.groupby(\"col2\").col1.sum()"
   ]
  },
  {
   "cell_type": "markdown",
   "metadata": {},
   "source": [
    "### Apply function on a column"
   ]
  },
  {
   "cell_type": "code",
   "execution_count": 16,
   "metadata": {},
   "outputs": [
    {
     "name": "stdout",
     "output_type": "stream",
     "text": [
      "   col1 col2\n",
      "0     1    A\n",
      "1     2    A\n",
      "2     3    B\n",
      "3     4    B\n",
      "4     5    A\n"
     ]
    }
   ],
   "source": [
    "print(df_1)"
   ]
  },
  {
   "cell_type": "code",
   "execution_count": 17,
   "metadata": {},
   "outputs": [
    {
     "name": "stdout",
     "output_type": "stream",
     "text": [
      "   col1 col2  col3\n",
      "0     1    A     2\n",
      "1     2    A     4\n",
      "2     3    B     6\n",
      "3     4    B     8\n",
      "4     5    A    10\n"
     ]
    }
   ],
   "source": [
    "def foo(number):\n",
    "    return number * 2\n",
    "\n",
    "df_1[\"col3\"] = df_1.col1.apply(foo)\n",
    "\n",
    "print(df_1)"
   ]
  },
  {
   "cell_type": "markdown",
   "metadata": {},
   "source": [
    "### Remove Duplicates rows"
   ]
  },
  {
   "cell_type": "code",
   "execution_count": 19,
   "metadata": {},
   "outputs": [
    {
     "name": "stdout",
     "output_type": "stream",
     "text": [
      "   col1 col2\n",
      "0     1    A\n",
      "1     2    A\n",
      "2     3    B\n",
      "3     3    B\n",
      "4     2    A\n"
     ]
    }
   ],
   "source": [
    "df_1 = pd.DataFrame([[1, \"A\"],\n",
    "                     [2, \"A\"],\n",
    "                     [3, \"B\"],\n",
    "                     [3, \"B\"],\n",
    "                     [2, \"A\"]], columns = [\"col1\", \"col2\"])\n",
    "\n",
    "print(df_1)"
   ]
  },
  {
   "cell_type": "code",
   "execution_count": 20,
   "metadata": {},
   "outputs": [
    {
     "data": {
      "text/html": [
       "<div>\n",
       "<style scoped>\n",
       "    .dataframe tbody tr th:only-of-type {\n",
       "        vertical-align: middle;\n",
       "    }\n",
       "\n",
       "    .dataframe tbody tr th {\n",
       "        vertical-align: top;\n",
       "    }\n",
       "\n",
       "    .dataframe thead th {\n",
       "        text-align: right;\n",
       "    }\n",
       "</style>\n",
       "<table border=\"1\" class=\"dataframe\">\n",
       "  <thead>\n",
       "    <tr style=\"text-align: right;\">\n",
       "      <th></th>\n",
       "      <th>col1</th>\n",
       "      <th>col2</th>\n",
       "    </tr>\n",
       "  </thead>\n",
       "  <tbody>\n",
       "    <tr>\n",
       "      <th>0</th>\n",
       "      <td>1</td>\n",
       "      <td>A</td>\n",
       "    </tr>\n",
       "    <tr>\n",
       "      <th>1</th>\n",
       "      <td>2</td>\n",
       "      <td>A</td>\n",
       "    </tr>\n",
       "    <tr>\n",
       "      <th>2</th>\n",
       "      <td>3</td>\n",
       "      <td>B</td>\n",
       "    </tr>\n",
       "  </tbody>\n",
       "</table>\n",
       "</div>"
      ],
      "text/plain": [
       "   col1 col2\n",
       "0     1    A\n",
       "1     2    A\n",
       "2     3    B"
      ]
     },
     "execution_count": 20,
     "metadata": {},
     "output_type": "execute_result"
    }
   ],
   "source": [
    "df_1.drop_duplicates()"
   ]
  },
  {
   "cell_type": "markdown",
   "metadata": {},
   "source": [
    "### Count - find the frequency of each value in each column"
   ]
  },
  {
   "cell_type": "code",
   "execution_count": 23,
   "metadata": {},
   "outputs": [
    {
     "data": {
      "text/plain": [
       "A    3\n",
       "B    2\n",
       "Name: col2, dtype: int64"
      ]
     },
     "execution_count": 23,
     "metadata": {},
     "output_type": "execute_result"
    }
   ],
   "source": [
    "df_1.col2.value_counts()"
   ]
  },
  {
   "cell_type": "code",
   "execution_count": 24,
   "metadata": {},
   "outputs": [
    {
     "data": {
      "text/plain": [
       "(5, 2)"
      ]
     },
     "execution_count": 24,
     "metadata": {},
     "output_type": "execute_result"
    }
   ],
   "source": [
    "df_1.shape"
   ]
  },
  {
   "cell_type": "code",
   "execution_count": null,
   "metadata": {},
   "outputs": [],
   "source": []
  }
 ],
 "metadata": {
  "kernelspec": {
   "display_name": "Python 3",
   "language": "python",
   "name": "python3"
  },
  "language_info": {
   "codemirror_mode": {
    "name": "ipython",
    "version": 3
   },
   "file_extension": ".py",
   "mimetype": "text/x-python",
   "name": "python",
   "nbconvert_exporter": "python",
   "pygments_lexer": "ipython3",
   "version": "3.8.5"
  }
 },
 "nbformat": 4,
 "nbformat_minor": 4
}
