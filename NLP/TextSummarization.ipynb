{
 "cells": [
  {
   "cell_type": "code",
   "execution_count": 1,
   "metadata": {},
   "outputs": [],
   "source": [
    "import nltk\n",
    "#nltk.download('punkt')\n",
    "import string\n",
    "from heapq import nlargest"
   ]
  },
  {
   "cell_type": "code",
   "execution_count": 2,
   "metadata": {},
   "outputs": [],
   "source": [
    "#Enter Text to Summarize\n",
    "text = \"Johannes Gutenberg (1398 – 1468) was a German goldsmith and publisher who introduced printing to Europe. His introduction of mechanical movable type printing to Europe started the Printing Revolution and is widely regarded as the most important event of the modern period. It played a key role in the scientific revolution and laid the basis for the modern knowledge-based economy and the spread of learning to the masses. Gutenberg many contributions to printing are: the invention of a process for mass-producing movable type, the use of oil-based ink for printing books, adjustable molds, and the use of a wooden printing press. His truly epochal invention was the combination of these elements into a practical system that allowed the mass production of printed books and was economically viable for printers and readers alike. In Renaissance Europe, the arrival of mechanical movable type printing introduced the era of mass communication which permanently altered the structure of society. The relatively unrestricted circulation of information—including revolutionary ideas—transcended borders, and captured the masses in the Reformation. The sharp increase in literacy broke the monopoly of the literate elite on education and learning and bolstered the emerging middle class.\""
   ]
  },
  {
   "cell_type": "code",
   "execution_count": null,
   "metadata": {},
   "outputs": [],
   "source": [
    "# https://thecleverprogrammer.com/2020/12/31/text-summarization-with-python/"
   ]
  },
  {
   "cell_type": "code",
   "execution_count": 5,
   "metadata": {},
   "outputs": [
    {
     "name": "stdout",
     "output_type": "stream",
     "text": [
      "Gutenberg many contributions to printing are: the invention of a process for mass-producing movable type, the use of oil-based ink for printing books, adjustable molds, and the use of a wooden printing press.\n"
     ]
    }
   ],
   "source": [
    "if text.count(\". \") > 20:\n",
    "    length = int(round(text.count(\". \")/10, 0))\n",
    "else:\n",
    "    length = 1\n",
    "\n",
    "nopuch =[char for char in text if char not in string.punctuation]\n",
    "nopuch = \"\".join(nopuch)\n",
    "\n",
    "processed_text = [word for word in nopuch.split() if word.lower() not in nltk.corpus.stopwords.words('english')]\n",
    "\n",
    "word_freq = {}\n",
    "for word in processed_text:\n",
    "    if word not in word_freq:\n",
    "        word_freq[word] = 1\n",
    "    else:\n",
    "        word_freq[word] = word_freq[word] + 1\n",
    "\n",
    "max_freq = max(word_freq.values())\n",
    "for word in word_freq.keys():\n",
    "    word_freq[word] = (word_freq[word]/max_freq)\n",
    "\n",
    "sent_list = nltk.sent_tokenize(text)\n",
    "sent_score = {}\n",
    "for sent in sent_list:\n",
    "    for word in nltk.word_tokenize(sent.lower()):\n",
    "        if word in word_freq.keys():\n",
    "            if sent not in sent_score.keys():\n",
    "                sent_score[sent] = word_freq[word]\n",
    "            else:\n",
    "                sent_score[sent] = sent_score[sent] + word_freq[word]\n",
    "\n",
    "summary_sents = nlargest(length, sent_score, key=sent_score.get)\n",
    "summary = \" \".join(summary_sents)\n",
    "print(summary)"
   ]
  },
  {
   "cell_type": "code",
   "execution_count": 7,
   "metadata": {},
   "outputs": [],
   "source": [
    "## output is not good at all"
   ]
  },
  {
   "cell_type": "code",
   "execution_count": 9,
   "metadata": {
    "scrolled": true
   },
   "outputs": [
    {
     "name": "stdout",
     "output_type": "stream",
     "text": [
      "Collecting sumy\n",
      "  Downloading sumy-0.10.0-py2.py3-none-any.whl (94 kB)\n",
      "Requirement already satisfied: requests>=2.7.0 in c:\\users\\dhaval_patel\\anaconda3\\lib\\site-packages (from sumy) (2.27.1)\n",
      "Collecting breadability>=0.1.20\n",
      "  Downloading breadability-0.1.20.tar.gz (32 kB)\n",
      "Collecting pycountry>=18.2.23\n",
      "  Downloading pycountry-22.3.5.tar.gz (10.1 MB)\n",
      "  Installing build dependencies: started\n",
      "  Installing build dependencies: finished with status 'done'\n",
      "  Getting requirements to build wheel: started\n",
      "  Getting requirements to build wheel: finished with status 'done'\n",
      "    Preparing wheel metadata: started\n",
      "    Preparing wheel metadata: finished with status 'done'\n",
      "Collecting docopt<0.7,>=0.6.1\n",
      "  Downloading docopt-0.6.2.tar.gz (25 kB)\n",
      "Requirement already satisfied: nltk>=3.0.2 in c:\\users\\dhaval_patel\\anaconda3\\lib\\site-packages (from sumy) (3.5)\n",
      "Requirement already satisfied: certifi>=2017.4.17 in c:\\users\\dhaval_patel\\anaconda3\\lib\\site-packages (from requests>=2.7.0->sumy) (2021.10.8)\n",
      "Requirement already satisfied: urllib3<1.27,>=1.21.1 in c:\\users\\dhaval_patel\\anaconda3\\lib\\site-packages (from requests>=2.7.0->sumy) (1.25.11)\n",
      "Requirement already satisfied: charset-normalizer~=2.0.0; python_version >= \"3\" in c:\\users\\dhaval_patel\\anaconda3\\lib\\site-packages (from requests>=2.7.0->sumy) (2.0.11)\n",
      "Requirement already satisfied: idna<4,>=2.5; python_version >= \"3\" in c:\\users\\dhaval_patel\\anaconda3\\lib\\site-packages (from requests>=2.7.0->sumy) (2.10)\n",
      "Requirement already satisfied: chardet in c:\\users\\dhaval_patel\\anaconda3\\lib\\site-packages (from breadability>=0.1.20->sumy) (3.0.4)\n",
      "Requirement already satisfied: lxml>=2.0 in c:\\users\\dhaval_patel\\anaconda3\\lib\\site-packages (from breadability>=0.1.20->sumy) (4.6.1)\n",
      "Requirement already satisfied: setuptools in c:\\users\\dhaval_patel\\anaconda3\\lib\\site-packages (from pycountry>=18.2.23->sumy) (50.3.1.post20201107)\n",
      "Requirement already satisfied: tqdm in c:\\users\\dhaval_patel\\anaconda3\\lib\\site-packages (from nltk>=3.0.2->sumy) (4.50.2)\n",
      "Requirement already satisfied: joblib in c:\\users\\dhaval_patel\\anaconda3\\lib\\site-packages (from nltk>=3.0.2->sumy) (0.17.0)\n",
      "Requirement already satisfied: click in c:\\users\\dhaval_patel\\anaconda3\\lib\\site-packages (from nltk>=3.0.2->sumy) (7.1.2)\n",
      "Requirement already satisfied: regex in c:\\users\\dhaval_patel\\anaconda3\\lib\\site-packages (from nltk>=3.0.2->sumy) (2020.10.15)\n",
      "Building wheels for collected packages: breadability, pycountry, docopt\n",
      "  Building wheel for breadability (setup.py): started\n",
      "  Building wheel for breadability (setup.py): finished with status 'done'\n",
      "  Created wheel for breadability: filename=breadability-0.1.20-py2.py3-none-any.whl size=21692 sha256=3ef4a2391c8638491fb3357f2d13b731da5b4ef890784e3e7a63f8a8b020a951\n",
      "  Stored in directory: c:\\users\\dhaval_patel\\appdata\\local\\pip\\cache\\wheels\\5f\\0d\\0c\\2062d8c1758b4b1a2e42b4a63e6660d9ec2ba9463cfee9eeab\n",
      "  Building wheel for pycountry (PEP 517): started\n",
      "  Building wheel for pycountry (PEP 517): finished with status 'done'\n",
      "  Created wheel for pycountry: filename=pycountry-22.3.5-py2.py3-none-any.whl size=10681832 sha256=48a36df9cbae15f04af0783f7e7cb0d121142c3b2b30eb0531b1f8d512772720\n",
      "  Stored in directory: c:\\users\\dhaval_patel\\appdata\\local\\pip\\cache\\wheels\\e2\\aa\\0f\\c224e473b464387170b83ca7c66947b4a7e33e8d903a679748\n",
      "  Building wheel for docopt (setup.py): started\n",
      "  Building wheel for docopt (setup.py): finished with status 'done'\n",
      "  Created wheel for docopt: filename=docopt-0.6.2-py2.py3-none-any.whl size=13709 sha256=131d6f7f8e504a76f29a0b1ab60811c33f3cfcdcf854d17478550c25f84d7a52\n",
      "  Stored in directory: c:\\users\\dhaval_patel\\appdata\\local\\pip\\cache\\wheels\\56\\ea\\58\\ead137b087d9e326852a851351d1debf4ada529b6ac0ec4e8c\n",
      "Successfully built breadability pycountry docopt\n",
      "Installing collected packages: docopt, breadability, pycountry, sumy\n",
      "Successfully installed breadability-0.1.20 docopt-0.6.2 pycountry-22.3.5 sumy-0.10.0\n",
      "Collecting sumy\n",
      "  Using cached sumy-0.10.0-py2.py3-none-any.whl (94 kB)\n",
      "Collecting breadability>=0.1.20\n",
      "  Using cached breadability-0.1.20.tar.gz (32 kB)\n",
      "Collecting docopt<0.7,>=0.6.1\n",
      "  Using cached docopt-0.6.2.tar.gz (25 kB)\n",
      "Collecting pycountry>=18.2.23\n",
      "  Using cached pycountry-22.3.5.tar.gz (10.1 MB)\n",
      "  Installing build dependencies: started\n",
      "  Installing build dependencies: finished with status 'done'\n",
      "  Getting requirements to build wheel: started\n",
      "  Getting requirements to build wheel: finished with status 'done'\n",
      "    Preparing wheel metadata: started\n",
      "    Preparing wheel metadata: finished with status 'done'\n",
      "Requirement already satisfied: nltk>=3.0.2 in c:\\users\\dhaval_patel\\anaconda3\\lib\\site-packages (from sumy) (3.5)\n",
      "Requirement already satisfied: requests>=2.7.0 in c:\\users\\dhaval_patel\\anaconda3\\lib\\site-packages (from sumy) (2.27.1)\n",
      "Requirement already satisfied: chardet in c:\\users\\dhaval_patel\\anaconda3\\lib\\site-packages (from breadability>=0.1.20->sumy) (3.0.4)\n",
      "Requirement already satisfied: lxml>=2.0 in c:\\users\\dhaval_patel\\anaconda3\\lib\\site-packages (from breadability>=0.1.20->sumy) (4.6.1)\n",
      "Requirement already satisfied: setuptools in c:\\users\\dhaval_patel\\anaconda3\\lib\\site-packages (from pycountry>=18.2.23->sumy) (50.3.1.post20201107)\n",
      "Requirement already satisfied: joblib in c:\\users\\dhaval_patel\\anaconda3\\lib\\site-packages (from nltk>=3.0.2->sumy) (0.17.0)\n",
      "Requirement already satisfied: click in c:\\users\\dhaval_patel\\anaconda3\\lib\\site-packages (from nltk>=3.0.2->sumy) (7.1.2)\n",
      "Requirement already satisfied: tqdm in c:\\users\\dhaval_patel\\anaconda3\\lib\\site-packages (from nltk>=3.0.2->sumy) (4.50.2)\n",
      "Requirement already satisfied: regex in c:\\users\\dhaval_patel\\anaconda3\\lib\\site-packages (from nltk>=3.0.2->sumy) (2020.10.15)\n",
      "Requirement already satisfied: urllib3<1.27,>=1.21.1 in c:\\users\\dhaval_patel\\anaconda3\\lib\\site-packages (from requests>=2.7.0->sumy) (1.25.11)\n",
      "Requirement already satisfied: charset-normalizer~=2.0.0; python_version >= \"3\" in c:\\users\\dhaval_patel\\anaconda3\\lib\\site-packages (from requests>=2.7.0->sumy) (2.0.11)\n",
      "Requirement already satisfied: certifi>=2017.4.17 in c:\\users\\dhaval_patel\\anaconda3\\lib\\site-packages (from requests>=2.7.0->sumy) (2021.10.8)\n",
      "Requirement already satisfied: idna<4,>=2.5; python_version >= \"3\" in c:\\users\\dhaval_patel\\anaconda3\\lib\\site-packages (from requests>=2.7.0->sumy) (2.10)\n",
      "Building wheels for collected packages: breadability, docopt, pycountry\n",
      "  Building wheel for breadability (setup.py): started\n",
      "  Building wheel for breadability (setup.py): finished with status 'done'\n",
      "  Created wheel for breadability: filename=breadability-0.1.20-py2.py3-none-any.whl size=21692 sha256=9fe96ebf0004ef6b92c42f8df05b8adb35bc7407dccd2f926bd7d18191185cf7\n",
      "  Stored in directory: c:\\users\\dhaval_patel\\appdata\\local\\pip\\cache\\wheels\\5f\\0d\\0c\\2062d8c1758b4b1a2e42b4a63e6660d9ec2ba9463cfee9eeab\n",
      "  Building wheel for docopt (setup.py): started\n",
      "  Building wheel for docopt (setup.py): finished with status 'done'\n",
      "  Created wheel for docopt: filename=docopt-0.6.2-py2.py3-none-any.whl size=13709 sha256=abf792a9496c1f04ca1091547bfad605ffa92bc4697ca021112483c155f9d9c7\n",
      "  Stored in directory: c:\\users\\dhaval_patel\\appdata\\local\\pip\\cache\\wheels\\56\\ea\\58\\ead137b087d9e326852a851351d1debf4ada529b6ac0ec4e8c\n",
      "  Building wheel for pycountry (PEP 517): started\n",
      "  Building wheel for pycountry (PEP 517): finished with status 'done'\n",
      "  Created wheel for pycountry: filename=pycountry-22.3.5-py2.py3-none-any.whl size=10681832 sha256=f648752a327463820918527ab65723a69ea2d938b37963f762da588a32d89e46\n",
      "  Stored in directory: c:\\users\\dhaval_patel\\appdata\\local\\pip\\cache\\wheels\\e2\\aa\\0f\\c224e473b464387170b83ca7c66947b4a7e33e8d903a679748\n",
      "Successfully built breadability docopt pycountry\n",
      "Installing collected packages: docopt, breadability, pycountry, sumy\n",
      "Successfully installed breadability-0.1.20 docopt-0.6.2 pycountry-22.3.5 sumy-0.10.0\n"
     ]
    }
   ],
   "source": [
    "!pip install sumy"
   ]
  },
  {
   "cell_type": "code",
   "execution_count": 11,
   "metadata": {},
   "outputs": [
    {
     "ename": "ImportError",
     "evalue": "cannot import name 'PlaintextParser' from 'sumy' (C:\\Users\\dhaval_patel\\Anaconda3\\lib\\site-packages\\sumy\\__init__.py)",
     "output_type": "error",
     "traceback": [
      "\u001b[1;31m---------------------------------------------------------------------------\u001b[0m",
      "\u001b[1;31mImportError\u001b[0m                               Traceback (most recent call last)",
      "\u001b[1;32m<ipython-input-11-776087a6c26c>\u001b[0m in \u001b[0;36m<module>\u001b[1;34m\u001b[0m\n\u001b[1;32m----> 1\u001b[1;33m \u001b[1;32mfrom\u001b[0m \u001b[0msumy\u001b[0m \u001b[1;32mimport\u001b[0m \u001b[0mPlaintextParser\u001b[0m\u001b[1;33m\u001b[0m\u001b[1;33m\u001b[0m\u001b[0m\n\u001b[0m\u001b[0;32m      2\u001b[0m \u001b[0mparser\u001b[0m \u001b[1;33m=\u001b[0m \u001b[0mPlaintextParser\u001b[0m\u001b[1;33m.\u001b[0m\u001b[0mfrom_string\u001b[0m\u001b[1;33m(\u001b[0m\u001b[0mtext\u001b[0m\u001b[1;33m,\u001b[0m \u001b[0mTokenizer\u001b[0m\u001b[1;33m(\u001b[0m\u001b[1;34m\"english\"\u001b[0m\u001b[1;33m)\u001b[0m\u001b[1;33m)\u001b[0m\u001b[1;33m\u001b[0m\u001b[1;33m\u001b[0m\u001b[0m\n",
      "\u001b[1;31mImportError\u001b[0m: cannot import name 'PlaintextParser' from 'sumy' (C:\\Users\\dhaval_patel\\Anaconda3\\lib\\site-packages\\sumy\\__init__.py)"
     ]
    }
   ],
   "source": [
    "from sumy import PlaintextParser\n",
    "parser = PlaintextParser.from_string(text, Tokenizer(\"english\"))"
   ]
  },
  {
   "cell_type": "code",
   "execution_count": null,
   "metadata": {},
   "outputs": [],
   "source": []
  },
  {
   "cell_type": "code",
   "execution_count": null,
   "metadata": {},
   "outputs": [],
   "source": [
    "# https://towardsdatascience.com/summarize-long-text-documents-using-machine-learning-d49aaf5fc99a"
   ]
  }
 ],
 "metadata": {
  "kernelspec": {
   "display_name": "Python [conda env:root] *",
   "language": "python",
   "name": "conda-root-py"
  },
  "language_info": {
   "codemirror_mode": {
    "name": "ipython",
    "version": 3
   },
   "file_extension": ".py",
   "mimetype": "text/x-python",
   "name": "python",
   "nbconvert_exporter": "python",
   "pygments_lexer": "ipython3",
   "version": "3.8.5"
  }
 },
 "nbformat": 4,
 "nbformat_minor": 4
}
