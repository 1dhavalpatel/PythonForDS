{
 "cells": [
  {
   "cell_type": "markdown",
   "metadata": {},
   "source": [
    "## Sunburst using Plotly"
   ]
  },
  {
   "cell_type": "code",
   "execution_count": 3,
   "metadata": {},
   "outputs": [],
   "source": [
    "import pandas as pd"
   ]
  },
  {
   "cell_type": "code",
   "execution_count": 27,
   "metadata": {},
   "outputs": [
    {
     "name": "stdout",
     "output_type": "stream",
     "text": [
      "<class 'pandas.core.frame.DataFrame'>\n",
      "RangeIndex: 131 entries, 0 to 130\n",
      "Data columns (total 5 columns):\n",
      " #   Column        Non-Null Count  Dtype \n",
      "---  ------        --------------  ----- \n",
      " 0   Category      131 non-null    object\n",
      " 1   SubCategory   131 non-null    object\n",
      " 2   IndexName     131 non-null    object\n",
      " 3   SubCategory2  16 non-null     object\n",
      " 4   Condition     4 non-null      object\n",
      "dtypes: object(5)\n",
      "memory usage: 5.2+ KB\n"
     ]
    }
   ],
   "source": [
    "df = pd.read_csv('Nifty_Indices.csv')\n",
    "df.info()"
   ]
  },
  {
   "cell_type": "code",
   "execution_count": 28,
   "metadata": {},
   "outputs": [
    {
     "data": {
      "text/html": [
       "<div>\n",
       "<style scoped>\n",
       "    .dataframe tbody tr th:only-of-type {\n",
       "        vertical-align: middle;\n",
       "    }\n",
       "\n",
       "    .dataframe tbody tr th {\n",
       "        vertical-align: top;\n",
       "    }\n",
       "\n",
       "    .dataframe thead th {\n",
       "        text-align: right;\n",
       "    }\n",
       "</style>\n",
       "<table border=\"1\" class=\"dataframe\">\n",
       "  <thead>\n",
       "    <tr style=\"text-align: right;\">\n",
       "      <th></th>\n",
       "      <th>Category</th>\n",
       "      <th>SubCategory</th>\n",
       "      <th>IndexName</th>\n",
       "      <th>SubCategory2</th>\n",
       "      <th>Condition</th>\n",
       "    </tr>\n",
       "  </thead>\n",
       "  <tbody>\n",
       "    <tr>\n",
       "      <th>0</th>\n",
       "      <td>Equity</td>\n",
       "      <td>Broad Based Indices</td>\n",
       "      <td>Nifty 50</td>\n",
       "      <td>NaN</td>\n",
       "      <td>NaN</td>\n",
       "    </tr>\n",
       "    <tr>\n",
       "      <th>1</th>\n",
       "      <td>Equity</td>\n",
       "      <td>Broad Based Indices</td>\n",
       "      <td>Nifty Next 50</td>\n",
       "      <td>NaN</td>\n",
       "      <td>NaN</td>\n",
       "    </tr>\n",
       "    <tr>\n",
       "      <th>2</th>\n",
       "      <td>Equity</td>\n",
       "      <td>Broad Based Indices</td>\n",
       "      <td>Nifty 100</td>\n",
       "      <td>NaN</td>\n",
       "      <td>NaN</td>\n",
       "    </tr>\n",
       "    <tr>\n",
       "      <th>3</th>\n",
       "      <td>Equity</td>\n",
       "      <td>Broad Based Indices</td>\n",
       "      <td>Nifty 200</td>\n",
       "      <td>NaN</td>\n",
       "      <td>NaN</td>\n",
       "    </tr>\n",
       "    <tr>\n",
       "      <th>4</th>\n",
       "      <td>Equity</td>\n",
       "      <td>Broad Based Indices</td>\n",
       "      <td>Nifty Total Market</td>\n",
       "      <td>NaN</td>\n",
       "      <td>NaN</td>\n",
       "    </tr>\n",
       "    <tr>\n",
       "      <th>...</th>\n",
       "      <td>...</td>\n",
       "      <td>...</td>\n",
       "      <td>...</td>\n",
       "      <td>...</td>\n",
       "      <td>...</td>\n",
       "    </tr>\n",
       "    <tr>\n",
       "      <th>124</th>\n",
       "      <td>Fixed Income</td>\n",
       "      <td>Corporate Bond Indices</td>\n",
       "      <td>Nifty Banking &amp; PSU Bond Indices</td>\n",
       "      <td>NaN</td>\n",
       "      <td>NaN</td>\n",
       "    </tr>\n",
       "    <tr>\n",
       "      <th>127</th>\n",
       "      <td>Fixed Income</td>\n",
       "      <td>Money Market Indices</td>\n",
       "      <td>Commercial Papers Indices</td>\n",
       "      <td>NaN</td>\n",
       "      <td>NaN</td>\n",
       "    </tr>\n",
       "    <tr>\n",
       "      <th>128</th>\n",
       "      <td>Fixed Income</td>\n",
       "      <td>Money Market Indices</td>\n",
       "      <td>T-Bills Series</td>\n",
       "      <td>NaN</td>\n",
       "      <td>NaN</td>\n",
       "    </tr>\n",
       "    <tr>\n",
       "      <th>129</th>\n",
       "      <td>Fixed Income</td>\n",
       "      <td>Money Market Indices</td>\n",
       "      <td>Nifty 1D Rate</td>\n",
       "      <td>NaN</td>\n",
       "      <td>NaN</td>\n",
       "    </tr>\n",
       "    <tr>\n",
       "      <th>130</th>\n",
       "      <td>Fixed Income</td>\n",
       "      <td>Aggregate Indices</td>\n",
       "      <td>Nifty Fixed Income Aggregate Indices</td>\n",
       "      <td>NaN</td>\n",
       "      <td>NaN</td>\n",
       "    </tr>\n",
       "  </tbody>\n",
       "</table>\n",
       "<p>127 rows × 5 columns</p>\n",
       "</div>"
      ],
      "text/plain": [
       "         Category             SubCategory  \\\n",
       "0          Equity     Broad Based Indices   \n",
       "1          Equity     Broad Based Indices   \n",
       "2          Equity     Broad Based Indices   \n",
       "3          Equity     Broad Based Indices   \n",
       "4          Equity     Broad Based Indices   \n",
       "..            ...                     ...   \n",
       "124  Fixed Income  Corporate Bond Indices   \n",
       "127  Fixed Income    Money Market Indices   \n",
       "128  Fixed Income    Money Market Indices   \n",
       "129  Fixed Income    Money Market Indices   \n",
       "130  Fixed Income       Aggregate Indices   \n",
       "\n",
       "                                IndexName SubCategory2 Condition  \n",
       "0                                Nifty 50          NaN       NaN  \n",
       "1                           Nifty Next 50          NaN       NaN  \n",
       "2                               Nifty 100          NaN       NaN  \n",
       "3                               Nifty 200          NaN       NaN  \n",
       "4                      Nifty Total Market          NaN       NaN  \n",
       "..                                    ...          ...       ...  \n",
       "124      Nifty Banking & PSU Bond Indices          NaN       NaN  \n",
       "127             Commercial Papers Indices          NaN       NaN  \n",
       "128                        T-Bills Series          NaN       NaN  \n",
       "129                         Nifty 1D Rate          NaN       NaN  \n",
       "130  Nifty Fixed Income Aggregate Indices          NaN       NaN  \n",
       "\n",
       "[127 rows x 5 columns]"
      ]
     },
     "execution_count": 28,
     "metadata": {},
     "output_type": "execute_result"
    }
   ],
   "source": [
    "df = df[df.Condition != 'Ignore for Viz'] # Ignore some data for Viz\n",
    "df"
   ]
  },
  {
   "cell_type": "code",
   "execution_count": 6,
   "metadata": {},
   "outputs": [],
   "source": [
    "import plotly.express as px"
   ]
  },
  {
   "cell_type": "code",
   "execution_count": 39,
   "metadata": {},
   "outputs": [
    {
     "data": {
      "application/vnd.plotly.v1+json": {
       "config": {
        "plotlyServerURL": "https://plot.ly"
       },
       "data": [
        {
         "branchvalues": "total",
         "domain": {
          "x": [
           0,
           1
          ],
          "y": [
           0,
           1
          ]
         },
         "hovertemplate": "labels=%{label}<br>count=%{value}<br>parent=%{parent}<br>id=%{id}<extra></extra>",
         "ids": [
          "Fixed Income/Money Market Indices/Commercial Papers Indices",
          "Fixed Income/SDL Indices/Nifty 10 Year SDL",
          "Fixed Income/G-Sec Indices/Nifty 10 yr Benchmark G-Sec",
          "Fixed Income/G-Sec Indices/Nifty 10 yr Benchmark G-Sec (Clean Price)",
          "Equity/Broad Based Indices/Nifty 100",
          "Fixed Income/G-Sec Indices/Nifty 11-15 yr G-Sec",
          "Fixed Income/G-Sec Indices/Nifty 15 yr and above G-Sec",
          "Fixed Income/Money Market Indices/Nifty 1D Rate",
          "Equity/Broad Based Indices/Nifty 200",
          "Fixed Income/G-Sec Indices/Nifty 4-8 yr G-Sec",
          "Fixed Income/G-Sec Indices/Nifty 5 yr Benchmark G-Sec",
          "Equity/Broad Based Indices/Nifty 50",
          "Equity/Strategy Indices/Nifty 50 Arbitrage",
          "Equity/Strategy Indices/Nifty 50 Futures PR",
          "Equity/Strategy Indices/Nifty 50 Futures TR",
          "Equity/Broad Based Indices/Nifty 500",
          "Fixed Income/G-Sec Indices/Nifty 8-13 yr G-Sec",
          "Fixed Income/Corporate Bond Indices/Nifty A Corporate Bond Indices",
          "Fixed Income/Corporate Bond Indices/Nifty AA Category Corporate Bond Indices",
          "Fixed Income/Corporate Bond Indices/Nifty AA Corporate Bond Indices",
          "Fixed Income/Corporate Bond Indices/Nifty AA+ Corporate Bond Indices",
          "Fixed Income/Corporate Bond Indices/Nifty AA- Corporate Bond Indices",
          "Fixed Income/Corporate Bond Indices/Nifty AAA Corporate Bond Indices",
          "Equity/Thematic Indices/Nifty Aditya Birla group",
          "Equity/Strategy Indices/Nifty Alpha 50",
          "Equity/Strategy Indices/Nifty Alpha Low Volatility 30",
          "Equity/Strategy Indices/Nifty Alpha Quality Low Volatility 30",
          "Equity/Strategy Indices/Nifty Alpha Quality Value Low Volatility 30",
          "Equity/Sectoral Indices/Nifty Auto",
          "Equity/Sectoral Indices/Nifty Bank",
          "Fixed Income/Corporate Bond Indices/Nifty Banking & PSU Bond Indices",
          "Equity/Thematic Indices/Nifty CPSE",
          "Equity/Thematic Indices/Nifty Commodities",
          "Fixed Income/G-Sec Indices/Nifty Composite G-Sec",
          "Equity/Sectoral Indices/Nifty Consumer Durables",
          "Equity/Strategy Indices/Nifty Dividend Opportunities 50",
          "Equity/Thematic Indices/Nifty Energy",
          "Equity/Strategy Indices/Nifty Equity Savings",
          "Equity/Sectoral Indices/Nifty FMCG",
          "Equity/Sectoral Indices/Nifty Financial Services",
          "Equity/Sectoral Indices/Nifty Financial Services 25/50",
          "Equity/Sectoral Indices/Nifty Financial Services Ex Bank",
          "Fixed Income/Aggregate Indices/Nifty Fixed Income Aggregate Indices",
          "Equity/Strategy Indices/Nifty Growth Sectors 15",
          "Equity/Sectoral Indices/Nifty Healthcare",
          "Equity/Strategy Indices/Nifty High Beta 50",
          "Equity/Thematic Indices/Nifty Housing",
          "Equity/Sectoral Indices/Nifty IT",
          "Equity/Thematic Indices/Nifty India Consumption",
          "Equity/Thematic Indices/Nifty India Defence",
          "Equity/Thematic Indices/Nifty India Digital",
          "Equity/Thematic Indices/Nifty India Manufacturing",
          "Fixed Income/G-Sec Indices/Nifty India Select 7 Government Bond (INR)",
          "Fixed Income/G-Sec Indices/Nifty India Select 7 Government Bond (USD)",
          "Equity/Thematic Indices/Nifty Infrastructure",
          "Equity/Broad Based Indices/Nifty LargeMidcap 250",
          "Fixed Income/G-Sec Indices/Nifty Long Duration G-Sec Index",
          "Fixed Income/G-Sec Indices/Nifty Low Duration G-Sec Index",
          "Equity/Strategy Indices/Nifty Low Volatility 50",
          "Equity/Thematic Indices/Nifty MNC",
          "Equity/Thematic Indices/Nifty Mahindra Group",
          "Equity/Sectoral Indices/Nifty Media",
          "Fixed Income/G-Sec Indices/Nifty Medium Duration G-Sec Index",
          "Fixed Income/G-Sec Indices/Nifty Medium to Long Duration G-Sec Index",
          "Equity/Sectoral Indices/Nifty Metal",
          "Equity/Broad Based Indices/Nifty Microcap 250",
          "Equity/Sectoral Indices/Nifty MidSmall Financial Services",
          "Equity/Sectoral Indices/Nifty MidSmall Healthcare",
          "Equity/Sectoral Indices/Nifty MidSmall IT & Telecom",
          "Equity/Thematic Indices/Nifty MidSmall India Consumption",
          "Equity/Broad Based Indices/Nifty MidSmallcap 400",
          "Equity/Broad Based Indices/Nifty Midcap 100",
          "Equity/Broad Based Indices/Nifty Midcap 50",
          "Equity/Thematic Indices/Nifty Midcap Liquid 15",
          "Equity/Broad Based Indices/Nifty Midcap Select",
          "Equity/Broad Based Indices/Nifty Midcap150",
          "Equity/Strategy Indices/Nifty Midcap150 Momentum 50",
          "Equity/Strategy Indices/Nifty Midcap150 Quality 50",
          "Equity/Thematic Indices/Nifty Mobility",
          "Equity/Broad Based Indices/Nifty Next 50",
          "Equity/Thematic Indices/Nifty Non-Cyclical Consumer",
          "Equity/Sectoral Indices/Nifty Oil and Gas",
          "Equity/Thematic Indices/Nifty PSE",
          "Equity/Sectoral Indices/Nifty PSU Bank",
          "Equity/Sectoral Indices/Nifty Pharma",
          "Equity/Sectoral Indices/Nifty Private Bank",
          "Equity/Strategy Indices/Nifty Quality Low Volatility 30",
          "Equity/Sectoral Indices/Nifty Realty",
          "Equity/Thematic Indices/Nifty SME Emerge",
          "Equity/Thematic Indices/Nifty Services Sector",
          "Equity/Thematic Indices/Nifty Shariah 25",
          "Fixed Income/G-Sec Indices/Nifty Short Duration G-Sec Index",
          "Equity/Broad Based Indices/Nifty Smallcap 100",
          "Equity/Broad Based Indices/Nifty Smallcap 250",
          "Equity/Broad Based Indices/Nifty Smallcap 50",
          "Equity/Strategy Indices/Nifty Smallcap250 Quality 50",
          "Equity/Thematic Indices/Nifty Tata group",
          "Equity/Thematic Indices/Nifty Tata group 25% Cap",
          "Equity/Broad Based Indices/Nifty Total Market",
          "Equity/Thematic Indices/Nifty Transportation & Logistics",
          "Fixed Income/G-Sec Indices/Nifty Ultra Short Duration G-Sec Index",
          "Equity/Strategy Indices/Nifty100 Alpha 30",
          "Equity/Thematic Indices/Nifty100 ESG",
          "Equity/Thematic Indices/Nifty100 ESG Sector Leaders",
          "Equity/Thematic Indices/Nifty100 Enhanced ESG",
          "Equity/Strategy Indices/Nifty100 Equal Weight",
          "Equity/Thematic Indices/Nifty100 Liquid 15",
          "Equity/Strategy Indices/Nifty100 Low Volatility 30",
          "Equity/Strategy Indices/Nifty100 Quality 30",
          "Equity/Strategy Indices/Nifty200 Alpha 30",
          "Equity/Strategy Indices/Nifty200 Momentum 30",
          "Equity/Strategy Indices/Nifty200 Quality 30",
          "Equity/Strategy Indices/Nifty50 & Short Duration Debt – Dynamic P/B",
          "Equity/Strategy Indices/Nifty50 & Short Duration Debt – Dynamic P/E",
          "Equity/Strategy Indices/Nifty50 Dividend Points",
          "Equity/Strategy Indices/Nifty50 Equal Weight",
          "Equity/Strategy Indices/Nifty50 PR 1x Inverse",
          "Equity/Strategy Indices/Nifty50 PR 2x Leverage",
          "Equity/Thematic Indices/Nifty50 Shariah",
          "Equity/Strategy Indices/Nifty50 TR 1x Inverse",
          "Equity/Strategy Indices/Nifty50 TR 2x Leverage",
          "Equity/Strategy Indices/Nifty50 USD",
          "Equity/Strategy Indices/Nifty50 Value 20",
          "Equity/Broad Based Indices/Nifty500 Multicap 50:25:25",
          "Equity/Thematic Indices/Nifty500 Shariah",
          "Equity/Strategy Indices/Nifty500 Value 50",
          "Fixed Income/Money Market Indices/T-Bills Series",
          "Fixed Income/Aggregate Indices",
          "Equity/Broad Based Indices",
          "Fixed Income/Corporate Bond Indices",
          "Fixed Income/G-Sec Indices",
          "Fixed Income/Money Market Indices",
          "Fixed Income/SDL Indices",
          "Equity/Sectoral Indices",
          "Equity/Strategy Indices",
          "Equity/Thematic Indices",
          "Equity",
          "Fixed Income"
         ],
         "labels": [
          "Commercial Papers Indices",
          "Nifty 10 Year SDL",
          "Nifty 10 yr Benchmark G-Sec",
          "Nifty 10 yr Benchmark G-Sec (Clean Price)",
          "Nifty 100",
          "Nifty 11-15 yr G-Sec",
          "Nifty 15 yr and above G-Sec",
          "Nifty 1D Rate",
          "Nifty 200",
          "Nifty 4-8 yr G-Sec",
          "Nifty 5 yr Benchmark G-Sec",
          "Nifty 50",
          "Nifty 50 Arbitrage",
          "Nifty 50 Futures PR",
          "Nifty 50 Futures TR",
          "Nifty 500",
          "Nifty 8-13 yr G-Sec",
          "Nifty A Corporate Bond Indices",
          "Nifty AA Category Corporate Bond Indices",
          "Nifty AA Corporate Bond Indices",
          "Nifty AA+ Corporate Bond Indices",
          "Nifty AA- Corporate Bond Indices",
          "Nifty AAA Corporate Bond Indices",
          "Nifty Aditya Birla group",
          "Nifty Alpha 50",
          "Nifty Alpha Low Volatility 30",
          "Nifty Alpha Quality Low Volatility 30",
          "Nifty Alpha Quality Value Low Volatility 30",
          "Nifty Auto",
          "Nifty Bank",
          "Nifty Banking & PSU Bond Indices",
          "Nifty CPSE",
          "Nifty Commodities",
          "Nifty Composite G-Sec",
          "Nifty Consumer Durables",
          "Nifty Dividend Opportunities 50",
          "Nifty Energy",
          "Nifty Equity Savings",
          "Nifty FMCG",
          "Nifty Financial Services",
          "Nifty Financial Services 25/50",
          "Nifty Financial Services Ex Bank",
          "Nifty Fixed Income Aggregate Indices",
          "Nifty Growth Sectors 15",
          "Nifty Healthcare",
          "Nifty High Beta 50",
          "Nifty Housing",
          "Nifty IT",
          "Nifty India Consumption",
          "Nifty India Defence",
          "Nifty India Digital",
          "Nifty India Manufacturing",
          "Nifty India Select 7 Government Bond (INR)",
          "Nifty India Select 7 Government Bond (USD)",
          "Nifty Infrastructure",
          "Nifty LargeMidcap 250",
          "Nifty Long Duration G-Sec Index",
          "Nifty Low Duration G-Sec Index",
          "Nifty Low Volatility 50",
          "Nifty MNC",
          "Nifty Mahindra Group",
          "Nifty Media",
          "Nifty Medium Duration G-Sec Index",
          "Nifty Medium to Long Duration G-Sec Index",
          "Nifty Metal",
          "Nifty Microcap 250",
          "Nifty MidSmall Financial Services",
          "Nifty MidSmall Healthcare",
          "Nifty MidSmall IT & Telecom",
          "Nifty MidSmall India Consumption",
          "Nifty MidSmallcap 400",
          "Nifty Midcap 100",
          "Nifty Midcap 50",
          "Nifty Midcap Liquid 15",
          "Nifty Midcap Select",
          "Nifty Midcap150",
          "Nifty Midcap150 Momentum 50",
          "Nifty Midcap150 Quality 50",
          "Nifty Mobility",
          "Nifty Next 50",
          "Nifty Non-Cyclical Consumer",
          "Nifty Oil and Gas",
          "Nifty PSE",
          "Nifty PSU Bank",
          "Nifty Pharma",
          "Nifty Private Bank",
          "Nifty Quality Low Volatility 30",
          "Nifty Realty",
          "Nifty SME Emerge",
          "Nifty Services Sector",
          "Nifty Shariah 25",
          "Nifty Short Duration G-Sec Index",
          "Nifty Smallcap 100",
          "Nifty Smallcap 250",
          "Nifty Smallcap 50",
          "Nifty Smallcap250 Quality 50",
          "Nifty Tata group",
          "Nifty Tata group 25% Cap",
          "Nifty Total Market",
          "Nifty Transportation & Logistics",
          "Nifty Ultra Short Duration G-Sec Index",
          "Nifty100 Alpha 30",
          "Nifty100 ESG",
          "Nifty100 ESG Sector Leaders",
          "Nifty100 Enhanced ESG",
          "Nifty100 Equal Weight",
          "Nifty100 Liquid 15",
          "Nifty100 Low Volatility 30",
          "Nifty100 Quality 30",
          "Nifty200 Alpha 30",
          "Nifty200 Momentum 30",
          "Nifty200 Quality 30",
          "Nifty50 & Short Duration Debt – Dynamic P/B",
          "Nifty50 & Short Duration Debt – Dynamic P/E",
          "Nifty50 Dividend Points",
          "Nifty50 Equal Weight",
          "Nifty50 PR 1x Inverse",
          "Nifty50 PR 2x Leverage",
          "Nifty50 Shariah",
          "Nifty50 TR 1x Inverse",
          "Nifty50 TR 2x Leverage",
          "Nifty50 USD",
          "Nifty50 Value 20",
          "Nifty500 Multicap 50:25:25",
          "Nifty500 Shariah",
          "Nifty500 Value 50",
          "T-Bills Series",
          "Aggregate Indices",
          "Broad Based Indices",
          "Corporate Bond Indices",
          "G-Sec Indices",
          "Money Market Indices",
          "SDL Indices",
          "Sectoral Indices",
          "Strategy Indices",
          "Thematic Indices",
          "Equity",
          "Fixed Income"
         ],
         "maxdepth": 3,
         "name": "",
         "parents": [
          "Fixed Income/Money Market Indices",
          "Fixed Income/SDL Indices",
          "Fixed Income/G-Sec Indices",
          "Fixed Income/G-Sec Indices",
          "Equity/Broad Based Indices",
          "Fixed Income/G-Sec Indices",
          "Fixed Income/G-Sec Indices",
          "Fixed Income/Money Market Indices",
          "Equity/Broad Based Indices",
          "Fixed Income/G-Sec Indices",
          "Fixed Income/G-Sec Indices",
          "Equity/Broad Based Indices",
          "Equity/Strategy Indices",
          "Equity/Strategy Indices",
          "Equity/Strategy Indices",
          "Equity/Broad Based Indices",
          "Fixed Income/G-Sec Indices",
          "Fixed Income/Corporate Bond Indices",
          "Fixed Income/Corporate Bond Indices",
          "Fixed Income/Corporate Bond Indices",
          "Fixed Income/Corporate Bond Indices",
          "Fixed Income/Corporate Bond Indices",
          "Fixed Income/Corporate Bond Indices",
          "Equity/Thematic Indices",
          "Equity/Strategy Indices",
          "Equity/Strategy Indices",
          "Equity/Strategy Indices",
          "Equity/Strategy Indices",
          "Equity/Sectoral Indices",
          "Equity/Sectoral Indices",
          "Fixed Income/Corporate Bond Indices",
          "Equity/Thematic Indices",
          "Equity/Thematic Indices",
          "Fixed Income/G-Sec Indices",
          "Equity/Sectoral Indices",
          "Equity/Strategy Indices",
          "Equity/Thematic Indices",
          "Equity/Strategy Indices",
          "Equity/Sectoral Indices",
          "Equity/Sectoral Indices",
          "Equity/Sectoral Indices",
          "Equity/Sectoral Indices",
          "Fixed Income/Aggregate Indices",
          "Equity/Strategy Indices",
          "Equity/Sectoral Indices",
          "Equity/Strategy Indices",
          "Equity/Thematic Indices",
          "Equity/Sectoral Indices",
          "Equity/Thematic Indices",
          "Equity/Thematic Indices",
          "Equity/Thematic Indices",
          "Equity/Thematic Indices",
          "Fixed Income/G-Sec Indices",
          "Fixed Income/G-Sec Indices",
          "Equity/Thematic Indices",
          "Equity/Broad Based Indices",
          "Fixed Income/G-Sec Indices",
          "Fixed Income/G-Sec Indices",
          "Equity/Strategy Indices",
          "Equity/Thematic Indices",
          "Equity/Thematic Indices",
          "Equity/Sectoral Indices",
          "Fixed Income/G-Sec Indices",
          "Fixed Income/G-Sec Indices",
          "Equity/Sectoral Indices",
          "Equity/Broad Based Indices",
          "Equity/Sectoral Indices",
          "Equity/Sectoral Indices",
          "Equity/Sectoral Indices",
          "Equity/Thematic Indices",
          "Equity/Broad Based Indices",
          "Equity/Broad Based Indices",
          "Equity/Broad Based Indices",
          "Equity/Thematic Indices",
          "Equity/Broad Based Indices",
          "Equity/Broad Based Indices",
          "Equity/Strategy Indices",
          "Equity/Strategy Indices",
          "Equity/Thematic Indices",
          "Equity/Broad Based Indices",
          "Equity/Thematic Indices",
          "Equity/Sectoral Indices",
          "Equity/Thematic Indices",
          "Equity/Sectoral Indices",
          "Equity/Sectoral Indices",
          "Equity/Sectoral Indices",
          "Equity/Strategy Indices",
          "Equity/Sectoral Indices",
          "Equity/Thematic Indices",
          "Equity/Thematic Indices",
          "Equity/Thematic Indices",
          "Fixed Income/G-Sec Indices",
          "Equity/Broad Based Indices",
          "Equity/Broad Based Indices",
          "Equity/Broad Based Indices",
          "Equity/Strategy Indices",
          "Equity/Thematic Indices",
          "Equity/Thematic Indices",
          "Equity/Broad Based Indices",
          "Equity/Thematic Indices",
          "Fixed Income/G-Sec Indices",
          "Equity/Strategy Indices",
          "Equity/Thematic Indices",
          "Equity/Thematic Indices",
          "Equity/Thematic Indices",
          "Equity/Strategy Indices",
          "Equity/Thematic Indices",
          "Equity/Strategy Indices",
          "Equity/Strategy Indices",
          "Equity/Strategy Indices",
          "Equity/Strategy Indices",
          "Equity/Strategy Indices",
          "Equity/Strategy Indices",
          "Equity/Strategy Indices",
          "Equity/Strategy Indices",
          "Equity/Strategy Indices",
          "Equity/Strategy Indices",
          "Equity/Strategy Indices",
          "Equity/Thematic Indices",
          "Equity/Strategy Indices",
          "Equity/Strategy Indices",
          "Equity/Strategy Indices",
          "Equity/Strategy Indices",
          "Equity/Broad Based Indices",
          "Equity/Thematic Indices",
          "Equity/Strategy Indices",
          "Fixed Income/Money Market Indices",
          "Fixed Income",
          "Equity",
          "Fixed Income",
          "Fixed Income",
          "Fixed Income",
          "Fixed Income",
          "Equity",
          "Equity",
          "Equity",
          "",
          ""
         ],
         "type": "sunburst",
         "values": [
          1,
          1,
          1,
          1,
          1,
          1,
          1,
          1,
          1,
          1,
          1,
          1,
          1,
          1,
          1,
          1,
          1,
          1,
          1,
          1,
          1,
          1,
          1,
          1,
          1,
          1,
          1,
          1,
          1,
          1,
          1,
          1,
          1,
          1,
          1,
          1,
          1,
          1,
          1,
          1,
          1,
          1,
          1,
          1,
          1,
          1,
          1,
          1,
          1,
          1,
          1,
          1,
          1,
          1,
          1,
          1,
          1,
          1,
          1,
          1,
          1,
          1,
          1,
          1,
          1,
          1,
          1,
          1,
          1,
          1,
          1,
          1,
          1,
          1,
          1,
          1,
          1,
          1,
          1,
          1,
          1,
          1,
          1,
          1,
          1,
          1,
          1,
          1,
          1,
          1,
          1,
          1,
          1,
          1,
          1,
          1,
          1,
          1,
          1,
          1,
          1,
          1,
          1,
          1,
          1,
          1,
          1,
          1,
          1,
          1,
          1,
          1,
          1,
          1,
          1,
          1,
          1,
          1,
          1,
          1,
          1,
          1,
          1,
          1,
          1,
          1,
          1,
          1,
          17,
          7,
          16,
          3,
          1,
          19,
          34,
          29,
          99,
          28
         ]
        }
       ],
       "layout": {
        "legend": {
         "tracegroupgap": 0
        },
        "margin": {
         "t": 60
        },
        "template": {
         "data": {
          "bar": [
           {
            "error_x": {
             "color": "#2a3f5f"
            },
            "error_y": {
             "color": "#2a3f5f"
            },
            "marker": {
             "line": {
              "color": "#E5ECF6",
              "width": 0.5
             },
             "pattern": {
              "fillmode": "overlay",
              "size": 10,
              "solidity": 0.2
             }
            },
            "type": "bar"
           }
          ],
          "barpolar": [
           {
            "marker": {
             "line": {
              "color": "#E5ECF6",
              "width": 0.5
             },
             "pattern": {
              "fillmode": "overlay",
              "size": 10,
              "solidity": 0.2
             }
            },
            "type": "barpolar"
           }
          ],
          "carpet": [
           {
            "aaxis": {
             "endlinecolor": "#2a3f5f",
             "gridcolor": "white",
             "linecolor": "white",
             "minorgridcolor": "white",
             "startlinecolor": "#2a3f5f"
            },
            "baxis": {
             "endlinecolor": "#2a3f5f",
             "gridcolor": "white",
             "linecolor": "white",
             "minorgridcolor": "white",
             "startlinecolor": "#2a3f5f"
            },
            "type": "carpet"
           }
          ],
          "choropleth": [
           {
            "colorbar": {
             "outlinewidth": 0,
             "ticks": ""
            },
            "type": "choropleth"
           }
          ],
          "contour": [
           {
            "colorbar": {
             "outlinewidth": 0,
             "ticks": ""
            },
            "colorscale": [
             [
              0,
              "#0d0887"
             ],
             [
              0.1111111111111111,
              "#46039f"
             ],
             [
              0.2222222222222222,
              "#7201a8"
             ],
             [
              0.3333333333333333,
              "#9c179e"
             ],
             [
              0.4444444444444444,
              "#bd3786"
             ],
             [
              0.5555555555555556,
              "#d8576b"
             ],
             [
              0.6666666666666666,
              "#ed7953"
             ],
             [
              0.7777777777777778,
              "#fb9f3a"
             ],
             [
              0.8888888888888888,
              "#fdca26"
             ],
             [
              1,
              "#f0f921"
             ]
            ],
            "type": "contour"
           }
          ],
          "contourcarpet": [
           {
            "colorbar": {
             "outlinewidth": 0,
             "ticks": ""
            },
            "type": "contourcarpet"
           }
          ],
          "heatmap": [
           {
            "colorbar": {
             "outlinewidth": 0,
             "ticks": ""
            },
            "colorscale": [
             [
              0,
              "#0d0887"
             ],
             [
              0.1111111111111111,
              "#46039f"
             ],
             [
              0.2222222222222222,
              "#7201a8"
             ],
             [
              0.3333333333333333,
              "#9c179e"
             ],
             [
              0.4444444444444444,
              "#bd3786"
             ],
             [
              0.5555555555555556,
              "#d8576b"
             ],
             [
              0.6666666666666666,
              "#ed7953"
             ],
             [
              0.7777777777777778,
              "#fb9f3a"
             ],
             [
              0.8888888888888888,
              "#fdca26"
             ],
             [
              1,
              "#f0f921"
             ]
            ],
            "type": "heatmap"
           }
          ],
          "heatmapgl": [
           {
            "colorbar": {
             "outlinewidth": 0,
             "ticks": ""
            },
            "colorscale": [
             [
              0,
              "#0d0887"
             ],
             [
              0.1111111111111111,
              "#46039f"
             ],
             [
              0.2222222222222222,
              "#7201a8"
             ],
             [
              0.3333333333333333,
              "#9c179e"
             ],
             [
              0.4444444444444444,
              "#bd3786"
             ],
             [
              0.5555555555555556,
              "#d8576b"
             ],
             [
              0.6666666666666666,
              "#ed7953"
             ],
             [
              0.7777777777777778,
              "#fb9f3a"
             ],
             [
              0.8888888888888888,
              "#fdca26"
             ],
             [
              1,
              "#f0f921"
             ]
            ],
            "type": "heatmapgl"
           }
          ],
          "histogram": [
           {
            "marker": {
             "pattern": {
              "fillmode": "overlay",
              "size": 10,
              "solidity": 0.2
             }
            },
            "type": "histogram"
           }
          ],
          "histogram2d": [
           {
            "colorbar": {
             "outlinewidth": 0,
             "ticks": ""
            },
            "colorscale": [
             [
              0,
              "#0d0887"
             ],
             [
              0.1111111111111111,
              "#46039f"
             ],
             [
              0.2222222222222222,
              "#7201a8"
             ],
             [
              0.3333333333333333,
              "#9c179e"
             ],
             [
              0.4444444444444444,
              "#bd3786"
             ],
             [
              0.5555555555555556,
              "#d8576b"
             ],
             [
              0.6666666666666666,
              "#ed7953"
             ],
             [
              0.7777777777777778,
              "#fb9f3a"
             ],
             [
              0.8888888888888888,
              "#fdca26"
             ],
             [
              1,
              "#f0f921"
             ]
            ],
            "type": "histogram2d"
           }
          ],
          "histogram2dcontour": [
           {
            "colorbar": {
             "outlinewidth": 0,
             "ticks": ""
            },
            "colorscale": [
             [
              0,
              "#0d0887"
             ],
             [
              0.1111111111111111,
              "#46039f"
             ],
             [
              0.2222222222222222,
              "#7201a8"
             ],
             [
              0.3333333333333333,
              "#9c179e"
             ],
             [
              0.4444444444444444,
              "#bd3786"
             ],
             [
              0.5555555555555556,
              "#d8576b"
             ],
             [
              0.6666666666666666,
              "#ed7953"
             ],
             [
              0.7777777777777778,
              "#fb9f3a"
             ],
             [
              0.8888888888888888,
              "#fdca26"
             ],
             [
              1,
              "#f0f921"
             ]
            ],
            "type": "histogram2dcontour"
           }
          ],
          "mesh3d": [
           {
            "colorbar": {
             "outlinewidth": 0,
             "ticks": ""
            },
            "type": "mesh3d"
           }
          ],
          "parcoords": [
           {
            "line": {
             "colorbar": {
              "outlinewidth": 0,
              "ticks": ""
             }
            },
            "type": "parcoords"
           }
          ],
          "pie": [
           {
            "automargin": true,
            "type": "pie"
           }
          ],
          "scatter": [
           {
            "fillpattern": {
             "fillmode": "overlay",
             "size": 10,
             "solidity": 0.2
            },
            "type": "scatter"
           }
          ],
          "scatter3d": [
           {
            "line": {
             "colorbar": {
              "outlinewidth": 0,
              "ticks": ""
             }
            },
            "marker": {
             "colorbar": {
              "outlinewidth": 0,
              "ticks": ""
             }
            },
            "type": "scatter3d"
           }
          ],
          "scattercarpet": [
           {
            "marker": {
             "colorbar": {
              "outlinewidth": 0,
              "ticks": ""
             }
            },
            "type": "scattercarpet"
           }
          ],
          "scattergeo": [
           {
            "marker": {
             "colorbar": {
              "outlinewidth": 0,
              "ticks": ""
             }
            },
            "type": "scattergeo"
           }
          ],
          "scattergl": [
           {
            "marker": {
             "colorbar": {
              "outlinewidth": 0,
              "ticks": ""
             }
            },
            "type": "scattergl"
           }
          ],
          "scattermapbox": [
           {
            "marker": {
             "colorbar": {
              "outlinewidth": 0,
              "ticks": ""
             }
            },
            "type": "scattermapbox"
           }
          ],
          "scatterpolar": [
           {
            "marker": {
             "colorbar": {
              "outlinewidth": 0,
              "ticks": ""
             }
            },
            "type": "scatterpolar"
           }
          ],
          "scatterpolargl": [
           {
            "marker": {
             "colorbar": {
              "outlinewidth": 0,
              "ticks": ""
             }
            },
            "type": "scatterpolargl"
           }
          ],
          "scatterternary": [
           {
            "marker": {
             "colorbar": {
              "outlinewidth": 0,
              "ticks": ""
             }
            },
            "type": "scatterternary"
           }
          ],
          "surface": [
           {
            "colorbar": {
             "outlinewidth": 0,
             "ticks": ""
            },
            "colorscale": [
             [
              0,
              "#0d0887"
             ],
             [
              0.1111111111111111,
              "#46039f"
             ],
             [
              0.2222222222222222,
              "#7201a8"
             ],
             [
              0.3333333333333333,
              "#9c179e"
             ],
             [
              0.4444444444444444,
              "#bd3786"
             ],
             [
              0.5555555555555556,
              "#d8576b"
             ],
             [
              0.6666666666666666,
              "#ed7953"
             ],
             [
              0.7777777777777778,
              "#fb9f3a"
             ],
             [
              0.8888888888888888,
              "#fdca26"
             ],
             [
              1,
              "#f0f921"
             ]
            ],
            "type": "surface"
           }
          ],
          "table": [
           {
            "cells": {
             "fill": {
              "color": "#EBF0F8"
             },
             "line": {
              "color": "white"
             }
            },
            "header": {
             "fill": {
              "color": "#C8D4E3"
             },
             "line": {
              "color": "white"
             }
            },
            "type": "table"
           }
          ]
         },
         "layout": {
          "annotationdefaults": {
           "arrowcolor": "#2a3f5f",
           "arrowhead": 0,
           "arrowwidth": 1
          },
          "autotypenumbers": "strict",
          "coloraxis": {
           "colorbar": {
            "outlinewidth": 0,
            "ticks": ""
           }
          },
          "colorscale": {
           "diverging": [
            [
             0,
             "#8e0152"
            ],
            [
             0.1,
             "#c51b7d"
            ],
            [
             0.2,
             "#de77ae"
            ],
            [
             0.3,
             "#f1b6da"
            ],
            [
             0.4,
             "#fde0ef"
            ],
            [
             0.5,
             "#f7f7f7"
            ],
            [
             0.6,
             "#e6f5d0"
            ],
            [
             0.7,
             "#b8e186"
            ],
            [
             0.8,
             "#7fbc41"
            ],
            [
             0.9,
             "#4d9221"
            ],
            [
             1,
             "#276419"
            ]
           ],
           "sequential": [
            [
             0,
             "#0d0887"
            ],
            [
             0.1111111111111111,
             "#46039f"
            ],
            [
             0.2222222222222222,
             "#7201a8"
            ],
            [
             0.3333333333333333,
             "#9c179e"
            ],
            [
             0.4444444444444444,
             "#bd3786"
            ],
            [
             0.5555555555555556,
             "#d8576b"
            ],
            [
             0.6666666666666666,
             "#ed7953"
            ],
            [
             0.7777777777777778,
             "#fb9f3a"
            ],
            [
             0.8888888888888888,
             "#fdca26"
            ],
            [
             1,
             "#f0f921"
            ]
           ],
           "sequentialminus": [
            [
             0,
             "#0d0887"
            ],
            [
             0.1111111111111111,
             "#46039f"
            ],
            [
             0.2222222222222222,
             "#7201a8"
            ],
            [
             0.3333333333333333,
             "#9c179e"
            ],
            [
             0.4444444444444444,
             "#bd3786"
            ],
            [
             0.5555555555555556,
             "#d8576b"
            ],
            [
             0.6666666666666666,
             "#ed7953"
            ],
            [
             0.7777777777777778,
             "#fb9f3a"
            ],
            [
             0.8888888888888888,
             "#fdca26"
            ],
            [
             1,
             "#f0f921"
            ]
           ]
          },
          "colorway": [
           "#636efa",
           "#EF553B",
           "#00cc96",
           "#ab63fa",
           "#FFA15A",
           "#19d3f3",
           "#FF6692",
           "#B6E880",
           "#FF97FF",
           "#FECB52"
          ],
          "font": {
           "color": "#2a3f5f"
          },
          "geo": {
           "bgcolor": "white",
           "lakecolor": "white",
           "landcolor": "#E5ECF6",
           "showlakes": true,
           "showland": true,
           "subunitcolor": "white"
          },
          "hoverlabel": {
           "align": "left"
          },
          "hovermode": "closest",
          "mapbox": {
           "style": "light"
          },
          "paper_bgcolor": "white",
          "plot_bgcolor": "#E5ECF6",
          "polar": {
           "angularaxis": {
            "gridcolor": "white",
            "linecolor": "white",
            "ticks": ""
           },
           "bgcolor": "#E5ECF6",
           "radialaxis": {
            "gridcolor": "white",
            "linecolor": "white",
            "ticks": ""
           }
          },
          "scene": {
           "xaxis": {
            "backgroundcolor": "#E5ECF6",
            "gridcolor": "white",
            "gridwidth": 2,
            "linecolor": "white",
            "showbackground": true,
            "ticks": "",
            "zerolinecolor": "white"
           },
           "yaxis": {
            "backgroundcolor": "#E5ECF6",
            "gridcolor": "white",
            "gridwidth": 2,
            "linecolor": "white",
            "showbackground": true,
            "ticks": "",
            "zerolinecolor": "white"
           },
           "zaxis": {
            "backgroundcolor": "#E5ECF6",
            "gridcolor": "white",
            "gridwidth": 2,
            "linecolor": "white",
            "showbackground": true,
            "ticks": "",
            "zerolinecolor": "white"
           }
          },
          "shapedefaults": {
           "line": {
            "color": "#2a3f5f"
           }
          },
          "ternary": {
           "aaxis": {
            "gridcolor": "white",
            "linecolor": "white",
            "ticks": ""
           },
           "baxis": {
            "gridcolor": "white",
            "linecolor": "white",
            "ticks": ""
           },
           "bgcolor": "#E5ECF6",
           "caxis": {
            "gridcolor": "white",
            "linecolor": "white",
            "ticks": ""
           }
          },
          "title": {
           "x": 0.05
          },
          "xaxis": {
           "automargin": true,
           "gridcolor": "white",
           "linecolor": "white",
           "ticks": "",
           "title": {
            "standoff": 15
           },
           "zerolinecolor": "white",
           "zerolinewidth": 2
          },
          "yaxis": {
           "automargin": true,
           "gridcolor": "white",
           "linecolor": "white",
           "ticks": "",
           "title": {
            "standoff": 15
           },
           "zerolinecolor": "white",
           "zerolinewidth": 2
          }
         }
        }
       }
      },
      "text/html": [
       "<div>                            <div id=\"b68196f4-b095-4eec-946d-a562d67e847b\" class=\"plotly-graph-div\" style=\"height:525px; width:100%;\"></div>            <script type=\"text/javascript\">                require([\"plotly\"], function(Plotly) {                    window.PLOTLYENV=window.PLOTLYENV || {};                                    if (document.getElementById(\"b68196f4-b095-4eec-946d-a562d67e847b\")) {                    Plotly.newPlot(                        \"b68196f4-b095-4eec-946d-a562d67e847b\",                        [{\"branchvalues\":\"total\",\"domain\":{\"x\":[0.0,1.0],\"y\":[0.0,1.0]},\"hovertemplate\":\"labels=%{label}<br>count=%{value}<br>parent=%{parent}<br>id=%{id}<extra></extra>\",\"ids\":[\"Fixed Income/Money Market Indices/Commercial Papers Indices\",\"Fixed Income/SDL Indices/Nifty 10 Year SDL\",\"Fixed Income/G-Sec Indices/Nifty 10 yr Benchmark G-Sec\",\"Fixed Income/G-Sec Indices/Nifty 10 yr Benchmark G-Sec (Clean Price)\",\"Equity/Broad Based Indices/Nifty 100\",\"Fixed Income/G-Sec Indices/Nifty 11-15 yr G-Sec\",\"Fixed Income/G-Sec Indices/Nifty 15 yr and above G-Sec\",\"Fixed Income/Money Market Indices/Nifty 1D Rate\",\"Equity/Broad Based Indices/Nifty 200\",\"Fixed Income/G-Sec Indices/Nifty 4-8 yr G-Sec\",\"Fixed Income/G-Sec Indices/Nifty 5 yr Benchmark G-Sec\",\"Equity/Broad Based Indices/Nifty 50\",\"Equity/Strategy Indices/Nifty 50 Arbitrage\",\"Equity/Strategy Indices/Nifty 50 Futures PR\",\"Equity/Strategy Indices/Nifty 50 Futures TR\",\"Equity/Broad Based Indices/Nifty 500\",\"Fixed Income/G-Sec Indices/Nifty 8-13 yr G-Sec\",\"Fixed Income/Corporate Bond Indices/Nifty A Corporate Bond Indices\",\"Fixed Income/Corporate Bond Indices/Nifty AA Category Corporate Bond Indices\",\"Fixed Income/Corporate Bond Indices/Nifty AA Corporate Bond Indices\",\"Fixed Income/Corporate Bond Indices/Nifty AA+ Corporate Bond Indices\",\"Fixed Income/Corporate Bond Indices/Nifty AA- Corporate Bond Indices\",\"Fixed Income/Corporate Bond Indices/Nifty AAA Corporate Bond Indices\",\"Equity/Thematic Indices/Nifty Aditya Birla group\",\"Equity/Strategy Indices/Nifty Alpha 50\",\"Equity/Strategy Indices/Nifty Alpha Low Volatility 30\",\"Equity/Strategy Indices/Nifty Alpha Quality Low Volatility 30\",\"Equity/Strategy Indices/Nifty Alpha Quality Value Low Volatility 30\",\"Equity/Sectoral Indices/Nifty Auto\",\"Equity/Sectoral Indices/Nifty Bank\",\"Fixed Income/Corporate Bond Indices/Nifty Banking & PSU Bond Indices\",\"Equity/Thematic Indices/Nifty CPSE\",\"Equity/Thematic Indices/Nifty Commodities\",\"Fixed Income/G-Sec Indices/Nifty Composite G-Sec\",\"Equity/Sectoral Indices/Nifty Consumer Durables\",\"Equity/Strategy Indices/Nifty Dividend Opportunities 50\",\"Equity/Thematic Indices/Nifty Energy\",\"Equity/Strategy Indices/Nifty Equity Savings\",\"Equity/Sectoral Indices/Nifty FMCG\",\"Equity/Sectoral Indices/Nifty Financial Services\",\"Equity/Sectoral Indices/Nifty Financial Services 25/50\",\"Equity/Sectoral Indices/Nifty Financial Services Ex Bank\",\"Fixed Income/Aggregate Indices/Nifty Fixed Income Aggregate Indices\",\"Equity/Strategy Indices/Nifty Growth Sectors 15\",\"Equity/Sectoral Indices/Nifty Healthcare\",\"Equity/Strategy Indices/Nifty High Beta 50\",\"Equity/Thematic Indices/Nifty Housing\",\"Equity/Sectoral Indices/Nifty IT\",\"Equity/Thematic Indices/Nifty India Consumption\",\"Equity/Thematic Indices/Nifty India Defence\",\"Equity/Thematic Indices/Nifty India Digital\",\"Equity/Thematic Indices/Nifty India Manufacturing\",\"Fixed Income/G-Sec Indices/Nifty India Select 7 Government Bond (INR)\",\"Fixed Income/G-Sec Indices/Nifty India Select 7 Government Bond (USD)\",\"Equity/Thematic Indices/Nifty Infrastructure\",\"Equity/Broad Based Indices/Nifty LargeMidcap 250\",\"Fixed Income/G-Sec Indices/Nifty Long Duration G-Sec Index\",\"Fixed Income/G-Sec Indices/Nifty Low Duration G-Sec Index\",\"Equity/Strategy Indices/Nifty Low Volatility 50\",\"Equity/Thematic Indices/Nifty MNC\",\"Equity/Thematic Indices/Nifty Mahindra Group\",\"Equity/Sectoral Indices/Nifty Media\",\"Fixed Income/G-Sec Indices/Nifty Medium Duration G-Sec Index\",\"Fixed Income/G-Sec Indices/Nifty Medium to Long Duration G-Sec Index\",\"Equity/Sectoral Indices/Nifty Metal\",\"Equity/Broad Based Indices/Nifty Microcap 250\",\"Equity/Sectoral Indices/Nifty MidSmall Financial Services\",\"Equity/Sectoral Indices/Nifty MidSmall Healthcare\",\"Equity/Sectoral Indices/Nifty MidSmall IT & Telecom\",\"Equity/Thematic Indices/Nifty MidSmall India Consumption\",\"Equity/Broad Based Indices/Nifty MidSmallcap 400\",\"Equity/Broad Based Indices/Nifty Midcap 100\",\"Equity/Broad Based Indices/Nifty Midcap 50\",\"Equity/Thematic Indices/Nifty Midcap Liquid 15\",\"Equity/Broad Based Indices/Nifty Midcap Select\",\"Equity/Broad Based Indices/Nifty Midcap150\",\"Equity/Strategy Indices/Nifty Midcap150 Momentum 50\",\"Equity/Strategy Indices/Nifty Midcap150 Quality 50\",\"Equity/Thematic Indices/Nifty Mobility\",\"Equity/Broad Based Indices/Nifty Next 50\",\"Equity/Thematic Indices/Nifty Non-Cyclical Consumer\",\"Equity/Sectoral Indices/Nifty Oil and Gas\",\"Equity/Thematic Indices/Nifty PSE\",\"Equity/Sectoral Indices/Nifty PSU Bank\",\"Equity/Sectoral Indices/Nifty Pharma\",\"Equity/Sectoral Indices/Nifty Private Bank\",\"Equity/Strategy Indices/Nifty Quality Low Volatility 30\",\"Equity/Sectoral Indices/Nifty Realty\",\"Equity/Thematic Indices/Nifty SME Emerge\",\"Equity/Thematic Indices/Nifty Services Sector\",\"Equity/Thematic Indices/Nifty Shariah 25\",\"Fixed Income/G-Sec Indices/Nifty Short Duration G-Sec Index\",\"Equity/Broad Based Indices/Nifty Smallcap 100\",\"Equity/Broad Based Indices/Nifty Smallcap 250\",\"Equity/Broad Based Indices/Nifty Smallcap 50\",\"Equity/Strategy Indices/Nifty Smallcap250 Quality 50\",\"Equity/Thematic Indices/Nifty Tata group\",\"Equity/Thematic Indices/Nifty Tata group 25% Cap\",\"Equity/Broad Based Indices/Nifty Total Market\",\"Equity/Thematic Indices/Nifty Transportation & Logistics\",\"Fixed Income/G-Sec Indices/Nifty Ultra Short Duration G-Sec Index\",\"Equity/Strategy Indices/Nifty100 Alpha 30\",\"Equity/Thematic Indices/Nifty100 ESG\",\"Equity/Thematic Indices/Nifty100 ESG Sector Leaders\",\"Equity/Thematic Indices/Nifty100 Enhanced ESG\",\"Equity/Strategy Indices/Nifty100 Equal Weight\",\"Equity/Thematic Indices/Nifty100 Liquid 15\",\"Equity/Strategy Indices/Nifty100 Low Volatility 30\",\"Equity/Strategy Indices/Nifty100 Quality 30\",\"Equity/Strategy Indices/Nifty200 Alpha 30\",\"Equity/Strategy Indices/Nifty200 Momentum 30\",\"Equity/Strategy Indices/Nifty200 Quality 30\",\"Equity/Strategy Indices/Nifty50 & Short Duration Debt \\u2013 Dynamic P/B\",\"Equity/Strategy Indices/Nifty50 & Short Duration Debt \\u2013 Dynamic P/E\",\"Equity/Strategy Indices/Nifty50 Dividend Points\",\"Equity/Strategy Indices/Nifty50 Equal Weight\",\"Equity/Strategy Indices/Nifty50 PR 1x Inverse\",\"Equity/Strategy Indices/Nifty50 PR 2x Leverage\",\"Equity/Thematic Indices/Nifty50 Shariah\",\"Equity/Strategy Indices/Nifty50 TR 1x Inverse\",\"Equity/Strategy Indices/Nifty50 TR 2x Leverage\",\"Equity/Strategy Indices/Nifty50 USD\",\"Equity/Strategy Indices/Nifty50 Value 20\",\"Equity/Broad Based Indices/Nifty500 Multicap 50:25:25\",\"Equity/Thematic Indices/Nifty500 Shariah\",\"Equity/Strategy Indices/Nifty500 Value 50\",\"Fixed Income/Money Market Indices/T-Bills Series\",\"Fixed Income/Aggregate Indices\",\"Equity/Broad Based Indices\",\"Fixed Income/Corporate Bond Indices\",\"Fixed Income/G-Sec Indices\",\"Fixed Income/Money Market Indices\",\"Fixed Income/SDL Indices\",\"Equity/Sectoral Indices\",\"Equity/Strategy Indices\",\"Equity/Thematic Indices\",\"Equity\",\"Fixed Income\"],\"labels\":[\"Commercial Papers Indices\",\"Nifty 10 Year SDL\",\"Nifty 10 yr Benchmark G-Sec\",\"Nifty 10 yr Benchmark G-Sec (Clean Price)\",\"Nifty 100\",\"Nifty 11-15 yr G-Sec\",\"Nifty 15 yr and above G-Sec\",\"Nifty 1D Rate\",\"Nifty 200\",\"Nifty 4-8 yr G-Sec\",\"Nifty 5 yr Benchmark G-Sec\",\"Nifty 50\",\"Nifty 50 Arbitrage\",\"Nifty 50 Futures PR\",\"Nifty 50 Futures TR\",\"Nifty 500\",\"Nifty 8-13 yr G-Sec\",\"Nifty A Corporate Bond Indices\",\"Nifty AA Category Corporate Bond Indices\",\"Nifty AA Corporate Bond Indices\",\"Nifty AA+ Corporate Bond Indices\",\"Nifty AA- Corporate Bond Indices\",\"Nifty AAA Corporate Bond Indices\",\"Nifty Aditya Birla group\",\"Nifty Alpha 50\",\"Nifty Alpha Low Volatility 30\",\"Nifty Alpha Quality Low Volatility 30\",\"Nifty Alpha Quality Value Low Volatility 30\",\"Nifty Auto\",\"Nifty Bank\",\"Nifty Banking & PSU Bond Indices\",\"Nifty CPSE\",\"Nifty Commodities\",\"Nifty Composite G-Sec\",\"Nifty Consumer Durables\",\"Nifty Dividend Opportunities 50\",\"Nifty Energy\",\"Nifty Equity Savings\",\"Nifty FMCG\",\"Nifty Financial Services\",\"Nifty Financial Services 25/50\",\"Nifty Financial Services Ex Bank\",\"Nifty Fixed Income Aggregate Indices\",\"Nifty Growth Sectors 15\",\"Nifty Healthcare\",\"Nifty High Beta 50\",\"Nifty Housing\",\"Nifty IT\",\"Nifty India Consumption\",\"Nifty India Defence\",\"Nifty India Digital\",\"Nifty India Manufacturing\",\"Nifty India Select 7 Government Bond (INR)\",\"Nifty India Select 7 Government Bond (USD)\",\"Nifty Infrastructure\",\"Nifty LargeMidcap 250\",\"Nifty Long Duration G-Sec Index\",\"Nifty Low Duration G-Sec Index\",\"Nifty Low Volatility 50\",\"Nifty MNC\",\"Nifty Mahindra Group\",\"Nifty Media\",\"Nifty Medium Duration G-Sec Index\",\"Nifty Medium to Long Duration G-Sec Index\",\"Nifty Metal\",\"Nifty Microcap 250\",\"Nifty MidSmall Financial Services\",\"Nifty MidSmall Healthcare\",\"Nifty MidSmall IT & Telecom\",\"Nifty MidSmall India Consumption\",\"Nifty MidSmallcap 400\",\"Nifty Midcap 100\",\"Nifty Midcap 50\",\"Nifty Midcap Liquid 15\",\"Nifty Midcap Select\",\"Nifty Midcap150\",\"Nifty Midcap150 Momentum 50\",\"Nifty Midcap150 Quality 50\",\"Nifty Mobility\",\"Nifty Next 50\",\"Nifty Non-Cyclical Consumer\",\"Nifty Oil and Gas\",\"Nifty PSE\",\"Nifty PSU Bank\",\"Nifty Pharma\",\"Nifty Private Bank\",\"Nifty Quality Low Volatility 30\",\"Nifty Realty\",\"Nifty SME Emerge\",\"Nifty Services Sector\",\"Nifty Shariah 25\",\"Nifty Short Duration G-Sec Index\",\"Nifty Smallcap 100\",\"Nifty Smallcap 250\",\"Nifty Smallcap 50\",\"Nifty Smallcap250 Quality 50\",\"Nifty Tata group\",\"Nifty Tata group 25% Cap\",\"Nifty Total Market\",\"Nifty Transportation & Logistics\",\"Nifty Ultra Short Duration G-Sec Index\",\"Nifty100 Alpha 30\",\"Nifty100 ESG\",\"Nifty100 ESG Sector Leaders\",\"Nifty100 Enhanced ESG\",\"Nifty100 Equal Weight\",\"Nifty100 Liquid 15\",\"Nifty100 Low Volatility 30\",\"Nifty100 Quality 30\",\"Nifty200 Alpha 30\",\"Nifty200 Momentum 30\",\"Nifty200 Quality 30\",\"Nifty50 & Short Duration Debt \\u2013 Dynamic P/B\",\"Nifty50 & Short Duration Debt \\u2013 Dynamic P/E\",\"Nifty50 Dividend Points\",\"Nifty50 Equal Weight\",\"Nifty50 PR 1x Inverse\",\"Nifty50 PR 2x Leverage\",\"Nifty50 Shariah\",\"Nifty50 TR 1x Inverse\",\"Nifty50 TR 2x Leverage\",\"Nifty50 USD\",\"Nifty50 Value 20\",\"Nifty500 Multicap 50:25:25\",\"Nifty500 Shariah\",\"Nifty500 Value 50\",\"T-Bills Series\",\"Aggregate Indices\",\"Broad Based Indices\",\"Corporate Bond Indices\",\"G-Sec Indices\",\"Money Market Indices\",\"SDL Indices\",\"Sectoral Indices\",\"Strategy Indices\",\"Thematic Indices\",\"Equity\",\"Fixed Income\"],\"maxdepth\":3,\"name\":\"\",\"parents\":[\"Fixed Income/Money Market Indices\",\"Fixed Income/SDL Indices\",\"Fixed Income/G-Sec Indices\",\"Fixed Income/G-Sec Indices\",\"Equity/Broad Based Indices\",\"Fixed Income/G-Sec Indices\",\"Fixed Income/G-Sec Indices\",\"Fixed Income/Money Market Indices\",\"Equity/Broad Based Indices\",\"Fixed Income/G-Sec Indices\",\"Fixed Income/G-Sec Indices\",\"Equity/Broad Based Indices\",\"Equity/Strategy Indices\",\"Equity/Strategy Indices\",\"Equity/Strategy Indices\",\"Equity/Broad Based Indices\",\"Fixed Income/G-Sec Indices\",\"Fixed Income/Corporate Bond Indices\",\"Fixed Income/Corporate Bond Indices\",\"Fixed Income/Corporate Bond Indices\",\"Fixed Income/Corporate Bond Indices\",\"Fixed Income/Corporate Bond Indices\",\"Fixed Income/Corporate Bond Indices\",\"Equity/Thematic Indices\",\"Equity/Strategy Indices\",\"Equity/Strategy Indices\",\"Equity/Strategy Indices\",\"Equity/Strategy Indices\",\"Equity/Sectoral Indices\",\"Equity/Sectoral Indices\",\"Fixed Income/Corporate Bond Indices\",\"Equity/Thematic Indices\",\"Equity/Thematic Indices\",\"Fixed Income/G-Sec Indices\",\"Equity/Sectoral Indices\",\"Equity/Strategy Indices\",\"Equity/Thematic Indices\",\"Equity/Strategy Indices\",\"Equity/Sectoral Indices\",\"Equity/Sectoral Indices\",\"Equity/Sectoral Indices\",\"Equity/Sectoral Indices\",\"Fixed Income/Aggregate Indices\",\"Equity/Strategy Indices\",\"Equity/Sectoral Indices\",\"Equity/Strategy Indices\",\"Equity/Thematic Indices\",\"Equity/Sectoral Indices\",\"Equity/Thematic Indices\",\"Equity/Thematic Indices\",\"Equity/Thematic Indices\",\"Equity/Thematic Indices\",\"Fixed Income/G-Sec Indices\",\"Fixed Income/G-Sec Indices\",\"Equity/Thematic Indices\",\"Equity/Broad Based Indices\",\"Fixed Income/G-Sec Indices\",\"Fixed Income/G-Sec Indices\",\"Equity/Strategy Indices\",\"Equity/Thematic Indices\",\"Equity/Thematic Indices\",\"Equity/Sectoral Indices\",\"Fixed Income/G-Sec Indices\",\"Fixed Income/G-Sec Indices\",\"Equity/Sectoral Indices\",\"Equity/Broad Based Indices\",\"Equity/Sectoral Indices\",\"Equity/Sectoral Indices\",\"Equity/Sectoral Indices\",\"Equity/Thematic Indices\",\"Equity/Broad Based Indices\",\"Equity/Broad Based Indices\",\"Equity/Broad Based Indices\",\"Equity/Thematic Indices\",\"Equity/Broad Based Indices\",\"Equity/Broad Based Indices\",\"Equity/Strategy Indices\",\"Equity/Strategy Indices\",\"Equity/Thematic Indices\",\"Equity/Broad Based Indices\",\"Equity/Thematic Indices\",\"Equity/Sectoral Indices\",\"Equity/Thematic Indices\",\"Equity/Sectoral Indices\",\"Equity/Sectoral Indices\",\"Equity/Sectoral Indices\",\"Equity/Strategy Indices\",\"Equity/Sectoral Indices\",\"Equity/Thematic Indices\",\"Equity/Thematic Indices\",\"Equity/Thematic Indices\",\"Fixed Income/G-Sec Indices\",\"Equity/Broad Based Indices\",\"Equity/Broad Based Indices\",\"Equity/Broad Based Indices\",\"Equity/Strategy Indices\",\"Equity/Thematic Indices\",\"Equity/Thematic Indices\",\"Equity/Broad Based Indices\",\"Equity/Thematic Indices\",\"Fixed Income/G-Sec Indices\",\"Equity/Strategy Indices\",\"Equity/Thematic Indices\",\"Equity/Thematic Indices\",\"Equity/Thematic Indices\",\"Equity/Strategy Indices\",\"Equity/Thematic Indices\",\"Equity/Strategy Indices\",\"Equity/Strategy Indices\",\"Equity/Strategy Indices\",\"Equity/Strategy Indices\",\"Equity/Strategy Indices\",\"Equity/Strategy Indices\",\"Equity/Strategy Indices\",\"Equity/Strategy Indices\",\"Equity/Strategy Indices\",\"Equity/Strategy Indices\",\"Equity/Strategy Indices\",\"Equity/Thematic Indices\",\"Equity/Strategy Indices\",\"Equity/Strategy Indices\",\"Equity/Strategy Indices\",\"Equity/Strategy Indices\",\"Equity/Broad Based Indices\",\"Equity/Thematic Indices\",\"Equity/Strategy Indices\",\"Fixed Income/Money Market Indices\",\"Fixed Income\",\"Equity\",\"Fixed Income\",\"Fixed Income\",\"Fixed Income\",\"Fixed Income\",\"Equity\",\"Equity\",\"Equity\",\"\",\"\"],\"values\":[1,1,1,1,1,1,1,1,1,1,1,1,1,1,1,1,1,1,1,1,1,1,1,1,1,1,1,1,1,1,1,1,1,1,1,1,1,1,1,1,1,1,1,1,1,1,1,1,1,1,1,1,1,1,1,1,1,1,1,1,1,1,1,1,1,1,1,1,1,1,1,1,1,1,1,1,1,1,1,1,1,1,1,1,1,1,1,1,1,1,1,1,1,1,1,1,1,1,1,1,1,1,1,1,1,1,1,1,1,1,1,1,1,1,1,1,1,1,1,1,1,1,1,1,1,1,1,1,17,7,16,3,1,19,34,29,99,28],\"type\":\"sunburst\"}],                        {\"template\":{\"data\":{\"histogram2dcontour\":[{\"type\":\"histogram2dcontour\",\"colorbar\":{\"outlinewidth\":0,\"ticks\":\"\"},\"colorscale\":[[0.0,\"#0d0887\"],[0.1111111111111111,\"#46039f\"],[0.2222222222222222,\"#7201a8\"],[0.3333333333333333,\"#9c179e\"],[0.4444444444444444,\"#bd3786\"],[0.5555555555555556,\"#d8576b\"],[0.6666666666666666,\"#ed7953\"],[0.7777777777777778,\"#fb9f3a\"],[0.8888888888888888,\"#fdca26\"],[1.0,\"#f0f921\"]]}],\"choropleth\":[{\"type\":\"choropleth\",\"colorbar\":{\"outlinewidth\":0,\"ticks\":\"\"}}],\"histogram2d\":[{\"type\":\"histogram2d\",\"colorbar\":{\"outlinewidth\":0,\"ticks\":\"\"},\"colorscale\":[[0.0,\"#0d0887\"],[0.1111111111111111,\"#46039f\"],[0.2222222222222222,\"#7201a8\"],[0.3333333333333333,\"#9c179e\"],[0.4444444444444444,\"#bd3786\"],[0.5555555555555556,\"#d8576b\"],[0.6666666666666666,\"#ed7953\"],[0.7777777777777778,\"#fb9f3a\"],[0.8888888888888888,\"#fdca26\"],[1.0,\"#f0f921\"]]}],\"heatmap\":[{\"type\":\"heatmap\",\"colorbar\":{\"outlinewidth\":0,\"ticks\":\"\"},\"colorscale\":[[0.0,\"#0d0887\"],[0.1111111111111111,\"#46039f\"],[0.2222222222222222,\"#7201a8\"],[0.3333333333333333,\"#9c179e\"],[0.4444444444444444,\"#bd3786\"],[0.5555555555555556,\"#d8576b\"],[0.6666666666666666,\"#ed7953\"],[0.7777777777777778,\"#fb9f3a\"],[0.8888888888888888,\"#fdca26\"],[1.0,\"#f0f921\"]]}],\"heatmapgl\":[{\"type\":\"heatmapgl\",\"colorbar\":{\"outlinewidth\":0,\"ticks\":\"\"},\"colorscale\":[[0.0,\"#0d0887\"],[0.1111111111111111,\"#46039f\"],[0.2222222222222222,\"#7201a8\"],[0.3333333333333333,\"#9c179e\"],[0.4444444444444444,\"#bd3786\"],[0.5555555555555556,\"#d8576b\"],[0.6666666666666666,\"#ed7953\"],[0.7777777777777778,\"#fb9f3a\"],[0.8888888888888888,\"#fdca26\"],[1.0,\"#f0f921\"]]}],\"contourcarpet\":[{\"type\":\"contourcarpet\",\"colorbar\":{\"outlinewidth\":0,\"ticks\":\"\"}}],\"contour\":[{\"type\":\"contour\",\"colorbar\":{\"outlinewidth\":0,\"ticks\":\"\"},\"colorscale\":[[0.0,\"#0d0887\"],[0.1111111111111111,\"#46039f\"],[0.2222222222222222,\"#7201a8\"],[0.3333333333333333,\"#9c179e\"],[0.4444444444444444,\"#bd3786\"],[0.5555555555555556,\"#d8576b\"],[0.6666666666666666,\"#ed7953\"],[0.7777777777777778,\"#fb9f3a\"],[0.8888888888888888,\"#fdca26\"],[1.0,\"#f0f921\"]]}],\"surface\":[{\"type\":\"surface\",\"colorbar\":{\"outlinewidth\":0,\"ticks\":\"\"},\"colorscale\":[[0.0,\"#0d0887\"],[0.1111111111111111,\"#46039f\"],[0.2222222222222222,\"#7201a8\"],[0.3333333333333333,\"#9c179e\"],[0.4444444444444444,\"#bd3786\"],[0.5555555555555556,\"#d8576b\"],[0.6666666666666666,\"#ed7953\"],[0.7777777777777778,\"#fb9f3a\"],[0.8888888888888888,\"#fdca26\"],[1.0,\"#f0f921\"]]}],\"mesh3d\":[{\"type\":\"mesh3d\",\"colorbar\":{\"outlinewidth\":0,\"ticks\":\"\"}}],\"scatter\":[{\"fillpattern\":{\"fillmode\":\"overlay\",\"size\":10,\"solidity\":0.2},\"type\":\"scatter\"}],\"parcoords\":[{\"type\":\"parcoords\",\"line\":{\"colorbar\":{\"outlinewidth\":0,\"ticks\":\"\"}}}],\"scatterpolargl\":[{\"type\":\"scatterpolargl\",\"marker\":{\"colorbar\":{\"outlinewidth\":0,\"ticks\":\"\"}}}],\"bar\":[{\"error_x\":{\"color\":\"#2a3f5f\"},\"error_y\":{\"color\":\"#2a3f5f\"},\"marker\":{\"line\":{\"color\":\"#E5ECF6\",\"width\":0.5},\"pattern\":{\"fillmode\":\"overlay\",\"size\":10,\"solidity\":0.2}},\"type\":\"bar\"}],\"scattergeo\":[{\"type\":\"scattergeo\",\"marker\":{\"colorbar\":{\"outlinewidth\":0,\"ticks\":\"\"}}}],\"scatterpolar\":[{\"type\":\"scatterpolar\",\"marker\":{\"colorbar\":{\"outlinewidth\":0,\"ticks\":\"\"}}}],\"histogram\":[{\"marker\":{\"pattern\":{\"fillmode\":\"overlay\",\"size\":10,\"solidity\":0.2}},\"type\":\"histogram\"}],\"scattergl\":[{\"type\":\"scattergl\",\"marker\":{\"colorbar\":{\"outlinewidth\":0,\"ticks\":\"\"}}}],\"scatter3d\":[{\"type\":\"scatter3d\",\"line\":{\"colorbar\":{\"outlinewidth\":0,\"ticks\":\"\"}},\"marker\":{\"colorbar\":{\"outlinewidth\":0,\"ticks\":\"\"}}}],\"scattermapbox\":[{\"type\":\"scattermapbox\",\"marker\":{\"colorbar\":{\"outlinewidth\":0,\"ticks\":\"\"}}}],\"scatterternary\":[{\"type\":\"scatterternary\",\"marker\":{\"colorbar\":{\"outlinewidth\":0,\"ticks\":\"\"}}}],\"scattercarpet\":[{\"type\":\"scattercarpet\",\"marker\":{\"colorbar\":{\"outlinewidth\":0,\"ticks\":\"\"}}}],\"carpet\":[{\"aaxis\":{\"endlinecolor\":\"#2a3f5f\",\"gridcolor\":\"white\",\"linecolor\":\"white\",\"minorgridcolor\":\"white\",\"startlinecolor\":\"#2a3f5f\"},\"baxis\":{\"endlinecolor\":\"#2a3f5f\",\"gridcolor\":\"white\",\"linecolor\":\"white\",\"minorgridcolor\":\"white\",\"startlinecolor\":\"#2a3f5f\"},\"type\":\"carpet\"}],\"table\":[{\"cells\":{\"fill\":{\"color\":\"#EBF0F8\"},\"line\":{\"color\":\"white\"}},\"header\":{\"fill\":{\"color\":\"#C8D4E3\"},\"line\":{\"color\":\"white\"}},\"type\":\"table\"}],\"barpolar\":[{\"marker\":{\"line\":{\"color\":\"#E5ECF6\",\"width\":0.5},\"pattern\":{\"fillmode\":\"overlay\",\"size\":10,\"solidity\":0.2}},\"type\":\"barpolar\"}],\"pie\":[{\"automargin\":true,\"type\":\"pie\"}]},\"layout\":{\"autotypenumbers\":\"strict\",\"colorway\":[\"#636efa\",\"#EF553B\",\"#00cc96\",\"#ab63fa\",\"#FFA15A\",\"#19d3f3\",\"#FF6692\",\"#B6E880\",\"#FF97FF\",\"#FECB52\"],\"font\":{\"color\":\"#2a3f5f\"},\"hovermode\":\"closest\",\"hoverlabel\":{\"align\":\"left\"},\"paper_bgcolor\":\"white\",\"plot_bgcolor\":\"#E5ECF6\",\"polar\":{\"bgcolor\":\"#E5ECF6\",\"angularaxis\":{\"gridcolor\":\"white\",\"linecolor\":\"white\",\"ticks\":\"\"},\"radialaxis\":{\"gridcolor\":\"white\",\"linecolor\":\"white\",\"ticks\":\"\"}},\"ternary\":{\"bgcolor\":\"#E5ECF6\",\"aaxis\":{\"gridcolor\":\"white\",\"linecolor\":\"white\",\"ticks\":\"\"},\"baxis\":{\"gridcolor\":\"white\",\"linecolor\":\"white\",\"ticks\":\"\"},\"caxis\":{\"gridcolor\":\"white\",\"linecolor\":\"white\",\"ticks\":\"\"}},\"coloraxis\":{\"colorbar\":{\"outlinewidth\":0,\"ticks\":\"\"}},\"colorscale\":{\"sequential\":[[0.0,\"#0d0887\"],[0.1111111111111111,\"#46039f\"],[0.2222222222222222,\"#7201a8\"],[0.3333333333333333,\"#9c179e\"],[0.4444444444444444,\"#bd3786\"],[0.5555555555555556,\"#d8576b\"],[0.6666666666666666,\"#ed7953\"],[0.7777777777777778,\"#fb9f3a\"],[0.8888888888888888,\"#fdca26\"],[1.0,\"#f0f921\"]],\"sequentialminus\":[[0.0,\"#0d0887\"],[0.1111111111111111,\"#46039f\"],[0.2222222222222222,\"#7201a8\"],[0.3333333333333333,\"#9c179e\"],[0.4444444444444444,\"#bd3786\"],[0.5555555555555556,\"#d8576b\"],[0.6666666666666666,\"#ed7953\"],[0.7777777777777778,\"#fb9f3a\"],[0.8888888888888888,\"#fdca26\"],[1.0,\"#f0f921\"]],\"diverging\":[[0,\"#8e0152\"],[0.1,\"#c51b7d\"],[0.2,\"#de77ae\"],[0.3,\"#f1b6da\"],[0.4,\"#fde0ef\"],[0.5,\"#f7f7f7\"],[0.6,\"#e6f5d0\"],[0.7,\"#b8e186\"],[0.8,\"#7fbc41\"],[0.9,\"#4d9221\"],[1,\"#276419\"]]},\"xaxis\":{\"gridcolor\":\"white\",\"linecolor\":\"white\",\"ticks\":\"\",\"title\":{\"standoff\":15},\"zerolinecolor\":\"white\",\"automargin\":true,\"zerolinewidth\":2},\"yaxis\":{\"gridcolor\":\"white\",\"linecolor\":\"white\",\"ticks\":\"\",\"title\":{\"standoff\":15},\"zerolinecolor\":\"white\",\"automargin\":true,\"zerolinewidth\":2},\"scene\":{\"xaxis\":{\"backgroundcolor\":\"#E5ECF6\",\"gridcolor\":\"white\",\"linecolor\":\"white\",\"showbackground\":true,\"ticks\":\"\",\"zerolinecolor\":\"white\",\"gridwidth\":2},\"yaxis\":{\"backgroundcolor\":\"#E5ECF6\",\"gridcolor\":\"white\",\"linecolor\":\"white\",\"showbackground\":true,\"ticks\":\"\",\"zerolinecolor\":\"white\",\"gridwidth\":2},\"zaxis\":{\"backgroundcolor\":\"#E5ECF6\",\"gridcolor\":\"white\",\"linecolor\":\"white\",\"showbackground\":true,\"ticks\":\"\",\"zerolinecolor\":\"white\",\"gridwidth\":2}},\"shapedefaults\":{\"line\":{\"color\":\"#2a3f5f\"}},\"annotationdefaults\":{\"arrowcolor\":\"#2a3f5f\",\"arrowhead\":0,\"arrowwidth\":1},\"geo\":{\"bgcolor\":\"white\",\"landcolor\":\"#E5ECF6\",\"subunitcolor\":\"white\",\"showland\":true,\"showlakes\":true,\"lakecolor\":\"white\"},\"title\":{\"x\":0.05},\"mapbox\":{\"style\":\"light\"}}},\"legend\":{\"tracegroupgap\":0},\"margin\":{\"t\":60}},                        {\"responsive\": true}                    ).then(function(){\n",
       "                            \n",
       "var gd = document.getElementById('b68196f4-b095-4eec-946d-a562d67e847b');\n",
       "var x = new MutationObserver(function (mutations, observer) {{\n",
       "        var display = window.getComputedStyle(gd).display;\n",
       "        if (!display || display === 'none') {{\n",
       "            console.log([gd, 'removed!']);\n",
       "            Plotly.purge(gd);\n",
       "            observer.disconnect();\n",
       "        }}\n",
       "}});\n",
       "\n",
       "// Listen for the removal of the full notebook cells\n",
       "var notebookContainer = gd.closest('#notebook-container');\n",
       "if (notebookContainer) {{\n",
       "    x.observe(notebookContainer, {childList: true});\n",
       "}}\n",
       "\n",
       "// Listen for the clearing of the current output cell\n",
       "var outputEl = gd.closest('.output');\n",
       "if (outputEl) {{\n",
       "    x.observe(outputEl, {childList: true});\n",
       "}}\n",
       "\n",
       "                        })                };                });            </script>        </div>"
      ]
     },
     "metadata": {},
     "output_type": "display_data"
    }
   ],
   "source": [
    "# default chart\n",
    "\n",
    "fig = px.sunburst(df, path=['Category', 'SubCategory', 'IndexName'], maxdepth = 3)\n",
    "fig.show()"
   ]
  },
  {
   "cell_type": "code",
   "execution_count": 40,
   "metadata": {},
   "outputs": [
    {
     "data": {
      "application/vnd.plotly.v1+json": {
       "config": {
        "plotlyServerURL": "https://plot.ly"
       },
       "data": [
        {
         "ids": [
          "Nifty 50",
          "Nifty Next 50",
          "Nifty 100",
          "Nifty 200",
          "Nifty Total Market",
          "Nifty 500",
          "Nifty500 Multicap 50:25:25",
          "Nifty Midcap150",
          "Nifty Midcap 50",
          "Nifty Midcap Select",
          "Nifty Midcap 100",
          "Nifty Smallcap 250",
          "Nifty Smallcap 50",
          "Nifty Smallcap 100",
          "Nifty Microcap 250",
          "Nifty LargeMidcap 250",
          "Nifty MidSmallcap 400",
          "Nifty Auto",
          "Nifty Bank",
          "Nifty Financial Services",
          "Nifty Financial Services 25/50",
          "Nifty Financial Services Ex Bank",
          "Nifty FMCG",
          "Nifty Healthcare",
          "Nifty IT",
          "Nifty Media",
          "Nifty Metal",
          "Nifty Pharma",
          "Nifty Private Bank",
          "Nifty PSU Bank",
          "Nifty Realty",
          "Nifty Consumer Durables",
          "Nifty Oil and Gas",
          "Nifty MidSmall Financial Services",
          "Nifty MidSmall Healthcare",
          "Nifty MidSmall IT & Telecom",
          "Nifty Aditya Birla group",
          "Nifty Commodities",
          "Nifty CPSE",
          "Nifty Energy",
          "Nifty Housing",
          "Nifty India Consumption",
          "Nifty India Defence",
          "Nifty India Digital",
          "Nifty India Manufacturing",
          "Nifty Infrastructure",
          "Nifty Mahindra Group",
          "Nifty Midcap Liquid 15",
          "Nifty MidSmall India Consumption",
          "Nifty MNC",
          "Nifty Mobility",
          "Nifty PSE",
          "Nifty Non-Cyclical Consumer",
          "Nifty Services Sector",
          "Nifty Shariah 25",
          "Nifty Tata group",
          "Nifty Tata group 25% Cap",
          "Nifty Transportation & Logistics",
          "Nifty100 Liquid 15",
          "Nifty50 Shariah",
          "Nifty500 Shariah",
          "Nifty SME Emerge",
          "Nifty100 ESG",
          "Nifty100 Enhanced ESG",
          "Nifty100 ESG Sector Leaders",
          "Nifty100 Equal Weight",
          "Nifty100 Low Volatility 30",
          "Nifty 50 Arbitrage",
          "Nifty 50 Futures PR",
          "Nifty 50 Futures TR",
          "Nifty200 Momentum 30",
          "Nifty200 Alpha 30",
          "Nifty100 Alpha 30",
          "Nifty Alpha 50",
          "Nifty Alpha Low Volatility 30",
          "Nifty Alpha Quality Low Volatility 30",
          "Nifty Alpha Quality Value Low Volatility 30",
          "Nifty Dividend Opportunities 50",
          "Nifty Growth Sectors 15",
          "Nifty High Beta 50",
          "Nifty Low Volatility 50",
          "Nifty100 Quality 30",
          "Nifty Midcap150 Momentum 50",
          "Nifty Midcap150 Quality 50",
          "Nifty Smallcap250 Quality 50",
          "Nifty Quality Low Volatility 30",
          "Nifty50 Dividend Points",
          "Nifty50 Equal Weight",
          "Nifty50 PR 1x Inverse",
          "Nifty50 PR 2x Leverage",
          "Nifty50 TR 1x Inverse",
          "Nifty50 TR 2x Leverage",
          "Nifty50 USD",
          "Nifty50 Value 20",
          "Nifty500 Value 50",
          "Nifty200 Quality 30",
          "Nifty50 & Short Duration Debt – Dynamic P/B",
          "Nifty50 & Short Duration Debt – Dynamic P/E",
          "Nifty Equity Savings",
          "Nifty Ultra Short Duration G-Sec Index",
          "Nifty Low Duration G-Sec Index",
          "Nifty Short Duration G-Sec Index",
          "Nifty Medium Duration G-Sec Index",
          "Nifty Medium to Long Duration G-Sec Index",
          "Nifty Long Duration G-Sec Index",
          "Nifty 8-13 yr G-Sec",
          "Nifty 10 yr Benchmark G-Sec",
          "Nifty 10 yr Benchmark G-Sec (Clean Price)",
          "Nifty 4-8 yr G-Sec",
          "Nifty 11-15 yr G-Sec",
          "Nifty 15 yr and above G-Sec",
          "Nifty Composite G-Sec",
          "Nifty 5 yr Benchmark G-Sec",
          "Nifty India Select 7 Government Bond (INR)",
          "Nifty India Select 7 Government Bond (USD)",
          "Nifty 10 Year SDL",
          "Nifty AAA Corporate Bond Indices",
          "Nifty AA Category Corporate Bond Indices",
          "Nifty AA+ Corporate Bond Indices",
          "Nifty AA Corporate Bond Indices",
          "Nifty AA- Corporate Bond Indices",
          "Nifty A Corporate Bond Indices",
          "Nifty Banking & PSU Bond Indices",
          "Commercial Papers Indices",
          "T-Bills Series",
          "Nifty 1D Rate",
          "Nifty Fixed Income Aggregate Indices"
         ],
         "insidetextorientation": "radial",
         "labels": [
          "Equity",
          "Equity",
          "Equity",
          "Equity",
          "Equity",
          "Equity",
          "Equity",
          "Equity",
          "Equity",
          "Equity",
          "Equity",
          "Equity",
          "Equity",
          "Equity",
          "Equity",
          "Equity",
          "Equity",
          "Equity",
          "Equity",
          "Equity",
          "Equity",
          "Equity",
          "Equity",
          "Equity",
          "Equity",
          "Equity",
          "Equity",
          "Equity",
          "Equity",
          "Equity",
          "Equity",
          "Equity",
          "Equity",
          "Equity",
          "Equity",
          "Equity",
          "Equity",
          "Equity",
          "Equity",
          "Equity",
          "Equity",
          "Equity",
          "Equity",
          "Equity",
          "Equity",
          "Equity",
          "Equity",
          "Equity",
          "Equity",
          "Equity",
          "Equity",
          "Equity",
          "Equity",
          "Equity",
          "Equity",
          "Equity",
          "Equity",
          "Equity",
          "Equity",
          "Equity",
          "Equity",
          "Equity",
          "Equity",
          "Equity",
          "Equity",
          "Equity",
          "Equity",
          "Equity",
          "Equity",
          "Equity",
          "Equity",
          "Equity",
          "Equity",
          "Equity",
          "Equity",
          "Equity",
          "Equity",
          "Equity",
          "Equity",
          "Equity",
          "Equity",
          "Equity",
          "Equity",
          "Equity",
          "Equity",
          "Equity",
          "Equity",
          "Equity",
          "Equity",
          "Equity",
          "Equity",
          "Equity",
          "Equity",
          "Equity",
          "Equity",
          "Equity",
          "Equity",
          "Equity",
          "Equity",
          "Fixed Income",
          "Fixed Income",
          "Fixed Income",
          "Fixed Income",
          "Fixed Income",
          "Fixed Income",
          "Fixed Income",
          "Fixed Income",
          "Fixed Income",
          "Fixed Income",
          "Fixed Income",
          "Fixed Income",
          "Fixed Income",
          "Fixed Income",
          "Fixed Income",
          "Fixed Income",
          "Fixed Income",
          "Fixed Income",
          "Fixed Income",
          "Fixed Income",
          "Fixed Income",
          "Fixed Income",
          "Fixed Income",
          "Fixed Income",
          "Fixed Income",
          "Fixed Income",
          "Fixed Income",
          "Fixed Income"
         ],
         "parents": [
          "Broad Based Indices",
          "Broad Based Indices",
          "Broad Based Indices",
          "Broad Based Indices",
          "Broad Based Indices",
          "Broad Based Indices",
          "Broad Based Indices",
          "Broad Based Indices",
          "Broad Based Indices",
          "Broad Based Indices",
          "Broad Based Indices",
          "Broad Based Indices",
          "Broad Based Indices",
          "Broad Based Indices",
          "Broad Based Indices",
          "Broad Based Indices",
          "Broad Based Indices",
          "Sectoral Indices",
          "Sectoral Indices",
          "Sectoral Indices",
          "Sectoral Indices",
          "Sectoral Indices",
          "Sectoral Indices",
          "Sectoral Indices",
          "Sectoral Indices",
          "Sectoral Indices",
          "Sectoral Indices",
          "Sectoral Indices",
          "Sectoral Indices",
          "Sectoral Indices",
          "Sectoral Indices",
          "Sectoral Indices",
          "Sectoral Indices",
          "Sectoral Indices",
          "Sectoral Indices",
          "Sectoral Indices",
          "Thematic Indices",
          "Thematic Indices",
          "Thematic Indices",
          "Thematic Indices",
          "Thematic Indices",
          "Thematic Indices",
          "Thematic Indices",
          "Thematic Indices",
          "Thematic Indices",
          "Thematic Indices",
          "Thematic Indices",
          "Thematic Indices",
          "Thematic Indices",
          "Thematic Indices",
          "Thematic Indices",
          "Thematic Indices",
          "Thematic Indices",
          "Thematic Indices",
          "Thematic Indices",
          "Thematic Indices",
          "Thematic Indices",
          "Thematic Indices",
          "Thematic Indices",
          "Thematic Indices",
          "Thematic Indices",
          "Thematic Indices",
          "Thematic Indices",
          "Thematic Indices",
          "Thematic Indices",
          "Strategy Indices",
          "Strategy Indices",
          "Strategy Indices",
          "Strategy Indices",
          "Strategy Indices",
          "Strategy Indices",
          "Strategy Indices",
          "Strategy Indices",
          "Strategy Indices",
          "Strategy Indices",
          "Strategy Indices",
          "Strategy Indices",
          "Strategy Indices",
          "Strategy Indices",
          "Strategy Indices",
          "Strategy Indices",
          "Strategy Indices",
          "Strategy Indices",
          "Strategy Indices",
          "Strategy Indices",
          "Strategy Indices",
          "Strategy Indices",
          "Strategy Indices",
          "Strategy Indices",
          "Strategy Indices",
          "Strategy Indices",
          "Strategy Indices",
          "Strategy Indices",
          "Strategy Indices",
          "Strategy Indices",
          "Strategy Indices",
          "Strategy Indices",
          "Strategy Indices",
          "Strategy Indices",
          "G-Sec Indices",
          "G-Sec Indices",
          "G-Sec Indices",
          "G-Sec Indices",
          "G-Sec Indices",
          "G-Sec Indices",
          "G-Sec Indices",
          "G-Sec Indices",
          "G-Sec Indices",
          "G-Sec Indices",
          "G-Sec Indices",
          "G-Sec Indices",
          "G-Sec Indices",
          "G-Sec Indices",
          "G-Sec Indices",
          "G-Sec Indices",
          "SDL Indices",
          "Corporate Bond Indices",
          "Corporate Bond Indices",
          "Corporate Bond Indices",
          "Corporate Bond Indices",
          "Corporate Bond Indices",
          "Corporate Bond Indices",
          "Corporate Bond Indices",
          "Money Market Indices",
          "Money Market Indices",
          "Money Market Indices",
          "Aggregate Indices"
         ],
         "type": "sunburst"
        }
       ],
       "layout": {
        "margin": {
         "b": 10,
         "l": 10,
         "r": 10,
         "t": 10
        },
        "template": {
         "data": {
          "bar": [
           {
            "error_x": {
             "color": "#2a3f5f"
            },
            "error_y": {
             "color": "#2a3f5f"
            },
            "marker": {
             "line": {
              "color": "#E5ECF6",
              "width": 0.5
             },
             "pattern": {
              "fillmode": "overlay",
              "size": 10,
              "solidity": 0.2
             }
            },
            "type": "bar"
           }
          ],
          "barpolar": [
           {
            "marker": {
             "line": {
              "color": "#E5ECF6",
              "width": 0.5
             },
             "pattern": {
              "fillmode": "overlay",
              "size": 10,
              "solidity": 0.2
             }
            },
            "type": "barpolar"
           }
          ],
          "carpet": [
           {
            "aaxis": {
             "endlinecolor": "#2a3f5f",
             "gridcolor": "white",
             "linecolor": "white",
             "minorgridcolor": "white",
             "startlinecolor": "#2a3f5f"
            },
            "baxis": {
             "endlinecolor": "#2a3f5f",
             "gridcolor": "white",
             "linecolor": "white",
             "minorgridcolor": "white",
             "startlinecolor": "#2a3f5f"
            },
            "type": "carpet"
           }
          ],
          "choropleth": [
           {
            "colorbar": {
             "outlinewidth": 0,
             "ticks": ""
            },
            "type": "choropleth"
           }
          ],
          "contour": [
           {
            "colorbar": {
             "outlinewidth": 0,
             "ticks": ""
            },
            "colorscale": [
             [
              0,
              "#0d0887"
             ],
             [
              0.1111111111111111,
              "#46039f"
             ],
             [
              0.2222222222222222,
              "#7201a8"
             ],
             [
              0.3333333333333333,
              "#9c179e"
             ],
             [
              0.4444444444444444,
              "#bd3786"
             ],
             [
              0.5555555555555556,
              "#d8576b"
             ],
             [
              0.6666666666666666,
              "#ed7953"
             ],
             [
              0.7777777777777778,
              "#fb9f3a"
             ],
             [
              0.8888888888888888,
              "#fdca26"
             ],
             [
              1,
              "#f0f921"
             ]
            ],
            "type": "contour"
           }
          ],
          "contourcarpet": [
           {
            "colorbar": {
             "outlinewidth": 0,
             "ticks": ""
            },
            "type": "contourcarpet"
           }
          ],
          "heatmap": [
           {
            "colorbar": {
             "outlinewidth": 0,
             "ticks": ""
            },
            "colorscale": [
             [
              0,
              "#0d0887"
             ],
             [
              0.1111111111111111,
              "#46039f"
             ],
             [
              0.2222222222222222,
              "#7201a8"
             ],
             [
              0.3333333333333333,
              "#9c179e"
             ],
             [
              0.4444444444444444,
              "#bd3786"
             ],
             [
              0.5555555555555556,
              "#d8576b"
             ],
             [
              0.6666666666666666,
              "#ed7953"
             ],
             [
              0.7777777777777778,
              "#fb9f3a"
             ],
             [
              0.8888888888888888,
              "#fdca26"
             ],
             [
              1,
              "#f0f921"
             ]
            ],
            "type": "heatmap"
           }
          ],
          "heatmapgl": [
           {
            "colorbar": {
             "outlinewidth": 0,
             "ticks": ""
            },
            "colorscale": [
             [
              0,
              "#0d0887"
             ],
             [
              0.1111111111111111,
              "#46039f"
             ],
             [
              0.2222222222222222,
              "#7201a8"
             ],
             [
              0.3333333333333333,
              "#9c179e"
             ],
             [
              0.4444444444444444,
              "#bd3786"
             ],
             [
              0.5555555555555556,
              "#d8576b"
             ],
             [
              0.6666666666666666,
              "#ed7953"
             ],
             [
              0.7777777777777778,
              "#fb9f3a"
             ],
             [
              0.8888888888888888,
              "#fdca26"
             ],
             [
              1,
              "#f0f921"
             ]
            ],
            "type": "heatmapgl"
           }
          ],
          "histogram": [
           {
            "marker": {
             "pattern": {
              "fillmode": "overlay",
              "size": 10,
              "solidity": 0.2
             }
            },
            "type": "histogram"
           }
          ],
          "histogram2d": [
           {
            "colorbar": {
             "outlinewidth": 0,
             "ticks": ""
            },
            "colorscale": [
             [
              0,
              "#0d0887"
             ],
             [
              0.1111111111111111,
              "#46039f"
             ],
             [
              0.2222222222222222,
              "#7201a8"
             ],
             [
              0.3333333333333333,
              "#9c179e"
             ],
             [
              0.4444444444444444,
              "#bd3786"
             ],
             [
              0.5555555555555556,
              "#d8576b"
             ],
             [
              0.6666666666666666,
              "#ed7953"
             ],
             [
              0.7777777777777778,
              "#fb9f3a"
             ],
             [
              0.8888888888888888,
              "#fdca26"
             ],
             [
              1,
              "#f0f921"
             ]
            ],
            "type": "histogram2d"
           }
          ],
          "histogram2dcontour": [
           {
            "colorbar": {
             "outlinewidth": 0,
             "ticks": ""
            },
            "colorscale": [
             [
              0,
              "#0d0887"
             ],
             [
              0.1111111111111111,
              "#46039f"
             ],
             [
              0.2222222222222222,
              "#7201a8"
             ],
             [
              0.3333333333333333,
              "#9c179e"
             ],
             [
              0.4444444444444444,
              "#bd3786"
             ],
             [
              0.5555555555555556,
              "#d8576b"
             ],
             [
              0.6666666666666666,
              "#ed7953"
             ],
             [
              0.7777777777777778,
              "#fb9f3a"
             ],
             [
              0.8888888888888888,
              "#fdca26"
             ],
             [
              1,
              "#f0f921"
             ]
            ],
            "type": "histogram2dcontour"
           }
          ],
          "mesh3d": [
           {
            "colorbar": {
             "outlinewidth": 0,
             "ticks": ""
            },
            "type": "mesh3d"
           }
          ],
          "parcoords": [
           {
            "line": {
             "colorbar": {
              "outlinewidth": 0,
              "ticks": ""
             }
            },
            "type": "parcoords"
           }
          ],
          "pie": [
           {
            "automargin": true,
            "type": "pie"
           }
          ],
          "scatter": [
           {
            "fillpattern": {
             "fillmode": "overlay",
             "size": 10,
             "solidity": 0.2
            },
            "type": "scatter"
           }
          ],
          "scatter3d": [
           {
            "line": {
             "colorbar": {
              "outlinewidth": 0,
              "ticks": ""
             }
            },
            "marker": {
             "colorbar": {
              "outlinewidth": 0,
              "ticks": ""
             }
            },
            "type": "scatter3d"
           }
          ],
          "scattercarpet": [
           {
            "marker": {
             "colorbar": {
              "outlinewidth": 0,
              "ticks": ""
             }
            },
            "type": "scattercarpet"
           }
          ],
          "scattergeo": [
           {
            "marker": {
             "colorbar": {
              "outlinewidth": 0,
              "ticks": ""
             }
            },
            "type": "scattergeo"
           }
          ],
          "scattergl": [
           {
            "marker": {
             "colorbar": {
              "outlinewidth": 0,
              "ticks": ""
             }
            },
            "type": "scattergl"
           }
          ],
          "scattermapbox": [
           {
            "marker": {
             "colorbar": {
              "outlinewidth": 0,
              "ticks": ""
             }
            },
            "type": "scattermapbox"
           }
          ],
          "scatterpolar": [
           {
            "marker": {
             "colorbar": {
              "outlinewidth": 0,
              "ticks": ""
             }
            },
            "type": "scatterpolar"
           }
          ],
          "scatterpolargl": [
           {
            "marker": {
             "colorbar": {
              "outlinewidth": 0,
              "ticks": ""
             }
            },
            "type": "scatterpolargl"
           }
          ],
          "scatterternary": [
           {
            "marker": {
             "colorbar": {
              "outlinewidth": 0,
              "ticks": ""
             }
            },
            "type": "scatterternary"
           }
          ],
          "surface": [
           {
            "colorbar": {
             "outlinewidth": 0,
             "ticks": ""
            },
            "colorscale": [
             [
              0,
              "#0d0887"
             ],
             [
              0.1111111111111111,
              "#46039f"
             ],
             [
              0.2222222222222222,
              "#7201a8"
             ],
             [
              0.3333333333333333,
              "#9c179e"
             ],
             [
              0.4444444444444444,
              "#bd3786"
             ],
             [
              0.5555555555555556,
              "#d8576b"
             ],
             [
              0.6666666666666666,
              "#ed7953"
             ],
             [
              0.7777777777777778,
              "#fb9f3a"
             ],
             [
              0.8888888888888888,
              "#fdca26"
             ],
             [
              1,
              "#f0f921"
             ]
            ],
            "type": "surface"
           }
          ],
          "table": [
           {
            "cells": {
             "fill": {
              "color": "#EBF0F8"
             },
             "line": {
              "color": "white"
             }
            },
            "header": {
             "fill": {
              "color": "#C8D4E3"
             },
             "line": {
              "color": "white"
             }
            },
            "type": "table"
           }
          ]
         },
         "layout": {
          "annotationdefaults": {
           "arrowcolor": "#2a3f5f",
           "arrowhead": 0,
           "arrowwidth": 1
          },
          "autotypenumbers": "strict",
          "coloraxis": {
           "colorbar": {
            "outlinewidth": 0,
            "ticks": ""
           }
          },
          "colorscale": {
           "diverging": [
            [
             0,
             "#8e0152"
            ],
            [
             0.1,
             "#c51b7d"
            ],
            [
             0.2,
             "#de77ae"
            ],
            [
             0.3,
             "#f1b6da"
            ],
            [
             0.4,
             "#fde0ef"
            ],
            [
             0.5,
             "#f7f7f7"
            ],
            [
             0.6,
             "#e6f5d0"
            ],
            [
             0.7,
             "#b8e186"
            ],
            [
             0.8,
             "#7fbc41"
            ],
            [
             0.9,
             "#4d9221"
            ],
            [
             1,
             "#276419"
            ]
           ],
           "sequential": [
            [
             0,
             "#0d0887"
            ],
            [
             0.1111111111111111,
             "#46039f"
            ],
            [
             0.2222222222222222,
             "#7201a8"
            ],
            [
             0.3333333333333333,
             "#9c179e"
            ],
            [
             0.4444444444444444,
             "#bd3786"
            ],
            [
             0.5555555555555556,
             "#d8576b"
            ],
            [
             0.6666666666666666,
             "#ed7953"
            ],
            [
             0.7777777777777778,
             "#fb9f3a"
            ],
            [
             0.8888888888888888,
             "#fdca26"
            ],
            [
             1,
             "#f0f921"
            ]
           ],
           "sequentialminus": [
            [
             0,
             "#0d0887"
            ],
            [
             0.1111111111111111,
             "#46039f"
            ],
            [
             0.2222222222222222,
             "#7201a8"
            ],
            [
             0.3333333333333333,
             "#9c179e"
            ],
            [
             0.4444444444444444,
             "#bd3786"
            ],
            [
             0.5555555555555556,
             "#d8576b"
            ],
            [
             0.6666666666666666,
             "#ed7953"
            ],
            [
             0.7777777777777778,
             "#fb9f3a"
            ],
            [
             0.8888888888888888,
             "#fdca26"
            ],
            [
             1,
             "#f0f921"
            ]
           ]
          },
          "colorway": [
           "#636efa",
           "#EF553B",
           "#00cc96",
           "#ab63fa",
           "#FFA15A",
           "#19d3f3",
           "#FF6692",
           "#B6E880",
           "#FF97FF",
           "#FECB52"
          ],
          "font": {
           "color": "#2a3f5f"
          },
          "geo": {
           "bgcolor": "white",
           "lakecolor": "white",
           "landcolor": "#E5ECF6",
           "showlakes": true,
           "showland": true,
           "subunitcolor": "white"
          },
          "hoverlabel": {
           "align": "left"
          },
          "hovermode": "closest",
          "mapbox": {
           "style": "light"
          },
          "paper_bgcolor": "white",
          "plot_bgcolor": "#E5ECF6",
          "polar": {
           "angularaxis": {
            "gridcolor": "white",
            "linecolor": "white",
            "ticks": ""
           },
           "bgcolor": "#E5ECF6",
           "radialaxis": {
            "gridcolor": "white",
            "linecolor": "white",
            "ticks": ""
           }
          },
          "scene": {
           "xaxis": {
            "backgroundcolor": "#E5ECF6",
            "gridcolor": "white",
            "gridwidth": 2,
            "linecolor": "white",
            "showbackground": true,
            "ticks": "",
            "zerolinecolor": "white"
           },
           "yaxis": {
            "backgroundcolor": "#E5ECF6",
            "gridcolor": "white",
            "gridwidth": 2,
            "linecolor": "white",
            "showbackground": true,
            "ticks": "",
            "zerolinecolor": "white"
           },
           "zaxis": {
            "backgroundcolor": "#E5ECF6",
            "gridcolor": "white",
            "gridwidth": 2,
            "linecolor": "white",
            "showbackground": true,
            "ticks": "",
            "zerolinecolor": "white"
           }
          },
          "shapedefaults": {
           "line": {
            "color": "#2a3f5f"
           }
          },
          "ternary": {
           "aaxis": {
            "gridcolor": "white",
            "linecolor": "white",
            "ticks": ""
           },
           "baxis": {
            "gridcolor": "white",
            "linecolor": "white",
            "ticks": ""
           },
           "bgcolor": "#E5ECF6",
           "caxis": {
            "gridcolor": "white",
            "linecolor": "white",
            "ticks": ""
           }
          },
          "title": {
           "x": 0.05
          },
          "xaxis": {
           "automargin": true,
           "gridcolor": "white",
           "linecolor": "white",
           "ticks": "",
           "title": {
            "standoff": 15
           },
           "zerolinecolor": "white",
           "zerolinewidth": 2
          },
          "yaxis": {
           "automargin": true,
           "gridcolor": "white",
           "linecolor": "white",
           "ticks": "",
           "title": {
            "standoff": 15
           },
           "zerolinecolor": "white",
           "zerolinewidth": 2
          }
         }
        }
       }
      },
      "text/html": [
       "<div>                            <div id=\"fac827a5-9180-4a37-a8f7-2abc6b8d1515\" class=\"plotly-graph-div\" style=\"height:525px; width:100%;\"></div>            <script type=\"text/javascript\">                require([\"plotly\"], function(Plotly) {                    window.PLOTLYENV=window.PLOTLYENV || {};                                    if (document.getElementById(\"fac827a5-9180-4a37-a8f7-2abc6b8d1515\")) {                    Plotly.newPlot(                        \"fac827a5-9180-4a37-a8f7-2abc6b8d1515\",                        [{\"ids\":[\"Nifty 50\",\"Nifty Next 50\",\"Nifty 100\",\"Nifty 200\",\"Nifty Total Market\",\"Nifty 500\",\"Nifty500 Multicap 50:25:25\",\"Nifty Midcap150\",\"Nifty Midcap 50\",\"Nifty Midcap Select\",\"Nifty Midcap 100\",\"Nifty Smallcap 250\",\"Nifty Smallcap 50\",\"Nifty Smallcap 100\",\"Nifty Microcap 250\",\"Nifty LargeMidcap 250\",\"Nifty MidSmallcap 400\",\"Nifty Auto\",\"Nifty Bank\",\"Nifty Financial Services\",\"Nifty Financial Services 25/50\",\"Nifty Financial Services Ex Bank\",\"Nifty FMCG\",\"Nifty Healthcare\",\"Nifty IT\",\"Nifty Media\",\"Nifty Metal\",\"Nifty Pharma\",\"Nifty Private Bank\",\"Nifty PSU Bank\",\"Nifty Realty\",\"Nifty Consumer Durables\",\"Nifty Oil and Gas\",\"Nifty MidSmall Financial Services\",\"Nifty MidSmall Healthcare\",\"Nifty MidSmall IT & Telecom\",\"Nifty Aditya Birla group\",\"Nifty Commodities\",\"Nifty CPSE\",\"Nifty Energy\",\"Nifty Housing\",\"Nifty India Consumption\",\"Nifty India Defence\",\"Nifty India Digital\",\"Nifty India Manufacturing\",\"Nifty Infrastructure\",\"Nifty Mahindra Group\",\"Nifty Midcap Liquid 15\",\"Nifty MidSmall India Consumption\",\"Nifty MNC\",\"Nifty Mobility\",\"Nifty PSE\",\"Nifty Non-Cyclical Consumer\",\"Nifty Services Sector\",\"Nifty Shariah 25\",\"Nifty Tata group\",\"Nifty Tata group 25% Cap\",\"Nifty Transportation & Logistics\",\"Nifty100 Liquid 15\",\"Nifty50 Shariah\",\"Nifty500 Shariah\",\"Nifty SME Emerge\",\"Nifty100 ESG\",\"Nifty100 Enhanced ESG\",\"Nifty100 ESG Sector Leaders\",\"Nifty100 Equal Weight\",\"Nifty100 Low Volatility 30\",\"Nifty 50 Arbitrage\",\"Nifty 50 Futures PR\",\"Nifty 50 Futures TR\",\"Nifty200 Momentum 30\",\"Nifty200 Alpha 30\",\"Nifty100 Alpha 30\",\"Nifty Alpha 50\",\"Nifty Alpha Low Volatility 30\",\"Nifty Alpha Quality Low Volatility 30\",\"Nifty Alpha Quality Value Low Volatility 30\",\"Nifty Dividend Opportunities 50\",\"Nifty Growth Sectors 15\",\"Nifty High Beta 50\",\"Nifty Low Volatility 50\",\"Nifty100 Quality 30\",\"Nifty Midcap150 Momentum 50\",\"Nifty Midcap150 Quality 50\",\"Nifty Smallcap250 Quality 50\",\"Nifty Quality Low Volatility 30\",\"Nifty50 Dividend Points\",\"Nifty50 Equal Weight\",\"Nifty50 PR 1x Inverse\",\"Nifty50 PR 2x Leverage\",\"Nifty50 TR 1x Inverse\",\"Nifty50 TR 2x Leverage\",\"Nifty50 USD\",\"Nifty50 Value 20\",\"Nifty500 Value 50\",\"Nifty200 Quality 30\",\"Nifty50 & Short Duration Debt \\u2013 Dynamic P/B\",\"Nifty50 & Short Duration Debt \\u2013 Dynamic P/E\",\"Nifty Equity Savings\",\"Nifty Ultra Short Duration G-Sec Index\",\"Nifty Low Duration G-Sec Index\",\"Nifty Short Duration G-Sec Index\",\"Nifty Medium Duration G-Sec Index\",\"Nifty Medium to Long Duration G-Sec Index\",\"Nifty Long Duration G-Sec Index\",\"Nifty 8-13 yr G-Sec\",\"Nifty 10 yr Benchmark G-Sec\",\"Nifty 10 yr Benchmark G-Sec (Clean Price)\",\"Nifty 4-8 yr G-Sec\",\"Nifty 11-15 yr G-Sec\",\"Nifty 15 yr and above G-Sec\",\"Nifty Composite G-Sec\",\"Nifty 5 yr Benchmark G-Sec\",\"Nifty India Select 7 Government Bond (INR)\",\"Nifty India Select 7 Government Bond (USD)\",\"Nifty 10 Year SDL\",\"Nifty AAA Corporate Bond Indices\",\"Nifty AA Category Corporate Bond Indices\",\"Nifty AA+ Corporate Bond Indices\",\"Nifty AA Corporate Bond Indices\",\"Nifty AA- Corporate Bond Indices\",\"Nifty A Corporate Bond Indices\",\"Nifty Banking & PSU Bond Indices\",\"Commercial Papers Indices\",\"T-Bills Series\",\"Nifty 1D Rate\",\"Nifty Fixed Income Aggregate Indices\"],\"insidetextorientation\":\"radial\",\"labels\":[\"Equity\",\"Equity\",\"Equity\",\"Equity\",\"Equity\",\"Equity\",\"Equity\",\"Equity\",\"Equity\",\"Equity\",\"Equity\",\"Equity\",\"Equity\",\"Equity\",\"Equity\",\"Equity\",\"Equity\",\"Equity\",\"Equity\",\"Equity\",\"Equity\",\"Equity\",\"Equity\",\"Equity\",\"Equity\",\"Equity\",\"Equity\",\"Equity\",\"Equity\",\"Equity\",\"Equity\",\"Equity\",\"Equity\",\"Equity\",\"Equity\",\"Equity\",\"Equity\",\"Equity\",\"Equity\",\"Equity\",\"Equity\",\"Equity\",\"Equity\",\"Equity\",\"Equity\",\"Equity\",\"Equity\",\"Equity\",\"Equity\",\"Equity\",\"Equity\",\"Equity\",\"Equity\",\"Equity\",\"Equity\",\"Equity\",\"Equity\",\"Equity\",\"Equity\",\"Equity\",\"Equity\",\"Equity\",\"Equity\",\"Equity\",\"Equity\",\"Equity\",\"Equity\",\"Equity\",\"Equity\",\"Equity\",\"Equity\",\"Equity\",\"Equity\",\"Equity\",\"Equity\",\"Equity\",\"Equity\",\"Equity\",\"Equity\",\"Equity\",\"Equity\",\"Equity\",\"Equity\",\"Equity\",\"Equity\",\"Equity\",\"Equity\",\"Equity\",\"Equity\",\"Equity\",\"Equity\",\"Equity\",\"Equity\",\"Equity\",\"Equity\",\"Equity\",\"Equity\",\"Equity\",\"Equity\",\"Fixed Income\",\"Fixed Income\",\"Fixed Income\",\"Fixed Income\",\"Fixed Income\",\"Fixed Income\",\"Fixed Income\",\"Fixed Income\",\"Fixed Income\",\"Fixed Income\",\"Fixed Income\",\"Fixed Income\",\"Fixed Income\",\"Fixed Income\",\"Fixed Income\",\"Fixed Income\",\"Fixed Income\",\"Fixed Income\",\"Fixed Income\",\"Fixed Income\",\"Fixed Income\",\"Fixed Income\",\"Fixed Income\",\"Fixed Income\",\"Fixed Income\",\"Fixed Income\",\"Fixed Income\",\"Fixed Income\"],\"parents\":[\"Broad Based Indices\",\"Broad Based Indices\",\"Broad Based Indices\",\"Broad Based Indices\",\"Broad Based Indices\",\"Broad Based Indices\",\"Broad Based Indices\",\"Broad Based Indices\",\"Broad Based Indices\",\"Broad Based Indices\",\"Broad Based Indices\",\"Broad Based Indices\",\"Broad Based Indices\",\"Broad Based Indices\",\"Broad Based Indices\",\"Broad Based Indices\",\"Broad Based Indices\",\"Sectoral Indices\",\"Sectoral Indices\",\"Sectoral Indices\",\"Sectoral Indices\",\"Sectoral Indices\",\"Sectoral Indices\",\"Sectoral Indices\",\"Sectoral Indices\",\"Sectoral Indices\",\"Sectoral Indices\",\"Sectoral Indices\",\"Sectoral Indices\",\"Sectoral Indices\",\"Sectoral Indices\",\"Sectoral Indices\",\"Sectoral Indices\",\"Sectoral Indices\",\"Sectoral Indices\",\"Sectoral Indices\",\"Thematic Indices\",\"Thematic Indices\",\"Thematic Indices\",\"Thematic Indices\",\"Thematic Indices\",\"Thematic Indices\",\"Thematic Indices\",\"Thematic Indices\",\"Thematic Indices\",\"Thematic Indices\",\"Thematic Indices\",\"Thematic Indices\",\"Thematic Indices\",\"Thematic Indices\",\"Thematic Indices\",\"Thematic Indices\",\"Thematic Indices\",\"Thematic Indices\",\"Thematic Indices\",\"Thematic Indices\",\"Thematic Indices\",\"Thematic Indices\",\"Thematic Indices\",\"Thematic Indices\",\"Thematic Indices\",\"Thematic Indices\",\"Thematic Indices\",\"Thematic Indices\",\"Thematic Indices\",\"Strategy Indices\",\"Strategy Indices\",\"Strategy Indices\",\"Strategy Indices\",\"Strategy Indices\",\"Strategy Indices\",\"Strategy Indices\",\"Strategy Indices\",\"Strategy Indices\",\"Strategy Indices\",\"Strategy Indices\",\"Strategy Indices\",\"Strategy Indices\",\"Strategy Indices\",\"Strategy Indices\",\"Strategy Indices\",\"Strategy Indices\",\"Strategy Indices\",\"Strategy Indices\",\"Strategy Indices\",\"Strategy Indices\",\"Strategy Indices\",\"Strategy Indices\",\"Strategy Indices\",\"Strategy Indices\",\"Strategy Indices\",\"Strategy Indices\",\"Strategy Indices\",\"Strategy Indices\",\"Strategy Indices\",\"Strategy Indices\",\"Strategy Indices\",\"Strategy Indices\",\"Strategy Indices\",\"G-Sec Indices\",\"G-Sec Indices\",\"G-Sec Indices\",\"G-Sec Indices\",\"G-Sec Indices\",\"G-Sec Indices\",\"G-Sec Indices\",\"G-Sec Indices\",\"G-Sec Indices\",\"G-Sec Indices\",\"G-Sec Indices\",\"G-Sec Indices\",\"G-Sec Indices\",\"G-Sec Indices\",\"G-Sec Indices\",\"G-Sec Indices\",\"SDL Indices\",\"Corporate Bond Indices\",\"Corporate Bond Indices\",\"Corporate Bond Indices\",\"Corporate Bond Indices\",\"Corporate Bond Indices\",\"Corporate Bond Indices\",\"Corporate Bond Indices\",\"Money Market Indices\",\"Money Market Indices\",\"Money Market Indices\",\"Aggregate Indices\"],\"type\":\"sunburst\"}],                        {\"template\":{\"data\":{\"histogram2dcontour\":[{\"type\":\"histogram2dcontour\",\"colorbar\":{\"outlinewidth\":0,\"ticks\":\"\"},\"colorscale\":[[0.0,\"#0d0887\"],[0.1111111111111111,\"#46039f\"],[0.2222222222222222,\"#7201a8\"],[0.3333333333333333,\"#9c179e\"],[0.4444444444444444,\"#bd3786\"],[0.5555555555555556,\"#d8576b\"],[0.6666666666666666,\"#ed7953\"],[0.7777777777777778,\"#fb9f3a\"],[0.8888888888888888,\"#fdca26\"],[1.0,\"#f0f921\"]]}],\"choropleth\":[{\"type\":\"choropleth\",\"colorbar\":{\"outlinewidth\":0,\"ticks\":\"\"}}],\"histogram2d\":[{\"type\":\"histogram2d\",\"colorbar\":{\"outlinewidth\":0,\"ticks\":\"\"},\"colorscale\":[[0.0,\"#0d0887\"],[0.1111111111111111,\"#46039f\"],[0.2222222222222222,\"#7201a8\"],[0.3333333333333333,\"#9c179e\"],[0.4444444444444444,\"#bd3786\"],[0.5555555555555556,\"#d8576b\"],[0.6666666666666666,\"#ed7953\"],[0.7777777777777778,\"#fb9f3a\"],[0.8888888888888888,\"#fdca26\"],[1.0,\"#f0f921\"]]}],\"heatmap\":[{\"type\":\"heatmap\",\"colorbar\":{\"outlinewidth\":0,\"ticks\":\"\"},\"colorscale\":[[0.0,\"#0d0887\"],[0.1111111111111111,\"#46039f\"],[0.2222222222222222,\"#7201a8\"],[0.3333333333333333,\"#9c179e\"],[0.4444444444444444,\"#bd3786\"],[0.5555555555555556,\"#d8576b\"],[0.6666666666666666,\"#ed7953\"],[0.7777777777777778,\"#fb9f3a\"],[0.8888888888888888,\"#fdca26\"],[1.0,\"#f0f921\"]]}],\"heatmapgl\":[{\"type\":\"heatmapgl\",\"colorbar\":{\"outlinewidth\":0,\"ticks\":\"\"},\"colorscale\":[[0.0,\"#0d0887\"],[0.1111111111111111,\"#46039f\"],[0.2222222222222222,\"#7201a8\"],[0.3333333333333333,\"#9c179e\"],[0.4444444444444444,\"#bd3786\"],[0.5555555555555556,\"#d8576b\"],[0.6666666666666666,\"#ed7953\"],[0.7777777777777778,\"#fb9f3a\"],[0.8888888888888888,\"#fdca26\"],[1.0,\"#f0f921\"]]}],\"contourcarpet\":[{\"type\":\"contourcarpet\",\"colorbar\":{\"outlinewidth\":0,\"ticks\":\"\"}}],\"contour\":[{\"type\":\"contour\",\"colorbar\":{\"outlinewidth\":0,\"ticks\":\"\"},\"colorscale\":[[0.0,\"#0d0887\"],[0.1111111111111111,\"#46039f\"],[0.2222222222222222,\"#7201a8\"],[0.3333333333333333,\"#9c179e\"],[0.4444444444444444,\"#bd3786\"],[0.5555555555555556,\"#d8576b\"],[0.6666666666666666,\"#ed7953\"],[0.7777777777777778,\"#fb9f3a\"],[0.8888888888888888,\"#fdca26\"],[1.0,\"#f0f921\"]]}],\"surface\":[{\"type\":\"surface\",\"colorbar\":{\"outlinewidth\":0,\"ticks\":\"\"},\"colorscale\":[[0.0,\"#0d0887\"],[0.1111111111111111,\"#46039f\"],[0.2222222222222222,\"#7201a8\"],[0.3333333333333333,\"#9c179e\"],[0.4444444444444444,\"#bd3786\"],[0.5555555555555556,\"#d8576b\"],[0.6666666666666666,\"#ed7953\"],[0.7777777777777778,\"#fb9f3a\"],[0.8888888888888888,\"#fdca26\"],[1.0,\"#f0f921\"]]}],\"mesh3d\":[{\"type\":\"mesh3d\",\"colorbar\":{\"outlinewidth\":0,\"ticks\":\"\"}}],\"scatter\":[{\"fillpattern\":{\"fillmode\":\"overlay\",\"size\":10,\"solidity\":0.2},\"type\":\"scatter\"}],\"parcoords\":[{\"type\":\"parcoords\",\"line\":{\"colorbar\":{\"outlinewidth\":0,\"ticks\":\"\"}}}],\"scatterpolargl\":[{\"type\":\"scatterpolargl\",\"marker\":{\"colorbar\":{\"outlinewidth\":0,\"ticks\":\"\"}}}],\"bar\":[{\"error_x\":{\"color\":\"#2a3f5f\"},\"error_y\":{\"color\":\"#2a3f5f\"},\"marker\":{\"line\":{\"color\":\"#E5ECF6\",\"width\":0.5},\"pattern\":{\"fillmode\":\"overlay\",\"size\":10,\"solidity\":0.2}},\"type\":\"bar\"}],\"scattergeo\":[{\"type\":\"scattergeo\",\"marker\":{\"colorbar\":{\"outlinewidth\":0,\"ticks\":\"\"}}}],\"scatterpolar\":[{\"type\":\"scatterpolar\",\"marker\":{\"colorbar\":{\"outlinewidth\":0,\"ticks\":\"\"}}}],\"histogram\":[{\"marker\":{\"pattern\":{\"fillmode\":\"overlay\",\"size\":10,\"solidity\":0.2}},\"type\":\"histogram\"}],\"scattergl\":[{\"type\":\"scattergl\",\"marker\":{\"colorbar\":{\"outlinewidth\":0,\"ticks\":\"\"}}}],\"scatter3d\":[{\"type\":\"scatter3d\",\"line\":{\"colorbar\":{\"outlinewidth\":0,\"ticks\":\"\"}},\"marker\":{\"colorbar\":{\"outlinewidth\":0,\"ticks\":\"\"}}}],\"scattermapbox\":[{\"type\":\"scattermapbox\",\"marker\":{\"colorbar\":{\"outlinewidth\":0,\"ticks\":\"\"}}}],\"scatterternary\":[{\"type\":\"scatterternary\",\"marker\":{\"colorbar\":{\"outlinewidth\":0,\"ticks\":\"\"}}}],\"scattercarpet\":[{\"type\":\"scattercarpet\",\"marker\":{\"colorbar\":{\"outlinewidth\":0,\"ticks\":\"\"}}}],\"carpet\":[{\"aaxis\":{\"endlinecolor\":\"#2a3f5f\",\"gridcolor\":\"white\",\"linecolor\":\"white\",\"minorgridcolor\":\"white\",\"startlinecolor\":\"#2a3f5f\"},\"baxis\":{\"endlinecolor\":\"#2a3f5f\",\"gridcolor\":\"white\",\"linecolor\":\"white\",\"minorgridcolor\":\"white\",\"startlinecolor\":\"#2a3f5f\"},\"type\":\"carpet\"}],\"table\":[{\"cells\":{\"fill\":{\"color\":\"#EBF0F8\"},\"line\":{\"color\":\"white\"}},\"header\":{\"fill\":{\"color\":\"#C8D4E3\"},\"line\":{\"color\":\"white\"}},\"type\":\"table\"}],\"barpolar\":[{\"marker\":{\"line\":{\"color\":\"#E5ECF6\",\"width\":0.5},\"pattern\":{\"fillmode\":\"overlay\",\"size\":10,\"solidity\":0.2}},\"type\":\"barpolar\"}],\"pie\":[{\"automargin\":true,\"type\":\"pie\"}]},\"layout\":{\"autotypenumbers\":\"strict\",\"colorway\":[\"#636efa\",\"#EF553B\",\"#00cc96\",\"#ab63fa\",\"#FFA15A\",\"#19d3f3\",\"#FF6692\",\"#B6E880\",\"#FF97FF\",\"#FECB52\"],\"font\":{\"color\":\"#2a3f5f\"},\"hovermode\":\"closest\",\"hoverlabel\":{\"align\":\"left\"},\"paper_bgcolor\":\"white\",\"plot_bgcolor\":\"#E5ECF6\",\"polar\":{\"bgcolor\":\"#E5ECF6\",\"angularaxis\":{\"gridcolor\":\"white\",\"linecolor\":\"white\",\"ticks\":\"\"},\"radialaxis\":{\"gridcolor\":\"white\",\"linecolor\":\"white\",\"ticks\":\"\"}},\"ternary\":{\"bgcolor\":\"#E5ECF6\",\"aaxis\":{\"gridcolor\":\"white\",\"linecolor\":\"white\",\"ticks\":\"\"},\"baxis\":{\"gridcolor\":\"white\",\"linecolor\":\"white\",\"ticks\":\"\"},\"caxis\":{\"gridcolor\":\"white\",\"linecolor\":\"white\",\"ticks\":\"\"}},\"coloraxis\":{\"colorbar\":{\"outlinewidth\":0,\"ticks\":\"\"}},\"colorscale\":{\"sequential\":[[0.0,\"#0d0887\"],[0.1111111111111111,\"#46039f\"],[0.2222222222222222,\"#7201a8\"],[0.3333333333333333,\"#9c179e\"],[0.4444444444444444,\"#bd3786\"],[0.5555555555555556,\"#d8576b\"],[0.6666666666666666,\"#ed7953\"],[0.7777777777777778,\"#fb9f3a\"],[0.8888888888888888,\"#fdca26\"],[1.0,\"#f0f921\"]],\"sequentialminus\":[[0.0,\"#0d0887\"],[0.1111111111111111,\"#46039f\"],[0.2222222222222222,\"#7201a8\"],[0.3333333333333333,\"#9c179e\"],[0.4444444444444444,\"#bd3786\"],[0.5555555555555556,\"#d8576b\"],[0.6666666666666666,\"#ed7953\"],[0.7777777777777778,\"#fb9f3a\"],[0.8888888888888888,\"#fdca26\"],[1.0,\"#f0f921\"]],\"diverging\":[[0,\"#8e0152\"],[0.1,\"#c51b7d\"],[0.2,\"#de77ae\"],[0.3,\"#f1b6da\"],[0.4,\"#fde0ef\"],[0.5,\"#f7f7f7\"],[0.6,\"#e6f5d0\"],[0.7,\"#b8e186\"],[0.8,\"#7fbc41\"],[0.9,\"#4d9221\"],[1,\"#276419\"]]},\"xaxis\":{\"gridcolor\":\"white\",\"linecolor\":\"white\",\"ticks\":\"\",\"title\":{\"standoff\":15},\"zerolinecolor\":\"white\",\"automargin\":true,\"zerolinewidth\":2},\"yaxis\":{\"gridcolor\":\"white\",\"linecolor\":\"white\",\"ticks\":\"\",\"title\":{\"standoff\":15},\"zerolinecolor\":\"white\",\"automargin\":true,\"zerolinewidth\":2},\"scene\":{\"xaxis\":{\"backgroundcolor\":\"#E5ECF6\",\"gridcolor\":\"white\",\"linecolor\":\"white\",\"showbackground\":true,\"ticks\":\"\",\"zerolinecolor\":\"white\",\"gridwidth\":2},\"yaxis\":{\"backgroundcolor\":\"#E5ECF6\",\"gridcolor\":\"white\",\"linecolor\":\"white\",\"showbackground\":true,\"ticks\":\"\",\"zerolinecolor\":\"white\",\"gridwidth\":2},\"zaxis\":{\"backgroundcolor\":\"#E5ECF6\",\"gridcolor\":\"white\",\"linecolor\":\"white\",\"showbackground\":true,\"ticks\":\"\",\"zerolinecolor\":\"white\",\"gridwidth\":2}},\"shapedefaults\":{\"line\":{\"color\":\"#2a3f5f\"}},\"annotationdefaults\":{\"arrowcolor\":\"#2a3f5f\",\"arrowhead\":0,\"arrowwidth\":1},\"geo\":{\"bgcolor\":\"white\",\"landcolor\":\"#E5ECF6\",\"subunitcolor\":\"white\",\"showland\":true,\"showlakes\":true,\"lakecolor\":\"white\"},\"title\":{\"x\":0.05},\"mapbox\":{\"style\":\"light\"}}},\"margin\":{\"t\":10,\"l\":10,\"r\":10,\"b\":10}},                        {\"responsive\": true}                    ).then(function(){\n",
       "                            \n",
       "var gd = document.getElementById('fac827a5-9180-4a37-a8f7-2abc6b8d1515');\n",
       "var x = new MutationObserver(function (mutations, observer) {{\n",
       "        var display = window.getComputedStyle(gd).display;\n",
       "        if (!display || display === 'none') {{\n",
       "            console.log([gd, 'removed!']);\n",
       "            Plotly.purge(gd);\n",
       "            observer.disconnect();\n",
       "        }}\n",
       "}});\n",
       "\n",
       "// Listen for the removal of the full notebook cells\n",
       "var notebookContainer = gd.closest('#notebook-container');\n",
       "if (notebookContainer) {{\n",
       "    x.observe(notebookContainer, {childList: true});\n",
       "}}\n",
       "\n",
       "// Listen for the clearing of the current output cell\n",
       "var outputEl = gd.closest('.output');\n",
       "if (outputEl) {{\n",
       "    x.observe(outputEl, {childList: true});\n",
       "}}\n",
       "\n",
       "                        })                };                });            </script>        </div>"
      ]
     },
     "metadata": {},
     "output_type": "display_data"
    }
   ],
   "source": [
    "# chart with customization\n",
    "# Controlling text orientation inside sunburst sectors\n",
    "\n",
    "\n",
    "import plotly.graph_objects as go\n",
    "\n",
    "fig = go.Figure()\n",
    "\n",
    "\n",
    "fig.add_trace(go.Sunburst(\n",
    "    ids=df.IndexName,\n",
    "    labels=df.SubCategory,\n",
    "    parents=df.Category,\n",
    "    insidetextorientation='radial'\n",
    "))\n",
    "\n",
    "fig.update_layout(\n",
    "    margin = dict(t=10, l=10, r=10, b=10)\n",
    ")\n",
    "\n",
    "fig.show()"
   ]
  },
  {
   "cell_type": "code",
   "execution_count": null,
   "metadata": {},
   "outputs": [],
   "source": []
  },
  {
   "cell_type": "code",
   "execution_count": null,
   "metadata": {},
   "outputs": [],
   "source": []
  },
  {
   "cell_type": "code",
   "execution_count": null,
   "metadata": {},
   "outputs": [],
   "source": []
  },
  {
   "cell_type": "code",
   "execution_count": null,
   "metadata": {},
   "outputs": [],
   "source": []
  },
  {
   "cell_type": "markdown",
   "metadata": {},
   "source": [
    "## Nested Pie using Matplotlib"
   ]
  },
  {
   "cell_type": "code",
   "execution_count": null,
   "metadata": {},
   "outputs": [],
   "source": []
  },
  {
   "cell_type": "code",
   "execution_count": null,
   "metadata": {},
   "outputs": [],
   "source": []
  },
  {
   "cell_type": "code",
   "execution_count": null,
   "metadata": {},
   "outputs": [],
   "source": []
  },
  {
   "cell_type": "code",
   "execution_count": null,
   "metadata": {},
   "outputs": [],
   "source": []
  }
 ],
 "metadata": {
  "kernelspec": {
   "display_name": "Python [conda env:root] *",
   "language": "python",
   "name": "conda-root-py"
  },
  "language_info": {
   "codemirror_mode": {
    "name": "ipython",
    "version": 3
   },
   "file_extension": ".py",
   "mimetype": "text/x-python",
   "name": "python",
   "nbconvert_exporter": "python",
   "pygments_lexer": "ipython3",
   "version": "3.8.5"
  }
 },
 "nbformat": 4,
 "nbformat_minor": 4
}
