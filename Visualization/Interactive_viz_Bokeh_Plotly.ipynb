{
 "cells": [
  {
   "cell_type": "markdown",
   "metadata": {},
   "source": [
    "## Bokeh"
   ]
  },
  {
   "cell_type": "code",
   "execution_count": 2,
   "metadata": {},
   "outputs": [
    {
     "name": "stdout",
     "output_type": "stream",
     "text": [
      "Requirement already satisfied: bokeh in c:\\users\\dhaval_patel\\anaconda3\\lib\\site-packages (2.2.3)\n",
      "Requirement already satisfied: typing-extensions>=3.7.4 in c:\\users\\dhaval_patel\\anaconda3\\lib\\site-packages (from bokeh) (3.7.4.3)\n",
      "Requirement already satisfied: PyYAML>=3.10 in c:\\users\\dhaval_patel\\anaconda3\\lib\\site-packages (from bokeh) (5.3.1)\n",
      "Requirement already satisfied: python-dateutil>=2.1 in c:\\users\\dhaval_patel\\anaconda3\\lib\\site-packages (from bokeh) (2.8.1)\n",
      "Requirement already satisfied: Jinja2>=2.7 in c:\\users\\dhaval_patel\\anaconda3\\lib\\site-packages (from bokeh) (2.11.2)\n",
      "Requirement already satisfied: numpy>=1.11.3 in c:\\users\\dhaval_patel\\anaconda3\\lib\\site-packages (from bokeh) (1.19.2)\n",
      "Requirement already satisfied: pillow>=7.1.0 in c:\\users\\dhaval_patel\\anaconda3\\lib\\site-packages (from bokeh) (8.0.1)\n",
      "Requirement already satisfied: tornado>=5.1 in c:\\users\\dhaval_patel\\anaconda3\\lib\\site-packages (from bokeh) (6.0.4)\n",
      "Requirement already satisfied: packaging>=16.8 in c:\\users\\dhaval_patel\\anaconda3\\lib\\site-packages (from bokeh) (20.4)\n",
      "Requirement already satisfied: six>=1.5 in c:\\users\\dhaval_patel\\anaconda3\\lib\\site-packages (from python-dateutil>=2.1->bokeh) (1.15.0)\n",
      "Requirement already satisfied: MarkupSafe>=0.23 in c:\\users\\dhaval_patel\\anaconda3\\lib\\site-packages (from Jinja2>=2.7->bokeh) (1.1.1)\n",
      "Requirement already satisfied: pyparsing>=2.0.2 in c:\\users\\dhaval_patel\\anaconda3\\lib\\site-packages (from packaging>=16.8->bokeh) (2.4.7)\n"
     ]
    }
   ],
   "source": [
    "!pip install bokeh"
   ]
  },
  {
   "cell_type": "code",
   "execution_count": 49,
   "metadata": {},
   "outputs": [
    {
     "data": {
      "text/html": [
       "\n",
       "    <div class=\"bk-root\">\n",
       "        <a href=\"https://bokeh.org\" target=\"_blank\" class=\"bk-logo bk-logo-small bk-logo-notebook\"></a>\n",
       "        <span id=\"2208\">Loading BokehJS ...</span>\n",
       "    </div>"
      ]
     },
     "metadata": {},
     "output_type": "display_data"
    },
    {
     "data": {
      "application/javascript": [
       "\n",
       "(function(root) {\n",
       "  function now() {\n",
       "    return new Date();\n",
       "  }\n",
       "\n",
       "  var force = true;\n",
       "\n",
       "  if (typeof root._bokeh_onload_callbacks === \"undefined\" || force === true) {\n",
       "    root._bokeh_onload_callbacks = [];\n",
       "    root._bokeh_is_loading = undefined;\n",
       "  }\n",
       "\n",
       "  var JS_MIME_TYPE = 'application/javascript';\n",
       "  var HTML_MIME_TYPE = 'text/html';\n",
       "  var EXEC_MIME_TYPE = 'application/vnd.bokehjs_exec.v0+json';\n",
       "  var CLASS_NAME = 'output_bokeh rendered_html';\n",
       "\n",
       "  /**\n",
       "   * Render data to the DOM node\n",
       "   */\n",
       "  function render(props, node) {\n",
       "    var script = document.createElement(\"script\");\n",
       "    node.appendChild(script);\n",
       "  }\n",
       "\n",
       "  /**\n",
       "   * Handle when an output is cleared or removed\n",
       "   */\n",
       "  function handleClearOutput(event, handle) {\n",
       "    var cell = handle.cell;\n",
       "\n",
       "    var id = cell.output_area._bokeh_element_id;\n",
       "    var server_id = cell.output_area._bokeh_server_id;\n",
       "    // Clean up Bokeh references\n",
       "    if (id != null && id in Bokeh.index) {\n",
       "      Bokeh.index[id].model.document.clear();\n",
       "      delete Bokeh.index[id];\n",
       "    }\n",
       "\n",
       "    if (server_id !== undefined) {\n",
       "      // Clean up Bokeh references\n",
       "      var cmd = \"from bokeh.io.state import curstate; print(curstate().uuid_to_server['\" + server_id + \"'].get_sessions()[0].document.roots[0]._id)\";\n",
       "      cell.notebook.kernel.execute(cmd, {\n",
       "        iopub: {\n",
       "          output: function(msg) {\n",
       "            var id = msg.content.text.trim();\n",
       "            if (id in Bokeh.index) {\n",
       "              Bokeh.index[id].model.document.clear();\n",
       "              delete Bokeh.index[id];\n",
       "            }\n",
       "          }\n",
       "        }\n",
       "      });\n",
       "      // Destroy server and session\n",
       "      var cmd = \"import bokeh.io.notebook as ion; ion.destroy_server('\" + server_id + \"')\";\n",
       "      cell.notebook.kernel.execute(cmd);\n",
       "    }\n",
       "  }\n",
       "\n",
       "  /**\n",
       "   * Handle when a new output is added\n",
       "   */\n",
       "  function handleAddOutput(event, handle) {\n",
       "    var output_area = handle.output_area;\n",
       "    var output = handle.output;\n",
       "\n",
       "    // limit handleAddOutput to display_data with EXEC_MIME_TYPE content only\n",
       "    if ((output.output_type != \"display_data\") || (!output.data.hasOwnProperty(EXEC_MIME_TYPE))) {\n",
       "      return\n",
       "    }\n",
       "\n",
       "    var toinsert = output_area.element.find(\".\" + CLASS_NAME.split(' ')[0]);\n",
       "\n",
       "    if (output.metadata[EXEC_MIME_TYPE][\"id\"] !== undefined) {\n",
       "      toinsert[toinsert.length - 1].firstChild.textContent = output.data[JS_MIME_TYPE];\n",
       "      // store reference to embed id on output_area\n",
       "      output_area._bokeh_element_id = output.metadata[EXEC_MIME_TYPE][\"id\"];\n",
       "    }\n",
       "    if (output.metadata[EXEC_MIME_TYPE][\"server_id\"] !== undefined) {\n",
       "      var bk_div = document.createElement(\"div\");\n",
       "      bk_div.innerHTML = output.data[HTML_MIME_TYPE];\n",
       "      var script_attrs = bk_div.children[0].attributes;\n",
       "      for (var i = 0; i < script_attrs.length; i++) {\n",
       "        toinsert[toinsert.length - 1].firstChild.setAttribute(script_attrs[i].name, script_attrs[i].value);\n",
       "        toinsert[toinsert.length - 1].firstChild.textContent = bk_div.children[0].textContent\n",
       "      }\n",
       "      // store reference to server id on output_area\n",
       "      output_area._bokeh_server_id = output.metadata[EXEC_MIME_TYPE][\"server_id\"];\n",
       "    }\n",
       "  }\n",
       "\n",
       "  function register_renderer(events, OutputArea) {\n",
       "\n",
       "    function append_mime(data, metadata, element) {\n",
       "      // create a DOM node to render to\n",
       "      var toinsert = this.create_output_subarea(\n",
       "        metadata,\n",
       "        CLASS_NAME,\n",
       "        EXEC_MIME_TYPE\n",
       "      );\n",
       "      this.keyboard_manager.register_events(toinsert);\n",
       "      // Render to node\n",
       "      var props = {data: data, metadata: metadata[EXEC_MIME_TYPE]};\n",
       "      render(props, toinsert[toinsert.length - 1]);\n",
       "      element.append(toinsert);\n",
       "      return toinsert\n",
       "    }\n",
       "\n",
       "    /* Handle when an output is cleared or removed */\n",
       "    events.on('clear_output.CodeCell', handleClearOutput);\n",
       "    events.on('delete.Cell', handleClearOutput);\n",
       "\n",
       "    /* Handle when a new output is added */\n",
       "    events.on('output_added.OutputArea', handleAddOutput);\n",
       "\n",
       "    /**\n",
       "     * Register the mime type and append_mime function with output_area\n",
       "     */\n",
       "    OutputArea.prototype.register_mime_type(EXEC_MIME_TYPE, append_mime, {\n",
       "      /* Is output safe? */\n",
       "      safe: true,\n",
       "      /* Index of renderer in `output_area.display_order` */\n",
       "      index: 0\n",
       "    });\n",
       "  }\n",
       "\n",
       "  // register the mime type if in Jupyter Notebook environment and previously unregistered\n",
       "  if (root.Jupyter !== undefined) {\n",
       "    var events = require('base/js/events');\n",
       "    var OutputArea = require('notebook/js/outputarea').OutputArea;\n",
       "\n",
       "    if (OutputArea.prototype.mime_types().indexOf(EXEC_MIME_TYPE) == -1) {\n",
       "      register_renderer(events, OutputArea);\n",
       "    }\n",
       "  }\n",
       "\n",
       "  \n",
       "  if (typeof (root._bokeh_timeout) === \"undefined\" || force === true) {\n",
       "    root._bokeh_timeout = Date.now() + 5000;\n",
       "    root._bokeh_failed_load = false;\n",
       "  }\n",
       "\n",
       "  var NB_LOAD_WARNING = {'data': {'text/html':\n",
       "     \"<div style='background-color: #fdd'>\\n\"+\n",
       "     \"<p>\\n\"+\n",
       "     \"BokehJS does not appear to have successfully loaded. If loading BokehJS from CDN, this \\n\"+\n",
       "     \"may be due to a slow or bad network connection. Possible fixes:\\n\"+\n",
       "     \"</p>\\n\"+\n",
       "     \"<ul>\\n\"+\n",
       "     \"<li>re-rerun `output_notebook()` to attempt to load from CDN again, or</li>\\n\"+\n",
       "     \"<li>use INLINE resources instead, as so:</li>\\n\"+\n",
       "     \"</ul>\\n\"+\n",
       "     \"<code>\\n\"+\n",
       "     \"from bokeh.resources import INLINE\\n\"+\n",
       "     \"output_notebook(resources=INLINE)\\n\"+\n",
       "     \"</code>\\n\"+\n",
       "     \"</div>\"}};\n",
       "\n",
       "  function display_loaded() {\n",
       "    var el = document.getElementById(\"2208\");\n",
       "    if (el != null) {\n",
       "      el.textContent = \"BokehJS is loading...\";\n",
       "    }\n",
       "    if (root.Bokeh !== undefined) {\n",
       "      if (el != null) {\n",
       "        el.textContent = \"BokehJS \" + root.Bokeh.version + \" successfully loaded.\";\n",
       "      }\n",
       "    } else if (Date.now() < root._bokeh_timeout) {\n",
       "      setTimeout(display_loaded, 100)\n",
       "    }\n",
       "  }\n",
       "\n",
       "\n",
       "  function run_callbacks() {\n",
       "    try {\n",
       "      root._bokeh_onload_callbacks.forEach(function(callback) {\n",
       "        if (callback != null)\n",
       "          callback();\n",
       "      });\n",
       "    } finally {\n",
       "      delete root._bokeh_onload_callbacks\n",
       "    }\n",
       "    console.debug(\"Bokeh: all callbacks have finished\");\n",
       "  }\n",
       "\n",
       "  function load_libs(css_urls, js_urls, callback) {\n",
       "    if (css_urls == null) css_urls = [];\n",
       "    if (js_urls == null) js_urls = [];\n",
       "\n",
       "    root._bokeh_onload_callbacks.push(callback);\n",
       "    if (root._bokeh_is_loading > 0) {\n",
       "      console.debug(\"Bokeh: BokehJS is being loaded, scheduling callback at\", now());\n",
       "      return null;\n",
       "    }\n",
       "    if (js_urls == null || js_urls.length === 0) {\n",
       "      run_callbacks();\n",
       "      return null;\n",
       "    }\n",
       "    console.debug(\"Bokeh: BokehJS not loaded, scheduling load and callback at\", now());\n",
       "    root._bokeh_is_loading = css_urls.length + js_urls.length;\n",
       "\n",
       "    function on_load() {\n",
       "      root._bokeh_is_loading--;\n",
       "      if (root._bokeh_is_loading === 0) {\n",
       "        console.debug(\"Bokeh: all BokehJS libraries/stylesheets loaded\");\n",
       "        run_callbacks()\n",
       "      }\n",
       "    }\n",
       "\n",
       "    function on_error() {\n",
       "      console.error(\"failed to load \" + url);\n",
       "    }\n",
       "\n",
       "    for (var i = 0; i < css_urls.length; i++) {\n",
       "      var url = css_urls[i];\n",
       "      const element = document.createElement(\"link\");\n",
       "      element.onload = on_load;\n",
       "      element.onerror = on_error;\n",
       "      element.rel = \"stylesheet\";\n",
       "      element.type = \"text/css\";\n",
       "      element.href = url;\n",
       "      console.debug(\"Bokeh: injecting link tag for BokehJS stylesheet: \", url);\n",
       "      document.body.appendChild(element);\n",
       "    }\n",
       "\n",
       "    const hashes = {\"https://cdn.bokeh.org/bokeh/release/bokeh-2.2.3.min.js\": \"T2yuo9Oe71Cz/I4X9Ac5+gpEa5a8PpJCDlqKYO0CfAuEszu1JrXLl8YugMqYe3sM\", \"https://cdn.bokeh.org/bokeh/release/bokeh-widgets-2.2.3.min.js\": \"98GDGJ0kOMCUMUePhksaQ/GYgB3+NH9h996V88sh3aOiUNX3N+fLXAtry6xctSZ6\", \"https://cdn.bokeh.org/bokeh/release/bokeh-tables-2.2.3.min.js\": \"89bArO+nlbP3sgakeHjCo1JYxYR5wufVgA3IbUvDY+K7w4zyxJqssu7wVnfeKCq8\"};\n",
       "\n",
       "    for (var i = 0; i < js_urls.length; i++) {\n",
       "      var url = js_urls[i];\n",
       "      var element = document.createElement('script');\n",
       "      element.onload = on_load;\n",
       "      element.onerror = on_error;\n",
       "      element.async = false;\n",
       "      element.src = url;\n",
       "      if (url in hashes) {\n",
       "        element.crossOrigin = \"anonymous\";\n",
       "        element.integrity = \"sha384-\" + hashes[url];\n",
       "      }\n",
       "      console.debug(\"Bokeh: injecting script tag for BokehJS library: \", url);\n",
       "      document.head.appendChild(element);\n",
       "    }\n",
       "  };\n",
       "\n",
       "  function inject_raw_css(css) {\n",
       "    const element = document.createElement(\"style\");\n",
       "    element.appendChild(document.createTextNode(css));\n",
       "    document.body.appendChild(element);\n",
       "  }\n",
       "\n",
       "  \n",
       "  var js_urls = [\"https://cdn.bokeh.org/bokeh/release/bokeh-2.2.3.min.js\", \"https://cdn.bokeh.org/bokeh/release/bokeh-widgets-2.2.3.min.js\", \"https://cdn.bokeh.org/bokeh/release/bokeh-tables-2.2.3.min.js\"];\n",
       "  var css_urls = [];\n",
       "  \n",
       "\n",
       "  var inline_js = [\n",
       "    function(Bokeh) {\n",
       "      Bokeh.set_log_level(\"info\");\n",
       "    },\n",
       "    function(Bokeh) {\n",
       "    \n",
       "    \n",
       "    }\n",
       "  ];\n",
       "\n",
       "  function run_inline_js() {\n",
       "    \n",
       "    if (root.Bokeh !== undefined || force === true) {\n",
       "      \n",
       "    for (var i = 0; i < inline_js.length; i++) {\n",
       "      inline_js[i].call(root, root.Bokeh);\n",
       "    }\n",
       "    if (force === true) {\n",
       "        display_loaded();\n",
       "      }} else if (Date.now() < root._bokeh_timeout) {\n",
       "      setTimeout(run_inline_js, 100);\n",
       "    } else if (!root._bokeh_failed_load) {\n",
       "      console.log(\"Bokeh: BokehJS failed to load within specified timeout.\");\n",
       "      root._bokeh_failed_load = true;\n",
       "    } else if (force !== true) {\n",
       "      var cell = $(document.getElementById(\"2208\")).parents('.cell').data().cell;\n",
       "      cell.output_area.append_execute_result(NB_LOAD_WARNING)\n",
       "    }\n",
       "\n",
       "  }\n",
       "\n",
       "  if (root._bokeh_is_loading === 0) {\n",
       "    console.debug(\"Bokeh: BokehJS loaded, going straight to plotting\");\n",
       "    run_inline_js();\n",
       "  } else {\n",
       "    load_libs(css_urls, js_urls, function() {\n",
       "      console.debug(\"Bokeh: BokehJS plotting callback run at\", now());\n",
       "      run_inline_js();\n",
       "    });\n",
       "  }\n",
       "}(window));"
      ],
      "application/vnd.bokehjs_load.v0+json": "\n(function(root) {\n  function now() {\n    return new Date();\n  }\n\n  var force = true;\n\n  if (typeof root._bokeh_onload_callbacks === \"undefined\" || force === true) {\n    root._bokeh_onload_callbacks = [];\n    root._bokeh_is_loading = undefined;\n  }\n\n  \n\n  \n  if (typeof (root._bokeh_timeout) === \"undefined\" || force === true) {\n    root._bokeh_timeout = Date.now() + 5000;\n    root._bokeh_failed_load = false;\n  }\n\n  var NB_LOAD_WARNING = {'data': {'text/html':\n     \"<div style='background-color: #fdd'>\\n\"+\n     \"<p>\\n\"+\n     \"BokehJS does not appear to have successfully loaded. If loading BokehJS from CDN, this \\n\"+\n     \"may be due to a slow or bad network connection. Possible fixes:\\n\"+\n     \"</p>\\n\"+\n     \"<ul>\\n\"+\n     \"<li>re-rerun `output_notebook()` to attempt to load from CDN again, or</li>\\n\"+\n     \"<li>use INLINE resources instead, as so:</li>\\n\"+\n     \"</ul>\\n\"+\n     \"<code>\\n\"+\n     \"from bokeh.resources import INLINE\\n\"+\n     \"output_notebook(resources=INLINE)\\n\"+\n     \"</code>\\n\"+\n     \"</div>\"}};\n\n  function display_loaded() {\n    var el = document.getElementById(\"2208\");\n    if (el != null) {\n      el.textContent = \"BokehJS is loading...\";\n    }\n    if (root.Bokeh !== undefined) {\n      if (el != null) {\n        el.textContent = \"BokehJS \" + root.Bokeh.version + \" successfully loaded.\";\n      }\n    } else if (Date.now() < root._bokeh_timeout) {\n      setTimeout(display_loaded, 100)\n    }\n  }\n\n\n  function run_callbacks() {\n    try {\n      root._bokeh_onload_callbacks.forEach(function(callback) {\n        if (callback != null)\n          callback();\n      });\n    } finally {\n      delete root._bokeh_onload_callbacks\n    }\n    console.debug(\"Bokeh: all callbacks have finished\");\n  }\n\n  function load_libs(css_urls, js_urls, callback) {\n    if (css_urls == null) css_urls = [];\n    if (js_urls == null) js_urls = [];\n\n    root._bokeh_onload_callbacks.push(callback);\n    if (root._bokeh_is_loading > 0) {\n      console.debug(\"Bokeh: BokehJS is being loaded, scheduling callback at\", now());\n      return null;\n    }\n    if (js_urls == null || js_urls.length === 0) {\n      run_callbacks();\n      return null;\n    }\n    console.debug(\"Bokeh: BokehJS not loaded, scheduling load and callback at\", now());\n    root._bokeh_is_loading = css_urls.length + js_urls.length;\n\n    function on_load() {\n      root._bokeh_is_loading--;\n      if (root._bokeh_is_loading === 0) {\n        console.debug(\"Bokeh: all BokehJS libraries/stylesheets loaded\");\n        run_callbacks()\n      }\n    }\n\n    function on_error() {\n      console.error(\"failed to load \" + url);\n    }\n\n    for (var i = 0; i < css_urls.length; i++) {\n      var url = css_urls[i];\n      const element = document.createElement(\"link\");\n      element.onload = on_load;\n      element.onerror = on_error;\n      element.rel = \"stylesheet\";\n      element.type = \"text/css\";\n      element.href = url;\n      console.debug(\"Bokeh: injecting link tag for BokehJS stylesheet: \", url);\n      document.body.appendChild(element);\n    }\n\n    const hashes = {\"https://cdn.bokeh.org/bokeh/release/bokeh-2.2.3.min.js\": \"T2yuo9Oe71Cz/I4X9Ac5+gpEa5a8PpJCDlqKYO0CfAuEszu1JrXLl8YugMqYe3sM\", \"https://cdn.bokeh.org/bokeh/release/bokeh-widgets-2.2.3.min.js\": \"98GDGJ0kOMCUMUePhksaQ/GYgB3+NH9h996V88sh3aOiUNX3N+fLXAtry6xctSZ6\", \"https://cdn.bokeh.org/bokeh/release/bokeh-tables-2.2.3.min.js\": \"89bArO+nlbP3sgakeHjCo1JYxYR5wufVgA3IbUvDY+K7w4zyxJqssu7wVnfeKCq8\"};\n\n    for (var i = 0; i < js_urls.length; i++) {\n      var url = js_urls[i];\n      var element = document.createElement('script');\n      element.onload = on_load;\n      element.onerror = on_error;\n      element.async = false;\n      element.src = url;\n      if (url in hashes) {\n        element.crossOrigin = \"anonymous\";\n        element.integrity = \"sha384-\" + hashes[url];\n      }\n      console.debug(\"Bokeh: injecting script tag for BokehJS library: \", url);\n      document.head.appendChild(element);\n    }\n  };\n\n  function inject_raw_css(css) {\n    const element = document.createElement(\"style\");\n    element.appendChild(document.createTextNode(css));\n    document.body.appendChild(element);\n  }\n\n  \n  var js_urls = [\"https://cdn.bokeh.org/bokeh/release/bokeh-2.2.3.min.js\", \"https://cdn.bokeh.org/bokeh/release/bokeh-widgets-2.2.3.min.js\", \"https://cdn.bokeh.org/bokeh/release/bokeh-tables-2.2.3.min.js\"];\n  var css_urls = [];\n  \n\n  var inline_js = [\n    function(Bokeh) {\n      Bokeh.set_log_level(\"info\");\n    },\n    function(Bokeh) {\n    \n    \n    }\n  ];\n\n  function run_inline_js() {\n    \n    if (root.Bokeh !== undefined || force === true) {\n      \n    for (var i = 0; i < inline_js.length; i++) {\n      inline_js[i].call(root, root.Bokeh);\n    }\n    if (force === true) {\n        display_loaded();\n      }} else if (Date.now() < root._bokeh_timeout) {\n      setTimeout(run_inline_js, 100);\n    } else if (!root._bokeh_failed_load) {\n      console.log(\"Bokeh: BokehJS failed to load within specified timeout.\");\n      root._bokeh_failed_load = true;\n    } else if (force !== true) {\n      var cell = $(document.getElementById(\"2208\")).parents('.cell').data().cell;\n      cell.output_area.append_execute_result(NB_LOAD_WARNING)\n    }\n\n  }\n\n  if (root._bokeh_is_loading === 0) {\n    console.debug(\"Bokeh: BokehJS loaded, going straight to plotting\");\n    run_inline_js();\n  } else {\n    load_libs(css_urls, js_urls, function() {\n      console.debug(\"Bokeh: BokehJS plotting callback run at\", now());\n      run_inline_js();\n    });\n  }\n}(window));"
     },
     "metadata": {},
     "output_type": "display_data"
    }
   ],
   "source": [
    "import pandas as pd\n",
    "\n",
    "from bokeh.plotting import figure, show, output_file, output_notebook\n",
    "\n",
    "#To show the chart within notebook itself\n",
    "output_notebook()"
   ]
  },
  {
   "cell_type": "code",
   "execution_count": 29,
   "metadata": {},
   "outputs": [],
   "source": [
    "df = pd.read_csv(\"NSEI_Historical_yf_mini.csv\")"
   ]
  },
  {
   "cell_type": "code",
   "execution_count": 31,
   "metadata": {},
   "outputs": [
    {
     "data": {
      "text/html": [
       "<div>\n",
       "<style scoped>\n",
       "    .dataframe tbody tr th:only-of-type {\n",
       "        vertical-align: middle;\n",
       "    }\n",
       "\n",
       "    .dataframe tbody tr th {\n",
       "        vertical-align: top;\n",
       "    }\n",
       "\n",
       "    .dataframe thead th {\n",
       "        text-align: right;\n",
       "    }\n",
       "</style>\n",
       "<table border=\"1\" class=\"dataframe\">\n",
       "  <thead>\n",
       "    <tr style=\"text-align: right;\">\n",
       "      <th></th>\n",
       "      <th>Date</th>\n",
       "      <th>Open</th>\n",
       "      <th>High</th>\n",
       "      <th>Low</th>\n",
       "      <th>Close</th>\n",
       "      <th>Adj Close</th>\n",
       "      <th>Volume</th>\n",
       "    </tr>\n",
       "  </thead>\n",
       "  <tbody>\n",
       "    <tr>\n",
       "      <th>0</th>\n",
       "      <td>3/2/2020</td>\n",
       "      <td>11387.34961</td>\n",
       "      <td>11433.00000</td>\n",
       "      <td>11036.25000</td>\n",
       "      <td>11132.75000</td>\n",
       "      <td>11132.75000</td>\n",
       "      <td>680800.0</td>\n",
       "    </tr>\n",
       "    <tr>\n",
       "      <th>1</th>\n",
       "      <td>3/3/2020</td>\n",
       "      <td>11217.54981</td>\n",
       "      <td>11342.25000</td>\n",
       "      <td>11152.54981</td>\n",
       "      <td>11303.29981</td>\n",
       "      <td>11303.29981</td>\n",
       "      <td>696500.0</td>\n",
       "    </tr>\n",
       "    <tr>\n",
       "      <th>2</th>\n",
       "      <td>3/4/2020</td>\n",
       "      <td>11351.34961</td>\n",
       "      <td>11356.59961</td>\n",
       "      <td>11082.15039</td>\n",
       "      <td>11251.00000</td>\n",
       "      <td>11251.00000</td>\n",
       "      <td>797700.0</td>\n",
       "    </tr>\n",
       "    <tr>\n",
       "      <th>3</th>\n",
       "      <td>3/5/2020</td>\n",
       "      <td>11306.04981</td>\n",
       "      <td>11389.50000</td>\n",
       "      <td>11244.59961</td>\n",
       "      <td>11269.00000</td>\n",
       "      <td>11269.00000</td>\n",
       "      <td>1352500.0</td>\n",
       "    </tr>\n",
       "    <tr>\n",
       "      <th>4</th>\n",
       "      <td>3/6/2020</td>\n",
       "      <td>10942.65039</td>\n",
       "      <td>11035.09961</td>\n",
       "      <td>10827.40039</td>\n",
       "      <td>10989.45020</td>\n",
       "      <td>10989.45020</td>\n",
       "      <td>1811000.0</td>\n",
       "    </tr>\n",
       "  </tbody>\n",
       "</table>\n",
       "</div>"
      ],
      "text/plain": [
       "       Date         Open         High          Low        Close    Adj Close  \\\n",
       "0  3/2/2020  11387.34961  11433.00000  11036.25000  11132.75000  11132.75000   \n",
       "1  3/3/2020  11217.54981  11342.25000  11152.54981  11303.29981  11303.29981   \n",
       "2  3/4/2020  11351.34961  11356.59961  11082.15039  11251.00000  11251.00000   \n",
       "3  3/5/2020  11306.04981  11389.50000  11244.59961  11269.00000  11269.00000   \n",
       "4  3/6/2020  10942.65039  11035.09961  10827.40039  10989.45020  10989.45020   \n",
       "\n",
       "      Volume  \n",
       "0   680800.0  \n",
       "1   696500.0  \n",
       "2   797700.0  \n",
       "3  1352500.0  \n",
       "4  1811000.0  "
      ]
     },
     "execution_count": 31,
     "metadata": {},
     "output_type": "execute_result"
    }
   ],
   "source": [
    "df.head()"
   ]
  },
  {
   "cell_type": "code",
   "execution_count": 47,
   "metadata": {},
   "outputs": [],
   "source": [
    "# Bokeh needs Date column to be converted to datetime\n",
    "df['Date'] = pd.to_datetime(df['Date'])"
   ]
  },
  {
   "cell_type": "code",
   "execution_count": 51,
   "metadata": {},
   "outputs": [
    {
     "data": {
      "text/html": [
       "<div>\n",
       "<style scoped>\n",
       "    .dataframe tbody tr th:only-of-type {\n",
       "        vertical-align: middle;\n",
       "    }\n",
       "\n",
       "    .dataframe tbody tr th {\n",
       "        vertical-align: top;\n",
       "    }\n",
       "\n",
       "    .dataframe thead th {\n",
       "        text-align: right;\n",
       "    }\n",
       "</style>\n",
       "<table border=\"1\" class=\"dataframe\">\n",
       "  <thead>\n",
       "    <tr style=\"text-align: right;\">\n",
       "      <th></th>\n",
       "      <th>Date</th>\n",
       "      <th>Open</th>\n",
       "      <th>High</th>\n",
       "      <th>Low</th>\n",
       "      <th>Close</th>\n",
       "      <th>Adj Close</th>\n",
       "      <th>Volume</th>\n",
       "    </tr>\n",
       "  </thead>\n",
       "  <tbody>\n",
       "    <tr>\n",
       "      <th>0</th>\n",
       "      <td>2020-03-02</td>\n",
       "      <td>11387.34961</td>\n",
       "      <td>11433.00000</td>\n",
       "      <td>11036.25000</td>\n",
       "      <td>11132.75000</td>\n",
       "      <td>11132.75000</td>\n",
       "      <td>680800.0</td>\n",
       "    </tr>\n",
       "    <tr>\n",
       "      <th>1</th>\n",
       "      <td>2020-03-03</td>\n",
       "      <td>11217.54981</td>\n",
       "      <td>11342.25000</td>\n",
       "      <td>11152.54981</td>\n",
       "      <td>11303.29981</td>\n",
       "      <td>11303.29981</td>\n",
       "      <td>696500.0</td>\n",
       "    </tr>\n",
       "    <tr>\n",
       "      <th>2</th>\n",
       "      <td>2020-03-04</td>\n",
       "      <td>11351.34961</td>\n",
       "      <td>11356.59961</td>\n",
       "      <td>11082.15039</td>\n",
       "      <td>11251.00000</td>\n",
       "      <td>11251.00000</td>\n",
       "      <td>797700.0</td>\n",
       "    </tr>\n",
       "    <tr>\n",
       "      <th>3</th>\n",
       "      <td>2020-03-05</td>\n",
       "      <td>11306.04981</td>\n",
       "      <td>11389.50000</td>\n",
       "      <td>11244.59961</td>\n",
       "      <td>11269.00000</td>\n",
       "      <td>11269.00000</td>\n",
       "      <td>1352500.0</td>\n",
       "    </tr>\n",
       "    <tr>\n",
       "      <th>4</th>\n",
       "      <td>2020-03-06</td>\n",
       "      <td>10942.65039</td>\n",
       "      <td>11035.09961</td>\n",
       "      <td>10827.40039</td>\n",
       "      <td>10989.45020</td>\n",
       "      <td>10989.45020</td>\n",
       "      <td>1811000.0</td>\n",
       "    </tr>\n",
       "  </tbody>\n",
       "</table>\n",
       "</div>"
      ],
      "text/plain": [
       "        Date         Open         High          Low        Close    Adj Close  \\\n",
       "0 2020-03-02  11387.34961  11433.00000  11036.25000  11132.75000  11132.75000   \n",
       "1 2020-03-03  11217.54981  11342.25000  11152.54981  11303.29981  11303.29981   \n",
       "2 2020-03-04  11351.34961  11356.59961  11082.15039  11251.00000  11251.00000   \n",
       "3 2020-03-05  11306.04981  11389.50000  11244.59961  11269.00000  11269.00000   \n",
       "4 2020-03-06  10942.65039  11035.09961  10827.40039  10989.45020  10989.45020   \n",
       "\n",
       "      Volume  \n",
       "0   680800.0  \n",
       "1   696500.0  \n",
       "2   797700.0  \n",
       "3  1352500.0  \n",
       "4  1811000.0  "
      ]
     },
     "execution_count": 51,
     "metadata": {},
     "output_type": "execute_result"
    }
   ],
   "source": [
    "df.head()"
   ]
  },
  {
   "cell_type": "code",
   "execution_count": 57,
   "metadata": {},
   "outputs": [
    {
     "data": {
      "text/html": [
       "\n",
       "\n",
       "\n",
       "\n",
       "\n",
       "\n",
       "  <div class=\"bk-root\" id=\"8314fa8f-dfd3-46ae-8a6e-30734774f6cf\" data-root-id=\"3135\"></div>\n"
      ]
     },
     "metadata": {},
     "output_type": "display_data"
    },
    {
     "data": {
      "application/javascript": [
       "(function(root) {\n",
       "  function embed_document(root) {\n",
       "    \n",
       "  var docs_json = {\"c9a01d3d-1556-4ab5-9332-0334ccd8b510\":{\"roots\":{\"references\":[{\"attributes\":{\"below\":[{\"id\":\"3146\"}],\"center\":[{\"id\":\"3149\"},{\"id\":\"3153\"},{\"id\":\"3193\"}],\"left\":[{\"id\":\"3150\"}],\"renderers\":[{\"id\":\"3171\"}],\"title\":{\"id\":\"3136\"},\"toolbar\":{\"id\":\"3161\"},\"x_range\":{\"id\":\"3138\"},\"x_scale\":{\"id\":\"3142\"},\"y_range\":{\"id\":\"3140\"},\"y_scale\":{\"id\":\"3144\"}},\"id\":\"3135\",\"subtype\":\"Figure\",\"type\":\"Plot\"},{\"attributes\":{\"months\":[0,2,4,6,8,10]},\"id\":\"3189\",\"type\":\"MonthsTicker\"},{\"attributes\":{},\"id\":\"3142\",\"type\":\"LinearScale\"},{\"attributes\":{\"days\":[1,2,3,4,5,6,7,8,9,10,11,12,13,14,15,16,17,18,19,20,21,22,23,24,25,26,27,28,29,30,31]},\"id\":\"3184\",\"type\":\"DaysTicker\"},{\"attributes\":{},\"id\":\"3158\",\"type\":\"ResetTool\"},{\"attributes\":{\"mantissas\":[1,2,5],\"max_interval\":500.0,\"num_minor_ticks\":0},\"id\":\"3181\",\"type\":\"AdaptiveTicker\"},{\"attributes\":{\"base\":60,\"mantissas\":[1,2,5,10,15,20,30],\"max_interval\":1800000.0,\"min_interval\":1000.0,\"num_minor_ticks\":0},\"id\":\"3182\",\"type\":\"AdaptiveTicker\"},{\"attributes\":{\"active_drag\":\"auto\",\"active_inspect\":\"auto\",\"active_multi\":null,\"active_scroll\":\"auto\",\"active_tap\":\"auto\",\"tools\":[{\"id\":\"3154\"},{\"id\":\"3155\"},{\"id\":\"3156\"},{\"id\":\"3157\"},{\"id\":\"3158\"},{\"id\":\"3159\"}]},\"id\":\"3161\",\"type\":\"Toolbar\"},{\"attributes\":{},\"id\":\"3176\",\"type\":\"DatetimeTickFormatter\"},{\"attributes\":{},\"id\":\"3179\",\"type\":\"UnionRenderers\"},{\"attributes\":{},\"id\":\"3154\",\"type\":\"PanTool\"},{\"attributes\":{\"bottom_units\":\"screen\",\"fill_alpha\":0.5,\"fill_color\":\"lightgrey\",\"left_units\":\"screen\",\"level\":\"overlay\",\"line_alpha\":1.0,\"line_color\":\"black\",\"line_dash\":[4,4],\"line_width\":2,\"right_units\":\"screen\",\"top_units\":\"screen\"},\"id\":\"3160\",\"type\":\"BoxAnnotation\"},{\"attributes\":{},\"id\":\"3157\",\"type\":\"SaveTool\"},{\"attributes\":{\"num_minor_ticks\":5,\"tickers\":[{\"id\":\"3181\"},{\"id\":\"3182\"},{\"id\":\"3183\"},{\"id\":\"3184\"},{\"id\":\"3185\"},{\"id\":\"3186\"},{\"id\":\"3187\"},{\"id\":\"3188\"},{\"id\":\"3189\"},{\"id\":\"3190\"},{\"id\":\"3191\"},{\"id\":\"3192\"}]},\"id\":\"3147\",\"type\":\"DatetimeTicker\"},{\"attributes\":{\"days\":[1,8,15,22]},\"id\":\"3186\",\"type\":\"DaysTicker\"},{\"attributes\":{\"items\":[{\"id\":\"3194\"}]},\"id\":\"3193\",\"type\":\"Legend\"},{\"attributes\":{\"source\":{\"id\":\"3168\"}},\"id\":\"3172\",\"type\":\"CDSView\"},{\"attributes\":{\"days\":[1,4,7,10,13,16,19,22,25,28]},\"id\":\"3185\",\"type\":\"DaysTicker\"},{\"attributes\":{},\"id\":\"3151\",\"type\":\"BasicTicker\"},{\"attributes\":{\"months\":[0,1,2,3,4,5,6,7,8,9,10,11]},\"id\":\"3188\",\"type\":\"MonthsTicker\"},{\"attributes\":{},\"id\":\"3159\",\"type\":\"HelpTool\"},{\"attributes\":{\"data\":{\"x\":{\"__ndarray__\":\"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\",\"dtype\":\"float64\",\"order\":\"little\",\"shape\":[556]},\"y\":{\"__ndarray__\":\"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\",\"dtype\":\"float64\",\"order\":\"little\",\"shape\":[556]}},\"selected\":{\"id\":\"3178\"},\"selection_policy\":{\"id\":\"3179\"}},\"id\":\"3168\",\"type\":\"ColumnDataSource\"},{\"attributes\":{\"text\":\"Nifty Close Price\"},\"id\":\"3136\",\"type\":\"Title\"},{\"attributes\":{},\"id\":\"3178\",\"type\":\"Selection\"},{\"attributes\":{\"base\":24,\"mantissas\":[1,2,4,6,8,12],\"max_interval\":43200000.0,\"min_interval\":3600000.0,\"num_minor_ticks\":0},\"id\":\"3183\",\"type\":\"AdaptiveTicker\"},{\"attributes\":{},\"id\":\"3174\",\"type\":\"BasicTickFormatter\"},{\"attributes\":{},\"id\":\"3140\",\"type\":\"DataRange1d\"},{\"attributes\":{\"data_source\":{\"id\":\"3168\"},\"glyph\":{\"id\":\"3169\"},\"hover_glyph\":null,\"muted_glyph\":null,\"nonselection_glyph\":{\"id\":\"3170\"},\"selection_glyph\":null,\"view\":{\"id\":\"3172\"}},\"id\":\"3171\",\"type\":\"GlyphRenderer\"},{\"attributes\":{\"axis_label\":\"Date\",\"formatter\":{\"id\":\"3176\"},\"ticker\":{\"id\":\"3147\"}},\"id\":\"3146\",\"type\":\"DatetimeAxis\"},{\"attributes\":{\"line_alpha\":0.1,\"line_color\":\"green\",\"line_width\":2,\"x\":{\"field\":\"x\"},\"y\":{\"field\":\"y\"}},\"id\":\"3170\",\"type\":\"Line\"},{\"attributes\":{},\"id\":\"3138\",\"type\":\"DataRange1d\"},{\"attributes\":{\"line_color\":\"green\",\"line_width\":2,\"x\":{\"field\":\"x\"},\"y\":{\"field\":\"y\"}},\"id\":\"3169\",\"type\":\"Line\"},{\"attributes\":{},\"id\":\"3155\",\"type\":\"WheelZoomTool\"},{\"attributes\":{\"label\":{\"value\":\"Close Price\"},\"renderers\":[{\"id\":\"3171\"}]},\"id\":\"3194\",\"type\":\"LegendItem\"},{\"attributes\":{\"axis_label\":\"Close\",\"formatter\":{\"id\":\"3174\"},\"ticker\":{\"id\":\"3151\"}},\"id\":\"3150\",\"type\":\"LinearAxis\"},{\"attributes\":{\"months\":[0,4,8]},\"id\":\"3190\",\"type\":\"MonthsTicker\"},{\"attributes\":{},\"id\":\"3192\",\"type\":\"YearsTicker\"},{\"attributes\":{\"overlay\":{\"id\":\"3160\"}},\"id\":\"3156\",\"type\":\"BoxZoomTool\"},{\"attributes\":{\"axis\":{\"id\":\"3150\"},\"dimension\":1,\"ticker\":null},\"id\":\"3153\",\"type\":\"Grid\"},{\"attributes\":{},\"id\":\"3144\",\"type\":\"LinearScale\"},{\"attributes\":{\"months\":[0,6]},\"id\":\"3191\",\"type\":\"MonthsTicker\"},{\"attributes\":{\"days\":[1,15]},\"id\":\"3187\",\"type\":\"DaysTicker\"},{\"attributes\":{\"axis\":{\"id\":\"3146\"},\"ticker\":null},\"id\":\"3149\",\"type\":\"Grid\"}],\"root_ids\":[\"3135\"]},\"title\":\"Bokeh Application\",\"version\":\"2.2.3\"}};\n",
       "  var render_items = [{\"docid\":\"c9a01d3d-1556-4ab5-9332-0334ccd8b510\",\"root_ids\":[\"3135\"],\"roots\":{\"3135\":\"8314fa8f-dfd3-46ae-8a6e-30734774f6cf\"}}];\n",
       "  root.Bokeh.embed.embed_items_notebook(docs_json, render_items);\n",
       "\n",
       "  }\n",
       "  if (root.Bokeh !== undefined) {\n",
       "    embed_document(root);\n",
       "  } else {\n",
       "    var attempts = 0;\n",
       "    var timer = setInterval(function(root) {\n",
       "      if (root.Bokeh !== undefined) {\n",
       "        clearInterval(timer);\n",
       "        embed_document(root);\n",
       "      } else {\n",
       "        attempts++;\n",
       "        if (attempts > 100) {\n",
       "          clearInterval(timer);\n",
       "          console.log(\"Bokeh: ERROR: Unable to run BokehJS code because BokehJS library is missing\");\n",
       "        }\n",
       "      }\n",
       "    }, 10, root)\n",
       "  }\n",
       "})(window);"
      ],
      "application/vnd.bokehjs_exec.v0+json": ""
     },
     "metadata": {
      "application/vnd.bokehjs_exec.v0+json": {
       "id": "3135"
      }
     },
     "output_type": "display_data"
    }
   ],
   "source": [
    "# create a new plot with a title and axis labels\n",
    "p = figure(title=\"Nifty Close Price\", x_axis_type=\"datetime\", x_axis_label='Date', y_axis_label='Close')\n",
    "\n",
    "# add a line renderer with legend and line thickness to the plot\n",
    "p.line(x=df['Date'], y=df['Close'], legend_label='Close Price', line_width=2, color='green')\n",
    "#p.vbar(x=df['Date'], top=df['Volume'], legend_label='Volume', width=0.5, bottom=0, color='red')\n",
    "\n",
    "# show the results\n",
    "show(p)"
   ]
  },
  {
   "cell_type": "code",
   "execution_count": null,
   "metadata": {},
   "outputs": [],
   "source": []
  },
  {
   "cell_type": "markdown",
   "metadata": {},
   "source": [
    "## Plotly"
   ]
  },
  {
   "cell_type": "code",
   "execution_count": 1,
   "metadata": {},
   "outputs": [
    {
     "name": "stdout",
     "output_type": "stream",
     "text": [
      "Requirement already satisfied: plotly in c:\\users\\dhaval_patel\\anaconda3\\lib\\site-packages (5.8.0)\n",
      "Requirement already satisfied: tenacity>=6.2.0 in c:\\users\\dhaval_patel\\anaconda3\\lib\\site-packages (from plotly) (8.0.1)\n"
     ]
    }
   ],
   "source": [
    "!pip install plotly"
   ]
  },
  {
   "cell_type": "code",
   "execution_count": 3,
   "metadata": {},
   "outputs": [],
   "source": [
    "import pandas as pd\n",
    "\n",
    "import plotly.express as px\n",
    "import plotly.graph_objects as go"
   ]
  },
  {
   "cell_type": "code",
   "execution_count": 4,
   "metadata": {},
   "outputs": [],
   "source": [
    "df = pd.read_csv(\"NSEI_Historical_yf_mini.csv\")"
   ]
  },
  {
   "cell_type": "code",
   "execution_count": 5,
   "metadata": {},
   "outputs": [
    {
     "data": {
      "text/html": [
       "<div>\n",
       "<style scoped>\n",
       "    .dataframe tbody tr th:only-of-type {\n",
       "        vertical-align: middle;\n",
       "    }\n",
       "\n",
       "    .dataframe tbody tr th {\n",
       "        vertical-align: top;\n",
       "    }\n",
       "\n",
       "    .dataframe thead th {\n",
       "        text-align: right;\n",
       "    }\n",
       "</style>\n",
       "<table border=\"1\" class=\"dataframe\">\n",
       "  <thead>\n",
       "    <tr style=\"text-align: right;\">\n",
       "      <th></th>\n",
       "      <th>Date</th>\n",
       "      <th>Open</th>\n",
       "      <th>High</th>\n",
       "      <th>Low</th>\n",
       "      <th>Close</th>\n",
       "      <th>Adj Close</th>\n",
       "      <th>Volume</th>\n",
       "    </tr>\n",
       "  </thead>\n",
       "  <tbody>\n",
       "    <tr>\n",
       "      <th>0</th>\n",
       "      <td>3/2/2020</td>\n",
       "      <td>11387.34961</td>\n",
       "      <td>11433.00000</td>\n",
       "      <td>11036.25000</td>\n",
       "      <td>11132.75000</td>\n",
       "      <td>11132.75000</td>\n",
       "      <td>680800.0</td>\n",
       "    </tr>\n",
       "    <tr>\n",
       "      <th>1</th>\n",
       "      <td>3/3/2020</td>\n",
       "      <td>11217.54981</td>\n",
       "      <td>11342.25000</td>\n",
       "      <td>11152.54981</td>\n",
       "      <td>11303.29981</td>\n",
       "      <td>11303.29981</td>\n",
       "      <td>696500.0</td>\n",
       "    </tr>\n",
       "    <tr>\n",
       "      <th>2</th>\n",
       "      <td>3/4/2020</td>\n",
       "      <td>11351.34961</td>\n",
       "      <td>11356.59961</td>\n",
       "      <td>11082.15039</td>\n",
       "      <td>11251.00000</td>\n",
       "      <td>11251.00000</td>\n",
       "      <td>797700.0</td>\n",
       "    </tr>\n",
       "    <tr>\n",
       "      <th>3</th>\n",
       "      <td>3/5/2020</td>\n",
       "      <td>11306.04981</td>\n",
       "      <td>11389.50000</td>\n",
       "      <td>11244.59961</td>\n",
       "      <td>11269.00000</td>\n",
       "      <td>11269.00000</td>\n",
       "      <td>1352500.0</td>\n",
       "    </tr>\n",
       "    <tr>\n",
       "      <th>4</th>\n",
       "      <td>3/6/2020</td>\n",
       "      <td>10942.65039</td>\n",
       "      <td>11035.09961</td>\n",
       "      <td>10827.40039</td>\n",
       "      <td>10989.45020</td>\n",
       "      <td>10989.45020</td>\n",
       "      <td>1811000.0</td>\n",
       "    </tr>\n",
       "  </tbody>\n",
       "</table>\n",
       "</div>"
      ],
      "text/plain": [
       "       Date         Open         High          Low        Close    Adj Close  \\\n",
       "0  3/2/2020  11387.34961  11433.00000  11036.25000  11132.75000  11132.75000   \n",
       "1  3/3/2020  11217.54981  11342.25000  11152.54981  11303.29981  11303.29981   \n",
       "2  3/4/2020  11351.34961  11356.59961  11082.15039  11251.00000  11251.00000   \n",
       "3  3/5/2020  11306.04981  11389.50000  11244.59961  11269.00000  11269.00000   \n",
       "4  3/6/2020  10942.65039  11035.09961  10827.40039  10989.45020  10989.45020   \n",
       "\n",
       "      Volume  \n",
       "0   680800.0  \n",
       "1   696500.0  \n",
       "2   797700.0  \n",
       "3  1352500.0  \n",
       "4  1811000.0  "
      ]
     },
     "execution_count": 5,
     "metadata": {},
     "output_type": "execute_result"
    }
   ],
   "source": [
    "df.head()"
   ]
  },
  {
   "cell_type": "code",
   "execution_count": 27,
   "metadata": {},
   "outputs": [
    {
     "data": {
      "application/vnd.plotly.v1+json": {
       "config": {
        "plotlyServerURL": "https://plot.ly"
       },
       "data": [
        {
         "hovertemplate": "Date=%{x|%B %d, %Y}<br>Close=%{y}<extra></extra>",
         "legendgroup": "",
         "line": {
          "color": "#636efa",
          "dash": "solid"
         },
         "marker": {
          "symbol": "circle"
         },
         "mode": "lines",
         "name": "",
         "orientation": "v",
         "showlegend": false,
         "type": "scatter",
         "x": [
          "3/2/2020",
          "3/3/2020",
          "3/4/2020",
          "3/5/2020",
          "3/6/2020",
          "3/9/2020",
          "3/11/2020",
          "3/12/2020",
          "3/13/2020",
          "3/16/2020",
          "3/17/2020",
          "3/18/2020",
          "3/19/2020",
          "3/20/2020",
          "3/23/2020",
          "3/24/2020",
          "3/25/2020",
          "3/26/2020",
          "3/27/2020",
          "3/30/2020",
          "3/31/2020",
          "4/1/2020",
          "4/3/2020",
          "4/7/2020",
          "4/8/2020",
          "4/9/2020",
          "4/13/2020",
          "4/15/2020",
          "4/16/2020",
          "4/17/2020",
          "4/20/2020",
          "4/21/2020",
          "4/22/2020",
          "4/23/2020",
          "4/24/2020",
          "4/27/2020",
          "4/28/2020",
          "4/29/2020",
          "4/30/2020",
          "5/4/2020",
          "5/5/2020",
          "5/6/2020",
          "5/7/2020",
          "5/8/2020",
          "5/11/2020",
          "5/12/2020",
          "5/13/2020",
          "5/14/2020",
          "5/15/2020",
          "5/18/2020",
          "5/19/2020",
          "5/20/2020",
          "5/21/2020",
          "5/22/2020",
          "5/26/2020",
          "5/27/2020",
          "5/28/2020",
          "5/29/2020",
          "6/1/2020",
          "6/2/2020",
          "6/3/2020",
          "6/4/2020",
          "6/5/2020",
          "6/8/2020",
          "6/9/2020",
          "6/10/2020",
          "6/11/2020",
          "6/12/2020",
          "6/15/2020",
          "6/16/2020",
          "6/17/2020",
          "6/18/2020",
          "6/19/2020",
          "6/22/2020",
          "6/23/2020",
          "6/24/2020",
          "6/25/2020",
          "6/26/2020",
          "6/29/2020",
          "6/30/2020",
          "7/1/2020",
          "7/2/2020",
          "7/3/2020",
          "7/6/2020",
          "7/7/2020",
          "7/8/2020",
          "7/9/2020",
          "7/10/2020",
          "7/13/2020",
          "7/14/2020",
          "7/15/2020",
          "7/16/2020",
          "7/17/2020",
          "7/20/2020",
          "7/21/2020",
          "7/22/2020",
          "7/23/2020",
          "7/24/2020",
          "7/27/2020",
          "7/28/2020",
          "7/29/2020",
          "7/30/2020",
          "7/31/2020",
          "8/3/2020",
          "8/4/2020",
          "8/5/2020",
          "8/6/2020",
          "8/7/2020",
          "8/10/2020",
          "8/11/2020",
          "8/12/2020",
          "8/13/2020",
          "8/14/2020",
          "8/17/2020",
          "8/18/2020",
          "8/19/2020",
          "8/20/2020",
          "8/21/2020",
          "8/24/2020",
          "8/25/2020",
          "8/26/2020",
          "8/27/2020",
          "8/28/2020",
          "8/31/2020",
          "9/1/2020",
          "9/2/2020",
          "9/3/2020",
          "9/4/2020",
          "9/7/2020",
          "9/8/2020",
          "9/9/2020",
          "9/10/2020",
          "9/11/2020",
          "9/14/2020",
          "9/15/2020",
          "9/16/2020",
          "9/17/2020",
          "9/18/2020",
          "9/21/2020",
          "9/22/2020",
          "9/23/2020",
          "9/24/2020",
          "9/25/2020",
          "9/28/2020",
          "9/29/2020",
          "9/30/2020",
          "10/1/2020",
          "10/5/2020",
          "10/6/2020",
          "10/7/2020",
          "10/8/2020",
          "10/9/2020",
          "10/12/2020",
          "10/13/2020",
          "10/14/2020",
          "10/15/2020",
          "10/16/2020",
          "10/19/2020",
          "10/20/2020",
          "10/21/2020",
          "10/22/2020",
          "10/23/2020",
          "10/26/2020",
          "10/27/2020",
          "10/28/2020",
          "10/29/2020",
          "10/30/2020",
          "11/2/2020",
          "11/3/2020",
          "11/4/2020",
          "11/5/2020",
          "11/6/2020",
          "11/9/2020",
          "11/10/2020",
          "11/11/2020",
          "11/12/2020",
          "11/13/2020",
          "11/14/2020",
          "11/17/2020",
          "11/18/2020",
          "11/19/2020",
          "11/20/2020",
          "11/23/2020",
          "11/24/2020",
          "11/25/2020",
          "11/26/2020",
          "11/27/2020",
          "12/1/2020",
          "12/2/2020",
          "12/3/2020",
          "12/4/2020",
          "12/7/2020",
          "12/8/2020",
          "12/9/2020",
          "12/10/2020",
          "12/11/2020",
          "12/14/2020",
          "12/15/2020",
          "12/16/2020",
          "12/17/2020",
          "12/18/2020",
          "12/21/2020",
          "12/22/2020",
          "12/23/2020",
          "12/24/2020",
          "12/28/2020",
          "12/29/2020",
          "12/30/2020",
          "12/31/2020",
          "1/1/2021",
          "1/4/2021",
          "1/5/2021",
          "1/6/2021",
          "1/7/2021",
          "1/8/2021",
          "1/11/2021",
          "1/12/2021",
          "1/13/2021",
          "1/14/2021",
          "1/15/2021",
          "1/18/2021",
          "1/19/2021",
          "1/20/2021",
          "1/21/2021",
          "1/22/2021",
          "1/25/2021",
          "1/27/2021",
          "1/28/2021",
          "1/29/2021",
          "2/1/2021",
          "2/2/2021",
          "2/3/2021",
          "2/4/2021",
          "2/5/2021",
          "2/8/2021",
          "2/9/2021",
          "2/10/2021",
          "2/11/2021",
          "2/12/2021",
          "2/15/2021",
          "2/16/2021",
          "2/17/2021",
          "2/18/2021",
          "2/19/2021",
          "2/22/2021",
          "2/23/2021",
          "2/24/2021",
          "2/25/2021",
          "2/26/2021",
          "3/1/2021",
          "3/2/2021",
          "3/3/2021",
          "3/4/2021",
          "3/5/2021",
          "3/8/2021",
          "3/9/2021",
          "3/10/2021",
          "3/12/2021",
          "3/15/2021",
          "3/16/2021",
          "3/17/2021",
          "3/18/2021",
          "3/19/2021",
          "3/22/2021",
          "3/23/2021",
          "3/24/2021",
          "3/25/2021",
          "3/26/2021",
          "3/30/2021",
          "3/31/2021",
          "4/1/2021",
          "4/5/2021",
          "4/6/2021",
          "4/7/2021",
          "4/8/2021",
          "4/9/2021",
          "4/12/2021",
          "4/13/2021",
          "4/15/2021",
          "4/16/2021",
          "4/19/2021",
          "4/20/2021",
          "4/22/2021",
          "4/23/2021",
          "4/26/2021",
          "4/27/2021",
          "4/28/2021",
          "4/29/2021",
          "4/30/2021",
          "5/3/2021",
          "5/4/2021",
          "5/5/2021",
          "5/6/2021",
          "5/7/2021",
          "5/10/2021",
          "5/11/2021",
          "5/12/2021",
          "5/14/2021",
          "5/17/2021",
          "5/18/2021",
          "5/19/2021",
          "5/20/2021",
          "5/21/2021",
          "5/24/2021",
          "5/25/2021",
          "5/26/2021",
          "5/27/2021",
          "5/28/2021",
          "5/31/2021",
          "6/1/2021",
          "6/2/2021",
          "6/3/2021",
          "6/4/2021",
          "6/7/2021",
          "6/8/2021",
          "6/9/2021",
          "6/10/2021",
          "6/11/2021",
          "6/14/2021",
          "6/15/2021",
          "6/16/2021",
          "6/17/2021",
          "6/18/2021",
          "6/21/2021",
          "6/22/2021",
          "6/23/2021",
          "6/24/2021",
          "6/25/2021",
          "6/28/2021",
          "6/29/2021",
          "6/30/2021",
          "7/1/2021",
          "7/2/2021",
          "7/5/2021",
          "7/6/2021",
          "7/7/2021",
          "7/8/2021",
          "7/9/2021",
          "7/12/2021",
          "7/13/2021",
          "7/14/2021",
          "7/15/2021",
          "7/16/2021",
          "7/19/2021",
          "7/20/2021",
          "7/22/2021",
          "7/23/2021",
          "7/26/2021",
          "7/27/2021",
          "7/28/2021",
          "7/29/2021",
          "7/30/2021",
          "8/2/2021",
          "8/3/2021",
          "8/4/2021",
          "8/5/2021",
          "8/6/2021",
          "8/9/2021",
          "8/10/2021",
          "8/11/2021",
          "8/12/2021",
          "8/13/2021",
          "8/16/2021",
          "8/17/2021",
          "8/18/2021",
          "8/20/2021",
          "8/23/2021",
          "8/24/2021",
          "8/25/2021",
          "8/26/2021",
          "8/27/2021",
          "8/30/2021",
          "8/31/2021",
          "9/1/2021",
          "9/2/2021",
          "9/3/2021",
          "9/6/2021",
          "9/7/2021",
          "9/8/2021",
          "9/9/2021",
          "9/13/2021",
          "9/14/2021",
          "9/15/2021",
          "9/16/2021",
          "9/17/2021",
          "9/20/2021",
          "9/21/2021",
          "9/22/2021",
          "9/23/2021",
          "9/24/2021",
          "9/27/2021",
          "9/28/2021",
          "9/29/2021",
          "9/30/2021",
          "10/1/2021",
          "10/4/2021",
          "10/5/2021",
          "10/6/2021",
          "10/7/2021",
          "10/8/2021",
          "10/11/2021",
          "10/12/2021",
          "10/13/2021",
          "10/14/2021",
          "10/18/2021",
          "10/19/2021",
          "10/20/2021",
          "10/21/2021",
          "10/22/2021",
          "10/25/2021",
          "10/26/2021",
          "10/27/2021",
          "10/28/2021",
          "10/29/2021",
          "11/1/2021",
          "11/2/2021",
          "11/3/2021",
          "11/4/2021",
          "11/8/2021",
          "11/9/2021",
          "11/10/2021",
          "11/11/2021",
          "11/12/2021",
          "11/15/2021",
          "11/16/2021",
          "11/17/2021",
          "11/18/2021",
          "11/22/2021",
          "11/23/2021",
          "11/24/2021",
          "11/25/2021",
          "11/26/2021",
          "11/29/2021",
          "11/30/2021",
          "12/1/2021",
          "12/2/2021",
          "12/3/2021",
          "12/6/2021",
          "12/7/2021",
          "12/8/2021",
          "12/9/2021",
          "12/10/2021",
          "12/13/2021",
          "12/14/2021",
          "12/15/2021",
          "12/16/2021",
          "12/17/2021",
          "12/20/2021",
          "12/21/2021",
          "12/22/2021",
          "12/23/2021",
          "12/24/2021",
          "12/27/2021",
          "12/28/2021",
          "12/29/2021",
          "12/30/2021",
          "12/31/2021",
          "1/3/2022",
          "1/4/2022",
          "1/5/2022",
          "1/6/2022",
          "1/7/2022",
          "1/10/2022",
          "1/11/2022",
          "1/12/2022",
          "1/13/2022",
          "1/14/2022",
          "1/17/2022",
          "1/18/2022",
          "1/19/2022",
          "1/20/2022",
          "1/21/2022",
          "1/24/2022",
          "1/25/2022",
          "1/27/2022",
          "1/28/2022",
          "1/31/2022",
          "2/1/2022",
          "2/2/2022",
          "2/3/2022",
          "2/4/2022",
          "2/7/2022",
          "2/8/2022",
          "2/9/2022",
          "2/10/2022",
          "2/11/2022",
          "2/14/2022",
          "2/15/2022",
          "2/16/2022",
          "2/17/2022",
          "2/18/2022",
          "2/21/2022",
          "2/22/2022",
          "2/23/2022",
          "2/24/2022",
          "2/25/2022",
          "2/28/2022",
          "3/2/2022",
          "3/3/2022",
          "3/4/2022",
          "3/7/2022",
          "3/8/2022",
          "3/9/2022",
          "3/10/2022",
          "3/11/2022",
          "3/14/2022",
          "3/15/2022",
          "3/16/2022",
          "3/17/2022",
          "3/21/2022",
          "3/22/2022",
          "3/23/2022",
          "3/24/2022",
          "3/25/2022",
          "3/28/2022",
          "3/29/2022",
          "3/30/2022",
          "3/31/2022",
          "4/1/2022",
          "4/4/2022",
          "4/5/2022",
          "4/6/2022",
          "4/7/2022",
          "4/8/2022",
          "4/11/2022",
          "4/12/2022",
          "4/13/2022",
          "4/18/2022",
          "4/19/2022",
          "4/20/2022",
          "4/21/2022",
          "4/22/2022",
          "4/25/2022",
          "4/26/2022",
          "4/27/2022",
          "4/28/2022",
          "4/29/2022",
          "5/2/2022",
          "5/4/2022",
          "5/5/2022",
          "5/6/2022",
          "5/9/2022",
          "5/10/2022",
          "5/11/2022",
          "5/12/2022",
          "5/13/2022",
          "5/16/2022",
          "5/17/2022",
          "5/18/2022",
          "5/19/2022",
          "5/20/2022",
          "5/23/2022",
          "5/24/2022",
          "5/25/2022",
          "5/26/2022",
          "5/27/2022"
         ],
         "xaxis": "x",
         "y": [
          11132.75,
          11303.299809999999,
          11251,
          11269,
          10989.4502,
          10451.4502,
          10458.40039,
          9590.150391,
          9955.200195,
          9197.400391,
          8967.049805,
          8468.799805,
          8263.450195,
          8745.450195,
          7610.25,
          7801.049805,
          8317.849609,
          8641.450195,
          8660.25,
          8281.099609,
          8597.75,
          8253.799805,
          8083.799805,
          8792.200195,
          8748.75,
          9111.900391,
          8993.849609,
          8925.299805,
          8992.799805,
          9266.75,
          9261.849609,
          8981.450195,
          9187.299805,
          9313.900391,
          9154.400391,
          9282.299805,
          9380.900391,
          9553.349609,
          9859.900391,
          9293.5,
          9205.599609,
          9270.900391,
          9199.049805,
          9251.5,
          9239.200195,
          9196.549805,
          9383.549805,
          9142.75,
          9136.849609,
          8823.25,
          8879.099609,
          9066.549805,
          9106.25,
          9039.25,
          9029.049805,
          9314.950195,
          9490.099609,
          9580.299805,
          9826.150391,
          9979.099609,
          10061.549809999999,
          10029.09961,
          10142.15039,
          10167.4502,
          10046.65039,
          10116.15039,
          9902,
          9972.900391,
          9813.700195,
          9914,
          9881.150391,
          10091.65039,
          10244.40039,
          10311.2002,
          10471,
          10305.299809999999,
          10288.90039,
          10383,
          10312.40039,
          10302.09961,
          10430.049809999999,
          10551.7002,
          10607.34961,
          10763.65039,
          10799.65039,
          10705.75,
          10813.4502,
          10768.049809999999,
          10802.7002,
          10607.34961,
          10618.2002,
          10739.9502,
          10901.7002,
          11022.2002,
          11162.25,
          11132.59961,
          11215.4502,
          11194.15039,
          11131.799809999999,
          11300.549809999999,
          11202.84961,
          11102.15039,
          11073.4502,
          10891.59961,
          11095.25,
          11101.65039,
          11200.15039,
          11214.049809999999,
          11270.15039,
          11322.5,
          11308.40039,
          11300.4502,
          11178.40039,
          11247.09961,
          11385.34961,
          11408.40039,
          11312.2002,
          11371.59961,
          11466.4502,
          11472.25,
          11549.59961,
          11559.25,
          11647.59961,
          11387.5,
          11470.25,
          11535,
          11527.4502,
          11333.84961,
          11355.049809999999,
          11317.34961,
          11278,
          11449.25,
          11464.4502,
          11440.049809999999,
          11521.799809999999,
          11604.549809999999,
          11516.09961,
          11504.9502,
          11250.549809999999,
          11153.65039,
          11131.84961,
          10805.549809999999,
          11050.25,
          11227.549809999999,
          11222.40039,
          11247.549809999999,
          11416.9502,
          11503.34961,
          11662.40039,
          11738.84961,
          11834.59961,
          11914.2002,
          11930.9502,
          11934.5,
          11971.049809999999,
          11680.34961,
          11762.4502,
          11873.049809999999,
          11896.799809999999,
          11937.65039,
          11896.4502,
          11930.34961,
          11767.75,
          11889.40039,
          11729.59961,
          11670.799809999999,
          11642.40039,
          11669.15039,
          11813.5,
          11908.5,
          12120.299809999999,
          12263.549809999999,
          12461.049809999999,
          12631.09961,
          12749.15039,
          12690.799809999999,
          12719.9502,
          null,
          12874.2002,
          12938.25,
          12771.7002,
          12859.049809999999,
          12926.4502,
          13055.15039,
          12858.40039,
          12987,
          12968.9502,
          13109.049809999999,
          13113.75,
          13133.90039,
          13258.549809999999,
          13355.75,
          13392.9502,
          13529.09961,
          13478.299809999999,
          13513.84961,
          13558.15039,
          13567.84961,
          13682.7002,
          13740.7002,
          13760.549809999999,
          13328.40039,
          13466.299809999999,
          13601.09961,
          13749.25,
          13873.2002,
          13932.59961,
          13981.9502,
          13981.75,
          14018.5,
          14132.90039,
          14199.5,
          14146.25,
          14137.34961,
          14347.25,
          14484.75,
          14563.4502,
          14564.84961,
          14595.59961,
          14433.7002,
          14281.299809999999,
          14521.15039,
          14644.7002,
          14590.34961,
          14371.90039,
          14238.90039,
          13967.5,
          13817.549809999999,
          13634.59961,
          14281.2002,
          14647.84961,
          14789.9502,
          14895.65039,
          14924.25,
          15115.799809999999,
          15109.299809999999,
          15106.5,
          15173.299809999999,
          15163.299809999999,
          15314.7002,
          15313.4502,
          15208.90039,
          15118.9502,
          14981.75,
          14675.7002,
          14707.799809999999,
          14982,
          15097.34961,
          14529.15039,
          14761.549809999999,
          14919.09961,
          15245.59961,
          15080.75,
          14938.09961,
          14956.2002,
          15098.40039,
          15174.799809999999,
          15030.9502,
          14929.5,
          14910.4502,
          14721.299809999999,
          14557.84961,
          14744,
          14736.40039,
          14814.75,
          14549.40039,
          14324.90039,
          14507.299809999999,
          14845.09961,
          14690.7002,
          14867.34961,
          14637.799809999999,
          14683.5,
          14819.049809999999,
          14873.799809999999,
          14834.84961,
          14310.799809999999,
          14504.799809999999,
          14581.4502,
          14617.84961,
          14359.4502,
          14296.40039,
          14406.15039,
          14341.34961,
          14485,
          14653.049809999999,
          14864.549809999999,
          14894.90039,
          14631.09961,
          14634.15039,
          14496.5,
          14617.84961,
          14724.799809999999,
          14823.15039,
          14942.34961,
          14850.75,
          14696.5,
          14677.799809999999,
          14923.15039,
          15108.09961,
          15030.15039,
          14906.049809999999,
          15175.299809999999,
          15197.7002,
          15208.4502,
          15301.4502,
          15337.84961,
          15435.65039,
          15582.799809999999,
          15574.84961,
          15576.2002,
          15690.34961,
          15670.25,
          15751.65039,
          15740.09961,
          15635.34961,
          15737.75,
          15799.34961,
          15811.84961,
          15869.25,
          15767.549809999999,
          15691.40039,
          15683.34961,
          15746.5,
          15772.75,
          15686.9502,
          15790.4502,
          15860.34961,
          15814.7002,
          15748.4502,
          15721.5,
          15680,
          15722.2002,
          15834.34961,
          15818.25,
          15879.65039,
          15727.90039,
          15689.799809999999,
          15692.59961,
          15812.34961,
          15853.9502,
          15924.2002,
          15923.40039,
          15752.40039,
          15632.09961,
          15824.049809999999,
          15856.049809999999,
          15824.4502,
          15746.4502,
          15709.40039,
          15778.4502,
          15763.049809999999,
          15885.15039,
          16130.75,
          16258.799809999999,
          16294.59961,
          16238.2002,
          16258.25,
          16280.09961,
          16282.25,
          16364.40039,
          16529.09961,
          16563.05078,
          16614.59961,
          16568.84961,
          16450.5,
          16496.44922,
          16624.59961,
          16634.65039,
          16636.90039,
          16705.19922,
          16931.05078,
          17132.19922,
          17076.25,
          17234.15039,
          17323.59961,
          17377.80078,
          17362.09961,
          17353.5,
          17369.25,
          17355.30078,
          17380,
          17519.44922,
          17629.5,
          17585.15039,
          17396.90039,
          17562,
          17546.65039,
          17822.94922,
          17853.19922,
          17855.09961,
          17748.59961,
          17711.30078,
          17618.15039,
          17532.05078,
          17691.25,
          17822.30078,
          17646,
          17790.34961,
          17895.19922,
          17945.94922,
          17991.94922,
          18161.75,
          18338.55078,
          18477.05078,
          18418.75,
          18266.59961,
          18178.09961,
          18114.90039,
          18125.40039,
          18268.40039,
          18210.94922,
          17857.25,
          17671.65039,
          17929.65039,
          17888.94922,
          17829.19922,
          17916.80078,
          18068.55078,
          18044.25,
          18017.19922,
          17873.59961,
          18102.75,
          18109.44922,
          17999.19922,
          17898.65039,
          17764.80078,
          17416.55078,
          17503.34961,
          17415.05078,
          17536.25,
          17026.44922,
          17053.94922,
          16983.19922,
          17166.90039,
          17401.65039,
          17196.69922,
          16912.25,
          17176.69922,
          17469.75,
          17516.84961,
          17511.30078,
          17368.25,
          17324.90039,
          17221.40039,
          17248.40039,
          16985.19922,
          16614.19922,
          16770.84961,
          16955.44922,
          17072.59961,
          17003.75,
          17086.25,
          17233.25,
          17213.59961,
          17203.94922,
          17354.05078,
          17625.69922,
          17805.25,
          17925.25,
          17745.90039,
          17812.69922,
          18003.30078,
          18055.75,
          18212.34961,
          18257.80078,
          18255.75,
          18308.09961,
          18113.05078,
          17938.40039,
          17757,
          17617.15039,
          17149.09961,
          17277.94922,
          17110.15039,
          17101.94922,
          17339.84961,
          17576.84961,
          17780,
          17560.19922,
          17516.30078,
          17213.59961,
          17266.75,
          17463.80078,
          17605.84961,
          17374.75,
          16842.80078,
          17352.44922,
          17322.19922,
          17304.59961,
          17276.30078,
          17206.65039,
          17092.19922,
          17063.25,
          16247.9502,
          16658.40039,
          16793.90039,
          16605.94922,
          16498.05078,
          16245.34961,
          15863.15039,
          16013.4502,
          16345.34961,
          16594.90039,
          16630.44922,
          16871.30078,
          16663,
          16975.34961,
          17287.05078,
          17117.59961,
          17315.5,
          17245.65039,
          17222.75,
          17153,
          17222,
          17325.30078,
          17498.25,
          17464.75,
          17670.44922,
          18053.40039,
          17957.40039,
          17807.65039,
          17639.55078,
          17784.34961,
          17674.94922,
          17530.30078,
          17475.65039,
          17173.65039,
          16958.65039,
          17136.55078,
          17392.59961,
          17171.94922,
          16953.94922,
          17200.80078,
          17038.40039,
          17245.05078,
          17102.55078,
          17069.09961,
          16677.59961,
          16682.65039,
          16411.25,
          16301.84961,
          16240.049809999999,
          16167.09961,
          15808,
          15782.15039,
          15842.299809999999,
          16259.299809999999,
          16240.299809999999,
          15809.40039,
          16266.15039,
          16214.7002,
          16125.15039,
          16025.799809999999,
          16170.15039,
          16352.45
         ],
         "yaxis": "y"
        }
       ],
       "layout": {
        "legend": {
         "tracegroupgap": 0
        },
        "template": {
         "data": {
          "bar": [
           {
            "error_x": {
             "color": "#2a3f5f"
            },
            "error_y": {
             "color": "#2a3f5f"
            },
            "marker": {
             "line": {
              "color": "#E5ECF6",
              "width": 0.5
             },
             "pattern": {
              "fillmode": "overlay",
              "size": 10,
              "solidity": 0.2
             }
            },
            "type": "bar"
           }
          ],
          "barpolar": [
           {
            "marker": {
             "line": {
              "color": "#E5ECF6",
              "width": 0.5
             },
             "pattern": {
              "fillmode": "overlay",
              "size": 10,
              "solidity": 0.2
             }
            },
            "type": "barpolar"
           }
          ],
          "carpet": [
           {
            "aaxis": {
             "endlinecolor": "#2a3f5f",
             "gridcolor": "white",
             "linecolor": "white",
             "minorgridcolor": "white",
             "startlinecolor": "#2a3f5f"
            },
            "baxis": {
             "endlinecolor": "#2a3f5f",
             "gridcolor": "white",
             "linecolor": "white",
             "minorgridcolor": "white",
             "startlinecolor": "#2a3f5f"
            },
            "type": "carpet"
           }
          ],
          "choropleth": [
           {
            "colorbar": {
             "outlinewidth": 0,
             "ticks": ""
            },
            "type": "choropleth"
           }
          ],
          "contour": [
           {
            "colorbar": {
             "outlinewidth": 0,
             "ticks": ""
            },
            "colorscale": [
             [
              0,
              "#0d0887"
             ],
             [
              0.1111111111111111,
              "#46039f"
             ],
             [
              0.2222222222222222,
              "#7201a8"
             ],
             [
              0.3333333333333333,
              "#9c179e"
             ],
             [
              0.4444444444444444,
              "#bd3786"
             ],
             [
              0.5555555555555556,
              "#d8576b"
             ],
             [
              0.6666666666666666,
              "#ed7953"
             ],
             [
              0.7777777777777778,
              "#fb9f3a"
             ],
             [
              0.8888888888888888,
              "#fdca26"
             ],
             [
              1,
              "#f0f921"
             ]
            ],
            "type": "contour"
           }
          ],
          "contourcarpet": [
           {
            "colorbar": {
             "outlinewidth": 0,
             "ticks": ""
            },
            "type": "contourcarpet"
           }
          ],
          "heatmap": [
           {
            "colorbar": {
             "outlinewidth": 0,
             "ticks": ""
            },
            "colorscale": [
             [
              0,
              "#0d0887"
             ],
             [
              0.1111111111111111,
              "#46039f"
             ],
             [
              0.2222222222222222,
              "#7201a8"
             ],
             [
              0.3333333333333333,
              "#9c179e"
             ],
             [
              0.4444444444444444,
              "#bd3786"
             ],
             [
              0.5555555555555556,
              "#d8576b"
             ],
             [
              0.6666666666666666,
              "#ed7953"
             ],
             [
              0.7777777777777778,
              "#fb9f3a"
             ],
             [
              0.8888888888888888,
              "#fdca26"
             ],
             [
              1,
              "#f0f921"
             ]
            ],
            "type": "heatmap"
           }
          ],
          "heatmapgl": [
           {
            "colorbar": {
             "outlinewidth": 0,
             "ticks": ""
            },
            "colorscale": [
             [
              0,
              "#0d0887"
             ],
             [
              0.1111111111111111,
              "#46039f"
             ],
             [
              0.2222222222222222,
              "#7201a8"
             ],
             [
              0.3333333333333333,
              "#9c179e"
             ],
             [
              0.4444444444444444,
              "#bd3786"
             ],
             [
              0.5555555555555556,
              "#d8576b"
             ],
             [
              0.6666666666666666,
              "#ed7953"
             ],
             [
              0.7777777777777778,
              "#fb9f3a"
             ],
             [
              0.8888888888888888,
              "#fdca26"
             ],
             [
              1,
              "#f0f921"
             ]
            ],
            "type": "heatmapgl"
           }
          ],
          "histogram": [
           {
            "marker": {
             "pattern": {
              "fillmode": "overlay",
              "size": 10,
              "solidity": 0.2
             }
            },
            "type": "histogram"
           }
          ],
          "histogram2d": [
           {
            "colorbar": {
             "outlinewidth": 0,
             "ticks": ""
            },
            "colorscale": [
             [
              0,
              "#0d0887"
             ],
             [
              0.1111111111111111,
              "#46039f"
             ],
             [
              0.2222222222222222,
              "#7201a8"
             ],
             [
              0.3333333333333333,
              "#9c179e"
             ],
             [
              0.4444444444444444,
              "#bd3786"
             ],
             [
              0.5555555555555556,
              "#d8576b"
             ],
             [
              0.6666666666666666,
              "#ed7953"
             ],
             [
              0.7777777777777778,
              "#fb9f3a"
             ],
             [
              0.8888888888888888,
              "#fdca26"
             ],
             [
              1,
              "#f0f921"
             ]
            ],
            "type": "histogram2d"
           }
          ],
          "histogram2dcontour": [
           {
            "colorbar": {
             "outlinewidth": 0,
             "ticks": ""
            },
            "colorscale": [
             [
              0,
              "#0d0887"
             ],
             [
              0.1111111111111111,
              "#46039f"
             ],
             [
              0.2222222222222222,
              "#7201a8"
             ],
             [
              0.3333333333333333,
              "#9c179e"
             ],
             [
              0.4444444444444444,
              "#bd3786"
             ],
             [
              0.5555555555555556,
              "#d8576b"
             ],
             [
              0.6666666666666666,
              "#ed7953"
             ],
             [
              0.7777777777777778,
              "#fb9f3a"
             ],
             [
              0.8888888888888888,
              "#fdca26"
             ],
             [
              1,
              "#f0f921"
             ]
            ],
            "type": "histogram2dcontour"
           }
          ],
          "mesh3d": [
           {
            "colorbar": {
             "outlinewidth": 0,
             "ticks": ""
            },
            "type": "mesh3d"
           }
          ],
          "parcoords": [
           {
            "line": {
             "colorbar": {
              "outlinewidth": 0,
              "ticks": ""
             }
            },
            "type": "parcoords"
           }
          ],
          "pie": [
           {
            "automargin": true,
            "type": "pie"
           }
          ],
          "scatter": [
           {
            "fillpattern": {
             "fillmode": "overlay",
             "size": 10,
             "solidity": 0.2
            },
            "type": "scatter"
           }
          ],
          "scatter3d": [
           {
            "line": {
             "colorbar": {
              "outlinewidth": 0,
              "ticks": ""
             }
            },
            "marker": {
             "colorbar": {
              "outlinewidth": 0,
              "ticks": ""
             }
            },
            "type": "scatter3d"
           }
          ],
          "scattercarpet": [
           {
            "marker": {
             "colorbar": {
              "outlinewidth": 0,
              "ticks": ""
             }
            },
            "type": "scattercarpet"
           }
          ],
          "scattergeo": [
           {
            "marker": {
             "colorbar": {
              "outlinewidth": 0,
              "ticks": ""
             }
            },
            "type": "scattergeo"
           }
          ],
          "scattergl": [
           {
            "marker": {
             "colorbar": {
              "outlinewidth": 0,
              "ticks": ""
             }
            },
            "type": "scattergl"
           }
          ],
          "scattermapbox": [
           {
            "marker": {
             "colorbar": {
              "outlinewidth": 0,
              "ticks": ""
             }
            },
            "type": "scattermapbox"
           }
          ],
          "scatterpolar": [
           {
            "marker": {
             "colorbar": {
              "outlinewidth": 0,
              "ticks": ""
             }
            },
            "type": "scatterpolar"
           }
          ],
          "scatterpolargl": [
           {
            "marker": {
             "colorbar": {
              "outlinewidth": 0,
              "ticks": ""
             }
            },
            "type": "scatterpolargl"
           }
          ],
          "scatterternary": [
           {
            "marker": {
             "colorbar": {
              "outlinewidth": 0,
              "ticks": ""
             }
            },
            "type": "scatterternary"
           }
          ],
          "surface": [
           {
            "colorbar": {
             "outlinewidth": 0,
             "ticks": ""
            },
            "colorscale": [
             [
              0,
              "#0d0887"
             ],
             [
              0.1111111111111111,
              "#46039f"
             ],
             [
              0.2222222222222222,
              "#7201a8"
             ],
             [
              0.3333333333333333,
              "#9c179e"
             ],
             [
              0.4444444444444444,
              "#bd3786"
             ],
             [
              0.5555555555555556,
              "#d8576b"
             ],
             [
              0.6666666666666666,
              "#ed7953"
             ],
             [
              0.7777777777777778,
              "#fb9f3a"
             ],
             [
              0.8888888888888888,
              "#fdca26"
             ],
             [
              1,
              "#f0f921"
             ]
            ],
            "type": "surface"
           }
          ],
          "table": [
           {
            "cells": {
             "fill": {
              "color": "#EBF0F8"
             },
             "line": {
              "color": "white"
             }
            },
            "header": {
             "fill": {
              "color": "#C8D4E3"
             },
             "line": {
              "color": "white"
             }
            },
            "type": "table"
           }
          ]
         },
         "layout": {
          "annotationdefaults": {
           "arrowcolor": "#2a3f5f",
           "arrowhead": 0,
           "arrowwidth": 1
          },
          "autotypenumbers": "strict",
          "coloraxis": {
           "colorbar": {
            "outlinewidth": 0,
            "ticks": ""
           }
          },
          "colorscale": {
           "diverging": [
            [
             0,
             "#8e0152"
            ],
            [
             0.1,
             "#c51b7d"
            ],
            [
             0.2,
             "#de77ae"
            ],
            [
             0.3,
             "#f1b6da"
            ],
            [
             0.4,
             "#fde0ef"
            ],
            [
             0.5,
             "#f7f7f7"
            ],
            [
             0.6,
             "#e6f5d0"
            ],
            [
             0.7,
             "#b8e186"
            ],
            [
             0.8,
             "#7fbc41"
            ],
            [
             0.9,
             "#4d9221"
            ],
            [
             1,
             "#276419"
            ]
           ],
           "sequential": [
            [
             0,
             "#0d0887"
            ],
            [
             0.1111111111111111,
             "#46039f"
            ],
            [
             0.2222222222222222,
             "#7201a8"
            ],
            [
             0.3333333333333333,
             "#9c179e"
            ],
            [
             0.4444444444444444,
             "#bd3786"
            ],
            [
             0.5555555555555556,
             "#d8576b"
            ],
            [
             0.6666666666666666,
             "#ed7953"
            ],
            [
             0.7777777777777778,
             "#fb9f3a"
            ],
            [
             0.8888888888888888,
             "#fdca26"
            ],
            [
             1,
             "#f0f921"
            ]
           ],
           "sequentialminus": [
            [
             0,
             "#0d0887"
            ],
            [
             0.1111111111111111,
             "#46039f"
            ],
            [
             0.2222222222222222,
             "#7201a8"
            ],
            [
             0.3333333333333333,
             "#9c179e"
            ],
            [
             0.4444444444444444,
             "#bd3786"
            ],
            [
             0.5555555555555556,
             "#d8576b"
            ],
            [
             0.6666666666666666,
             "#ed7953"
            ],
            [
             0.7777777777777778,
             "#fb9f3a"
            ],
            [
             0.8888888888888888,
             "#fdca26"
            ],
            [
             1,
             "#f0f921"
            ]
           ]
          },
          "colorway": [
           "#636efa",
           "#EF553B",
           "#00cc96",
           "#ab63fa",
           "#FFA15A",
           "#19d3f3",
           "#FF6692",
           "#B6E880",
           "#FF97FF",
           "#FECB52"
          ],
          "font": {
           "color": "#2a3f5f"
          },
          "geo": {
           "bgcolor": "white",
           "lakecolor": "white",
           "landcolor": "#E5ECF6",
           "showlakes": true,
           "showland": true,
           "subunitcolor": "white"
          },
          "hoverlabel": {
           "align": "left"
          },
          "hovermode": "closest",
          "mapbox": {
           "style": "light"
          },
          "paper_bgcolor": "white",
          "plot_bgcolor": "#E5ECF6",
          "polar": {
           "angularaxis": {
            "gridcolor": "white",
            "linecolor": "white",
            "ticks": ""
           },
           "bgcolor": "#E5ECF6",
           "radialaxis": {
            "gridcolor": "white",
            "linecolor": "white",
            "ticks": ""
           }
          },
          "scene": {
           "xaxis": {
            "backgroundcolor": "#E5ECF6",
            "gridcolor": "white",
            "gridwidth": 2,
            "linecolor": "white",
            "showbackground": true,
            "ticks": "",
            "zerolinecolor": "white"
           },
           "yaxis": {
            "backgroundcolor": "#E5ECF6",
            "gridcolor": "white",
            "gridwidth": 2,
            "linecolor": "white",
            "showbackground": true,
            "ticks": "",
            "zerolinecolor": "white"
           },
           "zaxis": {
            "backgroundcolor": "#E5ECF6",
            "gridcolor": "white",
            "gridwidth": 2,
            "linecolor": "white",
            "showbackground": true,
            "ticks": "",
            "zerolinecolor": "white"
           }
          },
          "shapedefaults": {
           "line": {
            "color": "#2a3f5f"
           }
          },
          "ternary": {
           "aaxis": {
            "gridcolor": "white",
            "linecolor": "white",
            "ticks": ""
           },
           "baxis": {
            "gridcolor": "white",
            "linecolor": "white",
            "ticks": ""
           },
           "bgcolor": "#E5ECF6",
           "caxis": {
            "gridcolor": "white",
            "linecolor": "white",
            "ticks": ""
           }
          },
          "title": {
           "x": 0.05
          },
          "xaxis": {
           "automargin": true,
           "gridcolor": "white",
           "linecolor": "white",
           "ticks": "",
           "title": {
            "standoff": 15
           },
           "zerolinecolor": "white",
           "zerolinewidth": 2
          },
          "yaxis": {
           "automargin": true,
           "gridcolor": "white",
           "linecolor": "white",
           "ticks": "",
           "title": {
            "standoff": 15
           },
           "zerolinecolor": "white",
           "zerolinewidth": 2
          }
         }
        },
        "title": {
         "text": "Nifty Close Price"
        },
        "xaxis": {
         "anchor": "y",
         "domain": [
          0,
          1
         ],
         "rangeselector": {
          "buttons": [
           {
            "count": 1,
            "label": "1m",
            "step": "month",
            "stepmode": "backward"
           },
           {
            "count": 6,
            "label": "6m",
            "step": "month",
            "stepmode": "backward"
           },
           {
            "count": 1,
            "label": "YTD",
            "step": "year",
            "stepmode": "todate"
           },
           {
            "count": 1,
            "label": "1y",
            "step": "year",
            "stepmode": "backward"
           },
           {
            "step": "all"
           }
          ]
         },
         "rangeslider": {
          "visible": true
         },
         "title": {
          "text": "Date"
         }
        },
        "yaxis": {
         "anchor": "x",
         "domain": [
          0,
          1
         ],
         "minor": {
          "showgrid": true,
          "ticks": "inside"
         },
         "title": {
          "text": "Close"
         }
        }
       }
      },
      "text/html": [
       "<div>                            <div id=\"8e2b5132-a57d-4f1b-8459-8c159bbde45c\" class=\"plotly-graph-div\" style=\"height:525px; width:100%;\"></div>            <script type=\"text/javascript\">                require([\"plotly\"], function(Plotly) {                    window.PLOTLYENV=window.PLOTLYENV || {};                                    if (document.getElementById(\"8e2b5132-a57d-4f1b-8459-8c159bbde45c\")) {                    Plotly.newPlot(                        \"8e2b5132-a57d-4f1b-8459-8c159bbde45c\",                        [{\"hovertemplate\":\"Date=%{x|%B %d, %Y}<br>Close=%{y}<extra></extra>\",\"legendgroup\":\"\",\"line\":{\"color\":\"#636efa\",\"dash\":\"solid\"},\"marker\":{\"symbol\":\"circle\"},\"mode\":\"lines\",\"name\":\"\",\"orientation\":\"v\",\"showlegend\":false,\"x\":[\"3/2/2020\",\"3/3/2020\",\"3/4/2020\",\"3/5/2020\",\"3/6/2020\",\"3/9/2020\",\"3/11/2020\",\"3/12/2020\",\"3/13/2020\",\"3/16/2020\",\"3/17/2020\",\"3/18/2020\",\"3/19/2020\",\"3/20/2020\",\"3/23/2020\",\"3/24/2020\",\"3/25/2020\",\"3/26/2020\",\"3/27/2020\",\"3/30/2020\",\"3/31/2020\",\"4/1/2020\",\"4/3/2020\",\"4/7/2020\",\"4/8/2020\",\"4/9/2020\",\"4/13/2020\",\"4/15/2020\",\"4/16/2020\",\"4/17/2020\",\"4/20/2020\",\"4/21/2020\",\"4/22/2020\",\"4/23/2020\",\"4/24/2020\",\"4/27/2020\",\"4/28/2020\",\"4/29/2020\",\"4/30/2020\",\"5/4/2020\",\"5/5/2020\",\"5/6/2020\",\"5/7/2020\",\"5/8/2020\",\"5/11/2020\",\"5/12/2020\",\"5/13/2020\",\"5/14/2020\",\"5/15/2020\",\"5/18/2020\",\"5/19/2020\",\"5/20/2020\",\"5/21/2020\",\"5/22/2020\",\"5/26/2020\",\"5/27/2020\",\"5/28/2020\",\"5/29/2020\",\"6/1/2020\",\"6/2/2020\",\"6/3/2020\",\"6/4/2020\",\"6/5/2020\",\"6/8/2020\",\"6/9/2020\",\"6/10/2020\",\"6/11/2020\",\"6/12/2020\",\"6/15/2020\",\"6/16/2020\",\"6/17/2020\",\"6/18/2020\",\"6/19/2020\",\"6/22/2020\",\"6/23/2020\",\"6/24/2020\",\"6/25/2020\",\"6/26/2020\",\"6/29/2020\",\"6/30/2020\",\"7/1/2020\",\"7/2/2020\",\"7/3/2020\",\"7/6/2020\",\"7/7/2020\",\"7/8/2020\",\"7/9/2020\",\"7/10/2020\",\"7/13/2020\",\"7/14/2020\",\"7/15/2020\",\"7/16/2020\",\"7/17/2020\",\"7/20/2020\",\"7/21/2020\",\"7/22/2020\",\"7/23/2020\",\"7/24/2020\",\"7/27/2020\",\"7/28/2020\",\"7/29/2020\",\"7/30/2020\",\"7/31/2020\",\"8/3/2020\",\"8/4/2020\",\"8/5/2020\",\"8/6/2020\",\"8/7/2020\",\"8/10/2020\",\"8/11/2020\",\"8/12/2020\",\"8/13/2020\",\"8/14/2020\",\"8/17/2020\",\"8/18/2020\",\"8/19/2020\",\"8/20/2020\",\"8/21/2020\",\"8/24/2020\",\"8/25/2020\",\"8/26/2020\",\"8/27/2020\",\"8/28/2020\",\"8/31/2020\",\"9/1/2020\",\"9/2/2020\",\"9/3/2020\",\"9/4/2020\",\"9/7/2020\",\"9/8/2020\",\"9/9/2020\",\"9/10/2020\",\"9/11/2020\",\"9/14/2020\",\"9/15/2020\",\"9/16/2020\",\"9/17/2020\",\"9/18/2020\",\"9/21/2020\",\"9/22/2020\",\"9/23/2020\",\"9/24/2020\",\"9/25/2020\",\"9/28/2020\",\"9/29/2020\",\"9/30/2020\",\"10/1/2020\",\"10/5/2020\",\"10/6/2020\",\"10/7/2020\",\"10/8/2020\",\"10/9/2020\",\"10/12/2020\",\"10/13/2020\",\"10/14/2020\",\"10/15/2020\",\"10/16/2020\",\"10/19/2020\",\"10/20/2020\",\"10/21/2020\",\"10/22/2020\",\"10/23/2020\",\"10/26/2020\",\"10/27/2020\",\"10/28/2020\",\"10/29/2020\",\"10/30/2020\",\"11/2/2020\",\"11/3/2020\",\"11/4/2020\",\"11/5/2020\",\"11/6/2020\",\"11/9/2020\",\"11/10/2020\",\"11/11/2020\",\"11/12/2020\",\"11/13/2020\",\"11/14/2020\",\"11/17/2020\",\"11/18/2020\",\"11/19/2020\",\"11/20/2020\",\"11/23/2020\",\"11/24/2020\",\"11/25/2020\",\"11/26/2020\",\"11/27/2020\",\"12/1/2020\",\"12/2/2020\",\"12/3/2020\",\"12/4/2020\",\"12/7/2020\",\"12/8/2020\",\"12/9/2020\",\"12/10/2020\",\"12/11/2020\",\"12/14/2020\",\"12/15/2020\",\"12/16/2020\",\"12/17/2020\",\"12/18/2020\",\"12/21/2020\",\"12/22/2020\",\"12/23/2020\",\"12/24/2020\",\"12/28/2020\",\"12/29/2020\",\"12/30/2020\",\"12/31/2020\",\"1/1/2021\",\"1/4/2021\",\"1/5/2021\",\"1/6/2021\",\"1/7/2021\",\"1/8/2021\",\"1/11/2021\",\"1/12/2021\",\"1/13/2021\",\"1/14/2021\",\"1/15/2021\",\"1/18/2021\",\"1/19/2021\",\"1/20/2021\",\"1/21/2021\",\"1/22/2021\",\"1/25/2021\",\"1/27/2021\",\"1/28/2021\",\"1/29/2021\",\"2/1/2021\",\"2/2/2021\",\"2/3/2021\",\"2/4/2021\",\"2/5/2021\",\"2/8/2021\",\"2/9/2021\",\"2/10/2021\",\"2/11/2021\",\"2/12/2021\",\"2/15/2021\",\"2/16/2021\",\"2/17/2021\",\"2/18/2021\",\"2/19/2021\",\"2/22/2021\",\"2/23/2021\",\"2/24/2021\",\"2/25/2021\",\"2/26/2021\",\"3/1/2021\",\"3/2/2021\",\"3/3/2021\",\"3/4/2021\",\"3/5/2021\",\"3/8/2021\",\"3/9/2021\",\"3/10/2021\",\"3/12/2021\",\"3/15/2021\",\"3/16/2021\",\"3/17/2021\",\"3/18/2021\",\"3/19/2021\",\"3/22/2021\",\"3/23/2021\",\"3/24/2021\",\"3/25/2021\",\"3/26/2021\",\"3/30/2021\",\"3/31/2021\",\"4/1/2021\",\"4/5/2021\",\"4/6/2021\",\"4/7/2021\",\"4/8/2021\",\"4/9/2021\",\"4/12/2021\",\"4/13/2021\",\"4/15/2021\",\"4/16/2021\",\"4/19/2021\",\"4/20/2021\",\"4/22/2021\",\"4/23/2021\",\"4/26/2021\",\"4/27/2021\",\"4/28/2021\",\"4/29/2021\",\"4/30/2021\",\"5/3/2021\",\"5/4/2021\",\"5/5/2021\",\"5/6/2021\",\"5/7/2021\",\"5/10/2021\",\"5/11/2021\",\"5/12/2021\",\"5/14/2021\",\"5/17/2021\",\"5/18/2021\",\"5/19/2021\",\"5/20/2021\",\"5/21/2021\",\"5/24/2021\",\"5/25/2021\",\"5/26/2021\",\"5/27/2021\",\"5/28/2021\",\"5/31/2021\",\"6/1/2021\",\"6/2/2021\",\"6/3/2021\",\"6/4/2021\",\"6/7/2021\",\"6/8/2021\",\"6/9/2021\",\"6/10/2021\",\"6/11/2021\",\"6/14/2021\",\"6/15/2021\",\"6/16/2021\",\"6/17/2021\",\"6/18/2021\",\"6/21/2021\",\"6/22/2021\",\"6/23/2021\",\"6/24/2021\",\"6/25/2021\",\"6/28/2021\",\"6/29/2021\",\"6/30/2021\",\"7/1/2021\",\"7/2/2021\",\"7/5/2021\",\"7/6/2021\",\"7/7/2021\",\"7/8/2021\",\"7/9/2021\",\"7/12/2021\",\"7/13/2021\",\"7/14/2021\",\"7/15/2021\",\"7/16/2021\",\"7/19/2021\",\"7/20/2021\",\"7/22/2021\",\"7/23/2021\",\"7/26/2021\",\"7/27/2021\",\"7/28/2021\",\"7/29/2021\",\"7/30/2021\",\"8/2/2021\",\"8/3/2021\",\"8/4/2021\",\"8/5/2021\",\"8/6/2021\",\"8/9/2021\",\"8/10/2021\",\"8/11/2021\",\"8/12/2021\",\"8/13/2021\",\"8/16/2021\",\"8/17/2021\",\"8/18/2021\",\"8/20/2021\",\"8/23/2021\",\"8/24/2021\",\"8/25/2021\",\"8/26/2021\",\"8/27/2021\",\"8/30/2021\",\"8/31/2021\",\"9/1/2021\",\"9/2/2021\",\"9/3/2021\",\"9/6/2021\",\"9/7/2021\",\"9/8/2021\",\"9/9/2021\",\"9/13/2021\",\"9/14/2021\",\"9/15/2021\",\"9/16/2021\",\"9/17/2021\",\"9/20/2021\",\"9/21/2021\",\"9/22/2021\",\"9/23/2021\",\"9/24/2021\",\"9/27/2021\",\"9/28/2021\",\"9/29/2021\",\"9/30/2021\",\"10/1/2021\",\"10/4/2021\",\"10/5/2021\",\"10/6/2021\",\"10/7/2021\",\"10/8/2021\",\"10/11/2021\",\"10/12/2021\",\"10/13/2021\",\"10/14/2021\",\"10/18/2021\",\"10/19/2021\",\"10/20/2021\",\"10/21/2021\",\"10/22/2021\",\"10/25/2021\",\"10/26/2021\",\"10/27/2021\",\"10/28/2021\",\"10/29/2021\",\"11/1/2021\",\"11/2/2021\",\"11/3/2021\",\"11/4/2021\",\"11/8/2021\",\"11/9/2021\",\"11/10/2021\",\"11/11/2021\",\"11/12/2021\",\"11/15/2021\",\"11/16/2021\",\"11/17/2021\",\"11/18/2021\",\"11/22/2021\",\"11/23/2021\",\"11/24/2021\",\"11/25/2021\",\"11/26/2021\",\"11/29/2021\",\"11/30/2021\",\"12/1/2021\",\"12/2/2021\",\"12/3/2021\",\"12/6/2021\",\"12/7/2021\",\"12/8/2021\",\"12/9/2021\",\"12/10/2021\",\"12/13/2021\",\"12/14/2021\",\"12/15/2021\",\"12/16/2021\",\"12/17/2021\",\"12/20/2021\",\"12/21/2021\",\"12/22/2021\",\"12/23/2021\",\"12/24/2021\",\"12/27/2021\",\"12/28/2021\",\"12/29/2021\",\"12/30/2021\",\"12/31/2021\",\"1/3/2022\",\"1/4/2022\",\"1/5/2022\",\"1/6/2022\",\"1/7/2022\",\"1/10/2022\",\"1/11/2022\",\"1/12/2022\",\"1/13/2022\",\"1/14/2022\",\"1/17/2022\",\"1/18/2022\",\"1/19/2022\",\"1/20/2022\",\"1/21/2022\",\"1/24/2022\",\"1/25/2022\",\"1/27/2022\",\"1/28/2022\",\"1/31/2022\",\"2/1/2022\",\"2/2/2022\",\"2/3/2022\",\"2/4/2022\",\"2/7/2022\",\"2/8/2022\",\"2/9/2022\",\"2/10/2022\",\"2/11/2022\",\"2/14/2022\",\"2/15/2022\",\"2/16/2022\",\"2/17/2022\",\"2/18/2022\",\"2/21/2022\",\"2/22/2022\",\"2/23/2022\",\"2/24/2022\",\"2/25/2022\",\"2/28/2022\",\"3/2/2022\",\"3/3/2022\",\"3/4/2022\",\"3/7/2022\",\"3/8/2022\",\"3/9/2022\",\"3/10/2022\",\"3/11/2022\",\"3/14/2022\",\"3/15/2022\",\"3/16/2022\",\"3/17/2022\",\"3/21/2022\",\"3/22/2022\",\"3/23/2022\",\"3/24/2022\",\"3/25/2022\",\"3/28/2022\",\"3/29/2022\",\"3/30/2022\",\"3/31/2022\",\"4/1/2022\",\"4/4/2022\",\"4/5/2022\",\"4/6/2022\",\"4/7/2022\",\"4/8/2022\",\"4/11/2022\",\"4/12/2022\",\"4/13/2022\",\"4/18/2022\",\"4/19/2022\",\"4/20/2022\",\"4/21/2022\",\"4/22/2022\",\"4/25/2022\",\"4/26/2022\",\"4/27/2022\",\"4/28/2022\",\"4/29/2022\",\"5/2/2022\",\"5/4/2022\",\"5/5/2022\",\"5/6/2022\",\"5/9/2022\",\"5/10/2022\",\"5/11/2022\",\"5/12/2022\",\"5/13/2022\",\"5/16/2022\",\"5/17/2022\",\"5/18/2022\",\"5/19/2022\",\"5/20/2022\",\"5/23/2022\",\"5/24/2022\",\"5/25/2022\",\"5/26/2022\",\"5/27/2022\"],\"xaxis\":\"x\",\"y\":[11132.75,11303.299809999999,11251.0,11269.0,10989.4502,10451.4502,10458.40039,9590.150391,9955.200195,9197.400391,8967.049805,8468.799805,8263.450195,8745.450195,7610.25,7801.049805,8317.849609,8641.450195,8660.25,8281.099609,8597.75,8253.799805,8083.799805,8792.200195,8748.75,9111.900391,8993.849609,8925.299805,8992.799805,9266.75,9261.849609,8981.450195,9187.299805,9313.900391,9154.400391,9282.299805,9380.900391,9553.349609,9859.900391,9293.5,9205.599609,9270.900391,9199.049805,9251.5,9239.200195,9196.549805,9383.549805,9142.75,9136.849609,8823.25,8879.099609,9066.549805,9106.25,9039.25,9029.049805,9314.950195,9490.099609,9580.299805,9826.150391,9979.099609,10061.549809999999,10029.09961,10142.15039,10167.4502,10046.65039,10116.15039,9902.0,9972.900391,9813.700195,9914.0,9881.150391,10091.65039,10244.40039,10311.2002,10471.0,10305.299809999999,10288.90039,10383.0,10312.40039,10302.09961,10430.049809999999,10551.7002,10607.34961,10763.65039,10799.65039,10705.75,10813.4502,10768.049809999999,10802.7002,10607.34961,10618.2002,10739.9502,10901.7002,11022.2002,11162.25,11132.59961,11215.4502,11194.15039,11131.799809999999,11300.549809999999,11202.84961,11102.15039,11073.4502,10891.59961,11095.25,11101.65039,11200.15039,11214.049809999999,11270.15039,11322.5,11308.40039,11300.4502,11178.40039,11247.09961,11385.34961,11408.40039,11312.2002,11371.59961,11466.4502,11472.25,11549.59961,11559.25,11647.59961,11387.5,11470.25,11535.0,11527.4502,11333.84961,11355.049809999999,11317.34961,11278.0,11449.25,11464.4502,11440.049809999999,11521.799809999999,11604.549809999999,11516.09961,11504.9502,11250.549809999999,11153.65039,11131.84961,10805.549809999999,11050.25,11227.549809999999,11222.40039,11247.549809999999,11416.9502,11503.34961,11662.40039,11738.84961,11834.59961,11914.2002,11930.9502,11934.5,11971.049809999999,11680.34961,11762.4502,11873.049809999999,11896.799809999999,11937.65039,11896.4502,11930.34961,11767.75,11889.40039,11729.59961,11670.799809999999,11642.40039,11669.15039,11813.5,11908.5,12120.299809999999,12263.549809999999,12461.049809999999,12631.09961,12749.15039,12690.799809999999,12719.9502,null,12874.2002,12938.25,12771.7002,12859.049809999999,12926.4502,13055.15039,12858.40039,12987.0,12968.9502,13109.049809999999,13113.75,13133.90039,13258.549809999999,13355.75,13392.9502,13529.09961,13478.299809999999,13513.84961,13558.15039,13567.84961,13682.7002,13740.7002,13760.549809999999,13328.40039,13466.299809999999,13601.09961,13749.25,13873.2002,13932.59961,13981.9502,13981.75,14018.5,14132.90039,14199.5,14146.25,14137.34961,14347.25,14484.75,14563.4502,14564.84961,14595.59961,14433.7002,14281.299809999999,14521.15039,14644.7002,14590.34961,14371.90039,14238.90039,13967.5,13817.549809999999,13634.59961,14281.2002,14647.84961,14789.9502,14895.65039,14924.25,15115.799809999999,15109.299809999999,15106.5,15173.299809999999,15163.299809999999,15314.7002,15313.4502,15208.90039,15118.9502,14981.75,14675.7002,14707.799809999999,14982.0,15097.34961,14529.15039,14761.549809999999,14919.09961,15245.59961,15080.75,14938.09961,14956.2002,15098.40039,15174.799809999999,15030.9502,14929.5,14910.4502,14721.299809999999,14557.84961,14744.0,14736.40039,14814.75,14549.40039,14324.90039,14507.299809999999,14845.09961,14690.7002,14867.34961,14637.799809999999,14683.5,14819.049809999999,14873.799809999999,14834.84961,14310.799809999999,14504.799809999999,14581.4502,14617.84961,14359.4502,14296.40039,14406.15039,14341.34961,14485.0,14653.049809999999,14864.549809999999,14894.90039,14631.09961,14634.15039,14496.5,14617.84961,14724.799809999999,14823.15039,14942.34961,14850.75,14696.5,14677.799809999999,14923.15039,15108.09961,15030.15039,14906.049809999999,15175.299809999999,15197.7002,15208.4502,15301.4502,15337.84961,15435.65039,15582.799809999999,15574.84961,15576.2002,15690.34961,15670.25,15751.65039,15740.09961,15635.34961,15737.75,15799.34961,15811.84961,15869.25,15767.549809999999,15691.40039,15683.34961,15746.5,15772.75,15686.9502,15790.4502,15860.34961,15814.7002,15748.4502,15721.5,15680.0,15722.2002,15834.34961,15818.25,15879.65039,15727.90039,15689.799809999999,15692.59961,15812.34961,15853.9502,15924.2002,15923.40039,15752.40039,15632.09961,15824.049809999999,15856.049809999999,15824.4502,15746.4502,15709.40039,15778.4502,15763.049809999999,15885.15039,16130.75,16258.799809999999,16294.59961,16238.2002,16258.25,16280.09961,16282.25,16364.40039,16529.09961,16563.05078,16614.59961,16568.84961,16450.5,16496.44922,16624.59961,16634.65039,16636.90039,16705.19922,16931.05078,17132.19922,17076.25,17234.15039,17323.59961,17377.80078,17362.09961,17353.5,17369.25,17355.30078,17380.0,17519.44922,17629.5,17585.15039,17396.90039,17562.0,17546.65039,17822.94922,17853.19922,17855.09961,17748.59961,17711.30078,17618.15039,17532.05078,17691.25,17822.30078,17646.0,17790.34961,17895.19922,17945.94922,17991.94922,18161.75,18338.55078,18477.05078,18418.75,18266.59961,18178.09961,18114.90039,18125.40039,18268.40039,18210.94922,17857.25,17671.65039,17929.65039,17888.94922,17829.19922,17916.80078,18068.55078,18044.25,18017.19922,17873.59961,18102.75,18109.44922,17999.19922,17898.65039,17764.80078,17416.55078,17503.34961,17415.05078,17536.25,17026.44922,17053.94922,16983.19922,17166.90039,17401.65039,17196.69922,16912.25,17176.69922,17469.75,17516.84961,17511.30078,17368.25,17324.90039,17221.40039,17248.40039,16985.19922,16614.19922,16770.84961,16955.44922,17072.59961,17003.75,17086.25,17233.25,17213.59961,17203.94922,17354.05078,17625.69922,17805.25,17925.25,17745.90039,17812.69922,18003.30078,18055.75,18212.34961,18257.80078,18255.75,18308.09961,18113.05078,17938.40039,17757.0,17617.15039,17149.09961,17277.94922,17110.15039,17101.94922,17339.84961,17576.84961,17780.0,17560.19922,17516.30078,17213.59961,17266.75,17463.80078,17605.84961,17374.75,16842.80078,17352.44922,17322.19922,17304.59961,17276.30078,17206.65039,17092.19922,17063.25,16247.9502,16658.40039,16793.90039,16605.94922,16498.05078,16245.34961,15863.15039,16013.4502,16345.34961,16594.90039,16630.44922,16871.30078,16663.0,16975.34961,17287.05078,17117.59961,17315.5,17245.65039,17222.75,17153.0,17222.0,17325.30078,17498.25,17464.75,17670.44922,18053.40039,17957.40039,17807.65039,17639.55078,17784.34961,17674.94922,17530.30078,17475.65039,17173.65039,16958.65039,17136.55078,17392.59961,17171.94922,16953.94922,17200.80078,17038.40039,17245.05078,17102.55078,17069.09961,16677.59961,16682.65039,16411.25,16301.84961,16240.049809999999,16167.09961,15808.0,15782.15039,15842.299809999999,16259.299809999999,16240.299809999999,15809.40039,16266.15039,16214.7002,16125.15039,16025.799809999999,16170.15039,16352.45],\"yaxis\":\"y\",\"type\":\"scatter\"}],                        {\"template\":{\"data\":{\"histogram2dcontour\":[{\"type\":\"histogram2dcontour\",\"colorbar\":{\"outlinewidth\":0,\"ticks\":\"\"},\"colorscale\":[[0.0,\"#0d0887\"],[0.1111111111111111,\"#46039f\"],[0.2222222222222222,\"#7201a8\"],[0.3333333333333333,\"#9c179e\"],[0.4444444444444444,\"#bd3786\"],[0.5555555555555556,\"#d8576b\"],[0.6666666666666666,\"#ed7953\"],[0.7777777777777778,\"#fb9f3a\"],[0.8888888888888888,\"#fdca26\"],[1.0,\"#f0f921\"]]}],\"choropleth\":[{\"type\":\"choropleth\",\"colorbar\":{\"outlinewidth\":0,\"ticks\":\"\"}}],\"histogram2d\":[{\"type\":\"histogram2d\",\"colorbar\":{\"outlinewidth\":0,\"ticks\":\"\"},\"colorscale\":[[0.0,\"#0d0887\"],[0.1111111111111111,\"#46039f\"],[0.2222222222222222,\"#7201a8\"],[0.3333333333333333,\"#9c179e\"],[0.4444444444444444,\"#bd3786\"],[0.5555555555555556,\"#d8576b\"],[0.6666666666666666,\"#ed7953\"],[0.7777777777777778,\"#fb9f3a\"],[0.8888888888888888,\"#fdca26\"],[1.0,\"#f0f921\"]]}],\"heatmap\":[{\"type\":\"heatmap\",\"colorbar\":{\"outlinewidth\":0,\"ticks\":\"\"},\"colorscale\":[[0.0,\"#0d0887\"],[0.1111111111111111,\"#46039f\"],[0.2222222222222222,\"#7201a8\"],[0.3333333333333333,\"#9c179e\"],[0.4444444444444444,\"#bd3786\"],[0.5555555555555556,\"#d8576b\"],[0.6666666666666666,\"#ed7953\"],[0.7777777777777778,\"#fb9f3a\"],[0.8888888888888888,\"#fdca26\"],[1.0,\"#f0f921\"]]}],\"heatmapgl\":[{\"type\":\"heatmapgl\",\"colorbar\":{\"outlinewidth\":0,\"ticks\":\"\"},\"colorscale\":[[0.0,\"#0d0887\"],[0.1111111111111111,\"#46039f\"],[0.2222222222222222,\"#7201a8\"],[0.3333333333333333,\"#9c179e\"],[0.4444444444444444,\"#bd3786\"],[0.5555555555555556,\"#d8576b\"],[0.6666666666666666,\"#ed7953\"],[0.7777777777777778,\"#fb9f3a\"],[0.8888888888888888,\"#fdca26\"],[1.0,\"#f0f921\"]]}],\"contourcarpet\":[{\"type\":\"contourcarpet\",\"colorbar\":{\"outlinewidth\":0,\"ticks\":\"\"}}],\"contour\":[{\"type\":\"contour\",\"colorbar\":{\"outlinewidth\":0,\"ticks\":\"\"},\"colorscale\":[[0.0,\"#0d0887\"],[0.1111111111111111,\"#46039f\"],[0.2222222222222222,\"#7201a8\"],[0.3333333333333333,\"#9c179e\"],[0.4444444444444444,\"#bd3786\"],[0.5555555555555556,\"#d8576b\"],[0.6666666666666666,\"#ed7953\"],[0.7777777777777778,\"#fb9f3a\"],[0.8888888888888888,\"#fdca26\"],[1.0,\"#f0f921\"]]}],\"surface\":[{\"type\":\"surface\",\"colorbar\":{\"outlinewidth\":0,\"ticks\":\"\"},\"colorscale\":[[0.0,\"#0d0887\"],[0.1111111111111111,\"#46039f\"],[0.2222222222222222,\"#7201a8\"],[0.3333333333333333,\"#9c179e\"],[0.4444444444444444,\"#bd3786\"],[0.5555555555555556,\"#d8576b\"],[0.6666666666666666,\"#ed7953\"],[0.7777777777777778,\"#fb9f3a\"],[0.8888888888888888,\"#fdca26\"],[1.0,\"#f0f921\"]]}],\"mesh3d\":[{\"type\":\"mesh3d\",\"colorbar\":{\"outlinewidth\":0,\"ticks\":\"\"}}],\"scatter\":[{\"fillpattern\":{\"fillmode\":\"overlay\",\"size\":10,\"solidity\":0.2},\"type\":\"scatter\"}],\"parcoords\":[{\"type\":\"parcoords\",\"line\":{\"colorbar\":{\"outlinewidth\":0,\"ticks\":\"\"}}}],\"scatterpolargl\":[{\"type\":\"scatterpolargl\",\"marker\":{\"colorbar\":{\"outlinewidth\":0,\"ticks\":\"\"}}}],\"bar\":[{\"error_x\":{\"color\":\"#2a3f5f\"},\"error_y\":{\"color\":\"#2a3f5f\"},\"marker\":{\"line\":{\"color\":\"#E5ECF6\",\"width\":0.5},\"pattern\":{\"fillmode\":\"overlay\",\"size\":10,\"solidity\":0.2}},\"type\":\"bar\"}],\"scattergeo\":[{\"type\":\"scattergeo\",\"marker\":{\"colorbar\":{\"outlinewidth\":0,\"ticks\":\"\"}}}],\"scatterpolar\":[{\"type\":\"scatterpolar\",\"marker\":{\"colorbar\":{\"outlinewidth\":0,\"ticks\":\"\"}}}],\"histogram\":[{\"marker\":{\"pattern\":{\"fillmode\":\"overlay\",\"size\":10,\"solidity\":0.2}},\"type\":\"histogram\"}],\"scattergl\":[{\"type\":\"scattergl\",\"marker\":{\"colorbar\":{\"outlinewidth\":0,\"ticks\":\"\"}}}],\"scatter3d\":[{\"type\":\"scatter3d\",\"line\":{\"colorbar\":{\"outlinewidth\":0,\"ticks\":\"\"}},\"marker\":{\"colorbar\":{\"outlinewidth\":0,\"ticks\":\"\"}}}],\"scattermapbox\":[{\"type\":\"scattermapbox\",\"marker\":{\"colorbar\":{\"outlinewidth\":0,\"ticks\":\"\"}}}],\"scatterternary\":[{\"type\":\"scatterternary\",\"marker\":{\"colorbar\":{\"outlinewidth\":0,\"ticks\":\"\"}}}],\"scattercarpet\":[{\"type\":\"scattercarpet\",\"marker\":{\"colorbar\":{\"outlinewidth\":0,\"ticks\":\"\"}}}],\"carpet\":[{\"aaxis\":{\"endlinecolor\":\"#2a3f5f\",\"gridcolor\":\"white\",\"linecolor\":\"white\",\"minorgridcolor\":\"white\",\"startlinecolor\":\"#2a3f5f\"},\"baxis\":{\"endlinecolor\":\"#2a3f5f\",\"gridcolor\":\"white\",\"linecolor\":\"white\",\"minorgridcolor\":\"white\",\"startlinecolor\":\"#2a3f5f\"},\"type\":\"carpet\"}],\"table\":[{\"cells\":{\"fill\":{\"color\":\"#EBF0F8\"},\"line\":{\"color\":\"white\"}},\"header\":{\"fill\":{\"color\":\"#C8D4E3\"},\"line\":{\"color\":\"white\"}},\"type\":\"table\"}],\"barpolar\":[{\"marker\":{\"line\":{\"color\":\"#E5ECF6\",\"width\":0.5},\"pattern\":{\"fillmode\":\"overlay\",\"size\":10,\"solidity\":0.2}},\"type\":\"barpolar\"}],\"pie\":[{\"automargin\":true,\"type\":\"pie\"}]},\"layout\":{\"autotypenumbers\":\"strict\",\"colorway\":[\"#636efa\",\"#EF553B\",\"#00cc96\",\"#ab63fa\",\"#FFA15A\",\"#19d3f3\",\"#FF6692\",\"#B6E880\",\"#FF97FF\",\"#FECB52\"],\"font\":{\"color\":\"#2a3f5f\"},\"hovermode\":\"closest\",\"hoverlabel\":{\"align\":\"left\"},\"paper_bgcolor\":\"white\",\"plot_bgcolor\":\"#E5ECF6\",\"polar\":{\"bgcolor\":\"#E5ECF6\",\"angularaxis\":{\"gridcolor\":\"white\",\"linecolor\":\"white\",\"ticks\":\"\"},\"radialaxis\":{\"gridcolor\":\"white\",\"linecolor\":\"white\",\"ticks\":\"\"}},\"ternary\":{\"bgcolor\":\"#E5ECF6\",\"aaxis\":{\"gridcolor\":\"white\",\"linecolor\":\"white\",\"ticks\":\"\"},\"baxis\":{\"gridcolor\":\"white\",\"linecolor\":\"white\",\"ticks\":\"\"},\"caxis\":{\"gridcolor\":\"white\",\"linecolor\":\"white\",\"ticks\":\"\"}},\"coloraxis\":{\"colorbar\":{\"outlinewidth\":0,\"ticks\":\"\"}},\"colorscale\":{\"sequential\":[[0.0,\"#0d0887\"],[0.1111111111111111,\"#46039f\"],[0.2222222222222222,\"#7201a8\"],[0.3333333333333333,\"#9c179e\"],[0.4444444444444444,\"#bd3786\"],[0.5555555555555556,\"#d8576b\"],[0.6666666666666666,\"#ed7953\"],[0.7777777777777778,\"#fb9f3a\"],[0.8888888888888888,\"#fdca26\"],[1.0,\"#f0f921\"]],\"sequentialminus\":[[0.0,\"#0d0887\"],[0.1111111111111111,\"#46039f\"],[0.2222222222222222,\"#7201a8\"],[0.3333333333333333,\"#9c179e\"],[0.4444444444444444,\"#bd3786\"],[0.5555555555555556,\"#d8576b\"],[0.6666666666666666,\"#ed7953\"],[0.7777777777777778,\"#fb9f3a\"],[0.8888888888888888,\"#fdca26\"],[1.0,\"#f0f921\"]],\"diverging\":[[0,\"#8e0152\"],[0.1,\"#c51b7d\"],[0.2,\"#de77ae\"],[0.3,\"#f1b6da\"],[0.4,\"#fde0ef\"],[0.5,\"#f7f7f7\"],[0.6,\"#e6f5d0\"],[0.7,\"#b8e186\"],[0.8,\"#7fbc41\"],[0.9,\"#4d9221\"],[1,\"#276419\"]]},\"xaxis\":{\"gridcolor\":\"white\",\"linecolor\":\"white\",\"ticks\":\"\",\"title\":{\"standoff\":15},\"zerolinecolor\":\"white\",\"automargin\":true,\"zerolinewidth\":2},\"yaxis\":{\"gridcolor\":\"white\",\"linecolor\":\"white\",\"ticks\":\"\",\"title\":{\"standoff\":15},\"zerolinecolor\":\"white\",\"automargin\":true,\"zerolinewidth\":2},\"scene\":{\"xaxis\":{\"backgroundcolor\":\"#E5ECF6\",\"gridcolor\":\"white\",\"linecolor\":\"white\",\"showbackground\":true,\"ticks\":\"\",\"zerolinecolor\":\"white\",\"gridwidth\":2},\"yaxis\":{\"backgroundcolor\":\"#E5ECF6\",\"gridcolor\":\"white\",\"linecolor\":\"white\",\"showbackground\":true,\"ticks\":\"\",\"zerolinecolor\":\"white\",\"gridwidth\":2},\"zaxis\":{\"backgroundcolor\":\"#E5ECF6\",\"gridcolor\":\"white\",\"linecolor\":\"white\",\"showbackground\":true,\"ticks\":\"\",\"zerolinecolor\":\"white\",\"gridwidth\":2}},\"shapedefaults\":{\"line\":{\"color\":\"#2a3f5f\"}},\"annotationdefaults\":{\"arrowcolor\":\"#2a3f5f\",\"arrowhead\":0,\"arrowwidth\":1},\"geo\":{\"bgcolor\":\"white\",\"landcolor\":\"#E5ECF6\",\"subunitcolor\":\"white\",\"showland\":true,\"showlakes\":true,\"lakecolor\":\"white\"},\"title\":{\"x\":0.05},\"mapbox\":{\"style\":\"light\"}}},\"xaxis\":{\"anchor\":\"y\",\"domain\":[0.0,1.0],\"title\":{\"text\":\"Date\"},\"rangeslider\":{\"visible\":true},\"rangeselector\":{\"buttons\":[{\"count\":1,\"label\":\"1m\",\"step\":\"month\",\"stepmode\":\"backward\"},{\"count\":6,\"label\":\"6m\",\"step\":\"month\",\"stepmode\":\"backward\"},{\"count\":1,\"label\":\"YTD\",\"step\":\"year\",\"stepmode\":\"todate\"},{\"count\":1,\"label\":\"1y\",\"step\":\"year\",\"stepmode\":\"backward\"},{\"step\":\"all\"}]}},\"yaxis\":{\"anchor\":\"x\",\"domain\":[0.0,1.0],\"title\":{\"text\":\"Close\"},\"minor\":{\"ticks\":\"inside\",\"showgrid\":true}},\"legend\":{\"tracegroupgap\":0},\"title\":{\"text\":\"Nifty Close Price\"}},                        {\"responsive\": true}                    ).then(function(){\n",
       "                            \n",
       "var gd = document.getElementById('8e2b5132-a57d-4f1b-8459-8c159bbde45c');\n",
       "var x = new MutationObserver(function (mutations, observer) {{\n",
       "        var display = window.getComputedStyle(gd).display;\n",
       "        if (!display || display === 'none') {{\n",
       "            console.log([gd, 'removed!']);\n",
       "            Plotly.purge(gd);\n",
       "            observer.disconnect();\n",
       "        }}\n",
       "}});\n",
       "\n",
       "// Listen for the removal of the full notebook cells\n",
       "var notebookContainer = gd.closest('#notebook-container');\n",
       "if (notebookContainer) {{\n",
       "    x.observe(notebookContainer, {childList: true});\n",
       "}}\n",
       "\n",
       "// Listen for the clearing of the current output cell\n",
       "var outputEl = gd.closest('.output');\n",
       "if (outputEl) {{\n",
       "    x.observe(outputEl, {childList: true});\n",
       "}}\n",
       "\n",
       "                        })                };                });            </script>        </div>"
      ]
     },
     "metadata": {},
     "output_type": "display_data"
    }
   ],
   "source": [
    "fig = px.line(df, x='Date', y='Close',\n",
    "              hover_data={\"Date\": \"|%B %d, %Y\"},\n",
    "              title='Nifty Close Price')\n",
    "\n",
    "#fig.update_xaxes(showgrid=True, ticklabelmode=\"period\")\n",
    "fig.update_yaxes(minor=dict(ticks=\"inside\", showgrid=True))\n",
    "\n",
    "fig.update_xaxes(\n",
    "    rangeslider_visible=True,\n",
    "    rangeselector=dict(\n",
    "        buttons=list([\n",
    "            dict(count=1, label=\"1m\", step=\"month\", stepmode=\"backward\"),\n",
    "            dict(count=6, label=\"6m\", step=\"month\", stepmode=\"backward\"),\n",
    "            dict(count=1, label=\"YTD\", step=\"year\", stepmode=\"todate\"),\n",
    "            dict(count=1, label=\"1y\", step=\"year\", stepmode=\"backward\"),\n",
    "            dict(step=\"all\")\n",
    "        ])\n",
    "    )\n",
    ")\n",
    "\n",
    "fig.show()"
   ]
  },
  {
   "cell_type": "code",
   "execution_count": 62,
   "metadata": {},
   "outputs": [
    {
     "data": {
      "application/vnd.plotly.v1+json": {
       "config": {
        "plotlyServerURL": "https://plot.ly"
       },
       "data": [
        {
         "fillpattern": {
          "shape": ""
         },
         "hovertemplate": "variable=Close<br>Date=%{x}<br>value=%{y}<extra></extra>",
         "legendgroup": "Close",
         "line": {
          "color": "#636efa"
         },
         "marker": {
          "symbol": "circle"
         },
         "mode": "lines",
         "name": "Close",
         "orientation": "v",
         "showlegend": true,
         "stackgroup": "1",
         "type": "scatter",
         "x": [
          "2020-03-02T00:00:00",
          "2020-03-03T00:00:00",
          "2020-03-04T00:00:00",
          "2020-03-05T00:00:00",
          "2020-03-06T00:00:00",
          "2020-03-09T00:00:00",
          "2020-03-11T00:00:00",
          "2020-03-12T00:00:00",
          "2020-03-13T00:00:00",
          "2020-03-16T00:00:00",
          "2020-03-17T00:00:00",
          "2020-03-18T00:00:00",
          "2020-03-19T00:00:00",
          "2020-03-20T00:00:00",
          "2020-03-23T00:00:00",
          "2020-03-24T00:00:00",
          "2020-03-25T00:00:00",
          "2020-03-26T00:00:00",
          "2020-03-27T00:00:00",
          "2020-03-30T00:00:00",
          "2020-03-31T00:00:00",
          "2020-04-01T00:00:00",
          "2020-04-03T00:00:00",
          "2020-04-07T00:00:00",
          "2020-04-08T00:00:00",
          "2020-04-09T00:00:00",
          "2020-04-13T00:00:00",
          "2020-04-15T00:00:00",
          "2020-04-16T00:00:00",
          "2020-04-17T00:00:00",
          "2020-04-20T00:00:00",
          "2020-04-21T00:00:00",
          "2020-04-22T00:00:00",
          "2020-04-23T00:00:00",
          "2020-04-24T00:00:00",
          "2020-04-27T00:00:00",
          "2020-04-28T00:00:00",
          "2020-04-29T00:00:00",
          "2020-04-30T00:00:00",
          "2020-05-04T00:00:00",
          "2020-05-05T00:00:00",
          "2020-05-06T00:00:00",
          "2020-05-07T00:00:00",
          "2020-05-08T00:00:00",
          "2020-05-11T00:00:00",
          "2020-05-12T00:00:00",
          "2020-05-13T00:00:00",
          "2020-05-14T00:00:00",
          "2020-05-15T00:00:00",
          "2020-05-18T00:00:00",
          "2020-05-19T00:00:00",
          "2020-05-20T00:00:00",
          "2020-05-21T00:00:00",
          "2020-05-22T00:00:00",
          "2020-05-26T00:00:00",
          "2020-05-27T00:00:00",
          "2020-05-28T00:00:00",
          "2020-05-29T00:00:00",
          "2020-06-01T00:00:00",
          "2020-06-02T00:00:00",
          "2020-06-03T00:00:00",
          "2020-06-04T00:00:00",
          "2020-06-05T00:00:00",
          "2020-06-08T00:00:00",
          "2020-06-09T00:00:00",
          "2020-06-10T00:00:00",
          "2020-06-11T00:00:00",
          "2020-06-12T00:00:00",
          "2020-06-15T00:00:00",
          "2020-06-16T00:00:00",
          "2020-06-17T00:00:00",
          "2020-06-18T00:00:00",
          "2020-06-19T00:00:00",
          "2020-06-22T00:00:00",
          "2020-06-23T00:00:00",
          "2020-06-24T00:00:00",
          "2020-06-25T00:00:00",
          "2020-06-26T00:00:00",
          "2020-06-29T00:00:00",
          "2020-06-30T00:00:00",
          "2020-07-01T00:00:00",
          "2020-07-02T00:00:00",
          "2020-07-03T00:00:00",
          "2020-07-06T00:00:00",
          "2020-07-07T00:00:00",
          "2020-07-08T00:00:00",
          "2020-07-09T00:00:00",
          "2020-07-10T00:00:00",
          "2020-07-13T00:00:00",
          "2020-07-14T00:00:00",
          "2020-07-15T00:00:00",
          "2020-07-16T00:00:00",
          "2020-07-17T00:00:00",
          "2020-07-20T00:00:00",
          "2020-07-21T00:00:00",
          "2020-07-22T00:00:00",
          "2020-07-23T00:00:00",
          "2020-07-24T00:00:00",
          "2020-07-27T00:00:00",
          "2020-07-28T00:00:00",
          "2020-07-29T00:00:00",
          "2020-07-30T00:00:00",
          "2020-07-31T00:00:00",
          "2020-08-03T00:00:00",
          "2020-08-04T00:00:00",
          "2020-08-05T00:00:00",
          "2020-08-06T00:00:00",
          "2020-08-07T00:00:00",
          "2020-08-10T00:00:00",
          "2020-08-11T00:00:00",
          "2020-08-12T00:00:00",
          "2020-08-13T00:00:00",
          "2020-08-14T00:00:00",
          "2020-08-17T00:00:00",
          "2020-08-18T00:00:00",
          "2020-08-19T00:00:00",
          "2020-08-20T00:00:00",
          "2020-08-21T00:00:00",
          "2020-08-24T00:00:00",
          "2020-08-25T00:00:00",
          "2020-08-26T00:00:00",
          "2020-08-27T00:00:00",
          "2020-08-28T00:00:00",
          "2020-08-31T00:00:00",
          "2020-09-01T00:00:00",
          "2020-09-02T00:00:00",
          "2020-09-03T00:00:00",
          "2020-09-04T00:00:00",
          "2020-09-07T00:00:00",
          "2020-09-08T00:00:00",
          "2020-09-09T00:00:00",
          "2020-09-10T00:00:00",
          "2020-09-11T00:00:00",
          "2020-09-14T00:00:00",
          "2020-09-15T00:00:00",
          "2020-09-16T00:00:00",
          "2020-09-17T00:00:00",
          "2020-09-18T00:00:00",
          "2020-09-21T00:00:00",
          "2020-09-22T00:00:00",
          "2020-09-23T00:00:00",
          "2020-09-24T00:00:00",
          "2020-09-25T00:00:00",
          "2020-09-28T00:00:00",
          "2020-09-29T00:00:00",
          "2020-09-30T00:00:00",
          "2020-10-01T00:00:00",
          "2020-10-05T00:00:00",
          "2020-10-06T00:00:00",
          "2020-10-07T00:00:00",
          "2020-10-08T00:00:00",
          "2020-10-09T00:00:00",
          "2020-10-12T00:00:00",
          "2020-10-13T00:00:00",
          "2020-10-14T00:00:00",
          "2020-10-15T00:00:00",
          "2020-10-16T00:00:00",
          "2020-10-19T00:00:00",
          "2020-10-20T00:00:00",
          "2020-10-21T00:00:00",
          "2020-10-22T00:00:00",
          "2020-10-23T00:00:00",
          "2020-10-26T00:00:00",
          "2020-10-27T00:00:00",
          "2020-10-28T00:00:00",
          "2020-10-29T00:00:00",
          "2020-10-30T00:00:00",
          "2020-11-02T00:00:00",
          "2020-11-03T00:00:00",
          "2020-11-04T00:00:00",
          "2020-11-05T00:00:00",
          "2020-11-06T00:00:00",
          "2020-11-09T00:00:00",
          "2020-11-10T00:00:00",
          "2020-11-11T00:00:00",
          "2020-11-12T00:00:00",
          "2020-11-13T00:00:00",
          "2020-11-14T00:00:00",
          "2020-11-17T00:00:00",
          "2020-11-18T00:00:00",
          "2020-11-19T00:00:00",
          "2020-11-20T00:00:00",
          "2020-11-23T00:00:00",
          "2020-11-24T00:00:00",
          "2020-11-25T00:00:00",
          "2020-11-26T00:00:00",
          "2020-11-27T00:00:00",
          "2020-12-01T00:00:00",
          "2020-12-02T00:00:00",
          "2020-12-03T00:00:00",
          "2020-12-04T00:00:00",
          "2020-12-07T00:00:00",
          "2020-12-08T00:00:00",
          "2020-12-09T00:00:00",
          "2020-12-10T00:00:00",
          "2020-12-11T00:00:00",
          "2020-12-14T00:00:00",
          "2020-12-15T00:00:00",
          "2020-12-16T00:00:00",
          "2020-12-17T00:00:00",
          "2020-12-18T00:00:00",
          "2020-12-21T00:00:00",
          "2020-12-22T00:00:00",
          "2020-12-23T00:00:00",
          "2020-12-24T00:00:00",
          "2020-12-28T00:00:00",
          "2020-12-29T00:00:00",
          "2020-12-30T00:00:00",
          "2020-12-31T00:00:00",
          "2021-01-01T00:00:00",
          "2021-01-04T00:00:00",
          "2021-01-05T00:00:00",
          "2021-01-06T00:00:00",
          "2021-01-07T00:00:00",
          "2021-01-08T00:00:00",
          "2021-01-11T00:00:00",
          "2021-01-12T00:00:00",
          "2021-01-13T00:00:00",
          "2021-01-14T00:00:00",
          "2021-01-15T00:00:00",
          "2021-01-18T00:00:00",
          "2021-01-19T00:00:00",
          "2021-01-20T00:00:00",
          "2021-01-21T00:00:00",
          "2021-01-22T00:00:00",
          "2021-01-25T00:00:00",
          "2021-01-27T00:00:00",
          "2021-01-28T00:00:00",
          "2021-01-29T00:00:00",
          "2021-02-01T00:00:00",
          "2021-02-02T00:00:00",
          "2021-02-03T00:00:00",
          "2021-02-04T00:00:00",
          "2021-02-05T00:00:00",
          "2021-02-08T00:00:00",
          "2021-02-09T00:00:00",
          "2021-02-10T00:00:00",
          "2021-02-11T00:00:00",
          "2021-02-12T00:00:00",
          "2021-02-15T00:00:00",
          "2021-02-16T00:00:00",
          "2021-02-17T00:00:00",
          "2021-02-18T00:00:00",
          "2021-02-19T00:00:00",
          "2021-02-22T00:00:00",
          "2021-02-23T00:00:00",
          "2021-02-24T00:00:00",
          "2021-02-25T00:00:00",
          "2021-02-26T00:00:00",
          "2021-03-01T00:00:00",
          "2021-03-02T00:00:00",
          "2021-03-03T00:00:00",
          "2021-03-04T00:00:00",
          "2021-03-05T00:00:00",
          "2021-03-08T00:00:00",
          "2021-03-09T00:00:00",
          "2021-03-10T00:00:00",
          "2021-03-12T00:00:00",
          "2021-03-15T00:00:00",
          "2021-03-16T00:00:00",
          "2021-03-17T00:00:00",
          "2021-03-18T00:00:00",
          "2021-03-19T00:00:00",
          "2021-03-22T00:00:00",
          "2021-03-23T00:00:00",
          "2021-03-24T00:00:00",
          "2021-03-25T00:00:00",
          "2021-03-26T00:00:00",
          "2021-03-30T00:00:00",
          "2021-03-31T00:00:00",
          "2021-04-01T00:00:00",
          "2021-04-05T00:00:00",
          "2021-04-06T00:00:00",
          "2021-04-07T00:00:00",
          "2021-04-08T00:00:00",
          "2021-04-09T00:00:00",
          "2021-04-12T00:00:00",
          "2021-04-13T00:00:00",
          "2021-04-15T00:00:00",
          "2021-04-16T00:00:00",
          "2021-04-19T00:00:00",
          "2021-04-20T00:00:00",
          "2021-04-22T00:00:00",
          "2021-04-23T00:00:00",
          "2021-04-26T00:00:00",
          "2021-04-27T00:00:00",
          "2021-04-28T00:00:00",
          "2021-04-29T00:00:00",
          "2021-04-30T00:00:00",
          "2021-05-03T00:00:00",
          "2021-05-04T00:00:00",
          "2021-05-05T00:00:00",
          "2021-05-06T00:00:00",
          "2021-05-07T00:00:00",
          "2021-05-10T00:00:00",
          "2021-05-11T00:00:00",
          "2021-05-12T00:00:00",
          "2021-05-14T00:00:00",
          "2021-05-17T00:00:00",
          "2021-05-18T00:00:00",
          "2021-05-19T00:00:00",
          "2021-05-20T00:00:00",
          "2021-05-21T00:00:00",
          "2021-05-24T00:00:00",
          "2021-05-25T00:00:00",
          "2021-05-26T00:00:00",
          "2021-05-27T00:00:00",
          "2021-05-28T00:00:00",
          "2021-05-31T00:00:00",
          "2021-06-01T00:00:00",
          "2021-06-02T00:00:00",
          "2021-06-03T00:00:00",
          "2021-06-04T00:00:00",
          "2021-06-07T00:00:00",
          "2021-06-08T00:00:00",
          "2021-06-09T00:00:00",
          "2021-06-10T00:00:00",
          "2021-06-11T00:00:00",
          "2021-06-14T00:00:00",
          "2021-06-15T00:00:00",
          "2021-06-16T00:00:00",
          "2021-06-17T00:00:00",
          "2021-06-18T00:00:00",
          "2021-06-21T00:00:00",
          "2021-06-22T00:00:00",
          "2021-06-23T00:00:00",
          "2021-06-24T00:00:00",
          "2021-06-25T00:00:00",
          "2021-06-28T00:00:00",
          "2021-06-29T00:00:00",
          "2021-06-30T00:00:00",
          "2021-07-01T00:00:00",
          "2021-07-02T00:00:00",
          "2021-07-05T00:00:00",
          "2021-07-06T00:00:00",
          "2021-07-07T00:00:00",
          "2021-07-08T00:00:00",
          "2021-07-09T00:00:00",
          "2021-07-12T00:00:00",
          "2021-07-13T00:00:00",
          "2021-07-14T00:00:00",
          "2021-07-15T00:00:00",
          "2021-07-16T00:00:00",
          "2021-07-19T00:00:00",
          "2021-07-20T00:00:00",
          "2021-07-22T00:00:00",
          "2021-07-23T00:00:00",
          "2021-07-26T00:00:00",
          "2021-07-27T00:00:00",
          "2021-07-28T00:00:00",
          "2021-07-29T00:00:00",
          "2021-07-30T00:00:00",
          "2021-08-02T00:00:00",
          "2021-08-03T00:00:00",
          "2021-08-04T00:00:00",
          "2021-08-05T00:00:00",
          "2021-08-06T00:00:00",
          "2021-08-09T00:00:00",
          "2021-08-10T00:00:00",
          "2021-08-11T00:00:00",
          "2021-08-12T00:00:00",
          "2021-08-13T00:00:00",
          "2021-08-16T00:00:00",
          "2021-08-17T00:00:00",
          "2021-08-18T00:00:00",
          "2021-08-20T00:00:00",
          "2021-08-23T00:00:00",
          "2021-08-24T00:00:00",
          "2021-08-25T00:00:00",
          "2021-08-26T00:00:00",
          "2021-08-27T00:00:00",
          "2021-08-30T00:00:00",
          "2021-08-31T00:00:00",
          "2021-09-01T00:00:00",
          "2021-09-02T00:00:00",
          "2021-09-03T00:00:00",
          "2021-09-06T00:00:00",
          "2021-09-07T00:00:00",
          "2021-09-08T00:00:00",
          "2021-09-09T00:00:00",
          "2021-09-13T00:00:00",
          "2021-09-14T00:00:00",
          "2021-09-15T00:00:00",
          "2021-09-16T00:00:00",
          "2021-09-17T00:00:00",
          "2021-09-20T00:00:00",
          "2021-09-21T00:00:00",
          "2021-09-22T00:00:00",
          "2021-09-23T00:00:00",
          "2021-09-24T00:00:00",
          "2021-09-27T00:00:00",
          "2021-09-28T00:00:00",
          "2021-09-29T00:00:00",
          "2021-09-30T00:00:00",
          "2021-10-01T00:00:00",
          "2021-10-04T00:00:00",
          "2021-10-05T00:00:00",
          "2021-10-06T00:00:00",
          "2021-10-07T00:00:00",
          "2021-10-08T00:00:00",
          "2021-10-11T00:00:00",
          "2021-10-12T00:00:00",
          "2021-10-13T00:00:00",
          "2021-10-14T00:00:00",
          "2021-10-18T00:00:00",
          "2021-10-19T00:00:00",
          "2021-10-20T00:00:00",
          "2021-10-21T00:00:00",
          "2021-10-22T00:00:00",
          "2021-10-25T00:00:00",
          "2021-10-26T00:00:00",
          "2021-10-27T00:00:00",
          "2021-10-28T00:00:00",
          "2021-10-29T00:00:00",
          "2021-11-01T00:00:00",
          "2021-11-02T00:00:00",
          "2021-11-03T00:00:00",
          "2021-11-04T00:00:00",
          "2021-11-08T00:00:00",
          "2021-11-09T00:00:00",
          "2021-11-10T00:00:00",
          "2021-11-11T00:00:00",
          "2021-11-12T00:00:00",
          "2021-11-15T00:00:00",
          "2021-11-16T00:00:00",
          "2021-11-17T00:00:00",
          "2021-11-18T00:00:00",
          "2021-11-22T00:00:00",
          "2021-11-23T00:00:00",
          "2021-11-24T00:00:00",
          "2021-11-25T00:00:00",
          "2021-11-26T00:00:00",
          "2021-11-29T00:00:00",
          "2021-11-30T00:00:00",
          "2021-12-01T00:00:00",
          "2021-12-02T00:00:00",
          "2021-12-03T00:00:00",
          "2021-12-06T00:00:00",
          "2021-12-07T00:00:00",
          "2021-12-08T00:00:00",
          "2021-12-09T00:00:00",
          "2021-12-10T00:00:00",
          "2021-12-13T00:00:00",
          "2021-12-14T00:00:00",
          "2021-12-15T00:00:00",
          "2021-12-16T00:00:00",
          "2021-12-17T00:00:00",
          "2021-12-20T00:00:00",
          "2021-12-21T00:00:00",
          "2021-12-22T00:00:00",
          "2021-12-23T00:00:00",
          "2021-12-24T00:00:00",
          "2021-12-27T00:00:00",
          "2021-12-28T00:00:00",
          "2021-12-29T00:00:00",
          "2021-12-30T00:00:00",
          "2021-12-31T00:00:00",
          "2022-01-03T00:00:00",
          "2022-01-04T00:00:00",
          "2022-01-05T00:00:00",
          "2022-01-06T00:00:00",
          "2022-01-07T00:00:00",
          "2022-01-10T00:00:00",
          "2022-01-11T00:00:00",
          "2022-01-12T00:00:00",
          "2022-01-13T00:00:00",
          "2022-01-14T00:00:00",
          "2022-01-17T00:00:00",
          "2022-01-18T00:00:00",
          "2022-01-19T00:00:00",
          "2022-01-20T00:00:00",
          "2022-01-21T00:00:00",
          "2022-01-24T00:00:00",
          "2022-01-25T00:00:00",
          "2022-01-27T00:00:00",
          "2022-01-28T00:00:00",
          "2022-01-31T00:00:00",
          "2022-02-01T00:00:00",
          "2022-02-02T00:00:00",
          "2022-02-03T00:00:00",
          "2022-02-04T00:00:00",
          "2022-02-07T00:00:00",
          "2022-02-08T00:00:00",
          "2022-02-09T00:00:00",
          "2022-02-10T00:00:00",
          "2022-02-11T00:00:00",
          "2022-02-14T00:00:00",
          "2022-02-15T00:00:00",
          "2022-02-16T00:00:00",
          "2022-02-17T00:00:00",
          "2022-02-18T00:00:00",
          "2022-02-21T00:00:00",
          "2022-02-22T00:00:00",
          "2022-02-23T00:00:00",
          "2022-02-24T00:00:00",
          "2022-02-25T00:00:00",
          "2022-02-28T00:00:00",
          "2022-03-02T00:00:00",
          "2022-03-03T00:00:00",
          "2022-03-04T00:00:00",
          "2022-03-07T00:00:00",
          "2022-03-08T00:00:00",
          "2022-03-09T00:00:00",
          "2022-03-10T00:00:00",
          "2022-03-11T00:00:00",
          "2022-03-14T00:00:00",
          "2022-03-15T00:00:00",
          "2022-03-16T00:00:00",
          "2022-03-17T00:00:00",
          "2022-03-21T00:00:00",
          "2022-03-22T00:00:00",
          "2022-03-23T00:00:00",
          "2022-03-24T00:00:00",
          "2022-03-25T00:00:00",
          "2022-03-28T00:00:00",
          "2022-03-29T00:00:00",
          "2022-03-30T00:00:00",
          "2022-03-31T00:00:00",
          "2022-04-01T00:00:00",
          "2022-04-04T00:00:00",
          "2022-04-05T00:00:00",
          "2022-04-06T00:00:00",
          "2022-04-07T00:00:00",
          "2022-04-08T00:00:00",
          "2022-04-11T00:00:00",
          "2022-04-12T00:00:00",
          "2022-04-13T00:00:00",
          "2022-04-18T00:00:00",
          "2022-04-19T00:00:00",
          "2022-04-20T00:00:00",
          "2022-04-21T00:00:00",
          "2022-04-22T00:00:00",
          "2022-04-25T00:00:00",
          "2022-04-26T00:00:00",
          "2022-04-27T00:00:00",
          "2022-04-28T00:00:00",
          "2022-04-29T00:00:00",
          "2022-05-02T00:00:00",
          "2022-05-04T00:00:00",
          "2022-05-05T00:00:00",
          "2022-05-06T00:00:00",
          "2022-05-09T00:00:00",
          "2022-05-10T00:00:00",
          "2022-05-11T00:00:00",
          "2022-05-12T00:00:00",
          "2022-05-13T00:00:00",
          "2022-05-16T00:00:00",
          "2022-05-17T00:00:00",
          "2022-05-18T00:00:00",
          "2022-05-19T00:00:00",
          "2022-05-20T00:00:00",
          "2022-05-23T00:00:00",
          "2022-05-24T00:00:00",
          "2022-05-25T00:00:00",
          "2022-05-26T00:00:00",
          "2022-05-27T00:00:00"
         ],
         "xaxis": "x",
         "y": [
          11132.75,
          11303.299809999999,
          11251,
          11269,
          10989.4502,
          10451.4502,
          10458.40039,
          9590.150391,
          9955.200195,
          9197.400391,
          8967.049805,
          8468.799805,
          8263.450195,
          8745.450195,
          7610.25,
          7801.049805,
          8317.849609,
          8641.450195,
          8660.25,
          8281.099609,
          8597.75,
          8253.799805,
          8083.799805,
          8792.200195,
          8748.75,
          9111.900391,
          8993.849609,
          8925.299805,
          8992.799805,
          9266.75,
          9261.849609,
          8981.450195,
          9187.299805,
          9313.900391,
          9154.400391,
          9282.299805,
          9380.900391,
          9553.349609,
          9859.900391,
          9293.5,
          9205.599609,
          9270.900391,
          9199.049805,
          9251.5,
          9239.200195,
          9196.549805,
          9383.549805,
          9142.75,
          9136.849609,
          8823.25,
          8879.099609,
          9066.549805,
          9106.25,
          9039.25,
          9029.049805,
          9314.950195,
          9490.099609,
          9580.299805,
          9826.150391,
          9979.099609,
          10061.549809999999,
          10029.09961,
          10142.15039,
          10167.4502,
          10046.65039,
          10116.15039,
          9902,
          9972.900391,
          9813.700195,
          9914,
          9881.150391,
          10091.65039,
          10244.40039,
          10311.2002,
          10471,
          10305.299809999999,
          10288.90039,
          10383,
          10312.40039,
          10302.09961,
          10430.049809999999,
          10551.7002,
          10607.34961,
          10763.65039,
          10799.65039,
          10705.75,
          10813.4502,
          10768.049809999999,
          10802.7002,
          10607.34961,
          10618.2002,
          10739.9502,
          10901.7002,
          11022.2002,
          11162.25,
          11132.59961,
          11215.4502,
          11194.15039,
          11131.799809999999,
          11300.549809999999,
          11202.84961,
          11102.15039,
          11073.4502,
          10891.59961,
          11095.25,
          11101.65039,
          11200.15039,
          11214.049809999999,
          11270.15039,
          11322.5,
          11308.40039,
          11300.4502,
          11178.40039,
          11247.09961,
          11385.34961,
          11408.40039,
          11312.2002,
          11371.59961,
          11466.4502,
          11472.25,
          11549.59961,
          11559.25,
          11647.59961,
          11387.5,
          11470.25,
          11535,
          11527.4502,
          11333.84961,
          11355.049809999999,
          11317.34961,
          11278,
          11449.25,
          11464.4502,
          11440.049809999999,
          11521.799809999999,
          11604.549809999999,
          11516.09961,
          11504.9502,
          11250.549809999999,
          11153.65039,
          11131.84961,
          10805.549809999999,
          11050.25,
          11227.549809999999,
          11222.40039,
          11247.549809999999,
          11416.9502,
          11503.34961,
          11662.40039,
          11738.84961,
          11834.59961,
          11914.2002,
          11930.9502,
          11934.5,
          11971.049809999999,
          11680.34961,
          11762.4502,
          11873.049809999999,
          11896.799809999999,
          11937.65039,
          11896.4502,
          11930.34961,
          11767.75,
          11889.40039,
          11729.59961,
          11670.799809999999,
          11642.40039,
          11669.15039,
          11813.5,
          11908.5,
          12120.299809999999,
          12263.549809999999,
          12461.049809999999,
          12631.09961,
          12749.15039,
          12690.799809999999,
          12719.9502,
          null,
          12874.2002,
          12938.25,
          12771.7002,
          12859.049809999999,
          12926.4502,
          13055.15039,
          12858.40039,
          12987,
          12968.9502,
          13109.049809999999,
          13113.75,
          13133.90039,
          13258.549809999999,
          13355.75,
          13392.9502,
          13529.09961,
          13478.299809999999,
          13513.84961,
          13558.15039,
          13567.84961,
          13682.7002,
          13740.7002,
          13760.549809999999,
          13328.40039,
          13466.299809999999,
          13601.09961,
          13749.25,
          13873.2002,
          13932.59961,
          13981.9502,
          13981.75,
          14018.5,
          14132.90039,
          14199.5,
          14146.25,
          14137.34961,
          14347.25,
          14484.75,
          14563.4502,
          14564.84961,
          14595.59961,
          14433.7002,
          14281.299809999999,
          14521.15039,
          14644.7002,
          14590.34961,
          14371.90039,
          14238.90039,
          13967.5,
          13817.549809999999,
          13634.59961,
          14281.2002,
          14647.84961,
          14789.9502,
          14895.65039,
          14924.25,
          15115.799809999999,
          15109.299809999999,
          15106.5,
          15173.299809999999,
          15163.299809999999,
          15314.7002,
          15313.4502,
          15208.90039,
          15118.9502,
          14981.75,
          14675.7002,
          14707.799809999999,
          14982,
          15097.34961,
          14529.15039,
          14761.549809999999,
          14919.09961,
          15245.59961,
          15080.75,
          14938.09961,
          14956.2002,
          15098.40039,
          15174.799809999999,
          15030.9502,
          14929.5,
          14910.4502,
          14721.299809999999,
          14557.84961,
          14744,
          14736.40039,
          14814.75,
          14549.40039,
          14324.90039,
          14507.299809999999,
          14845.09961,
          14690.7002,
          14867.34961,
          14637.799809999999,
          14683.5,
          14819.049809999999,
          14873.799809999999,
          14834.84961,
          14310.799809999999,
          14504.799809999999,
          14581.4502,
          14617.84961,
          14359.4502,
          14296.40039,
          14406.15039,
          14341.34961,
          14485,
          14653.049809999999,
          14864.549809999999,
          14894.90039,
          14631.09961,
          14634.15039,
          14496.5,
          14617.84961,
          14724.799809999999,
          14823.15039,
          14942.34961,
          14850.75,
          14696.5,
          14677.799809999999,
          14923.15039,
          15108.09961,
          15030.15039,
          14906.049809999999,
          15175.299809999999,
          15197.7002,
          15208.4502,
          15301.4502,
          15337.84961,
          15435.65039,
          15582.799809999999,
          15574.84961,
          15576.2002,
          15690.34961,
          15670.25,
          15751.65039,
          15740.09961,
          15635.34961,
          15737.75,
          15799.34961,
          15811.84961,
          15869.25,
          15767.549809999999,
          15691.40039,
          15683.34961,
          15746.5,
          15772.75,
          15686.9502,
          15790.4502,
          15860.34961,
          15814.7002,
          15748.4502,
          15721.5,
          15680,
          15722.2002,
          15834.34961,
          15818.25,
          15879.65039,
          15727.90039,
          15689.799809999999,
          15692.59961,
          15812.34961,
          15853.9502,
          15924.2002,
          15923.40039,
          15752.40039,
          15632.09961,
          15824.049809999999,
          15856.049809999999,
          15824.4502,
          15746.4502,
          15709.40039,
          15778.4502,
          15763.049809999999,
          15885.15039,
          16130.75,
          16258.799809999999,
          16294.59961,
          16238.2002,
          16258.25,
          16280.09961,
          16282.25,
          16364.40039,
          16529.09961,
          16563.05078,
          16614.59961,
          16568.84961,
          16450.5,
          16496.44922,
          16624.59961,
          16634.65039,
          16636.90039,
          16705.19922,
          16931.05078,
          17132.19922,
          17076.25,
          17234.15039,
          17323.59961,
          17377.80078,
          17362.09961,
          17353.5,
          17369.25,
          17355.30078,
          17380,
          17519.44922,
          17629.5,
          17585.15039,
          17396.90039,
          17562,
          17546.65039,
          17822.94922,
          17853.19922,
          17855.09961,
          17748.59961,
          17711.30078,
          17618.15039,
          17532.05078,
          17691.25,
          17822.30078,
          17646,
          17790.34961,
          17895.19922,
          17945.94922,
          17991.94922,
          18161.75,
          18338.55078,
          18477.05078,
          18418.75,
          18266.59961,
          18178.09961,
          18114.90039,
          18125.40039,
          18268.40039,
          18210.94922,
          17857.25,
          17671.65039,
          17929.65039,
          17888.94922,
          17829.19922,
          17916.80078,
          18068.55078,
          18044.25,
          18017.19922,
          17873.59961,
          18102.75,
          18109.44922,
          17999.19922,
          17898.65039,
          17764.80078,
          17416.55078,
          17503.34961,
          17415.05078,
          17536.25,
          17026.44922,
          17053.94922,
          16983.19922,
          17166.90039,
          17401.65039,
          17196.69922,
          16912.25,
          17176.69922,
          17469.75,
          17516.84961,
          17511.30078,
          17368.25,
          17324.90039,
          17221.40039,
          17248.40039,
          16985.19922,
          16614.19922,
          16770.84961,
          16955.44922,
          17072.59961,
          17003.75,
          17086.25,
          17233.25,
          17213.59961,
          17203.94922,
          17354.05078,
          17625.69922,
          17805.25,
          17925.25,
          17745.90039,
          17812.69922,
          18003.30078,
          18055.75,
          18212.34961,
          18257.80078,
          18255.75,
          18308.09961,
          18113.05078,
          17938.40039,
          17757,
          17617.15039,
          17149.09961,
          17277.94922,
          17110.15039,
          17101.94922,
          17339.84961,
          17576.84961,
          17780,
          17560.19922,
          17516.30078,
          17213.59961,
          17266.75,
          17463.80078,
          17605.84961,
          17374.75,
          16842.80078,
          17352.44922,
          17322.19922,
          17304.59961,
          17276.30078,
          17206.65039,
          17092.19922,
          17063.25,
          16247.9502,
          16658.40039,
          16793.90039,
          16605.94922,
          16498.05078,
          16245.34961,
          15863.15039,
          16013.4502,
          16345.34961,
          16594.90039,
          16630.44922,
          16871.30078,
          16663,
          16975.34961,
          17287.05078,
          17117.59961,
          17315.5,
          17245.65039,
          17222.75,
          17153,
          17222,
          17325.30078,
          17498.25,
          17464.75,
          17670.44922,
          18053.40039,
          17957.40039,
          17807.65039,
          17639.55078,
          17784.34961,
          17674.94922,
          17530.30078,
          17475.65039,
          17173.65039,
          16958.65039,
          17136.55078,
          17392.59961,
          17171.94922,
          16953.94922,
          17200.80078,
          17038.40039,
          17245.05078,
          17102.55078,
          17069.09961,
          16677.59961,
          16682.65039,
          16411.25,
          16301.84961,
          16240.049809999999,
          16167.09961,
          15808,
          15782.15039,
          15842.299809999999,
          16259.299809999999,
          16240.299809999999,
          15809.40039,
          16266.15039,
          16214.7002,
          16125.15039,
          16025.799809999999,
          16170.15039,
          16352.45
         ],
         "yaxis": "y"
        },
        {
         "fillpattern": {
          "shape": ""
         },
         "hovertemplate": "variable=Open<br>Date=%{x}<br>value=%{y}<extra></extra>",
         "legendgroup": "Open",
         "line": {
          "color": "#EF553B"
         },
         "marker": {
          "symbol": "circle"
         },
         "mode": "lines",
         "name": "Open",
         "orientation": "v",
         "showlegend": true,
         "stackgroup": "1",
         "type": "scatter",
         "x": [
          "2020-03-02T00:00:00",
          "2020-03-03T00:00:00",
          "2020-03-04T00:00:00",
          "2020-03-05T00:00:00",
          "2020-03-06T00:00:00",
          "2020-03-09T00:00:00",
          "2020-03-11T00:00:00",
          "2020-03-12T00:00:00",
          "2020-03-13T00:00:00",
          "2020-03-16T00:00:00",
          "2020-03-17T00:00:00",
          "2020-03-18T00:00:00",
          "2020-03-19T00:00:00",
          "2020-03-20T00:00:00",
          "2020-03-23T00:00:00",
          "2020-03-24T00:00:00",
          "2020-03-25T00:00:00",
          "2020-03-26T00:00:00",
          "2020-03-27T00:00:00",
          "2020-03-30T00:00:00",
          "2020-03-31T00:00:00",
          "2020-04-01T00:00:00",
          "2020-04-03T00:00:00",
          "2020-04-07T00:00:00",
          "2020-04-08T00:00:00",
          "2020-04-09T00:00:00",
          "2020-04-13T00:00:00",
          "2020-04-15T00:00:00",
          "2020-04-16T00:00:00",
          "2020-04-17T00:00:00",
          "2020-04-20T00:00:00",
          "2020-04-21T00:00:00",
          "2020-04-22T00:00:00",
          "2020-04-23T00:00:00",
          "2020-04-24T00:00:00",
          "2020-04-27T00:00:00",
          "2020-04-28T00:00:00",
          "2020-04-29T00:00:00",
          "2020-04-30T00:00:00",
          "2020-05-04T00:00:00",
          "2020-05-05T00:00:00",
          "2020-05-06T00:00:00",
          "2020-05-07T00:00:00",
          "2020-05-08T00:00:00",
          "2020-05-11T00:00:00",
          "2020-05-12T00:00:00",
          "2020-05-13T00:00:00",
          "2020-05-14T00:00:00",
          "2020-05-15T00:00:00",
          "2020-05-18T00:00:00",
          "2020-05-19T00:00:00",
          "2020-05-20T00:00:00",
          "2020-05-21T00:00:00",
          "2020-05-22T00:00:00",
          "2020-05-26T00:00:00",
          "2020-05-27T00:00:00",
          "2020-05-28T00:00:00",
          "2020-05-29T00:00:00",
          "2020-06-01T00:00:00",
          "2020-06-02T00:00:00",
          "2020-06-03T00:00:00",
          "2020-06-04T00:00:00",
          "2020-06-05T00:00:00",
          "2020-06-08T00:00:00",
          "2020-06-09T00:00:00",
          "2020-06-10T00:00:00",
          "2020-06-11T00:00:00",
          "2020-06-12T00:00:00",
          "2020-06-15T00:00:00",
          "2020-06-16T00:00:00",
          "2020-06-17T00:00:00",
          "2020-06-18T00:00:00",
          "2020-06-19T00:00:00",
          "2020-06-22T00:00:00",
          "2020-06-23T00:00:00",
          "2020-06-24T00:00:00",
          "2020-06-25T00:00:00",
          "2020-06-26T00:00:00",
          "2020-06-29T00:00:00",
          "2020-06-30T00:00:00",
          "2020-07-01T00:00:00",
          "2020-07-02T00:00:00",
          "2020-07-03T00:00:00",
          "2020-07-06T00:00:00",
          "2020-07-07T00:00:00",
          "2020-07-08T00:00:00",
          "2020-07-09T00:00:00",
          "2020-07-10T00:00:00",
          "2020-07-13T00:00:00",
          "2020-07-14T00:00:00",
          "2020-07-15T00:00:00",
          "2020-07-16T00:00:00",
          "2020-07-17T00:00:00",
          "2020-07-20T00:00:00",
          "2020-07-21T00:00:00",
          "2020-07-22T00:00:00",
          "2020-07-23T00:00:00",
          "2020-07-24T00:00:00",
          "2020-07-27T00:00:00",
          "2020-07-28T00:00:00",
          "2020-07-29T00:00:00",
          "2020-07-30T00:00:00",
          "2020-07-31T00:00:00",
          "2020-08-03T00:00:00",
          "2020-08-04T00:00:00",
          "2020-08-05T00:00:00",
          "2020-08-06T00:00:00",
          "2020-08-07T00:00:00",
          "2020-08-10T00:00:00",
          "2020-08-11T00:00:00",
          "2020-08-12T00:00:00",
          "2020-08-13T00:00:00",
          "2020-08-14T00:00:00",
          "2020-08-17T00:00:00",
          "2020-08-18T00:00:00",
          "2020-08-19T00:00:00",
          "2020-08-20T00:00:00",
          "2020-08-21T00:00:00",
          "2020-08-24T00:00:00",
          "2020-08-25T00:00:00",
          "2020-08-26T00:00:00",
          "2020-08-27T00:00:00",
          "2020-08-28T00:00:00",
          "2020-08-31T00:00:00",
          "2020-09-01T00:00:00",
          "2020-09-02T00:00:00",
          "2020-09-03T00:00:00",
          "2020-09-04T00:00:00",
          "2020-09-07T00:00:00",
          "2020-09-08T00:00:00",
          "2020-09-09T00:00:00",
          "2020-09-10T00:00:00",
          "2020-09-11T00:00:00",
          "2020-09-14T00:00:00",
          "2020-09-15T00:00:00",
          "2020-09-16T00:00:00",
          "2020-09-17T00:00:00",
          "2020-09-18T00:00:00",
          "2020-09-21T00:00:00",
          "2020-09-22T00:00:00",
          "2020-09-23T00:00:00",
          "2020-09-24T00:00:00",
          "2020-09-25T00:00:00",
          "2020-09-28T00:00:00",
          "2020-09-29T00:00:00",
          "2020-09-30T00:00:00",
          "2020-10-01T00:00:00",
          "2020-10-05T00:00:00",
          "2020-10-06T00:00:00",
          "2020-10-07T00:00:00",
          "2020-10-08T00:00:00",
          "2020-10-09T00:00:00",
          "2020-10-12T00:00:00",
          "2020-10-13T00:00:00",
          "2020-10-14T00:00:00",
          "2020-10-15T00:00:00",
          "2020-10-16T00:00:00",
          "2020-10-19T00:00:00",
          "2020-10-20T00:00:00",
          "2020-10-21T00:00:00",
          "2020-10-22T00:00:00",
          "2020-10-23T00:00:00",
          "2020-10-26T00:00:00",
          "2020-10-27T00:00:00",
          "2020-10-28T00:00:00",
          "2020-10-29T00:00:00",
          "2020-10-30T00:00:00",
          "2020-11-02T00:00:00",
          "2020-11-03T00:00:00",
          "2020-11-04T00:00:00",
          "2020-11-05T00:00:00",
          "2020-11-06T00:00:00",
          "2020-11-09T00:00:00",
          "2020-11-10T00:00:00",
          "2020-11-11T00:00:00",
          "2020-11-12T00:00:00",
          "2020-11-13T00:00:00",
          "2020-11-14T00:00:00",
          "2020-11-17T00:00:00",
          "2020-11-18T00:00:00",
          "2020-11-19T00:00:00",
          "2020-11-20T00:00:00",
          "2020-11-23T00:00:00",
          "2020-11-24T00:00:00",
          "2020-11-25T00:00:00",
          "2020-11-26T00:00:00",
          "2020-11-27T00:00:00",
          "2020-12-01T00:00:00",
          "2020-12-02T00:00:00",
          "2020-12-03T00:00:00",
          "2020-12-04T00:00:00",
          "2020-12-07T00:00:00",
          "2020-12-08T00:00:00",
          "2020-12-09T00:00:00",
          "2020-12-10T00:00:00",
          "2020-12-11T00:00:00",
          "2020-12-14T00:00:00",
          "2020-12-15T00:00:00",
          "2020-12-16T00:00:00",
          "2020-12-17T00:00:00",
          "2020-12-18T00:00:00",
          "2020-12-21T00:00:00",
          "2020-12-22T00:00:00",
          "2020-12-23T00:00:00",
          "2020-12-24T00:00:00",
          "2020-12-28T00:00:00",
          "2020-12-29T00:00:00",
          "2020-12-30T00:00:00",
          "2020-12-31T00:00:00",
          "2021-01-01T00:00:00",
          "2021-01-04T00:00:00",
          "2021-01-05T00:00:00",
          "2021-01-06T00:00:00",
          "2021-01-07T00:00:00",
          "2021-01-08T00:00:00",
          "2021-01-11T00:00:00",
          "2021-01-12T00:00:00",
          "2021-01-13T00:00:00",
          "2021-01-14T00:00:00",
          "2021-01-15T00:00:00",
          "2021-01-18T00:00:00",
          "2021-01-19T00:00:00",
          "2021-01-20T00:00:00",
          "2021-01-21T00:00:00",
          "2021-01-22T00:00:00",
          "2021-01-25T00:00:00",
          "2021-01-27T00:00:00",
          "2021-01-28T00:00:00",
          "2021-01-29T00:00:00",
          "2021-02-01T00:00:00",
          "2021-02-02T00:00:00",
          "2021-02-03T00:00:00",
          "2021-02-04T00:00:00",
          "2021-02-05T00:00:00",
          "2021-02-08T00:00:00",
          "2021-02-09T00:00:00",
          "2021-02-10T00:00:00",
          "2021-02-11T00:00:00",
          "2021-02-12T00:00:00",
          "2021-02-15T00:00:00",
          "2021-02-16T00:00:00",
          "2021-02-17T00:00:00",
          "2021-02-18T00:00:00",
          "2021-02-19T00:00:00",
          "2021-02-22T00:00:00",
          "2021-02-23T00:00:00",
          "2021-02-24T00:00:00",
          "2021-02-25T00:00:00",
          "2021-02-26T00:00:00",
          "2021-03-01T00:00:00",
          "2021-03-02T00:00:00",
          "2021-03-03T00:00:00",
          "2021-03-04T00:00:00",
          "2021-03-05T00:00:00",
          "2021-03-08T00:00:00",
          "2021-03-09T00:00:00",
          "2021-03-10T00:00:00",
          "2021-03-12T00:00:00",
          "2021-03-15T00:00:00",
          "2021-03-16T00:00:00",
          "2021-03-17T00:00:00",
          "2021-03-18T00:00:00",
          "2021-03-19T00:00:00",
          "2021-03-22T00:00:00",
          "2021-03-23T00:00:00",
          "2021-03-24T00:00:00",
          "2021-03-25T00:00:00",
          "2021-03-26T00:00:00",
          "2021-03-30T00:00:00",
          "2021-03-31T00:00:00",
          "2021-04-01T00:00:00",
          "2021-04-05T00:00:00",
          "2021-04-06T00:00:00",
          "2021-04-07T00:00:00",
          "2021-04-08T00:00:00",
          "2021-04-09T00:00:00",
          "2021-04-12T00:00:00",
          "2021-04-13T00:00:00",
          "2021-04-15T00:00:00",
          "2021-04-16T00:00:00",
          "2021-04-19T00:00:00",
          "2021-04-20T00:00:00",
          "2021-04-22T00:00:00",
          "2021-04-23T00:00:00",
          "2021-04-26T00:00:00",
          "2021-04-27T00:00:00",
          "2021-04-28T00:00:00",
          "2021-04-29T00:00:00",
          "2021-04-30T00:00:00",
          "2021-05-03T00:00:00",
          "2021-05-04T00:00:00",
          "2021-05-05T00:00:00",
          "2021-05-06T00:00:00",
          "2021-05-07T00:00:00",
          "2021-05-10T00:00:00",
          "2021-05-11T00:00:00",
          "2021-05-12T00:00:00",
          "2021-05-14T00:00:00",
          "2021-05-17T00:00:00",
          "2021-05-18T00:00:00",
          "2021-05-19T00:00:00",
          "2021-05-20T00:00:00",
          "2021-05-21T00:00:00",
          "2021-05-24T00:00:00",
          "2021-05-25T00:00:00",
          "2021-05-26T00:00:00",
          "2021-05-27T00:00:00",
          "2021-05-28T00:00:00",
          "2021-05-31T00:00:00",
          "2021-06-01T00:00:00",
          "2021-06-02T00:00:00",
          "2021-06-03T00:00:00",
          "2021-06-04T00:00:00",
          "2021-06-07T00:00:00",
          "2021-06-08T00:00:00",
          "2021-06-09T00:00:00",
          "2021-06-10T00:00:00",
          "2021-06-11T00:00:00",
          "2021-06-14T00:00:00",
          "2021-06-15T00:00:00",
          "2021-06-16T00:00:00",
          "2021-06-17T00:00:00",
          "2021-06-18T00:00:00",
          "2021-06-21T00:00:00",
          "2021-06-22T00:00:00",
          "2021-06-23T00:00:00",
          "2021-06-24T00:00:00",
          "2021-06-25T00:00:00",
          "2021-06-28T00:00:00",
          "2021-06-29T00:00:00",
          "2021-06-30T00:00:00",
          "2021-07-01T00:00:00",
          "2021-07-02T00:00:00",
          "2021-07-05T00:00:00",
          "2021-07-06T00:00:00",
          "2021-07-07T00:00:00",
          "2021-07-08T00:00:00",
          "2021-07-09T00:00:00",
          "2021-07-12T00:00:00",
          "2021-07-13T00:00:00",
          "2021-07-14T00:00:00",
          "2021-07-15T00:00:00",
          "2021-07-16T00:00:00",
          "2021-07-19T00:00:00",
          "2021-07-20T00:00:00",
          "2021-07-22T00:00:00",
          "2021-07-23T00:00:00",
          "2021-07-26T00:00:00",
          "2021-07-27T00:00:00",
          "2021-07-28T00:00:00",
          "2021-07-29T00:00:00",
          "2021-07-30T00:00:00",
          "2021-08-02T00:00:00",
          "2021-08-03T00:00:00",
          "2021-08-04T00:00:00",
          "2021-08-05T00:00:00",
          "2021-08-06T00:00:00",
          "2021-08-09T00:00:00",
          "2021-08-10T00:00:00",
          "2021-08-11T00:00:00",
          "2021-08-12T00:00:00",
          "2021-08-13T00:00:00",
          "2021-08-16T00:00:00",
          "2021-08-17T00:00:00",
          "2021-08-18T00:00:00",
          "2021-08-20T00:00:00",
          "2021-08-23T00:00:00",
          "2021-08-24T00:00:00",
          "2021-08-25T00:00:00",
          "2021-08-26T00:00:00",
          "2021-08-27T00:00:00",
          "2021-08-30T00:00:00",
          "2021-08-31T00:00:00",
          "2021-09-01T00:00:00",
          "2021-09-02T00:00:00",
          "2021-09-03T00:00:00",
          "2021-09-06T00:00:00",
          "2021-09-07T00:00:00",
          "2021-09-08T00:00:00",
          "2021-09-09T00:00:00",
          "2021-09-13T00:00:00",
          "2021-09-14T00:00:00",
          "2021-09-15T00:00:00",
          "2021-09-16T00:00:00",
          "2021-09-17T00:00:00",
          "2021-09-20T00:00:00",
          "2021-09-21T00:00:00",
          "2021-09-22T00:00:00",
          "2021-09-23T00:00:00",
          "2021-09-24T00:00:00",
          "2021-09-27T00:00:00",
          "2021-09-28T00:00:00",
          "2021-09-29T00:00:00",
          "2021-09-30T00:00:00",
          "2021-10-01T00:00:00",
          "2021-10-04T00:00:00",
          "2021-10-05T00:00:00",
          "2021-10-06T00:00:00",
          "2021-10-07T00:00:00",
          "2021-10-08T00:00:00",
          "2021-10-11T00:00:00",
          "2021-10-12T00:00:00",
          "2021-10-13T00:00:00",
          "2021-10-14T00:00:00",
          "2021-10-18T00:00:00",
          "2021-10-19T00:00:00",
          "2021-10-20T00:00:00",
          "2021-10-21T00:00:00",
          "2021-10-22T00:00:00",
          "2021-10-25T00:00:00",
          "2021-10-26T00:00:00",
          "2021-10-27T00:00:00",
          "2021-10-28T00:00:00",
          "2021-10-29T00:00:00",
          "2021-11-01T00:00:00",
          "2021-11-02T00:00:00",
          "2021-11-03T00:00:00",
          "2021-11-04T00:00:00",
          "2021-11-08T00:00:00",
          "2021-11-09T00:00:00",
          "2021-11-10T00:00:00",
          "2021-11-11T00:00:00",
          "2021-11-12T00:00:00",
          "2021-11-15T00:00:00",
          "2021-11-16T00:00:00",
          "2021-11-17T00:00:00",
          "2021-11-18T00:00:00",
          "2021-11-22T00:00:00",
          "2021-11-23T00:00:00",
          "2021-11-24T00:00:00",
          "2021-11-25T00:00:00",
          "2021-11-26T00:00:00",
          "2021-11-29T00:00:00",
          "2021-11-30T00:00:00",
          "2021-12-01T00:00:00",
          "2021-12-02T00:00:00",
          "2021-12-03T00:00:00",
          "2021-12-06T00:00:00",
          "2021-12-07T00:00:00",
          "2021-12-08T00:00:00",
          "2021-12-09T00:00:00",
          "2021-12-10T00:00:00",
          "2021-12-13T00:00:00",
          "2021-12-14T00:00:00",
          "2021-12-15T00:00:00",
          "2021-12-16T00:00:00",
          "2021-12-17T00:00:00",
          "2021-12-20T00:00:00",
          "2021-12-21T00:00:00",
          "2021-12-22T00:00:00",
          "2021-12-23T00:00:00",
          "2021-12-24T00:00:00",
          "2021-12-27T00:00:00",
          "2021-12-28T00:00:00",
          "2021-12-29T00:00:00",
          "2021-12-30T00:00:00",
          "2021-12-31T00:00:00",
          "2022-01-03T00:00:00",
          "2022-01-04T00:00:00",
          "2022-01-05T00:00:00",
          "2022-01-06T00:00:00",
          "2022-01-07T00:00:00",
          "2022-01-10T00:00:00",
          "2022-01-11T00:00:00",
          "2022-01-12T00:00:00",
          "2022-01-13T00:00:00",
          "2022-01-14T00:00:00",
          "2022-01-17T00:00:00",
          "2022-01-18T00:00:00",
          "2022-01-19T00:00:00",
          "2022-01-20T00:00:00",
          "2022-01-21T00:00:00",
          "2022-01-24T00:00:00",
          "2022-01-25T00:00:00",
          "2022-01-27T00:00:00",
          "2022-01-28T00:00:00",
          "2022-01-31T00:00:00",
          "2022-02-01T00:00:00",
          "2022-02-02T00:00:00",
          "2022-02-03T00:00:00",
          "2022-02-04T00:00:00",
          "2022-02-07T00:00:00",
          "2022-02-08T00:00:00",
          "2022-02-09T00:00:00",
          "2022-02-10T00:00:00",
          "2022-02-11T00:00:00",
          "2022-02-14T00:00:00",
          "2022-02-15T00:00:00",
          "2022-02-16T00:00:00",
          "2022-02-17T00:00:00",
          "2022-02-18T00:00:00",
          "2022-02-21T00:00:00",
          "2022-02-22T00:00:00",
          "2022-02-23T00:00:00",
          "2022-02-24T00:00:00",
          "2022-02-25T00:00:00",
          "2022-02-28T00:00:00",
          "2022-03-02T00:00:00",
          "2022-03-03T00:00:00",
          "2022-03-04T00:00:00",
          "2022-03-07T00:00:00",
          "2022-03-08T00:00:00",
          "2022-03-09T00:00:00",
          "2022-03-10T00:00:00",
          "2022-03-11T00:00:00",
          "2022-03-14T00:00:00",
          "2022-03-15T00:00:00",
          "2022-03-16T00:00:00",
          "2022-03-17T00:00:00",
          "2022-03-21T00:00:00",
          "2022-03-22T00:00:00",
          "2022-03-23T00:00:00",
          "2022-03-24T00:00:00",
          "2022-03-25T00:00:00",
          "2022-03-28T00:00:00",
          "2022-03-29T00:00:00",
          "2022-03-30T00:00:00",
          "2022-03-31T00:00:00",
          "2022-04-01T00:00:00",
          "2022-04-04T00:00:00",
          "2022-04-05T00:00:00",
          "2022-04-06T00:00:00",
          "2022-04-07T00:00:00",
          "2022-04-08T00:00:00",
          "2022-04-11T00:00:00",
          "2022-04-12T00:00:00",
          "2022-04-13T00:00:00",
          "2022-04-18T00:00:00",
          "2022-04-19T00:00:00",
          "2022-04-20T00:00:00",
          "2022-04-21T00:00:00",
          "2022-04-22T00:00:00",
          "2022-04-25T00:00:00",
          "2022-04-26T00:00:00",
          "2022-04-27T00:00:00",
          "2022-04-28T00:00:00",
          "2022-04-29T00:00:00",
          "2022-05-02T00:00:00",
          "2022-05-04T00:00:00",
          "2022-05-05T00:00:00",
          "2022-05-06T00:00:00",
          "2022-05-09T00:00:00",
          "2022-05-10T00:00:00",
          "2022-05-11T00:00:00",
          "2022-05-12T00:00:00",
          "2022-05-13T00:00:00",
          "2022-05-16T00:00:00",
          "2022-05-17T00:00:00",
          "2022-05-18T00:00:00",
          "2022-05-19T00:00:00",
          "2022-05-20T00:00:00",
          "2022-05-23T00:00:00",
          "2022-05-24T00:00:00",
          "2022-05-25T00:00:00",
          "2022-05-26T00:00:00",
          "2022-05-27T00:00:00"
         ],
         "xaxis": "x",
         "y": [
          11387.34961,
          11217.549809999999,
          11351.34961,
          11306.049809999999,
          10942.65039,
          10742.049809999999,
          10334.299809999999,
          10039.9502,
          9107.599609,
          9587.799805,
          9285.400391,
          9088.450195,
          8063.299805,
          8284.450195,
          7945.700195,
          7848.299805,
          7735.149901999999,
          8451,
          8949.099609,
          8385.950195,
          8529.349609,
          8584.099609,
          8356.549805,
          8446.299805,
          8688.900391,
          8973.049805,
          9103.950195,
          9196.400391,
          8851.25,
          9323.450195,
          9390.200195,
          9016.950195,
          9026.75,
          9232.349609,
          9163.900391,
          9259.700195,
          9389.799805,
          9408.599609,
          9753.5,
          9533.5,
          9429.400391,
          9226.799805,
          9234.049805,
          9376.950195,
          9348.150391,
          9168.849609,
          9584.200195,
          9213.950195,
          9182.400391,
          9158.299805,
          8961.700195,
          8889.150391,
          9079.450195,
          9067.900391,
          9099.75,
          9082.200195,
          9364.950195,
          9422.200195,
          9726.849609,
          9880.849609,
          10108.299809999999,
          10054.25,
          10093.799809999999,
          10326.75,
          10181.15039,
          10072.59961,
          10094.09961,
          9544.950195,
          9919.349609,
          10014.799809999999,
          9876.700195,
          9863.25,
          10119,
          10318.75,
          10347.9502,
          10529.25,
          10235.549809999999,
          10378.90039,
          10311.9502,
          10382.59961,
          10323.799809999999,
          10493.049809999999,
          10614.9502,
          10723.84961,
          10802.84961,
          10818.65039,
          10755.549809999999,
          10764.09961,
          10851.84961,
          10750.84961,
          10701,
          10706.2002,
          10752,
          10999.4502,
          11126.09961,
          11231.2002,
          11135,
          11149.9502,
          11225,
          11154.09961,
          11276.90039,
          11254.299809999999,
          11139.5,
          11057.549809999999,
          10946.65039,
          11155.75,
          11185.7002,
          11186.65039,
          11270.25,
          11322.25,
          11289,
          11334.84961,
          11353.299809999999,
          11248.90039,
          11259.799809999999,
          11452.15039,
          11317.4502,
          11409.65039,
          11412,
          11513.09961,
          11512.84961,
          11609.299809999999,
          11602.9502,
          11777.549809999999,
          11464.299809999999,
          11478.549809999999,
          11566.2002,
          11354.40039,
          11359.59961,
          11378.549809999999,
          11218.59961,
          11363.299809999999,
          11447.799809999999,
          11540.15039,
          11487.2002,
          11538.4502,
          11539.40039,
          11584.09961,
          11503.799809999999,
          11301.75,
          11258.75,
          11011,
          10910.40039,
          11140.84961,
          11288.59961,
          11244.4502,
          11364.4502,
          11487.799809999999,
          11603.4502,
          11679.25,
          11835.40039,
          11852.049809999999,
          11973.549809999999,
          11934.65039,
          11917.40039,
          12023.4502,
          11727.40039,
          11879.2002,
          11861,
          11958.549809999999,
          11890,
          11957.90039,
          11937.40039,
          11807.09961,
          11922.59961,
          11633.299809999999,
          11678.4502,
          11697.34961,
          11734.4502,
          11783.34961,
          12062.40039,
          12156.65039,
          12399.40039,
          12556.40039,
          12680.59961,
          12702.15039,
          12659.7002,
          null,
          12932.5,
          12860.09961,
          12839.5,
          12813.40039,
          12960.299809999999,
          13002.59961,
          13130,
          12906.4502,
          13012.049809999999,
          13062.2002,
          13121.40039,
          13215.299809999999,
          13177.40039,
          13264.84961,
          13393.84961,
          13458.09961,
          13488.5,
          13512.299809999999,
          13571.4502,
          13547.2002,
          13663.09961,
          13713.549809999999,
          13764.40039,
          13741.90039,
          13373.65039,
          13473.5,
          13672.15039,
          13815.15039,
          13910.34961,
          13980.90039,
          13970,
          13996.09961,
          14104.34961,
          14075.15039,
          14240.9502,
          14253.75,
          14258.40039,
          14474.049809999999,
          14473.799809999999,
          14639.799809999999,
          14550.049809999999,
          14594.34961,
          14453.299809999999,
          14371.65039,
          14538.299809999999,
          14730.9502,
          14583.40039,
          14477.799809999999,
          14237.9502,
          13810.40039,
          13946.59961,
          13758.59961,
          14481.09961,
          14754.90039,
          14789.049809999999,
          14952.59961,
          15064.299809999999,
          15164.15039,
          15119.049809999999,
          15073.25,
          15186.2002,
          15270.299809999999,
          15371.4502,
          15279.90039,
          15238.7002,
          15074.799809999999,
          14999.049809999999,
          14782.25,
          14729.15039,
          15079.84961,
          14888.59961,
          14702.5,
          14865.299809999999,
          15064.40039,
          15026.75,
          14977.9502,
          15002.4502,
          15049.90039,
          15202.15039,
          15321.15039,
          15048.40039,
          14996.09961,
          14946.549809999999,
          14855.5,
          14471.15039,
          14736.299809999999,
          14768.549809999999,
          14712.4502,
          14570.90039,
          14506.299809999999,
          14628.5,
          14811.84961,
          14798.40039,
          14837.7002,
          14737,
          14716.4502,
          14875.65039,
          14882.65039,
          14644.65039,
          14364.90039,
          14522.40039,
          14599.59961,
          14306.59961,
          14526.7002,
          14219.15039,
          14326.34961,
          14449.4502,
          14493.799809999999,
          14710.5,
          14979,
          14747.34961,
          14481.049809999999,
          14687.25,
          14604.15039,
          14668.34961,
          14816.84961,
          14928.25,
          14789.7002,
          14823.549809999999,
          14749.40039,
          14756.25,
          15067.2002,
          15058.59961,
          15042.59961,
          14987.799809999999,
          15211.34961,
          15291.75,
          15257.049809999999,
          15323.9502,
          15421.2002,
          15437.75,
          15629.65039,
          15520.34961,
          15655.549809999999,
          15712.5,
          15725.09961,
          15773.90039,
          15766.299809999999,
          15692.09961,
          15796.4502,
          15791.40039,
          15866.9502,
          15847.5,
          15648.299809999999,
          15756.5,
          15525.84961,
          15840.5,
          15862.799809999999,
          15737.299809999999,
          15839.34961,
          15915.34961,
          15807.5,
          15776.90039,
          15755.049809999999,
          15705.84961,
          15793.40039,
          15813.75,
          15819.59961,
          15855.40039,
          15688.25,
          15766.799809999999,
          15794,
          15808.7002,
          15872.15039,
          15958.34961,
          15754.5,
          15703.9502,
          15736.59961,
          15856.799809999999,
          15849.299809999999,
          15860.5,
          15761.549809999999,
          15762.7002,
          15800.59961,
          15874.90039,
          15951.549809999999,
          16195.25,
          16288.9502,
          16304.40039,
          16281.34961,
          16274.799809999999,
          16327.299809999999,
          16303.65039,
          16385.69922,
          16518.40039,
          16545.25,
          16691.94922,
          16382.5,
          16592.25,
          16561.40039,
          16654,
          16627.94922,
          16642.55078,
          16775.84961,
          16947.5,
          17185.59961,
          17095.40039,
          17262.44922,
          17399.34961,
          17401.55078,
          17375.75,
          17312.84961,
          17363.55078,
          17420.34961,
          17387.65039,
          17539.19922,
          17709.65039,
          17443.84961,
          17450.5,
          17580.90039,
          17670.84961,
          17897.44922,
          17932.19922,
          17906.44922,
          17657.94922,
          17718.90039,
          17531.90039,
          17615.55078,
          17661.34961,
          17861.5,
          17810.55078,
          17886.84961,
          17867.55078,
          17915.80078,
          18097.84961,
          18272.84961,
          18500.09961,
          18602.34961,
          18439.90039,
          18382.69922,
          18230.69922,
          18229.5,
          18154.5,
          18295.84961,
          18187.65039,
          17833.05078,
          17783.15039,
          17970.90039,
          17947.94922,
          17935.05078,
          18040.19922,
          18084.34961,
          17973.44922,
          17967.44922,
          17977.59961,
          18140.94922,
          18127.05078,
          17939.34961,
          17890.55078,
          17796.25,
          17281.75,
          17550.05078,
          17417.30078,
          17338.75,
          17055.80078,
          17051.15039,
          17104.40039,
          17183.19922,
          17424.90039,
          17209.05078,
          17044.09961,
          17315.25,
          17524.40039,
          17476.05078,
          17619.09961,
          17283.19922,
          17323.65039,
          17373,
          17276,
          16824.25,
          16773.15039,
          16865.55078,
          17066.80078,
          17149.5,
          16937.75,
          17177.59961,
          17220.09961,
          17201.44922,
          17244.5,
          17387.15039,
          17681.40039,
          17820.09961,
          17768.5,
          17797.59961,
          17913.30078,
          17997.75,
          18170.40039,
          18257,
          18185,
          18235.65039,
          18337.19922,
          18129.19922,
          17921,
          17613.69922,
          17575.15039,
          17001.55078,
          17062,
          17208.30078,
          17301.05078,
          17529.44922,
          17706.19922,
          17767.75,
          17590.19922,
          17456.30078,
          17279.84961,
          17370.09961,
          17554.09961,
          17451,
          17076.15039,
          16933.25,
          17408.44922,
          17396.55078,
          17236.05078,
          17192.25,
          16847.94922,
          17194.5,
          16548.90039,
          16515.65039,
          16481.59961,
          16593.09961,
          16723.19922,
          16339.4502,
          15867.9502,
          15747.75,
          16078,
          16757.09961,
          16528.80078,
          16633.69922,
          16900.65039,
          16876.65039,
          17202.90039,
          17329.5,
          17120.40039,
          17405.05078,
          17094.94922,
          17289,
          17181.84961,
          17297.19922,
          17468.15039,
          17519.19922,
          17436.90039,
          17809.09961,
          18080.59961,
          17842.75,
          17723.30078,
          17698.15039,
          17740.90039,
          17584.84961,
          17599.90039,
          17183.44922,
          17258.94922,
          17045.25,
          17234.59961,
          17242.75,
          17009.05078,
          17121.30078,
          17073.34961,
          17189.5,
          17329.25,
          16924.44922,
          17096.59961,
          16854.75,
          16415.55078,
          16227.7002,
          16248.90039,
          16270.049809999999,
          16021.09961,
          15977,
          15845.09961,
          15912.59961,
          16318.15039,
          15917.40039,
          16043.799809999999,
          16290.9502,
          16225.549809999999,
          16196.34961,
          16105,
          16296.6
         ],
         "yaxis": "y"
        }
       ],
       "layout": {
        "legend": {
         "title": {
          "text": "variable"
         },
         "tracegroupgap": 0
        },
        "margin": {
         "t": 60
        },
        "template": {
         "data": {
          "bar": [
           {
            "error_x": {
             "color": "#2a3f5f"
            },
            "error_y": {
             "color": "#2a3f5f"
            },
            "marker": {
             "line": {
              "color": "#E5ECF6",
              "width": 0.5
             },
             "pattern": {
              "fillmode": "overlay",
              "size": 10,
              "solidity": 0.2
             }
            },
            "type": "bar"
           }
          ],
          "barpolar": [
           {
            "marker": {
             "line": {
              "color": "#E5ECF6",
              "width": 0.5
             },
             "pattern": {
              "fillmode": "overlay",
              "size": 10,
              "solidity": 0.2
             }
            },
            "type": "barpolar"
           }
          ],
          "carpet": [
           {
            "aaxis": {
             "endlinecolor": "#2a3f5f",
             "gridcolor": "white",
             "linecolor": "white",
             "minorgridcolor": "white",
             "startlinecolor": "#2a3f5f"
            },
            "baxis": {
             "endlinecolor": "#2a3f5f",
             "gridcolor": "white",
             "linecolor": "white",
             "minorgridcolor": "white",
             "startlinecolor": "#2a3f5f"
            },
            "type": "carpet"
           }
          ],
          "choropleth": [
           {
            "colorbar": {
             "outlinewidth": 0,
             "ticks": ""
            },
            "type": "choropleth"
           }
          ],
          "contour": [
           {
            "colorbar": {
             "outlinewidth": 0,
             "ticks": ""
            },
            "colorscale": [
             [
              0,
              "#0d0887"
             ],
             [
              0.1111111111111111,
              "#46039f"
             ],
             [
              0.2222222222222222,
              "#7201a8"
             ],
             [
              0.3333333333333333,
              "#9c179e"
             ],
             [
              0.4444444444444444,
              "#bd3786"
             ],
             [
              0.5555555555555556,
              "#d8576b"
             ],
             [
              0.6666666666666666,
              "#ed7953"
             ],
             [
              0.7777777777777778,
              "#fb9f3a"
             ],
             [
              0.8888888888888888,
              "#fdca26"
             ],
             [
              1,
              "#f0f921"
             ]
            ],
            "type": "contour"
           }
          ],
          "contourcarpet": [
           {
            "colorbar": {
             "outlinewidth": 0,
             "ticks": ""
            },
            "type": "contourcarpet"
           }
          ],
          "heatmap": [
           {
            "colorbar": {
             "outlinewidth": 0,
             "ticks": ""
            },
            "colorscale": [
             [
              0,
              "#0d0887"
             ],
             [
              0.1111111111111111,
              "#46039f"
             ],
             [
              0.2222222222222222,
              "#7201a8"
             ],
             [
              0.3333333333333333,
              "#9c179e"
             ],
             [
              0.4444444444444444,
              "#bd3786"
             ],
             [
              0.5555555555555556,
              "#d8576b"
             ],
             [
              0.6666666666666666,
              "#ed7953"
             ],
             [
              0.7777777777777778,
              "#fb9f3a"
             ],
             [
              0.8888888888888888,
              "#fdca26"
             ],
             [
              1,
              "#f0f921"
             ]
            ],
            "type": "heatmap"
           }
          ],
          "heatmapgl": [
           {
            "colorbar": {
             "outlinewidth": 0,
             "ticks": ""
            },
            "colorscale": [
             [
              0,
              "#0d0887"
             ],
             [
              0.1111111111111111,
              "#46039f"
             ],
             [
              0.2222222222222222,
              "#7201a8"
             ],
             [
              0.3333333333333333,
              "#9c179e"
             ],
             [
              0.4444444444444444,
              "#bd3786"
             ],
             [
              0.5555555555555556,
              "#d8576b"
             ],
             [
              0.6666666666666666,
              "#ed7953"
             ],
             [
              0.7777777777777778,
              "#fb9f3a"
             ],
             [
              0.8888888888888888,
              "#fdca26"
             ],
             [
              1,
              "#f0f921"
             ]
            ],
            "type": "heatmapgl"
           }
          ],
          "histogram": [
           {
            "marker": {
             "pattern": {
              "fillmode": "overlay",
              "size": 10,
              "solidity": 0.2
             }
            },
            "type": "histogram"
           }
          ],
          "histogram2d": [
           {
            "colorbar": {
             "outlinewidth": 0,
             "ticks": ""
            },
            "colorscale": [
             [
              0,
              "#0d0887"
             ],
             [
              0.1111111111111111,
              "#46039f"
             ],
             [
              0.2222222222222222,
              "#7201a8"
             ],
             [
              0.3333333333333333,
              "#9c179e"
             ],
             [
              0.4444444444444444,
              "#bd3786"
             ],
             [
              0.5555555555555556,
              "#d8576b"
             ],
             [
              0.6666666666666666,
              "#ed7953"
             ],
             [
              0.7777777777777778,
              "#fb9f3a"
             ],
             [
              0.8888888888888888,
              "#fdca26"
             ],
             [
              1,
              "#f0f921"
             ]
            ],
            "type": "histogram2d"
           }
          ],
          "histogram2dcontour": [
           {
            "colorbar": {
             "outlinewidth": 0,
             "ticks": ""
            },
            "colorscale": [
             [
              0,
              "#0d0887"
             ],
             [
              0.1111111111111111,
              "#46039f"
             ],
             [
              0.2222222222222222,
              "#7201a8"
             ],
             [
              0.3333333333333333,
              "#9c179e"
             ],
             [
              0.4444444444444444,
              "#bd3786"
             ],
             [
              0.5555555555555556,
              "#d8576b"
             ],
             [
              0.6666666666666666,
              "#ed7953"
             ],
             [
              0.7777777777777778,
              "#fb9f3a"
             ],
             [
              0.8888888888888888,
              "#fdca26"
             ],
             [
              1,
              "#f0f921"
             ]
            ],
            "type": "histogram2dcontour"
           }
          ],
          "mesh3d": [
           {
            "colorbar": {
             "outlinewidth": 0,
             "ticks": ""
            },
            "type": "mesh3d"
           }
          ],
          "parcoords": [
           {
            "line": {
             "colorbar": {
              "outlinewidth": 0,
              "ticks": ""
             }
            },
            "type": "parcoords"
           }
          ],
          "pie": [
           {
            "automargin": true,
            "type": "pie"
           }
          ],
          "scatter": [
           {
            "fillpattern": {
             "fillmode": "overlay",
             "size": 10,
             "solidity": 0.2
            },
            "type": "scatter"
           }
          ],
          "scatter3d": [
           {
            "line": {
             "colorbar": {
              "outlinewidth": 0,
              "ticks": ""
             }
            },
            "marker": {
             "colorbar": {
              "outlinewidth": 0,
              "ticks": ""
             }
            },
            "type": "scatter3d"
           }
          ],
          "scattercarpet": [
           {
            "marker": {
             "colorbar": {
              "outlinewidth": 0,
              "ticks": ""
             }
            },
            "type": "scattercarpet"
           }
          ],
          "scattergeo": [
           {
            "marker": {
             "colorbar": {
              "outlinewidth": 0,
              "ticks": ""
             }
            },
            "type": "scattergeo"
           }
          ],
          "scattergl": [
           {
            "marker": {
             "colorbar": {
              "outlinewidth": 0,
              "ticks": ""
             }
            },
            "type": "scattergl"
           }
          ],
          "scattermapbox": [
           {
            "marker": {
             "colorbar": {
              "outlinewidth": 0,
              "ticks": ""
             }
            },
            "type": "scattermapbox"
           }
          ],
          "scatterpolar": [
           {
            "marker": {
             "colorbar": {
              "outlinewidth": 0,
              "ticks": ""
             }
            },
            "type": "scatterpolar"
           }
          ],
          "scatterpolargl": [
           {
            "marker": {
             "colorbar": {
              "outlinewidth": 0,
              "ticks": ""
             }
            },
            "type": "scatterpolargl"
           }
          ],
          "scatterternary": [
           {
            "marker": {
             "colorbar": {
              "outlinewidth": 0,
              "ticks": ""
             }
            },
            "type": "scatterternary"
           }
          ],
          "surface": [
           {
            "colorbar": {
             "outlinewidth": 0,
             "ticks": ""
            },
            "colorscale": [
             [
              0,
              "#0d0887"
             ],
             [
              0.1111111111111111,
              "#46039f"
             ],
             [
              0.2222222222222222,
              "#7201a8"
             ],
             [
              0.3333333333333333,
              "#9c179e"
             ],
             [
              0.4444444444444444,
              "#bd3786"
             ],
             [
              0.5555555555555556,
              "#d8576b"
             ],
             [
              0.6666666666666666,
              "#ed7953"
             ],
             [
              0.7777777777777778,
              "#fb9f3a"
             ],
             [
              0.8888888888888888,
              "#fdca26"
             ],
             [
              1,
              "#f0f921"
             ]
            ],
            "type": "surface"
           }
          ],
          "table": [
           {
            "cells": {
             "fill": {
              "color": "#EBF0F8"
             },
             "line": {
              "color": "white"
             }
            },
            "header": {
             "fill": {
              "color": "#C8D4E3"
             },
             "line": {
              "color": "white"
             }
            },
            "type": "table"
           }
          ]
         },
         "layout": {
          "annotationdefaults": {
           "arrowcolor": "#2a3f5f",
           "arrowhead": 0,
           "arrowwidth": 1
          },
          "autotypenumbers": "strict",
          "coloraxis": {
           "colorbar": {
            "outlinewidth": 0,
            "ticks": ""
           }
          },
          "colorscale": {
           "diverging": [
            [
             0,
             "#8e0152"
            ],
            [
             0.1,
             "#c51b7d"
            ],
            [
             0.2,
             "#de77ae"
            ],
            [
             0.3,
             "#f1b6da"
            ],
            [
             0.4,
             "#fde0ef"
            ],
            [
             0.5,
             "#f7f7f7"
            ],
            [
             0.6,
             "#e6f5d0"
            ],
            [
             0.7,
             "#b8e186"
            ],
            [
             0.8,
             "#7fbc41"
            ],
            [
             0.9,
             "#4d9221"
            ],
            [
             1,
             "#276419"
            ]
           ],
           "sequential": [
            [
             0,
             "#0d0887"
            ],
            [
             0.1111111111111111,
             "#46039f"
            ],
            [
             0.2222222222222222,
             "#7201a8"
            ],
            [
             0.3333333333333333,
             "#9c179e"
            ],
            [
             0.4444444444444444,
             "#bd3786"
            ],
            [
             0.5555555555555556,
             "#d8576b"
            ],
            [
             0.6666666666666666,
             "#ed7953"
            ],
            [
             0.7777777777777778,
             "#fb9f3a"
            ],
            [
             0.8888888888888888,
             "#fdca26"
            ],
            [
             1,
             "#f0f921"
            ]
           ],
           "sequentialminus": [
            [
             0,
             "#0d0887"
            ],
            [
             0.1111111111111111,
             "#46039f"
            ],
            [
             0.2222222222222222,
             "#7201a8"
            ],
            [
             0.3333333333333333,
             "#9c179e"
            ],
            [
             0.4444444444444444,
             "#bd3786"
            ],
            [
             0.5555555555555556,
             "#d8576b"
            ],
            [
             0.6666666666666666,
             "#ed7953"
            ],
            [
             0.7777777777777778,
             "#fb9f3a"
            ],
            [
             0.8888888888888888,
             "#fdca26"
            ],
            [
             1,
             "#f0f921"
            ]
           ]
          },
          "colorway": [
           "#636efa",
           "#EF553B",
           "#00cc96",
           "#ab63fa",
           "#FFA15A",
           "#19d3f3",
           "#FF6692",
           "#B6E880",
           "#FF97FF",
           "#FECB52"
          ],
          "font": {
           "color": "#2a3f5f"
          },
          "geo": {
           "bgcolor": "white",
           "lakecolor": "white",
           "landcolor": "#E5ECF6",
           "showlakes": true,
           "showland": true,
           "subunitcolor": "white"
          },
          "hoverlabel": {
           "align": "left"
          },
          "hovermode": "closest",
          "mapbox": {
           "style": "light"
          },
          "paper_bgcolor": "white",
          "plot_bgcolor": "#E5ECF6",
          "polar": {
           "angularaxis": {
            "gridcolor": "white",
            "linecolor": "white",
            "ticks": ""
           },
           "bgcolor": "#E5ECF6",
           "radialaxis": {
            "gridcolor": "white",
            "linecolor": "white",
            "ticks": ""
           }
          },
          "scene": {
           "xaxis": {
            "backgroundcolor": "#E5ECF6",
            "gridcolor": "white",
            "gridwidth": 2,
            "linecolor": "white",
            "showbackground": true,
            "ticks": "",
            "zerolinecolor": "white"
           },
           "yaxis": {
            "backgroundcolor": "#E5ECF6",
            "gridcolor": "white",
            "gridwidth": 2,
            "linecolor": "white",
            "showbackground": true,
            "ticks": "",
            "zerolinecolor": "white"
           },
           "zaxis": {
            "backgroundcolor": "#E5ECF6",
            "gridcolor": "white",
            "gridwidth": 2,
            "linecolor": "white",
            "showbackground": true,
            "ticks": "",
            "zerolinecolor": "white"
           }
          },
          "shapedefaults": {
           "line": {
            "color": "#2a3f5f"
           }
          },
          "ternary": {
           "aaxis": {
            "gridcolor": "white",
            "linecolor": "white",
            "ticks": ""
           },
           "baxis": {
            "gridcolor": "white",
            "linecolor": "white",
            "ticks": ""
           },
           "bgcolor": "#E5ECF6",
           "caxis": {
            "gridcolor": "white",
            "linecolor": "white",
            "ticks": ""
           }
          },
          "title": {
           "x": 0.05
          },
          "xaxis": {
           "automargin": true,
           "gridcolor": "white",
           "linecolor": "white",
           "ticks": "",
           "title": {
            "standoff": 15
           },
           "zerolinecolor": "white",
           "zerolinewidth": 2
          },
          "yaxis": {
           "automargin": true,
           "gridcolor": "white",
           "linecolor": "white",
           "ticks": "",
           "title": {
            "standoff": 15
           },
           "zerolinecolor": "white",
           "zerolinewidth": 2
          }
         }
        },
        "xaxis": {
         "anchor": "y",
         "domain": [
          0,
          1
         ],
         "rangeslider": {
          "visible": true
         },
         "title": {
          "text": "Date"
         }
        },
        "yaxis": {
         "anchor": "x",
         "domain": [
          0,
          1
         ],
         "title": {
          "text": "value"
         }
        }
       }
      },
      "text/html": [
       "<div>                            <div id=\"86b8a6db-54dd-483e-b63b-17a96e923263\" class=\"plotly-graph-div\" style=\"height:525px; width:100%;\"></div>            <script type=\"text/javascript\">                require([\"plotly\"], function(Plotly) {                    window.PLOTLYENV=window.PLOTLYENV || {};                                    if (document.getElementById(\"86b8a6db-54dd-483e-b63b-17a96e923263\")) {                    Plotly.newPlot(                        \"86b8a6db-54dd-483e-b63b-17a96e923263\",                        [{\"fillpattern\":{\"shape\":\"\"},\"hovertemplate\":\"variable=Close<br>Date=%{x}<br>value=%{y}<extra></extra>\",\"legendgroup\":\"Close\",\"line\":{\"color\":\"#636efa\"},\"marker\":{\"symbol\":\"circle\"},\"mode\":\"lines\",\"name\":\"Close\",\"orientation\":\"v\",\"showlegend\":true,\"stackgroup\":\"1\",\"x\":[\"2020-03-02T00:00:00\",\"2020-03-03T00:00:00\",\"2020-03-04T00:00:00\",\"2020-03-05T00:00:00\",\"2020-03-06T00:00:00\",\"2020-03-09T00:00:00\",\"2020-03-11T00:00:00\",\"2020-03-12T00:00:00\",\"2020-03-13T00:00:00\",\"2020-03-16T00:00:00\",\"2020-03-17T00:00:00\",\"2020-03-18T00:00:00\",\"2020-03-19T00:00:00\",\"2020-03-20T00:00:00\",\"2020-03-23T00:00:00\",\"2020-03-24T00:00:00\",\"2020-03-25T00:00:00\",\"2020-03-26T00:00:00\",\"2020-03-27T00:00:00\",\"2020-03-30T00:00:00\",\"2020-03-31T00:00:00\",\"2020-04-01T00:00:00\",\"2020-04-03T00:00:00\",\"2020-04-07T00:00:00\",\"2020-04-08T00:00:00\",\"2020-04-09T00:00:00\",\"2020-04-13T00:00:00\",\"2020-04-15T00:00:00\",\"2020-04-16T00:00:00\",\"2020-04-17T00:00:00\",\"2020-04-20T00:00:00\",\"2020-04-21T00:00:00\",\"2020-04-22T00:00:00\",\"2020-04-23T00:00:00\",\"2020-04-24T00:00:00\",\"2020-04-27T00:00:00\",\"2020-04-28T00:00:00\",\"2020-04-29T00:00:00\",\"2020-04-30T00:00:00\",\"2020-05-04T00:00:00\",\"2020-05-05T00:00:00\",\"2020-05-06T00:00:00\",\"2020-05-07T00:00:00\",\"2020-05-08T00:00:00\",\"2020-05-11T00:00:00\",\"2020-05-12T00:00:00\",\"2020-05-13T00:00:00\",\"2020-05-14T00:00:00\",\"2020-05-15T00:00:00\",\"2020-05-18T00:00:00\",\"2020-05-19T00:00:00\",\"2020-05-20T00:00:00\",\"2020-05-21T00:00:00\",\"2020-05-22T00:00:00\",\"2020-05-26T00:00:00\",\"2020-05-27T00:00:00\",\"2020-05-28T00:00:00\",\"2020-05-29T00:00:00\",\"2020-06-01T00:00:00\",\"2020-06-02T00:00:00\",\"2020-06-03T00:00:00\",\"2020-06-04T00:00:00\",\"2020-06-05T00:00:00\",\"2020-06-08T00:00:00\",\"2020-06-09T00:00:00\",\"2020-06-10T00:00:00\",\"2020-06-11T00:00:00\",\"2020-06-12T00:00:00\",\"2020-06-15T00:00:00\",\"2020-06-16T00:00:00\",\"2020-06-17T00:00:00\",\"2020-06-18T00:00:00\",\"2020-06-19T00:00:00\",\"2020-06-22T00:00:00\",\"2020-06-23T00:00:00\",\"2020-06-24T00:00:00\",\"2020-06-25T00:00:00\",\"2020-06-26T00:00:00\",\"2020-06-29T00:00:00\",\"2020-06-30T00:00:00\",\"2020-07-01T00:00:00\",\"2020-07-02T00:00:00\",\"2020-07-03T00:00:00\",\"2020-07-06T00:00:00\",\"2020-07-07T00:00:00\",\"2020-07-08T00:00:00\",\"2020-07-09T00:00:00\",\"2020-07-10T00:00:00\",\"2020-07-13T00:00:00\",\"2020-07-14T00:00:00\",\"2020-07-15T00:00:00\",\"2020-07-16T00:00:00\",\"2020-07-17T00:00:00\",\"2020-07-20T00:00:00\",\"2020-07-21T00:00:00\",\"2020-07-22T00:00:00\",\"2020-07-23T00:00:00\",\"2020-07-24T00:00:00\",\"2020-07-27T00:00:00\",\"2020-07-28T00:00:00\",\"2020-07-29T00:00:00\",\"2020-07-30T00:00:00\",\"2020-07-31T00:00:00\",\"2020-08-03T00:00:00\",\"2020-08-04T00:00:00\",\"2020-08-05T00:00:00\",\"2020-08-06T00:00:00\",\"2020-08-07T00:00:00\",\"2020-08-10T00:00:00\",\"2020-08-11T00:00:00\",\"2020-08-12T00:00:00\",\"2020-08-13T00:00:00\",\"2020-08-14T00:00:00\",\"2020-08-17T00:00:00\",\"2020-08-18T00:00:00\",\"2020-08-19T00:00:00\",\"2020-08-20T00:00:00\",\"2020-08-21T00:00:00\",\"2020-08-24T00:00:00\",\"2020-08-25T00:00:00\",\"2020-08-26T00:00:00\",\"2020-08-27T00:00:00\",\"2020-08-28T00:00:00\",\"2020-08-31T00:00:00\",\"2020-09-01T00:00:00\",\"2020-09-02T00:00:00\",\"2020-09-03T00:00:00\",\"2020-09-04T00:00:00\",\"2020-09-07T00:00:00\",\"2020-09-08T00:00:00\",\"2020-09-09T00:00:00\",\"2020-09-10T00:00:00\",\"2020-09-11T00:00:00\",\"2020-09-14T00:00:00\",\"2020-09-15T00:00:00\",\"2020-09-16T00:00:00\",\"2020-09-17T00:00:00\",\"2020-09-18T00:00:00\",\"2020-09-21T00:00:00\",\"2020-09-22T00:00:00\",\"2020-09-23T00:00:00\",\"2020-09-24T00:00:00\",\"2020-09-25T00:00:00\",\"2020-09-28T00:00:00\",\"2020-09-29T00:00:00\",\"2020-09-30T00:00:00\",\"2020-10-01T00:00:00\",\"2020-10-05T00:00:00\",\"2020-10-06T00:00:00\",\"2020-10-07T00:00:00\",\"2020-10-08T00:00:00\",\"2020-10-09T00:00:00\",\"2020-10-12T00:00:00\",\"2020-10-13T00:00:00\",\"2020-10-14T00:00:00\",\"2020-10-15T00:00:00\",\"2020-10-16T00:00:00\",\"2020-10-19T00:00:00\",\"2020-10-20T00:00:00\",\"2020-10-21T00:00:00\",\"2020-10-22T00:00:00\",\"2020-10-23T00:00:00\",\"2020-10-26T00:00:00\",\"2020-10-27T00:00:00\",\"2020-10-28T00:00:00\",\"2020-10-29T00:00:00\",\"2020-10-30T00:00:00\",\"2020-11-02T00:00:00\",\"2020-11-03T00:00:00\",\"2020-11-04T00:00:00\",\"2020-11-05T00:00:00\",\"2020-11-06T00:00:00\",\"2020-11-09T00:00:00\",\"2020-11-10T00:00:00\",\"2020-11-11T00:00:00\",\"2020-11-12T00:00:00\",\"2020-11-13T00:00:00\",\"2020-11-14T00:00:00\",\"2020-11-17T00:00:00\",\"2020-11-18T00:00:00\",\"2020-11-19T00:00:00\",\"2020-11-20T00:00:00\",\"2020-11-23T00:00:00\",\"2020-11-24T00:00:00\",\"2020-11-25T00:00:00\",\"2020-11-26T00:00:00\",\"2020-11-27T00:00:00\",\"2020-12-01T00:00:00\",\"2020-12-02T00:00:00\",\"2020-12-03T00:00:00\",\"2020-12-04T00:00:00\",\"2020-12-07T00:00:00\",\"2020-12-08T00:00:00\",\"2020-12-09T00:00:00\",\"2020-12-10T00:00:00\",\"2020-12-11T00:00:00\",\"2020-12-14T00:00:00\",\"2020-12-15T00:00:00\",\"2020-12-16T00:00:00\",\"2020-12-17T00:00:00\",\"2020-12-18T00:00:00\",\"2020-12-21T00:00:00\",\"2020-12-22T00:00:00\",\"2020-12-23T00:00:00\",\"2020-12-24T00:00:00\",\"2020-12-28T00:00:00\",\"2020-12-29T00:00:00\",\"2020-12-30T00:00:00\",\"2020-12-31T00:00:00\",\"2021-01-01T00:00:00\",\"2021-01-04T00:00:00\",\"2021-01-05T00:00:00\",\"2021-01-06T00:00:00\",\"2021-01-07T00:00:00\",\"2021-01-08T00:00:00\",\"2021-01-11T00:00:00\",\"2021-01-12T00:00:00\",\"2021-01-13T00:00:00\",\"2021-01-14T00:00:00\",\"2021-01-15T00:00:00\",\"2021-01-18T00:00:00\",\"2021-01-19T00:00:00\",\"2021-01-20T00:00:00\",\"2021-01-21T00:00:00\",\"2021-01-22T00:00:00\",\"2021-01-25T00:00:00\",\"2021-01-27T00:00:00\",\"2021-01-28T00:00:00\",\"2021-01-29T00:00:00\",\"2021-02-01T00:00:00\",\"2021-02-02T00:00:00\",\"2021-02-03T00:00:00\",\"2021-02-04T00:00:00\",\"2021-02-05T00:00:00\",\"2021-02-08T00:00:00\",\"2021-02-09T00:00:00\",\"2021-02-10T00:00:00\",\"2021-02-11T00:00:00\",\"2021-02-12T00:00:00\",\"2021-02-15T00:00:00\",\"2021-02-16T00:00:00\",\"2021-02-17T00:00:00\",\"2021-02-18T00:00:00\",\"2021-02-19T00:00:00\",\"2021-02-22T00:00:00\",\"2021-02-23T00:00:00\",\"2021-02-24T00:00:00\",\"2021-02-25T00:00:00\",\"2021-02-26T00:00:00\",\"2021-03-01T00:00:00\",\"2021-03-02T00:00:00\",\"2021-03-03T00:00:00\",\"2021-03-04T00:00:00\",\"2021-03-05T00:00:00\",\"2021-03-08T00:00:00\",\"2021-03-09T00:00:00\",\"2021-03-10T00:00:00\",\"2021-03-12T00:00:00\",\"2021-03-15T00:00:00\",\"2021-03-16T00:00:00\",\"2021-03-17T00:00:00\",\"2021-03-18T00:00:00\",\"2021-03-19T00:00:00\",\"2021-03-22T00:00:00\",\"2021-03-23T00:00:00\",\"2021-03-24T00:00:00\",\"2021-03-25T00:00:00\",\"2021-03-26T00:00:00\",\"2021-03-30T00:00:00\",\"2021-03-31T00:00:00\",\"2021-04-01T00:00:00\",\"2021-04-05T00:00:00\",\"2021-04-06T00:00:00\",\"2021-04-07T00:00:00\",\"2021-04-08T00:00:00\",\"2021-04-09T00:00:00\",\"2021-04-12T00:00:00\",\"2021-04-13T00:00:00\",\"2021-04-15T00:00:00\",\"2021-04-16T00:00:00\",\"2021-04-19T00:00:00\",\"2021-04-20T00:00:00\",\"2021-04-22T00:00:00\",\"2021-04-23T00:00:00\",\"2021-04-26T00:00:00\",\"2021-04-27T00:00:00\",\"2021-04-28T00:00:00\",\"2021-04-29T00:00:00\",\"2021-04-30T00:00:00\",\"2021-05-03T00:00:00\",\"2021-05-04T00:00:00\",\"2021-05-05T00:00:00\",\"2021-05-06T00:00:00\",\"2021-05-07T00:00:00\",\"2021-05-10T00:00:00\",\"2021-05-11T00:00:00\",\"2021-05-12T00:00:00\",\"2021-05-14T00:00:00\",\"2021-05-17T00:00:00\",\"2021-05-18T00:00:00\",\"2021-05-19T00:00:00\",\"2021-05-20T00:00:00\",\"2021-05-21T00:00:00\",\"2021-05-24T00:00:00\",\"2021-05-25T00:00:00\",\"2021-05-26T00:00:00\",\"2021-05-27T00:00:00\",\"2021-05-28T00:00:00\",\"2021-05-31T00:00:00\",\"2021-06-01T00:00:00\",\"2021-06-02T00:00:00\",\"2021-06-03T00:00:00\",\"2021-06-04T00:00:00\",\"2021-06-07T00:00:00\",\"2021-06-08T00:00:00\",\"2021-06-09T00:00:00\",\"2021-06-10T00:00:00\",\"2021-06-11T00:00:00\",\"2021-06-14T00:00:00\",\"2021-06-15T00:00:00\",\"2021-06-16T00:00:00\",\"2021-06-17T00:00:00\",\"2021-06-18T00:00:00\",\"2021-06-21T00:00:00\",\"2021-06-22T00:00:00\",\"2021-06-23T00:00:00\",\"2021-06-24T00:00:00\",\"2021-06-25T00:00:00\",\"2021-06-28T00:00:00\",\"2021-06-29T00:00:00\",\"2021-06-30T00:00:00\",\"2021-07-01T00:00:00\",\"2021-07-02T00:00:00\",\"2021-07-05T00:00:00\",\"2021-07-06T00:00:00\",\"2021-07-07T00:00:00\",\"2021-07-08T00:00:00\",\"2021-07-09T00:00:00\",\"2021-07-12T00:00:00\",\"2021-07-13T00:00:00\",\"2021-07-14T00:00:00\",\"2021-07-15T00:00:00\",\"2021-07-16T00:00:00\",\"2021-07-19T00:00:00\",\"2021-07-20T00:00:00\",\"2021-07-22T00:00:00\",\"2021-07-23T00:00:00\",\"2021-07-26T00:00:00\",\"2021-07-27T00:00:00\",\"2021-07-28T00:00:00\",\"2021-07-29T00:00:00\",\"2021-07-30T00:00:00\",\"2021-08-02T00:00:00\",\"2021-08-03T00:00:00\",\"2021-08-04T00:00:00\",\"2021-08-05T00:00:00\",\"2021-08-06T00:00:00\",\"2021-08-09T00:00:00\",\"2021-08-10T00:00:00\",\"2021-08-11T00:00:00\",\"2021-08-12T00:00:00\",\"2021-08-13T00:00:00\",\"2021-08-16T00:00:00\",\"2021-08-17T00:00:00\",\"2021-08-18T00:00:00\",\"2021-08-20T00:00:00\",\"2021-08-23T00:00:00\",\"2021-08-24T00:00:00\",\"2021-08-25T00:00:00\",\"2021-08-26T00:00:00\",\"2021-08-27T00:00:00\",\"2021-08-30T00:00:00\",\"2021-08-31T00:00:00\",\"2021-09-01T00:00:00\",\"2021-09-02T00:00:00\",\"2021-09-03T00:00:00\",\"2021-09-06T00:00:00\",\"2021-09-07T00:00:00\",\"2021-09-08T00:00:00\",\"2021-09-09T00:00:00\",\"2021-09-13T00:00:00\",\"2021-09-14T00:00:00\",\"2021-09-15T00:00:00\",\"2021-09-16T00:00:00\",\"2021-09-17T00:00:00\",\"2021-09-20T00:00:00\",\"2021-09-21T00:00:00\",\"2021-09-22T00:00:00\",\"2021-09-23T00:00:00\",\"2021-09-24T00:00:00\",\"2021-09-27T00:00:00\",\"2021-09-28T00:00:00\",\"2021-09-29T00:00:00\",\"2021-09-30T00:00:00\",\"2021-10-01T00:00:00\",\"2021-10-04T00:00:00\",\"2021-10-05T00:00:00\",\"2021-10-06T00:00:00\",\"2021-10-07T00:00:00\",\"2021-10-08T00:00:00\",\"2021-10-11T00:00:00\",\"2021-10-12T00:00:00\",\"2021-10-13T00:00:00\",\"2021-10-14T00:00:00\",\"2021-10-18T00:00:00\",\"2021-10-19T00:00:00\",\"2021-10-20T00:00:00\",\"2021-10-21T00:00:00\",\"2021-10-22T00:00:00\",\"2021-10-25T00:00:00\",\"2021-10-26T00:00:00\",\"2021-10-27T00:00:00\",\"2021-10-28T00:00:00\",\"2021-10-29T00:00:00\",\"2021-11-01T00:00:00\",\"2021-11-02T00:00:00\",\"2021-11-03T00:00:00\",\"2021-11-04T00:00:00\",\"2021-11-08T00:00:00\",\"2021-11-09T00:00:00\",\"2021-11-10T00:00:00\",\"2021-11-11T00:00:00\",\"2021-11-12T00:00:00\",\"2021-11-15T00:00:00\",\"2021-11-16T00:00:00\",\"2021-11-17T00:00:00\",\"2021-11-18T00:00:00\",\"2021-11-22T00:00:00\",\"2021-11-23T00:00:00\",\"2021-11-24T00:00:00\",\"2021-11-25T00:00:00\",\"2021-11-26T00:00:00\",\"2021-11-29T00:00:00\",\"2021-11-30T00:00:00\",\"2021-12-01T00:00:00\",\"2021-12-02T00:00:00\",\"2021-12-03T00:00:00\",\"2021-12-06T00:00:00\",\"2021-12-07T00:00:00\",\"2021-12-08T00:00:00\",\"2021-12-09T00:00:00\",\"2021-12-10T00:00:00\",\"2021-12-13T00:00:00\",\"2021-12-14T00:00:00\",\"2021-12-15T00:00:00\",\"2021-12-16T00:00:00\",\"2021-12-17T00:00:00\",\"2021-12-20T00:00:00\",\"2021-12-21T00:00:00\",\"2021-12-22T00:00:00\",\"2021-12-23T00:00:00\",\"2021-12-24T00:00:00\",\"2021-12-27T00:00:00\",\"2021-12-28T00:00:00\",\"2021-12-29T00:00:00\",\"2021-12-30T00:00:00\",\"2021-12-31T00:00:00\",\"2022-01-03T00:00:00\",\"2022-01-04T00:00:00\",\"2022-01-05T00:00:00\",\"2022-01-06T00:00:00\",\"2022-01-07T00:00:00\",\"2022-01-10T00:00:00\",\"2022-01-11T00:00:00\",\"2022-01-12T00:00:00\",\"2022-01-13T00:00:00\",\"2022-01-14T00:00:00\",\"2022-01-17T00:00:00\",\"2022-01-18T00:00:00\",\"2022-01-19T00:00:00\",\"2022-01-20T00:00:00\",\"2022-01-21T00:00:00\",\"2022-01-24T00:00:00\",\"2022-01-25T00:00:00\",\"2022-01-27T00:00:00\",\"2022-01-28T00:00:00\",\"2022-01-31T00:00:00\",\"2022-02-01T00:00:00\",\"2022-02-02T00:00:00\",\"2022-02-03T00:00:00\",\"2022-02-04T00:00:00\",\"2022-02-07T00:00:00\",\"2022-02-08T00:00:00\",\"2022-02-09T00:00:00\",\"2022-02-10T00:00:00\",\"2022-02-11T00:00:00\",\"2022-02-14T00:00:00\",\"2022-02-15T00:00:00\",\"2022-02-16T00:00:00\",\"2022-02-17T00:00:00\",\"2022-02-18T00:00:00\",\"2022-02-21T00:00:00\",\"2022-02-22T00:00:00\",\"2022-02-23T00:00:00\",\"2022-02-24T00:00:00\",\"2022-02-25T00:00:00\",\"2022-02-28T00:00:00\",\"2022-03-02T00:00:00\",\"2022-03-03T00:00:00\",\"2022-03-04T00:00:00\",\"2022-03-07T00:00:00\",\"2022-03-08T00:00:00\",\"2022-03-09T00:00:00\",\"2022-03-10T00:00:00\",\"2022-03-11T00:00:00\",\"2022-03-14T00:00:00\",\"2022-03-15T00:00:00\",\"2022-03-16T00:00:00\",\"2022-03-17T00:00:00\",\"2022-03-21T00:00:00\",\"2022-03-22T00:00:00\",\"2022-03-23T00:00:00\",\"2022-03-24T00:00:00\",\"2022-03-25T00:00:00\",\"2022-03-28T00:00:00\",\"2022-03-29T00:00:00\",\"2022-03-30T00:00:00\",\"2022-03-31T00:00:00\",\"2022-04-01T00:00:00\",\"2022-04-04T00:00:00\",\"2022-04-05T00:00:00\",\"2022-04-06T00:00:00\",\"2022-04-07T00:00:00\",\"2022-04-08T00:00:00\",\"2022-04-11T00:00:00\",\"2022-04-12T00:00:00\",\"2022-04-13T00:00:00\",\"2022-04-18T00:00:00\",\"2022-04-19T00:00:00\",\"2022-04-20T00:00:00\",\"2022-04-21T00:00:00\",\"2022-04-22T00:00:00\",\"2022-04-25T00:00:00\",\"2022-04-26T00:00:00\",\"2022-04-27T00:00:00\",\"2022-04-28T00:00:00\",\"2022-04-29T00:00:00\",\"2022-05-02T00:00:00\",\"2022-05-04T00:00:00\",\"2022-05-05T00:00:00\",\"2022-05-06T00:00:00\",\"2022-05-09T00:00:00\",\"2022-05-10T00:00:00\",\"2022-05-11T00:00:00\",\"2022-05-12T00:00:00\",\"2022-05-13T00:00:00\",\"2022-05-16T00:00:00\",\"2022-05-17T00:00:00\",\"2022-05-18T00:00:00\",\"2022-05-19T00:00:00\",\"2022-05-20T00:00:00\",\"2022-05-23T00:00:00\",\"2022-05-24T00:00:00\",\"2022-05-25T00:00:00\",\"2022-05-26T00:00:00\",\"2022-05-27T00:00:00\"],\"xaxis\":\"x\",\"y\":[11132.75,11303.299809999999,11251.0,11269.0,10989.4502,10451.4502,10458.40039,9590.150391,9955.200195,9197.400391,8967.049805,8468.799805,8263.450195,8745.450195,7610.25,7801.049805,8317.849609,8641.450195,8660.25,8281.099609,8597.75,8253.799805,8083.799805,8792.200195,8748.75,9111.900391,8993.849609,8925.299805,8992.799805,9266.75,9261.849609,8981.450195,9187.299805,9313.900391,9154.400391,9282.299805,9380.900391,9553.349609,9859.900391,9293.5,9205.599609,9270.900391,9199.049805,9251.5,9239.200195,9196.549805,9383.549805,9142.75,9136.849609,8823.25,8879.099609,9066.549805,9106.25,9039.25,9029.049805,9314.950195,9490.099609,9580.299805,9826.150391,9979.099609,10061.549809999999,10029.09961,10142.15039,10167.4502,10046.65039,10116.15039,9902.0,9972.900391,9813.700195,9914.0,9881.150391,10091.65039,10244.40039,10311.2002,10471.0,10305.299809999999,10288.90039,10383.0,10312.40039,10302.09961,10430.049809999999,10551.7002,10607.34961,10763.65039,10799.65039,10705.75,10813.4502,10768.049809999999,10802.7002,10607.34961,10618.2002,10739.9502,10901.7002,11022.2002,11162.25,11132.59961,11215.4502,11194.15039,11131.799809999999,11300.549809999999,11202.84961,11102.15039,11073.4502,10891.59961,11095.25,11101.65039,11200.15039,11214.049809999999,11270.15039,11322.5,11308.40039,11300.4502,11178.40039,11247.09961,11385.34961,11408.40039,11312.2002,11371.59961,11466.4502,11472.25,11549.59961,11559.25,11647.59961,11387.5,11470.25,11535.0,11527.4502,11333.84961,11355.049809999999,11317.34961,11278.0,11449.25,11464.4502,11440.049809999999,11521.799809999999,11604.549809999999,11516.09961,11504.9502,11250.549809999999,11153.65039,11131.84961,10805.549809999999,11050.25,11227.549809999999,11222.40039,11247.549809999999,11416.9502,11503.34961,11662.40039,11738.84961,11834.59961,11914.2002,11930.9502,11934.5,11971.049809999999,11680.34961,11762.4502,11873.049809999999,11896.799809999999,11937.65039,11896.4502,11930.34961,11767.75,11889.40039,11729.59961,11670.799809999999,11642.40039,11669.15039,11813.5,11908.5,12120.299809999999,12263.549809999999,12461.049809999999,12631.09961,12749.15039,12690.799809999999,12719.9502,null,12874.2002,12938.25,12771.7002,12859.049809999999,12926.4502,13055.15039,12858.40039,12987.0,12968.9502,13109.049809999999,13113.75,13133.90039,13258.549809999999,13355.75,13392.9502,13529.09961,13478.299809999999,13513.84961,13558.15039,13567.84961,13682.7002,13740.7002,13760.549809999999,13328.40039,13466.299809999999,13601.09961,13749.25,13873.2002,13932.59961,13981.9502,13981.75,14018.5,14132.90039,14199.5,14146.25,14137.34961,14347.25,14484.75,14563.4502,14564.84961,14595.59961,14433.7002,14281.299809999999,14521.15039,14644.7002,14590.34961,14371.90039,14238.90039,13967.5,13817.549809999999,13634.59961,14281.2002,14647.84961,14789.9502,14895.65039,14924.25,15115.799809999999,15109.299809999999,15106.5,15173.299809999999,15163.299809999999,15314.7002,15313.4502,15208.90039,15118.9502,14981.75,14675.7002,14707.799809999999,14982.0,15097.34961,14529.15039,14761.549809999999,14919.09961,15245.59961,15080.75,14938.09961,14956.2002,15098.40039,15174.799809999999,15030.9502,14929.5,14910.4502,14721.299809999999,14557.84961,14744.0,14736.40039,14814.75,14549.40039,14324.90039,14507.299809999999,14845.09961,14690.7002,14867.34961,14637.799809999999,14683.5,14819.049809999999,14873.799809999999,14834.84961,14310.799809999999,14504.799809999999,14581.4502,14617.84961,14359.4502,14296.40039,14406.15039,14341.34961,14485.0,14653.049809999999,14864.549809999999,14894.90039,14631.09961,14634.15039,14496.5,14617.84961,14724.799809999999,14823.15039,14942.34961,14850.75,14696.5,14677.799809999999,14923.15039,15108.09961,15030.15039,14906.049809999999,15175.299809999999,15197.7002,15208.4502,15301.4502,15337.84961,15435.65039,15582.799809999999,15574.84961,15576.2002,15690.34961,15670.25,15751.65039,15740.09961,15635.34961,15737.75,15799.34961,15811.84961,15869.25,15767.549809999999,15691.40039,15683.34961,15746.5,15772.75,15686.9502,15790.4502,15860.34961,15814.7002,15748.4502,15721.5,15680.0,15722.2002,15834.34961,15818.25,15879.65039,15727.90039,15689.799809999999,15692.59961,15812.34961,15853.9502,15924.2002,15923.40039,15752.40039,15632.09961,15824.049809999999,15856.049809999999,15824.4502,15746.4502,15709.40039,15778.4502,15763.049809999999,15885.15039,16130.75,16258.799809999999,16294.59961,16238.2002,16258.25,16280.09961,16282.25,16364.40039,16529.09961,16563.05078,16614.59961,16568.84961,16450.5,16496.44922,16624.59961,16634.65039,16636.90039,16705.19922,16931.05078,17132.19922,17076.25,17234.15039,17323.59961,17377.80078,17362.09961,17353.5,17369.25,17355.30078,17380.0,17519.44922,17629.5,17585.15039,17396.90039,17562.0,17546.65039,17822.94922,17853.19922,17855.09961,17748.59961,17711.30078,17618.15039,17532.05078,17691.25,17822.30078,17646.0,17790.34961,17895.19922,17945.94922,17991.94922,18161.75,18338.55078,18477.05078,18418.75,18266.59961,18178.09961,18114.90039,18125.40039,18268.40039,18210.94922,17857.25,17671.65039,17929.65039,17888.94922,17829.19922,17916.80078,18068.55078,18044.25,18017.19922,17873.59961,18102.75,18109.44922,17999.19922,17898.65039,17764.80078,17416.55078,17503.34961,17415.05078,17536.25,17026.44922,17053.94922,16983.19922,17166.90039,17401.65039,17196.69922,16912.25,17176.69922,17469.75,17516.84961,17511.30078,17368.25,17324.90039,17221.40039,17248.40039,16985.19922,16614.19922,16770.84961,16955.44922,17072.59961,17003.75,17086.25,17233.25,17213.59961,17203.94922,17354.05078,17625.69922,17805.25,17925.25,17745.90039,17812.69922,18003.30078,18055.75,18212.34961,18257.80078,18255.75,18308.09961,18113.05078,17938.40039,17757.0,17617.15039,17149.09961,17277.94922,17110.15039,17101.94922,17339.84961,17576.84961,17780.0,17560.19922,17516.30078,17213.59961,17266.75,17463.80078,17605.84961,17374.75,16842.80078,17352.44922,17322.19922,17304.59961,17276.30078,17206.65039,17092.19922,17063.25,16247.9502,16658.40039,16793.90039,16605.94922,16498.05078,16245.34961,15863.15039,16013.4502,16345.34961,16594.90039,16630.44922,16871.30078,16663.0,16975.34961,17287.05078,17117.59961,17315.5,17245.65039,17222.75,17153.0,17222.0,17325.30078,17498.25,17464.75,17670.44922,18053.40039,17957.40039,17807.65039,17639.55078,17784.34961,17674.94922,17530.30078,17475.65039,17173.65039,16958.65039,17136.55078,17392.59961,17171.94922,16953.94922,17200.80078,17038.40039,17245.05078,17102.55078,17069.09961,16677.59961,16682.65039,16411.25,16301.84961,16240.049809999999,16167.09961,15808.0,15782.15039,15842.299809999999,16259.299809999999,16240.299809999999,15809.40039,16266.15039,16214.7002,16125.15039,16025.799809999999,16170.15039,16352.45],\"yaxis\":\"y\",\"type\":\"scatter\"},{\"fillpattern\":{\"shape\":\"\"},\"hovertemplate\":\"variable=Open<br>Date=%{x}<br>value=%{y}<extra></extra>\",\"legendgroup\":\"Open\",\"line\":{\"color\":\"#EF553B\"},\"marker\":{\"symbol\":\"circle\"},\"mode\":\"lines\",\"name\":\"Open\",\"orientation\":\"v\",\"showlegend\":true,\"stackgroup\":\"1\",\"x\":[\"2020-03-02T00:00:00\",\"2020-03-03T00:00:00\",\"2020-03-04T00:00:00\",\"2020-03-05T00:00:00\",\"2020-03-06T00:00:00\",\"2020-03-09T00:00:00\",\"2020-03-11T00:00:00\",\"2020-03-12T00:00:00\",\"2020-03-13T00:00:00\",\"2020-03-16T00:00:00\",\"2020-03-17T00:00:00\",\"2020-03-18T00:00:00\",\"2020-03-19T00:00:00\",\"2020-03-20T00:00:00\",\"2020-03-23T00:00:00\",\"2020-03-24T00:00:00\",\"2020-03-25T00:00:00\",\"2020-03-26T00:00:00\",\"2020-03-27T00:00:00\",\"2020-03-30T00:00:00\",\"2020-03-31T00:00:00\",\"2020-04-01T00:00:00\",\"2020-04-03T00:00:00\",\"2020-04-07T00:00:00\",\"2020-04-08T00:00:00\",\"2020-04-09T00:00:00\",\"2020-04-13T00:00:00\",\"2020-04-15T00:00:00\",\"2020-04-16T00:00:00\",\"2020-04-17T00:00:00\",\"2020-04-20T00:00:00\",\"2020-04-21T00:00:00\",\"2020-04-22T00:00:00\",\"2020-04-23T00:00:00\",\"2020-04-24T00:00:00\",\"2020-04-27T00:00:00\",\"2020-04-28T00:00:00\",\"2020-04-29T00:00:00\",\"2020-04-30T00:00:00\",\"2020-05-04T00:00:00\",\"2020-05-05T00:00:00\",\"2020-05-06T00:00:00\",\"2020-05-07T00:00:00\",\"2020-05-08T00:00:00\",\"2020-05-11T00:00:00\",\"2020-05-12T00:00:00\",\"2020-05-13T00:00:00\",\"2020-05-14T00:00:00\",\"2020-05-15T00:00:00\",\"2020-05-18T00:00:00\",\"2020-05-19T00:00:00\",\"2020-05-20T00:00:00\",\"2020-05-21T00:00:00\",\"2020-05-22T00:00:00\",\"2020-05-26T00:00:00\",\"2020-05-27T00:00:00\",\"2020-05-28T00:00:00\",\"2020-05-29T00:00:00\",\"2020-06-01T00:00:00\",\"2020-06-02T00:00:00\",\"2020-06-03T00:00:00\",\"2020-06-04T00:00:00\",\"2020-06-05T00:00:00\",\"2020-06-08T00:00:00\",\"2020-06-09T00:00:00\",\"2020-06-10T00:00:00\",\"2020-06-11T00:00:00\",\"2020-06-12T00:00:00\",\"2020-06-15T00:00:00\",\"2020-06-16T00:00:00\",\"2020-06-17T00:00:00\",\"2020-06-18T00:00:00\",\"2020-06-19T00:00:00\",\"2020-06-22T00:00:00\",\"2020-06-23T00:00:00\",\"2020-06-24T00:00:00\",\"2020-06-25T00:00:00\",\"2020-06-26T00:00:00\",\"2020-06-29T00:00:00\",\"2020-06-30T00:00:00\",\"2020-07-01T00:00:00\",\"2020-07-02T00:00:00\",\"2020-07-03T00:00:00\",\"2020-07-06T00:00:00\",\"2020-07-07T00:00:00\",\"2020-07-08T00:00:00\",\"2020-07-09T00:00:00\",\"2020-07-10T00:00:00\",\"2020-07-13T00:00:00\",\"2020-07-14T00:00:00\",\"2020-07-15T00:00:00\",\"2020-07-16T00:00:00\",\"2020-07-17T00:00:00\",\"2020-07-20T00:00:00\",\"2020-07-21T00:00:00\",\"2020-07-22T00:00:00\",\"2020-07-23T00:00:00\",\"2020-07-24T00:00:00\",\"2020-07-27T00:00:00\",\"2020-07-28T00:00:00\",\"2020-07-29T00:00:00\",\"2020-07-30T00:00:00\",\"2020-07-31T00:00:00\",\"2020-08-03T00:00:00\",\"2020-08-04T00:00:00\",\"2020-08-05T00:00:00\",\"2020-08-06T00:00:00\",\"2020-08-07T00:00:00\",\"2020-08-10T00:00:00\",\"2020-08-11T00:00:00\",\"2020-08-12T00:00:00\",\"2020-08-13T00:00:00\",\"2020-08-14T00:00:00\",\"2020-08-17T00:00:00\",\"2020-08-18T00:00:00\",\"2020-08-19T00:00:00\",\"2020-08-20T00:00:00\",\"2020-08-21T00:00:00\",\"2020-08-24T00:00:00\",\"2020-08-25T00:00:00\",\"2020-08-26T00:00:00\",\"2020-08-27T00:00:00\",\"2020-08-28T00:00:00\",\"2020-08-31T00:00:00\",\"2020-09-01T00:00:00\",\"2020-09-02T00:00:00\",\"2020-09-03T00:00:00\",\"2020-09-04T00:00:00\",\"2020-09-07T00:00:00\",\"2020-09-08T00:00:00\",\"2020-09-09T00:00:00\",\"2020-09-10T00:00:00\",\"2020-09-11T00:00:00\",\"2020-09-14T00:00:00\",\"2020-09-15T00:00:00\",\"2020-09-16T00:00:00\",\"2020-09-17T00:00:00\",\"2020-09-18T00:00:00\",\"2020-09-21T00:00:00\",\"2020-09-22T00:00:00\",\"2020-09-23T00:00:00\",\"2020-09-24T00:00:00\",\"2020-09-25T00:00:00\",\"2020-09-28T00:00:00\",\"2020-09-29T00:00:00\",\"2020-09-30T00:00:00\",\"2020-10-01T00:00:00\",\"2020-10-05T00:00:00\",\"2020-10-06T00:00:00\",\"2020-10-07T00:00:00\",\"2020-10-08T00:00:00\",\"2020-10-09T00:00:00\",\"2020-10-12T00:00:00\",\"2020-10-13T00:00:00\",\"2020-10-14T00:00:00\",\"2020-10-15T00:00:00\",\"2020-10-16T00:00:00\",\"2020-10-19T00:00:00\",\"2020-10-20T00:00:00\",\"2020-10-21T00:00:00\",\"2020-10-22T00:00:00\",\"2020-10-23T00:00:00\",\"2020-10-26T00:00:00\",\"2020-10-27T00:00:00\",\"2020-10-28T00:00:00\",\"2020-10-29T00:00:00\",\"2020-10-30T00:00:00\",\"2020-11-02T00:00:00\",\"2020-11-03T00:00:00\",\"2020-11-04T00:00:00\",\"2020-11-05T00:00:00\",\"2020-11-06T00:00:00\",\"2020-11-09T00:00:00\",\"2020-11-10T00:00:00\",\"2020-11-11T00:00:00\",\"2020-11-12T00:00:00\",\"2020-11-13T00:00:00\",\"2020-11-14T00:00:00\",\"2020-11-17T00:00:00\",\"2020-11-18T00:00:00\",\"2020-11-19T00:00:00\",\"2020-11-20T00:00:00\",\"2020-11-23T00:00:00\",\"2020-11-24T00:00:00\",\"2020-11-25T00:00:00\",\"2020-11-26T00:00:00\",\"2020-11-27T00:00:00\",\"2020-12-01T00:00:00\",\"2020-12-02T00:00:00\",\"2020-12-03T00:00:00\",\"2020-12-04T00:00:00\",\"2020-12-07T00:00:00\",\"2020-12-08T00:00:00\",\"2020-12-09T00:00:00\",\"2020-12-10T00:00:00\",\"2020-12-11T00:00:00\",\"2020-12-14T00:00:00\",\"2020-12-15T00:00:00\",\"2020-12-16T00:00:00\",\"2020-12-17T00:00:00\",\"2020-12-18T00:00:00\",\"2020-12-21T00:00:00\",\"2020-12-22T00:00:00\",\"2020-12-23T00:00:00\",\"2020-12-24T00:00:00\",\"2020-12-28T00:00:00\",\"2020-12-29T00:00:00\",\"2020-12-30T00:00:00\",\"2020-12-31T00:00:00\",\"2021-01-01T00:00:00\",\"2021-01-04T00:00:00\",\"2021-01-05T00:00:00\",\"2021-01-06T00:00:00\",\"2021-01-07T00:00:00\",\"2021-01-08T00:00:00\",\"2021-01-11T00:00:00\",\"2021-01-12T00:00:00\",\"2021-01-13T00:00:00\",\"2021-01-14T00:00:00\",\"2021-01-15T00:00:00\",\"2021-01-18T00:00:00\",\"2021-01-19T00:00:00\",\"2021-01-20T00:00:00\",\"2021-01-21T00:00:00\",\"2021-01-22T00:00:00\",\"2021-01-25T00:00:00\",\"2021-01-27T00:00:00\",\"2021-01-28T00:00:00\",\"2021-01-29T00:00:00\",\"2021-02-01T00:00:00\",\"2021-02-02T00:00:00\",\"2021-02-03T00:00:00\",\"2021-02-04T00:00:00\",\"2021-02-05T00:00:00\",\"2021-02-08T00:00:00\",\"2021-02-09T00:00:00\",\"2021-02-10T00:00:00\",\"2021-02-11T00:00:00\",\"2021-02-12T00:00:00\",\"2021-02-15T00:00:00\",\"2021-02-16T00:00:00\",\"2021-02-17T00:00:00\",\"2021-02-18T00:00:00\",\"2021-02-19T00:00:00\",\"2021-02-22T00:00:00\",\"2021-02-23T00:00:00\",\"2021-02-24T00:00:00\",\"2021-02-25T00:00:00\",\"2021-02-26T00:00:00\",\"2021-03-01T00:00:00\",\"2021-03-02T00:00:00\",\"2021-03-03T00:00:00\",\"2021-03-04T00:00:00\",\"2021-03-05T00:00:00\",\"2021-03-08T00:00:00\",\"2021-03-09T00:00:00\",\"2021-03-10T00:00:00\",\"2021-03-12T00:00:00\",\"2021-03-15T00:00:00\",\"2021-03-16T00:00:00\",\"2021-03-17T00:00:00\",\"2021-03-18T00:00:00\",\"2021-03-19T00:00:00\",\"2021-03-22T00:00:00\",\"2021-03-23T00:00:00\",\"2021-03-24T00:00:00\",\"2021-03-25T00:00:00\",\"2021-03-26T00:00:00\",\"2021-03-30T00:00:00\",\"2021-03-31T00:00:00\",\"2021-04-01T00:00:00\",\"2021-04-05T00:00:00\",\"2021-04-06T00:00:00\",\"2021-04-07T00:00:00\",\"2021-04-08T00:00:00\",\"2021-04-09T00:00:00\",\"2021-04-12T00:00:00\",\"2021-04-13T00:00:00\",\"2021-04-15T00:00:00\",\"2021-04-16T00:00:00\",\"2021-04-19T00:00:00\",\"2021-04-20T00:00:00\",\"2021-04-22T00:00:00\",\"2021-04-23T00:00:00\",\"2021-04-26T00:00:00\",\"2021-04-27T00:00:00\",\"2021-04-28T00:00:00\",\"2021-04-29T00:00:00\",\"2021-04-30T00:00:00\",\"2021-05-03T00:00:00\",\"2021-05-04T00:00:00\",\"2021-05-05T00:00:00\",\"2021-05-06T00:00:00\",\"2021-05-07T00:00:00\",\"2021-05-10T00:00:00\",\"2021-05-11T00:00:00\",\"2021-05-12T00:00:00\",\"2021-05-14T00:00:00\",\"2021-05-17T00:00:00\",\"2021-05-18T00:00:00\",\"2021-05-19T00:00:00\",\"2021-05-20T00:00:00\",\"2021-05-21T00:00:00\",\"2021-05-24T00:00:00\",\"2021-05-25T00:00:00\",\"2021-05-26T00:00:00\",\"2021-05-27T00:00:00\",\"2021-05-28T00:00:00\",\"2021-05-31T00:00:00\",\"2021-06-01T00:00:00\",\"2021-06-02T00:00:00\",\"2021-06-03T00:00:00\",\"2021-06-04T00:00:00\",\"2021-06-07T00:00:00\",\"2021-06-08T00:00:00\",\"2021-06-09T00:00:00\",\"2021-06-10T00:00:00\",\"2021-06-11T00:00:00\",\"2021-06-14T00:00:00\",\"2021-06-15T00:00:00\",\"2021-06-16T00:00:00\",\"2021-06-17T00:00:00\",\"2021-06-18T00:00:00\",\"2021-06-21T00:00:00\",\"2021-06-22T00:00:00\",\"2021-06-23T00:00:00\",\"2021-06-24T00:00:00\",\"2021-06-25T00:00:00\",\"2021-06-28T00:00:00\",\"2021-06-29T00:00:00\",\"2021-06-30T00:00:00\",\"2021-07-01T00:00:00\",\"2021-07-02T00:00:00\",\"2021-07-05T00:00:00\",\"2021-07-06T00:00:00\",\"2021-07-07T00:00:00\",\"2021-07-08T00:00:00\",\"2021-07-09T00:00:00\",\"2021-07-12T00:00:00\",\"2021-07-13T00:00:00\",\"2021-07-14T00:00:00\",\"2021-07-15T00:00:00\",\"2021-07-16T00:00:00\",\"2021-07-19T00:00:00\",\"2021-07-20T00:00:00\",\"2021-07-22T00:00:00\",\"2021-07-23T00:00:00\",\"2021-07-26T00:00:00\",\"2021-07-27T00:00:00\",\"2021-07-28T00:00:00\",\"2021-07-29T00:00:00\",\"2021-07-30T00:00:00\",\"2021-08-02T00:00:00\",\"2021-08-03T00:00:00\",\"2021-08-04T00:00:00\",\"2021-08-05T00:00:00\",\"2021-08-06T00:00:00\",\"2021-08-09T00:00:00\",\"2021-08-10T00:00:00\",\"2021-08-11T00:00:00\",\"2021-08-12T00:00:00\",\"2021-08-13T00:00:00\",\"2021-08-16T00:00:00\",\"2021-08-17T00:00:00\",\"2021-08-18T00:00:00\",\"2021-08-20T00:00:00\",\"2021-08-23T00:00:00\",\"2021-08-24T00:00:00\",\"2021-08-25T00:00:00\",\"2021-08-26T00:00:00\",\"2021-08-27T00:00:00\",\"2021-08-30T00:00:00\",\"2021-08-31T00:00:00\",\"2021-09-01T00:00:00\",\"2021-09-02T00:00:00\",\"2021-09-03T00:00:00\",\"2021-09-06T00:00:00\",\"2021-09-07T00:00:00\",\"2021-09-08T00:00:00\",\"2021-09-09T00:00:00\",\"2021-09-13T00:00:00\",\"2021-09-14T00:00:00\",\"2021-09-15T00:00:00\",\"2021-09-16T00:00:00\",\"2021-09-17T00:00:00\",\"2021-09-20T00:00:00\",\"2021-09-21T00:00:00\",\"2021-09-22T00:00:00\",\"2021-09-23T00:00:00\",\"2021-09-24T00:00:00\",\"2021-09-27T00:00:00\",\"2021-09-28T00:00:00\",\"2021-09-29T00:00:00\",\"2021-09-30T00:00:00\",\"2021-10-01T00:00:00\",\"2021-10-04T00:00:00\",\"2021-10-05T00:00:00\",\"2021-10-06T00:00:00\",\"2021-10-07T00:00:00\",\"2021-10-08T00:00:00\",\"2021-10-11T00:00:00\",\"2021-10-12T00:00:00\",\"2021-10-13T00:00:00\",\"2021-10-14T00:00:00\",\"2021-10-18T00:00:00\",\"2021-10-19T00:00:00\",\"2021-10-20T00:00:00\",\"2021-10-21T00:00:00\",\"2021-10-22T00:00:00\",\"2021-10-25T00:00:00\",\"2021-10-26T00:00:00\",\"2021-10-27T00:00:00\",\"2021-10-28T00:00:00\",\"2021-10-29T00:00:00\",\"2021-11-01T00:00:00\",\"2021-11-02T00:00:00\",\"2021-11-03T00:00:00\",\"2021-11-04T00:00:00\",\"2021-11-08T00:00:00\",\"2021-11-09T00:00:00\",\"2021-11-10T00:00:00\",\"2021-11-11T00:00:00\",\"2021-11-12T00:00:00\",\"2021-11-15T00:00:00\",\"2021-11-16T00:00:00\",\"2021-11-17T00:00:00\",\"2021-11-18T00:00:00\",\"2021-11-22T00:00:00\",\"2021-11-23T00:00:00\",\"2021-11-24T00:00:00\",\"2021-11-25T00:00:00\",\"2021-11-26T00:00:00\",\"2021-11-29T00:00:00\",\"2021-11-30T00:00:00\",\"2021-12-01T00:00:00\",\"2021-12-02T00:00:00\",\"2021-12-03T00:00:00\",\"2021-12-06T00:00:00\",\"2021-12-07T00:00:00\",\"2021-12-08T00:00:00\",\"2021-12-09T00:00:00\",\"2021-12-10T00:00:00\",\"2021-12-13T00:00:00\",\"2021-12-14T00:00:00\",\"2021-12-15T00:00:00\",\"2021-12-16T00:00:00\",\"2021-12-17T00:00:00\",\"2021-12-20T00:00:00\",\"2021-12-21T00:00:00\",\"2021-12-22T00:00:00\",\"2021-12-23T00:00:00\",\"2021-12-24T00:00:00\",\"2021-12-27T00:00:00\",\"2021-12-28T00:00:00\",\"2021-12-29T00:00:00\",\"2021-12-30T00:00:00\",\"2021-12-31T00:00:00\",\"2022-01-03T00:00:00\",\"2022-01-04T00:00:00\",\"2022-01-05T00:00:00\",\"2022-01-06T00:00:00\",\"2022-01-07T00:00:00\",\"2022-01-10T00:00:00\",\"2022-01-11T00:00:00\",\"2022-01-12T00:00:00\",\"2022-01-13T00:00:00\",\"2022-01-14T00:00:00\",\"2022-01-17T00:00:00\",\"2022-01-18T00:00:00\",\"2022-01-19T00:00:00\",\"2022-01-20T00:00:00\",\"2022-01-21T00:00:00\",\"2022-01-24T00:00:00\",\"2022-01-25T00:00:00\",\"2022-01-27T00:00:00\",\"2022-01-28T00:00:00\",\"2022-01-31T00:00:00\",\"2022-02-01T00:00:00\",\"2022-02-02T00:00:00\",\"2022-02-03T00:00:00\",\"2022-02-04T00:00:00\",\"2022-02-07T00:00:00\",\"2022-02-08T00:00:00\",\"2022-02-09T00:00:00\",\"2022-02-10T00:00:00\",\"2022-02-11T00:00:00\",\"2022-02-14T00:00:00\",\"2022-02-15T00:00:00\",\"2022-02-16T00:00:00\",\"2022-02-17T00:00:00\",\"2022-02-18T00:00:00\",\"2022-02-21T00:00:00\",\"2022-02-22T00:00:00\",\"2022-02-23T00:00:00\",\"2022-02-24T00:00:00\",\"2022-02-25T00:00:00\",\"2022-02-28T00:00:00\",\"2022-03-02T00:00:00\",\"2022-03-03T00:00:00\",\"2022-03-04T00:00:00\",\"2022-03-07T00:00:00\",\"2022-03-08T00:00:00\",\"2022-03-09T00:00:00\",\"2022-03-10T00:00:00\",\"2022-03-11T00:00:00\",\"2022-03-14T00:00:00\",\"2022-03-15T00:00:00\",\"2022-03-16T00:00:00\",\"2022-03-17T00:00:00\",\"2022-03-21T00:00:00\",\"2022-03-22T00:00:00\",\"2022-03-23T00:00:00\",\"2022-03-24T00:00:00\",\"2022-03-25T00:00:00\",\"2022-03-28T00:00:00\",\"2022-03-29T00:00:00\",\"2022-03-30T00:00:00\",\"2022-03-31T00:00:00\",\"2022-04-01T00:00:00\",\"2022-04-04T00:00:00\",\"2022-04-05T00:00:00\",\"2022-04-06T00:00:00\",\"2022-04-07T00:00:00\",\"2022-04-08T00:00:00\",\"2022-04-11T00:00:00\",\"2022-04-12T00:00:00\",\"2022-04-13T00:00:00\",\"2022-04-18T00:00:00\",\"2022-04-19T00:00:00\",\"2022-04-20T00:00:00\",\"2022-04-21T00:00:00\",\"2022-04-22T00:00:00\",\"2022-04-25T00:00:00\",\"2022-04-26T00:00:00\",\"2022-04-27T00:00:00\",\"2022-04-28T00:00:00\",\"2022-04-29T00:00:00\",\"2022-05-02T00:00:00\",\"2022-05-04T00:00:00\",\"2022-05-05T00:00:00\",\"2022-05-06T00:00:00\",\"2022-05-09T00:00:00\",\"2022-05-10T00:00:00\",\"2022-05-11T00:00:00\",\"2022-05-12T00:00:00\",\"2022-05-13T00:00:00\",\"2022-05-16T00:00:00\",\"2022-05-17T00:00:00\",\"2022-05-18T00:00:00\",\"2022-05-19T00:00:00\",\"2022-05-20T00:00:00\",\"2022-05-23T00:00:00\",\"2022-05-24T00:00:00\",\"2022-05-25T00:00:00\",\"2022-05-26T00:00:00\",\"2022-05-27T00:00:00\"],\"xaxis\":\"x\",\"y\":[11387.34961,11217.549809999999,11351.34961,11306.049809999999,10942.65039,10742.049809999999,10334.299809999999,10039.9502,9107.599609,9587.799805,9285.400391,9088.450195,8063.299805,8284.450195,7945.700195,7848.299805,7735.149901999999,8451.0,8949.099609,8385.950195,8529.349609,8584.099609,8356.549805,8446.299805,8688.900391,8973.049805,9103.950195,9196.400391,8851.25,9323.450195,9390.200195,9016.950195,9026.75,9232.349609,9163.900391,9259.700195,9389.799805,9408.599609,9753.5,9533.5,9429.400391,9226.799805,9234.049805,9376.950195,9348.150391,9168.849609,9584.200195,9213.950195,9182.400391,9158.299805,8961.700195,8889.150391,9079.450195,9067.900391,9099.75,9082.200195,9364.950195,9422.200195,9726.849609,9880.849609,10108.299809999999,10054.25,10093.799809999999,10326.75,10181.15039,10072.59961,10094.09961,9544.950195,9919.349609,10014.799809999999,9876.700195,9863.25,10119.0,10318.75,10347.9502,10529.25,10235.549809999999,10378.90039,10311.9502,10382.59961,10323.799809999999,10493.049809999999,10614.9502,10723.84961,10802.84961,10818.65039,10755.549809999999,10764.09961,10851.84961,10750.84961,10701.0,10706.2002,10752.0,10999.4502,11126.09961,11231.2002,11135.0,11149.9502,11225.0,11154.09961,11276.90039,11254.299809999999,11139.5,11057.549809999999,10946.65039,11155.75,11185.7002,11186.65039,11270.25,11322.25,11289.0,11334.84961,11353.299809999999,11248.90039,11259.799809999999,11452.15039,11317.4502,11409.65039,11412.0,11513.09961,11512.84961,11609.299809999999,11602.9502,11777.549809999999,11464.299809999999,11478.549809999999,11566.2002,11354.40039,11359.59961,11378.549809999999,11218.59961,11363.299809999999,11447.799809999999,11540.15039,11487.2002,11538.4502,11539.40039,11584.09961,11503.799809999999,11301.75,11258.75,11011.0,10910.40039,11140.84961,11288.59961,11244.4502,11364.4502,11487.799809999999,11603.4502,11679.25,11835.40039,11852.049809999999,11973.549809999999,11934.65039,11917.40039,12023.4502,11727.40039,11879.2002,11861.0,11958.549809999999,11890.0,11957.90039,11937.40039,11807.09961,11922.59961,11633.299809999999,11678.4502,11697.34961,11734.4502,11783.34961,12062.40039,12156.65039,12399.40039,12556.40039,12680.59961,12702.15039,12659.7002,null,12932.5,12860.09961,12839.5,12813.40039,12960.299809999999,13002.59961,13130.0,12906.4502,13012.049809999999,13062.2002,13121.40039,13215.299809999999,13177.40039,13264.84961,13393.84961,13458.09961,13488.5,13512.299809999999,13571.4502,13547.2002,13663.09961,13713.549809999999,13764.40039,13741.90039,13373.65039,13473.5,13672.15039,13815.15039,13910.34961,13980.90039,13970.0,13996.09961,14104.34961,14075.15039,14240.9502,14253.75,14258.40039,14474.049809999999,14473.799809999999,14639.799809999999,14550.049809999999,14594.34961,14453.299809999999,14371.65039,14538.299809999999,14730.9502,14583.40039,14477.799809999999,14237.9502,13810.40039,13946.59961,13758.59961,14481.09961,14754.90039,14789.049809999999,14952.59961,15064.299809999999,15164.15039,15119.049809999999,15073.25,15186.2002,15270.299809999999,15371.4502,15279.90039,15238.7002,15074.799809999999,14999.049809999999,14782.25,14729.15039,15079.84961,14888.59961,14702.5,14865.299809999999,15064.40039,15026.75,14977.9502,15002.4502,15049.90039,15202.15039,15321.15039,15048.40039,14996.09961,14946.549809999999,14855.5,14471.15039,14736.299809999999,14768.549809999999,14712.4502,14570.90039,14506.299809999999,14628.5,14811.84961,14798.40039,14837.7002,14737.0,14716.4502,14875.65039,14882.65039,14644.65039,14364.90039,14522.40039,14599.59961,14306.59961,14526.7002,14219.15039,14326.34961,14449.4502,14493.799809999999,14710.5,14979.0,14747.34961,14481.049809999999,14687.25,14604.15039,14668.34961,14816.84961,14928.25,14789.7002,14823.549809999999,14749.40039,14756.25,15067.2002,15058.59961,15042.59961,14987.799809999999,15211.34961,15291.75,15257.049809999999,15323.9502,15421.2002,15437.75,15629.65039,15520.34961,15655.549809999999,15712.5,15725.09961,15773.90039,15766.299809999999,15692.09961,15796.4502,15791.40039,15866.9502,15847.5,15648.299809999999,15756.5,15525.84961,15840.5,15862.799809999999,15737.299809999999,15839.34961,15915.34961,15807.5,15776.90039,15755.049809999999,15705.84961,15793.40039,15813.75,15819.59961,15855.40039,15688.25,15766.799809999999,15794.0,15808.7002,15872.15039,15958.34961,15754.5,15703.9502,15736.59961,15856.799809999999,15849.299809999999,15860.5,15761.549809999999,15762.7002,15800.59961,15874.90039,15951.549809999999,16195.25,16288.9502,16304.40039,16281.34961,16274.799809999999,16327.299809999999,16303.65039,16385.69922,16518.40039,16545.25,16691.94922,16382.5,16592.25,16561.40039,16654.0,16627.94922,16642.55078,16775.84961,16947.5,17185.59961,17095.40039,17262.44922,17399.34961,17401.55078,17375.75,17312.84961,17363.55078,17420.34961,17387.65039,17539.19922,17709.65039,17443.84961,17450.5,17580.90039,17670.84961,17897.44922,17932.19922,17906.44922,17657.94922,17718.90039,17531.90039,17615.55078,17661.34961,17861.5,17810.55078,17886.84961,17867.55078,17915.80078,18097.84961,18272.84961,18500.09961,18602.34961,18439.90039,18382.69922,18230.69922,18229.5,18154.5,18295.84961,18187.65039,17833.05078,17783.15039,17970.90039,17947.94922,17935.05078,18040.19922,18084.34961,17973.44922,17967.44922,17977.59961,18140.94922,18127.05078,17939.34961,17890.55078,17796.25,17281.75,17550.05078,17417.30078,17338.75,17055.80078,17051.15039,17104.40039,17183.19922,17424.90039,17209.05078,17044.09961,17315.25,17524.40039,17476.05078,17619.09961,17283.19922,17323.65039,17373.0,17276.0,16824.25,16773.15039,16865.55078,17066.80078,17149.5,16937.75,17177.59961,17220.09961,17201.44922,17244.5,17387.15039,17681.40039,17820.09961,17768.5,17797.59961,17913.30078,17997.75,18170.40039,18257.0,18185.0,18235.65039,18337.19922,18129.19922,17921.0,17613.69922,17575.15039,17001.55078,17062.0,17208.30078,17301.05078,17529.44922,17706.19922,17767.75,17590.19922,17456.30078,17279.84961,17370.09961,17554.09961,17451.0,17076.15039,16933.25,17408.44922,17396.55078,17236.05078,17192.25,16847.94922,17194.5,16548.90039,16515.65039,16481.59961,16593.09961,16723.19922,16339.4502,15867.9502,15747.75,16078.0,16757.09961,16528.80078,16633.69922,16900.65039,16876.65039,17202.90039,17329.5,17120.40039,17405.05078,17094.94922,17289.0,17181.84961,17297.19922,17468.15039,17519.19922,17436.90039,17809.09961,18080.59961,17842.75,17723.30078,17698.15039,17740.90039,17584.84961,17599.90039,17183.44922,17258.94922,17045.25,17234.59961,17242.75,17009.05078,17121.30078,17073.34961,17189.5,17329.25,16924.44922,17096.59961,16854.75,16415.55078,16227.7002,16248.90039,16270.049809999999,16021.09961,15977.0,15845.09961,15912.59961,16318.15039,15917.40039,16043.799809999999,16290.9502,16225.549809999999,16196.34961,16105.0,16296.6],\"yaxis\":\"y\",\"type\":\"scatter\"}],                        {\"template\":{\"data\":{\"histogram2dcontour\":[{\"type\":\"histogram2dcontour\",\"colorbar\":{\"outlinewidth\":0,\"ticks\":\"\"},\"colorscale\":[[0.0,\"#0d0887\"],[0.1111111111111111,\"#46039f\"],[0.2222222222222222,\"#7201a8\"],[0.3333333333333333,\"#9c179e\"],[0.4444444444444444,\"#bd3786\"],[0.5555555555555556,\"#d8576b\"],[0.6666666666666666,\"#ed7953\"],[0.7777777777777778,\"#fb9f3a\"],[0.8888888888888888,\"#fdca26\"],[1.0,\"#f0f921\"]]}],\"choropleth\":[{\"type\":\"choropleth\",\"colorbar\":{\"outlinewidth\":0,\"ticks\":\"\"}}],\"histogram2d\":[{\"type\":\"histogram2d\",\"colorbar\":{\"outlinewidth\":0,\"ticks\":\"\"},\"colorscale\":[[0.0,\"#0d0887\"],[0.1111111111111111,\"#46039f\"],[0.2222222222222222,\"#7201a8\"],[0.3333333333333333,\"#9c179e\"],[0.4444444444444444,\"#bd3786\"],[0.5555555555555556,\"#d8576b\"],[0.6666666666666666,\"#ed7953\"],[0.7777777777777778,\"#fb9f3a\"],[0.8888888888888888,\"#fdca26\"],[1.0,\"#f0f921\"]]}],\"heatmap\":[{\"type\":\"heatmap\",\"colorbar\":{\"outlinewidth\":0,\"ticks\":\"\"},\"colorscale\":[[0.0,\"#0d0887\"],[0.1111111111111111,\"#46039f\"],[0.2222222222222222,\"#7201a8\"],[0.3333333333333333,\"#9c179e\"],[0.4444444444444444,\"#bd3786\"],[0.5555555555555556,\"#d8576b\"],[0.6666666666666666,\"#ed7953\"],[0.7777777777777778,\"#fb9f3a\"],[0.8888888888888888,\"#fdca26\"],[1.0,\"#f0f921\"]]}],\"heatmapgl\":[{\"type\":\"heatmapgl\",\"colorbar\":{\"outlinewidth\":0,\"ticks\":\"\"},\"colorscale\":[[0.0,\"#0d0887\"],[0.1111111111111111,\"#46039f\"],[0.2222222222222222,\"#7201a8\"],[0.3333333333333333,\"#9c179e\"],[0.4444444444444444,\"#bd3786\"],[0.5555555555555556,\"#d8576b\"],[0.6666666666666666,\"#ed7953\"],[0.7777777777777778,\"#fb9f3a\"],[0.8888888888888888,\"#fdca26\"],[1.0,\"#f0f921\"]]}],\"contourcarpet\":[{\"type\":\"contourcarpet\",\"colorbar\":{\"outlinewidth\":0,\"ticks\":\"\"}}],\"contour\":[{\"type\":\"contour\",\"colorbar\":{\"outlinewidth\":0,\"ticks\":\"\"},\"colorscale\":[[0.0,\"#0d0887\"],[0.1111111111111111,\"#46039f\"],[0.2222222222222222,\"#7201a8\"],[0.3333333333333333,\"#9c179e\"],[0.4444444444444444,\"#bd3786\"],[0.5555555555555556,\"#d8576b\"],[0.6666666666666666,\"#ed7953\"],[0.7777777777777778,\"#fb9f3a\"],[0.8888888888888888,\"#fdca26\"],[1.0,\"#f0f921\"]]}],\"surface\":[{\"type\":\"surface\",\"colorbar\":{\"outlinewidth\":0,\"ticks\":\"\"},\"colorscale\":[[0.0,\"#0d0887\"],[0.1111111111111111,\"#46039f\"],[0.2222222222222222,\"#7201a8\"],[0.3333333333333333,\"#9c179e\"],[0.4444444444444444,\"#bd3786\"],[0.5555555555555556,\"#d8576b\"],[0.6666666666666666,\"#ed7953\"],[0.7777777777777778,\"#fb9f3a\"],[0.8888888888888888,\"#fdca26\"],[1.0,\"#f0f921\"]]}],\"mesh3d\":[{\"type\":\"mesh3d\",\"colorbar\":{\"outlinewidth\":0,\"ticks\":\"\"}}],\"scatter\":[{\"fillpattern\":{\"fillmode\":\"overlay\",\"size\":10,\"solidity\":0.2},\"type\":\"scatter\"}],\"parcoords\":[{\"type\":\"parcoords\",\"line\":{\"colorbar\":{\"outlinewidth\":0,\"ticks\":\"\"}}}],\"scatterpolargl\":[{\"type\":\"scatterpolargl\",\"marker\":{\"colorbar\":{\"outlinewidth\":0,\"ticks\":\"\"}}}],\"bar\":[{\"error_x\":{\"color\":\"#2a3f5f\"},\"error_y\":{\"color\":\"#2a3f5f\"},\"marker\":{\"line\":{\"color\":\"#E5ECF6\",\"width\":0.5},\"pattern\":{\"fillmode\":\"overlay\",\"size\":10,\"solidity\":0.2}},\"type\":\"bar\"}],\"scattergeo\":[{\"type\":\"scattergeo\",\"marker\":{\"colorbar\":{\"outlinewidth\":0,\"ticks\":\"\"}}}],\"scatterpolar\":[{\"type\":\"scatterpolar\",\"marker\":{\"colorbar\":{\"outlinewidth\":0,\"ticks\":\"\"}}}],\"histogram\":[{\"marker\":{\"pattern\":{\"fillmode\":\"overlay\",\"size\":10,\"solidity\":0.2}},\"type\":\"histogram\"}],\"scattergl\":[{\"type\":\"scattergl\",\"marker\":{\"colorbar\":{\"outlinewidth\":0,\"ticks\":\"\"}}}],\"scatter3d\":[{\"type\":\"scatter3d\",\"line\":{\"colorbar\":{\"outlinewidth\":0,\"ticks\":\"\"}},\"marker\":{\"colorbar\":{\"outlinewidth\":0,\"ticks\":\"\"}}}],\"scattermapbox\":[{\"type\":\"scattermapbox\",\"marker\":{\"colorbar\":{\"outlinewidth\":0,\"ticks\":\"\"}}}],\"scatterternary\":[{\"type\":\"scatterternary\",\"marker\":{\"colorbar\":{\"outlinewidth\":0,\"ticks\":\"\"}}}],\"scattercarpet\":[{\"type\":\"scattercarpet\",\"marker\":{\"colorbar\":{\"outlinewidth\":0,\"ticks\":\"\"}}}],\"carpet\":[{\"aaxis\":{\"endlinecolor\":\"#2a3f5f\",\"gridcolor\":\"white\",\"linecolor\":\"white\",\"minorgridcolor\":\"white\",\"startlinecolor\":\"#2a3f5f\"},\"baxis\":{\"endlinecolor\":\"#2a3f5f\",\"gridcolor\":\"white\",\"linecolor\":\"white\",\"minorgridcolor\":\"white\",\"startlinecolor\":\"#2a3f5f\"},\"type\":\"carpet\"}],\"table\":[{\"cells\":{\"fill\":{\"color\":\"#EBF0F8\"},\"line\":{\"color\":\"white\"}},\"header\":{\"fill\":{\"color\":\"#C8D4E3\"},\"line\":{\"color\":\"white\"}},\"type\":\"table\"}],\"barpolar\":[{\"marker\":{\"line\":{\"color\":\"#E5ECF6\",\"width\":0.5},\"pattern\":{\"fillmode\":\"overlay\",\"size\":10,\"solidity\":0.2}},\"type\":\"barpolar\"}],\"pie\":[{\"automargin\":true,\"type\":\"pie\"}]},\"layout\":{\"autotypenumbers\":\"strict\",\"colorway\":[\"#636efa\",\"#EF553B\",\"#00cc96\",\"#ab63fa\",\"#FFA15A\",\"#19d3f3\",\"#FF6692\",\"#B6E880\",\"#FF97FF\",\"#FECB52\"],\"font\":{\"color\":\"#2a3f5f\"},\"hovermode\":\"closest\",\"hoverlabel\":{\"align\":\"left\"},\"paper_bgcolor\":\"white\",\"plot_bgcolor\":\"#E5ECF6\",\"polar\":{\"bgcolor\":\"#E5ECF6\",\"angularaxis\":{\"gridcolor\":\"white\",\"linecolor\":\"white\",\"ticks\":\"\"},\"radialaxis\":{\"gridcolor\":\"white\",\"linecolor\":\"white\",\"ticks\":\"\"}},\"ternary\":{\"bgcolor\":\"#E5ECF6\",\"aaxis\":{\"gridcolor\":\"white\",\"linecolor\":\"white\",\"ticks\":\"\"},\"baxis\":{\"gridcolor\":\"white\",\"linecolor\":\"white\",\"ticks\":\"\"},\"caxis\":{\"gridcolor\":\"white\",\"linecolor\":\"white\",\"ticks\":\"\"}},\"coloraxis\":{\"colorbar\":{\"outlinewidth\":0,\"ticks\":\"\"}},\"colorscale\":{\"sequential\":[[0.0,\"#0d0887\"],[0.1111111111111111,\"#46039f\"],[0.2222222222222222,\"#7201a8\"],[0.3333333333333333,\"#9c179e\"],[0.4444444444444444,\"#bd3786\"],[0.5555555555555556,\"#d8576b\"],[0.6666666666666666,\"#ed7953\"],[0.7777777777777778,\"#fb9f3a\"],[0.8888888888888888,\"#fdca26\"],[1.0,\"#f0f921\"]],\"sequentialminus\":[[0.0,\"#0d0887\"],[0.1111111111111111,\"#46039f\"],[0.2222222222222222,\"#7201a8\"],[0.3333333333333333,\"#9c179e\"],[0.4444444444444444,\"#bd3786\"],[0.5555555555555556,\"#d8576b\"],[0.6666666666666666,\"#ed7953\"],[0.7777777777777778,\"#fb9f3a\"],[0.8888888888888888,\"#fdca26\"],[1.0,\"#f0f921\"]],\"diverging\":[[0,\"#8e0152\"],[0.1,\"#c51b7d\"],[0.2,\"#de77ae\"],[0.3,\"#f1b6da\"],[0.4,\"#fde0ef\"],[0.5,\"#f7f7f7\"],[0.6,\"#e6f5d0\"],[0.7,\"#b8e186\"],[0.8,\"#7fbc41\"],[0.9,\"#4d9221\"],[1,\"#276419\"]]},\"xaxis\":{\"gridcolor\":\"white\",\"linecolor\":\"white\",\"ticks\":\"\",\"title\":{\"standoff\":15},\"zerolinecolor\":\"white\",\"automargin\":true,\"zerolinewidth\":2},\"yaxis\":{\"gridcolor\":\"white\",\"linecolor\":\"white\",\"ticks\":\"\",\"title\":{\"standoff\":15},\"zerolinecolor\":\"white\",\"automargin\":true,\"zerolinewidth\":2},\"scene\":{\"xaxis\":{\"backgroundcolor\":\"#E5ECF6\",\"gridcolor\":\"white\",\"linecolor\":\"white\",\"showbackground\":true,\"ticks\":\"\",\"zerolinecolor\":\"white\",\"gridwidth\":2},\"yaxis\":{\"backgroundcolor\":\"#E5ECF6\",\"gridcolor\":\"white\",\"linecolor\":\"white\",\"showbackground\":true,\"ticks\":\"\",\"zerolinecolor\":\"white\",\"gridwidth\":2},\"zaxis\":{\"backgroundcolor\":\"#E5ECF6\",\"gridcolor\":\"white\",\"linecolor\":\"white\",\"showbackground\":true,\"ticks\":\"\",\"zerolinecolor\":\"white\",\"gridwidth\":2}},\"shapedefaults\":{\"line\":{\"color\":\"#2a3f5f\"}},\"annotationdefaults\":{\"arrowcolor\":\"#2a3f5f\",\"arrowhead\":0,\"arrowwidth\":1},\"geo\":{\"bgcolor\":\"white\",\"landcolor\":\"#E5ECF6\",\"subunitcolor\":\"white\",\"showland\":true,\"showlakes\":true,\"lakecolor\":\"white\"},\"title\":{\"x\":0.05},\"mapbox\":{\"style\":\"light\"}}},\"xaxis\":{\"anchor\":\"y\",\"domain\":[0.0,1.0],\"title\":{\"text\":\"Date\"},\"rangeslider\":{\"visible\":true}},\"yaxis\":{\"anchor\":\"x\",\"domain\":[0.0,1.0],\"title\":{\"text\":\"value\"}},\"legend\":{\"title\":{\"text\":\"variable\"},\"tracegroupgap\":0},\"margin\":{\"t\":60}},                        {\"responsive\": true}                    ).then(function(){\n",
       "                            \n",
       "var gd = document.getElementById('86b8a6db-54dd-483e-b63b-17a96e923263');\n",
       "var x = new MutationObserver(function (mutations, observer) {{\n",
       "        var display = window.getComputedStyle(gd).display;\n",
       "        if (!display || display === 'none') {{\n",
       "            console.log([gd, 'removed!']);\n",
       "            Plotly.purge(gd);\n",
       "            observer.disconnect();\n",
       "        }}\n",
       "}});\n",
       "\n",
       "// Listen for the removal of the full notebook cells\n",
       "var notebookContainer = gd.closest('#notebook-container');\n",
       "if (notebookContainer) {{\n",
       "    x.observe(notebookContainer, {childList: true});\n",
       "}}\n",
       "\n",
       "// Listen for the clearing of the current output cell\n",
       "var outputEl = gd.closest('.output');\n",
       "if (outputEl) {{\n",
       "    x.observe(outputEl, {childList: true});\n",
       "}}\n",
       "\n",
       "                        })                };                });            </script>        </div>"
      ]
     },
     "metadata": {},
     "output_type": "display_data"
    }
   ],
   "source": [
    "fig = px.area(df, x='Date', y=['Close', 'Open'])\n",
    "\n",
    "fig.update_xaxes(rangeslider_visible=True)\n",
    "\n",
    "fig.show()"
   ]
  },
  {
   "cell_type": "code",
   "execution_count": 13,
   "metadata": {},
   "outputs": [
    {
     "data": {
      "application/vnd.plotly.v1+json": {
       "config": {
        "plotlyServerURL": "https://plot.ly"
       },
       "data": [
        {
         "alignmentgroup": "True",
         "hovertemplate": "Date=%{x}<br>Close=%{y}<extra></extra>",
         "legendgroup": "",
         "marker": {
          "color": "#636efa",
          "pattern": {
           "shape": ""
          }
         },
         "name": "",
         "offsetgroup": "",
         "orientation": "v",
         "showlegend": false,
         "textposition": "auto",
         "type": "bar",
         "x": [
          "3/2/2020",
          "3/3/2020",
          "3/4/2020",
          "3/5/2020",
          "3/6/2020",
          "3/9/2020",
          "3/11/2020",
          "3/12/2020",
          "3/13/2020",
          "3/16/2020",
          "3/17/2020",
          "3/18/2020",
          "3/19/2020",
          "3/20/2020",
          "3/23/2020",
          "3/24/2020",
          "3/25/2020",
          "3/26/2020",
          "3/27/2020",
          "3/30/2020",
          "3/31/2020",
          "4/1/2020",
          "4/3/2020",
          "4/7/2020",
          "4/8/2020",
          "4/9/2020",
          "4/13/2020",
          "4/15/2020",
          "4/16/2020",
          "4/17/2020",
          "4/20/2020",
          "4/21/2020",
          "4/22/2020",
          "4/23/2020",
          "4/24/2020",
          "4/27/2020",
          "4/28/2020",
          "4/29/2020",
          "4/30/2020",
          "5/4/2020",
          "5/5/2020",
          "5/6/2020",
          "5/7/2020",
          "5/8/2020",
          "5/11/2020",
          "5/12/2020",
          "5/13/2020",
          "5/14/2020",
          "5/15/2020",
          "5/18/2020",
          "5/19/2020",
          "5/20/2020",
          "5/21/2020",
          "5/22/2020",
          "5/26/2020",
          "5/27/2020",
          "5/28/2020",
          "5/29/2020",
          "6/1/2020",
          "6/2/2020",
          "6/3/2020",
          "6/4/2020",
          "6/5/2020",
          "6/8/2020",
          "6/9/2020",
          "6/10/2020",
          "6/11/2020",
          "6/12/2020",
          "6/15/2020",
          "6/16/2020",
          "6/17/2020",
          "6/18/2020",
          "6/19/2020",
          "6/22/2020",
          "6/23/2020",
          "6/24/2020",
          "6/25/2020",
          "6/26/2020",
          "6/29/2020",
          "6/30/2020",
          "7/1/2020",
          "7/2/2020",
          "7/3/2020",
          "7/6/2020",
          "7/7/2020",
          "7/8/2020",
          "7/9/2020",
          "7/10/2020",
          "7/13/2020",
          "7/14/2020",
          "7/15/2020",
          "7/16/2020",
          "7/17/2020",
          "7/20/2020",
          "7/21/2020",
          "7/22/2020",
          "7/23/2020",
          "7/24/2020",
          "7/27/2020",
          "7/28/2020",
          "7/29/2020",
          "7/30/2020",
          "7/31/2020",
          "8/3/2020",
          "8/4/2020",
          "8/5/2020",
          "8/6/2020",
          "8/7/2020",
          "8/10/2020",
          "8/11/2020",
          "8/12/2020",
          "8/13/2020",
          "8/14/2020",
          "8/17/2020",
          "8/18/2020",
          "8/19/2020",
          "8/20/2020",
          "8/21/2020",
          "8/24/2020",
          "8/25/2020",
          "8/26/2020",
          "8/27/2020",
          "8/28/2020",
          "8/31/2020",
          "9/1/2020",
          "9/2/2020",
          "9/3/2020",
          "9/4/2020",
          "9/7/2020",
          "9/8/2020",
          "9/9/2020",
          "9/10/2020",
          "9/11/2020",
          "9/14/2020",
          "9/15/2020",
          "9/16/2020",
          "9/17/2020",
          "9/18/2020",
          "9/21/2020",
          "9/22/2020",
          "9/23/2020",
          "9/24/2020",
          "9/25/2020",
          "9/28/2020",
          "9/29/2020",
          "9/30/2020",
          "10/1/2020",
          "10/5/2020",
          "10/6/2020",
          "10/7/2020",
          "10/8/2020",
          "10/9/2020",
          "10/12/2020",
          "10/13/2020",
          "10/14/2020",
          "10/15/2020",
          "10/16/2020",
          "10/19/2020",
          "10/20/2020",
          "10/21/2020",
          "10/22/2020",
          "10/23/2020",
          "10/26/2020",
          "10/27/2020",
          "10/28/2020",
          "10/29/2020",
          "10/30/2020",
          "11/2/2020",
          "11/3/2020",
          "11/4/2020",
          "11/5/2020",
          "11/6/2020",
          "11/9/2020",
          "11/10/2020",
          "11/11/2020",
          "11/12/2020",
          "11/13/2020",
          "11/14/2020",
          "11/17/2020",
          "11/18/2020",
          "11/19/2020",
          "11/20/2020",
          "11/23/2020",
          "11/24/2020",
          "11/25/2020",
          "11/26/2020",
          "11/27/2020",
          "12/1/2020",
          "12/2/2020",
          "12/3/2020",
          "12/4/2020",
          "12/7/2020",
          "12/8/2020",
          "12/9/2020",
          "12/10/2020",
          "12/11/2020",
          "12/14/2020",
          "12/15/2020",
          "12/16/2020",
          "12/17/2020",
          "12/18/2020",
          "12/21/2020",
          "12/22/2020",
          "12/23/2020",
          "12/24/2020",
          "12/28/2020",
          "12/29/2020",
          "12/30/2020",
          "12/31/2020",
          "1/1/2021",
          "1/4/2021",
          "1/5/2021",
          "1/6/2021",
          "1/7/2021",
          "1/8/2021",
          "1/11/2021",
          "1/12/2021",
          "1/13/2021",
          "1/14/2021",
          "1/15/2021",
          "1/18/2021",
          "1/19/2021",
          "1/20/2021",
          "1/21/2021",
          "1/22/2021",
          "1/25/2021",
          "1/27/2021",
          "1/28/2021",
          "1/29/2021",
          "2/1/2021",
          "2/2/2021",
          "2/3/2021",
          "2/4/2021",
          "2/5/2021",
          "2/8/2021",
          "2/9/2021",
          "2/10/2021",
          "2/11/2021",
          "2/12/2021",
          "2/15/2021",
          "2/16/2021",
          "2/17/2021",
          "2/18/2021",
          "2/19/2021",
          "2/22/2021",
          "2/23/2021",
          "2/24/2021",
          "2/25/2021",
          "2/26/2021",
          "3/1/2021",
          "3/2/2021",
          "3/3/2021",
          "3/4/2021",
          "3/5/2021",
          "3/8/2021",
          "3/9/2021",
          "3/10/2021",
          "3/12/2021",
          "3/15/2021",
          "3/16/2021",
          "3/17/2021",
          "3/18/2021",
          "3/19/2021",
          "3/22/2021",
          "3/23/2021",
          "3/24/2021",
          "3/25/2021",
          "3/26/2021",
          "3/30/2021",
          "3/31/2021",
          "4/1/2021",
          "4/5/2021",
          "4/6/2021",
          "4/7/2021",
          "4/8/2021",
          "4/9/2021",
          "4/12/2021",
          "4/13/2021",
          "4/15/2021",
          "4/16/2021",
          "4/19/2021",
          "4/20/2021",
          "4/22/2021",
          "4/23/2021",
          "4/26/2021",
          "4/27/2021",
          "4/28/2021",
          "4/29/2021",
          "4/30/2021",
          "5/3/2021",
          "5/4/2021",
          "5/5/2021",
          "5/6/2021",
          "5/7/2021",
          "5/10/2021",
          "5/11/2021",
          "5/12/2021",
          "5/14/2021",
          "5/17/2021",
          "5/18/2021",
          "5/19/2021",
          "5/20/2021",
          "5/21/2021",
          "5/24/2021",
          "5/25/2021",
          "5/26/2021",
          "5/27/2021",
          "5/28/2021",
          "5/31/2021",
          "6/1/2021",
          "6/2/2021",
          "6/3/2021",
          "6/4/2021",
          "6/7/2021",
          "6/8/2021",
          "6/9/2021",
          "6/10/2021",
          "6/11/2021",
          "6/14/2021",
          "6/15/2021",
          "6/16/2021",
          "6/17/2021",
          "6/18/2021",
          "6/21/2021",
          "6/22/2021",
          "6/23/2021",
          "6/24/2021",
          "6/25/2021",
          "6/28/2021",
          "6/29/2021",
          "6/30/2021",
          "7/1/2021",
          "7/2/2021",
          "7/5/2021",
          "7/6/2021",
          "7/7/2021",
          "7/8/2021",
          "7/9/2021",
          "7/12/2021",
          "7/13/2021",
          "7/14/2021",
          "7/15/2021",
          "7/16/2021",
          "7/19/2021",
          "7/20/2021",
          "7/22/2021",
          "7/23/2021",
          "7/26/2021",
          "7/27/2021",
          "7/28/2021",
          "7/29/2021",
          "7/30/2021",
          "8/2/2021",
          "8/3/2021",
          "8/4/2021",
          "8/5/2021",
          "8/6/2021",
          "8/9/2021",
          "8/10/2021",
          "8/11/2021",
          "8/12/2021",
          "8/13/2021",
          "8/16/2021",
          "8/17/2021",
          "8/18/2021",
          "8/20/2021",
          "8/23/2021",
          "8/24/2021",
          "8/25/2021",
          "8/26/2021",
          "8/27/2021",
          "8/30/2021",
          "8/31/2021",
          "9/1/2021",
          "9/2/2021",
          "9/3/2021",
          "9/6/2021",
          "9/7/2021",
          "9/8/2021",
          "9/9/2021",
          "9/13/2021",
          "9/14/2021",
          "9/15/2021",
          "9/16/2021",
          "9/17/2021",
          "9/20/2021",
          "9/21/2021",
          "9/22/2021",
          "9/23/2021",
          "9/24/2021",
          "9/27/2021",
          "9/28/2021",
          "9/29/2021",
          "9/30/2021",
          "10/1/2021",
          "10/4/2021",
          "10/5/2021",
          "10/6/2021",
          "10/7/2021",
          "10/8/2021",
          "10/11/2021",
          "10/12/2021",
          "10/13/2021",
          "10/14/2021",
          "10/18/2021",
          "10/19/2021",
          "10/20/2021",
          "10/21/2021",
          "10/22/2021",
          "10/25/2021",
          "10/26/2021",
          "10/27/2021",
          "10/28/2021",
          "10/29/2021",
          "11/1/2021",
          "11/2/2021",
          "11/3/2021",
          "11/4/2021",
          "11/8/2021",
          "11/9/2021",
          "11/10/2021",
          "11/11/2021",
          "11/12/2021",
          "11/15/2021",
          "11/16/2021",
          "11/17/2021",
          "11/18/2021",
          "11/22/2021",
          "11/23/2021",
          "11/24/2021",
          "11/25/2021",
          "11/26/2021",
          "11/29/2021",
          "11/30/2021",
          "12/1/2021",
          "12/2/2021",
          "12/3/2021",
          "12/6/2021",
          "12/7/2021",
          "12/8/2021",
          "12/9/2021",
          "12/10/2021",
          "12/13/2021",
          "12/14/2021",
          "12/15/2021",
          "12/16/2021",
          "12/17/2021",
          "12/20/2021",
          "12/21/2021",
          "12/22/2021",
          "12/23/2021",
          "12/24/2021",
          "12/27/2021",
          "12/28/2021",
          "12/29/2021",
          "12/30/2021",
          "12/31/2021",
          "1/3/2022",
          "1/4/2022",
          "1/5/2022",
          "1/6/2022",
          "1/7/2022",
          "1/10/2022",
          "1/11/2022",
          "1/12/2022",
          "1/13/2022",
          "1/14/2022",
          "1/17/2022",
          "1/18/2022",
          "1/19/2022",
          "1/20/2022",
          "1/21/2022",
          "1/24/2022",
          "1/25/2022",
          "1/27/2022",
          "1/28/2022",
          "1/31/2022",
          "2/1/2022",
          "2/2/2022",
          "2/3/2022",
          "2/4/2022",
          "2/7/2022",
          "2/8/2022",
          "2/9/2022",
          "2/10/2022",
          "2/11/2022",
          "2/14/2022",
          "2/15/2022",
          "2/16/2022",
          "2/17/2022",
          "2/18/2022",
          "2/21/2022",
          "2/22/2022",
          "2/23/2022",
          "2/24/2022",
          "2/25/2022",
          "2/28/2022",
          "3/2/2022",
          "3/3/2022",
          "3/4/2022",
          "3/7/2022",
          "3/8/2022",
          "3/9/2022",
          "3/10/2022",
          "3/11/2022",
          "3/14/2022",
          "3/15/2022",
          "3/16/2022",
          "3/17/2022",
          "3/21/2022",
          "3/22/2022",
          "3/23/2022",
          "3/24/2022",
          "3/25/2022",
          "3/28/2022",
          "3/29/2022",
          "3/30/2022",
          "3/31/2022",
          "4/1/2022",
          "4/4/2022",
          "4/5/2022",
          "4/6/2022",
          "4/7/2022",
          "4/8/2022",
          "4/11/2022",
          "4/12/2022",
          "4/13/2022",
          "4/18/2022",
          "4/19/2022",
          "4/20/2022",
          "4/21/2022",
          "4/22/2022",
          "4/25/2022",
          "4/26/2022",
          "4/27/2022",
          "4/28/2022",
          "4/29/2022",
          "5/2/2022",
          "5/4/2022",
          "5/5/2022",
          "5/6/2022",
          "5/9/2022",
          "5/10/2022",
          "5/11/2022",
          "5/12/2022",
          "5/13/2022",
          "5/16/2022",
          "5/17/2022",
          "5/18/2022",
          "5/19/2022",
          "5/20/2022",
          "5/23/2022",
          "5/24/2022",
          "5/25/2022",
          "5/26/2022",
          "5/27/2022"
         ],
         "xaxis": "x",
         "y": [
          11132.75,
          11303.299809999999,
          11251,
          11269,
          10989.4502,
          10451.4502,
          10458.40039,
          9590.150391,
          9955.200195,
          9197.400391,
          8967.049805,
          8468.799805,
          8263.450195,
          8745.450195,
          7610.25,
          7801.049805,
          8317.849609,
          8641.450195,
          8660.25,
          8281.099609,
          8597.75,
          8253.799805,
          8083.799805,
          8792.200195,
          8748.75,
          9111.900391,
          8993.849609,
          8925.299805,
          8992.799805,
          9266.75,
          9261.849609,
          8981.450195,
          9187.299805,
          9313.900391,
          9154.400391,
          9282.299805,
          9380.900391,
          9553.349609,
          9859.900391,
          9293.5,
          9205.599609,
          9270.900391,
          9199.049805,
          9251.5,
          9239.200195,
          9196.549805,
          9383.549805,
          9142.75,
          9136.849609,
          8823.25,
          8879.099609,
          9066.549805,
          9106.25,
          9039.25,
          9029.049805,
          9314.950195,
          9490.099609,
          9580.299805,
          9826.150391,
          9979.099609,
          10061.549809999999,
          10029.09961,
          10142.15039,
          10167.4502,
          10046.65039,
          10116.15039,
          9902,
          9972.900391,
          9813.700195,
          9914,
          9881.150391,
          10091.65039,
          10244.40039,
          10311.2002,
          10471,
          10305.299809999999,
          10288.90039,
          10383,
          10312.40039,
          10302.09961,
          10430.049809999999,
          10551.7002,
          10607.34961,
          10763.65039,
          10799.65039,
          10705.75,
          10813.4502,
          10768.049809999999,
          10802.7002,
          10607.34961,
          10618.2002,
          10739.9502,
          10901.7002,
          11022.2002,
          11162.25,
          11132.59961,
          11215.4502,
          11194.15039,
          11131.799809999999,
          11300.549809999999,
          11202.84961,
          11102.15039,
          11073.4502,
          10891.59961,
          11095.25,
          11101.65039,
          11200.15039,
          11214.049809999999,
          11270.15039,
          11322.5,
          11308.40039,
          11300.4502,
          11178.40039,
          11247.09961,
          11385.34961,
          11408.40039,
          11312.2002,
          11371.59961,
          11466.4502,
          11472.25,
          11549.59961,
          11559.25,
          11647.59961,
          11387.5,
          11470.25,
          11535,
          11527.4502,
          11333.84961,
          11355.049809999999,
          11317.34961,
          11278,
          11449.25,
          11464.4502,
          11440.049809999999,
          11521.799809999999,
          11604.549809999999,
          11516.09961,
          11504.9502,
          11250.549809999999,
          11153.65039,
          11131.84961,
          10805.549809999999,
          11050.25,
          11227.549809999999,
          11222.40039,
          11247.549809999999,
          11416.9502,
          11503.34961,
          11662.40039,
          11738.84961,
          11834.59961,
          11914.2002,
          11930.9502,
          11934.5,
          11971.049809999999,
          11680.34961,
          11762.4502,
          11873.049809999999,
          11896.799809999999,
          11937.65039,
          11896.4502,
          11930.34961,
          11767.75,
          11889.40039,
          11729.59961,
          11670.799809999999,
          11642.40039,
          11669.15039,
          11813.5,
          11908.5,
          12120.299809999999,
          12263.549809999999,
          12461.049809999999,
          12631.09961,
          12749.15039,
          12690.799809999999,
          12719.9502,
          null,
          12874.2002,
          12938.25,
          12771.7002,
          12859.049809999999,
          12926.4502,
          13055.15039,
          12858.40039,
          12987,
          12968.9502,
          13109.049809999999,
          13113.75,
          13133.90039,
          13258.549809999999,
          13355.75,
          13392.9502,
          13529.09961,
          13478.299809999999,
          13513.84961,
          13558.15039,
          13567.84961,
          13682.7002,
          13740.7002,
          13760.549809999999,
          13328.40039,
          13466.299809999999,
          13601.09961,
          13749.25,
          13873.2002,
          13932.59961,
          13981.9502,
          13981.75,
          14018.5,
          14132.90039,
          14199.5,
          14146.25,
          14137.34961,
          14347.25,
          14484.75,
          14563.4502,
          14564.84961,
          14595.59961,
          14433.7002,
          14281.299809999999,
          14521.15039,
          14644.7002,
          14590.34961,
          14371.90039,
          14238.90039,
          13967.5,
          13817.549809999999,
          13634.59961,
          14281.2002,
          14647.84961,
          14789.9502,
          14895.65039,
          14924.25,
          15115.799809999999,
          15109.299809999999,
          15106.5,
          15173.299809999999,
          15163.299809999999,
          15314.7002,
          15313.4502,
          15208.90039,
          15118.9502,
          14981.75,
          14675.7002,
          14707.799809999999,
          14982,
          15097.34961,
          14529.15039,
          14761.549809999999,
          14919.09961,
          15245.59961,
          15080.75,
          14938.09961,
          14956.2002,
          15098.40039,
          15174.799809999999,
          15030.9502,
          14929.5,
          14910.4502,
          14721.299809999999,
          14557.84961,
          14744,
          14736.40039,
          14814.75,
          14549.40039,
          14324.90039,
          14507.299809999999,
          14845.09961,
          14690.7002,
          14867.34961,
          14637.799809999999,
          14683.5,
          14819.049809999999,
          14873.799809999999,
          14834.84961,
          14310.799809999999,
          14504.799809999999,
          14581.4502,
          14617.84961,
          14359.4502,
          14296.40039,
          14406.15039,
          14341.34961,
          14485,
          14653.049809999999,
          14864.549809999999,
          14894.90039,
          14631.09961,
          14634.15039,
          14496.5,
          14617.84961,
          14724.799809999999,
          14823.15039,
          14942.34961,
          14850.75,
          14696.5,
          14677.799809999999,
          14923.15039,
          15108.09961,
          15030.15039,
          14906.049809999999,
          15175.299809999999,
          15197.7002,
          15208.4502,
          15301.4502,
          15337.84961,
          15435.65039,
          15582.799809999999,
          15574.84961,
          15576.2002,
          15690.34961,
          15670.25,
          15751.65039,
          15740.09961,
          15635.34961,
          15737.75,
          15799.34961,
          15811.84961,
          15869.25,
          15767.549809999999,
          15691.40039,
          15683.34961,
          15746.5,
          15772.75,
          15686.9502,
          15790.4502,
          15860.34961,
          15814.7002,
          15748.4502,
          15721.5,
          15680,
          15722.2002,
          15834.34961,
          15818.25,
          15879.65039,
          15727.90039,
          15689.799809999999,
          15692.59961,
          15812.34961,
          15853.9502,
          15924.2002,
          15923.40039,
          15752.40039,
          15632.09961,
          15824.049809999999,
          15856.049809999999,
          15824.4502,
          15746.4502,
          15709.40039,
          15778.4502,
          15763.049809999999,
          15885.15039,
          16130.75,
          16258.799809999999,
          16294.59961,
          16238.2002,
          16258.25,
          16280.09961,
          16282.25,
          16364.40039,
          16529.09961,
          16563.05078,
          16614.59961,
          16568.84961,
          16450.5,
          16496.44922,
          16624.59961,
          16634.65039,
          16636.90039,
          16705.19922,
          16931.05078,
          17132.19922,
          17076.25,
          17234.15039,
          17323.59961,
          17377.80078,
          17362.09961,
          17353.5,
          17369.25,
          17355.30078,
          17380,
          17519.44922,
          17629.5,
          17585.15039,
          17396.90039,
          17562,
          17546.65039,
          17822.94922,
          17853.19922,
          17855.09961,
          17748.59961,
          17711.30078,
          17618.15039,
          17532.05078,
          17691.25,
          17822.30078,
          17646,
          17790.34961,
          17895.19922,
          17945.94922,
          17991.94922,
          18161.75,
          18338.55078,
          18477.05078,
          18418.75,
          18266.59961,
          18178.09961,
          18114.90039,
          18125.40039,
          18268.40039,
          18210.94922,
          17857.25,
          17671.65039,
          17929.65039,
          17888.94922,
          17829.19922,
          17916.80078,
          18068.55078,
          18044.25,
          18017.19922,
          17873.59961,
          18102.75,
          18109.44922,
          17999.19922,
          17898.65039,
          17764.80078,
          17416.55078,
          17503.34961,
          17415.05078,
          17536.25,
          17026.44922,
          17053.94922,
          16983.19922,
          17166.90039,
          17401.65039,
          17196.69922,
          16912.25,
          17176.69922,
          17469.75,
          17516.84961,
          17511.30078,
          17368.25,
          17324.90039,
          17221.40039,
          17248.40039,
          16985.19922,
          16614.19922,
          16770.84961,
          16955.44922,
          17072.59961,
          17003.75,
          17086.25,
          17233.25,
          17213.59961,
          17203.94922,
          17354.05078,
          17625.69922,
          17805.25,
          17925.25,
          17745.90039,
          17812.69922,
          18003.30078,
          18055.75,
          18212.34961,
          18257.80078,
          18255.75,
          18308.09961,
          18113.05078,
          17938.40039,
          17757,
          17617.15039,
          17149.09961,
          17277.94922,
          17110.15039,
          17101.94922,
          17339.84961,
          17576.84961,
          17780,
          17560.19922,
          17516.30078,
          17213.59961,
          17266.75,
          17463.80078,
          17605.84961,
          17374.75,
          16842.80078,
          17352.44922,
          17322.19922,
          17304.59961,
          17276.30078,
          17206.65039,
          17092.19922,
          17063.25,
          16247.9502,
          16658.40039,
          16793.90039,
          16605.94922,
          16498.05078,
          16245.34961,
          15863.15039,
          16013.4502,
          16345.34961,
          16594.90039,
          16630.44922,
          16871.30078,
          16663,
          16975.34961,
          17287.05078,
          17117.59961,
          17315.5,
          17245.65039,
          17222.75,
          17153,
          17222,
          17325.30078,
          17498.25,
          17464.75,
          17670.44922,
          18053.40039,
          17957.40039,
          17807.65039,
          17639.55078,
          17784.34961,
          17674.94922,
          17530.30078,
          17475.65039,
          17173.65039,
          16958.65039,
          17136.55078,
          17392.59961,
          17171.94922,
          16953.94922,
          17200.80078,
          17038.40039,
          17245.05078,
          17102.55078,
          17069.09961,
          16677.59961,
          16682.65039,
          16411.25,
          16301.84961,
          16240.049809999999,
          16167.09961,
          15808,
          15782.15039,
          15842.299809999999,
          16259.299809999999,
          16240.299809999999,
          15809.40039,
          16266.15039,
          16214.7002,
          16125.15039,
          16025.799809999999,
          16170.15039,
          16352.45
         ],
         "yaxis": "y"
        }
       ],
       "layout": {
        "barmode": "relative",
        "legend": {
         "tracegroupgap": 0
        },
        "margin": {
         "t": 60
        },
        "template": {
         "data": {
          "bar": [
           {
            "error_x": {
             "color": "#2a3f5f"
            },
            "error_y": {
             "color": "#2a3f5f"
            },
            "marker": {
             "line": {
              "color": "#E5ECF6",
              "width": 0.5
             },
             "pattern": {
              "fillmode": "overlay",
              "size": 10,
              "solidity": 0.2
             }
            },
            "type": "bar"
           }
          ],
          "barpolar": [
           {
            "marker": {
             "line": {
              "color": "#E5ECF6",
              "width": 0.5
             },
             "pattern": {
              "fillmode": "overlay",
              "size": 10,
              "solidity": 0.2
             }
            },
            "type": "barpolar"
           }
          ],
          "carpet": [
           {
            "aaxis": {
             "endlinecolor": "#2a3f5f",
             "gridcolor": "white",
             "linecolor": "white",
             "minorgridcolor": "white",
             "startlinecolor": "#2a3f5f"
            },
            "baxis": {
             "endlinecolor": "#2a3f5f",
             "gridcolor": "white",
             "linecolor": "white",
             "minorgridcolor": "white",
             "startlinecolor": "#2a3f5f"
            },
            "type": "carpet"
           }
          ],
          "choropleth": [
           {
            "colorbar": {
             "outlinewidth": 0,
             "ticks": ""
            },
            "type": "choropleth"
           }
          ],
          "contour": [
           {
            "colorbar": {
             "outlinewidth": 0,
             "ticks": ""
            },
            "colorscale": [
             [
              0,
              "#0d0887"
             ],
             [
              0.1111111111111111,
              "#46039f"
             ],
             [
              0.2222222222222222,
              "#7201a8"
             ],
             [
              0.3333333333333333,
              "#9c179e"
             ],
             [
              0.4444444444444444,
              "#bd3786"
             ],
             [
              0.5555555555555556,
              "#d8576b"
             ],
             [
              0.6666666666666666,
              "#ed7953"
             ],
             [
              0.7777777777777778,
              "#fb9f3a"
             ],
             [
              0.8888888888888888,
              "#fdca26"
             ],
             [
              1,
              "#f0f921"
             ]
            ],
            "type": "contour"
           }
          ],
          "contourcarpet": [
           {
            "colorbar": {
             "outlinewidth": 0,
             "ticks": ""
            },
            "type": "contourcarpet"
           }
          ],
          "heatmap": [
           {
            "colorbar": {
             "outlinewidth": 0,
             "ticks": ""
            },
            "colorscale": [
             [
              0,
              "#0d0887"
             ],
             [
              0.1111111111111111,
              "#46039f"
             ],
             [
              0.2222222222222222,
              "#7201a8"
             ],
             [
              0.3333333333333333,
              "#9c179e"
             ],
             [
              0.4444444444444444,
              "#bd3786"
             ],
             [
              0.5555555555555556,
              "#d8576b"
             ],
             [
              0.6666666666666666,
              "#ed7953"
             ],
             [
              0.7777777777777778,
              "#fb9f3a"
             ],
             [
              0.8888888888888888,
              "#fdca26"
             ],
             [
              1,
              "#f0f921"
             ]
            ],
            "type": "heatmap"
           }
          ],
          "heatmapgl": [
           {
            "colorbar": {
             "outlinewidth": 0,
             "ticks": ""
            },
            "colorscale": [
             [
              0,
              "#0d0887"
             ],
             [
              0.1111111111111111,
              "#46039f"
             ],
             [
              0.2222222222222222,
              "#7201a8"
             ],
             [
              0.3333333333333333,
              "#9c179e"
             ],
             [
              0.4444444444444444,
              "#bd3786"
             ],
             [
              0.5555555555555556,
              "#d8576b"
             ],
             [
              0.6666666666666666,
              "#ed7953"
             ],
             [
              0.7777777777777778,
              "#fb9f3a"
             ],
             [
              0.8888888888888888,
              "#fdca26"
             ],
             [
              1,
              "#f0f921"
             ]
            ],
            "type": "heatmapgl"
           }
          ],
          "histogram": [
           {
            "marker": {
             "pattern": {
              "fillmode": "overlay",
              "size": 10,
              "solidity": 0.2
             }
            },
            "type": "histogram"
           }
          ],
          "histogram2d": [
           {
            "colorbar": {
             "outlinewidth": 0,
             "ticks": ""
            },
            "colorscale": [
             [
              0,
              "#0d0887"
             ],
             [
              0.1111111111111111,
              "#46039f"
             ],
             [
              0.2222222222222222,
              "#7201a8"
             ],
             [
              0.3333333333333333,
              "#9c179e"
             ],
             [
              0.4444444444444444,
              "#bd3786"
             ],
             [
              0.5555555555555556,
              "#d8576b"
             ],
             [
              0.6666666666666666,
              "#ed7953"
             ],
             [
              0.7777777777777778,
              "#fb9f3a"
             ],
             [
              0.8888888888888888,
              "#fdca26"
             ],
             [
              1,
              "#f0f921"
             ]
            ],
            "type": "histogram2d"
           }
          ],
          "histogram2dcontour": [
           {
            "colorbar": {
             "outlinewidth": 0,
             "ticks": ""
            },
            "colorscale": [
             [
              0,
              "#0d0887"
             ],
             [
              0.1111111111111111,
              "#46039f"
             ],
             [
              0.2222222222222222,
              "#7201a8"
             ],
             [
              0.3333333333333333,
              "#9c179e"
             ],
             [
              0.4444444444444444,
              "#bd3786"
             ],
             [
              0.5555555555555556,
              "#d8576b"
             ],
             [
              0.6666666666666666,
              "#ed7953"
             ],
             [
              0.7777777777777778,
              "#fb9f3a"
             ],
             [
              0.8888888888888888,
              "#fdca26"
             ],
             [
              1,
              "#f0f921"
             ]
            ],
            "type": "histogram2dcontour"
           }
          ],
          "mesh3d": [
           {
            "colorbar": {
             "outlinewidth": 0,
             "ticks": ""
            },
            "type": "mesh3d"
           }
          ],
          "parcoords": [
           {
            "line": {
             "colorbar": {
              "outlinewidth": 0,
              "ticks": ""
             }
            },
            "type": "parcoords"
           }
          ],
          "pie": [
           {
            "automargin": true,
            "type": "pie"
           }
          ],
          "scatter": [
           {
            "fillpattern": {
             "fillmode": "overlay",
             "size": 10,
             "solidity": 0.2
            },
            "type": "scatter"
           }
          ],
          "scatter3d": [
           {
            "line": {
             "colorbar": {
              "outlinewidth": 0,
              "ticks": ""
             }
            },
            "marker": {
             "colorbar": {
              "outlinewidth": 0,
              "ticks": ""
             }
            },
            "type": "scatter3d"
           }
          ],
          "scattercarpet": [
           {
            "marker": {
             "colorbar": {
              "outlinewidth": 0,
              "ticks": ""
             }
            },
            "type": "scattercarpet"
           }
          ],
          "scattergeo": [
           {
            "marker": {
             "colorbar": {
              "outlinewidth": 0,
              "ticks": ""
             }
            },
            "type": "scattergeo"
           }
          ],
          "scattergl": [
           {
            "marker": {
             "colorbar": {
              "outlinewidth": 0,
              "ticks": ""
             }
            },
            "type": "scattergl"
           }
          ],
          "scattermapbox": [
           {
            "marker": {
             "colorbar": {
              "outlinewidth": 0,
              "ticks": ""
             }
            },
            "type": "scattermapbox"
           }
          ],
          "scatterpolar": [
           {
            "marker": {
             "colorbar": {
              "outlinewidth": 0,
              "ticks": ""
             }
            },
            "type": "scatterpolar"
           }
          ],
          "scatterpolargl": [
           {
            "marker": {
             "colorbar": {
              "outlinewidth": 0,
              "ticks": ""
             }
            },
            "type": "scatterpolargl"
           }
          ],
          "scatterternary": [
           {
            "marker": {
             "colorbar": {
              "outlinewidth": 0,
              "ticks": ""
             }
            },
            "type": "scatterternary"
           }
          ],
          "surface": [
           {
            "colorbar": {
             "outlinewidth": 0,
             "ticks": ""
            },
            "colorscale": [
             [
              0,
              "#0d0887"
             ],
             [
              0.1111111111111111,
              "#46039f"
             ],
             [
              0.2222222222222222,
              "#7201a8"
             ],
             [
              0.3333333333333333,
              "#9c179e"
             ],
             [
              0.4444444444444444,
              "#bd3786"
             ],
             [
              0.5555555555555556,
              "#d8576b"
             ],
             [
              0.6666666666666666,
              "#ed7953"
             ],
             [
              0.7777777777777778,
              "#fb9f3a"
             ],
             [
              0.8888888888888888,
              "#fdca26"
             ],
             [
              1,
              "#f0f921"
             ]
            ],
            "type": "surface"
           }
          ],
          "table": [
           {
            "cells": {
             "fill": {
              "color": "#EBF0F8"
             },
             "line": {
              "color": "white"
             }
            },
            "header": {
             "fill": {
              "color": "#C8D4E3"
             },
             "line": {
              "color": "white"
             }
            },
            "type": "table"
           }
          ]
         },
         "layout": {
          "annotationdefaults": {
           "arrowcolor": "#2a3f5f",
           "arrowhead": 0,
           "arrowwidth": 1
          },
          "autotypenumbers": "strict",
          "coloraxis": {
           "colorbar": {
            "outlinewidth": 0,
            "ticks": ""
           }
          },
          "colorscale": {
           "diverging": [
            [
             0,
             "#8e0152"
            ],
            [
             0.1,
             "#c51b7d"
            ],
            [
             0.2,
             "#de77ae"
            ],
            [
             0.3,
             "#f1b6da"
            ],
            [
             0.4,
             "#fde0ef"
            ],
            [
             0.5,
             "#f7f7f7"
            ],
            [
             0.6,
             "#e6f5d0"
            ],
            [
             0.7,
             "#b8e186"
            ],
            [
             0.8,
             "#7fbc41"
            ],
            [
             0.9,
             "#4d9221"
            ],
            [
             1,
             "#276419"
            ]
           ],
           "sequential": [
            [
             0,
             "#0d0887"
            ],
            [
             0.1111111111111111,
             "#46039f"
            ],
            [
             0.2222222222222222,
             "#7201a8"
            ],
            [
             0.3333333333333333,
             "#9c179e"
            ],
            [
             0.4444444444444444,
             "#bd3786"
            ],
            [
             0.5555555555555556,
             "#d8576b"
            ],
            [
             0.6666666666666666,
             "#ed7953"
            ],
            [
             0.7777777777777778,
             "#fb9f3a"
            ],
            [
             0.8888888888888888,
             "#fdca26"
            ],
            [
             1,
             "#f0f921"
            ]
           ],
           "sequentialminus": [
            [
             0,
             "#0d0887"
            ],
            [
             0.1111111111111111,
             "#46039f"
            ],
            [
             0.2222222222222222,
             "#7201a8"
            ],
            [
             0.3333333333333333,
             "#9c179e"
            ],
            [
             0.4444444444444444,
             "#bd3786"
            ],
            [
             0.5555555555555556,
             "#d8576b"
            ],
            [
             0.6666666666666666,
             "#ed7953"
            ],
            [
             0.7777777777777778,
             "#fb9f3a"
            ],
            [
             0.8888888888888888,
             "#fdca26"
            ],
            [
             1,
             "#f0f921"
            ]
           ]
          },
          "colorway": [
           "#636efa",
           "#EF553B",
           "#00cc96",
           "#ab63fa",
           "#FFA15A",
           "#19d3f3",
           "#FF6692",
           "#B6E880",
           "#FF97FF",
           "#FECB52"
          ],
          "font": {
           "color": "#2a3f5f"
          },
          "geo": {
           "bgcolor": "white",
           "lakecolor": "white",
           "landcolor": "#E5ECF6",
           "showlakes": true,
           "showland": true,
           "subunitcolor": "white"
          },
          "hoverlabel": {
           "align": "left"
          },
          "hovermode": "closest",
          "mapbox": {
           "style": "light"
          },
          "paper_bgcolor": "white",
          "plot_bgcolor": "#E5ECF6",
          "polar": {
           "angularaxis": {
            "gridcolor": "white",
            "linecolor": "white",
            "ticks": ""
           },
           "bgcolor": "#E5ECF6",
           "radialaxis": {
            "gridcolor": "white",
            "linecolor": "white",
            "ticks": ""
           }
          },
          "scene": {
           "xaxis": {
            "backgroundcolor": "#E5ECF6",
            "gridcolor": "white",
            "gridwidth": 2,
            "linecolor": "white",
            "showbackground": true,
            "ticks": "",
            "zerolinecolor": "white"
           },
           "yaxis": {
            "backgroundcolor": "#E5ECF6",
            "gridcolor": "white",
            "gridwidth": 2,
            "linecolor": "white",
            "showbackground": true,
            "ticks": "",
            "zerolinecolor": "white"
           },
           "zaxis": {
            "backgroundcolor": "#E5ECF6",
            "gridcolor": "white",
            "gridwidth": 2,
            "linecolor": "white",
            "showbackground": true,
            "ticks": "",
            "zerolinecolor": "white"
           }
          },
          "shapedefaults": {
           "line": {
            "color": "#2a3f5f"
           }
          },
          "ternary": {
           "aaxis": {
            "gridcolor": "white",
            "linecolor": "white",
            "ticks": ""
           },
           "baxis": {
            "gridcolor": "white",
            "linecolor": "white",
            "ticks": ""
           },
           "bgcolor": "#E5ECF6",
           "caxis": {
            "gridcolor": "white",
            "linecolor": "white",
            "ticks": ""
           }
          },
          "title": {
           "x": 0.05
          },
          "xaxis": {
           "automargin": true,
           "gridcolor": "white",
           "linecolor": "white",
           "ticks": "",
           "title": {
            "standoff": 15
           },
           "zerolinecolor": "white",
           "zerolinewidth": 2
          },
          "yaxis": {
           "automargin": true,
           "gridcolor": "white",
           "linecolor": "white",
           "ticks": "",
           "title": {
            "standoff": 15
           },
           "zerolinecolor": "white",
           "zerolinewidth": 2
          }
         }
        },
        "xaxis": {
         "anchor": "y",
         "domain": [
          0,
          1
         ],
         "title": {
          "text": "Date"
         }
        },
        "yaxis": {
         "anchor": "x",
         "domain": [
          0,
          1
         ],
         "title": {
          "text": "Close"
         }
        }
       }
      },
      "text/html": [
       "<div>                            <div id=\"dd2cb711-7986-402a-816b-a7046b0af4e4\" class=\"plotly-graph-div\" style=\"height:525px; width:100%;\"></div>            <script type=\"text/javascript\">                require([\"plotly\"], function(Plotly) {                    window.PLOTLYENV=window.PLOTLYENV || {};                                    if (document.getElementById(\"dd2cb711-7986-402a-816b-a7046b0af4e4\")) {                    Plotly.newPlot(                        \"dd2cb711-7986-402a-816b-a7046b0af4e4\",                        [{\"alignmentgroup\":\"True\",\"hovertemplate\":\"Date=%{x}<br>Close=%{y}<extra></extra>\",\"legendgroup\":\"\",\"marker\":{\"color\":\"#636efa\",\"pattern\":{\"shape\":\"\"}},\"name\":\"\",\"offsetgroup\":\"\",\"orientation\":\"v\",\"showlegend\":false,\"textposition\":\"auto\",\"x\":[\"3/2/2020\",\"3/3/2020\",\"3/4/2020\",\"3/5/2020\",\"3/6/2020\",\"3/9/2020\",\"3/11/2020\",\"3/12/2020\",\"3/13/2020\",\"3/16/2020\",\"3/17/2020\",\"3/18/2020\",\"3/19/2020\",\"3/20/2020\",\"3/23/2020\",\"3/24/2020\",\"3/25/2020\",\"3/26/2020\",\"3/27/2020\",\"3/30/2020\",\"3/31/2020\",\"4/1/2020\",\"4/3/2020\",\"4/7/2020\",\"4/8/2020\",\"4/9/2020\",\"4/13/2020\",\"4/15/2020\",\"4/16/2020\",\"4/17/2020\",\"4/20/2020\",\"4/21/2020\",\"4/22/2020\",\"4/23/2020\",\"4/24/2020\",\"4/27/2020\",\"4/28/2020\",\"4/29/2020\",\"4/30/2020\",\"5/4/2020\",\"5/5/2020\",\"5/6/2020\",\"5/7/2020\",\"5/8/2020\",\"5/11/2020\",\"5/12/2020\",\"5/13/2020\",\"5/14/2020\",\"5/15/2020\",\"5/18/2020\",\"5/19/2020\",\"5/20/2020\",\"5/21/2020\",\"5/22/2020\",\"5/26/2020\",\"5/27/2020\",\"5/28/2020\",\"5/29/2020\",\"6/1/2020\",\"6/2/2020\",\"6/3/2020\",\"6/4/2020\",\"6/5/2020\",\"6/8/2020\",\"6/9/2020\",\"6/10/2020\",\"6/11/2020\",\"6/12/2020\",\"6/15/2020\",\"6/16/2020\",\"6/17/2020\",\"6/18/2020\",\"6/19/2020\",\"6/22/2020\",\"6/23/2020\",\"6/24/2020\",\"6/25/2020\",\"6/26/2020\",\"6/29/2020\",\"6/30/2020\",\"7/1/2020\",\"7/2/2020\",\"7/3/2020\",\"7/6/2020\",\"7/7/2020\",\"7/8/2020\",\"7/9/2020\",\"7/10/2020\",\"7/13/2020\",\"7/14/2020\",\"7/15/2020\",\"7/16/2020\",\"7/17/2020\",\"7/20/2020\",\"7/21/2020\",\"7/22/2020\",\"7/23/2020\",\"7/24/2020\",\"7/27/2020\",\"7/28/2020\",\"7/29/2020\",\"7/30/2020\",\"7/31/2020\",\"8/3/2020\",\"8/4/2020\",\"8/5/2020\",\"8/6/2020\",\"8/7/2020\",\"8/10/2020\",\"8/11/2020\",\"8/12/2020\",\"8/13/2020\",\"8/14/2020\",\"8/17/2020\",\"8/18/2020\",\"8/19/2020\",\"8/20/2020\",\"8/21/2020\",\"8/24/2020\",\"8/25/2020\",\"8/26/2020\",\"8/27/2020\",\"8/28/2020\",\"8/31/2020\",\"9/1/2020\",\"9/2/2020\",\"9/3/2020\",\"9/4/2020\",\"9/7/2020\",\"9/8/2020\",\"9/9/2020\",\"9/10/2020\",\"9/11/2020\",\"9/14/2020\",\"9/15/2020\",\"9/16/2020\",\"9/17/2020\",\"9/18/2020\",\"9/21/2020\",\"9/22/2020\",\"9/23/2020\",\"9/24/2020\",\"9/25/2020\",\"9/28/2020\",\"9/29/2020\",\"9/30/2020\",\"10/1/2020\",\"10/5/2020\",\"10/6/2020\",\"10/7/2020\",\"10/8/2020\",\"10/9/2020\",\"10/12/2020\",\"10/13/2020\",\"10/14/2020\",\"10/15/2020\",\"10/16/2020\",\"10/19/2020\",\"10/20/2020\",\"10/21/2020\",\"10/22/2020\",\"10/23/2020\",\"10/26/2020\",\"10/27/2020\",\"10/28/2020\",\"10/29/2020\",\"10/30/2020\",\"11/2/2020\",\"11/3/2020\",\"11/4/2020\",\"11/5/2020\",\"11/6/2020\",\"11/9/2020\",\"11/10/2020\",\"11/11/2020\",\"11/12/2020\",\"11/13/2020\",\"11/14/2020\",\"11/17/2020\",\"11/18/2020\",\"11/19/2020\",\"11/20/2020\",\"11/23/2020\",\"11/24/2020\",\"11/25/2020\",\"11/26/2020\",\"11/27/2020\",\"12/1/2020\",\"12/2/2020\",\"12/3/2020\",\"12/4/2020\",\"12/7/2020\",\"12/8/2020\",\"12/9/2020\",\"12/10/2020\",\"12/11/2020\",\"12/14/2020\",\"12/15/2020\",\"12/16/2020\",\"12/17/2020\",\"12/18/2020\",\"12/21/2020\",\"12/22/2020\",\"12/23/2020\",\"12/24/2020\",\"12/28/2020\",\"12/29/2020\",\"12/30/2020\",\"12/31/2020\",\"1/1/2021\",\"1/4/2021\",\"1/5/2021\",\"1/6/2021\",\"1/7/2021\",\"1/8/2021\",\"1/11/2021\",\"1/12/2021\",\"1/13/2021\",\"1/14/2021\",\"1/15/2021\",\"1/18/2021\",\"1/19/2021\",\"1/20/2021\",\"1/21/2021\",\"1/22/2021\",\"1/25/2021\",\"1/27/2021\",\"1/28/2021\",\"1/29/2021\",\"2/1/2021\",\"2/2/2021\",\"2/3/2021\",\"2/4/2021\",\"2/5/2021\",\"2/8/2021\",\"2/9/2021\",\"2/10/2021\",\"2/11/2021\",\"2/12/2021\",\"2/15/2021\",\"2/16/2021\",\"2/17/2021\",\"2/18/2021\",\"2/19/2021\",\"2/22/2021\",\"2/23/2021\",\"2/24/2021\",\"2/25/2021\",\"2/26/2021\",\"3/1/2021\",\"3/2/2021\",\"3/3/2021\",\"3/4/2021\",\"3/5/2021\",\"3/8/2021\",\"3/9/2021\",\"3/10/2021\",\"3/12/2021\",\"3/15/2021\",\"3/16/2021\",\"3/17/2021\",\"3/18/2021\",\"3/19/2021\",\"3/22/2021\",\"3/23/2021\",\"3/24/2021\",\"3/25/2021\",\"3/26/2021\",\"3/30/2021\",\"3/31/2021\",\"4/1/2021\",\"4/5/2021\",\"4/6/2021\",\"4/7/2021\",\"4/8/2021\",\"4/9/2021\",\"4/12/2021\",\"4/13/2021\",\"4/15/2021\",\"4/16/2021\",\"4/19/2021\",\"4/20/2021\",\"4/22/2021\",\"4/23/2021\",\"4/26/2021\",\"4/27/2021\",\"4/28/2021\",\"4/29/2021\",\"4/30/2021\",\"5/3/2021\",\"5/4/2021\",\"5/5/2021\",\"5/6/2021\",\"5/7/2021\",\"5/10/2021\",\"5/11/2021\",\"5/12/2021\",\"5/14/2021\",\"5/17/2021\",\"5/18/2021\",\"5/19/2021\",\"5/20/2021\",\"5/21/2021\",\"5/24/2021\",\"5/25/2021\",\"5/26/2021\",\"5/27/2021\",\"5/28/2021\",\"5/31/2021\",\"6/1/2021\",\"6/2/2021\",\"6/3/2021\",\"6/4/2021\",\"6/7/2021\",\"6/8/2021\",\"6/9/2021\",\"6/10/2021\",\"6/11/2021\",\"6/14/2021\",\"6/15/2021\",\"6/16/2021\",\"6/17/2021\",\"6/18/2021\",\"6/21/2021\",\"6/22/2021\",\"6/23/2021\",\"6/24/2021\",\"6/25/2021\",\"6/28/2021\",\"6/29/2021\",\"6/30/2021\",\"7/1/2021\",\"7/2/2021\",\"7/5/2021\",\"7/6/2021\",\"7/7/2021\",\"7/8/2021\",\"7/9/2021\",\"7/12/2021\",\"7/13/2021\",\"7/14/2021\",\"7/15/2021\",\"7/16/2021\",\"7/19/2021\",\"7/20/2021\",\"7/22/2021\",\"7/23/2021\",\"7/26/2021\",\"7/27/2021\",\"7/28/2021\",\"7/29/2021\",\"7/30/2021\",\"8/2/2021\",\"8/3/2021\",\"8/4/2021\",\"8/5/2021\",\"8/6/2021\",\"8/9/2021\",\"8/10/2021\",\"8/11/2021\",\"8/12/2021\",\"8/13/2021\",\"8/16/2021\",\"8/17/2021\",\"8/18/2021\",\"8/20/2021\",\"8/23/2021\",\"8/24/2021\",\"8/25/2021\",\"8/26/2021\",\"8/27/2021\",\"8/30/2021\",\"8/31/2021\",\"9/1/2021\",\"9/2/2021\",\"9/3/2021\",\"9/6/2021\",\"9/7/2021\",\"9/8/2021\",\"9/9/2021\",\"9/13/2021\",\"9/14/2021\",\"9/15/2021\",\"9/16/2021\",\"9/17/2021\",\"9/20/2021\",\"9/21/2021\",\"9/22/2021\",\"9/23/2021\",\"9/24/2021\",\"9/27/2021\",\"9/28/2021\",\"9/29/2021\",\"9/30/2021\",\"10/1/2021\",\"10/4/2021\",\"10/5/2021\",\"10/6/2021\",\"10/7/2021\",\"10/8/2021\",\"10/11/2021\",\"10/12/2021\",\"10/13/2021\",\"10/14/2021\",\"10/18/2021\",\"10/19/2021\",\"10/20/2021\",\"10/21/2021\",\"10/22/2021\",\"10/25/2021\",\"10/26/2021\",\"10/27/2021\",\"10/28/2021\",\"10/29/2021\",\"11/1/2021\",\"11/2/2021\",\"11/3/2021\",\"11/4/2021\",\"11/8/2021\",\"11/9/2021\",\"11/10/2021\",\"11/11/2021\",\"11/12/2021\",\"11/15/2021\",\"11/16/2021\",\"11/17/2021\",\"11/18/2021\",\"11/22/2021\",\"11/23/2021\",\"11/24/2021\",\"11/25/2021\",\"11/26/2021\",\"11/29/2021\",\"11/30/2021\",\"12/1/2021\",\"12/2/2021\",\"12/3/2021\",\"12/6/2021\",\"12/7/2021\",\"12/8/2021\",\"12/9/2021\",\"12/10/2021\",\"12/13/2021\",\"12/14/2021\",\"12/15/2021\",\"12/16/2021\",\"12/17/2021\",\"12/20/2021\",\"12/21/2021\",\"12/22/2021\",\"12/23/2021\",\"12/24/2021\",\"12/27/2021\",\"12/28/2021\",\"12/29/2021\",\"12/30/2021\",\"12/31/2021\",\"1/3/2022\",\"1/4/2022\",\"1/5/2022\",\"1/6/2022\",\"1/7/2022\",\"1/10/2022\",\"1/11/2022\",\"1/12/2022\",\"1/13/2022\",\"1/14/2022\",\"1/17/2022\",\"1/18/2022\",\"1/19/2022\",\"1/20/2022\",\"1/21/2022\",\"1/24/2022\",\"1/25/2022\",\"1/27/2022\",\"1/28/2022\",\"1/31/2022\",\"2/1/2022\",\"2/2/2022\",\"2/3/2022\",\"2/4/2022\",\"2/7/2022\",\"2/8/2022\",\"2/9/2022\",\"2/10/2022\",\"2/11/2022\",\"2/14/2022\",\"2/15/2022\",\"2/16/2022\",\"2/17/2022\",\"2/18/2022\",\"2/21/2022\",\"2/22/2022\",\"2/23/2022\",\"2/24/2022\",\"2/25/2022\",\"2/28/2022\",\"3/2/2022\",\"3/3/2022\",\"3/4/2022\",\"3/7/2022\",\"3/8/2022\",\"3/9/2022\",\"3/10/2022\",\"3/11/2022\",\"3/14/2022\",\"3/15/2022\",\"3/16/2022\",\"3/17/2022\",\"3/21/2022\",\"3/22/2022\",\"3/23/2022\",\"3/24/2022\",\"3/25/2022\",\"3/28/2022\",\"3/29/2022\",\"3/30/2022\",\"3/31/2022\",\"4/1/2022\",\"4/4/2022\",\"4/5/2022\",\"4/6/2022\",\"4/7/2022\",\"4/8/2022\",\"4/11/2022\",\"4/12/2022\",\"4/13/2022\",\"4/18/2022\",\"4/19/2022\",\"4/20/2022\",\"4/21/2022\",\"4/22/2022\",\"4/25/2022\",\"4/26/2022\",\"4/27/2022\",\"4/28/2022\",\"4/29/2022\",\"5/2/2022\",\"5/4/2022\",\"5/5/2022\",\"5/6/2022\",\"5/9/2022\",\"5/10/2022\",\"5/11/2022\",\"5/12/2022\",\"5/13/2022\",\"5/16/2022\",\"5/17/2022\",\"5/18/2022\",\"5/19/2022\",\"5/20/2022\",\"5/23/2022\",\"5/24/2022\",\"5/25/2022\",\"5/26/2022\",\"5/27/2022\"],\"xaxis\":\"x\",\"y\":[11132.75,11303.299809999999,11251.0,11269.0,10989.4502,10451.4502,10458.40039,9590.150391,9955.200195,9197.400391,8967.049805,8468.799805,8263.450195,8745.450195,7610.25,7801.049805,8317.849609,8641.450195,8660.25,8281.099609,8597.75,8253.799805,8083.799805,8792.200195,8748.75,9111.900391,8993.849609,8925.299805,8992.799805,9266.75,9261.849609,8981.450195,9187.299805,9313.900391,9154.400391,9282.299805,9380.900391,9553.349609,9859.900391,9293.5,9205.599609,9270.900391,9199.049805,9251.5,9239.200195,9196.549805,9383.549805,9142.75,9136.849609,8823.25,8879.099609,9066.549805,9106.25,9039.25,9029.049805,9314.950195,9490.099609,9580.299805,9826.150391,9979.099609,10061.549809999999,10029.09961,10142.15039,10167.4502,10046.65039,10116.15039,9902.0,9972.900391,9813.700195,9914.0,9881.150391,10091.65039,10244.40039,10311.2002,10471.0,10305.299809999999,10288.90039,10383.0,10312.40039,10302.09961,10430.049809999999,10551.7002,10607.34961,10763.65039,10799.65039,10705.75,10813.4502,10768.049809999999,10802.7002,10607.34961,10618.2002,10739.9502,10901.7002,11022.2002,11162.25,11132.59961,11215.4502,11194.15039,11131.799809999999,11300.549809999999,11202.84961,11102.15039,11073.4502,10891.59961,11095.25,11101.65039,11200.15039,11214.049809999999,11270.15039,11322.5,11308.40039,11300.4502,11178.40039,11247.09961,11385.34961,11408.40039,11312.2002,11371.59961,11466.4502,11472.25,11549.59961,11559.25,11647.59961,11387.5,11470.25,11535.0,11527.4502,11333.84961,11355.049809999999,11317.34961,11278.0,11449.25,11464.4502,11440.049809999999,11521.799809999999,11604.549809999999,11516.09961,11504.9502,11250.549809999999,11153.65039,11131.84961,10805.549809999999,11050.25,11227.549809999999,11222.40039,11247.549809999999,11416.9502,11503.34961,11662.40039,11738.84961,11834.59961,11914.2002,11930.9502,11934.5,11971.049809999999,11680.34961,11762.4502,11873.049809999999,11896.799809999999,11937.65039,11896.4502,11930.34961,11767.75,11889.40039,11729.59961,11670.799809999999,11642.40039,11669.15039,11813.5,11908.5,12120.299809999999,12263.549809999999,12461.049809999999,12631.09961,12749.15039,12690.799809999999,12719.9502,null,12874.2002,12938.25,12771.7002,12859.049809999999,12926.4502,13055.15039,12858.40039,12987.0,12968.9502,13109.049809999999,13113.75,13133.90039,13258.549809999999,13355.75,13392.9502,13529.09961,13478.299809999999,13513.84961,13558.15039,13567.84961,13682.7002,13740.7002,13760.549809999999,13328.40039,13466.299809999999,13601.09961,13749.25,13873.2002,13932.59961,13981.9502,13981.75,14018.5,14132.90039,14199.5,14146.25,14137.34961,14347.25,14484.75,14563.4502,14564.84961,14595.59961,14433.7002,14281.299809999999,14521.15039,14644.7002,14590.34961,14371.90039,14238.90039,13967.5,13817.549809999999,13634.59961,14281.2002,14647.84961,14789.9502,14895.65039,14924.25,15115.799809999999,15109.299809999999,15106.5,15173.299809999999,15163.299809999999,15314.7002,15313.4502,15208.90039,15118.9502,14981.75,14675.7002,14707.799809999999,14982.0,15097.34961,14529.15039,14761.549809999999,14919.09961,15245.59961,15080.75,14938.09961,14956.2002,15098.40039,15174.799809999999,15030.9502,14929.5,14910.4502,14721.299809999999,14557.84961,14744.0,14736.40039,14814.75,14549.40039,14324.90039,14507.299809999999,14845.09961,14690.7002,14867.34961,14637.799809999999,14683.5,14819.049809999999,14873.799809999999,14834.84961,14310.799809999999,14504.799809999999,14581.4502,14617.84961,14359.4502,14296.40039,14406.15039,14341.34961,14485.0,14653.049809999999,14864.549809999999,14894.90039,14631.09961,14634.15039,14496.5,14617.84961,14724.799809999999,14823.15039,14942.34961,14850.75,14696.5,14677.799809999999,14923.15039,15108.09961,15030.15039,14906.049809999999,15175.299809999999,15197.7002,15208.4502,15301.4502,15337.84961,15435.65039,15582.799809999999,15574.84961,15576.2002,15690.34961,15670.25,15751.65039,15740.09961,15635.34961,15737.75,15799.34961,15811.84961,15869.25,15767.549809999999,15691.40039,15683.34961,15746.5,15772.75,15686.9502,15790.4502,15860.34961,15814.7002,15748.4502,15721.5,15680.0,15722.2002,15834.34961,15818.25,15879.65039,15727.90039,15689.799809999999,15692.59961,15812.34961,15853.9502,15924.2002,15923.40039,15752.40039,15632.09961,15824.049809999999,15856.049809999999,15824.4502,15746.4502,15709.40039,15778.4502,15763.049809999999,15885.15039,16130.75,16258.799809999999,16294.59961,16238.2002,16258.25,16280.09961,16282.25,16364.40039,16529.09961,16563.05078,16614.59961,16568.84961,16450.5,16496.44922,16624.59961,16634.65039,16636.90039,16705.19922,16931.05078,17132.19922,17076.25,17234.15039,17323.59961,17377.80078,17362.09961,17353.5,17369.25,17355.30078,17380.0,17519.44922,17629.5,17585.15039,17396.90039,17562.0,17546.65039,17822.94922,17853.19922,17855.09961,17748.59961,17711.30078,17618.15039,17532.05078,17691.25,17822.30078,17646.0,17790.34961,17895.19922,17945.94922,17991.94922,18161.75,18338.55078,18477.05078,18418.75,18266.59961,18178.09961,18114.90039,18125.40039,18268.40039,18210.94922,17857.25,17671.65039,17929.65039,17888.94922,17829.19922,17916.80078,18068.55078,18044.25,18017.19922,17873.59961,18102.75,18109.44922,17999.19922,17898.65039,17764.80078,17416.55078,17503.34961,17415.05078,17536.25,17026.44922,17053.94922,16983.19922,17166.90039,17401.65039,17196.69922,16912.25,17176.69922,17469.75,17516.84961,17511.30078,17368.25,17324.90039,17221.40039,17248.40039,16985.19922,16614.19922,16770.84961,16955.44922,17072.59961,17003.75,17086.25,17233.25,17213.59961,17203.94922,17354.05078,17625.69922,17805.25,17925.25,17745.90039,17812.69922,18003.30078,18055.75,18212.34961,18257.80078,18255.75,18308.09961,18113.05078,17938.40039,17757.0,17617.15039,17149.09961,17277.94922,17110.15039,17101.94922,17339.84961,17576.84961,17780.0,17560.19922,17516.30078,17213.59961,17266.75,17463.80078,17605.84961,17374.75,16842.80078,17352.44922,17322.19922,17304.59961,17276.30078,17206.65039,17092.19922,17063.25,16247.9502,16658.40039,16793.90039,16605.94922,16498.05078,16245.34961,15863.15039,16013.4502,16345.34961,16594.90039,16630.44922,16871.30078,16663.0,16975.34961,17287.05078,17117.59961,17315.5,17245.65039,17222.75,17153.0,17222.0,17325.30078,17498.25,17464.75,17670.44922,18053.40039,17957.40039,17807.65039,17639.55078,17784.34961,17674.94922,17530.30078,17475.65039,17173.65039,16958.65039,17136.55078,17392.59961,17171.94922,16953.94922,17200.80078,17038.40039,17245.05078,17102.55078,17069.09961,16677.59961,16682.65039,16411.25,16301.84961,16240.049809999999,16167.09961,15808.0,15782.15039,15842.299809999999,16259.299809999999,16240.299809999999,15809.40039,16266.15039,16214.7002,16125.15039,16025.799809999999,16170.15039,16352.45],\"yaxis\":\"y\",\"type\":\"bar\"}],                        {\"template\":{\"data\":{\"histogram2dcontour\":[{\"type\":\"histogram2dcontour\",\"colorbar\":{\"outlinewidth\":0,\"ticks\":\"\"},\"colorscale\":[[0.0,\"#0d0887\"],[0.1111111111111111,\"#46039f\"],[0.2222222222222222,\"#7201a8\"],[0.3333333333333333,\"#9c179e\"],[0.4444444444444444,\"#bd3786\"],[0.5555555555555556,\"#d8576b\"],[0.6666666666666666,\"#ed7953\"],[0.7777777777777778,\"#fb9f3a\"],[0.8888888888888888,\"#fdca26\"],[1.0,\"#f0f921\"]]}],\"choropleth\":[{\"type\":\"choropleth\",\"colorbar\":{\"outlinewidth\":0,\"ticks\":\"\"}}],\"histogram2d\":[{\"type\":\"histogram2d\",\"colorbar\":{\"outlinewidth\":0,\"ticks\":\"\"},\"colorscale\":[[0.0,\"#0d0887\"],[0.1111111111111111,\"#46039f\"],[0.2222222222222222,\"#7201a8\"],[0.3333333333333333,\"#9c179e\"],[0.4444444444444444,\"#bd3786\"],[0.5555555555555556,\"#d8576b\"],[0.6666666666666666,\"#ed7953\"],[0.7777777777777778,\"#fb9f3a\"],[0.8888888888888888,\"#fdca26\"],[1.0,\"#f0f921\"]]}],\"heatmap\":[{\"type\":\"heatmap\",\"colorbar\":{\"outlinewidth\":0,\"ticks\":\"\"},\"colorscale\":[[0.0,\"#0d0887\"],[0.1111111111111111,\"#46039f\"],[0.2222222222222222,\"#7201a8\"],[0.3333333333333333,\"#9c179e\"],[0.4444444444444444,\"#bd3786\"],[0.5555555555555556,\"#d8576b\"],[0.6666666666666666,\"#ed7953\"],[0.7777777777777778,\"#fb9f3a\"],[0.8888888888888888,\"#fdca26\"],[1.0,\"#f0f921\"]]}],\"heatmapgl\":[{\"type\":\"heatmapgl\",\"colorbar\":{\"outlinewidth\":0,\"ticks\":\"\"},\"colorscale\":[[0.0,\"#0d0887\"],[0.1111111111111111,\"#46039f\"],[0.2222222222222222,\"#7201a8\"],[0.3333333333333333,\"#9c179e\"],[0.4444444444444444,\"#bd3786\"],[0.5555555555555556,\"#d8576b\"],[0.6666666666666666,\"#ed7953\"],[0.7777777777777778,\"#fb9f3a\"],[0.8888888888888888,\"#fdca26\"],[1.0,\"#f0f921\"]]}],\"contourcarpet\":[{\"type\":\"contourcarpet\",\"colorbar\":{\"outlinewidth\":0,\"ticks\":\"\"}}],\"contour\":[{\"type\":\"contour\",\"colorbar\":{\"outlinewidth\":0,\"ticks\":\"\"},\"colorscale\":[[0.0,\"#0d0887\"],[0.1111111111111111,\"#46039f\"],[0.2222222222222222,\"#7201a8\"],[0.3333333333333333,\"#9c179e\"],[0.4444444444444444,\"#bd3786\"],[0.5555555555555556,\"#d8576b\"],[0.6666666666666666,\"#ed7953\"],[0.7777777777777778,\"#fb9f3a\"],[0.8888888888888888,\"#fdca26\"],[1.0,\"#f0f921\"]]}],\"surface\":[{\"type\":\"surface\",\"colorbar\":{\"outlinewidth\":0,\"ticks\":\"\"},\"colorscale\":[[0.0,\"#0d0887\"],[0.1111111111111111,\"#46039f\"],[0.2222222222222222,\"#7201a8\"],[0.3333333333333333,\"#9c179e\"],[0.4444444444444444,\"#bd3786\"],[0.5555555555555556,\"#d8576b\"],[0.6666666666666666,\"#ed7953\"],[0.7777777777777778,\"#fb9f3a\"],[0.8888888888888888,\"#fdca26\"],[1.0,\"#f0f921\"]]}],\"mesh3d\":[{\"type\":\"mesh3d\",\"colorbar\":{\"outlinewidth\":0,\"ticks\":\"\"}}],\"scatter\":[{\"fillpattern\":{\"fillmode\":\"overlay\",\"size\":10,\"solidity\":0.2},\"type\":\"scatter\"}],\"parcoords\":[{\"type\":\"parcoords\",\"line\":{\"colorbar\":{\"outlinewidth\":0,\"ticks\":\"\"}}}],\"scatterpolargl\":[{\"type\":\"scatterpolargl\",\"marker\":{\"colorbar\":{\"outlinewidth\":0,\"ticks\":\"\"}}}],\"bar\":[{\"error_x\":{\"color\":\"#2a3f5f\"},\"error_y\":{\"color\":\"#2a3f5f\"},\"marker\":{\"line\":{\"color\":\"#E5ECF6\",\"width\":0.5},\"pattern\":{\"fillmode\":\"overlay\",\"size\":10,\"solidity\":0.2}},\"type\":\"bar\"}],\"scattergeo\":[{\"type\":\"scattergeo\",\"marker\":{\"colorbar\":{\"outlinewidth\":0,\"ticks\":\"\"}}}],\"scatterpolar\":[{\"type\":\"scatterpolar\",\"marker\":{\"colorbar\":{\"outlinewidth\":0,\"ticks\":\"\"}}}],\"histogram\":[{\"marker\":{\"pattern\":{\"fillmode\":\"overlay\",\"size\":10,\"solidity\":0.2}},\"type\":\"histogram\"}],\"scattergl\":[{\"type\":\"scattergl\",\"marker\":{\"colorbar\":{\"outlinewidth\":0,\"ticks\":\"\"}}}],\"scatter3d\":[{\"type\":\"scatter3d\",\"line\":{\"colorbar\":{\"outlinewidth\":0,\"ticks\":\"\"}},\"marker\":{\"colorbar\":{\"outlinewidth\":0,\"ticks\":\"\"}}}],\"scattermapbox\":[{\"type\":\"scattermapbox\",\"marker\":{\"colorbar\":{\"outlinewidth\":0,\"ticks\":\"\"}}}],\"scatterternary\":[{\"type\":\"scatterternary\",\"marker\":{\"colorbar\":{\"outlinewidth\":0,\"ticks\":\"\"}}}],\"scattercarpet\":[{\"type\":\"scattercarpet\",\"marker\":{\"colorbar\":{\"outlinewidth\":0,\"ticks\":\"\"}}}],\"carpet\":[{\"aaxis\":{\"endlinecolor\":\"#2a3f5f\",\"gridcolor\":\"white\",\"linecolor\":\"white\",\"minorgridcolor\":\"white\",\"startlinecolor\":\"#2a3f5f\"},\"baxis\":{\"endlinecolor\":\"#2a3f5f\",\"gridcolor\":\"white\",\"linecolor\":\"white\",\"minorgridcolor\":\"white\",\"startlinecolor\":\"#2a3f5f\"},\"type\":\"carpet\"}],\"table\":[{\"cells\":{\"fill\":{\"color\":\"#EBF0F8\"},\"line\":{\"color\":\"white\"}},\"header\":{\"fill\":{\"color\":\"#C8D4E3\"},\"line\":{\"color\":\"white\"}},\"type\":\"table\"}],\"barpolar\":[{\"marker\":{\"line\":{\"color\":\"#E5ECF6\",\"width\":0.5},\"pattern\":{\"fillmode\":\"overlay\",\"size\":10,\"solidity\":0.2}},\"type\":\"barpolar\"}],\"pie\":[{\"automargin\":true,\"type\":\"pie\"}]},\"layout\":{\"autotypenumbers\":\"strict\",\"colorway\":[\"#636efa\",\"#EF553B\",\"#00cc96\",\"#ab63fa\",\"#FFA15A\",\"#19d3f3\",\"#FF6692\",\"#B6E880\",\"#FF97FF\",\"#FECB52\"],\"font\":{\"color\":\"#2a3f5f\"},\"hovermode\":\"closest\",\"hoverlabel\":{\"align\":\"left\"},\"paper_bgcolor\":\"white\",\"plot_bgcolor\":\"#E5ECF6\",\"polar\":{\"bgcolor\":\"#E5ECF6\",\"angularaxis\":{\"gridcolor\":\"white\",\"linecolor\":\"white\",\"ticks\":\"\"},\"radialaxis\":{\"gridcolor\":\"white\",\"linecolor\":\"white\",\"ticks\":\"\"}},\"ternary\":{\"bgcolor\":\"#E5ECF6\",\"aaxis\":{\"gridcolor\":\"white\",\"linecolor\":\"white\",\"ticks\":\"\"},\"baxis\":{\"gridcolor\":\"white\",\"linecolor\":\"white\",\"ticks\":\"\"},\"caxis\":{\"gridcolor\":\"white\",\"linecolor\":\"white\",\"ticks\":\"\"}},\"coloraxis\":{\"colorbar\":{\"outlinewidth\":0,\"ticks\":\"\"}},\"colorscale\":{\"sequential\":[[0.0,\"#0d0887\"],[0.1111111111111111,\"#46039f\"],[0.2222222222222222,\"#7201a8\"],[0.3333333333333333,\"#9c179e\"],[0.4444444444444444,\"#bd3786\"],[0.5555555555555556,\"#d8576b\"],[0.6666666666666666,\"#ed7953\"],[0.7777777777777778,\"#fb9f3a\"],[0.8888888888888888,\"#fdca26\"],[1.0,\"#f0f921\"]],\"sequentialminus\":[[0.0,\"#0d0887\"],[0.1111111111111111,\"#46039f\"],[0.2222222222222222,\"#7201a8\"],[0.3333333333333333,\"#9c179e\"],[0.4444444444444444,\"#bd3786\"],[0.5555555555555556,\"#d8576b\"],[0.6666666666666666,\"#ed7953\"],[0.7777777777777778,\"#fb9f3a\"],[0.8888888888888888,\"#fdca26\"],[1.0,\"#f0f921\"]],\"diverging\":[[0,\"#8e0152\"],[0.1,\"#c51b7d\"],[0.2,\"#de77ae\"],[0.3,\"#f1b6da\"],[0.4,\"#fde0ef\"],[0.5,\"#f7f7f7\"],[0.6,\"#e6f5d0\"],[0.7,\"#b8e186\"],[0.8,\"#7fbc41\"],[0.9,\"#4d9221\"],[1,\"#276419\"]]},\"xaxis\":{\"gridcolor\":\"white\",\"linecolor\":\"white\",\"ticks\":\"\",\"title\":{\"standoff\":15},\"zerolinecolor\":\"white\",\"automargin\":true,\"zerolinewidth\":2},\"yaxis\":{\"gridcolor\":\"white\",\"linecolor\":\"white\",\"ticks\":\"\",\"title\":{\"standoff\":15},\"zerolinecolor\":\"white\",\"automargin\":true,\"zerolinewidth\":2},\"scene\":{\"xaxis\":{\"backgroundcolor\":\"#E5ECF6\",\"gridcolor\":\"white\",\"linecolor\":\"white\",\"showbackground\":true,\"ticks\":\"\",\"zerolinecolor\":\"white\",\"gridwidth\":2},\"yaxis\":{\"backgroundcolor\":\"#E5ECF6\",\"gridcolor\":\"white\",\"linecolor\":\"white\",\"showbackground\":true,\"ticks\":\"\",\"zerolinecolor\":\"white\",\"gridwidth\":2},\"zaxis\":{\"backgroundcolor\":\"#E5ECF6\",\"gridcolor\":\"white\",\"linecolor\":\"white\",\"showbackground\":true,\"ticks\":\"\",\"zerolinecolor\":\"white\",\"gridwidth\":2}},\"shapedefaults\":{\"line\":{\"color\":\"#2a3f5f\"}},\"annotationdefaults\":{\"arrowcolor\":\"#2a3f5f\",\"arrowhead\":0,\"arrowwidth\":1},\"geo\":{\"bgcolor\":\"white\",\"landcolor\":\"#E5ECF6\",\"subunitcolor\":\"white\",\"showland\":true,\"showlakes\":true,\"lakecolor\":\"white\"},\"title\":{\"x\":0.05},\"mapbox\":{\"style\":\"light\"}}},\"xaxis\":{\"anchor\":\"y\",\"domain\":[0.0,1.0],\"title\":{\"text\":\"Date\"}},\"yaxis\":{\"anchor\":\"x\",\"domain\":[0.0,1.0],\"title\":{\"text\":\"Close\"}},\"legend\":{\"tracegroupgap\":0},\"margin\":{\"t\":60},\"barmode\":\"relative\"},                        {\"responsive\": true}                    ).then(function(){\n",
       "                            \n",
       "var gd = document.getElementById('dd2cb711-7986-402a-816b-a7046b0af4e4');\n",
       "var x = new MutationObserver(function (mutations, observer) {{\n",
       "        var display = window.getComputedStyle(gd).display;\n",
       "        if (!display || display === 'none') {{\n",
       "            console.log([gd, 'removed!']);\n",
       "            Plotly.purge(gd);\n",
       "            observer.disconnect();\n",
       "        }}\n",
       "}});\n",
       "\n",
       "// Listen for the removal of the full notebook cells\n",
       "var notebookContainer = gd.closest('#notebook-container');\n",
       "if (notebookContainer) {{\n",
       "    x.observe(notebookContainer, {childList: true});\n",
       "}}\n",
       "\n",
       "// Listen for the clearing of the current output cell\n",
       "var outputEl = gd.closest('.output');\n",
       "if (outputEl) {{\n",
       "    x.observe(outputEl, {childList: true});\n",
       "}}\n",
       "\n",
       "                        })                };                });            </script>        </div>"
      ]
     },
     "metadata": {},
     "output_type": "display_data"
    }
   ],
   "source": [
    "fig = px.bar(df, x='Date', y='Close')\n",
    "fig.show()"
   ]
  },
  {
   "cell_type": "code",
   "execution_count": 11,
   "metadata": {},
   "outputs": [
    {
     "data": {
      "application/vnd.plotly.v1+json": {
       "config": {
        "plotlyServerURL": "https://plot.ly"
       },
       "data": [
        {
         "type": "scatter",
         "x": [
          "3/2/2020",
          "3/3/2020",
          "3/4/2020",
          "3/5/2020",
          "3/6/2020",
          "3/9/2020",
          "3/11/2020",
          "3/12/2020",
          "3/13/2020",
          "3/16/2020",
          "3/17/2020",
          "3/18/2020",
          "3/19/2020",
          "3/20/2020",
          "3/23/2020",
          "3/24/2020",
          "3/25/2020",
          "3/26/2020",
          "3/27/2020",
          "3/30/2020",
          "3/31/2020",
          "4/1/2020",
          "4/3/2020",
          "4/7/2020",
          "4/8/2020",
          "4/9/2020",
          "4/13/2020",
          "4/15/2020",
          "4/16/2020",
          "4/17/2020",
          "4/20/2020",
          "4/21/2020",
          "4/22/2020",
          "4/23/2020",
          "4/24/2020",
          "4/27/2020",
          "4/28/2020",
          "4/29/2020",
          "4/30/2020",
          "5/4/2020",
          "5/5/2020",
          "5/6/2020",
          "5/7/2020",
          "5/8/2020",
          "5/11/2020",
          "5/12/2020",
          "5/13/2020",
          "5/14/2020",
          "5/15/2020",
          "5/18/2020",
          "5/19/2020",
          "5/20/2020",
          "5/21/2020",
          "5/22/2020",
          "5/26/2020",
          "5/27/2020",
          "5/28/2020",
          "5/29/2020",
          "6/1/2020",
          "6/2/2020",
          "6/3/2020",
          "6/4/2020",
          "6/5/2020",
          "6/8/2020",
          "6/9/2020",
          "6/10/2020",
          "6/11/2020",
          "6/12/2020",
          "6/15/2020",
          "6/16/2020",
          "6/17/2020",
          "6/18/2020",
          "6/19/2020",
          "6/22/2020",
          "6/23/2020",
          "6/24/2020",
          "6/25/2020",
          "6/26/2020",
          "6/29/2020",
          "6/30/2020",
          "7/1/2020",
          "7/2/2020",
          "7/3/2020",
          "7/6/2020",
          "7/7/2020",
          "7/8/2020",
          "7/9/2020",
          "7/10/2020",
          "7/13/2020",
          "7/14/2020",
          "7/15/2020",
          "7/16/2020",
          "7/17/2020",
          "7/20/2020",
          "7/21/2020",
          "7/22/2020",
          "7/23/2020",
          "7/24/2020",
          "7/27/2020",
          "7/28/2020",
          "7/29/2020",
          "7/30/2020",
          "7/31/2020",
          "8/3/2020",
          "8/4/2020",
          "8/5/2020",
          "8/6/2020",
          "8/7/2020",
          "8/10/2020",
          "8/11/2020",
          "8/12/2020",
          "8/13/2020",
          "8/14/2020",
          "8/17/2020",
          "8/18/2020",
          "8/19/2020",
          "8/20/2020",
          "8/21/2020",
          "8/24/2020",
          "8/25/2020",
          "8/26/2020",
          "8/27/2020",
          "8/28/2020",
          "8/31/2020",
          "9/1/2020",
          "9/2/2020",
          "9/3/2020",
          "9/4/2020",
          "9/7/2020",
          "9/8/2020",
          "9/9/2020",
          "9/10/2020",
          "9/11/2020",
          "9/14/2020",
          "9/15/2020",
          "9/16/2020",
          "9/17/2020",
          "9/18/2020",
          "9/21/2020",
          "9/22/2020",
          "9/23/2020",
          "9/24/2020",
          "9/25/2020",
          "9/28/2020",
          "9/29/2020",
          "9/30/2020",
          "10/1/2020",
          "10/5/2020",
          "10/6/2020",
          "10/7/2020",
          "10/8/2020",
          "10/9/2020",
          "10/12/2020",
          "10/13/2020",
          "10/14/2020",
          "10/15/2020",
          "10/16/2020",
          "10/19/2020",
          "10/20/2020",
          "10/21/2020",
          "10/22/2020",
          "10/23/2020",
          "10/26/2020",
          "10/27/2020",
          "10/28/2020",
          "10/29/2020",
          "10/30/2020",
          "11/2/2020",
          "11/3/2020",
          "11/4/2020",
          "11/5/2020",
          "11/6/2020",
          "11/9/2020",
          "11/10/2020",
          "11/11/2020",
          "11/12/2020",
          "11/13/2020",
          "11/14/2020",
          "11/17/2020",
          "11/18/2020",
          "11/19/2020",
          "11/20/2020",
          "11/23/2020",
          "11/24/2020",
          "11/25/2020",
          "11/26/2020",
          "11/27/2020",
          "12/1/2020",
          "12/2/2020",
          "12/3/2020",
          "12/4/2020",
          "12/7/2020",
          "12/8/2020",
          "12/9/2020",
          "12/10/2020",
          "12/11/2020",
          "12/14/2020",
          "12/15/2020",
          "12/16/2020",
          "12/17/2020",
          "12/18/2020",
          "12/21/2020",
          "12/22/2020",
          "12/23/2020",
          "12/24/2020",
          "12/28/2020",
          "12/29/2020",
          "12/30/2020",
          "12/31/2020",
          "1/1/2021",
          "1/4/2021",
          "1/5/2021",
          "1/6/2021",
          "1/7/2021",
          "1/8/2021",
          "1/11/2021",
          "1/12/2021",
          "1/13/2021",
          "1/14/2021",
          "1/15/2021",
          "1/18/2021",
          "1/19/2021",
          "1/20/2021",
          "1/21/2021",
          "1/22/2021",
          "1/25/2021",
          "1/27/2021",
          "1/28/2021",
          "1/29/2021",
          "2/1/2021",
          "2/2/2021",
          "2/3/2021",
          "2/4/2021",
          "2/5/2021",
          "2/8/2021",
          "2/9/2021",
          "2/10/2021",
          "2/11/2021",
          "2/12/2021",
          "2/15/2021",
          "2/16/2021",
          "2/17/2021",
          "2/18/2021",
          "2/19/2021",
          "2/22/2021",
          "2/23/2021",
          "2/24/2021",
          "2/25/2021",
          "2/26/2021",
          "3/1/2021",
          "3/2/2021",
          "3/3/2021",
          "3/4/2021",
          "3/5/2021",
          "3/8/2021",
          "3/9/2021",
          "3/10/2021",
          "3/12/2021",
          "3/15/2021",
          "3/16/2021",
          "3/17/2021",
          "3/18/2021",
          "3/19/2021",
          "3/22/2021",
          "3/23/2021",
          "3/24/2021",
          "3/25/2021",
          "3/26/2021",
          "3/30/2021",
          "3/31/2021",
          "4/1/2021",
          "4/5/2021",
          "4/6/2021",
          "4/7/2021",
          "4/8/2021",
          "4/9/2021",
          "4/12/2021",
          "4/13/2021",
          "4/15/2021",
          "4/16/2021",
          "4/19/2021",
          "4/20/2021",
          "4/22/2021",
          "4/23/2021",
          "4/26/2021",
          "4/27/2021",
          "4/28/2021",
          "4/29/2021",
          "4/30/2021",
          "5/3/2021",
          "5/4/2021",
          "5/5/2021",
          "5/6/2021",
          "5/7/2021",
          "5/10/2021",
          "5/11/2021",
          "5/12/2021",
          "5/14/2021",
          "5/17/2021",
          "5/18/2021",
          "5/19/2021",
          "5/20/2021",
          "5/21/2021",
          "5/24/2021",
          "5/25/2021",
          "5/26/2021",
          "5/27/2021",
          "5/28/2021",
          "5/31/2021",
          "6/1/2021",
          "6/2/2021",
          "6/3/2021",
          "6/4/2021",
          "6/7/2021",
          "6/8/2021",
          "6/9/2021",
          "6/10/2021",
          "6/11/2021",
          "6/14/2021",
          "6/15/2021",
          "6/16/2021",
          "6/17/2021",
          "6/18/2021",
          "6/21/2021",
          "6/22/2021",
          "6/23/2021",
          "6/24/2021",
          "6/25/2021",
          "6/28/2021",
          "6/29/2021",
          "6/30/2021",
          "7/1/2021",
          "7/2/2021",
          "7/5/2021",
          "7/6/2021",
          "7/7/2021",
          "7/8/2021",
          "7/9/2021",
          "7/12/2021",
          "7/13/2021",
          "7/14/2021",
          "7/15/2021",
          "7/16/2021",
          "7/19/2021",
          "7/20/2021",
          "7/22/2021",
          "7/23/2021",
          "7/26/2021",
          "7/27/2021",
          "7/28/2021",
          "7/29/2021",
          "7/30/2021",
          "8/2/2021",
          "8/3/2021",
          "8/4/2021",
          "8/5/2021",
          "8/6/2021",
          "8/9/2021",
          "8/10/2021",
          "8/11/2021",
          "8/12/2021",
          "8/13/2021",
          "8/16/2021",
          "8/17/2021",
          "8/18/2021",
          "8/20/2021",
          "8/23/2021",
          "8/24/2021",
          "8/25/2021",
          "8/26/2021",
          "8/27/2021",
          "8/30/2021",
          "8/31/2021",
          "9/1/2021",
          "9/2/2021",
          "9/3/2021",
          "9/6/2021",
          "9/7/2021",
          "9/8/2021",
          "9/9/2021",
          "9/13/2021",
          "9/14/2021",
          "9/15/2021",
          "9/16/2021",
          "9/17/2021",
          "9/20/2021",
          "9/21/2021",
          "9/22/2021",
          "9/23/2021",
          "9/24/2021",
          "9/27/2021",
          "9/28/2021",
          "9/29/2021",
          "9/30/2021",
          "10/1/2021",
          "10/4/2021",
          "10/5/2021",
          "10/6/2021",
          "10/7/2021",
          "10/8/2021",
          "10/11/2021",
          "10/12/2021",
          "10/13/2021",
          "10/14/2021",
          "10/18/2021",
          "10/19/2021",
          "10/20/2021",
          "10/21/2021",
          "10/22/2021",
          "10/25/2021",
          "10/26/2021",
          "10/27/2021",
          "10/28/2021",
          "10/29/2021",
          "11/1/2021",
          "11/2/2021",
          "11/3/2021",
          "11/4/2021",
          "11/8/2021",
          "11/9/2021",
          "11/10/2021",
          "11/11/2021",
          "11/12/2021",
          "11/15/2021",
          "11/16/2021",
          "11/17/2021",
          "11/18/2021",
          "11/22/2021",
          "11/23/2021",
          "11/24/2021",
          "11/25/2021",
          "11/26/2021",
          "11/29/2021",
          "11/30/2021",
          "12/1/2021",
          "12/2/2021",
          "12/3/2021",
          "12/6/2021",
          "12/7/2021",
          "12/8/2021",
          "12/9/2021",
          "12/10/2021",
          "12/13/2021",
          "12/14/2021",
          "12/15/2021",
          "12/16/2021",
          "12/17/2021",
          "12/20/2021",
          "12/21/2021",
          "12/22/2021",
          "12/23/2021",
          "12/24/2021",
          "12/27/2021",
          "12/28/2021",
          "12/29/2021",
          "12/30/2021",
          "12/31/2021",
          "1/3/2022",
          "1/4/2022",
          "1/5/2022",
          "1/6/2022",
          "1/7/2022",
          "1/10/2022",
          "1/11/2022",
          "1/12/2022",
          "1/13/2022",
          "1/14/2022",
          "1/17/2022",
          "1/18/2022",
          "1/19/2022",
          "1/20/2022",
          "1/21/2022",
          "1/24/2022",
          "1/25/2022",
          "1/27/2022",
          "1/28/2022",
          "1/31/2022",
          "2/1/2022",
          "2/2/2022",
          "2/3/2022",
          "2/4/2022",
          "2/7/2022",
          "2/8/2022",
          "2/9/2022",
          "2/10/2022",
          "2/11/2022",
          "2/14/2022",
          "2/15/2022",
          "2/16/2022",
          "2/17/2022",
          "2/18/2022",
          "2/21/2022",
          "2/22/2022",
          "2/23/2022",
          "2/24/2022",
          "2/25/2022",
          "2/28/2022",
          "3/2/2022",
          "3/3/2022",
          "3/4/2022",
          "3/7/2022",
          "3/8/2022",
          "3/9/2022",
          "3/10/2022",
          "3/11/2022",
          "3/14/2022",
          "3/15/2022",
          "3/16/2022",
          "3/17/2022",
          "3/21/2022",
          "3/22/2022",
          "3/23/2022",
          "3/24/2022",
          "3/25/2022",
          "3/28/2022",
          "3/29/2022",
          "3/30/2022",
          "3/31/2022",
          "4/1/2022",
          "4/4/2022",
          "4/5/2022",
          "4/6/2022",
          "4/7/2022",
          "4/8/2022",
          "4/11/2022",
          "4/12/2022",
          "4/13/2022",
          "4/18/2022",
          "4/19/2022",
          "4/20/2022",
          "4/21/2022",
          "4/22/2022",
          "4/25/2022",
          "4/26/2022",
          "4/27/2022",
          "4/28/2022",
          "4/29/2022",
          "5/2/2022",
          "5/4/2022",
          "5/5/2022",
          "5/6/2022",
          "5/9/2022",
          "5/10/2022",
          "5/11/2022",
          "5/12/2022",
          "5/13/2022",
          "5/16/2022",
          "5/17/2022",
          "5/18/2022",
          "5/19/2022",
          "5/20/2022",
          "5/23/2022",
          "5/24/2022",
          "5/25/2022",
          "5/26/2022",
          "5/27/2022"
         ],
         "y": [
          11132.75,
          11303.299809999999,
          11251,
          11269,
          10989.4502,
          10451.4502,
          10458.40039,
          9590.150391,
          9955.200195,
          9197.400391,
          8967.049805,
          8468.799805,
          8263.450195,
          8745.450195,
          7610.25,
          7801.049805,
          8317.849609,
          8641.450195,
          8660.25,
          8281.099609,
          8597.75,
          8253.799805,
          8083.799805,
          8792.200195,
          8748.75,
          9111.900391,
          8993.849609,
          8925.299805,
          8992.799805,
          9266.75,
          9261.849609,
          8981.450195,
          9187.299805,
          9313.900391,
          9154.400391,
          9282.299805,
          9380.900391,
          9553.349609,
          9859.900391,
          9293.5,
          9205.599609,
          9270.900391,
          9199.049805,
          9251.5,
          9239.200195,
          9196.549805,
          9383.549805,
          9142.75,
          9136.849609,
          8823.25,
          8879.099609,
          9066.549805,
          9106.25,
          9039.25,
          9029.049805,
          9314.950195,
          9490.099609,
          9580.299805,
          9826.150391,
          9979.099609,
          10061.549809999999,
          10029.09961,
          10142.15039,
          10167.4502,
          10046.65039,
          10116.15039,
          9902,
          9972.900391,
          9813.700195,
          9914,
          9881.150391,
          10091.65039,
          10244.40039,
          10311.2002,
          10471,
          10305.299809999999,
          10288.90039,
          10383,
          10312.40039,
          10302.09961,
          10430.049809999999,
          10551.7002,
          10607.34961,
          10763.65039,
          10799.65039,
          10705.75,
          10813.4502,
          10768.049809999999,
          10802.7002,
          10607.34961,
          10618.2002,
          10739.9502,
          10901.7002,
          11022.2002,
          11162.25,
          11132.59961,
          11215.4502,
          11194.15039,
          11131.799809999999,
          11300.549809999999,
          11202.84961,
          11102.15039,
          11073.4502,
          10891.59961,
          11095.25,
          11101.65039,
          11200.15039,
          11214.049809999999,
          11270.15039,
          11322.5,
          11308.40039,
          11300.4502,
          11178.40039,
          11247.09961,
          11385.34961,
          11408.40039,
          11312.2002,
          11371.59961,
          11466.4502,
          11472.25,
          11549.59961,
          11559.25,
          11647.59961,
          11387.5,
          11470.25,
          11535,
          11527.4502,
          11333.84961,
          11355.049809999999,
          11317.34961,
          11278,
          11449.25,
          11464.4502,
          11440.049809999999,
          11521.799809999999,
          11604.549809999999,
          11516.09961,
          11504.9502,
          11250.549809999999,
          11153.65039,
          11131.84961,
          10805.549809999999,
          11050.25,
          11227.549809999999,
          11222.40039,
          11247.549809999999,
          11416.9502,
          11503.34961,
          11662.40039,
          11738.84961,
          11834.59961,
          11914.2002,
          11930.9502,
          11934.5,
          11971.049809999999,
          11680.34961,
          11762.4502,
          11873.049809999999,
          11896.799809999999,
          11937.65039,
          11896.4502,
          11930.34961,
          11767.75,
          11889.40039,
          11729.59961,
          11670.799809999999,
          11642.40039,
          11669.15039,
          11813.5,
          11908.5,
          12120.299809999999,
          12263.549809999999,
          12461.049809999999,
          12631.09961,
          12749.15039,
          12690.799809999999,
          12719.9502,
          null,
          12874.2002,
          12938.25,
          12771.7002,
          12859.049809999999,
          12926.4502,
          13055.15039,
          12858.40039,
          12987,
          12968.9502,
          13109.049809999999,
          13113.75,
          13133.90039,
          13258.549809999999,
          13355.75,
          13392.9502,
          13529.09961,
          13478.299809999999,
          13513.84961,
          13558.15039,
          13567.84961,
          13682.7002,
          13740.7002,
          13760.549809999999,
          13328.40039,
          13466.299809999999,
          13601.09961,
          13749.25,
          13873.2002,
          13932.59961,
          13981.9502,
          13981.75,
          14018.5,
          14132.90039,
          14199.5,
          14146.25,
          14137.34961,
          14347.25,
          14484.75,
          14563.4502,
          14564.84961,
          14595.59961,
          14433.7002,
          14281.299809999999,
          14521.15039,
          14644.7002,
          14590.34961,
          14371.90039,
          14238.90039,
          13967.5,
          13817.549809999999,
          13634.59961,
          14281.2002,
          14647.84961,
          14789.9502,
          14895.65039,
          14924.25,
          15115.799809999999,
          15109.299809999999,
          15106.5,
          15173.299809999999,
          15163.299809999999,
          15314.7002,
          15313.4502,
          15208.90039,
          15118.9502,
          14981.75,
          14675.7002,
          14707.799809999999,
          14982,
          15097.34961,
          14529.15039,
          14761.549809999999,
          14919.09961,
          15245.59961,
          15080.75,
          14938.09961,
          14956.2002,
          15098.40039,
          15174.799809999999,
          15030.9502,
          14929.5,
          14910.4502,
          14721.299809999999,
          14557.84961,
          14744,
          14736.40039,
          14814.75,
          14549.40039,
          14324.90039,
          14507.299809999999,
          14845.09961,
          14690.7002,
          14867.34961,
          14637.799809999999,
          14683.5,
          14819.049809999999,
          14873.799809999999,
          14834.84961,
          14310.799809999999,
          14504.799809999999,
          14581.4502,
          14617.84961,
          14359.4502,
          14296.40039,
          14406.15039,
          14341.34961,
          14485,
          14653.049809999999,
          14864.549809999999,
          14894.90039,
          14631.09961,
          14634.15039,
          14496.5,
          14617.84961,
          14724.799809999999,
          14823.15039,
          14942.34961,
          14850.75,
          14696.5,
          14677.799809999999,
          14923.15039,
          15108.09961,
          15030.15039,
          14906.049809999999,
          15175.299809999999,
          15197.7002,
          15208.4502,
          15301.4502,
          15337.84961,
          15435.65039,
          15582.799809999999,
          15574.84961,
          15576.2002,
          15690.34961,
          15670.25,
          15751.65039,
          15740.09961,
          15635.34961,
          15737.75,
          15799.34961,
          15811.84961,
          15869.25,
          15767.549809999999,
          15691.40039,
          15683.34961,
          15746.5,
          15772.75,
          15686.9502,
          15790.4502,
          15860.34961,
          15814.7002,
          15748.4502,
          15721.5,
          15680,
          15722.2002,
          15834.34961,
          15818.25,
          15879.65039,
          15727.90039,
          15689.799809999999,
          15692.59961,
          15812.34961,
          15853.9502,
          15924.2002,
          15923.40039,
          15752.40039,
          15632.09961,
          15824.049809999999,
          15856.049809999999,
          15824.4502,
          15746.4502,
          15709.40039,
          15778.4502,
          15763.049809999999,
          15885.15039,
          16130.75,
          16258.799809999999,
          16294.59961,
          16238.2002,
          16258.25,
          16280.09961,
          16282.25,
          16364.40039,
          16529.09961,
          16563.05078,
          16614.59961,
          16568.84961,
          16450.5,
          16496.44922,
          16624.59961,
          16634.65039,
          16636.90039,
          16705.19922,
          16931.05078,
          17132.19922,
          17076.25,
          17234.15039,
          17323.59961,
          17377.80078,
          17362.09961,
          17353.5,
          17369.25,
          17355.30078,
          17380,
          17519.44922,
          17629.5,
          17585.15039,
          17396.90039,
          17562,
          17546.65039,
          17822.94922,
          17853.19922,
          17855.09961,
          17748.59961,
          17711.30078,
          17618.15039,
          17532.05078,
          17691.25,
          17822.30078,
          17646,
          17790.34961,
          17895.19922,
          17945.94922,
          17991.94922,
          18161.75,
          18338.55078,
          18477.05078,
          18418.75,
          18266.59961,
          18178.09961,
          18114.90039,
          18125.40039,
          18268.40039,
          18210.94922,
          17857.25,
          17671.65039,
          17929.65039,
          17888.94922,
          17829.19922,
          17916.80078,
          18068.55078,
          18044.25,
          18017.19922,
          17873.59961,
          18102.75,
          18109.44922,
          17999.19922,
          17898.65039,
          17764.80078,
          17416.55078,
          17503.34961,
          17415.05078,
          17536.25,
          17026.44922,
          17053.94922,
          16983.19922,
          17166.90039,
          17401.65039,
          17196.69922,
          16912.25,
          17176.69922,
          17469.75,
          17516.84961,
          17511.30078,
          17368.25,
          17324.90039,
          17221.40039,
          17248.40039,
          16985.19922,
          16614.19922,
          16770.84961,
          16955.44922,
          17072.59961,
          17003.75,
          17086.25,
          17233.25,
          17213.59961,
          17203.94922,
          17354.05078,
          17625.69922,
          17805.25,
          17925.25,
          17745.90039,
          17812.69922,
          18003.30078,
          18055.75,
          18212.34961,
          18257.80078,
          18255.75,
          18308.09961,
          18113.05078,
          17938.40039,
          17757,
          17617.15039,
          17149.09961,
          17277.94922,
          17110.15039,
          17101.94922,
          17339.84961,
          17576.84961,
          17780,
          17560.19922,
          17516.30078,
          17213.59961,
          17266.75,
          17463.80078,
          17605.84961,
          17374.75,
          16842.80078,
          17352.44922,
          17322.19922,
          17304.59961,
          17276.30078,
          17206.65039,
          17092.19922,
          17063.25,
          16247.9502,
          16658.40039,
          16793.90039,
          16605.94922,
          16498.05078,
          16245.34961,
          15863.15039,
          16013.4502,
          16345.34961,
          16594.90039,
          16630.44922,
          16871.30078,
          16663,
          16975.34961,
          17287.05078,
          17117.59961,
          17315.5,
          17245.65039,
          17222.75,
          17153,
          17222,
          17325.30078,
          17498.25,
          17464.75,
          17670.44922,
          18053.40039,
          17957.40039,
          17807.65039,
          17639.55078,
          17784.34961,
          17674.94922,
          17530.30078,
          17475.65039,
          17173.65039,
          16958.65039,
          17136.55078,
          17392.59961,
          17171.94922,
          16953.94922,
          17200.80078,
          17038.40039,
          17245.05078,
          17102.55078,
          17069.09961,
          16677.59961,
          16682.65039,
          16411.25,
          16301.84961,
          16240.049809999999,
          16167.09961,
          15808,
          15782.15039,
          15842.299809999999,
          16259.299809999999,
          16240.299809999999,
          15809.40039,
          16266.15039,
          16214.7002,
          16125.15039,
          16025.799809999999,
          16170.15039,
          16352.45
         ]
        }
       ],
       "layout": {
        "template": {
         "data": {
          "bar": [
           {
            "error_x": {
             "color": "#2a3f5f"
            },
            "error_y": {
             "color": "#2a3f5f"
            },
            "marker": {
             "line": {
              "color": "#E5ECF6",
              "width": 0.5
             },
             "pattern": {
              "fillmode": "overlay",
              "size": 10,
              "solidity": 0.2
             }
            },
            "type": "bar"
           }
          ],
          "barpolar": [
           {
            "marker": {
             "line": {
              "color": "#E5ECF6",
              "width": 0.5
             },
             "pattern": {
              "fillmode": "overlay",
              "size": 10,
              "solidity": 0.2
             }
            },
            "type": "barpolar"
           }
          ],
          "carpet": [
           {
            "aaxis": {
             "endlinecolor": "#2a3f5f",
             "gridcolor": "white",
             "linecolor": "white",
             "minorgridcolor": "white",
             "startlinecolor": "#2a3f5f"
            },
            "baxis": {
             "endlinecolor": "#2a3f5f",
             "gridcolor": "white",
             "linecolor": "white",
             "minorgridcolor": "white",
             "startlinecolor": "#2a3f5f"
            },
            "type": "carpet"
           }
          ],
          "choropleth": [
           {
            "colorbar": {
             "outlinewidth": 0,
             "ticks": ""
            },
            "type": "choropleth"
           }
          ],
          "contour": [
           {
            "colorbar": {
             "outlinewidth": 0,
             "ticks": ""
            },
            "colorscale": [
             [
              0,
              "#0d0887"
             ],
             [
              0.1111111111111111,
              "#46039f"
             ],
             [
              0.2222222222222222,
              "#7201a8"
             ],
             [
              0.3333333333333333,
              "#9c179e"
             ],
             [
              0.4444444444444444,
              "#bd3786"
             ],
             [
              0.5555555555555556,
              "#d8576b"
             ],
             [
              0.6666666666666666,
              "#ed7953"
             ],
             [
              0.7777777777777778,
              "#fb9f3a"
             ],
             [
              0.8888888888888888,
              "#fdca26"
             ],
             [
              1,
              "#f0f921"
             ]
            ],
            "type": "contour"
           }
          ],
          "contourcarpet": [
           {
            "colorbar": {
             "outlinewidth": 0,
             "ticks": ""
            },
            "type": "contourcarpet"
           }
          ],
          "heatmap": [
           {
            "colorbar": {
             "outlinewidth": 0,
             "ticks": ""
            },
            "colorscale": [
             [
              0,
              "#0d0887"
             ],
             [
              0.1111111111111111,
              "#46039f"
             ],
             [
              0.2222222222222222,
              "#7201a8"
             ],
             [
              0.3333333333333333,
              "#9c179e"
             ],
             [
              0.4444444444444444,
              "#bd3786"
             ],
             [
              0.5555555555555556,
              "#d8576b"
             ],
             [
              0.6666666666666666,
              "#ed7953"
             ],
             [
              0.7777777777777778,
              "#fb9f3a"
             ],
             [
              0.8888888888888888,
              "#fdca26"
             ],
             [
              1,
              "#f0f921"
             ]
            ],
            "type": "heatmap"
           }
          ],
          "heatmapgl": [
           {
            "colorbar": {
             "outlinewidth": 0,
             "ticks": ""
            },
            "colorscale": [
             [
              0,
              "#0d0887"
             ],
             [
              0.1111111111111111,
              "#46039f"
             ],
             [
              0.2222222222222222,
              "#7201a8"
             ],
             [
              0.3333333333333333,
              "#9c179e"
             ],
             [
              0.4444444444444444,
              "#bd3786"
             ],
             [
              0.5555555555555556,
              "#d8576b"
             ],
             [
              0.6666666666666666,
              "#ed7953"
             ],
             [
              0.7777777777777778,
              "#fb9f3a"
             ],
             [
              0.8888888888888888,
              "#fdca26"
             ],
             [
              1,
              "#f0f921"
             ]
            ],
            "type": "heatmapgl"
           }
          ],
          "histogram": [
           {
            "marker": {
             "pattern": {
              "fillmode": "overlay",
              "size": 10,
              "solidity": 0.2
             }
            },
            "type": "histogram"
           }
          ],
          "histogram2d": [
           {
            "colorbar": {
             "outlinewidth": 0,
             "ticks": ""
            },
            "colorscale": [
             [
              0,
              "#0d0887"
             ],
             [
              0.1111111111111111,
              "#46039f"
             ],
             [
              0.2222222222222222,
              "#7201a8"
             ],
             [
              0.3333333333333333,
              "#9c179e"
             ],
             [
              0.4444444444444444,
              "#bd3786"
             ],
             [
              0.5555555555555556,
              "#d8576b"
             ],
             [
              0.6666666666666666,
              "#ed7953"
             ],
             [
              0.7777777777777778,
              "#fb9f3a"
             ],
             [
              0.8888888888888888,
              "#fdca26"
             ],
             [
              1,
              "#f0f921"
             ]
            ],
            "type": "histogram2d"
           }
          ],
          "histogram2dcontour": [
           {
            "colorbar": {
             "outlinewidth": 0,
             "ticks": ""
            },
            "colorscale": [
             [
              0,
              "#0d0887"
             ],
             [
              0.1111111111111111,
              "#46039f"
             ],
             [
              0.2222222222222222,
              "#7201a8"
             ],
             [
              0.3333333333333333,
              "#9c179e"
             ],
             [
              0.4444444444444444,
              "#bd3786"
             ],
             [
              0.5555555555555556,
              "#d8576b"
             ],
             [
              0.6666666666666666,
              "#ed7953"
             ],
             [
              0.7777777777777778,
              "#fb9f3a"
             ],
             [
              0.8888888888888888,
              "#fdca26"
             ],
             [
              1,
              "#f0f921"
             ]
            ],
            "type": "histogram2dcontour"
           }
          ],
          "mesh3d": [
           {
            "colorbar": {
             "outlinewidth": 0,
             "ticks": ""
            },
            "type": "mesh3d"
           }
          ],
          "parcoords": [
           {
            "line": {
             "colorbar": {
              "outlinewidth": 0,
              "ticks": ""
             }
            },
            "type": "parcoords"
           }
          ],
          "pie": [
           {
            "automargin": true,
            "type": "pie"
           }
          ],
          "scatter": [
           {
            "fillpattern": {
             "fillmode": "overlay",
             "size": 10,
             "solidity": 0.2
            },
            "type": "scatter"
           }
          ],
          "scatter3d": [
           {
            "line": {
             "colorbar": {
              "outlinewidth": 0,
              "ticks": ""
             }
            },
            "marker": {
             "colorbar": {
              "outlinewidth": 0,
              "ticks": ""
             }
            },
            "type": "scatter3d"
           }
          ],
          "scattercarpet": [
           {
            "marker": {
             "colorbar": {
              "outlinewidth": 0,
              "ticks": ""
             }
            },
            "type": "scattercarpet"
           }
          ],
          "scattergeo": [
           {
            "marker": {
             "colorbar": {
              "outlinewidth": 0,
              "ticks": ""
             }
            },
            "type": "scattergeo"
           }
          ],
          "scattergl": [
           {
            "marker": {
             "colorbar": {
              "outlinewidth": 0,
              "ticks": ""
             }
            },
            "type": "scattergl"
           }
          ],
          "scattermapbox": [
           {
            "marker": {
             "colorbar": {
              "outlinewidth": 0,
              "ticks": ""
             }
            },
            "type": "scattermapbox"
           }
          ],
          "scatterpolar": [
           {
            "marker": {
             "colorbar": {
              "outlinewidth": 0,
              "ticks": ""
             }
            },
            "type": "scatterpolar"
           }
          ],
          "scatterpolargl": [
           {
            "marker": {
             "colorbar": {
              "outlinewidth": 0,
              "ticks": ""
             }
            },
            "type": "scatterpolargl"
           }
          ],
          "scatterternary": [
           {
            "marker": {
             "colorbar": {
              "outlinewidth": 0,
              "ticks": ""
             }
            },
            "type": "scatterternary"
           }
          ],
          "surface": [
           {
            "colorbar": {
             "outlinewidth": 0,
             "ticks": ""
            },
            "colorscale": [
             [
              0,
              "#0d0887"
             ],
             [
              0.1111111111111111,
              "#46039f"
             ],
             [
              0.2222222222222222,
              "#7201a8"
             ],
             [
              0.3333333333333333,
              "#9c179e"
             ],
             [
              0.4444444444444444,
              "#bd3786"
             ],
             [
              0.5555555555555556,
              "#d8576b"
             ],
             [
              0.6666666666666666,
              "#ed7953"
             ],
             [
              0.7777777777777778,
              "#fb9f3a"
             ],
             [
              0.8888888888888888,
              "#fdca26"
             ],
             [
              1,
              "#f0f921"
             ]
            ],
            "type": "surface"
           }
          ],
          "table": [
           {
            "cells": {
             "fill": {
              "color": "#EBF0F8"
             },
             "line": {
              "color": "white"
             }
            },
            "header": {
             "fill": {
              "color": "#C8D4E3"
             },
             "line": {
              "color": "white"
             }
            },
            "type": "table"
           }
          ]
         },
         "layout": {
          "annotationdefaults": {
           "arrowcolor": "#2a3f5f",
           "arrowhead": 0,
           "arrowwidth": 1
          },
          "autotypenumbers": "strict",
          "coloraxis": {
           "colorbar": {
            "outlinewidth": 0,
            "ticks": ""
           }
          },
          "colorscale": {
           "diverging": [
            [
             0,
             "#8e0152"
            ],
            [
             0.1,
             "#c51b7d"
            ],
            [
             0.2,
             "#de77ae"
            ],
            [
             0.3,
             "#f1b6da"
            ],
            [
             0.4,
             "#fde0ef"
            ],
            [
             0.5,
             "#f7f7f7"
            ],
            [
             0.6,
             "#e6f5d0"
            ],
            [
             0.7,
             "#b8e186"
            ],
            [
             0.8,
             "#7fbc41"
            ],
            [
             0.9,
             "#4d9221"
            ],
            [
             1,
             "#276419"
            ]
           ],
           "sequential": [
            [
             0,
             "#0d0887"
            ],
            [
             0.1111111111111111,
             "#46039f"
            ],
            [
             0.2222222222222222,
             "#7201a8"
            ],
            [
             0.3333333333333333,
             "#9c179e"
            ],
            [
             0.4444444444444444,
             "#bd3786"
            ],
            [
             0.5555555555555556,
             "#d8576b"
            ],
            [
             0.6666666666666666,
             "#ed7953"
            ],
            [
             0.7777777777777778,
             "#fb9f3a"
            ],
            [
             0.8888888888888888,
             "#fdca26"
            ],
            [
             1,
             "#f0f921"
            ]
           ],
           "sequentialminus": [
            [
             0,
             "#0d0887"
            ],
            [
             0.1111111111111111,
             "#46039f"
            ],
            [
             0.2222222222222222,
             "#7201a8"
            ],
            [
             0.3333333333333333,
             "#9c179e"
            ],
            [
             0.4444444444444444,
             "#bd3786"
            ],
            [
             0.5555555555555556,
             "#d8576b"
            ],
            [
             0.6666666666666666,
             "#ed7953"
            ],
            [
             0.7777777777777778,
             "#fb9f3a"
            ],
            [
             0.8888888888888888,
             "#fdca26"
            ],
            [
             1,
             "#f0f921"
            ]
           ]
          },
          "colorway": [
           "#636efa",
           "#EF553B",
           "#00cc96",
           "#ab63fa",
           "#FFA15A",
           "#19d3f3",
           "#FF6692",
           "#B6E880",
           "#FF97FF",
           "#FECB52"
          ],
          "font": {
           "color": "#2a3f5f"
          },
          "geo": {
           "bgcolor": "white",
           "lakecolor": "white",
           "landcolor": "#E5ECF6",
           "showlakes": true,
           "showland": true,
           "subunitcolor": "white"
          },
          "hoverlabel": {
           "align": "left"
          },
          "hovermode": "closest",
          "mapbox": {
           "style": "light"
          },
          "paper_bgcolor": "white",
          "plot_bgcolor": "#E5ECF6",
          "polar": {
           "angularaxis": {
            "gridcolor": "white",
            "linecolor": "white",
            "ticks": ""
           },
           "bgcolor": "#E5ECF6",
           "radialaxis": {
            "gridcolor": "white",
            "linecolor": "white",
            "ticks": ""
           }
          },
          "scene": {
           "xaxis": {
            "backgroundcolor": "#E5ECF6",
            "gridcolor": "white",
            "gridwidth": 2,
            "linecolor": "white",
            "showbackground": true,
            "ticks": "",
            "zerolinecolor": "white"
           },
           "yaxis": {
            "backgroundcolor": "#E5ECF6",
            "gridcolor": "white",
            "gridwidth": 2,
            "linecolor": "white",
            "showbackground": true,
            "ticks": "",
            "zerolinecolor": "white"
           },
           "zaxis": {
            "backgroundcolor": "#E5ECF6",
            "gridcolor": "white",
            "gridwidth": 2,
            "linecolor": "white",
            "showbackground": true,
            "ticks": "",
            "zerolinecolor": "white"
           }
          },
          "shapedefaults": {
           "line": {
            "color": "#2a3f5f"
           }
          },
          "ternary": {
           "aaxis": {
            "gridcolor": "white",
            "linecolor": "white",
            "ticks": ""
           },
           "baxis": {
            "gridcolor": "white",
            "linecolor": "white",
            "ticks": ""
           },
           "bgcolor": "#E5ECF6",
           "caxis": {
            "gridcolor": "white",
            "linecolor": "white",
            "ticks": ""
           }
          },
          "title": {
           "x": 0.05
          },
          "xaxis": {
           "automargin": true,
           "gridcolor": "white",
           "linecolor": "white",
           "ticks": "",
           "title": {
            "standoff": 15
           },
           "zerolinecolor": "white",
           "zerolinewidth": 2
          },
          "yaxis": {
           "automargin": true,
           "gridcolor": "white",
           "linecolor": "white",
           "ticks": "",
           "title": {
            "standoff": 15
           },
           "zerolinecolor": "white",
           "zerolinewidth": 2
          }
         }
        }
       }
      },
      "text/html": [
       "<div>                            <div id=\"c71681df-2119-4a07-a97d-33c4011383bf\" class=\"plotly-graph-div\" style=\"height:525px; width:100%;\"></div>            <script type=\"text/javascript\">                require([\"plotly\"], function(Plotly) {                    window.PLOTLYENV=window.PLOTLYENV || {};                                    if (document.getElementById(\"c71681df-2119-4a07-a97d-33c4011383bf\")) {                    Plotly.newPlot(                        \"c71681df-2119-4a07-a97d-33c4011383bf\",                        [{\"x\":[\"3/2/2020\",\"3/3/2020\",\"3/4/2020\",\"3/5/2020\",\"3/6/2020\",\"3/9/2020\",\"3/11/2020\",\"3/12/2020\",\"3/13/2020\",\"3/16/2020\",\"3/17/2020\",\"3/18/2020\",\"3/19/2020\",\"3/20/2020\",\"3/23/2020\",\"3/24/2020\",\"3/25/2020\",\"3/26/2020\",\"3/27/2020\",\"3/30/2020\",\"3/31/2020\",\"4/1/2020\",\"4/3/2020\",\"4/7/2020\",\"4/8/2020\",\"4/9/2020\",\"4/13/2020\",\"4/15/2020\",\"4/16/2020\",\"4/17/2020\",\"4/20/2020\",\"4/21/2020\",\"4/22/2020\",\"4/23/2020\",\"4/24/2020\",\"4/27/2020\",\"4/28/2020\",\"4/29/2020\",\"4/30/2020\",\"5/4/2020\",\"5/5/2020\",\"5/6/2020\",\"5/7/2020\",\"5/8/2020\",\"5/11/2020\",\"5/12/2020\",\"5/13/2020\",\"5/14/2020\",\"5/15/2020\",\"5/18/2020\",\"5/19/2020\",\"5/20/2020\",\"5/21/2020\",\"5/22/2020\",\"5/26/2020\",\"5/27/2020\",\"5/28/2020\",\"5/29/2020\",\"6/1/2020\",\"6/2/2020\",\"6/3/2020\",\"6/4/2020\",\"6/5/2020\",\"6/8/2020\",\"6/9/2020\",\"6/10/2020\",\"6/11/2020\",\"6/12/2020\",\"6/15/2020\",\"6/16/2020\",\"6/17/2020\",\"6/18/2020\",\"6/19/2020\",\"6/22/2020\",\"6/23/2020\",\"6/24/2020\",\"6/25/2020\",\"6/26/2020\",\"6/29/2020\",\"6/30/2020\",\"7/1/2020\",\"7/2/2020\",\"7/3/2020\",\"7/6/2020\",\"7/7/2020\",\"7/8/2020\",\"7/9/2020\",\"7/10/2020\",\"7/13/2020\",\"7/14/2020\",\"7/15/2020\",\"7/16/2020\",\"7/17/2020\",\"7/20/2020\",\"7/21/2020\",\"7/22/2020\",\"7/23/2020\",\"7/24/2020\",\"7/27/2020\",\"7/28/2020\",\"7/29/2020\",\"7/30/2020\",\"7/31/2020\",\"8/3/2020\",\"8/4/2020\",\"8/5/2020\",\"8/6/2020\",\"8/7/2020\",\"8/10/2020\",\"8/11/2020\",\"8/12/2020\",\"8/13/2020\",\"8/14/2020\",\"8/17/2020\",\"8/18/2020\",\"8/19/2020\",\"8/20/2020\",\"8/21/2020\",\"8/24/2020\",\"8/25/2020\",\"8/26/2020\",\"8/27/2020\",\"8/28/2020\",\"8/31/2020\",\"9/1/2020\",\"9/2/2020\",\"9/3/2020\",\"9/4/2020\",\"9/7/2020\",\"9/8/2020\",\"9/9/2020\",\"9/10/2020\",\"9/11/2020\",\"9/14/2020\",\"9/15/2020\",\"9/16/2020\",\"9/17/2020\",\"9/18/2020\",\"9/21/2020\",\"9/22/2020\",\"9/23/2020\",\"9/24/2020\",\"9/25/2020\",\"9/28/2020\",\"9/29/2020\",\"9/30/2020\",\"10/1/2020\",\"10/5/2020\",\"10/6/2020\",\"10/7/2020\",\"10/8/2020\",\"10/9/2020\",\"10/12/2020\",\"10/13/2020\",\"10/14/2020\",\"10/15/2020\",\"10/16/2020\",\"10/19/2020\",\"10/20/2020\",\"10/21/2020\",\"10/22/2020\",\"10/23/2020\",\"10/26/2020\",\"10/27/2020\",\"10/28/2020\",\"10/29/2020\",\"10/30/2020\",\"11/2/2020\",\"11/3/2020\",\"11/4/2020\",\"11/5/2020\",\"11/6/2020\",\"11/9/2020\",\"11/10/2020\",\"11/11/2020\",\"11/12/2020\",\"11/13/2020\",\"11/14/2020\",\"11/17/2020\",\"11/18/2020\",\"11/19/2020\",\"11/20/2020\",\"11/23/2020\",\"11/24/2020\",\"11/25/2020\",\"11/26/2020\",\"11/27/2020\",\"12/1/2020\",\"12/2/2020\",\"12/3/2020\",\"12/4/2020\",\"12/7/2020\",\"12/8/2020\",\"12/9/2020\",\"12/10/2020\",\"12/11/2020\",\"12/14/2020\",\"12/15/2020\",\"12/16/2020\",\"12/17/2020\",\"12/18/2020\",\"12/21/2020\",\"12/22/2020\",\"12/23/2020\",\"12/24/2020\",\"12/28/2020\",\"12/29/2020\",\"12/30/2020\",\"12/31/2020\",\"1/1/2021\",\"1/4/2021\",\"1/5/2021\",\"1/6/2021\",\"1/7/2021\",\"1/8/2021\",\"1/11/2021\",\"1/12/2021\",\"1/13/2021\",\"1/14/2021\",\"1/15/2021\",\"1/18/2021\",\"1/19/2021\",\"1/20/2021\",\"1/21/2021\",\"1/22/2021\",\"1/25/2021\",\"1/27/2021\",\"1/28/2021\",\"1/29/2021\",\"2/1/2021\",\"2/2/2021\",\"2/3/2021\",\"2/4/2021\",\"2/5/2021\",\"2/8/2021\",\"2/9/2021\",\"2/10/2021\",\"2/11/2021\",\"2/12/2021\",\"2/15/2021\",\"2/16/2021\",\"2/17/2021\",\"2/18/2021\",\"2/19/2021\",\"2/22/2021\",\"2/23/2021\",\"2/24/2021\",\"2/25/2021\",\"2/26/2021\",\"3/1/2021\",\"3/2/2021\",\"3/3/2021\",\"3/4/2021\",\"3/5/2021\",\"3/8/2021\",\"3/9/2021\",\"3/10/2021\",\"3/12/2021\",\"3/15/2021\",\"3/16/2021\",\"3/17/2021\",\"3/18/2021\",\"3/19/2021\",\"3/22/2021\",\"3/23/2021\",\"3/24/2021\",\"3/25/2021\",\"3/26/2021\",\"3/30/2021\",\"3/31/2021\",\"4/1/2021\",\"4/5/2021\",\"4/6/2021\",\"4/7/2021\",\"4/8/2021\",\"4/9/2021\",\"4/12/2021\",\"4/13/2021\",\"4/15/2021\",\"4/16/2021\",\"4/19/2021\",\"4/20/2021\",\"4/22/2021\",\"4/23/2021\",\"4/26/2021\",\"4/27/2021\",\"4/28/2021\",\"4/29/2021\",\"4/30/2021\",\"5/3/2021\",\"5/4/2021\",\"5/5/2021\",\"5/6/2021\",\"5/7/2021\",\"5/10/2021\",\"5/11/2021\",\"5/12/2021\",\"5/14/2021\",\"5/17/2021\",\"5/18/2021\",\"5/19/2021\",\"5/20/2021\",\"5/21/2021\",\"5/24/2021\",\"5/25/2021\",\"5/26/2021\",\"5/27/2021\",\"5/28/2021\",\"5/31/2021\",\"6/1/2021\",\"6/2/2021\",\"6/3/2021\",\"6/4/2021\",\"6/7/2021\",\"6/8/2021\",\"6/9/2021\",\"6/10/2021\",\"6/11/2021\",\"6/14/2021\",\"6/15/2021\",\"6/16/2021\",\"6/17/2021\",\"6/18/2021\",\"6/21/2021\",\"6/22/2021\",\"6/23/2021\",\"6/24/2021\",\"6/25/2021\",\"6/28/2021\",\"6/29/2021\",\"6/30/2021\",\"7/1/2021\",\"7/2/2021\",\"7/5/2021\",\"7/6/2021\",\"7/7/2021\",\"7/8/2021\",\"7/9/2021\",\"7/12/2021\",\"7/13/2021\",\"7/14/2021\",\"7/15/2021\",\"7/16/2021\",\"7/19/2021\",\"7/20/2021\",\"7/22/2021\",\"7/23/2021\",\"7/26/2021\",\"7/27/2021\",\"7/28/2021\",\"7/29/2021\",\"7/30/2021\",\"8/2/2021\",\"8/3/2021\",\"8/4/2021\",\"8/5/2021\",\"8/6/2021\",\"8/9/2021\",\"8/10/2021\",\"8/11/2021\",\"8/12/2021\",\"8/13/2021\",\"8/16/2021\",\"8/17/2021\",\"8/18/2021\",\"8/20/2021\",\"8/23/2021\",\"8/24/2021\",\"8/25/2021\",\"8/26/2021\",\"8/27/2021\",\"8/30/2021\",\"8/31/2021\",\"9/1/2021\",\"9/2/2021\",\"9/3/2021\",\"9/6/2021\",\"9/7/2021\",\"9/8/2021\",\"9/9/2021\",\"9/13/2021\",\"9/14/2021\",\"9/15/2021\",\"9/16/2021\",\"9/17/2021\",\"9/20/2021\",\"9/21/2021\",\"9/22/2021\",\"9/23/2021\",\"9/24/2021\",\"9/27/2021\",\"9/28/2021\",\"9/29/2021\",\"9/30/2021\",\"10/1/2021\",\"10/4/2021\",\"10/5/2021\",\"10/6/2021\",\"10/7/2021\",\"10/8/2021\",\"10/11/2021\",\"10/12/2021\",\"10/13/2021\",\"10/14/2021\",\"10/18/2021\",\"10/19/2021\",\"10/20/2021\",\"10/21/2021\",\"10/22/2021\",\"10/25/2021\",\"10/26/2021\",\"10/27/2021\",\"10/28/2021\",\"10/29/2021\",\"11/1/2021\",\"11/2/2021\",\"11/3/2021\",\"11/4/2021\",\"11/8/2021\",\"11/9/2021\",\"11/10/2021\",\"11/11/2021\",\"11/12/2021\",\"11/15/2021\",\"11/16/2021\",\"11/17/2021\",\"11/18/2021\",\"11/22/2021\",\"11/23/2021\",\"11/24/2021\",\"11/25/2021\",\"11/26/2021\",\"11/29/2021\",\"11/30/2021\",\"12/1/2021\",\"12/2/2021\",\"12/3/2021\",\"12/6/2021\",\"12/7/2021\",\"12/8/2021\",\"12/9/2021\",\"12/10/2021\",\"12/13/2021\",\"12/14/2021\",\"12/15/2021\",\"12/16/2021\",\"12/17/2021\",\"12/20/2021\",\"12/21/2021\",\"12/22/2021\",\"12/23/2021\",\"12/24/2021\",\"12/27/2021\",\"12/28/2021\",\"12/29/2021\",\"12/30/2021\",\"12/31/2021\",\"1/3/2022\",\"1/4/2022\",\"1/5/2022\",\"1/6/2022\",\"1/7/2022\",\"1/10/2022\",\"1/11/2022\",\"1/12/2022\",\"1/13/2022\",\"1/14/2022\",\"1/17/2022\",\"1/18/2022\",\"1/19/2022\",\"1/20/2022\",\"1/21/2022\",\"1/24/2022\",\"1/25/2022\",\"1/27/2022\",\"1/28/2022\",\"1/31/2022\",\"2/1/2022\",\"2/2/2022\",\"2/3/2022\",\"2/4/2022\",\"2/7/2022\",\"2/8/2022\",\"2/9/2022\",\"2/10/2022\",\"2/11/2022\",\"2/14/2022\",\"2/15/2022\",\"2/16/2022\",\"2/17/2022\",\"2/18/2022\",\"2/21/2022\",\"2/22/2022\",\"2/23/2022\",\"2/24/2022\",\"2/25/2022\",\"2/28/2022\",\"3/2/2022\",\"3/3/2022\",\"3/4/2022\",\"3/7/2022\",\"3/8/2022\",\"3/9/2022\",\"3/10/2022\",\"3/11/2022\",\"3/14/2022\",\"3/15/2022\",\"3/16/2022\",\"3/17/2022\",\"3/21/2022\",\"3/22/2022\",\"3/23/2022\",\"3/24/2022\",\"3/25/2022\",\"3/28/2022\",\"3/29/2022\",\"3/30/2022\",\"3/31/2022\",\"4/1/2022\",\"4/4/2022\",\"4/5/2022\",\"4/6/2022\",\"4/7/2022\",\"4/8/2022\",\"4/11/2022\",\"4/12/2022\",\"4/13/2022\",\"4/18/2022\",\"4/19/2022\",\"4/20/2022\",\"4/21/2022\",\"4/22/2022\",\"4/25/2022\",\"4/26/2022\",\"4/27/2022\",\"4/28/2022\",\"4/29/2022\",\"5/2/2022\",\"5/4/2022\",\"5/5/2022\",\"5/6/2022\",\"5/9/2022\",\"5/10/2022\",\"5/11/2022\",\"5/12/2022\",\"5/13/2022\",\"5/16/2022\",\"5/17/2022\",\"5/18/2022\",\"5/19/2022\",\"5/20/2022\",\"5/23/2022\",\"5/24/2022\",\"5/25/2022\",\"5/26/2022\",\"5/27/2022\"],\"y\":[11132.75,11303.299809999999,11251.0,11269.0,10989.4502,10451.4502,10458.40039,9590.150391,9955.200195,9197.400391,8967.049805,8468.799805,8263.450195,8745.450195,7610.25,7801.049805,8317.849609,8641.450195,8660.25,8281.099609,8597.75,8253.799805,8083.799805,8792.200195,8748.75,9111.900391,8993.849609,8925.299805,8992.799805,9266.75,9261.849609,8981.450195,9187.299805,9313.900391,9154.400391,9282.299805,9380.900391,9553.349609,9859.900391,9293.5,9205.599609,9270.900391,9199.049805,9251.5,9239.200195,9196.549805,9383.549805,9142.75,9136.849609,8823.25,8879.099609,9066.549805,9106.25,9039.25,9029.049805,9314.950195,9490.099609,9580.299805,9826.150391,9979.099609,10061.549809999999,10029.09961,10142.15039,10167.4502,10046.65039,10116.15039,9902.0,9972.900391,9813.700195,9914.0,9881.150391,10091.65039,10244.40039,10311.2002,10471.0,10305.299809999999,10288.90039,10383.0,10312.40039,10302.09961,10430.049809999999,10551.7002,10607.34961,10763.65039,10799.65039,10705.75,10813.4502,10768.049809999999,10802.7002,10607.34961,10618.2002,10739.9502,10901.7002,11022.2002,11162.25,11132.59961,11215.4502,11194.15039,11131.799809999999,11300.549809999999,11202.84961,11102.15039,11073.4502,10891.59961,11095.25,11101.65039,11200.15039,11214.049809999999,11270.15039,11322.5,11308.40039,11300.4502,11178.40039,11247.09961,11385.34961,11408.40039,11312.2002,11371.59961,11466.4502,11472.25,11549.59961,11559.25,11647.59961,11387.5,11470.25,11535.0,11527.4502,11333.84961,11355.049809999999,11317.34961,11278.0,11449.25,11464.4502,11440.049809999999,11521.799809999999,11604.549809999999,11516.09961,11504.9502,11250.549809999999,11153.65039,11131.84961,10805.549809999999,11050.25,11227.549809999999,11222.40039,11247.549809999999,11416.9502,11503.34961,11662.40039,11738.84961,11834.59961,11914.2002,11930.9502,11934.5,11971.049809999999,11680.34961,11762.4502,11873.049809999999,11896.799809999999,11937.65039,11896.4502,11930.34961,11767.75,11889.40039,11729.59961,11670.799809999999,11642.40039,11669.15039,11813.5,11908.5,12120.299809999999,12263.549809999999,12461.049809999999,12631.09961,12749.15039,12690.799809999999,12719.9502,null,12874.2002,12938.25,12771.7002,12859.049809999999,12926.4502,13055.15039,12858.40039,12987.0,12968.9502,13109.049809999999,13113.75,13133.90039,13258.549809999999,13355.75,13392.9502,13529.09961,13478.299809999999,13513.84961,13558.15039,13567.84961,13682.7002,13740.7002,13760.549809999999,13328.40039,13466.299809999999,13601.09961,13749.25,13873.2002,13932.59961,13981.9502,13981.75,14018.5,14132.90039,14199.5,14146.25,14137.34961,14347.25,14484.75,14563.4502,14564.84961,14595.59961,14433.7002,14281.299809999999,14521.15039,14644.7002,14590.34961,14371.90039,14238.90039,13967.5,13817.549809999999,13634.59961,14281.2002,14647.84961,14789.9502,14895.65039,14924.25,15115.799809999999,15109.299809999999,15106.5,15173.299809999999,15163.299809999999,15314.7002,15313.4502,15208.90039,15118.9502,14981.75,14675.7002,14707.799809999999,14982.0,15097.34961,14529.15039,14761.549809999999,14919.09961,15245.59961,15080.75,14938.09961,14956.2002,15098.40039,15174.799809999999,15030.9502,14929.5,14910.4502,14721.299809999999,14557.84961,14744.0,14736.40039,14814.75,14549.40039,14324.90039,14507.299809999999,14845.09961,14690.7002,14867.34961,14637.799809999999,14683.5,14819.049809999999,14873.799809999999,14834.84961,14310.799809999999,14504.799809999999,14581.4502,14617.84961,14359.4502,14296.40039,14406.15039,14341.34961,14485.0,14653.049809999999,14864.549809999999,14894.90039,14631.09961,14634.15039,14496.5,14617.84961,14724.799809999999,14823.15039,14942.34961,14850.75,14696.5,14677.799809999999,14923.15039,15108.09961,15030.15039,14906.049809999999,15175.299809999999,15197.7002,15208.4502,15301.4502,15337.84961,15435.65039,15582.799809999999,15574.84961,15576.2002,15690.34961,15670.25,15751.65039,15740.09961,15635.34961,15737.75,15799.34961,15811.84961,15869.25,15767.549809999999,15691.40039,15683.34961,15746.5,15772.75,15686.9502,15790.4502,15860.34961,15814.7002,15748.4502,15721.5,15680.0,15722.2002,15834.34961,15818.25,15879.65039,15727.90039,15689.799809999999,15692.59961,15812.34961,15853.9502,15924.2002,15923.40039,15752.40039,15632.09961,15824.049809999999,15856.049809999999,15824.4502,15746.4502,15709.40039,15778.4502,15763.049809999999,15885.15039,16130.75,16258.799809999999,16294.59961,16238.2002,16258.25,16280.09961,16282.25,16364.40039,16529.09961,16563.05078,16614.59961,16568.84961,16450.5,16496.44922,16624.59961,16634.65039,16636.90039,16705.19922,16931.05078,17132.19922,17076.25,17234.15039,17323.59961,17377.80078,17362.09961,17353.5,17369.25,17355.30078,17380.0,17519.44922,17629.5,17585.15039,17396.90039,17562.0,17546.65039,17822.94922,17853.19922,17855.09961,17748.59961,17711.30078,17618.15039,17532.05078,17691.25,17822.30078,17646.0,17790.34961,17895.19922,17945.94922,17991.94922,18161.75,18338.55078,18477.05078,18418.75,18266.59961,18178.09961,18114.90039,18125.40039,18268.40039,18210.94922,17857.25,17671.65039,17929.65039,17888.94922,17829.19922,17916.80078,18068.55078,18044.25,18017.19922,17873.59961,18102.75,18109.44922,17999.19922,17898.65039,17764.80078,17416.55078,17503.34961,17415.05078,17536.25,17026.44922,17053.94922,16983.19922,17166.90039,17401.65039,17196.69922,16912.25,17176.69922,17469.75,17516.84961,17511.30078,17368.25,17324.90039,17221.40039,17248.40039,16985.19922,16614.19922,16770.84961,16955.44922,17072.59961,17003.75,17086.25,17233.25,17213.59961,17203.94922,17354.05078,17625.69922,17805.25,17925.25,17745.90039,17812.69922,18003.30078,18055.75,18212.34961,18257.80078,18255.75,18308.09961,18113.05078,17938.40039,17757.0,17617.15039,17149.09961,17277.94922,17110.15039,17101.94922,17339.84961,17576.84961,17780.0,17560.19922,17516.30078,17213.59961,17266.75,17463.80078,17605.84961,17374.75,16842.80078,17352.44922,17322.19922,17304.59961,17276.30078,17206.65039,17092.19922,17063.25,16247.9502,16658.40039,16793.90039,16605.94922,16498.05078,16245.34961,15863.15039,16013.4502,16345.34961,16594.90039,16630.44922,16871.30078,16663.0,16975.34961,17287.05078,17117.59961,17315.5,17245.65039,17222.75,17153.0,17222.0,17325.30078,17498.25,17464.75,17670.44922,18053.40039,17957.40039,17807.65039,17639.55078,17784.34961,17674.94922,17530.30078,17475.65039,17173.65039,16958.65039,17136.55078,17392.59961,17171.94922,16953.94922,17200.80078,17038.40039,17245.05078,17102.55078,17069.09961,16677.59961,16682.65039,16411.25,16301.84961,16240.049809999999,16167.09961,15808.0,15782.15039,15842.299809999999,16259.299809999999,16240.299809999999,15809.40039,16266.15039,16214.7002,16125.15039,16025.799809999999,16170.15039,16352.45],\"type\":\"scatter\"}],                        {\"template\":{\"data\":{\"histogram2dcontour\":[{\"type\":\"histogram2dcontour\",\"colorbar\":{\"outlinewidth\":0,\"ticks\":\"\"},\"colorscale\":[[0.0,\"#0d0887\"],[0.1111111111111111,\"#46039f\"],[0.2222222222222222,\"#7201a8\"],[0.3333333333333333,\"#9c179e\"],[0.4444444444444444,\"#bd3786\"],[0.5555555555555556,\"#d8576b\"],[0.6666666666666666,\"#ed7953\"],[0.7777777777777778,\"#fb9f3a\"],[0.8888888888888888,\"#fdca26\"],[1.0,\"#f0f921\"]]}],\"choropleth\":[{\"type\":\"choropleth\",\"colorbar\":{\"outlinewidth\":0,\"ticks\":\"\"}}],\"histogram2d\":[{\"type\":\"histogram2d\",\"colorbar\":{\"outlinewidth\":0,\"ticks\":\"\"},\"colorscale\":[[0.0,\"#0d0887\"],[0.1111111111111111,\"#46039f\"],[0.2222222222222222,\"#7201a8\"],[0.3333333333333333,\"#9c179e\"],[0.4444444444444444,\"#bd3786\"],[0.5555555555555556,\"#d8576b\"],[0.6666666666666666,\"#ed7953\"],[0.7777777777777778,\"#fb9f3a\"],[0.8888888888888888,\"#fdca26\"],[1.0,\"#f0f921\"]]}],\"heatmap\":[{\"type\":\"heatmap\",\"colorbar\":{\"outlinewidth\":0,\"ticks\":\"\"},\"colorscale\":[[0.0,\"#0d0887\"],[0.1111111111111111,\"#46039f\"],[0.2222222222222222,\"#7201a8\"],[0.3333333333333333,\"#9c179e\"],[0.4444444444444444,\"#bd3786\"],[0.5555555555555556,\"#d8576b\"],[0.6666666666666666,\"#ed7953\"],[0.7777777777777778,\"#fb9f3a\"],[0.8888888888888888,\"#fdca26\"],[1.0,\"#f0f921\"]]}],\"heatmapgl\":[{\"type\":\"heatmapgl\",\"colorbar\":{\"outlinewidth\":0,\"ticks\":\"\"},\"colorscale\":[[0.0,\"#0d0887\"],[0.1111111111111111,\"#46039f\"],[0.2222222222222222,\"#7201a8\"],[0.3333333333333333,\"#9c179e\"],[0.4444444444444444,\"#bd3786\"],[0.5555555555555556,\"#d8576b\"],[0.6666666666666666,\"#ed7953\"],[0.7777777777777778,\"#fb9f3a\"],[0.8888888888888888,\"#fdca26\"],[1.0,\"#f0f921\"]]}],\"contourcarpet\":[{\"type\":\"contourcarpet\",\"colorbar\":{\"outlinewidth\":0,\"ticks\":\"\"}}],\"contour\":[{\"type\":\"contour\",\"colorbar\":{\"outlinewidth\":0,\"ticks\":\"\"},\"colorscale\":[[0.0,\"#0d0887\"],[0.1111111111111111,\"#46039f\"],[0.2222222222222222,\"#7201a8\"],[0.3333333333333333,\"#9c179e\"],[0.4444444444444444,\"#bd3786\"],[0.5555555555555556,\"#d8576b\"],[0.6666666666666666,\"#ed7953\"],[0.7777777777777778,\"#fb9f3a\"],[0.8888888888888888,\"#fdca26\"],[1.0,\"#f0f921\"]]}],\"surface\":[{\"type\":\"surface\",\"colorbar\":{\"outlinewidth\":0,\"ticks\":\"\"},\"colorscale\":[[0.0,\"#0d0887\"],[0.1111111111111111,\"#46039f\"],[0.2222222222222222,\"#7201a8\"],[0.3333333333333333,\"#9c179e\"],[0.4444444444444444,\"#bd3786\"],[0.5555555555555556,\"#d8576b\"],[0.6666666666666666,\"#ed7953\"],[0.7777777777777778,\"#fb9f3a\"],[0.8888888888888888,\"#fdca26\"],[1.0,\"#f0f921\"]]}],\"mesh3d\":[{\"type\":\"mesh3d\",\"colorbar\":{\"outlinewidth\":0,\"ticks\":\"\"}}],\"scatter\":[{\"fillpattern\":{\"fillmode\":\"overlay\",\"size\":10,\"solidity\":0.2},\"type\":\"scatter\"}],\"parcoords\":[{\"type\":\"parcoords\",\"line\":{\"colorbar\":{\"outlinewidth\":0,\"ticks\":\"\"}}}],\"scatterpolargl\":[{\"type\":\"scatterpolargl\",\"marker\":{\"colorbar\":{\"outlinewidth\":0,\"ticks\":\"\"}}}],\"bar\":[{\"error_x\":{\"color\":\"#2a3f5f\"},\"error_y\":{\"color\":\"#2a3f5f\"},\"marker\":{\"line\":{\"color\":\"#E5ECF6\",\"width\":0.5},\"pattern\":{\"fillmode\":\"overlay\",\"size\":10,\"solidity\":0.2}},\"type\":\"bar\"}],\"scattergeo\":[{\"type\":\"scattergeo\",\"marker\":{\"colorbar\":{\"outlinewidth\":0,\"ticks\":\"\"}}}],\"scatterpolar\":[{\"type\":\"scatterpolar\",\"marker\":{\"colorbar\":{\"outlinewidth\":0,\"ticks\":\"\"}}}],\"histogram\":[{\"marker\":{\"pattern\":{\"fillmode\":\"overlay\",\"size\":10,\"solidity\":0.2}},\"type\":\"histogram\"}],\"scattergl\":[{\"type\":\"scattergl\",\"marker\":{\"colorbar\":{\"outlinewidth\":0,\"ticks\":\"\"}}}],\"scatter3d\":[{\"type\":\"scatter3d\",\"line\":{\"colorbar\":{\"outlinewidth\":0,\"ticks\":\"\"}},\"marker\":{\"colorbar\":{\"outlinewidth\":0,\"ticks\":\"\"}}}],\"scattermapbox\":[{\"type\":\"scattermapbox\",\"marker\":{\"colorbar\":{\"outlinewidth\":0,\"ticks\":\"\"}}}],\"scatterternary\":[{\"type\":\"scatterternary\",\"marker\":{\"colorbar\":{\"outlinewidth\":0,\"ticks\":\"\"}}}],\"scattercarpet\":[{\"type\":\"scattercarpet\",\"marker\":{\"colorbar\":{\"outlinewidth\":0,\"ticks\":\"\"}}}],\"carpet\":[{\"aaxis\":{\"endlinecolor\":\"#2a3f5f\",\"gridcolor\":\"white\",\"linecolor\":\"white\",\"minorgridcolor\":\"white\",\"startlinecolor\":\"#2a3f5f\"},\"baxis\":{\"endlinecolor\":\"#2a3f5f\",\"gridcolor\":\"white\",\"linecolor\":\"white\",\"minorgridcolor\":\"white\",\"startlinecolor\":\"#2a3f5f\"},\"type\":\"carpet\"}],\"table\":[{\"cells\":{\"fill\":{\"color\":\"#EBF0F8\"},\"line\":{\"color\":\"white\"}},\"header\":{\"fill\":{\"color\":\"#C8D4E3\"},\"line\":{\"color\":\"white\"}},\"type\":\"table\"}],\"barpolar\":[{\"marker\":{\"line\":{\"color\":\"#E5ECF6\",\"width\":0.5},\"pattern\":{\"fillmode\":\"overlay\",\"size\":10,\"solidity\":0.2}},\"type\":\"barpolar\"}],\"pie\":[{\"automargin\":true,\"type\":\"pie\"}]},\"layout\":{\"autotypenumbers\":\"strict\",\"colorway\":[\"#636efa\",\"#EF553B\",\"#00cc96\",\"#ab63fa\",\"#FFA15A\",\"#19d3f3\",\"#FF6692\",\"#B6E880\",\"#FF97FF\",\"#FECB52\"],\"font\":{\"color\":\"#2a3f5f\"},\"hovermode\":\"closest\",\"hoverlabel\":{\"align\":\"left\"},\"paper_bgcolor\":\"white\",\"plot_bgcolor\":\"#E5ECF6\",\"polar\":{\"bgcolor\":\"#E5ECF6\",\"angularaxis\":{\"gridcolor\":\"white\",\"linecolor\":\"white\",\"ticks\":\"\"},\"radialaxis\":{\"gridcolor\":\"white\",\"linecolor\":\"white\",\"ticks\":\"\"}},\"ternary\":{\"bgcolor\":\"#E5ECF6\",\"aaxis\":{\"gridcolor\":\"white\",\"linecolor\":\"white\",\"ticks\":\"\"},\"baxis\":{\"gridcolor\":\"white\",\"linecolor\":\"white\",\"ticks\":\"\"},\"caxis\":{\"gridcolor\":\"white\",\"linecolor\":\"white\",\"ticks\":\"\"}},\"coloraxis\":{\"colorbar\":{\"outlinewidth\":0,\"ticks\":\"\"}},\"colorscale\":{\"sequential\":[[0.0,\"#0d0887\"],[0.1111111111111111,\"#46039f\"],[0.2222222222222222,\"#7201a8\"],[0.3333333333333333,\"#9c179e\"],[0.4444444444444444,\"#bd3786\"],[0.5555555555555556,\"#d8576b\"],[0.6666666666666666,\"#ed7953\"],[0.7777777777777778,\"#fb9f3a\"],[0.8888888888888888,\"#fdca26\"],[1.0,\"#f0f921\"]],\"sequentialminus\":[[0.0,\"#0d0887\"],[0.1111111111111111,\"#46039f\"],[0.2222222222222222,\"#7201a8\"],[0.3333333333333333,\"#9c179e\"],[0.4444444444444444,\"#bd3786\"],[0.5555555555555556,\"#d8576b\"],[0.6666666666666666,\"#ed7953\"],[0.7777777777777778,\"#fb9f3a\"],[0.8888888888888888,\"#fdca26\"],[1.0,\"#f0f921\"]],\"diverging\":[[0,\"#8e0152\"],[0.1,\"#c51b7d\"],[0.2,\"#de77ae\"],[0.3,\"#f1b6da\"],[0.4,\"#fde0ef\"],[0.5,\"#f7f7f7\"],[0.6,\"#e6f5d0\"],[0.7,\"#b8e186\"],[0.8,\"#7fbc41\"],[0.9,\"#4d9221\"],[1,\"#276419\"]]},\"xaxis\":{\"gridcolor\":\"white\",\"linecolor\":\"white\",\"ticks\":\"\",\"title\":{\"standoff\":15},\"zerolinecolor\":\"white\",\"automargin\":true,\"zerolinewidth\":2},\"yaxis\":{\"gridcolor\":\"white\",\"linecolor\":\"white\",\"ticks\":\"\",\"title\":{\"standoff\":15},\"zerolinecolor\":\"white\",\"automargin\":true,\"zerolinewidth\":2},\"scene\":{\"xaxis\":{\"backgroundcolor\":\"#E5ECF6\",\"gridcolor\":\"white\",\"linecolor\":\"white\",\"showbackground\":true,\"ticks\":\"\",\"zerolinecolor\":\"white\",\"gridwidth\":2},\"yaxis\":{\"backgroundcolor\":\"#E5ECF6\",\"gridcolor\":\"white\",\"linecolor\":\"white\",\"showbackground\":true,\"ticks\":\"\",\"zerolinecolor\":\"white\",\"gridwidth\":2},\"zaxis\":{\"backgroundcolor\":\"#E5ECF6\",\"gridcolor\":\"white\",\"linecolor\":\"white\",\"showbackground\":true,\"ticks\":\"\",\"zerolinecolor\":\"white\",\"gridwidth\":2}},\"shapedefaults\":{\"line\":{\"color\":\"#2a3f5f\"}},\"annotationdefaults\":{\"arrowcolor\":\"#2a3f5f\",\"arrowhead\":0,\"arrowwidth\":1},\"geo\":{\"bgcolor\":\"white\",\"landcolor\":\"#E5ECF6\",\"subunitcolor\":\"white\",\"showland\":true,\"showlakes\":true,\"lakecolor\":\"white\"},\"title\":{\"x\":0.05},\"mapbox\":{\"style\":\"light\"}}}},                        {\"responsive\": true}                    ).then(function(){\n",
       "                            \n",
       "var gd = document.getElementById('c71681df-2119-4a07-a97d-33c4011383bf');\n",
       "var x = new MutationObserver(function (mutations, observer) {{\n",
       "        var display = window.getComputedStyle(gd).display;\n",
       "        if (!display || display === 'none') {{\n",
       "            console.log([gd, 'removed!']);\n",
       "            Plotly.purge(gd);\n",
       "            observer.disconnect();\n",
       "        }}\n",
       "}});\n",
       "\n",
       "// Listen for the removal of the full notebook cells\n",
       "var notebookContainer = gd.closest('#notebook-container');\n",
       "if (notebookContainer) {{\n",
       "    x.observe(notebookContainer, {childList: true});\n",
       "}}\n",
       "\n",
       "// Listen for the clearing of the current output cell\n",
       "var outputEl = gd.closest('.output');\n",
       "if (outputEl) {{\n",
       "    x.observe(outputEl, {childList: true});\n",
       "}}\n",
       "\n",
       "                        })                };                });            </script>        </div>"
      ]
     },
     "metadata": {},
     "output_type": "display_data"
    }
   ],
   "source": [
    "fig = go.Figure([go.Scatter(x=df['Date'], y=df['Close'])])\n",
    "fig.show()"
   ]
  },
  {
   "cell_type": "code",
   "execution_count": null,
   "metadata": {},
   "outputs": [],
   "source": []
  },
  {
   "cell_type": "code",
   "execution_count": null,
   "metadata": {},
   "outputs": [],
   "source": []
  }
 ],
 "metadata": {
  "kernelspec": {
   "display_name": "Python [conda env:root] *",
   "language": "python",
   "name": "conda-root-py"
  },
  "language_info": {
   "codemirror_mode": {
    "name": "ipython",
    "version": 3
   },
   "file_extension": ".py",
   "mimetype": "text/x-python",
   "name": "python",
   "nbconvert_exporter": "python",
   "pygments_lexer": "ipython3",
   "version": "3.8.5"
  }
 },
 "nbformat": 4,
 "nbformat_minor": 4
}
