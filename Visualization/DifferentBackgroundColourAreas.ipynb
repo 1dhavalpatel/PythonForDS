{
 "cells": [
  {
   "cell_type": "code",
   "execution_count": 20,
   "metadata": {},
   "outputs": [],
   "source": [
    "import pandas as pd\n",
    "import matplotlib.pyplot as plt"
   ]
  },
  {
   "cell_type": "code",
   "execution_count": 40,
   "metadata": {},
   "outputs": [],
   "source": [
    "# Index P/E ratio history\n",
    "from nsepy import get_index_pe_history\n",
    "from datetime import date\n",
    "\n",
    "nifty_pe = get_index_pe_history(symbol=\"NIFTY\",\n",
    "                                start=date(2000,1,1),\n",
    "                                end=date(2022,6,5))"
   ]
  },
  {
   "cell_type": "code",
   "execution_count": 41,
   "metadata": {},
   "outputs": [
    {
     "data": {
      "text/html": [
       "<div>\n",
       "<style scoped>\n",
       "    .dataframe tbody tr th:only-of-type {\n",
       "        vertical-align: middle;\n",
       "    }\n",
       "\n",
       "    .dataframe tbody tr th {\n",
       "        vertical-align: top;\n",
       "    }\n",
       "\n",
       "    .dataframe thead th {\n",
       "        text-align: right;\n",
       "    }\n",
       "</style>\n",
       "<table border=\"1\" class=\"dataframe\">\n",
       "  <thead>\n",
       "    <tr style=\"text-align: right;\">\n",
       "      <th></th>\n",
       "      <th>P/E</th>\n",
       "      <th>P/B</th>\n",
       "      <th>Div Yield</th>\n",
       "    </tr>\n",
       "    <tr>\n",
       "      <th>Date</th>\n",
       "      <th></th>\n",
       "      <th></th>\n",
       "      <th></th>\n",
       "    </tr>\n",
       "  </thead>\n",
       "  <tbody>\n",
       "  </tbody>\n",
       "</table>\n",
       "</div>"
      ],
      "text/plain": [
       "Empty DataFrame\n",
       "Columns: [P/E, P/B, Div Yield]\n",
       "Index: []"
      ]
     },
     "execution_count": 41,
     "metadata": {},
     "output_type": "execute_result"
    }
   ],
   "source": [
    "nifty_pe.head()"
   ]
  },
  {
   "cell_type": "code",
   "execution_count": 42,
   "metadata": {},
   "outputs": [],
   "source": [
    "from nsepy import get_history\n",
    "\n",
    "vix = get_history(symbol=\"INDIAVIX\",\n",
    "            start=date(2000,1,1),\n",
    "            end=date(2022,6,5),\n",
    "            index=True)"
   ]
  },
  {
   "cell_type": "code",
   "execution_count": 43,
   "metadata": {},
   "outputs": [
    {
     "data": {
      "text/html": [
       "<div>\n",
       "<style scoped>\n",
       "    .dataframe tbody tr th:only-of-type {\n",
       "        vertical-align: middle;\n",
       "    }\n",
       "\n",
       "    .dataframe tbody tr th {\n",
       "        vertical-align: top;\n",
       "    }\n",
       "\n",
       "    .dataframe thead th {\n",
       "        text-align: right;\n",
       "    }\n",
       "</style>\n",
       "<table border=\"1\" class=\"dataframe\">\n",
       "  <thead>\n",
       "    <tr style=\"text-align: right;\">\n",
       "      <th></th>\n",
       "      <th>Open</th>\n",
       "      <th>High</th>\n",
       "      <th>Low</th>\n",
       "      <th>Close</th>\n",
       "      <th>Previous</th>\n",
       "      <th>Change</th>\n",
       "      <th>%Change</th>\n",
       "    </tr>\n",
       "    <tr>\n",
       "      <th>Date</th>\n",
       "      <th></th>\n",
       "      <th></th>\n",
       "      <th></th>\n",
       "      <th></th>\n",
       "      <th></th>\n",
       "      <th></th>\n",
       "      <th></th>\n",
       "    </tr>\n",
       "  </thead>\n",
       "  <tbody>\n",
       "  </tbody>\n",
       "</table>\n",
       "</div>"
      ],
      "text/plain": [
       "Empty DataFrame\n",
       "Columns: [Open, High, Low, Close, Previous, Change, %Change]\n",
       "Index: []"
      ]
     },
     "execution_count": 43,
     "metadata": {},
     "output_type": "execute_result"
    }
   ],
   "source": [
    "vix.head()"
   ]
  },
  {
   "cell_type": "code",
   "execution_count": null,
   "metadata": {},
   "outputs": [],
   "source": []
  },
  {
   "cell_type": "code",
   "execution_count": null,
   "metadata": {},
   "outputs": [],
   "source": []
  },
  {
   "cell_type": "code",
   "execution_count": null,
   "metadata": {},
   "outputs": [],
   "source": []
  },
  {
   "cell_type": "code",
   "execution_count": 23,
   "metadata": {},
   "outputs": [],
   "source": [
    "NiftyPE = pd.read_csv('NiftyPE.csv')"
   ]
  },
  {
   "cell_type": "code",
   "execution_count": 26,
   "metadata": {},
   "outputs": [],
   "source": [
    "NiftyPE.columns = ['Date', 'PE']"
   ]
  },
  {
   "cell_type": "code",
   "execution_count": 27,
   "metadata": {},
   "outputs": [
    {
     "data": {
      "text/html": [
       "<div>\n",
       "<style scoped>\n",
       "    .dataframe tbody tr th:only-of-type {\n",
       "        vertical-align: middle;\n",
       "    }\n",
       "\n",
       "    .dataframe tbody tr th {\n",
       "        vertical-align: top;\n",
       "    }\n",
       "\n",
       "    .dataframe thead th {\n",
       "        text-align: right;\n",
       "    }\n",
       "</style>\n",
       "<table border=\"1\" class=\"dataframe\">\n",
       "  <thead>\n",
       "    <tr style=\"text-align: right;\">\n",
       "      <th></th>\n",
       "      <th>Date</th>\n",
       "      <th>PE</th>\n",
       "    </tr>\n",
       "  </thead>\n",
       "  <tbody>\n",
       "    <tr>\n",
       "      <th>0</th>\n",
       "      <td>1-Jan-20</td>\n",
       "      <td>28.33</td>\n",
       "    </tr>\n",
       "    <tr>\n",
       "      <th>1</th>\n",
       "      <td>2-Jan-20</td>\n",
       "      <td>28.56</td>\n",
       "    </tr>\n",
       "    <tr>\n",
       "      <th>2</th>\n",
       "      <td>3-Jan-20</td>\n",
       "      <td>28.44</td>\n",
       "    </tr>\n",
       "    <tr>\n",
       "      <th>3</th>\n",
       "      <td>6-Jan-20</td>\n",
       "      <td>27.89</td>\n",
       "    </tr>\n",
       "    <tr>\n",
       "      <th>4</th>\n",
       "      <td>7-Jan-20</td>\n",
       "      <td>28.03</td>\n",
       "    </tr>\n",
       "  </tbody>\n",
       "</table>\n",
       "</div>"
      ],
      "text/plain": [
       "       Date     PE\n",
       "0  1-Jan-20  28.33\n",
       "1  2-Jan-20  28.56\n",
       "2  3-Jan-20  28.44\n",
       "3  6-Jan-20  27.89\n",
       "4  7-Jan-20  28.03"
      ]
     },
     "execution_count": 27,
     "metadata": {},
     "output_type": "execute_result"
    }
   ],
   "source": [
    "NiftyPE.head()"
   ]
  },
  {
   "cell_type": "code",
   "execution_count": 31,
   "metadata": {},
   "outputs": [
    {
     "data": {
      "image/png": "[encoded data removed]",
      "text/plain": [
       "<Figure size 432x288 with 1 Axes>"
      ]
     },
     "metadata": {
      "needs_background": "light"
     },
     "output_type": "display_data"
    }
   ],
   "source": [
    "fig, ax = plt.subplots()\n",
    "\n",
    "ax.plot(NiftyPE.Date, NiftyPE.PE, 'k')\n",
    "ax.grid()\n",
    "ax.margins(0) # remove default margins (matplotlib verision 2+)\n",
    "\n",
    "ax.axhspan(0, 19, facecolor='green', alpha=0.5)\n",
    "ax.axhspan(19, 33, facecolor='yellow', alpha=0.5)\n",
    "ax.axhspan(33, 50, facecolor='red', alpha=0.5)\n",
    "\n",
    "plt.show()"
   ]
  },
  {
   "cell_type": "code",
   "execution_count": null,
   "metadata": {},
   "outputs": [],
   "source": []
  },
  {
   "cell_type": "code",
   "execution_count": null,
   "metadata": {},
   "outputs": [],
   "source": []
  },
  {
   "cell_type": "code",
   "execution_count": 32,
   "metadata": {},
   "outputs": [],
   "source": [
    "import plotly.express as px"
   ]
  },
  {
   "cell_type": "code",
   "execution_count": 39,
   "metadata": {},
   "outputs": [
    {
     "data": {
      "application/vnd.plotly.v1+json": {
       "config": {
        "plotlyServerURL": "https://plot.ly"
       },
       "data": [
        {
         "hovertemplate": "Date=%{x|%B %d, %Y}<br>PE=%{y}<extra></extra>",
         "legendgroup": "",
         "line": {
          "color": "#636efa",
          "dash": "solid"
         },
         "marker": {
          "symbol": "circle"
         },
         "mode": "lines",
         "name": "",
         "orientation": "v",
         "showlegend": false,
         "type": "scatter",
         "x": [
          "1-Jan-20",
          "2-Jan-20",
          "3-Jan-20",
          "6-Jan-20",
          "7-Jan-20",
          "8-Jan-20",
          "9-Jan-20",
          "10-Jan-20",
          "13-Jan-20",
          "14-Jan-20",
          "15-Jan-20",
          "16-Jan-20",
          "17-Jan-20",
          "20-Jan-20",
          "21-Jan-20",
          "22-Jan-20",
          "23-Jan-20",
          "24-Jan-20",
          "27-Jan-20",
          "28-Jan-20",
          "29-Jan-20",
          "30-Jan-20",
          "31-Jan-20",
          "1-Feb-20",
          "3-Feb-20",
          "4-Feb-20",
          "5-Feb-20",
          "6-Feb-20",
          "7-Feb-20",
          "10-Feb-20",
          "11-Feb-20",
          "12-Feb-20",
          "13-Feb-20",
          "14-Feb-20",
          "17-Feb-20",
          "18-Feb-20",
          "19-Feb-20",
          "20-Feb-20",
          "24-Feb-20",
          "25-Feb-20",
          "26-Feb-20",
          "27-Feb-20",
          "28-Feb-20",
          "2-Mar-20",
          "3-Mar-20",
          "4-Mar-20",
          "5-Mar-20",
          "6-Mar-20",
          "9-Mar-20",
          "11-Mar-20",
          "12-Mar-20",
          "13-Mar-20",
          "16-Mar-20",
          "17-Mar-20",
          "18-Mar-20",
          "19-Mar-20",
          "20-Mar-20",
          "23-Mar-20",
          "24-Mar-20",
          "25-Mar-20",
          "26-Mar-20",
          "27-Mar-20",
          "30-Mar-20",
          "31-Mar-20",
          "1-Apr-20",
          "3-Apr-20",
          "7-Apr-20",
          "8-Apr-20",
          "9-Apr-20",
          "13-Apr-20",
          "15-Apr-20",
          "16-Apr-20",
          "17-Apr-20",
          "20-Apr-20",
          "21-Apr-20",
          "22-Apr-20",
          "23-Apr-20",
          "24-Apr-20",
          "27-Apr-20",
          "28-Apr-20",
          "29-Apr-20",
          "30-Apr-20",
          "4-May-20",
          "5-May-20",
          "6-May-20",
          "7-May-20",
          "8-May-20",
          "11-May-20",
          "12-May-20",
          "13-May-20",
          "14-May-20",
          "15-May-20",
          "18-May-20",
          "19-May-20",
          "20-May-20",
          "21-May-20",
          "22-May-20",
          "26-May-20",
          "27-May-20",
          "28-May-20",
          "29-May-20",
          "1-Jun-20",
          "2-Jun-20",
          "3-Jun-20",
          "4-Jun-20",
          "5-Jun-20",
          "8-Jun-20",
          "9-Jun-20",
          "10-Jun-20",
          "11-Jun-20",
          "12-Jun-20",
          "15-Jun-20",
          "16-Jun-20",
          "17-Jun-20",
          "18-Jun-20",
          "19-Jun-20",
          "22-Jun-20",
          "23-Jun-20",
          "24-Jun-20",
          "25-Jun-20",
          "26-Jun-20",
          "29-Jun-20",
          "30-Jun-20",
          "1-Jul-20",
          "2-Jul-20",
          "3-Jul-20",
          "6-Jul-20",
          "7-Jul-20",
          "8-Jul-20",
          "9-Jul-20",
          "10-Jul-20",
          "13-Jul-20",
          "14-Jul-20",
          "15-Jul-20",
          "16-Jul-20",
          "17-Jul-20",
          "20-Jul-20",
          "21-Jul-20",
          "22-Jul-20",
          "23-Jul-20",
          "24-Jul-20",
          "27-Jul-20",
          "28-Jul-20",
          "29-Jul-20",
          "30-Jul-20",
          "31-Jul-20",
          "3-Aug-20",
          "4-Aug-20",
          "5-Aug-20",
          "6-Aug-20",
          "7-Aug-20",
          "10-Aug-20",
          "11-Aug-20",
          "12-Aug-20",
          "13-Aug-20",
          "14-Aug-20",
          "17-Aug-20",
          "18-Aug-20",
          "19-Aug-20",
          "20-Aug-20",
          "21-Aug-20",
          "24-Aug-20",
          "25-Aug-20",
          "26-Aug-20",
          "27-Aug-20",
          "28-Aug-20",
          "31-Aug-20",
          "1-Sep-20",
          "2-Sep-20",
          "3-Sep-20",
          "4-Sep-20",
          "7-Sep-20",
          "8-Sep-20",
          "9-Sep-20",
          "10-Sep-20",
          "11-Sep-20",
          "14-Sep-20",
          "15-Sep-20",
          "16-Sep-20",
          "17-Sep-20",
          "18-Sep-20",
          "21-Sep-20",
          "22-Sep-20",
          "23-Sep-20",
          "24-Sep-20",
          "25-Sep-20",
          "28-Sep-20",
          "29-Sep-20",
          "30-Sep-20",
          "1-Oct-20",
          "5-Oct-20",
          "6-Oct-20",
          "7-Oct-20",
          "8-Oct-20",
          "9-Oct-20",
          "12-Oct-20",
          "13-Oct-20",
          "14-Oct-20",
          "15-Oct-20",
          "16-Oct-20",
          "19-Oct-20",
          "20-Oct-20",
          "21-Oct-20",
          "22-Oct-20",
          "23-Oct-20",
          "26-Oct-20",
          "27-Oct-20",
          "28-Oct-20",
          "29-Oct-20",
          "30-Oct-20",
          "2-Nov-20",
          "3-Nov-20",
          "4-Nov-20",
          "5-Nov-20",
          "6-Nov-20",
          "9-Nov-20",
          "10-Nov-20",
          "11-Nov-20",
          "12-Nov-20",
          "13-Nov-20",
          "14-Nov-20",
          "17-Nov-20",
          "18-Nov-20",
          "19-Nov-20",
          "20-Nov-20",
          "23-Nov-20",
          "24-Nov-20",
          "25-Nov-20",
          "26-Nov-20",
          "27-Nov-20",
          "1-Dec-20",
          "2-Dec-20",
          "3-Dec-20",
          "4-Dec-20",
          "7-Dec-20",
          "8-Dec-20",
          "9-Dec-20",
          "10-Dec-20",
          "11-Dec-20",
          "14-Dec-20",
          "15-Dec-20",
          "16-Dec-20",
          "17-Dec-20",
          "18-Dec-20",
          "21-Dec-20",
          "22-Dec-20",
          "23-Dec-20",
          "24-Dec-20",
          "28-Dec-20",
          "29-Dec-20",
          "30-Dec-20",
          "31-Dec-20",
          "1-Jan-21",
          "4-Jan-21",
          "5-Jan-21",
          "6-Jan-21",
          "7-Jan-21",
          "8-Jan-21",
          "11-Jan-21",
          "12-Jan-21",
          "13-Jan-21",
          "14-Jan-21",
          "15-Jan-21",
          "18-Jan-21",
          "19-Jan-21",
          "20-Jan-21",
          "21-Jan-21",
          "22-Jan-21",
          "25-Jan-21",
          "27-Jan-21",
          "28-Jan-21",
          "29-Jan-21",
          "1-Feb-21",
          "2-Feb-21",
          "3-Feb-21",
          "4-Feb-21",
          "5-Feb-21",
          "8-Feb-21",
          "9-Feb-21",
          "10-Feb-21",
          "11-Feb-21",
          "12-Feb-21",
          "15-Feb-21",
          "16-Feb-21",
          "17-Feb-21",
          "18-Feb-21",
          "19-Feb-21",
          "22-Feb-21",
          "23-Feb-21",
          "24-Feb-21",
          "25-Feb-21",
          "26-Feb-21",
          "1-Mar-21",
          "2-Mar-21",
          "3-Mar-21",
          "4-Mar-21",
          "5-Mar-21",
          "8-Mar-21",
          "9-Mar-21",
          "10-Mar-21",
          "12-Mar-21",
          "15-Mar-21",
          "16-Mar-21",
          "17-Mar-21",
          "18-Mar-21",
          "19-Mar-21",
          "22-Mar-21",
          "23-Mar-21",
          "24-Mar-21",
          "25-Mar-21",
          "26-Mar-21",
          "30-Mar-21",
          "31-Mar-21",
          "1-Apr-21",
          "5-Apr-21",
          "6-Apr-21",
          "7-Apr-21",
          "8-Apr-21",
          "9-Apr-21",
          "12-Apr-21",
          "13-Apr-21",
          "15-Apr-21",
          "16-Apr-21",
          "19-Apr-21",
          "20-Apr-21",
          "22-Apr-21",
          "23-Apr-21",
          "26-Apr-21",
          "27-Apr-21",
          "28-Apr-21",
          "29-Apr-21",
          "30-Apr-21",
          "3-May-21",
          "4-May-21",
          "5-May-21",
          "6-May-21",
          "7-May-21",
          "10-May-21",
          "11-May-21",
          "12-May-21",
          "14-May-21",
          "17-May-21",
          "18-May-21",
          "19-May-21",
          "20-May-21",
          "21-May-21",
          "24-May-21",
          "25-May-21",
          "26-May-21",
          "27-May-21",
          "28-May-21",
          "31-May-21",
          "1-Jun-21",
          "2-Jun-21",
          "3-Jun-21",
          "4-Jun-21",
          "7-Jun-21",
          "8-Jun-21",
          "9-Jun-21",
          "10-Jun-21",
          "11-Jun-21",
          "14-Jun-21",
          "15-Jun-21",
          "16-Jun-21",
          "17-Jun-21",
          "18-Jun-21",
          "21-Jun-21",
          "22-Jun-21",
          "23-Jun-21",
          "24-Jun-21",
          "25-Jun-21",
          "28-Jun-21",
          "29-Jun-21",
          "30-Jun-21",
          "1-Jul-21",
          "2-Jul-21",
          "5-Jul-21",
          "6-Jul-21",
          "7-Jul-21",
          "8-Jul-21",
          "9-Jul-21",
          "12-Jul-21",
          "13-Jul-21",
          "14-Jul-21",
          "15-Jul-21",
          "16-Jul-21",
          "19-Jul-21",
          "20-Jul-21",
          "22-Jul-21",
          "23-Jul-21",
          "26-Jul-21",
          "27-Jul-21",
          "28-Jul-21",
          "29-Jul-21",
          "30-Jul-21",
          "2-Aug-21",
          "3-Aug-21",
          "4-Aug-21",
          "5-Aug-21",
          "6-Aug-21",
          "9-Aug-21",
          "10-Aug-21",
          "11-Aug-21",
          "12-Aug-21",
          "13-Aug-21",
          "16-Aug-21",
          "17-Aug-21",
          "18-Aug-21",
          "20-Aug-21",
          "23-Aug-21",
          "24-Aug-21",
          "25-Aug-21",
          "26-Aug-21",
          "27-Aug-21",
          "30-Aug-21",
          "31-Aug-21",
          "1-Sep-21",
          "2-Sep-21",
          "3-Sep-21",
          "6-Sep-21",
          "1-Oct-21",
          "4-Oct-21",
          "5-Oct-21",
          "6-Oct-21",
          "7-Oct-21",
          "8-Oct-21",
          "11-Oct-21",
          "12-Oct-21",
          "13-Oct-21",
          "14-Oct-21",
          "18-Oct-21",
          "19-Oct-21",
          "20-Oct-21",
          "21-Oct-21",
          "22-Oct-21",
          "25-Oct-21",
          "26-Oct-21",
          "27-Oct-21",
          "28-Oct-21",
          "29-Oct-21",
          "1-Nov-21",
          "2-Nov-21",
          "3-Nov-21",
          "4-Nov-21",
          "8-Nov-21",
          "9-Nov-21",
          "10-Nov-21",
          "11-Nov-21",
          "12-Nov-21",
          "15-Nov-21",
          "16-Nov-21",
          "17-Nov-21",
          "18-Nov-21",
          "22-Nov-21",
          "23-Nov-21",
          "24-Nov-21",
          "25-Nov-21",
          "26-Nov-21",
          "29-Nov-21",
          "30-Nov-21",
          "1-Dec-21",
          "2-Dec-21",
          "3-Dec-21",
          "6-Dec-21",
          "7-Dec-21",
          "8-Dec-21",
          "9-Dec-21",
          "10-Dec-21",
          "13-Dec-21",
          "14-Dec-21",
          "15-Dec-21",
          "16-Dec-21",
          "17-Dec-21",
          "20-Dec-21",
          "21-Dec-21",
          "22-Dec-21",
          "23-Dec-21",
          "24-Dec-21",
          "27-Dec-21",
          "28-Dec-21",
          "29-Dec-21",
          "30-Dec-21",
          "31-Dec-21"
         ],
         "xaxis": "x",
         "y": [
          28.33,
          28.56,
          28.44,
          27.89,
          28.03,
          27.97,
          28.41,
          28.51,
          28.67,
          28.67,
          28.63,
          28.62,
          28.61,
          28,
          27.84,
          27.73,
          27.88,
          28.1,
          27.73,
          26.65,
          26.81,
          26.57,
          26.41,
          25.75,
          25.9,
          26.57,
          27.05,
          27.16,
          27.03,
          26.89,
          27.21,
          27.65,
          27.59,
          27.45,
          27.42,
          27.29,
          27.6,
          27.5,
          26.92,
          26.85,
          26.58,
          26.48,
          25.49,
          25.34,
          25.73,
          25.61,
          25.65,
          25.01,
          23.79,
          23.8,
          21.83,
          22.66,
          20.93,
          20.41,
          19.27,
          18.63,
          19.72,
          17.15,
          17.58,
          18.74,
          19.47,
          19.52,
          18.66,
          19.38,
          18.6,
          18.22,
          19.81,
          19.72,
          20.53,
          20.27,
          20.11,
          20.25,
          20.85,
          20.75,
          20.1,
          20.56,
          20.84,
          20.48,
          20.77,
          21,
          21.65,
          22.35,
          21.39,
          21.19,
          21.34,
          21.18,
          21.28,
          21.21,
          21.11,
          21.51,
          21,
          20.98,
          20.26,
          20.39,
          21.16,
          21.14,
          20.97,
          21.1,
          21.77,
          22.17,
          22.38,
          22.96,
          23.31,
          23.5,
          23.42,
          23.91,
          23.97,
          24.25,
          24.41,
          23.9,
          24.08,
          23.69,
          24.31,
          24.59,
          25.11,
          25.49,
          25.66,
          26.05,
          25.63,
          25.59,
          26.67,
          26.49,
          26.32,
          26.97,
          27.63,
          27.78,
          28.13,
          28.22,
          27.98,
          28.26,
          28.27,
          28.36,
          27.85,
          27.88,
          28.19,
          28.55,
          28.86,
          29.01,
          28.93,
          29.2,
          29.35,
          29.18,
          29.87,
          29.59,
          29.46,
          30.2,
          29.7,
          30.39,
          30.41,
          30.68,
          30.72,
          31.23,
          31.37,
          31.33,
          31.42,
          31.09,
          31.64,
          32.03,
          32.09,
          31.91,
          32.08,
          32.41,
          32.43,
          32.64,
          32.67,
          32.92,
          32.29,
          32.53,
          32.71,
          33.04,
          32.49,
          32.55,
          32.44,
          32.33,
          32.82,
          32.86,
          32.79,
          33.03,
          33.26,
          33.01,
          32.98,
          32.25,
          31.97,
          31.91,
          30.97,
          32.12,
          32.63,
          32.62,
          32.69,
          33.18,
          33.43,
          33.9,
          34.12,
          34.4,
          34.71,
          34.76,
          34.77,
          34.87,
          34.03,
          34.13,
          34.43,
          34.28,
          34.4,
          34.27,
          34.37,
          33.95,
          34.49,
          33.94,
          31.56,
          31.9,
          31.43,
          31.82,
          32.27,
          32.84,
          33.09,
          33.62,
          34.18,
          34.5,
          34.48,
          34.57,
          34.73,
          34.93,
          35.59,
          35.12,
          35.36,
          35.55,
          35.9,
          35.36,
          35.71,
          35.66,
          36.05,
          36.06,
          36.12,
          36.46,
          36.73,
          36.83,
          37.2,
          37.06,
          37.16,
          37.28,
          37.31,
          37.63,
          37.79,
          37.84,
          36.65,
          37.03,
          37.4,
          37.81,
          38.15,
          38.31,
          38.45,
          38.45,
          38.55,
          38.87,
          39.05,
          38.9,
          38.88,
          39.45,
          39.72,
          39.94,
          39.94,
          40.03,
          39.34,
          38.92,
          39.22,
          39.55,
          39.41,
          38.86,
          38.42,
          37.52,
          36.96,
          36.57,
          38.26,
          38.79,
          39.16,
          40.81,
          41.46,
          42,
          41.97,
          41.81,
          41.65,
          41.58,
          41.59,
          41.78,
          41.49,
          41.26,
          40.88,
          40.05,
          40.14,
          40.88,
          41.2,
          39.65,
          40.28,
          40.71,
          41.6,
          41.15,
          40.76,
          40.74,
          41.12,
          41.33,
          40.94,
          40.66,
          40.61,
          40.1,
          39.65,
          40.16,
          40.14,
          40.35,
          39.63,
          39.02,
          39.51,
          40.43,
          33.2,
          33.6,
          33.08,
          33.18,
          33.49,
          33.61,
          33.53,
          32.34,
          32.72,
          32.78,
          32.84,
          32.12,
          31.97,
          32.22,
          32.07,
          32.39,
          32.28,
          32.72,
          32.79,
          32.21,
          31.54,
          30.47,
          30.65,
          30.82,
          30.23,
          30.43,
          30.14,
          29.83,
          29.79,
          30.2,
          30.53,
          29.98,
          29.59,
          29.48,
          29.52,
          29.25,
          29.41,
          29.48,
          28.98,
          29.22,
          28.87,
          28.88,
          29.1,
          29.06,
          29.21,
          29.19,
          28.99,
          29.18,
          29.3,
          29.32,
          29.43,
          29.24,
          29.1,
          29.08,
          29.19,
          29.05,
          28.89,
          29.08,
          29.21,
          29.12,
          29,
          28.33,
          28.26,
          28.33,
          28.53,
          28.5,
          28.62,
          28.34,
          28.27,
          28.21,
          28.43,
          28.5,
          28.63,
          28.53,
          28.23,
          27.89,
          28.22,
          28.28,
          28.13,
          27.45,
          26.98,
          27.08,
          27.01,
          27.21,
          27.31,
          27.39,
          26.72,
          26.51,
          26.53,
          26.35,
          26.34,
          26.25,
          26.51,
          25.62,
          25.46,
          25.39,
          25.21,
          25.28,
          25.47,
          25.49,
          25.49,
          25.6,
          25.94,
          26.25,
          26.17,
          26.41,
          26.54,
          26.63,
          26.84,
          27.09,
          27.29,
          27.02,
          27.24,
          27.4,
          27.48,
          27.49,
          27.75,
          28.02,
          28.17,
          27.97,
          27.72,
          27.58,
          27.48,
          27.29,
          27.16,
          27.06,
          26.39,
          25.71,
          26.07,
          25.95,
          25.98,
          26.11,
          26.25,
          26.06,
          26.03,
          25.65,
          25.98,
          26,
          24.83,
          24.69,
          24.51,
          24.03,
          24.15,
          24.03,
          24.19,
          23.49,
          23.53,
          23.43,
          23.68,
          24.01,
          23.73,
          23.33,
          23.69,
          24.1,
          24.16,
          24.15,
          23.96,
          23.9,
          23.75,
          23.79,
          23.43,
          22.92,
          23.13,
          23.39,
          23.55,
          23.45,
          23.57,
          23.77,
          23.74,
          23.73,
          24.11
         ],
         "yaxis": "y"
        }
       ],
       "layout": {
        "legend": {
         "tracegroupgap": 0
        },
        "shapes": [
         {
          "fillcolor": "red",
          "line": {
           "width": 0
          },
          "opacity": 0.2,
          "type": "rect",
          "x0": 0,
          "x1": 1,
          "xref": "x domain",
          "y0": 0,
          "y1": 20,
          "yref": "y"
         },
         {
          "fillcolor": "green",
          "line": {
           "width": 0
          },
          "opacity": 0.2,
          "type": "rect",
          "x0": 0,
          "x1": 1,
          "xref": "x domain",
          "y0": 20,
          "y1": 30,
          "yref": "y"
         }
        ],
        "template": {
         "data": {
          "bar": [
           {
            "error_x": {
             "color": "#2a3f5f"
            },
            "error_y": {
             "color": "#2a3f5f"
            },
            "marker": {
             "line": {
              "color": "#E5ECF6",
              "width": 0.5
             },
             "pattern": {
              "fillmode": "overlay",
              "size": 10,
              "solidity": 0.2
             }
            },
            "type": "bar"
           }
          ],
          "barpolar": [
           {
            "marker": {
             "line": {
              "color": "#E5ECF6",
              "width": 0.5
             },
             "pattern": {
              "fillmode": "overlay",
              "size": 10,
              "solidity": 0.2
             }
            },
            "type": "barpolar"
           }
          ],
          "carpet": [
           {
            "aaxis": {
             "endlinecolor": "#2a3f5f",
             "gridcolor": "white",
             "linecolor": "white",
             "minorgridcolor": "white",
             "startlinecolor": "#2a3f5f"
            },
            "baxis": {
             "endlinecolor": "#2a3f5f",
             "gridcolor": "white",
             "linecolor": "white",
             "minorgridcolor": "white",
             "startlinecolor": "#2a3f5f"
            },
            "type": "carpet"
           }
          ],
          "choropleth": [
           {
            "colorbar": {
             "outlinewidth": 0,
             "ticks": ""
            },
            "type": "choropleth"
           }
          ],
          "contour": [
           {
            "colorbar": {
             "outlinewidth": 0,
             "ticks": ""
            },
            "colorscale": [
             [
              0,
              "#0d0887"
             ],
             [
              0.1111111111111111,
              "#46039f"
             ],
             [
              0.2222222222222222,
              "#7201a8"
             ],
             [
              0.3333333333333333,
              "#9c179e"
             ],
             [
              0.4444444444444444,
              "#bd3786"
             ],
             [
              0.5555555555555556,
              "#d8576b"
             ],
             [
              0.6666666666666666,
              "#ed7953"
             ],
             [
              0.7777777777777778,
              "#fb9f3a"
             ],
             [
              0.8888888888888888,
              "#fdca26"
             ],
             [
              1,
              "#f0f921"
             ]
            ],
            "type": "contour"
           }
          ],
          "contourcarpet": [
           {
            "colorbar": {
             "outlinewidth": 0,
             "ticks": ""
            },
            "type": "contourcarpet"
           }
          ],
          "heatmap": [
           {
            "colorbar": {
             "outlinewidth": 0,
             "ticks": ""
            },
            "colorscale": [
             [
              0,
              "#0d0887"
             ],
             [
              0.1111111111111111,
              "#46039f"
             ],
             [
              0.2222222222222222,
              "#7201a8"
             ],
             [
              0.3333333333333333,
              "#9c179e"
             ],
             [
              0.4444444444444444,
              "#bd3786"
             ],
             [
              0.5555555555555556,
              "#d8576b"
             ],
             [
              0.6666666666666666,
              "#ed7953"
             ],
             [
              0.7777777777777778,
              "#fb9f3a"
             ],
             [
              0.8888888888888888,
              "#fdca26"
             ],
             [
              1,
              "#f0f921"
             ]
            ],
            "type": "heatmap"
           }
          ],
          "heatmapgl": [
           {
            "colorbar": {
             "outlinewidth": 0,
             "ticks": ""
            },
            "colorscale": [
             [
              0,
              "#0d0887"
             ],
             [
              0.1111111111111111,
              "#46039f"
             ],
             [
              0.2222222222222222,
              "#7201a8"
             ],
             [
              0.3333333333333333,
              "#9c179e"
             ],
             [
              0.4444444444444444,
              "#bd3786"
             ],
             [
              0.5555555555555556,
              "#d8576b"
             ],
             [
              0.6666666666666666,
              "#ed7953"
             ],
             [
              0.7777777777777778,
              "#fb9f3a"
             ],
             [
              0.8888888888888888,
              "#fdca26"
             ],
             [
              1,
              "#f0f921"
             ]
            ],
            "type": "heatmapgl"
           }
          ],
          "histogram": [
           {
            "marker": {
             "pattern": {
              "fillmode": "overlay",
              "size": 10,
              "solidity": 0.2
             }
            },
            "type": "histogram"
           }
          ],
          "histogram2d": [
           {
            "colorbar": {
             "outlinewidth": 0,
             "ticks": ""
            },
            "colorscale": [
             [
              0,
              "#0d0887"
             ],
             [
              0.1111111111111111,
              "#46039f"
             ],
             [
              0.2222222222222222,
              "#7201a8"
             ],
             [
              0.3333333333333333,
              "#9c179e"
             ],
             [
              0.4444444444444444,
              "#bd3786"
             ],
             [
              0.5555555555555556,
              "#d8576b"
             ],
             [
              0.6666666666666666,
              "#ed7953"
             ],
             [
              0.7777777777777778,
              "#fb9f3a"
             ],
             [
              0.8888888888888888,
              "#fdca26"
             ],
             [
              1,
              "#f0f921"
             ]
            ],
            "type": "histogram2d"
           }
          ],
          "histogram2dcontour": [
           {
            "colorbar": {
             "outlinewidth": 0,
             "ticks": ""
            },
            "colorscale": [
             [
              0,
              "#0d0887"
             ],
             [
              0.1111111111111111,
              "#46039f"
             ],
             [
              0.2222222222222222,
              "#7201a8"
             ],
             [
              0.3333333333333333,
              "#9c179e"
             ],
             [
              0.4444444444444444,
              "#bd3786"
             ],
             [
              0.5555555555555556,
              "#d8576b"
             ],
             [
              0.6666666666666666,
              "#ed7953"
             ],
             [
              0.7777777777777778,
              "#fb9f3a"
             ],
             [
              0.8888888888888888,
              "#fdca26"
             ],
             [
              1,
              "#f0f921"
             ]
            ],
            "type": "histogram2dcontour"
           }
          ],
          "mesh3d": [
           {
            "colorbar": {
             "outlinewidth": 0,
             "ticks": ""
            },
            "type": "mesh3d"
           }
          ],
          "parcoords": [
           {
            "line": {
             "colorbar": {
              "outlinewidth": 0,
              "ticks": ""
             }
            },
            "type": "parcoords"
           }
          ],
          "pie": [
           {
            "automargin": true,
            "type": "pie"
           }
          ],
          "scatter": [
           {
            "fillpattern": {
             "fillmode": "overlay",
             "size": 10,
             "solidity": 0.2
            },
            "type": "scatter"
           }
          ],
          "scatter3d": [
           {
            "line": {
             "colorbar": {
              "outlinewidth": 0,
              "ticks": ""
             }
            },
            "marker": {
             "colorbar": {
              "outlinewidth": 0,
              "ticks": ""
             }
            },
            "type": "scatter3d"
           }
          ],
          "scattercarpet": [
           {
            "marker": {
             "colorbar": {
              "outlinewidth": 0,
              "ticks": ""
             }
            },
            "type": "scattercarpet"
           }
          ],
          "scattergeo": [
           {
            "marker": {
             "colorbar": {
              "outlinewidth": 0,
              "ticks": ""
             }
            },
            "type": "scattergeo"
           }
          ],
          "scattergl": [
           {
            "marker": {
             "colorbar": {
              "outlinewidth": 0,
              "ticks": ""
             }
            },
            "type": "scattergl"
           }
          ],
          "scattermapbox": [
           {
            "marker": {
             "colorbar": {
              "outlinewidth": 0,
              "ticks": ""
             }
            },
            "type": "scattermapbox"
           }
          ],
          "scatterpolar": [
           {
            "marker": {
             "colorbar": {
              "outlinewidth": 0,
              "ticks": ""
             }
            },
            "type": "scatterpolar"
           }
          ],
          "scatterpolargl": [
           {
            "marker": {
             "colorbar": {
              "outlinewidth": 0,
              "ticks": ""
             }
            },
            "type": "scatterpolargl"
           }
          ],
          "scatterternary": [
           {
            "marker": {
             "colorbar": {
              "outlinewidth": 0,
              "ticks": ""
             }
            },
            "type": "scatterternary"
           }
          ],
          "surface": [
           {
            "colorbar": {
             "outlinewidth": 0,
             "ticks": ""
            },
            "colorscale": [
             [
              0,
              "#0d0887"
             ],
             [
              0.1111111111111111,
              "#46039f"
             ],
             [
              0.2222222222222222,
              "#7201a8"
             ],
             [
              0.3333333333333333,
              "#9c179e"
             ],
             [
              0.4444444444444444,
              "#bd3786"
             ],
             [
              0.5555555555555556,
              "#d8576b"
             ],
             [
              0.6666666666666666,
              "#ed7953"
             ],
             [
              0.7777777777777778,
              "#fb9f3a"
             ],
             [
              0.8888888888888888,
              "#fdca26"
             ],
             [
              1,
              "#f0f921"
             ]
            ],
            "type": "surface"
           }
          ],
          "table": [
           {
            "cells": {
             "fill": {
              "color": "#EBF0F8"
             },
             "line": {
              "color": "white"
             }
            },
            "header": {
             "fill": {
              "color": "#C8D4E3"
             },
             "line": {
              "color": "white"
             }
            },
            "type": "table"
           }
          ]
         },
         "layout": {
          "annotationdefaults": {
           "arrowcolor": "#2a3f5f",
           "arrowhead": 0,
           "arrowwidth": 1
          },
          "autotypenumbers": "strict",
          "coloraxis": {
           "colorbar": {
            "outlinewidth": 0,
            "ticks": ""
           }
          },
          "colorscale": {
           "diverging": [
            [
             0,
             "#8e0152"
            ],
            [
             0.1,
             "#c51b7d"
            ],
            [
             0.2,
             "#de77ae"
            ],
            [
             0.3,
             "#f1b6da"
            ],
            [
             0.4,
             "#fde0ef"
            ],
            [
             0.5,
             "#f7f7f7"
            ],
            [
             0.6,
             "#e6f5d0"
            ],
            [
             0.7,
             "#b8e186"
            ],
            [
             0.8,
             "#7fbc41"
            ],
            [
             0.9,
             "#4d9221"
            ],
            [
             1,
             "#276419"
            ]
           ],
           "sequential": [
            [
             0,
             "#0d0887"
            ],
            [
             0.1111111111111111,
             "#46039f"
            ],
            [
             0.2222222222222222,
             "#7201a8"
            ],
            [
             0.3333333333333333,
             "#9c179e"
            ],
            [
             0.4444444444444444,
             "#bd3786"
            ],
            [
             0.5555555555555556,
             "#d8576b"
            ],
            [
             0.6666666666666666,
             "#ed7953"
            ],
            [
             0.7777777777777778,
             "#fb9f3a"
            ],
            [
             0.8888888888888888,
             "#fdca26"
            ],
            [
             1,
             "#f0f921"
            ]
           ],
           "sequentialminus": [
            [
             0,
             "#0d0887"
            ],
            [
             0.1111111111111111,
             "#46039f"
            ],
            [
             0.2222222222222222,
             "#7201a8"
            ],
            [
             0.3333333333333333,
             "#9c179e"
            ],
            [
             0.4444444444444444,
             "#bd3786"
            ],
            [
             0.5555555555555556,
             "#d8576b"
            ],
            [
             0.6666666666666666,
             "#ed7953"
            ],
            [
             0.7777777777777778,
             "#fb9f3a"
            ],
            [
             0.8888888888888888,
             "#fdca26"
            ],
            [
             1,
             "#f0f921"
            ]
           ]
          },
          "colorway": [
           "#636efa",
           "#EF553B",
           "#00cc96",
           "#ab63fa",
           "#FFA15A",
           "#19d3f3",
           "#FF6692",
           "#B6E880",
           "#FF97FF",
           "#FECB52"
          ],
          "font": {
           "color": "#2a3f5f"
          },
          "geo": {
           "bgcolor": "white",
           "lakecolor": "white",
           "landcolor": "#E5ECF6",
           "showlakes": true,
           "showland": true,
           "subunitcolor": "white"
          },
          "hoverlabel": {
           "align": "left"
          },
          "hovermode": "closest",
          "mapbox": {
           "style": "light"
          },
          "paper_bgcolor": "white",
          "plot_bgcolor": "#E5ECF6",
          "polar": {
           "angularaxis": {
            "gridcolor": "white",
            "linecolor": "white",
            "ticks": ""
           },
           "bgcolor": "#E5ECF6",
           "radialaxis": {
            "gridcolor": "white",
            "linecolor": "white",
            "ticks": ""
           }
          },
          "scene": {
           "xaxis": {
            "backgroundcolor": "#E5ECF6",
            "gridcolor": "white",
            "gridwidth": 2,
            "linecolor": "white",
            "showbackground": true,
            "ticks": "",
            "zerolinecolor": "white"
           },
           "yaxis": {
            "backgroundcolor": "#E5ECF6",
            "gridcolor": "white",
            "gridwidth": 2,
            "linecolor": "white",
            "showbackground": true,
            "ticks": "",
            "zerolinecolor": "white"
           },
           "zaxis": {
            "backgroundcolor": "#E5ECF6",
            "gridcolor": "white",
            "gridwidth": 2,
            "linecolor": "white",
            "showbackground": true,
            "ticks": "",
            "zerolinecolor": "white"
           }
          },
          "shapedefaults": {
           "line": {
            "color": "#2a3f5f"
           }
          },
          "ternary": {
           "aaxis": {
            "gridcolor": "white",
            "linecolor": "white",
            "ticks": ""
           },
           "baxis": {
            "gridcolor": "white",
            "linecolor": "white",
            "ticks": ""
           },
           "bgcolor": "#E5ECF6",
           "caxis": {
            "gridcolor": "white",
            "linecolor": "white",
            "ticks": ""
           }
          },
          "title": {
           "x": 0.05
          },
          "xaxis": {
           "automargin": true,
           "gridcolor": "white",
           "linecolor": "white",
           "ticks": "",
           "title": {
            "standoff": 15
           },
           "zerolinecolor": "white",
           "zerolinewidth": 2
          },
          "yaxis": {
           "automargin": true,
           "gridcolor": "white",
           "linecolor": "white",
           "ticks": "",
           "title": {
            "standoff": 15
           },
           "zerolinecolor": "white",
           "zerolinewidth": 2
          }
         }
        },
        "title": {
         "text": "Nifty Close Price"
        },
        "xaxis": {
         "anchor": "y",
         "domain": [
          0,
          1
         ],
         "title": {
          "text": "Date"
         }
        },
        "yaxis": {
         "anchor": "x",
         "domain": [
          0,
          1
         ],
         "title": {
          "text": "PE"
         }
        }
       }
      },
      "text/html": [
       "<div>                            <div id=\"142cbda8-06b4-4138-ac9d-152d9250859a\" class=\"plotly-graph-div\" style=\"height:525px; width:100%;\"></div>            <script type=\"text/javascript\">                require([\"plotly\"], function(Plotly) {                    window.PLOTLYENV=window.PLOTLYENV || {};                                    if (document.getElementById(\"142cbda8-06b4-4138-ac9d-152d9250859a\")) {                    Plotly.newPlot(                        \"142cbda8-06b4-4138-ac9d-152d9250859a\",                        [{\"hovertemplate\":\"Date=%{x|%B %d, %Y}<br>PE=%{y}<extra></extra>\",\"legendgroup\":\"\",\"line\":{\"color\":\"#636efa\",\"dash\":\"solid\"},\"marker\":{\"symbol\":\"circle\"},\"mode\":\"lines\",\"name\":\"\",\"orientation\":\"v\",\"showlegend\":false,\"x\":[\"1-Jan-20\",\"2-Jan-20\",\"3-Jan-20\",\"6-Jan-20\",\"7-Jan-20\",\"8-Jan-20\",\"9-Jan-20\",\"10-Jan-20\",\"13-Jan-20\",\"14-Jan-20\",\"15-Jan-20\",\"16-Jan-20\",\"17-Jan-20\",\"20-Jan-20\",\"21-Jan-20\",\"22-Jan-20\",\"23-Jan-20\",\"24-Jan-20\",\"27-Jan-20\",\"28-Jan-20\",\"29-Jan-20\",\"30-Jan-20\",\"31-Jan-20\",\"1-Feb-20\",\"3-Feb-20\",\"4-Feb-20\",\"5-Feb-20\",\"6-Feb-20\",\"7-Feb-20\",\"10-Feb-20\",\"11-Feb-20\",\"12-Feb-20\",\"13-Feb-20\",\"14-Feb-20\",\"17-Feb-20\",\"18-Feb-20\",\"19-Feb-20\",\"20-Feb-20\",\"24-Feb-20\",\"25-Feb-20\",\"26-Feb-20\",\"27-Feb-20\",\"28-Feb-20\",\"2-Mar-20\",\"3-Mar-20\",\"4-Mar-20\",\"5-Mar-20\",\"6-Mar-20\",\"9-Mar-20\",\"11-Mar-20\",\"12-Mar-20\",\"13-Mar-20\",\"16-Mar-20\",\"17-Mar-20\",\"18-Mar-20\",\"19-Mar-20\",\"20-Mar-20\",\"23-Mar-20\",\"24-Mar-20\",\"25-Mar-20\",\"26-Mar-20\",\"27-Mar-20\",\"30-Mar-20\",\"31-Mar-20\",\"1-Apr-20\",\"3-Apr-20\",\"7-Apr-20\",\"8-Apr-20\",\"9-Apr-20\",\"13-Apr-20\",\"15-Apr-20\",\"16-Apr-20\",\"17-Apr-20\",\"20-Apr-20\",\"21-Apr-20\",\"22-Apr-20\",\"23-Apr-20\",\"24-Apr-20\",\"27-Apr-20\",\"28-Apr-20\",\"29-Apr-20\",\"30-Apr-20\",\"4-May-20\",\"5-May-20\",\"6-May-20\",\"7-May-20\",\"8-May-20\",\"11-May-20\",\"12-May-20\",\"13-May-20\",\"14-May-20\",\"15-May-20\",\"18-May-20\",\"19-May-20\",\"20-May-20\",\"21-May-20\",\"22-May-20\",\"26-May-20\",\"27-May-20\",\"28-May-20\",\"29-May-20\",\"1-Jun-20\",\"2-Jun-20\",\"3-Jun-20\",\"4-Jun-20\",\"5-Jun-20\",\"8-Jun-20\",\"9-Jun-20\",\"10-Jun-20\",\"11-Jun-20\",\"12-Jun-20\",\"15-Jun-20\",\"16-Jun-20\",\"17-Jun-20\",\"18-Jun-20\",\"19-Jun-20\",\"22-Jun-20\",\"23-Jun-20\",\"24-Jun-20\",\"25-Jun-20\",\"26-Jun-20\",\"29-Jun-20\",\"30-Jun-20\",\"1-Jul-20\",\"2-Jul-20\",\"3-Jul-20\",\"6-Jul-20\",\"7-Jul-20\",\"8-Jul-20\",\"9-Jul-20\",\"10-Jul-20\",\"13-Jul-20\",\"14-Jul-20\",\"15-Jul-20\",\"16-Jul-20\",\"17-Jul-20\",\"20-Jul-20\",\"21-Jul-20\",\"22-Jul-20\",\"23-Jul-20\",\"24-Jul-20\",\"27-Jul-20\",\"28-Jul-20\",\"29-Jul-20\",\"30-Jul-20\",\"31-Jul-20\",\"3-Aug-20\",\"4-Aug-20\",\"5-Aug-20\",\"6-Aug-20\",\"7-Aug-20\",\"10-Aug-20\",\"11-Aug-20\",\"12-Aug-20\",\"13-Aug-20\",\"14-Aug-20\",\"17-Aug-20\",\"18-Aug-20\",\"19-Aug-20\",\"20-Aug-20\",\"21-Aug-20\",\"24-Aug-20\",\"25-Aug-20\",\"26-Aug-20\",\"27-Aug-20\",\"28-Aug-20\",\"31-Aug-20\",\"1-Sep-20\",\"2-Sep-20\",\"3-Sep-20\",\"4-Sep-20\",\"7-Sep-20\",\"8-Sep-20\",\"9-Sep-20\",\"10-Sep-20\",\"11-Sep-20\",\"14-Sep-20\",\"15-Sep-20\",\"16-Sep-20\",\"17-Sep-20\",\"18-Sep-20\",\"21-Sep-20\",\"22-Sep-20\",\"23-Sep-20\",\"24-Sep-20\",\"25-Sep-20\",\"28-Sep-20\",\"29-Sep-20\",\"30-Sep-20\",\"1-Oct-20\",\"5-Oct-20\",\"6-Oct-20\",\"7-Oct-20\",\"8-Oct-20\",\"9-Oct-20\",\"12-Oct-20\",\"13-Oct-20\",\"14-Oct-20\",\"15-Oct-20\",\"16-Oct-20\",\"19-Oct-20\",\"20-Oct-20\",\"21-Oct-20\",\"22-Oct-20\",\"23-Oct-20\",\"26-Oct-20\",\"27-Oct-20\",\"28-Oct-20\",\"29-Oct-20\",\"30-Oct-20\",\"2-Nov-20\",\"3-Nov-20\",\"4-Nov-20\",\"5-Nov-20\",\"6-Nov-20\",\"9-Nov-20\",\"10-Nov-20\",\"11-Nov-20\",\"12-Nov-20\",\"13-Nov-20\",\"14-Nov-20\",\"17-Nov-20\",\"18-Nov-20\",\"19-Nov-20\",\"20-Nov-20\",\"23-Nov-20\",\"24-Nov-20\",\"25-Nov-20\",\"26-Nov-20\",\"27-Nov-20\",\"1-Dec-20\",\"2-Dec-20\",\"3-Dec-20\",\"4-Dec-20\",\"7-Dec-20\",\"8-Dec-20\",\"9-Dec-20\",\"10-Dec-20\",\"11-Dec-20\",\"14-Dec-20\",\"15-Dec-20\",\"16-Dec-20\",\"17-Dec-20\",\"18-Dec-20\",\"21-Dec-20\",\"22-Dec-20\",\"23-Dec-20\",\"24-Dec-20\",\"28-Dec-20\",\"29-Dec-20\",\"30-Dec-20\",\"31-Dec-20\",\"1-Jan-21\",\"4-Jan-21\",\"5-Jan-21\",\"6-Jan-21\",\"7-Jan-21\",\"8-Jan-21\",\"11-Jan-21\",\"12-Jan-21\",\"13-Jan-21\",\"14-Jan-21\",\"15-Jan-21\",\"18-Jan-21\",\"19-Jan-21\",\"20-Jan-21\",\"21-Jan-21\",\"22-Jan-21\",\"25-Jan-21\",\"27-Jan-21\",\"28-Jan-21\",\"29-Jan-21\",\"1-Feb-21\",\"2-Feb-21\",\"3-Feb-21\",\"4-Feb-21\",\"5-Feb-21\",\"8-Feb-21\",\"9-Feb-21\",\"10-Feb-21\",\"11-Feb-21\",\"12-Feb-21\",\"15-Feb-21\",\"16-Feb-21\",\"17-Feb-21\",\"18-Feb-21\",\"19-Feb-21\",\"22-Feb-21\",\"23-Feb-21\",\"24-Feb-21\",\"25-Feb-21\",\"26-Feb-21\",\"1-Mar-21\",\"2-Mar-21\",\"3-Mar-21\",\"4-Mar-21\",\"5-Mar-21\",\"8-Mar-21\",\"9-Mar-21\",\"10-Mar-21\",\"12-Mar-21\",\"15-Mar-21\",\"16-Mar-21\",\"17-Mar-21\",\"18-Mar-21\",\"19-Mar-21\",\"22-Mar-21\",\"23-Mar-21\",\"24-Mar-21\",\"25-Mar-21\",\"26-Mar-21\",\"30-Mar-21\",\"31-Mar-21\",\"1-Apr-21\",\"5-Apr-21\",\"6-Apr-21\",\"7-Apr-21\",\"8-Apr-21\",\"9-Apr-21\",\"12-Apr-21\",\"13-Apr-21\",\"15-Apr-21\",\"16-Apr-21\",\"19-Apr-21\",\"20-Apr-21\",\"22-Apr-21\",\"23-Apr-21\",\"26-Apr-21\",\"27-Apr-21\",\"28-Apr-21\",\"29-Apr-21\",\"30-Apr-21\",\"3-May-21\",\"4-May-21\",\"5-May-21\",\"6-May-21\",\"7-May-21\",\"10-May-21\",\"11-May-21\",\"12-May-21\",\"14-May-21\",\"17-May-21\",\"18-May-21\",\"19-May-21\",\"20-May-21\",\"21-May-21\",\"24-May-21\",\"25-May-21\",\"26-May-21\",\"27-May-21\",\"28-May-21\",\"31-May-21\",\"1-Jun-21\",\"2-Jun-21\",\"3-Jun-21\",\"4-Jun-21\",\"7-Jun-21\",\"8-Jun-21\",\"9-Jun-21\",\"10-Jun-21\",\"11-Jun-21\",\"14-Jun-21\",\"15-Jun-21\",\"16-Jun-21\",\"17-Jun-21\",\"18-Jun-21\",\"21-Jun-21\",\"22-Jun-21\",\"23-Jun-21\",\"24-Jun-21\",\"25-Jun-21\",\"28-Jun-21\",\"29-Jun-21\",\"30-Jun-21\",\"1-Jul-21\",\"2-Jul-21\",\"5-Jul-21\",\"6-Jul-21\",\"7-Jul-21\",\"8-Jul-21\",\"9-Jul-21\",\"12-Jul-21\",\"13-Jul-21\",\"14-Jul-21\",\"15-Jul-21\",\"16-Jul-21\",\"19-Jul-21\",\"20-Jul-21\",\"22-Jul-21\",\"23-Jul-21\",\"26-Jul-21\",\"27-Jul-21\",\"28-Jul-21\",\"29-Jul-21\",\"30-Jul-21\",\"2-Aug-21\",\"3-Aug-21\",\"4-Aug-21\",\"5-Aug-21\",\"6-Aug-21\",\"9-Aug-21\",\"10-Aug-21\",\"11-Aug-21\",\"12-Aug-21\",\"13-Aug-21\",\"16-Aug-21\",\"17-Aug-21\",\"18-Aug-21\",\"20-Aug-21\",\"23-Aug-21\",\"24-Aug-21\",\"25-Aug-21\",\"26-Aug-21\",\"27-Aug-21\",\"30-Aug-21\",\"31-Aug-21\",\"1-Sep-21\",\"2-Sep-21\",\"3-Sep-21\",\"6-Sep-21\",\"1-Oct-21\",\"4-Oct-21\",\"5-Oct-21\",\"6-Oct-21\",\"7-Oct-21\",\"8-Oct-21\",\"11-Oct-21\",\"12-Oct-21\",\"13-Oct-21\",\"14-Oct-21\",\"18-Oct-21\",\"19-Oct-21\",\"20-Oct-21\",\"21-Oct-21\",\"22-Oct-21\",\"25-Oct-21\",\"26-Oct-21\",\"27-Oct-21\",\"28-Oct-21\",\"29-Oct-21\",\"1-Nov-21\",\"2-Nov-21\",\"3-Nov-21\",\"4-Nov-21\",\"8-Nov-21\",\"9-Nov-21\",\"10-Nov-21\",\"11-Nov-21\",\"12-Nov-21\",\"15-Nov-21\",\"16-Nov-21\",\"17-Nov-21\",\"18-Nov-21\",\"22-Nov-21\",\"23-Nov-21\",\"24-Nov-21\",\"25-Nov-21\",\"26-Nov-21\",\"29-Nov-21\",\"30-Nov-21\",\"1-Dec-21\",\"2-Dec-21\",\"3-Dec-21\",\"6-Dec-21\",\"7-Dec-21\",\"8-Dec-21\",\"9-Dec-21\",\"10-Dec-21\",\"13-Dec-21\",\"14-Dec-21\",\"15-Dec-21\",\"16-Dec-21\",\"17-Dec-21\",\"20-Dec-21\",\"21-Dec-21\",\"22-Dec-21\",\"23-Dec-21\",\"24-Dec-21\",\"27-Dec-21\",\"28-Dec-21\",\"29-Dec-21\",\"30-Dec-21\",\"31-Dec-21\"],\"xaxis\":\"x\",\"y\":[28.33,28.56,28.44,27.89,28.03,27.97,28.41,28.51,28.67,28.67,28.63,28.62,28.61,28.0,27.84,27.73,27.88,28.1,27.73,26.65,26.81,26.57,26.41,25.75,25.9,26.57,27.05,27.16,27.03,26.89,27.21,27.65,27.59,27.45,27.42,27.29,27.6,27.5,26.92,26.85,26.58,26.48,25.49,25.34,25.73,25.61,25.65,25.01,23.79,23.8,21.83,22.66,20.93,20.41,19.27,18.63,19.72,17.15,17.58,18.74,19.47,19.52,18.66,19.38,18.6,18.22,19.81,19.72,20.53,20.27,20.11,20.25,20.85,20.75,20.1,20.56,20.84,20.48,20.77,21.0,21.65,22.35,21.39,21.19,21.34,21.18,21.28,21.21,21.11,21.51,21.0,20.98,20.26,20.39,21.16,21.14,20.97,21.1,21.77,22.17,22.38,22.96,23.31,23.5,23.42,23.91,23.97,24.25,24.41,23.9,24.08,23.69,24.31,24.59,25.11,25.49,25.66,26.05,25.63,25.59,26.67,26.49,26.32,26.97,27.63,27.78,28.13,28.22,27.98,28.26,28.27,28.36,27.85,27.88,28.19,28.55,28.86,29.01,28.93,29.2,29.35,29.18,29.87,29.59,29.46,30.2,29.7,30.39,30.41,30.68,30.72,31.23,31.37,31.33,31.42,31.09,31.64,32.03,32.09,31.91,32.08,32.41,32.43,32.64,32.67,32.92,32.29,32.53,32.71,33.04,32.49,32.55,32.44,32.33,32.82,32.86,32.79,33.03,33.26,33.01,32.98,32.25,31.97,31.91,30.97,32.12,32.63,32.62,32.69,33.18,33.43,33.9,34.12,34.4,34.71,34.76,34.77,34.87,34.03,34.13,34.43,34.28,34.4,34.27,34.37,33.95,34.49,33.94,31.56,31.9,31.43,31.82,32.27,32.84,33.09,33.62,34.18,34.5,34.48,34.57,34.73,34.93,35.59,35.12,35.36,35.55,35.9,35.36,35.71,35.66,36.05,36.06,36.12,36.46,36.73,36.83,37.2,37.06,37.16,37.28,37.31,37.63,37.79,37.84,36.65,37.03,37.4,37.81,38.15,38.31,38.45,38.45,38.55,38.87,39.05,38.9,38.88,39.45,39.72,39.94,39.94,40.03,39.34,38.92,39.22,39.55,39.41,38.86,38.42,37.52,36.96,36.57,38.26,38.79,39.16,40.81,41.46,42.0,41.97,41.81,41.65,41.58,41.59,41.78,41.49,41.26,40.88,40.05,40.14,40.88,41.2,39.65,40.28,40.71,41.6,41.15,40.76,40.74,41.12,41.33,40.94,40.66,40.61,40.1,39.65,40.16,40.14,40.35,39.63,39.02,39.51,40.43,33.2,33.6,33.08,33.18,33.49,33.61,33.53,32.34,32.72,32.78,32.84,32.12,31.97,32.22,32.07,32.39,32.28,32.72,32.79,32.21,31.54,30.47,30.65,30.82,30.23,30.43,30.14,29.83,29.79,30.2,30.53,29.98,29.59,29.48,29.52,29.25,29.41,29.48,28.98,29.22,28.87,28.88,29.1,29.06,29.21,29.19,28.99,29.18,29.3,29.32,29.43,29.24,29.1,29.08,29.19,29.05,28.89,29.08,29.21,29.12,29.0,28.33,28.26,28.33,28.53,28.5,28.62,28.34,28.27,28.21,28.43,28.5,28.63,28.53,28.23,27.89,28.22,28.28,28.13,27.45,26.98,27.08,27.01,27.21,27.31,27.39,26.72,26.51,26.53,26.35,26.34,26.25,26.51,25.62,25.46,25.39,25.21,25.28,25.47,25.49,25.49,25.6,25.94,26.25,26.17,26.41,26.54,26.63,26.84,27.09,27.29,27.02,27.24,27.4,27.48,27.49,27.75,28.02,28.17,27.97,27.72,27.58,27.48,27.29,27.16,27.06,26.39,25.71,26.07,25.95,25.98,26.11,26.25,26.06,26.03,25.65,25.98,26.0,24.83,24.69,24.51,24.03,24.15,24.03,24.19,23.49,23.53,23.43,23.68,24.01,23.73,23.33,23.69,24.1,24.16,24.15,23.96,23.9,23.75,23.79,23.43,22.92,23.13,23.39,23.55,23.45,23.57,23.77,23.74,23.73,24.11],\"yaxis\":\"y\",\"type\":\"scatter\"}],                        {\"template\":{\"data\":{\"histogram2dcontour\":[{\"type\":\"histogram2dcontour\",\"colorbar\":{\"outlinewidth\":0,\"ticks\":\"\"},\"colorscale\":[[0.0,\"#0d0887\"],[0.1111111111111111,\"#46039f\"],[0.2222222222222222,\"#7201a8\"],[0.3333333333333333,\"#9c179e\"],[0.4444444444444444,\"#bd3786\"],[0.5555555555555556,\"#d8576b\"],[0.6666666666666666,\"#ed7953\"],[0.7777777777777778,\"#fb9f3a\"],[0.8888888888888888,\"#fdca26\"],[1.0,\"#f0f921\"]]}],\"choropleth\":[{\"type\":\"choropleth\",\"colorbar\":{\"outlinewidth\":0,\"ticks\":\"\"}}],\"histogram2d\":[{\"type\":\"histogram2d\",\"colorbar\":{\"outlinewidth\":0,\"ticks\":\"\"},\"colorscale\":[[0.0,\"#0d0887\"],[0.1111111111111111,\"#46039f\"],[0.2222222222222222,\"#7201a8\"],[0.3333333333333333,\"#9c179e\"],[0.4444444444444444,\"#bd3786\"],[0.5555555555555556,\"#d8576b\"],[0.6666666666666666,\"#ed7953\"],[0.7777777777777778,\"#fb9f3a\"],[0.8888888888888888,\"#fdca26\"],[1.0,\"#f0f921\"]]}],\"heatmap\":[{\"type\":\"heatmap\",\"colorbar\":{\"outlinewidth\":0,\"ticks\":\"\"},\"colorscale\":[[0.0,\"#0d0887\"],[0.1111111111111111,\"#46039f\"],[0.2222222222222222,\"#7201a8\"],[0.3333333333333333,\"#9c179e\"],[0.4444444444444444,\"#bd3786\"],[0.5555555555555556,\"#d8576b\"],[0.6666666666666666,\"#ed7953\"],[0.7777777777777778,\"#fb9f3a\"],[0.8888888888888888,\"#fdca26\"],[1.0,\"#f0f921\"]]}],\"heatmapgl\":[{\"type\":\"heatmapgl\",\"colorbar\":{\"outlinewidth\":0,\"ticks\":\"\"},\"colorscale\":[[0.0,\"#0d0887\"],[0.1111111111111111,\"#46039f\"],[0.2222222222222222,\"#7201a8\"],[0.3333333333333333,\"#9c179e\"],[0.4444444444444444,\"#bd3786\"],[0.5555555555555556,\"#d8576b\"],[0.6666666666666666,\"#ed7953\"],[0.7777777777777778,\"#fb9f3a\"],[0.8888888888888888,\"#fdca26\"],[1.0,\"#f0f921\"]]}],\"contourcarpet\":[{\"type\":\"contourcarpet\",\"colorbar\":{\"outlinewidth\":0,\"ticks\":\"\"}}],\"contour\":[{\"type\":\"contour\",\"colorbar\":{\"outlinewidth\":0,\"ticks\":\"\"},\"colorscale\":[[0.0,\"#0d0887\"],[0.1111111111111111,\"#46039f\"],[0.2222222222222222,\"#7201a8\"],[0.3333333333333333,\"#9c179e\"],[0.4444444444444444,\"#bd3786\"],[0.5555555555555556,\"#d8576b\"],[0.6666666666666666,\"#ed7953\"],[0.7777777777777778,\"#fb9f3a\"],[0.8888888888888888,\"#fdca26\"],[1.0,\"#f0f921\"]]}],\"surface\":[{\"type\":\"surface\",\"colorbar\":{\"outlinewidth\":0,\"ticks\":\"\"},\"colorscale\":[[0.0,\"#0d0887\"],[0.1111111111111111,\"#46039f\"],[0.2222222222222222,\"#7201a8\"],[0.3333333333333333,\"#9c179e\"],[0.4444444444444444,\"#bd3786\"],[0.5555555555555556,\"#d8576b\"],[0.6666666666666666,\"#ed7953\"],[0.7777777777777778,\"#fb9f3a\"],[0.8888888888888888,\"#fdca26\"],[1.0,\"#f0f921\"]]}],\"mesh3d\":[{\"type\":\"mesh3d\",\"colorbar\":{\"outlinewidth\":0,\"ticks\":\"\"}}],\"scatter\":[{\"fillpattern\":{\"fillmode\":\"overlay\",\"size\":10,\"solidity\":0.2},\"type\":\"scatter\"}],\"parcoords\":[{\"type\":\"parcoords\",\"line\":{\"colorbar\":{\"outlinewidth\":0,\"ticks\":\"\"}}}],\"scatterpolargl\":[{\"type\":\"scatterpolargl\",\"marker\":{\"colorbar\":{\"outlinewidth\":0,\"ticks\":\"\"}}}],\"bar\":[{\"error_x\":{\"color\":\"#2a3f5f\"},\"error_y\":{\"color\":\"#2a3f5f\"},\"marker\":{\"line\":{\"color\":\"#E5ECF6\",\"width\":0.5},\"pattern\":{\"fillmode\":\"overlay\",\"size\":10,\"solidity\":0.2}},\"type\":\"bar\"}],\"scattergeo\":[{\"type\":\"scattergeo\",\"marker\":{\"colorbar\":{\"outlinewidth\":0,\"ticks\":\"\"}}}],\"scatterpolar\":[{\"type\":\"scatterpolar\",\"marker\":{\"colorbar\":{\"outlinewidth\":0,\"ticks\":\"\"}}}],\"histogram\":[{\"marker\":{\"pattern\":{\"fillmode\":\"overlay\",\"size\":10,\"solidity\":0.2}},\"type\":\"histogram\"}],\"scattergl\":[{\"type\":\"scattergl\",\"marker\":{\"colorbar\":{\"outlinewidth\":0,\"ticks\":\"\"}}}],\"scatter3d\":[{\"type\":\"scatter3d\",\"line\":{\"colorbar\":{\"outlinewidth\":0,\"ticks\":\"\"}},\"marker\":{\"colorbar\":{\"outlinewidth\":0,\"ticks\":\"\"}}}],\"scattermapbox\":[{\"type\":\"scattermapbox\",\"marker\":{\"colorbar\":{\"outlinewidth\":0,\"ticks\":\"\"}}}],\"scatterternary\":[{\"type\":\"scatterternary\",\"marker\":{\"colorbar\":{\"outlinewidth\":0,\"ticks\":\"\"}}}],\"scattercarpet\":[{\"type\":\"scattercarpet\",\"marker\":{\"colorbar\":{\"outlinewidth\":0,\"ticks\":\"\"}}}],\"carpet\":[{\"aaxis\":{\"endlinecolor\":\"#2a3f5f\",\"gridcolor\":\"white\",\"linecolor\":\"white\",\"minorgridcolor\":\"white\",\"startlinecolor\":\"#2a3f5f\"},\"baxis\":{\"endlinecolor\":\"#2a3f5f\",\"gridcolor\":\"white\",\"linecolor\":\"white\",\"minorgridcolor\":\"white\",\"startlinecolor\":\"#2a3f5f\"},\"type\":\"carpet\"}],\"table\":[{\"cells\":{\"fill\":{\"color\":\"#EBF0F8\"},\"line\":{\"color\":\"white\"}},\"header\":{\"fill\":{\"color\":\"#C8D4E3\"},\"line\":{\"color\":\"white\"}},\"type\":\"table\"}],\"barpolar\":[{\"marker\":{\"line\":{\"color\":\"#E5ECF6\",\"width\":0.5},\"pattern\":{\"fillmode\":\"overlay\",\"size\":10,\"solidity\":0.2}},\"type\":\"barpolar\"}],\"pie\":[{\"automargin\":true,\"type\":\"pie\"}]},\"layout\":{\"autotypenumbers\":\"strict\",\"colorway\":[\"#636efa\",\"#EF553B\",\"#00cc96\",\"#ab63fa\",\"#FFA15A\",\"#19d3f3\",\"#FF6692\",\"#B6E880\",\"#FF97FF\",\"#FECB52\"],\"font\":{\"color\":\"#2a3f5f\"},\"hovermode\":\"closest\",\"hoverlabel\":{\"align\":\"left\"},\"paper_bgcolor\":\"white\",\"plot_bgcolor\":\"#E5ECF6\",\"polar\":{\"bgcolor\":\"#E5ECF6\",\"angularaxis\":{\"gridcolor\":\"white\",\"linecolor\":\"white\",\"ticks\":\"\"},\"radialaxis\":{\"gridcolor\":\"white\",\"linecolor\":\"white\",\"ticks\":\"\"}},\"ternary\":{\"bgcolor\":\"#E5ECF6\",\"aaxis\":{\"gridcolor\":\"white\",\"linecolor\":\"white\",\"ticks\":\"\"},\"baxis\":{\"gridcolor\":\"white\",\"linecolor\":\"white\",\"ticks\":\"\"},\"caxis\":{\"gridcolor\":\"white\",\"linecolor\":\"white\",\"ticks\":\"\"}},\"coloraxis\":{\"colorbar\":{\"outlinewidth\":0,\"ticks\":\"\"}},\"colorscale\":{\"sequential\":[[0.0,\"#0d0887\"],[0.1111111111111111,\"#46039f\"],[0.2222222222222222,\"#7201a8\"],[0.3333333333333333,\"#9c179e\"],[0.4444444444444444,\"#bd3786\"],[0.5555555555555556,\"#d8576b\"],[0.6666666666666666,\"#ed7953\"],[0.7777777777777778,\"#fb9f3a\"],[0.8888888888888888,\"#fdca26\"],[1.0,\"#f0f921\"]],\"sequentialminus\":[[0.0,\"#0d0887\"],[0.1111111111111111,\"#46039f\"],[0.2222222222222222,\"#7201a8\"],[0.3333333333333333,\"#9c179e\"],[0.4444444444444444,\"#bd3786\"],[0.5555555555555556,\"#d8576b\"],[0.6666666666666666,\"#ed7953\"],[0.7777777777777778,\"#fb9f3a\"],[0.8888888888888888,\"#fdca26\"],[1.0,\"#f0f921\"]],\"diverging\":[[0,\"#8e0152\"],[0.1,\"#c51b7d\"],[0.2,\"#de77ae\"],[0.3,\"#f1b6da\"],[0.4,\"#fde0ef\"],[0.5,\"#f7f7f7\"],[0.6,\"#e6f5d0\"],[0.7,\"#b8e186\"],[0.8,\"#7fbc41\"],[0.9,\"#4d9221\"],[1,\"#276419\"]]},\"xaxis\":{\"gridcolor\":\"white\",\"linecolor\":\"white\",\"ticks\":\"\",\"title\":{\"standoff\":15},\"zerolinecolor\":\"white\",\"automargin\":true,\"zerolinewidth\":2},\"yaxis\":{\"gridcolor\":\"white\",\"linecolor\":\"white\",\"ticks\":\"\",\"title\":{\"standoff\":15},\"zerolinecolor\":\"white\",\"automargin\":true,\"zerolinewidth\":2},\"scene\":{\"xaxis\":{\"backgroundcolor\":\"#E5ECF6\",\"gridcolor\":\"white\",\"linecolor\":\"white\",\"showbackground\":true,\"ticks\":\"\",\"zerolinecolor\":\"white\",\"gridwidth\":2},\"yaxis\":{\"backgroundcolor\":\"#E5ECF6\",\"gridcolor\":\"white\",\"linecolor\":\"white\",\"showbackground\":true,\"ticks\":\"\",\"zerolinecolor\":\"white\",\"gridwidth\":2},\"zaxis\":{\"backgroundcolor\":\"#E5ECF6\",\"gridcolor\":\"white\",\"linecolor\":\"white\",\"showbackground\":true,\"ticks\":\"\",\"zerolinecolor\":\"white\",\"gridwidth\":2}},\"shapedefaults\":{\"line\":{\"color\":\"#2a3f5f\"}},\"annotationdefaults\":{\"arrowcolor\":\"#2a3f5f\",\"arrowhead\":0,\"arrowwidth\":1},\"geo\":{\"bgcolor\":\"white\",\"landcolor\":\"#E5ECF6\",\"subunitcolor\":\"white\",\"showland\":true,\"showlakes\":true,\"lakecolor\":\"white\"},\"title\":{\"x\":0.05},\"mapbox\":{\"style\":\"light\"}}},\"xaxis\":{\"anchor\":\"y\",\"domain\":[0.0,1.0],\"title\":{\"text\":\"Date\"}},\"yaxis\":{\"anchor\":\"x\",\"domain\":[0.0,1.0],\"title\":{\"text\":\"PE\"}},\"legend\":{\"tracegroupgap\":0},\"title\":{\"text\":\"Nifty Close Price\"},\"shapes\":[{\"fillcolor\":\"red\",\"line\":{\"width\":0},\"opacity\":0.2,\"type\":\"rect\",\"x0\":0,\"x1\":1,\"xref\":\"x domain\",\"y0\":0,\"y1\":20,\"yref\":\"y\"},{\"fillcolor\":\"green\",\"line\":{\"width\":0},\"opacity\":0.2,\"type\":\"rect\",\"x0\":0,\"x1\":1,\"xref\":\"x domain\",\"y0\":20,\"y1\":30,\"yref\":\"y\"}]},                        {\"responsive\": true}                    ).then(function(){\n",
       "                            \n",
       "var gd = document.getElementById('142cbda8-06b4-4138-ac9d-152d9250859a');\n",
       "var x = new MutationObserver(function (mutations, observer) {{\n",
       "        var display = window.getComputedStyle(gd).display;\n",
       "        if (!display || display === 'none') {{\n",
       "            console.log([gd, 'removed!']);\n",
       "            Plotly.purge(gd);\n",
       "            observer.disconnect();\n",
       "        }}\n",
       "}});\n",
       "\n",
       "// Listen for the removal of the full notebook cells\n",
       "var notebookContainer = gd.closest('#notebook-container');\n",
       "if (notebookContainer) {{\n",
       "    x.observe(notebookContainer, {childList: true});\n",
       "}}\n",
       "\n",
       "// Listen for the clearing of the current output cell\n",
       "var outputEl = gd.closest('.output');\n",
       "if (outputEl) {{\n",
       "    x.observe(outputEl, {childList: true});\n",
       "}}\n",
       "\n",
       "                        })                };                });            </script>        </div>"
      ]
     },
     "metadata": {},
     "output_type": "display_data"
    }
   ],
   "source": [
    "fig = px.line(NiftyPE, x='Date', y='PE',\n",
    "              hover_data={\"Date\": \"|%B %d, %Y\"},\n",
    "              title='Nifty Close Price')\n",
    "\n",
    "fig.add_hrect(y0=0, y1=20, line_width=0, fillcolor=\"red\", opacity=0.2)\n",
    "fig.add_hrect(y0=20, y1=30, line_width=0, fillcolor=\"green\", opacity=0.2)\n",
    "\n",
    "fig.show()"
   ]
  },
  {
   "cell_type": "code",
   "execution_count": null,
   "metadata": {},
   "outputs": [],
   "source": []
  }
 ],
 "metadata": {
  "kernelspec": {
   "display_name": "Python [conda env:root] *",
   "language": "python",
   "name": "conda-root-py"
  },
  "language_info": {
   "codemirror_mode": {
    "name": "ipython",
    "version": 3
   },
   "file_extension": ".py",
   "mimetype": "text/x-python",
   "name": "python",
   "nbconvert_exporter": "python",
   "pygments_lexer": "ipython3",
   "version": "3.8.5"
  }
 },
 "nbformat": 4,
 "nbformat_minor": 4
}
