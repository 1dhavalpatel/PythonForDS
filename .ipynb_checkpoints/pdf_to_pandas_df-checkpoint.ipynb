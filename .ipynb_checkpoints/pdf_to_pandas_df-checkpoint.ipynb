{
 "cells": [
  {
   "cell_type": "markdown",
   "metadata": {},
   "source": [
    "# Using tabula-py"
   ]
  },
  {
   "cell_type": "code",
   "execution_count": 2,
   "metadata": {
    "collapsed": true
   },
   "outputs": [
    {
     "name": "stdout",
     "output_type": "stream",
     "text": [
      "Collecting tabula-py\n",
      "  Downloading tabula_py-2.3.0-py3-none-any.whl (12.0 MB)\n",
      "Collecting distro\n",
      "  Downloading distro-1.7.0-py3-none-any.whl (20 kB)\n",
      "Requirement already satisfied: numpy in c:\\users\\dhaval_patel\\anaconda3\\lib\\site-packages (from tabula-py) (1.19.2)\n",
      "Requirement already satisfied: pandas>=0.25.3 in c:\\users\\dhaval_patel\\anaconda3\\lib\\site-packages (from tabula-py) (1.1.3)\n",
      "Requirement already satisfied: pytz>=2017.2 in c:\\users\\dhaval_patel\\anaconda3\\lib\\site-packages (from pandas>=0.25.3->tabula-py) (2020.1)\n",
      "Requirement already satisfied: python-dateutil>=2.7.3 in c:\\users\\dhaval_patel\\anaconda3\\lib\\site-packages (from pandas>=0.25.3->tabula-py) (2.8.1)\n",
      "Requirement already satisfied: six>=1.5 in c:\\users\\dhaval_patel\\anaconda3\\lib\\site-packages (from python-dateutil>=2.7.3->pandas>=0.25.3->tabula-py) (1.15.0)\n",
      "Installing collected packages: distro, tabula-py\n",
      "Successfully installed distro-1.7.0 tabula-py-2.3.0\n"
     ]
    }
   ],
   "source": [
    "!pip install tabula-py"
   ]
  },
  {
   "cell_type": "code",
   "execution_count": 4,
   "metadata": {},
   "outputs": [],
   "source": [
    "# import the function\n",
    "from tabula import read_pdf"
   ]
  },
  {
   "cell_type": "code",
   "execution_count": 5,
   "metadata": {},
   "outputs": [],
   "source": [
    "# read all pages from the pdf file\n",
    "tables_t = read_pdf(\"GST_march2022.pdf\",pages='all')"
   ]
  },
  {
   "cell_type": "code",
   "execution_count": 6,
   "metadata": {},
   "outputs": [
    {
     "name": "stdout",
     "output_type": "stream",
     "text": [
      "3\n"
     ]
    }
   ],
   "source": [
    "# check number of tables extracted\n",
    "print(len(tables_t))"
   ]
  },
  {
   "cell_type": "code",
   "execution_count": 7,
   "metadata": {},
   "outputs": [
    {
     "data": {
      "text/html": [
       "<div>\n",
       "<style scoped>\n",
       "    .dataframe tbody tr th:only-of-type {\n",
       "        vertical-align: middle;\n",
       "    }\n",
       "\n",
       "    .dataframe tbody tr th {\n",
       "        vertical-align: top;\n",
       "    }\n",
       "\n",
       "    .dataframe thead th {\n",
       "        text-align: right;\n",
       "    }\n",
       "</style>\n",
       "<table border=\"1\" class=\"dataframe\">\n",
       "  <thead>\n",
       "    <tr style=\"text-align: right;\">\n",
       "      <th></th>\n",
       "      <th>Unnamed: 0</th>\n",
       "      <th>State</th>\n",
       "      <th>Mar-21</th>\n",
       "      <th>Mar-22</th>\n",
       "      <th>Growth</th>\n",
       "    </tr>\n",
       "  </thead>\n",
       "  <tbody>\n",
       "    <tr>\n",
       "      <th>0</th>\n",
       "      <td>1</td>\n",
       "      <td>Jammu and Kashmir</td>\n",
       "      <td>352</td>\n",
       "      <td>368</td>\n",
       "      <td>5%</td>\n",
       "    </tr>\n",
       "    <tr>\n",
       "      <th>1</th>\n",
       "      <td>2</td>\n",
       "      <td>Himachal Pradesh</td>\n",
       "      <td>687</td>\n",
       "      <td>684</td>\n",
       "      <td>0%</td>\n",
       "    </tr>\n",
       "    <tr>\n",
       "      <th>2</th>\n",
       "      <td>3</td>\n",
       "      <td>Punjab</td>\n",
       "      <td>1,362</td>\n",
       "      <td>1,572</td>\n",
       "      <td>15%</td>\n",
       "    </tr>\n",
       "    <tr>\n",
       "      <th>3</th>\n",
       "      <td>4</td>\n",
       "      <td>Chandigarh</td>\n",
       "      <td>165</td>\n",
       "      <td>184</td>\n",
       "      <td>11%</td>\n",
       "    </tr>\n",
       "    <tr>\n",
       "      <th>4</th>\n",
       "      <td>5</td>\n",
       "      <td>Uttarakhand</td>\n",
       "      <td>1,304</td>\n",
       "      <td>1,255</td>\n",
       "      <td>-4%</td>\n",
       "    </tr>\n",
       "    <tr>\n",
       "      <th>5</th>\n",
       "      <td>6</td>\n",
       "      <td>Haryana</td>\n",
       "      <td>5,710</td>\n",
       "      <td>6,654</td>\n",
       "      <td>17%</td>\n",
       "    </tr>\n",
       "  </tbody>\n",
       "</table>\n",
       "</div>"
      ],
      "text/plain": [
       "   Unnamed: 0              State Mar-21 Mar-22 Growth\n",
       "0           1  Jammu and Kashmir    352    368     5%\n",
       "1           2   Himachal Pradesh    687    684     0%\n",
       "2           3             Punjab  1,362  1,572    15%\n",
       "3           4         Chandigarh    165    184    11%\n",
       "4           5        Uttarakhand  1,304  1,255    -4%\n",
       "5           6            Haryana  5,710  6,654    17%"
      ]
     },
     "execution_count": 7,
     "metadata": {},
     "output_type": "execute_result"
    }
   ],
   "source": [
    "tables_t[0]"
   ]
  },
  {
   "cell_type": "code",
   "execution_count": 8,
   "metadata": {},
   "outputs": [
    {
     "data": {
      "text/html": [
       "<div>\n",
       "<style scoped>\n",
       "    .dataframe tbody tr th:only-of-type {\n",
       "        vertical-align: middle;\n",
       "    }\n",
       "\n",
       "    .dataframe tbody tr th {\n",
       "        vertical-align: top;\n",
       "    }\n",
       "\n",
       "    .dataframe thead th {\n",
       "        text-align: right;\n",
       "    }\n",
       "</style>\n",
       "<table border=\"1\" class=\"dataframe\">\n",
       "  <thead>\n",
       "    <tr style=\"text-align: right;\">\n",
       "      <th></th>\n",
       "      <th>7</th>\n",
       "      <th>Delhi</th>\n",
       "      <th>3,926</th>\n",
       "      <th>4,112</th>\n",
       "      <th>5%</th>\n",
       "    </tr>\n",
       "  </thead>\n",
       "  <tbody>\n",
       "    <tr>\n",
       "      <th>0</th>\n",
       "      <td>8</td>\n",
       "      <td>Rajasthan</td>\n",
       "      <td>3,352</td>\n",
       "      <td>3,587</td>\n",
       "      <td>7%</td>\n",
       "    </tr>\n",
       "    <tr>\n",
       "      <th>1</th>\n",
       "      <td>9</td>\n",
       "      <td>Uttar Pradesh</td>\n",
       "      <td>6,265</td>\n",
       "      <td>6,620</td>\n",
       "      <td>6%</td>\n",
       "    </tr>\n",
       "    <tr>\n",
       "      <th>2</th>\n",
       "      <td>10</td>\n",
       "      <td>Bihar</td>\n",
       "      <td>1,196</td>\n",
       "      <td>1,348</td>\n",
       "      <td>13%</td>\n",
       "    </tr>\n",
       "    <tr>\n",
       "      <th>3</th>\n",
       "      <td>11</td>\n",
       "      <td>Sikkim</td>\n",
       "      <td>214</td>\n",
       "      <td>230</td>\n",
       "      <td>8%</td>\n",
       "    </tr>\n",
       "    <tr>\n",
       "      <th>4</th>\n",
       "      <td>12</td>\n",
       "      <td>Arunachal Pradesh</td>\n",
       "      <td>92</td>\n",
       "      <td>105</td>\n",
       "      <td>14%</td>\n",
       "    </tr>\n",
       "    <tr>\n",
       "      <th>5</th>\n",
       "      <td>13</td>\n",
       "      <td>Nagaland</td>\n",
       "      <td>45</td>\n",
       "      <td>43</td>\n",
       "      <td>-6%</td>\n",
       "    </tr>\n",
       "    <tr>\n",
       "      <th>6</th>\n",
       "      <td>14</td>\n",
       "      <td>Manipur</td>\n",
       "      <td>50</td>\n",
       "      <td>60</td>\n",
       "      <td>18%</td>\n",
       "    </tr>\n",
       "    <tr>\n",
       "      <th>7</th>\n",
       "      <td>15</td>\n",
       "      <td>Mizoram</td>\n",
       "      <td>35</td>\n",
       "      <td>37</td>\n",
       "      <td>5%</td>\n",
       "    </tr>\n",
       "    <tr>\n",
       "      <th>8</th>\n",
       "      <td>16</td>\n",
       "      <td>Tripura</td>\n",
       "      <td>88</td>\n",
       "      <td>82</td>\n",
       "      <td>-7%</td>\n",
       "    </tr>\n",
       "    <tr>\n",
       "      <th>9</th>\n",
       "      <td>17</td>\n",
       "      <td>Meghalaya</td>\n",
       "      <td>152</td>\n",
       "      <td>181</td>\n",
       "      <td>19%</td>\n",
       "    </tr>\n",
       "    <tr>\n",
       "      <th>10</th>\n",
       "      <td>18</td>\n",
       "      <td>Assam</td>\n",
       "      <td>1,005</td>\n",
       "      <td>1,115</td>\n",
       "      <td>11%</td>\n",
       "    </tr>\n",
       "    <tr>\n",
       "      <th>11</th>\n",
       "      <td>19</td>\n",
       "      <td>West Bengal</td>\n",
       "      <td>4,387</td>\n",
       "      <td>4,472</td>\n",
       "      <td>2%</td>\n",
       "    </tr>\n",
       "    <tr>\n",
       "      <th>12</th>\n",
       "      <td>20</td>\n",
       "      <td>Jharkhand</td>\n",
       "      <td>2,416</td>\n",
       "      <td>2,550</td>\n",
       "      <td>6%</td>\n",
       "    </tr>\n",
       "    <tr>\n",
       "      <th>13</th>\n",
       "      <td>21</td>\n",
       "      <td>Odisha</td>\n",
       "      <td>3,285</td>\n",
       "      <td>4,125</td>\n",
       "      <td>26%</td>\n",
       "    </tr>\n",
       "    <tr>\n",
       "      <th>14</th>\n",
       "      <td>22</td>\n",
       "      <td>Chhattisgarh</td>\n",
       "      <td>2,544</td>\n",
       "      <td>2,720</td>\n",
       "      <td>7%</td>\n",
       "    </tr>\n",
       "    <tr>\n",
       "      <th>15</th>\n",
       "      <td>23</td>\n",
       "      <td>Madhya Pradesh</td>\n",
       "      <td>2,728</td>\n",
       "      <td>2,935</td>\n",
       "      <td>8%</td>\n",
       "    </tr>\n",
       "    <tr>\n",
       "      <th>16</th>\n",
       "      <td>24</td>\n",
       "      <td>Gujarat</td>\n",
       "      <td>8,197</td>\n",
       "      <td>9,158</td>\n",
       "      <td>12%</td>\n",
       "    </tr>\n",
       "    <tr>\n",
       "      <th>17</th>\n",
       "      <td>25</td>\n",
       "      <td>Daman and Diu</td>\n",
       "      <td>3</td>\n",
       "      <td>0</td>\n",
       "      <td>-92%</td>\n",
       "    </tr>\n",
       "  </tbody>\n",
       "</table>\n",
       "</div>"
      ],
      "text/plain": [
       "     7              Delhi  3,926  4,112    5%\n",
       "0    8          Rajasthan  3,352  3,587    7%\n",
       "1    9      Uttar Pradesh  6,265  6,620    6%\n",
       "2   10              Bihar  1,196  1,348   13%\n",
       "3   11             Sikkim    214    230    8%\n",
       "4   12  Arunachal Pradesh     92    105   14%\n",
       "5   13           Nagaland     45     43   -6%\n",
       "6   14            Manipur     50     60   18%\n",
       "7   15            Mizoram     35     37    5%\n",
       "8   16            Tripura     88     82   -7%\n",
       "9   17          Meghalaya    152    181   19%\n",
       "10  18              Assam  1,005  1,115   11%\n",
       "11  19        West Bengal  4,387  4,472    2%\n",
       "12  20          Jharkhand  2,416  2,550    6%\n",
       "13  21             Odisha  3,285  4,125   26%\n",
       "14  22       Chhattisgarh  2,544  2,720    7%\n",
       "15  23     Madhya Pradesh  2,728  2,935    8%\n",
       "16  24            Gujarat  8,197  9,158   12%\n",
       "17  25      Daman and Diu      3      0  -92%"
      ]
     },
     "execution_count": 8,
     "metadata": {},
     "output_type": "execute_result"
    }
   ],
   "source": [
    "tables_t[1]"
   ]
  },
  {
   "cell_type": "code",
   "execution_count": 9,
   "metadata": {},
   "outputs": [
    {
     "data": {
      "text/html": [
       "<div>\n",
       "<style scoped>\n",
       "    .dataframe tbody tr th:only-of-type {\n",
       "        vertical-align: middle;\n",
       "    }\n",
       "\n",
       "    .dataframe tbody tr th {\n",
       "        vertical-align: top;\n",
       "    }\n",
       "\n",
       "    .dataframe thead th {\n",
       "        text-align: right;\n",
       "    }\n",
       "</style>\n",
       "<table border=\"1\" class=\"dataframe\">\n",
       "  <thead>\n",
       "    <tr style=\"text-align: right;\">\n",
       "      <th></th>\n",
       "      <th>26</th>\n",
       "      <th>Dadra and Nagar Haveli</th>\n",
       "      <th>288</th>\n",
       "      <th>284</th>\n",
       "      <th>-2%</th>\n",
       "    </tr>\n",
       "  </thead>\n",
       "  <tbody>\n",
       "    <tr>\n",
       "      <th>0</th>\n",
       "      <td>27.0</td>\n",
       "      <td>Maharashtra</td>\n",
       "      <td>17,038</td>\n",
       "      <td>20,305</td>\n",
       "      <td>19%</td>\n",
       "    </tr>\n",
       "    <tr>\n",
       "      <th>1</th>\n",
       "      <td>29.0</td>\n",
       "      <td>Karnataka</td>\n",
       "      <td>7,915</td>\n",
       "      <td>8,750</td>\n",
       "      <td>11%</td>\n",
       "    </tr>\n",
       "    <tr>\n",
       "      <th>2</th>\n",
       "      <td>30.0</td>\n",
       "      <td>Goa</td>\n",
       "      <td>344</td>\n",
       "      <td>386</td>\n",
       "      <td>12%</td>\n",
       "    </tr>\n",
       "    <tr>\n",
       "      <th>3</th>\n",
       "      <td>31.0</td>\n",
       "      <td>Lakshadweep</td>\n",
       "      <td>2</td>\n",
       "      <td>2</td>\n",
       "      <td>36%</td>\n",
       "    </tr>\n",
       "    <tr>\n",
       "      <th>4</th>\n",
       "      <td>32.0</td>\n",
       "      <td>Kerala</td>\n",
       "      <td>1,828</td>\n",
       "      <td>2,089</td>\n",
       "      <td>14%</td>\n",
       "    </tr>\n",
       "    <tr>\n",
       "      <th>5</th>\n",
       "      <td>33.0</td>\n",
       "      <td>Tamil Nadu</td>\n",
       "      <td>7,579</td>\n",
       "      <td>8,023</td>\n",
       "      <td>6%</td>\n",
       "    </tr>\n",
       "    <tr>\n",
       "      <th>6</th>\n",
       "      <td>34.0</td>\n",
       "      <td>Puducherry</td>\n",
       "      <td>161</td>\n",
       "      <td>163</td>\n",
       "      <td>1%</td>\n",
       "    </tr>\n",
       "    <tr>\n",
       "      <th>7</th>\n",
       "      <td>35.0</td>\n",
       "      <td>Andaman and Nicobar Islands</td>\n",
       "      <td>26</td>\n",
       "      <td>27</td>\n",
       "      <td>5%</td>\n",
       "    </tr>\n",
       "    <tr>\n",
       "      <th>8</th>\n",
       "      <td>36.0</td>\n",
       "      <td>Telangana</td>\n",
       "      <td>4,166</td>\n",
       "      <td>4,242</td>\n",
       "      <td>2%</td>\n",
       "    </tr>\n",
       "    <tr>\n",
       "      <th>9</th>\n",
       "      <td>37.0</td>\n",
       "      <td>Andhra Pradesh</td>\n",
       "      <td>2,685</td>\n",
       "      <td>3,174</td>\n",
       "      <td>18%</td>\n",
       "    </tr>\n",
       "    <tr>\n",
       "      <th>10</th>\n",
       "      <td>38.0</td>\n",
       "      <td>Ladakh</td>\n",
       "      <td>14</td>\n",
       "      <td>23</td>\n",
       "      <td>72%</td>\n",
       "    </tr>\n",
       "    <tr>\n",
       "      <th>11</th>\n",
       "      <td>97.0</td>\n",
       "      <td>Other Territory</td>\n",
       "      <td>122</td>\n",
       "      <td>149</td>\n",
       "      <td>22%</td>\n",
       "    </tr>\n",
       "    <tr>\n",
       "      <th>12</th>\n",
       "      <td>99.0</td>\n",
       "      <td>Centre Jurisdiction</td>\n",
       "      <td>141</td>\n",
       "      <td>170</td>\n",
       "      <td>20%</td>\n",
       "    </tr>\n",
       "    <tr>\n",
       "      <th>13</th>\n",
       "      <td>NaN</td>\n",
       "      <td>Total</td>\n",
       "      <td>91,870</td>\n",
       "      <td>1,01,983</td>\n",
       "      <td>11%</td>\n",
       "    </tr>\n",
       "  </tbody>\n",
       "</table>\n",
       "</div>"
      ],
      "text/plain": [
       "      26       Dadra and Nagar Haveli     288       284  -2%\n",
       "0   27.0                  Maharashtra  17,038    20,305  19%\n",
       "1   29.0                    Karnataka   7,915     8,750  11%\n",
       "2   30.0                          Goa     344       386  12%\n",
       "3   31.0                  Lakshadweep       2         2  36%\n",
       "4   32.0                       Kerala   1,828     2,089  14%\n",
       "5   33.0                   Tamil Nadu   7,579     8,023   6%\n",
       "6   34.0                   Puducherry     161       163   1%\n",
       "7   35.0  Andaman and Nicobar Islands      26        27   5%\n",
       "8   36.0                    Telangana   4,166     4,242   2%\n",
       "9   37.0               Andhra Pradesh   2,685     3,174  18%\n",
       "10  38.0                       Ladakh      14        23  72%\n",
       "11  97.0              Other Territory     122       149  22%\n",
       "12  99.0          Centre Jurisdiction     141       170  20%\n",
       "13   NaN                        Total  91,870  1,01,983  11%"
      ]
     },
     "execution_count": 9,
     "metadata": {},
     "output_type": "execute_result"
    }
   ],
   "source": [
    "tables_t[2]"
   ]
  },
  {
   "cell_type": "code",
   "execution_count": 22,
   "metadata": {},
   "outputs": [
    {
     "data": {
      "text/plain": [
       "pandas.core.frame.DataFrame"
      ]
     },
     "execution_count": 22,
     "metadata": {},
     "output_type": "execute_result"
    }
   ],
   "source": [
    "type(tables_t[2])"
   ]
  },
  {
   "cell_type": "markdown",
   "metadata": {},
   "source": [
    "#### PDF data is extracted, but  not exactly the we want it. It requires merging and some cleaning as well!!"
   ]
  },
  {
   "cell_type": "markdown",
   "metadata": {},
   "source": [
    "# Using camelot"
   ]
  },
  {
   "cell_type": "code",
   "execution_count": 15,
   "metadata": {
    "collapsed": true
   },
   "outputs": [
    {
     "name": "stdout",
     "output_type": "stream",
     "text": [
      "Collecting camelot-py[cv]\n",
      "  Downloading camelot_py-0.10.1-py3-none-any.whl (40 kB)\n",
      "Requirement already satisfied: click>=6.7 in c:\\users\\dhaval_patel\\anaconda3\\lib\\site-packages (from camelot-py[cv]) (7.1.2)\n",
      "Requirement already satisfied: pdfminer.six>=20200726 in c:\\users\\dhaval_patel\\anaconda3\\lib\\site-packages (from camelot-py[cv]) (20201018)\n",
      "Requirement already satisfied: tabulate>=0.8.9 in c:\\users\\dhaval_patel\\anaconda3\\lib\\site-packages (from camelot-py[cv]) (0.8.9)\n",
      "Requirement already satisfied: PyPDF2>=1.26.0 in c:\\users\\dhaval_patel\\anaconda3\\lib\\site-packages (from camelot-py[cv]) (1.26.0)\n",
      "Requirement already satisfied: pandas>=0.23.4 in c:\\users\\dhaval_patel\\anaconda3\\lib\\site-packages (from camelot-py[cv]) (1.1.3)\n",
      "Requirement already satisfied: numpy>=1.13.3 in c:\\users\\dhaval_patel\\anaconda3\\lib\\site-packages (from camelot-py[cv]) (1.19.2)\n",
      "Requirement already satisfied: chardet>=3.0.4 in c:\\users\\dhaval_patel\\anaconda3\\lib\\site-packages (from camelot-py[cv]) (3.0.4)\n",
      "Requirement already satisfied: openpyxl>=2.5.8 in c:\\users\\dhaval_patel\\anaconda3\\lib\\site-packages (from camelot-py[cv]) (3.0.5)\n",
      "Collecting ghostscript>=0.7; extra == \"cv\"\n",
      "  Downloading ghostscript-0.7-py2.py3-none-any.whl (25 kB)\n",
      "Collecting pdftopng>=0.2.3; extra == \"cv\"\n",
      "  Downloading pdftopng-0.2.3-cp38-cp38-win_amd64.whl (1.5 MB)\n",
      "Collecting opencv-python>=3.4.2.17; extra == \"cv\"\n",
      "  Downloading opencv_python-4.5.5.64-cp36-abi3-win_amd64.whl (35.4 MB)\n",
      "Requirement already satisfied: cryptography in c:\\users\\dhaval_patel\\anaconda3\\lib\\site-packages (from pdfminer.six>=20200726->camelot-py[cv]) (3.1.1)\n",
      "Requirement already satisfied: sortedcontainers in c:\\users\\dhaval_patel\\anaconda3\\lib\\site-packages (from pdfminer.six>=20200726->camelot-py[cv]) (2.2.2)\n",
      "Requirement already satisfied: python-dateutil>=2.7.3 in c:\\users\\dhaval_patel\\anaconda3\\lib\\site-packages (from pandas>=0.23.4->camelot-py[cv]) (2.8.1)\n",
      "Requirement already satisfied: pytz>=2017.2 in c:\\users\\dhaval_patel\\anaconda3\\lib\\site-packages (from pandas>=0.23.4->camelot-py[cv]) (2020.1)\n",
      "Requirement already satisfied: jdcal in c:\\users\\dhaval_patel\\anaconda3\\lib\\site-packages (from openpyxl>=2.5.8->camelot-py[cv]) (1.4.1)\n",
      "Requirement already satisfied: et-xmlfile in c:\\users\\dhaval_patel\\anaconda3\\lib\\site-packages (from openpyxl>=2.5.8->camelot-py[cv]) (1.0.1)\n",
      "Requirement already satisfied: setuptools>=38.6.0 in c:\\users\\dhaval_patel\\anaconda3\\lib\\site-packages (from ghostscript>=0.7; extra == \"cv\"->camelot-py[cv]) (50.3.1.post20201107)\n",
      "Requirement already satisfied: cffi!=1.11.3,>=1.8 in c:\\users\\dhaval_patel\\anaconda3\\lib\\site-packages (from cryptography->pdfminer.six>=20200726->camelot-py[cv]) (1.14.3)\n",
      "Requirement already satisfied: six>=1.4.1 in c:\\users\\dhaval_patel\\anaconda3\\lib\\site-packages (from cryptography->pdfminer.six>=20200726->camelot-py[cv]) (1.15.0)\n",
      "Requirement already satisfied: pycparser in c:\\users\\dhaval_patel\\anaconda3\\lib\\site-packages (from cffi!=1.11.3,>=1.8->cryptography->pdfminer.six>=20200726->camelot-py[cv]) (2.20)\n",
      "Installing collected packages: ghostscript, pdftopng, opencv-python, camelot-py\n",
      "Successfully installed camelot-py-0.10.1 ghostscript-0.7 opencv-python-4.5.5.64 pdftopng-0.2.3\n"
     ]
    }
   ],
   "source": [
    "!pip install camelot-py[cv]"
   ]
  },
  {
   "cell_type": "code",
   "execution_count": 4,
   "metadata": {},
   "outputs": [
    {
     "name": "stdout",
     "output_type": "stream",
     "text": [
      "Requirement already satisfied: ghostscript in c:\\users\\dhaval_patel\\anaconda3\\lib\\site-packages (0.7)\n",
      "Requirement already satisfied: setuptools>=38.6.0 in c:\\users\\dhaval_patel\\anaconda3\\lib\\site-packages (from ghostscript) (50.3.1.post20201107)\n"
     ]
    }
   ],
   "source": [
    "!pip install ghostscript"
   ]
  },
  {
   "cell_type": "code",
   "execution_count": 1,
   "metadata": {},
   "outputs": [],
   "source": [
    "# import the library\n",
    "import camelot\n",
    "#import camelot.io as camelot"
   ]
  },
  {
   "cell_type": "code",
   "execution_count": 5,
   "metadata": {},
   "outputs": [
    {
     "ename": "OSError",
     "evalue": "Ghostscript is not installed. You can install it using the instructions here: https://camelot-py.readthedocs.io/en/master/user/install-deps.html",
     "output_type": "error",
     "traceback": [
      "\u001b[1;31m---------------------------------------------------------------------------\u001b[0m",
      "\u001b[1;31mOSError\u001b[0m                                   Traceback (most recent call last)",
      "\u001b[1;32m<ipython-input-5-4d3badaa1d89>\u001b[0m in \u001b[0;36m<module>\u001b[1;34m\u001b[0m\n\u001b[1;32m----> 1\u001b[1;33m \u001b[0mtables_c\u001b[0m \u001b[1;33m=\u001b[0m \u001b[0mcamelot\u001b[0m\u001b[1;33m.\u001b[0m\u001b[0mread_pdf\u001b[0m\u001b[1;33m(\u001b[0m\u001b[1;34m'GST_march2022.pdf'\u001b[0m\u001b[1;33m,\u001b[0m \u001b[0mpages\u001b[0m\u001b[1;33m=\u001b[0m\u001b[1;34m'all'\u001b[0m\u001b[1;33m)\u001b[0m\u001b[1;33m\u001b[0m\u001b[1;33m\u001b[0m\u001b[0m\n\u001b[0m",
      "\u001b[1;32m~\\Anaconda3\\lib\\site-packages\\camelot\\io.py\u001b[0m in \u001b[0;36mread_pdf\u001b[1;34m(filepath, pages, password, flavor, suppress_stdout, layout_kwargs, **kwargs)\u001b[0m\n\u001b[0;32m    111\u001b[0m         \u001b[0mp\u001b[0m \u001b[1;33m=\u001b[0m \u001b[0mPDFHandler\u001b[0m\u001b[1;33m(\u001b[0m\u001b[0mfilepath\u001b[0m\u001b[1;33m,\u001b[0m \u001b[0mpages\u001b[0m\u001b[1;33m=\u001b[0m\u001b[0mpages\u001b[0m\u001b[1;33m,\u001b[0m \u001b[0mpassword\u001b[0m\u001b[1;33m=\u001b[0m\u001b[0mpassword\u001b[0m\u001b[1;33m)\u001b[0m\u001b[1;33m\u001b[0m\u001b[1;33m\u001b[0m\u001b[0m\n\u001b[0;32m    112\u001b[0m         \u001b[0mkwargs\u001b[0m \u001b[1;33m=\u001b[0m \u001b[0mremove_extra\u001b[0m\u001b[1;33m(\u001b[0m\u001b[0mkwargs\u001b[0m\u001b[1;33m,\u001b[0m \u001b[0mflavor\u001b[0m\u001b[1;33m=\u001b[0m\u001b[0mflavor\u001b[0m\u001b[1;33m)\u001b[0m\u001b[1;33m\u001b[0m\u001b[1;33m\u001b[0m\u001b[0m\n\u001b[1;32m--> 113\u001b[1;33m         tables = p.parse(\n\u001b[0m\u001b[0;32m    114\u001b[0m             \u001b[0mflavor\u001b[0m\u001b[1;33m=\u001b[0m\u001b[0mflavor\u001b[0m\u001b[1;33m,\u001b[0m\u001b[1;33m\u001b[0m\u001b[1;33m\u001b[0m\u001b[0m\n\u001b[0;32m    115\u001b[0m             \u001b[0msuppress_stdout\u001b[0m\u001b[1;33m=\u001b[0m\u001b[0msuppress_stdout\u001b[0m\u001b[1;33m,\u001b[0m\u001b[1;33m\u001b[0m\u001b[1;33m\u001b[0m\u001b[0m\n",
      "\u001b[1;32m~\\Anaconda3\\lib\\site-packages\\camelot\\handlers.py\u001b[0m in \u001b[0;36mparse\u001b[1;34m(self, flavor, suppress_stdout, layout_kwargs, **kwargs)\u001b[0m\n\u001b[0;32m    174\u001b[0m             \u001b[0mparser\u001b[0m \u001b[1;33m=\u001b[0m \u001b[0mLattice\u001b[0m\u001b[1;33m(\u001b[0m\u001b[1;33m**\u001b[0m\u001b[0mkwargs\u001b[0m\u001b[1;33m)\u001b[0m \u001b[1;32mif\u001b[0m \u001b[0mflavor\u001b[0m \u001b[1;33m==\u001b[0m \u001b[1;34m\"lattice\"\u001b[0m \u001b[1;32melse\u001b[0m \u001b[0mStream\u001b[0m\u001b[1;33m(\u001b[0m\u001b[1;33m**\u001b[0m\u001b[0mkwargs\u001b[0m\u001b[1;33m)\u001b[0m\u001b[1;33m\u001b[0m\u001b[1;33m\u001b[0m\u001b[0m\n\u001b[0;32m    175\u001b[0m             \u001b[1;32mfor\u001b[0m \u001b[0mp\u001b[0m \u001b[1;32min\u001b[0m \u001b[0mpages\u001b[0m\u001b[1;33m:\u001b[0m\u001b[1;33m\u001b[0m\u001b[1;33m\u001b[0m\u001b[0m\n\u001b[1;32m--> 176\u001b[1;33m                 t = parser.extract_tables(\n\u001b[0m\u001b[0;32m    177\u001b[0m                     \u001b[0mp\u001b[0m\u001b[1;33m,\u001b[0m \u001b[0msuppress_stdout\u001b[0m\u001b[1;33m=\u001b[0m\u001b[0msuppress_stdout\u001b[0m\u001b[1;33m,\u001b[0m \u001b[0mlayout_kwargs\u001b[0m\u001b[1;33m=\u001b[0m\u001b[0mlayout_kwargs\u001b[0m\u001b[1;33m\u001b[0m\u001b[1;33m\u001b[0m\u001b[0m\n\u001b[0;32m    178\u001b[0m                 )\n",
      "\u001b[1;32m~\\Anaconda3\\lib\\site-packages\\camelot\\parsers\\lattice.py\u001b[0m in \u001b[0;36mextract_tables\u001b[1;34m(self, filename, suppress_stdout, layout_kwargs)\u001b[0m\n\u001b[0;32m    419\u001b[0m             \u001b[1;32mreturn\u001b[0m \u001b[1;33m[\u001b[0m\u001b[1;33m]\u001b[0m\u001b[1;33m\u001b[0m\u001b[1;33m\u001b[0m\u001b[0m\n\u001b[0;32m    420\u001b[0m \u001b[1;33m\u001b[0m\u001b[0m\n\u001b[1;32m--> 421\u001b[1;33m         \u001b[0mself\u001b[0m\u001b[1;33m.\u001b[0m\u001b[0mbackend\u001b[0m\u001b[1;33m.\u001b[0m\u001b[0mconvert\u001b[0m\u001b[1;33m(\u001b[0m\u001b[0mself\u001b[0m\u001b[1;33m.\u001b[0m\u001b[0mfilename\u001b[0m\u001b[1;33m,\u001b[0m \u001b[0mself\u001b[0m\u001b[1;33m.\u001b[0m\u001b[0mimagename\u001b[0m\u001b[1;33m)\u001b[0m\u001b[1;33m\u001b[0m\u001b[1;33m\u001b[0m\u001b[0m\n\u001b[0m\u001b[0;32m    422\u001b[0m \u001b[1;33m\u001b[0m\u001b[0m\n\u001b[0;32m    423\u001b[0m         \u001b[0mself\u001b[0m\u001b[1;33m.\u001b[0m\u001b[0m_generate_table_bbox\u001b[0m\u001b[1;33m(\u001b[0m\u001b[1;33m)\u001b[0m\u001b[1;33m\u001b[0m\u001b[1;33m\u001b[0m\u001b[0m\n",
      "\u001b[1;32m~\\Anaconda3\\lib\\site-packages\\camelot\\backends\\ghostscript_backend.py\u001b[0m in \u001b[0;36mconvert\u001b[1;34m(self, pdf_path, png_path, resolution)\u001b[0m\n\u001b[0;32m     29\u001b[0m     \u001b[1;32mdef\u001b[0m \u001b[0mconvert\u001b[0m\u001b[1;33m(\u001b[0m\u001b[0mself\u001b[0m\u001b[1;33m,\u001b[0m \u001b[0mpdf_path\u001b[0m\u001b[1;33m,\u001b[0m \u001b[0mpng_path\u001b[0m\u001b[1;33m,\u001b[0m \u001b[0mresolution\u001b[0m\u001b[1;33m=\u001b[0m\u001b[1;36m300\u001b[0m\u001b[1;33m)\u001b[0m\u001b[1;33m:\u001b[0m\u001b[1;33m\u001b[0m\u001b[1;33m\u001b[0m\u001b[0m\n\u001b[0;32m     30\u001b[0m         \u001b[1;32mif\u001b[0m \u001b[1;32mnot\u001b[0m \u001b[0mself\u001b[0m\u001b[1;33m.\u001b[0m\u001b[0minstalled\u001b[0m\u001b[1;33m(\u001b[0m\u001b[1;33m)\u001b[0m\u001b[1;33m:\u001b[0m\u001b[1;33m\u001b[0m\u001b[1;33m\u001b[0m\u001b[0m\n\u001b[1;32m---> 31\u001b[1;33m             raise OSError(\n\u001b[0m\u001b[0;32m     32\u001b[0m                 \u001b[1;34m\"Ghostscript is not installed. You can install it using the instructions\"\u001b[0m\u001b[1;33m\u001b[0m\u001b[1;33m\u001b[0m\u001b[0m\n\u001b[0;32m     33\u001b[0m                 \u001b[1;34m\" here: https://camelot-py.readthedocs.io/en/master/user/install-deps.html\"\u001b[0m\u001b[1;33m\u001b[0m\u001b[1;33m\u001b[0m\u001b[0m\n",
      "\u001b[1;31mOSError\u001b[0m: Ghostscript is not installed. You can install it using the instructions here: https://camelot-py.readthedocs.io/en/master/user/install-deps.html"
     ]
    }
   ],
   "source": [
    "tables_c = camelot.read_pdf('GST_march2022.pdf', pages='all')"
   ]
  },
  {
   "cell_type": "code",
   "execution_count": null,
   "metadata": {},
   "outputs": [],
   "source": []
  },
  {
   "cell_type": "code",
   "execution_count": null,
   "metadata": {},
   "outputs": [],
   "source": []
  }
 ],
 "metadata": {
  "kernelspec": {
   "display_name": "Python 3",
   "language": "python",
   "name": "python3"
  },
  "language_info": {
   "codemirror_mode": {
    "name": "ipython",
    "version": 3
   },
   "file_extension": ".py",
   "mimetype": "text/x-python",
   "name": "python",
   "nbconvert_exporter": "python",
   "pygments_lexer": "ipython3",
   "version": "3.8.5"
  }
 },
 "nbformat": 4,
 "nbformat_minor": 4
}
